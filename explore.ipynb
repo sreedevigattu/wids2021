{
 "nbformat": 4,
 "nbformat_minor": 2,
 "metadata": {
  "language_info": {
   "name": "python",
   "codemirror_mode": {
    "name": "ipython",
    "version": 3
   },
   "version": "3.9.1-final"
  },
  "orig_nbformat": 2,
  "file_extension": ".py",
  "mimetype": "text/x-python",
  "name": "python",
  "npconvert_exporter": "python",
  "pygments_lexer": "ipython3",
  "version": 3,
  "kernelspec": {
   "name": "python39164bitvenvvenv42d9530a45f24e7fb408333c496c5650",
   "display_name": "Python 3.9.1 64-bit ('venv': venv)"
  }
 },
 "cells": [
  {
   "cell_type": "code",
   "execution_count": 1,
   "metadata": {},
   "outputs": [],
   "source": [
    "import pandas as pd\n",
    "import numpy as np\n",
    "\n",
    "pd.options.display.float_format = '{:.2f}%'.format"
   ]
  },
  {
   "cell_type": "markdown",
   "metadata": {},
   "source": [
    "## Exploration of the identifier and demographic-1 features\n",
    "\n",
    "- **identifier** features\n",
    "    - **encounter_id**: Unique, non-repeating values. \n",
    "    - **hospital_id-icu_id**: A patient diagnosed with Diabetus Mellitus should not depend on hospital_id & it's icu_id. Each hostpital will have unique icu_ids. **DROP**\n",
    "- **demographic-1** features\n",
    "    - age, height, weight, bmi, gender, ethnicity\n",
    "    - **readmission_status**: is 0 for all rows. **DROP**\n",
    "    - Compare the training and test datasets\n",
    "    - Compare values in the training set where the dm=1 and dm=0\n",
    "- **demographic-2** features *TODO*\n",
    "    - readmission_status, elective_surgery, ....\n",
    "- **labs & vitals category**: *TODO*\n",
    "    - They have max and min values. Should these be replaced with average?\n",
    "\n"
   ],
   "execution_count": null,
   "outputs": []
  },
  {
   "cell_type": "markdown",
   "metadata": {},
   "source": [
    "## Training dataset"
   ],
   "execution_count": null,
   "outputs": []
  },
  {
   "cell_type": "code",
   "execution_count": 2,
   "metadata": {},
   "outputs": [
    {
     "output_type": "stream",
     "name": "stdout",
     "text": "Index(['Unnamed: 0', 'encounter_id', 'hospital_id', 'age', 'bmi',\n       'elective_surgery', 'ethnicity', 'gender', 'height',\n       'hospital_admit_source',\n       ...\n       'h1_pao2fio2ratio_max', 'h1_pao2fio2ratio_min', 'aids', 'cirrhosis',\n       'hepatic_failure', 'immunosuppression', 'leukemia', 'lymphoma',\n       'solid_tumor_with_metastasis', 'diabetes_mellitus'],\n      dtype='object', length=181)\n"
    },
    {
     "output_type": "execute_result",
     "data": {
      "text/plain": "       Unnamed: 0  encounter_id  hospital_id       age      bmi  \\\ncount   10234.00%     10234.00%    10234.00% 10234.00% 9219.00%   \nmean     5117.50%    140498.78%    10092.39%    62.85%   29.12%   \nstd      2954.45%      3182.46%       57.01%    17.85%    8.34%   \nmin         1.00%    135000.00%    10001.00%    18.00%   14.90%   \n25%      2559.25%    137742.25%    10043.00%    52.00%   23.70%   \n50%      5117.50%    140503.50%    10085.00%    65.00%   27.60%   \n75%      7675.75%    143252.75%    10145.00%    76.00%   32.60%   \nmax     10234.00%    146000.00%    10199.00%    96.00%   69.94%   \n\n       elective_surgery   height    icu_id  pre_icu_los_days  \\\ncount         10234.00% 9933.00% 10234.00%         10234.00%   \nmean              0.20%  169.28%   677.82%             0.83%   \nstd               0.40%   10.81%   304.12%             2.41%   \nmin               0.00%  137.00%    82.00%            -0.21%   \n25%               0.00%  162.50%   451.00%             0.03%   \n50%               0.00%  170.00%   687.00%             0.13%   \n75%               0.00%  177.80%   962.00%             0.43%   \nmax               1.00%  195.60%  1111.00%            65.95%   \n\n       readmission_status  ...  h1_arterial_po2_min  h1_pao2fio2ratio_max  \\\ncount           10234.00%  ...             1928.00%              1422.00%   \nmean                0.00%  ...              156.77%               254.69%   \nstd                 0.00%  ...              105.62%               132.09%   \nmin                 0.00%  ...               30.00%                42.62%   \n25%                 0.00%  ...               79.00%               151.40%   \n50%                 0.00%  ...              118.00%               234.00%   \n75%                 0.00%  ...              206.07%               345.52%   \nmax                 0.00%  ...              518.06%               672.82%   \n\n       h1_pao2fio2ratio_min      aids  cirrhosis  hepatic_failure  \\\ncount              1422.00% 10234.00%  10234.00%        10234.00%   \nmean                246.26%     0.00%      0.01%            0.01%   \nstd                 130.75%     0.03%      0.11%            0.10%   \nmin                  41.42%     0.00%      0.00%            0.00%   \n25%                 144.05%     0.00%      0.00%            0.00%   \n50%                 224.00%     0.00%      0.00%            0.00%   \n75%                 336.52%     0.00%      0.00%            0.00%   \nmax                 651.66%     1.00%      1.00%            1.00%   \n\n       immunosuppression  leukemia  lymphoma  solid_tumor_with_metastasis  \ncount          10234.00% 10234.00% 10234.00%                    10234.00%  \nmean               0.02%     0.01%     0.00%                        0.02%  \nstd                0.15%     0.08%     0.06%                        0.13%  \nmin                0.00%     0.00%     0.00%                        0.00%  \n25%                0.00%     0.00%     0.00%                        0.00%  \n50%                0.00%     0.00%     0.00%                        0.00%  \n75%                0.00%     0.00%     0.00%                        0.00%  \nmax                1.00%     1.00%     1.00%                        1.00%  \n\n[8 rows x 174 columns]",
      "text/html": "<div>\n<style scoped>\n    .dataframe tbody tr th:only-of-type {\n        vertical-align: middle;\n    }\n\n    .dataframe tbody tr th {\n        vertical-align: top;\n    }\n\n    .dataframe thead th {\n        text-align: right;\n    }\n</style>\n<table border=\"1\" class=\"dataframe\">\n  <thead>\n    <tr style=\"text-align: right;\">\n      <th></th>\n      <th>Unnamed: 0</th>\n      <th>encounter_id</th>\n      <th>hospital_id</th>\n      <th>age</th>\n      <th>bmi</th>\n      <th>elective_surgery</th>\n      <th>height</th>\n      <th>icu_id</th>\n      <th>pre_icu_los_days</th>\n      <th>readmission_status</th>\n      <th>...</th>\n      <th>h1_arterial_po2_min</th>\n      <th>h1_pao2fio2ratio_max</th>\n      <th>h1_pao2fio2ratio_min</th>\n      <th>aids</th>\n      <th>cirrhosis</th>\n      <th>hepatic_failure</th>\n      <th>immunosuppression</th>\n      <th>leukemia</th>\n      <th>lymphoma</th>\n      <th>solid_tumor_with_metastasis</th>\n    </tr>\n  </thead>\n  <tbody>\n    <tr>\n      <th>count</th>\n      <td>10234.00%</td>\n      <td>10234.00%</td>\n      <td>10234.00%</td>\n      <td>10234.00%</td>\n      <td>9219.00%</td>\n      <td>10234.00%</td>\n      <td>9933.00%</td>\n      <td>10234.00%</td>\n      <td>10234.00%</td>\n      <td>10234.00%</td>\n      <td>...</td>\n      <td>1928.00%</td>\n      <td>1422.00%</td>\n      <td>1422.00%</td>\n      <td>10234.00%</td>\n      <td>10234.00%</td>\n      <td>10234.00%</td>\n      <td>10234.00%</td>\n      <td>10234.00%</td>\n      <td>10234.00%</td>\n      <td>10234.00%</td>\n    </tr>\n    <tr>\n      <th>mean</th>\n      <td>5117.50%</td>\n      <td>140498.78%</td>\n      <td>10092.39%</td>\n      <td>62.85%</td>\n      <td>29.12%</td>\n      <td>0.20%</td>\n      <td>169.28%</td>\n      <td>677.82%</td>\n      <td>0.83%</td>\n      <td>0.00%</td>\n      <td>...</td>\n      <td>156.77%</td>\n      <td>254.69%</td>\n      <td>246.26%</td>\n      <td>0.00%</td>\n      <td>0.01%</td>\n      <td>0.01%</td>\n      <td>0.02%</td>\n      <td>0.01%</td>\n      <td>0.00%</td>\n      <td>0.02%</td>\n    </tr>\n    <tr>\n      <th>std</th>\n      <td>2954.45%</td>\n      <td>3182.46%</td>\n      <td>57.01%</td>\n      <td>17.85%</td>\n      <td>8.34%</td>\n      <td>0.40%</td>\n      <td>10.81%</td>\n      <td>304.12%</td>\n      <td>2.41%</td>\n      <td>0.00%</td>\n      <td>...</td>\n      <td>105.62%</td>\n      <td>132.09%</td>\n      <td>130.75%</td>\n      <td>0.03%</td>\n      <td>0.11%</td>\n      <td>0.10%</td>\n      <td>0.15%</td>\n      <td>0.08%</td>\n      <td>0.06%</td>\n      <td>0.13%</td>\n    </tr>\n    <tr>\n      <th>min</th>\n      <td>1.00%</td>\n      <td>135000.00%</td>\n      <td>10001.00%</td>\n      <td>18.00%</td>\n      <td>14.90%</td>\n      <td>0.00%</td>\n      <td>137.00%</td>\n      <td>82.00%</td>\n      <td>-0.21%</td>\n      <td>0.00%</td>\n      <td>...</td>\n      <td>30.00%</td>\n      <td>42.62%</td>\n      <td>41.42%</td>\n      <td>0.00%</td>\n      <td>0.00%</td>\n      <td>0.00%</td>\n      <td>0.00%</td>\n      <td>0.00%</td>\n      <td>0.00%</td>\n      <td>0.00%</td>\n    </tr>\n    <tr>\n      <th>25%</th>\n      <td>2559.25%</td>\n      <td>137742.25%</td>\n      <td>10043.00%</td>\n      <td>52.00%</td>\n      <td>23.70%</td>\n      <td>0.00%</td>\n      <td>162.50%</td>\n      <td>451.00%</td>\n      <td>0.03%</td>\n      <td>0.00%</td>\n      <td>...</td>\n      <td>79.00%</td>\n      <td>151.40%</td>\n      <td>144.05%</td>\n      <td>0.00%</td>\n      <td>0.00%</td>\n      <td>0.00%</td>\n      <td>0.00%</td>\n      <td>0.00%</td>\n      <td>0.00%</td>\n      <td>0.00%</td>\n    </tr>\n    <tr>\n      <th>50%</th>\n      <td>5117.50%</td>\n      <td>140503.50%</td>\n      <td>10085.00%</td>\n      <td>65.00%</td>\n      <td>27.60%</td>\n      <td>0.00%</td>\n      <td>170.00%</td>\n      <td>687.00%</td>\n      <td>0.13%</td>\n      <td>0.00%</td>\n      <td>...</td>\n      <td>118.00%</td>\n      <td>234.00%</td>\n      <td>224.00%</td>\n      <td>0.00%</td>\n      <td>0.00%</td>\n      <td>0.00%</td>\n      <td>0.00%</td>\n      <td>0.00%</td>\n      <td>0.00%</td>\n      <td>0.00%</td>\n    </tr>\n    <tr>\n      <th>75%</th>\n      <td>7675.75%</td>\n      <td>143252.75%</td>\n      <td>10145.00%</td>\n      <td>76.00%</td>\n      <td>32.60%</td>\n      <td>0.00%</td>\n      <td>177.80%</td>\n      <td>962.00%</td>\n      <td>0.43%</td>\n      <td>0.00%</td>\n      <td>...</td>\n      <td>206.07%</td>\n      <td>345.52%</td>\n      <td>336.52%</td>\n      <td>0.00%</td>\n      <td>0.00%</td>\n      <td>0.00%</td>\n      <td>0.00%</td>\n      <td>0.00%</td>\n      <td>0.00%</td>\n      <td>0.00%</td>\n    </tr>\n    <tr>\n      <th>max</th>\n      <td>10234.00%</td>\n      <td>146000.00%</td>\n      <td>10199.00%</td>\n      <td>96.00%</td>\n      <td>69.94%</td>\n      <td>1.00%</td>\n      <td>195.60%</td>\n      <td>1111.00%</td>\n      <td>65.95%</td>\n      <td>0.00%</td>\n      <td>...</td>\n      <td>518.06%</td>\n      <td>672.82%</td>\n      <td>651.66%</td>\n      <td>1.00%</td>\n      <td>1.00%</td>\n      <td>1.00%</td>\n      <td>1.00%</td>\n      <td>1.00%</td>\n      <td>1.00%</td>\n      <td>1.00%</td>\n    </tr>\n  </tbody>\n</table>\n<p>8 rows × 174 columns</p>\n</div>"
     },
     "metadata": {},
     "execution_count": 2
    }
   ],
   "source": [
    "df_train = pd.read_csv(\"data/TrainingWiDS2021.csv\")\n",
    "df_train.describe()\n",
    "print(df_train.columns)\n",
    "\n",
    "df_test = pd.read_csv(\"data/UnlabeledWiDS2021.csv\")\n",
    "df_test.describe()"
   ]
  },
  {
   "cell_type": "code",
   "execution_count": 3,
   "metadata": {},
   "outputs": [],
   "source": [
    "def _describe(df, df_type):\n",
    "    m_total = 'Entries - Total:'\n",
    "    m_features = \"Features:\"\n",
    "\n",
    "    print(\"-\"*40)\n",
    "    print(f\"{df_type} dataset - details\")\n",
    "    print(\"-\"*40)\n",
    "    print(f\"{m_total:33} {df.shape[0]:6}\")\n",
    "\n",
    "    df_dm_1 = df_dm_0 = pd.DataFrame()\n",
    "    if df_type != \"Testing\":\n",
    "        df_dm_1  = df[df['diabetes_mellitus']==1]; df_dm_1.to_csv(f\"{df_type}_dm_1.csv\")\n",
    "        df_dm_0  = df[df['diabetes_mellitus']==0]; df_dm_0.to_csv(f\"{df_type}_dm_0.csv\")\n",
    "        print(f\"Entries - diabetes_mellitus = 1: {df_dm_1.shape[0]:7} {100 * df_dm_1.shape[0]/df.shape[0]:0.2f}%\")\n",
    "        print(f\"Entries - diabetes_mellitus = 0: {df_dm_0.shape[0]:7} {100 * df_dm_0.shape[0]/df.shape[0]:0.2f}%\")\n",
    "    print(f\"{m_features:33} {len(df.columns):6}\")\n",
    "    return df.shape[0], df_dm_1, df_dm_0\n",
    ""
   ]
  },
  {
   "cell_type": "code",
   "execution_count": 127,
   "metadata": {},
   "outputs": [],
   "source": [
    "def _col_describe(df):\n",
    "    for col in ['age', 'gender', 'ethnicity', 'weight', 'height', 'bmi']:\n",
    "        print(f\"{col:10}: {df[df[col].isnull()].shape[0]:4}\")\n",
    "        \n",
    "    print(\"readmission_status\", df_train['readmission_status'].unique())"
   ]
  },
  {
   "cell_type": "code",
   "execution_count": 5,
   "metadata": {},
   "outputs": [],
   "source": [
    "AGE_BINS = [-0.1, 0, 15.9, 20, 40, 60, 90, 120]\n",
    "def _agedist(df, df_name):\n",
    "    total_count = df.shape[0]\n",
    "    nan_count = df[df['age'].isnull()].shape[0]\n",
    "    nan_pc = nan_count/total_count\n",
    "\n",
    "    ages = df['age'].unique()\n",
    "    ages.sort()\n",
    "    # Since age has 0.0 values, these should be ignored/replaced\n",
    "    min_age = ages[1]\n",
    "    print(f\"Invalid age: {df[df['age']==0.0]['age'].count()} Min: {df['age'].min():0.2f} Max: {df['age'].max():0.2f}\")\n",
    "\n",
    "    # Group the ages based on the age-groups\n",
    "    bins = pd.cut(df['age'], AGE_BINS)\n",
    "    df_age = df.groupby(bins)['age'].agg(['count'])\n",
    "    df_age = df_age.reset_index()\n",
    "\n",
    "    # Append the null value counts\n",
    "    df_age = df_age.append(pd.DataFrame([['null', nan_count]], columns = ['age', f'count']))\n",
    "\n",
    "    # Add a percentage column\n",
    "    df_age[f'{df_name}_%'] = 100 * df_age['count']/total_count\n",
    "    df_age = df_age.rename(columns = {'count':f\"{df_name}_count\"})\n",
    "\n",
    "    print(df_age)\n",
    "    print(f\"Verification:   {df_name}_count: {df_age[f'{df_name}_count'].sum()} \"\n",
    "          f\"{df_name}_%: {df_age[f'{df_name}_%'].sum():0.1f}%\")\n",
    "    return df_age, nan_count, nan_pc"
   ]
  },
  {
   "cell_type": "code",
   "execution_count": 6,
   "metadata": {},
   "outputs": [],
   "source": [
    "# underweight, normal, overweight, obese\n",
    "BMI_BINS = [0, 18.5, 24.9, 30, 70] \n",
    "BMI_LABELS = [    '[0.0-18.5] underweight',\n",
    "                            '[18.5-24.9] normal weight',\n",
    "                            '[30-70] over weight',\n",
    "                            '[70<] obese']\n",
    "def _bmidist(df, df_name):\n",
    "    total_count = df.shape[0]\n",
    "    nan_count = df[df['bmi'].isnull()].shape[0]\n",
    "    nan_pc = nan_count/total_count\n",
    "    print(f\"Min: {df['bmi'].min():0.2f} Max: {df['bmi'].max():0.2f}\")\n",
    "\n",
    "    # Group the values based on the bmi-categories\n",
    "    bins = pd.cut(df['bmi'], BMI_BINS, labels=BMI_LABELS)\n",
    "    df_bmi = df.groupby(bins)['bmi'].agg(['count'])\n",
    "    df_bmi = df_bmi.reset_index()\n",
    "\n",
    "    # Append the null value counts\n",
    "    df_bmi = df_bmi.append(pd.DataFrame([['null', nan_count]], columns = ['bmi', f'count']))\n",
    "\n",
    "    # Add a percentage column\n",
    "    df_bmi[f\"{df_name}_%\"] = 100 * df_bmi['count']/total_count\n",
    "    df_bmi = df_bmi.rename(columns = {'count':f\"{df_name}_count\"})\n",
    "\n",
    "    print(df_bmi)\n",
    "    print(f\"Verification:   {df_name}_count: {df_bmi[f'{df_name}_count'].sum()} \"\n",
    "          f\"{df_name}_%: {df_bmi[f'{df_name}_%'].sum():0.1f}%\")\n",
    "    return df_bmi, nan_count, nan_pc"
   ]
  },
  {
   "cell_type": "code",
   "execution_count": 104,
   "metadata": {},
   "outputs": [],
   "source": [
    "def _categoricalvardist(df, df_name, catvar, total_count=-1):\n",
    "    if total_count == -1:\n",
    "        total_count = df.shape[0]\n",
    "        \n",
    "    nan_count = df[df[catvar].isnull()].shape[0]\n",
    "    nan_pc = nan_count/total_count\n",
    "\n",
    "    df_catvar = df.groupby([catvar]).count()['encounter_id'].sort_values(ascending=False).reset_index()\n",
    "    df_catvar = df_catvar.rename(columns = {'encounter_id':'count'})\n",
    "\n",
    "    # Append the null value counts\n",
    "    df_catvar = df_catvar.append(pd.DataFrame([['null', nan_count]], columns = [catvar, f'count']))\n",
    "\n",
    "    # Add a percentage column\n",
    "    df_catvar[f\"{df_name}_%\"] = 100 * df_catvar['count']/total_count\n",
    "    df_catvar = df_catvar.rename(columns = {'count':f\"{df_name}_count\"})\n",
    "\n",
    "    print(df_catvar)\n",
    "    print(f\"Verification:   {df_name}_count: {df_catvar[f'{df_name}_count'].sum()} \"\n",
    "          f\"{df_name}_%: {df_catvar[f'{df_name}_%'].sum():0.1f}%\")\n",
    "    return df_catvar, nan_count, nan_pc"
   ]
  },
  {
   "cell_type": "code",
   "execution_count": 100,
   "metadata": {},
   "outputs": [],
   "source": [
    "def _compare(feature, df1, df2, col1, col2):\n",
    "    df = df1.join(df2.set_index(feature), on=feature)\n",
    "    print(f\"{feature}: {col1}: {df1[f'{col1}'].sum():0.1f}% {col2}: {df2[f'{col2}'].sum():0.1f}%\")\n",
    "    return df"
   ]
  },
  {
   "cell_type": "markdown",
   "metadata": {},
   "source": [
    "## Train Dataset"
   ],
   "execution_count": null,
   "outputs": []
  },
  {
   "cell_type": "code",
   "execution_count": 10,
   "metadata": {},
   "outputs": [
    {
     "output_type": "stream",
     "name": "stdout",
     "text": "----------------------------------------\nTraining dataset - details\n----------------------------------------\nEntries - Total:                  130157\nEntries - diabetes_mellitus = 1:   28151 21.63%\nEntries - diabetes_mellitus = 0:  102006 78.37%\nFeatures:                            181\n"
    }
   ],
   "source": [
    "train_count, df_train_dm_1, df_train_dm_0 = _describe(df_train, \"Training\")"
   ]
  },
  {
   "cell_type": "code",
   "execution_count": 128,
   "metadata": {},
   "outputs": [
    {
     "output_type": "stream",
     "name": "stdout",
     "text": "age       : 4988\ngender    :   66\nethnicity : 1587\nweight    : 3463\nheight    : 2077\nbmi       : 4490\nreadmission_status [0]\n"
    }
   ],
   "source": [
    "_col_describe(df_train)\n",
    ""
   ]
  },
  {
   "cell_type": "code",
   "execution_count": 102,
   "metadata": {},
   "outputs": [
    {
     "output_type": "stream",
     "name": "stdout",
     "text": "Invalid age: 30 Min: 0.00 Max: 89.00\n             age  train_count  train_%\n0    (-0.1, 0.0]           30    0.02%\n1    (0.0, 15.9]            0    0.00%\n2   (15.9, 20.0]         1605    1.23%\n3   (20.0, 40.0]        13648   10.49%\n4   (40.0, 60.0]        37003   28.43%\n5   (60.0, 90.0]        72883   56.00%\n6  (90.0, 120.0]            0    0.00%\n0           null         4988    3.83%\nVerification:   train_count: 130157 train_%: 100.0%\nMin: 14.84 Max: 67.81\n                         bmi  train_count  train_%\n0     [0.0-18.5] underweight         5323    4.09%\n1  [18.5-24.9] normal weight        36015   27.67%\n2        [30-70] over weight        38010   29.20%\n3                [70<] obese        46319   35.59%\n0                       null         4490    3.45%\nVerification:   train_count: 130157 train_%: 100.0%\n_categoricalvardist\n  gender  train_count  train_%\n0      M        70518   54.18%\n1      F        59573   45.77%\n0   null           66    0.05%\nVerification:   train_count: 130157 train_%: 100.0%\n_categoricalvardist\n          ethnicity  train_count  train_%\n0         Caucasian       100236   77.01%\n1  African American        13911   10.69%\n2     Other/Unknown         6261    4.81%\n3          Hispanic         5049    3.88%\n4             Asian         2198    1.69%\n5   Native American          915    0.70%\n0              null         1587    1.22%\nVerification:   train_count: 130157 train_%: 100.0%\n"
    }
   ],
   "source": [
    "df_train_age, train_age_nan, train_age_nanpc = _agedist(df_train, \"train\")\n",
    "df_train_bmi, train_bmi_nan, train_bmi_nanpc = _bmidist(df_train, \"train\")\n",
    "df_train_gender, nan_count, nan_pc = _categoricalvardist(df_train, 'train', 'gender')\n",
    "df_train_ethnicity, nan_count, nan_pc = _categoricalvardist(df_train, 'train', 'ethnicity')"
   ]
  },
  {
   "cell_type": "markdown",
   "metadata": {},
   "source": [
    "### Train - diabetes_mellitus = 1"
   ],
   "execution_count": null,
   "outputs": []
  },
  {
   "cell_type": "code",
   "execution_count": 109,
   "metadata": {},
   "outputs": [
    {
     "output_type": "stream",
     "name": "stdout",
     "text": "Invalid age: 3 Min: 0.00 Max: 89.00\n             age  train_dm_1_count  train_dm_1_%\n0    (-0.1, 0.0]                 3         0.01%\n1    (0.0, 15.9]                 0         0.00%\n2   (15.9, 20.0]               183         0.65%\n3   (20.0, 40.0]              1644         5.84%\n4   (40.0, 60.0]              7579        26.92%\n5   (60.0, 90.0]             18082        64.23%\n6  (90.0, 120.0]                 0         0.00%\n0           null               660         2.34%\nVerification:   train_dm_1_count: 28151 train_dm_1_%: 100.0%\nMin: 14.84 Max: 67.81\n                         bmi  train_dm_1_count  train_dm_1_%\n0     [0.0-18.5] underweight               597         2.12%\n1  [18.5-24.9] normal weight              5268        18.71%\n2        [30-70] over weight              7503        26.65%\n3                [70<] obese             13868        49.26%\n0                       null               915         3.25%\nVerification:   train_dm_1_count: 28151 train_dm_1_%: 100.0%\n  gender  train_dm_1_count  train_dm_1_%\n0      M             15420        54.78%\n1      F             12726        45.21%\n0   null                 5         0.02%\nVerification:   train_dm_1_count: 28151 train_dm_1_%: 100.0%\n          ethnicity  train_dm_1_count  train_dm_1_%\n0         Caucasian             20605        73.19%\n1  African American              3654        12.98%\n2     Other/Unknown              1595         5.67%\n3          Hispanic              1243         4.42%\n4             Asian               538         1.91%\n5   Native American               294         1.04%\n0              null               222         0.79%\nVerification:   train_dm_1_count: 28151 train_dm_1_%: 100.0%\n"
    }
   ],
   "source": [
    "df_train_dm_1_age, train_dm_1_age_nan, train_dm_1_age_nanpc = _agedist(df_train_dm_1, \"train_dm_1\")\n",
    "df_train_dm_1_bmi, train_dm_1_bmi_nan, train_dm_1_bmi_nanpc = _bmidist(df_train_dm_1, \"train_dm_1\")\n",
    "df_train_dm_1_gender, train_dm_1_gender_nan, train_dm_1_gender_nanpc = _categoricalvardist(df_train_dm_1, 'train_dm_1', 'gender')\n",
    "df_train_dm_1_ethnicity, train_dm_1_ethnicity_nan, train_dm_1_ethnicity_nanpc = _categoricalvardist(df_train_dm_1, 'train_dm_1', 'ethnicity')"
   ]
  },
  {
   "cell_type": "markdown",
   "metadata": {},
   "source": [
    "### Train - diabetes_mellitus = 0"
   ],
   "execution_count": null,
   "outputs": []
  },
  {
   "cell_type": "code",
   "execution_count": 110,
   "metadata": {},
   "outputs": [
    {
     "output_type": "stream",
     "name": "stdout",
     "text": "Invalid age: 27 Min: 0.00 Max: 89.00\n             age  train_dm_0_count  train_dm_0_%\n0    (-0.1, 0.0]                27         0.03%\n1    (0.0, 15.9]                 0         0.00%\n2   (15.9, 20.0]              1422         1.39%\n3   (20.0, 40.0]             12004        11.77%\n4   (40.0, 60.0]             29424        28.85%\n5   (60.0, 90.0]             54801        53.72%\n6  (90.0, 120.0]                 0         0.00%\n0           null              4328         4.24%\nVerification:   train_dm_0_count: 102006 train_dm_0_%: 100.0%\nMin: 14.84 Max: 67.81\n                         bmi  train_dm_0_count  train_dm_0_%\n0     [0.0-18.5] underweight              4726         4.63%\n1  [18.5-24.9] normal weight             30747        30.14%\n2        [30-70] over weight             30507        29.91%\n3                [70<] obese             32451        31.81%\n0                       null              3575         3.50%\nVerification:   train_dm_0_count: 102006 train_dm_0_%: 100.0%\n  gender  train_dm_0_count  train_dm_0_%\n0      M             55098        54.01%\n1      F             46847        45.93%\n0   null                61         0.06%\nVerification:   train_dm_0_count: 102006 train_dm_0_%: 100.0%\n          ethnicity  train_dm_0_count  train_dm_0_%\n0         Caucasian             79631        78.07%\n1  African American             10257        10.06%\n2     Other/Unknown              4666         4.57%\n3          Hispanic              3806         3.73%\n4             Asian              1660         1.63%\n5   Native American               621         0.61%\n0              null              1365         1.34%\nVerification:   train_dm_0_count: 102006 train_dm_0_%: 100.0%\n"
    }
   ],
   "source": [
    "df_train_dm_0_age, train_dm_0_age_nan, train_dm_0_age_nanpc = _agedist(df_train_dm_0, \"train_dm_0\")\n",
    "df_train_dm_0_bmi, train_dm_0_bmi_nan, train_dm_0_bmi_nanpc = _bmidist(df_train_dm_0, \"train_dm_0\")\n",
    "df_train_dm_0_gender, train_dm_0_gender_nan, train_dm_0_gender_nanpc = _categoricalvardist(df_train_dm_0, 'train_dm_0', 'gender')\n",
    "df_train_dm_0_ethnicity, train_dm_0_ethnicity_nan, train_dm_0_ethnicity_nanpc = _categoricalvardist(df_train_dm_0, 'train_dm_0', 'ethnicity')"
   ]
  },
  {
   "cell_type": "markdown",
   "metadata": {},
   "source": [
    "## Test Dataframe"
   ],
   "execution_count": null,
   "outputs": []
  },
  {
   "cell_type": "code",
   "execution_count": 129,
   "metadata": {},
   "outputs": [
    {
     "output_type": "stream",
     "name": "stdout",
     "text": "----------------------------------------\nTesting dataset - details\n----------------------------------------\nEntries - Total:                   10234\nFeatures:                            180\nage       :    0\ngender    :    5\nethnicity :  204\nweight    :  908\nheight    :  301\nbmi       : 1015\nreadmission_status [0]\n"
    }
   ],
   "source": [
    "test_count, _, _ = _describe(df_test, \"Testing\")\n",
    "_col_describe(df_test)"
   ]
  },
  {
   "cell_type": "code",
   "execution_count": 94,
   "metadata": {},
   "outputs": [
    {
     "output_type": "stream",
     "name": "stdout",
     "text": "Invalid age: 0 Min: 18.00 Max: 96.00\n             age  test_count  test_%\n0    (-0.1, 0.0]           0   0.00%\n1    (0.0, 15.9]           0   0.00%\n2   (15.9, 20.0]         180   1.76%\n3   (20.0, 40.0]        1075  10.50%\n4   (40.0, 60.0]        2939  28.72%\n5   (60.0, 90.0]        5753  56.21%\n6  (90.0, 120.0]         287   2.80%\n0           null           0   0.00%\nVerification:   test_count: 10234 test_%: 100.0%\nMin: 14.90 Max: 69.94\n                         bmi  test_count  test_%\n0     [0.0-18.5] underweight         388   3.79%\n1  [18.5-24.9] normal weight        2651  25.90%\n2        [30-70] over weight        2863  27.98%\n3                [70<] obese        3317  32.41%\n0                       null        1015   9.92%\nVerification:   test_count: 10234 test_%: 100.0%\n_categoricalvardist\n  gender  test_count  test_%\n0      M        5525  53.99%\n1      F        4704  45.96%\n0   null           5   0.05%\nVerification:   test_count: 10234 test_%: 100.0%\n_categoricalvardist\n          ethnicity  test_count  test_%\n0         Caucasian        7939  77.57%\n1  African American         931   9.10%\n2          Hispanic         471   4.60%\n3     Other/Unknown         435   4.25%\n4             Asian         171   1.67%\n5   Native American          83   0.81%\n0              null         204   1.99%\nVerification:   test_count: 10234 test_%: 100.0%\n"
    }
   ],
   "source": [
    "df_test_age, test_age_nan, test_age_nanpc = _agedist(df_test, \"test\")\n",
    "df_test_bmi, test_bmi_nan, test_bmi_nanpc = _bmidist(df_test, \"test\")\n",
    "df_test_gender, test_gender_nan, test_gender_nanpc = _categoricalvardist(df_test, 'test', 'gender')\n",
    "df_test_ethnicity, test_ethnicity_nan, test_ethnicity_nanpc = _categoricalvardist(df_test, 'test', 'ethnicity')"
   ]
  },
  {
   "cell_type": "code",
   "execution_count": 66,
   "metadata": {},
   "outputs": [],
   "source": [
    "def _comparedf(df1, df2, col1, col2, feature):\n",
    "    df = df1.join(df2.set_index(feature), on=feature)\n",
    "    print(f\"{feature}: {col1}: {df[f'{col1}'].sum():.2f}% {col2}: {df[f'{col2}'].sum():.2f}%\")\n",
    "    return df"
   ]
  },
  {
   "cell_type": "code",
   "execution_count": 82,
   "metadata": {},
   "outputs": [
    {
     "output_type": "stream",
     "name": "stdout",
     "text": "age: train_dm_1_%: 100.0% train_dm_0_%: 100.00%\n"
    },
    {
     "output_type": "execute_result",
     "data": {
      "text/plain": "             age  train_dm_1_count  train_dm_1_%  train_dm_0_count  \\\n0    (-0.1, 0.0]                 3         0.01%                27   \n1    (0.0, 15.9]                 0         0.00%                 0   \n2   (15.9, 20.0]               183         0.65%              1422   \n3   (20.0, 40.0]              1644         5.84%             12004   \n4   (40.0, 60.0]              7579        26.92%             29424   \n5   (60.0, 90.0]             18082        64.23%             54801   \n6  (90.0, 120.0]                 0         0.00%                 0   \n0           null               660         2.34%              4328   \n\n   train_dm_0_%  \n0         0.03%  \n1         0.00%  \n2         1.39%  \n3        11.77%  \n4        28.85%  \n5        53.72%  \n6         0.00%  \n0         4.24%  ",
      "text/html": "<div>\n<style scoped>\n    .dataframe tbody tr th:only-of-type {\n        vertical-align: middle;\n    }\n\n    .dataframe tbody tr th {\n        vertical-align: top;\n    }\n\n    .dataframe thead th {\n        text-align: right;\n    }\n</style>\n<table border=\"1\" class=\"dataframe\">\n  <thead>\n    <tr style=\"text-align: right;\">\n      <th></th>\n      <th>age</th>\n      <th>train_dm_1_count</th>\n      <th>train_dm_1_%</th>\n      <th>train_dm_0_count</th>\n      <th>train_dm_0_%</th>\n    </tr>\n  </thead>\n  <tbody>\n    <tr>\n      <th>0</th>\n      <td>(-0.1, 0.0]</td>\n      <td>3</td>\n      <td>0.01%</td>\n      <td>27</td>\n      <td>0.03%</td>\n    </tr>\n    <tr>\n      <th>1</th>\n      <td>(0.0, 15.9]</td>\n      <td>0</td>\n      <td>0.00%</td>\n      <td>0</td>\n      <td>0.00%</td>\n    </tr>\n    <tr>\n      <th>2</th>\n      <td>(15.9, 20.0]</td>\n      <td>183</td>\n      <td>0.65%</td>\n      <td>1422</td>\n      <td>1.39%</td>\n    </tr>\n    <tr>\n      <th>3</th>\n      <td>(20.0, 40.0]</td>\n      <td>1644</td>\n      <td>5.84%</td>\n      <td>12004</td>\n      <td>11.77%</td>\n    </tr>\n    <tr>\n      <th>4</th>\n      <td>(40.0, 60.0]</td>\n      <td>7579</td>\n      <td>26.92%</td>\n      <td>29424</td>\n      <td>28.85%</td>\n    </tr>\n    <tr>\n      <th>5</th>\n      <td>(60.0, 90.0]</td>\n      <td>18082</td>\n      <td>64.23%</td>\n      <td>54801</td>\n      <td>53.72%</td>\n    </tr>\n    <tr>\n      <th>6</th>\n      <td>(90.0, 120.0]</td>\n      <td>0</td>\n      <td>0.00%</td>\n      <td>0</td>\n      <td>0.00%</td>\n    </tr>\n    <tr>\n      <th>0</th>\n      <td>null</td>\n      <td>660</td>\n      <td>2.34%</td>\n      <td>4328</td>\n      <td>4.24%</td>\n    </tr>\n  </tbody>\n</table>\n</div>"
     },
     "metadata": {},
     "execution_count": 82
    }
   ],
   "source": [
    "_compare('age', df_train_dm_1_age, df_train_dm_0_age, 'train_dm_1_%', 'train_dm_0_%')"
   ]
  },
  {
   "cell_type": "code",
   "execution_count": 84,
   "metadata": {},
   "outputs": [
    {
     "output_type": "stream",
     "name": "stdout",
     "text": "bmi: train_dm_1_%: 100.0% train_dm_0_%: 100.0%\n"
    },
    {
     "output_type": "execute_result",
     "data": {
      "text/plain": "                         bmi  train_dm_1_count  train_dm_1_%  \\\n0     [0.0-18.5] underweight               597         2.12%   \n1  [18.5-24.9] normal weight              5268        18.71%   \n2        [30-70] over weight              7503        26.65%   \n3                [70<] obese             13868        49.26%   \n0                       null               915         3.25%   \n\n   train_dm_0_count  train_dm_0_%  \n0              4726         4.63%  \n1             30747        30.14%  \n2             30507        29.91%  \n3             32451        31.81%  \n0              3575         3.50%  ",
      "text/html": "<div>\n<style scoped>\n    .dataframe tbody tr th:only-of-type {\n        vertical-align: middle;\n    }\n\n    .dataframe tbody tr th {\n        vertical-align: top;\n    }\n\n    .dataframe thead th {\n        text-align: right;\n    }\n</style>\n<table border=\"1\" class=\"dataframe\">\n  <thead>\n    <tr style=\"text-align: right;\">\n      <th></th>\n      <th>bmi</th>\n      <th>train_dm_1_count</th>\n      <th>train_dm_1_%</th>\n      <th>train_dm_0_count</th>\n      <th>train_dm_0_%</th>\n    </tr>\n  </thead>\n  <tbody>\n    <tr>\n      <th>0</th>\n      <td>[0.0-18.5] underweight</td>\n      <td>597</td>\n      <td>2.12%</td>\n      <td>4726</td>\n      <td>4.63%</td>\n    </tr>\n    <tr>\n      <th>1</th>\n      <td>[18.5-24.9] normal weight</td>\n      <td>5268</td>\n      <td>18.71%</td>\n      <td>30747</td>\n      <td>30.14%</td>\n    </tr>\n    <tr>\n      <th>2</th>\n      <td>[30-70] over weight</td>\n      <td>7503</td>\n      <td>26.65%</td>\n      <td>30507</td>\n      <td>29.91%</td>\n    </tr>\n    <tr>\n      <th>3</th>\n      <td>[70&lt;] obese</td>\n      <td>13868</td>\n      <td>49.26%</td>\n      <td>32451</td>\n      <td>31.81%</td>\n    </tr>\n    <tr>\n      <th>0</th>\n      <td>null</td>\n      <td>915</td>\n      <td>3.25%</td>\n      <td>3575</td>\n      <td>3.50%</td>\n    </tr>\n  </tbody>\n</table>\n</div>"
     },
     "metadata": {},
     "execution_count": 84
    }
   ],
   "source": [
    "_compare('bmi', df_train_dm_1_bmi, df_train_dm_0_bmi, 'train_dm_1_%', 'train_dm_0_%')"
   ]
  },
  {
   "cell_type": "code",
   "execution_count": 111,
   "metadata": {},
   "outputs": [
    {
     "output_type": "stream",
     "name": "stdout",
     "text": "gender: train_dm_1_%: 100.0% train_dm_0_%: 100.0%\n"
    },
    {
     "output_type": "execute_result",
     "data": {
      "text/plain": "  gender  train_dm_1_count  train_dm_1_%  train_dm_0_count  train_dm_0_%\n0      M             15420        54.78%             55098        54.01%\n1      F             12726        45.21%             46847        45.93%\n0   null                 5         0.02%                61         0.06%",
      "text/html": "<div>\n<style scoped>\n    .dataframe tbody tr th:only-of-type {\n        vertical-align: middle;\n    }\n\n    .dataframe tbody tr th {\n        vertical-align: top;\n    }\n\n    .dataframe thead th {\n        text-align: right;\n    }\n</style>\n<table border=\"1\" class=\"dataframe\">\n  <thead>\n    <tr style=\"text-align: right;\">\n      <th></th>\n      <th>gender</th>\n      <th>train_dm_1_count</th>\n      <th>train_dm_1_%</th>\n      <th>train_dm_0_count</th>\n      <th>train_dm_0_%</th>\n    </tr>\n  </thead>\n  <tbody>\n    <tr>\n      <th>0</th>\n      <td>M</td>\n      <td>15420</td>\n      <td>54.78%</td>\n      <td>55098</td>\n      <td>54.01%</td>\n    </tr>\n    <tr>\n      <th>1</th>\n      <td>F</td>\n      <td>12726</td>\n      <td>45.21%</td>\n      <td>46847</td>\n      <td>45.93%</td>\n    </tr>\n    <tr>\n      <th>0</th>\n      <td>null</td>\n      <td>5</td>\n      <td>0.02%</td>\n      <td>61</td>\n      <td>0.06%</td>\n    </tr>\n  </tbody>\n</table>\n</div>"
     },
     "metadata": {},
     "execution_count": 111
    }
   ],
   "source": [
    "_compare('gender', df_train_dm_1_gender, df_train_dm_0_gender, 'train_dm_1_%', 'train_dm_0_%')"
   ]
  },
  {
   "cell_type": "code",
   "execution_count": 112,
   "metadata": {},
   "outputs": [
    {
     "output_type": "stream",
     "name": "stdout",
     "text": "ethnicity: train_dm_1_%: 100.0% train_dm_0_%: 100.0%\n"
    },
    {
     "output_type": "execute_result",
     "data": {
      "text/plain": "          ethnicity  train_dm_1_count  train_dm_1_%  train_dm_0_count  \\\n0         Caucasian             20605        73.19%             79631   \n1  African American              3654        12.98%             10257   \n2     Other/Unknown              1595         5.67%              4666   \n3          Hispanic              1243         4.42%              3806   \n4             Asian               538         1.91%              1660   \n5   Native American               294         1.04%               621   \n0              null               222         0.79%              1365   \n\n   train_dm_0_%  \n0        78.07%  \n1        10.06%  \n2         4.57%  \n3         3.73%  \n4         1.63%  \n5         0.61%  \n0         1.34%  ",
      "text/html": "<div>\n<style scoped>\n    .dataframe tbody tr th:only-of-type {\n        vertical-align: middle;\n    }\n\n    .dataframe tbody tr th {\n        vertical-align: top;\n    }\n\n    .dataframe thead th {\n        text-align: right;\n    }\n</style>\n<table border=\"1\" class=\"dataframe\">\n  <thead>\n    <tr style=\"text-align: right;\">\n      <th></th>\n      <th>ethnicity</th>\n      <th>train_dm_1_count</th>\n      <th>train_dm_1_%</th>\n      <th>train_dm_0_count</th>\n      <th>train_dm_0_%</th>\n    </tr>\n  </thead>\n  <tbody>\n    <tr>\n      <th>0</th>\n      <td>Caucasian</td>\n      <td>20605</td>\n      <td>73.19%</td>\n      <td>79631</td>\n      <td>78.07%</td>\n    </tr>\n    <tr>\n      <th>1</th>\n      <td>African American</td>\n      <td>3654</td>\n      <td>12.98%</td>\n      <td>10257</td>\n      <td>10.06%</td>\n    </tr>\n    <tr>\n      <th>2</th>\n      <td>Other/Unknown</td>\n      <td>1595</td>\n      <td>5.67%</td>\n      <td>4666</td>\n      <td>4.57%</td>\n    </tr>\n    <tr>\n      <th>3</th>\n      <td>Hispanic</td>\n      <td>1243</td>\n      <td>4.42%</td>\n      <td>3806</td>\n      <td>3.73%</td>\n    </tr>\n    <tr>\n      <th>4</th>\n      <td>Asian</td>\n      <td>538</td>\n      <td>1.91%</td>\n      <td>1660</td>\n      <td>1.63%</td>\n    </tr>\n    <tr>\n      <th>5</th>\n      <td>Native American</td>\n      <td>294</td>\n      <td>1.04%</td>\n      <td>621</td>\n      <td>0.61%</td>\n    </tr>\n    <tr>\n      <th>0</th>\n      <td>null</td>\n      <td>222</td>\n      <td>0.79%</td>\n      <td>1365</td>\n      <td>1.34%</td>\n    </tr>\n  </tbody>\n</table>\n</div>"
     },
     "metadata": {},
     "execution_count": 112
    }
   ],
   "source": [
    "_compare('ethnicity', df_train_dm_1_ethnicity, df_train_dm_0_ethnicity, 'train_dm_1_%', 'train_dm_0_%')"
   ]
  },
  {
   "cell_type": "markdown",
   "metadata": {},
   "source": [
    "## Features Train DM = 1 Vs DM = 0\n",
    "How are the features in the case where the dm=1 in comparison with the case where dm=0?"
   ],
   "execution_count": null,
   "outputs": []
  },
  {
   "cell_type": "code",
   "execution_count": 67,
   "metadata": {},
   "outputs": [
    {
     "output_type": "stream",
     "name": "stdout",
     "text": "age: train_dm_1_%: 100.00% train_dm_0_%: 100.00%\n"
    },
    {
     "output_type": "execute_result",
     "data": {
      "text/plain": "             age  train_dm_1_count  train_dm_1_%  train_dm_0_count  \\\n0    (-0.1, 0.0]                 3         0.01%                27   \n1    (0.0, 15.9]                 0         0.00%                 0   \n2   (15.9, 20.0]               183         0.65%              1422   \n3   (20.0, 40.0]              1644         5.84%             12004   \n4   (40.0, 60.0]              7579        26.92%             29424   \n5   (60.0, 90.0]             18082        64.23%             54801   \n6  (90.0, 120.0]                 0         0.00%                 0   \n0           null               660         2.34%              4328   \n\n   train_dm_0_%  \n0         0.03%  \n1         0.00%  \n2         1.39%  \n3        11.77%  \n4        28.85%  \n5        53.72%  \n6         0.00%  \n0         4.24%  ",
      "text/html": "<div>\n<style scoped>\n    .dataframe tbody tr th:only-of-type {\n        vertical-align: middle;\n    }\n\n    .dataframe tbody tr th {\n        vertical-align: top;\n    }\n\n    .dataframe thead th {\n        text-align: right;\n    }\n</style>\n<table border=\"1\" class=\"dataframe\">\n  <thead>\n    <tr style=\"text-align: right;\">\n      <th></th>\n      <th>age</th>\n      <th>train_dm_1_count</th>\n      <th>train_dm_1_%</th>\n      <th>train_dm_0_count</th>\n      <th>train_dm_0_%</th>\n    </tr>\n  </thead>\n  <tbody>\n    <tr>\n      <th>0</th>\n      <td>(-0.1, 0.0]</td>\n      <td>3</td>\n      <td>0.01%</td>\n      <td>27</td>\n      <td>0.03%</td>\n    </tr>\n    <tr>\n      <th>1</th>\n      <td>(0.0, 15.9]</td>\n      <td>0</td>\n      <td>0.00%</td>\n      <td>0</td>\n      <td>0.00%</td>\n    </tr>\n    <tr>\n      <th>2</th>\n      <td>(15.9, 20.0]</td>\n      <td>183</td>\n      <td>0.65%</td>\n      <td>1422</td>\n      <td>1.39%</td>\n    </tr>\n    <tr>\n      <th>3</th>\n      <td>(20.0, 40.0]</td>\n      <td>1644</td>\n      <td>5.84%</td>\n      <td>12004</td>\n      <td>11.77%</td>\n    </tr>\n    <tr>\n      <th>4</th>\n      <td>(40.0, 60.0]</td>\n      <td>7579</td>\n      <td>26.92%</td>\n      <td>29424</td>\n      <td>28.85%</td>\n    </tr>\n    <tr>\n      <th>5</th>\n      <td>(60.0, 90.0]</td>\n      <td>18082</td>\n      <td>64.23%</td>\n      <td>54801</td>\n      <td>53.72%</td>\n    </tr>\n    <tr>\n      <th>6</th>\n      <td>(90.0, 120.0]</td>\n      <td>0</td>\n      <td>0.00%</td>\n      <td>0</td>\n      <td>0.00%</td>\n    </tr>\n    <tr>\n      <th>0</th>\n      <td>null</td>\n      <td>660</td>\n      <td>2.34%</td>\n      <td>4328</td>\n      <td>4.24%</td>\n    </tr>\n  </tbody>\n</table>\n</div>"
     },
     "metadata": {},
     "execution_count": 67
    }
   ],
   "source": [
    "_comparedf(df_train_dm_1_age, df_train_dm_0_age, 'train_dm_1_%', 'train_dm_0_%', 'age')"
   ]
  },
  {
   "cell_type": "code",
   "execution_count": 101,
   "metadata": {},
   "outputs": [
    {
     "output_type": "stream",
     "name": "stdout",
     "text": "age: train_%: 100.0% test_%: 100.0%\n"
    },
    {
     "output_type": "execute_result",
     "data": {
      "text/plain": "             age  train_count  train_%  test_count  test_%\n0    (-0.1, 0.0]           30    0.02%           0   0.00%\n1    (0.0, 15.9]            0    0.00%           0   0.00%\n2   (15.9, 20.0]         1605    1.23%         180   1.76%\n3   (20.0, 40.0]        13648   10.49%        1075  10.50%\n4   (40.0, 60.0]        37003   28.43%        2939  28.72%\n5   (60.0, 90.0]        72883   56.00%        5753  56.21%\n6  (90.0, 120.0]            0    0.00%         287   2.80%\n0           null         4988    3.83%           0   0.00%",
      "text/html": "<div>\n<style scoped>\n    .dataframe tbody tr th:only-of-type {\n        vertical-align: middle;\n    }\n\n    .dataframe tbody tr th {\n        vertical-align: top;\n    }\n\n    .dataframe thead th {\n        text-align: right;\n    }\n</style>\n<table border=\"1\" class=\"dataframe\">\n  <thead>\n    <tr style=\"text-align: right;\">\n      <th></th>\n      <th>age</th>\n      <th>train_count</th>\n      <th>train_%</th>\n      <th>test_count</th>\n      <th>test_%</th>\n    </tr>\n  </thead>\n  <tbody>\n    <tr>\n      <th>0</th>\n      <td>(-0.1, 0.0]</td>\n      <td>30</td>\n      <td>0.02%</td>\n      <td>0</td>\n      <td>0.00%</td>\n    </tr>\n    <tr>\n      <th>1</th>\n      <td>(0.0, 15.9]</td>\n      <td>0</td>\n      <td>0.00%</td>\n      <td>0</td>\n      <td>0.00%</td>\n    </tr>\n    <tr>\n      <th>2</th>\n      <td>(15.9, 20.0]</td>\n      <td>1605</td>\n      <td>1.23%</td>\n      <td>180</td>\n      <td>1.76%</td>\n    </tr>\n    <tr>\n      <th>3</th>\n      <td>(20.0, 40.0]</td>\n      <td>13648</td>\n      <td>10.49%</td>\n      <td>1075</td>\n      <td>10.50%</td>\n    </tr>\n    <tr>\n      <th>4</th>\n      <td>(40.0, 60.0]</td>\n      <td>37003</td>\n      <td>28.43%</td>\n      <td>2939</td>\n      <td>28.72%</td>\n    </tr>\n    <tr>\n      <th>5</th>\n      <td>(60.0, 90.0]</td>\n      <td>72883</td>\n      <td>56.00%</td>\n      <td>5753</td>\n      <td>56.21%</td>\n    </tr>\n    <tr>\n      <th>6</th>\n      <td>(90.0, 120.0]</td>\n      <td>0</td>\n      <td>0.00%</td>\n      <td>287</td>\n      <td>2.80%</td>\n    </tr>\n    <tr>\n      <th>0</th>\n      <td>null</td>\n      <td>4988</td>\n      <td>3.83%</td>\n      <td>0</td>\n      <td>0.00%</td>\n    </tr>\n  </tbody>\n</table>\n</div>"
     },
     "metadata": {},
     "execution_count": 101
    }
   ],
   "source": [
    "_compare('age', df_train_age, df_test_age, 'train_%', 'test_%')"
   ]
  },
  {
   "cell_type": "code",
   "execution_count": null,
   "metadata": {},
   "outputs": [],
   "source": [
    "_comparedf(df_train_dm_1_bmi, df_train_dm_0_bmi, 'train_dm_1_%', 'train_dm_0_%', 'bmi')"
   ]
  },
  {
   "cell_type": "markdown",
   "metadata": {},
   "source": [
    "**Observations**: \n",
    "- In the **40-60yrs** group, number of people with and without dm are almost same.\n",
    "- In the **60-90yrs** group, number of people with dm are more than without dm.\n",
    "- In the **Obese** category, number people who have dm is more than those without dm\n",
    "- In other age and bmi categories, number of people with dm is lesser than those without dm.\n",
    "- The distribution of genders with and without dm is similar."
   ],
   "execution_count": null,
   "outputs": []
  },
  {
   "cell_type": "code",
   "execution_count": 88,
   "metadata": {},
   "outputs": [
    {
     "output_type": "stream",
     "name": "stdout",
     "text": "bmi: train_%: 100.00000000000001% test_%: 100.0%\n"
    },
    {
     "output_type": "execute_result",
     "data": {
      "text/plain": "                         bmi  train_count  train_%  test_count  test_%\n0     [0.0-18.5] underweight         5323    4.09%         388   3.79%\n1  [18.5-24.9] normal weight        36015   27.67%        2651  25.90%\n2        [30-70] over weight        38010   29.20%        2863  27.98%\n3                [70<] obese        46319   35.59%        3317  32.41%\n0                       null         4490    3.45%        1015   9.92%",
      "text/html": "<div>\n<style scoped>\n    .dataframe tbody tr th:only-of-type {\n        vertical-align: middle;\n    }\n\n    .dataframe tbody tr th {\n        vertical-align: top;\n    }\n\n    .dataframe thead th {\n        text-align: right;\n    }\n</style>\n<table border=\"1\" class=\"dataframe\">\n  <thead>\n    <tr style=\"text-align: right;\">\n      <th></th>\n      <th>bmi</th>\n      <th>train_count</th>\n      <th>train_%</th>\n      <th>test_count</th>\n      <th>test_%</th>\n    </tr>\n  </thead>\n  <tbody>\n    <tr>\n      <th>0</th>\n      <td>[0.0-18.5] underweight</td>\n      <td>5323</td>\n      <td>4.09%</td>\n      <td>388</td>\n      <td>3.79%</td>\n    </tr>\n    <tr>\n      <th>1</th>\n      <td>[18.5-24.9] normal weight</td>\n      <td>36015</td>\n      <td>27.67%</td>\n      <td>2651</td>\n      <td>25.90%</td>\n    </tr>\n    <tr>\n      <th>2</th>\n      <td>[30-70] over weight</td>\n      <td>38010</td>\n      <td>29.20%</td>\n      <td>2863</td>\n      <td>27.98%</td>\n    </tr>\n    <tr>\n      <th>3</th>\n      <td>[70&lt;] obese</td>\n      <td>46319</td>\n      <td>35.59%</td>\n      <td>3317</td>\n      <td>32.41%</td>\n    </tr>\n    <tr>\n      <th>0</th>\n      <td>null</td>\n      <td>4490</td>\n      <td>3.45%</td>\n      <td>1015</td>\n      <td>9.92%</td>\n    </tr>\n  </tbody>\n</table>\n</div>"
     },
     "metadata": {},
     "execution_count": 88
    }
   ],
   "source": [
    "_compare('bmi', df_train_bmi, df_test_bmi, 'train_%', 'test_%')"
   ]
  },
  {
   "cell_type": "markdown",
   "metadata": {},
   "source": [
    "## Features Train Vs Test\n"
   ],
   "execution_count": null,
   "outputs": []
  },
  {
   "cell_type": "code",
   "execution_count": 61,
   "metadata": {},
   "outputs": [
    {
     "output_type": "stream",
     "name": "stdout",
     "text": "age: train_%: 100.00% test_%: 100.00%\n"
    },
    {
     "output_type": "execute_result",
     "data": {
      "text/plain": "             age  train_count  train_%  test_count  test_%\n0    (-0.1, 0.0]           30    0.02%           0   0.00%\n1    (0.0, 15.9]            0    0.00%           0   0.00%\n2   (15.9, 20.0]         1605    1.23%         180   1.76%\n3   (20.0, 40.0]        13648   10.49%        1075  10.50%\n4   (40.0, 60.0]        37003   28.43%        2939  28.72%\n5   (60.0, 90.0]        72883   56.00%        5753  56.21%\n6  (90.0, 120.0]            0    0.00%         287   2.80%\n0           null         4988    3.83%           0   0.00%",
      "text/html": "<div>\n<style scoped>\n    .dataframe tbody tr th:only-of-type {\n        vertical-align: middle;\n    }\n\n    .dataframe tbody tr th {\n        vertical-align: top;\n    }\n\n    .dataframe thead th {\n        text-align: right;\n    }\n</style>\n<table border=\"1\" class=\"dataframe\">\n  <thead>\n    <tr style=\"text-align: right;\">\n      <th></th>\n      <th>age</th>\n      <th>train_count</th>\n      <th>train_%</th>\n      <th>test_count</th>\n      <th>test_%</th>\n    </tr>\n  </thead>\n  <tbody>\n    <tr>\n      <th>0</th>\n      <td>(-0.1, 0.0]</td>\n      <td>30</td>\n      <td>0.02%</td>\n      <td>0</td>\n      <td>0.00%</td>\n    </tr>\n    <tr>\n      <th>1</th>\n      <td>(0.0, 15.9]</td>\n      <td>0</td>\n      <td>0.00%</td>\n      <td>0</td>\n      <td>0.00%</td>\n    </tr>\n    <tr>\n      <th>2</th>\n      <td>(15.9, 20.0]</td>\n      <td>1605</td>\n      <td>1.23%</td>\n      <td>180</td>\n      <td>1.76%</td>\n    </tr>\n    <tr>\n      <th>3</th>\n      <td>(20.0, 40.0]</td>\n      <td>13648</td>\n      <td>10.49%</td>\n      <td>1075</td>\n      <td>10.50%</td>\n    </tr>\n    <tr>\n      <th>4</th>\n      <td>(40.0, 60.0]</td>\n      <td>37003</td>\n      <td>28.43%</td>\n      <td>2939</td>\n      <td>28.72%</td>\n    </tr>\n    <tr>\n      <th>5</th>\n      <td>(60.0, 90.0]</td>\n      <td>72883</td>\n      <td>56.00%</td>\n      <td>5753</td>\n      <td>56.21%</td>\n    </tr>\n    <tr>\n      <th>6</th>\n      <td>(90.0, 120.0]</td>\n      <td>0</td>\n      <td>0.00%</td>\n      <td>287</td>\n      <td>2.80%</td>\n    </tr>\n    <tr>\n      <th>0</th>\n      <td>null</td>\n      <td>4988</td>\n      <td>3.83%</td>\n      <td>0</td>\n      <td>0.00%</td>\n    </tr>\n  </tbody>\n</table>\n</div>"
     },
     "metadata": {},
     "execution_count": 61
    }
   ],
   "source": [
    "_comparedf(df_train_age, df_test_age, 'train_%', 'test_%', 'age')"
   ]
  },
  {
   "cell_type": "code",
   "execution_count": 86,
   "metadata": {},
   "outputs": [
    {
     "output_type": "stream",
     "name": "stdout",
     "text": "gender: train_%: 99.99999999999999% test_%: 100.0%\n"
    },
    {
     "output_type": "execute_result",
     "data": {
      "text/plain": "  gender  train_count  train_%  test_count  test_%\n0      M        70518   54.18%        5525  53.99%\n1      F        59573   45.77%        4704  45.96%\n0   null           66    0.05%           5   0.05%",
      "text/html": "<div>\n<style scoped>\n    .dataframe tbody tr th:only-of-type {\n        vertical-align: middle;\n    }\n\n    .dataframe tbody tr th {\n        vertical-align: top;\n    }\n\n    .dataframe thead th {\n        text-align: right;\n    }\n</style>\n<table border=\"1\" class=\"dataframe\">\n  <thead>\n    <tr style=\"text-align: right;\">\n      <th></th>\n      <th>gender</th>\n      <th>train_count</th>\n      <th>train_%</th>\n      <th>test_count</th>\n      <th>test_%</th>\n    </tr>\n  </thead>\n  <tbody>\n    <tr>\n      <th>0</th>\n      <td>M</td>\n      <td>70518</td>\n      <td>54.18%</td>\n      <td>5525</td>\n      <td>53.99%</td>\n    </tr>\n    <tr>\n      <th>1</th>\n      <td>F</td>\n      <td>59573</td>\n      <td>45.77%</td>\n      <td>4704</td>\n      <td>45.96%</td>\n    </tr>\n    <tr>\n      <th>0</th>\n      <td>null</td>\n      <td>66</td>\n      <td>0.05%</td>\n      <td>5</td>\n      <td>0.05%</td>\n    </tr>\n  </tbody>\n</table>\n</div>"
     },
     "metadata": {},
     "execution_count": 86
    }
   ],
   "source": [
    "_compare('gender', df_train_gender, df_test_gender, 'train_%', 'test_%')"
   ]
  },
  {
   "cell_type": "code",
   "execution_count": 87,
   "metadata": {},
   "outputs": [
    {
     "output_type": "stream",
     "name": "stdout",
     "text": "ethnicity: train_%: 100.00000000000001% test_%: 100.0%\n"
    },
    {
     "output_type": "execute_result",
     "data": {
      "text/plain": "          ethnicity  train_count  train_%  test_count  test_%\n0         Caucasian       100236   77.01%        7939  77.57%\n1  African American        13911   10.69%         931   9.10%\n2     Other/Unknown         6261    4.81%         435   4.25%\n3          Hispanic         5049    3.88%         471   4.60%\n4             Asian         2198    1.69%         171   1.67%\n5   Native American          915    0.70%          83   0.81%\n0              null         1587    1.22%         204   1.99%",
      "text/html": "<div>\n<style scoped>\n    .dataframe tbody tr th:only-of-type {\n        vertical-align: middle;\n    }\n\n    .dataframe tbody tr th {\n        vertical-align: top;\n    }\n\n    .dataframe thead th {\n        text-align: right;\n    }\n</style>\n<table border=\"1\" class=\"dataframe\">\n  <thead>\n    <tr style=\"text-align: right;\">\n      <th></th>\n      <th>ethnicity</th>\n      <th>train_count</th>\n      <th>train_%</th>\n      <th>test_count</th>\n      <th>test_%</th>\n    </tr>\n  </thead>\n  <tbody>\n    <tr>\n      <th>0</th>\n      <td>Caucasian</td>\n      <td>100236</td>\n      <td>77.01%</td>\n      <td>7939</td>\n      <td>77.57%</td>\n    </tr>\n    <tr>\n      <th>1</th>\n      <td>African American</td>\n      <td>13911</td>\n      <td>10.69%</td>\n      <td>931</td>\n      <td>9.10%</td>\n    </tr>\n    <tr>\n      <th>2</th>\n      <td>Other/Unknown</td>\n      <td>6261</td>\n      <td>4.81%</td>\n      <td>435</td>\n      <td>4.25%</td>\n    </tr>\n    <tr>\n      <th>3</th>\n      <td>Hispanic</td>\n      <td>5049</td>\n      <td>3.88%</td>\n      <td>471</td>\n      <td>4.60%</td>\n    </tr>\n    <tr>\n      <th>4</th>\n      <td>Asian</td>\n      <td>2198</td>\n      <td>1.69%</td>\n      <td>171</td>\n      <td>1.67%</td>\n    </tr>\n    <tr>\n      <th>5</th>\n      <td>Native American</td>\n      <td>915</td>\n      <td>0.70%</td>\n      <td>83</td>\n      <td>0.81%</td>\n    </tr>\n    <tr>\n      <th>0</th>\n      <td>null</td>\n      <td>1587</td>\n      <td>1.22%</td>\n      <td>204</td>\n      <td>1.99%</td>\n    </tr>\n  </tbody>\n</table>\n</div>"
     },
     "metadata": {},
     "execution_count": 87
    }
   ],
   "source": [
    "_compare('ethnicity', df_train_ethnicity, df_test_ethnicity, 'train_%', 'test_%')"
   ]
  },
  {
   "cell_type": "code",
   "execution_count": 62,
   "metadata": {},
   "outputs": [
    {
     "output_type": "stream",
     "name": "stdout",
     "text": "bmi: train_%: 100.00% test_%: 100.00%\n"
    },
    {
     "output_type": "execute_result",
     "data": {
      "text/plain": "                         bmi  train_count  train_%  test_count  test_%\n0     [0.0-18.5] underweight         5323    4.09%         388   3.79%\n1  [18.5-24.9] normal weight        36015   27.67%        2651  25.90%\n2        [30-70] over weight        38010   29.20%        2863  27.98%\n3                [70<] obese        46319   35.59%        3317  32.41%\n0                       null         4490    3.45%        1015   9.92%",
      "text/html": "<div>\n<style scoped>\n    .dataframe tbody tr th:only-of-type {\n        vertical-align: middle;\n    }\n\n    .dataframe tbody tr th {\n        vertical-align: top;\n    }\n\n    .dataframe thead th {\n        text-align: right;\n    }\n</style>\n<table border=\"1\" class=\"dataframe\">\n  <thead>\n    <tr style=\"text-align: right;\">\n      <th></th>\n      <th>bmi</th>\n      <th>train_count</th>\n      <th>train_%</th>\n      <th>test_count</th>\n      <th>test_%</th>\n    </tr>\n  </thead>\n  <tbody>\n    <tr>\n      <th>0</th>\n      <td>[0.0-18.5] underweight</td>\n      <td>5323</td>\n      <td>4.09%</td>\n      <td>388</td>\n      <td>3.79%</td>\n    </tr>\n    <tr>\n      <th>1</th>\n      <td>[18.5-24.9] normal weight</td>\n      <td>36015</td>\n      <td>27.67%</td>\n      <td>2651</td>\n      <td>25.90%</td>\n    </tr>\n    <tr>\n      <th>2</th>\n      <td>[30-70] over weight</td>\n      <td>38010</td>\n      <td>29.20%</td>\n      <td>2863</td>\n      <td>27.98%</td>\n    </tr>\n    <tr>\n      <th>3</th>\n      <td>[70&lt;] obese</td>\n      <td>46319</td>\n      <td>35.59%</td>\n      <td>3317</td>\n      <td>32.41%</td>\n    </tr>\n    <tr>\n      <th>0</th>\n      <td>null</td>\n      <td>4490</td>\n      <td>3.45%</td>\n      <td>1015</td>\n      <td>9.92%</td>\n    </tr>\n  </tbody>\n</table>\n</div>"
     },
     "metadata": {},
     "execution_count": 62
    }
   ],
   "source": [
    "_comparedf(df_train_bmi, df_test_bmi, 'bmi')\n",
    ""
   ]
  },
  {
   "cell_type": "code",
   "execution_count": 63,
   "metadata": {},
   "outputs": [
    {
     "output_type": "stream",
     "name": "stdout",
     "text": "gender: train_%: 100.00% test_%: 100.00%\n"
    },
    {
     "output_type": "execute_result",
     "data": {
      "text/plain": "  gender  train_count  train_%  test_count  test_%\n0      M        70518   54.18%        5525  53.99%\n1      F        59573   45.77%        4704  45.96%\n0   null           66    0.05%           5   0.05%",
      "text/html": "<div>\n<style scoped>\n    .dataframe tbody tr th:only-of-type {\n        vertical-align: middle;\n    }\n\n    .dataframe tbody tr th {\n        vertical-align: top;\n    }\n\n    .dataframe thead th {\n        text-align: right;\n    }\n</style>\n<table border=\"1\" class=\"dataframe\">\n  <thead>\n    <tr style=\"text-align: right;\">\n      <th></th>\n      <th>gender</th>\n      <th>train_count</th>\n      <th>train_%</th>\n      <th>test_count</th>\n      <th>test_%</th>\n    </tr>\n  </thead>\n  <tbody>\n    <tr>\n      <th>0</th>\n      <td>M</td>\n      <td>70518</td>\n      <td>54.18%</td>\n      <td>5525</td>\n      <td>53.99%</td>\n    </tr>\n    <tr>\n      <th>1</th>\n      <td>F</td>\n      <td>59573</td>\n      <td>45.77%</td>\n      <td>4704</td>\n      <td>45.96%</td>\n    </tr>\n    <tr>\n      <th>0</th>\n      <td>null</td>\n      <td>66</td>\n      <td>0.05%</td>\n      <td>5</td>\n      <td>0.05%</td>\n    </tr>\n  </tbody>\n</table>\n</div>"
     },
     "metadata": {},
     "execution_count": 63
    }
   ],
   "source": [
    "_comparedf(df_train_gender, df_test_gender, 'gender')"
   ]
  },
  {
   "cell_type": "code",
   "execution_count": 64,
   "metadata": {},
   "outputs": [
    {
     "output_type": "stream",
     "name": "stdout",
     "text": "ethnicity: train_%: 100.00% test_%: 100.00%\n"
    },
    {
     "output_type": "execute_result",
     "data": {
      "text/plain": "          ethnicity  train_count  train_%  test_count  test_%\n0         Caucasian       100236   77.01%        7939  77.57%\n1  African American        13911   10.69%         931   9.10%\n2     Other/Unknown         6261    4.81%         435   4.25%\n3          Hispanic         5049    3.88%         471   4.60%\n4             Asian         2198    1.69%         171   1.67%\n5   Native American          915    0.70%          83   0.81%\n0              null         1587    1.22%         204   1.99%",
      "text/html": "<div>\n<style scoped>\n    .dataframe tbody tr th:only-of-type {\n        vertical-align: middle;\n    }\n\n    .dataframe tbody tr th {\n        vertical-align: top;\n    }\n\n    .dataframe thead th {\n        text-align: right;\n    }\n</style>\n<table border=\"1\" class=\"dataframe\">\n  <thead>\n    <tr style=\"text-align: right;\">\n      <th></th>\n      <th>ethnicity</th>\n      <th>train_count</th>\n      <th>train_%</th>\n      <th>test_count</th>\n      <th>test_%</th>\n    </tr>\n  </thead>\n  <tbody>\n    <tr>\n      <th>0</th>\n      <td>Caucasian</td>\n      <td>100236</td>\n      <td>77.01%</td>\n      <td>7939</td>\n      <td>77.57%</td>\n    </tr>\n    <tr>\n      <th>1</th>\n      <td>African American</td>\n      <td>13911</td>\n      <td>10.69%</td>\n      <td>931</td>\n      <td>9.10%</td>\n    </tr>\n    <tr>\n      <th>2</th>\n      <td>Other/Unknown</td>\n      <td>6261</td>\n      <td>4.81%</td>\n      <td>435</td>\n      <td>4.25%</td>\n    </tr>\n    <tr>\n      <th>3</th>\n      <td>Hispanic</td>\n      <td>5049</td>\n      <td>3.88%</td>\n      <td>471</td>\n      <td>4.60%</td>\n    </tr>\n    <tr>\n      <th>4</th>\n      <td>Asian</td>\n      <td>2198</td>\n      <td>1.69%</td>\n      <td>171</td>\n      <td>1.67%</td>\n    </tr>\n    <tr>\n      <th>5</th>\n      <td>Native American</td>\n      <td>915</td>\n      <td>0.70%</td>\n      <td>83</td>\n      <td>0.81%</td>\n    </tr>\n    <tr>\n      <th>0</th>\n      <td>null</td>\n      <td>1587</td>\n      <td>1.22%</td>\n      <td>204</td>\n      <td>1.99%</td>\n    </tr>\n  </tbody>\n</table>\n</div>"
     },
     "metadata": {},
     "execution_count": 64
    }
   ],
   "source": [
    "_comparedf(df_train_ethnicity, df_test_ethnicity, 'ethnicity')"
   ]
  },
  {
   "cell_type": "markdown",
   "metadata": {},
   "source": [
    "**Presence of invalid and missing values and handling :**\n",
    "- **age**:\n",
    "    -  In the training dataset, there are 30 invalid ages. Remove these rows\n",
    "    - In the training dataset, there are null values for age. Handling?\n",
    "- **gender**: In both training and test datasets, there are null values for gender. Fill \"Unknown\"\n",
    "- **ethnicity**: In both training and test datasets, there are null values for ethnicity. Fill \"Unkown\"\n",
    "- **weight**: Fill Average weight of the age, gender & ethnicity\n",
    "- **height**: Fill Average height of the age, gender & ethnicity\n",
    "- **bmi**: \n",
    "    - In both training and test datasets, there are null values for bmi. \n",
    "    - Calculate bmi based on  weight and height. Here, there 3 possibilities - weight only is present, height only is present, both weight and height is not present.\n",
    "    -  Should weight and height be replaced only with bmi?\n",
    "\n",
    "**Findings**\n",
    "- Distribution of age across categories is similar for training and test datasets\n",
    "- The distribution of bmi across categories is similar in training and test data sets"
   ],
   "execution_count": null,
   "outputs": []
  },
  {
   "cell_type": "markdown",
   "metadata": {},
   "source": [
    "===========================X===========================X===========================X===========================X\n",
    "\n",
    "*Work in Progress*\n",
    "\n",
    "===========================X===========================X===========================X===========================X"
   ],
   "execution_count": null,
   "outputs": []
  },
  {
   "cell_type": "markdown",
   "metadata": {},
   "source": [
    "- Combine features - ratio, difference "
   ],
   "execution_count": null,
   "outputs": []
  },
  {
   "cell_type": "code",
   "execution_count": 114,
   "metadata": {},
   "outputs": [
    {
     "output_type": "execute_result",
     "data": {
      "text/plain": "hospital_id\n25        2\n130       2\n93        6\n95        6\n23        7\n       ... \n7      2944\n86     2962\n188    3075\n19     3885\n118    4306\nName: encounter_id, Length: 204, dtype: int64"
     },
     "metadata": {},
     "execution_count": 114
    }
   ],
   "source": [
    "df_train.groupby(['hospital_id']).count()['encounter_id'].sort_values()"
   ]
  },
  {
   "cell_type": "code",
   "execution_count": 117,
   "metadata": {},
   "outputs": [
    {
     "output_type": "execute_result",
     "data": {
      "text/plain": "      Unnamed: 0  encounter_id  hospital_id    age    bmi  elective_surgery  \\\n8393        8394        173617            4 56.00% 23.72%                 0   \n8570        8571        188717            4    NaN 29.26%                 0   \n8634        8635        276136            4 26.00% 28.67%                 0   \n9522        9523        251919            4    NaN 19.55%                 0   \n9638        9639        197182            4 74.00% 47.95%                 0   \n9723        9724        275265            4    NaN 26.19%                 0   \n9859        9860        177497            4 65.00% 30.79%                 0   \n\n          ethnicity gender  height hospital_admit_source  ...  \\\n8393      Caucasian      M 177.80%  Emergency Department  ...   \n8570            NaN      F 160.00%        Operating Room  ...   \n8634  Other/Unknown      F 172.70%  Emergency Department  ...   \n9522      Caucasian      F 152.40%  Emergency Department  ...   \n9638      Caucasian      F 165.10%                 Floor  ...   \n9723      Caucasian      M 177.80%                 Floor  ...   \n9859      Caucasian      F 170.20%                 Floor  ...   \n\n     h1_pao2fio2ratio_max  h1_pao2fio2ratio_min aids cirrhosis  \\\n8393                  NaN                   NaN    0         0   \n8570                  NaN                   NaN    0         0   \n8634              666.67%               654.81%    0         0   \n9522                  NaN                   NaN    0         0   \n9638                  NaN                   NaN    0         0   \n9723                  NaN                   NaN    0         0   \n9859                  NaN                   NaN    0         0   \n\n      hepatic_failure  immunosuppression  leukemia  lymphoma  \\\n8393                0                  0         0         0   \n8570                0                  0         0         0   \n8634                0                  0         0         0   \n9522                0                  0         0         0   \n9638                0                  0         0         0   \n9723                0                  0         0         0   \n9859                0                  0         0         0   \n\n      solid_tumor_with_metastasis  diabetes_mellitus  \n8393                            0                  0  \n8570                            0                  0  \n8634                            0                  0  \n9522                            0                  0  \n9638                            0                  0  \n9723                            0                  0  \n9859                            0                  0  \n\n[7 rows x 181 columns]",
      "text/html": "<div>\n<style scoped>\n    .dataframe tbody tr th:only-of-type {\n        vertical-align: middle;\n    }\n\n    .dataframe tbody tr th {\n        vertical-align: top;\n    }\n\n    .dataframe thead th {\n        text-align: right;\n    }\n</style>\n<table border=\"1\" class=\"dataframe\">\n  <thead>\n    <tr style=\"text-align: right;\">\n      <th></th>\n      <th>Unnamed: 0</th>\n      <th>encounter_id</th>\n      <th>hospital_id</th>\n      <th>age</th>\n      <th>bmi</th>\n      <th>elective_surgery</th>\n      <th>ethnicity</th>\n      <th>gender</th>\n      <th>height</th>\n      <th>hospital_admit_source</th>\n      <th>...</th>\n      <th>h1_pao2fio2ratio_max</th>\n      <th>h1_pao2fio2ratio_min</th>\n      <th>aids</th>\n      <th>cirrhosis</th>\n      <th>hepatic_failure</th>\n      <th>immunosuppression</th>\n      <th>leukemia</th>\n      <th>lymphoma</th>\n      <th>solid_tumor_with_metastasis</th>\n      <th>diabetes_mellitus</th>\n    </tr>\n  </thead>\n  <tbody>\n    <tr>\n      <th>8393</th>\n      <td>8394</td>\n      <td>173617</td>\n      <td>4</td>\n      <td>56.00%</td>\n      <td>23.72%</td>\n      <td>0</td>\n      <td>Caucasian</td>\n      <td>M</td>\n      <td>177.80%</td>\n      <td>Emergency Department</td>\n      <td>...</td>\n      <td>NaN</td>\n      <td>NaN</td>\n      <td>0</td>\n      <td>0</td>\n      <td>0</td>\n      <td>0</td>\n      <td>0</td>\n      <td>0</td>\n      <td>0</td>\n      <td>0</td>\n    </tr>\n    <tr>\n      <th>8570</th>\n      <td>8571</td>\n      <td>188717</td>\n      <td>4</td>\n      <td>NaN</td>\n      <td>29.26%</td>\n      <td>0</td>\n      <td>NaN</td>\n      <td>F</td>\n      <td>160.00%</td>\n      <td>Operating Room</td>\n      <td>...</td>\n      <td>NaN</td>\n      <td>NaN</td>\n      <td>0</td>\n      <td>0</td>\n      <td>0</td>\n      <td>0</td>\n      <td>0</td>\n      <td>0</td>\n      <td>0</td>\n      <td>0</td>\n    </tr>\n    <tr>\n      <th>8634</th>\n      <td>8635</td>\n      <td>276136</td>\n      <td>4</td>\n      <td>26.00%</td>\n      <td>28.67%</td>\n      <td>0</td>\n      <td>Other/Unknown</td>\n      <td>F</td>\n      <td>172.70%</td>\n      <td>Emergency Department</td>\n      <td>...</td>\n      <td>666.67%</td>\n      <td>654.81%</td>\n      <td>0</td>\n      <td>0</td>\n      <td>0</td>\n      <td>0</td>\n      <td>0</td>\n      <td>0</td>\n      <td>0</td>\n      <td>0</td>\n    </tr>\n    <tr>\n      <th>9522</th>\n      <td>9523</td>\n      <td>251919</td>\n      <td>4</td>\n      <td>NaN</td>\n      <td>19.55%</td>\n      <td>0</td>\n      <td>Caucasian</td>\n      <td>F</td>\n      <td>152.40%</td>\n      <td>Emergency Department</td>\n      <td>...</td>\n      <td>NaN</td>\n      <td>NaN</td>\n      <td>0</td>\n      <td>0</td>\n      <td>0</td>\n      <td>0</td>\n      <td>0</td>\n      <td>0</td>\n      <td>0</td>\n      <td>0</td>\n    </tr>\n    <tr>\n      <th>9638</th>\n      <td>9639</td>\n      <td>197182</td>\n      <td>4</td>\n      <td>74.00%</td>\n      <td>47.95%</td>\n      <td>0</td>\n      <td>Caucasian</td>\n      <td>F</td>\n      <td>165.10%</td>\n      <td>Floor</td>\n      <td>...</td>\n      <td>NaN</td>\n      <td>NaN</td>\n      <td>0</td>\n      <td>0</td>\n      <td>0</td>\n      <td>0</td>\n      <td>0</td>\n      <td>0</td>\n      <td>0</td>\n      <td>0</td>\n    </tr>\n    <tr>\n      <th>9723</th>\n      <td>9724</td>\n      <td>275265</td>\n      <td>4</td>\n      <td>NaN</td>\n      <td>26.19%</td>\n      <td>0</td>\n      <td>Caucasian</td>\n      <td>M</td>\n      <td>177.80%</td>\n      <td>Floor</td>\n      <td>...</td>\n      <td>NaN</td>\n      <td>NaN</td>\n      <td>0</td>\n      <td>0</td>\n      <td>0</td>\n      <td>0</td>\n      <td>0</td>\n      <td>0</td>\n      <td>0</td>\n      <td>0</td>\n    </tr>\n    <tr>\n      <th>9859</th>\n      <td>9860</td>\n      <td>177497</td>\n      <td>4</td>\n      <td>65.00%</td>\n      <td>30.79%</td>\n      <td>0</td>\n      <td>Caucasian</td>\n      <td>F</td>\n      <td>170.20%</td>\n      <td>Floor</td>\n      <td>...</td>\n      <td>NaN</td>\n      <td>NaN</td>\n      <td>0</td>\n      <td>0</td>\n      <td>0</td>\n      <td>0</td>\n      <td>0</td>\n      <td>0</td>\n      <td>0</td>\n      <td>0</td>\n    </tr>\n  </tbody>\n</table>\n<p>7 rows × 181 columns</p>\n</div>"
     },
     "metadata": {},
     "execution_count": 117
    }
   ],
   "source": [
    "df_train.loc[df_train['hospital_id']==4]"
   ]
  },
  {
   "cell_type": "code",
   "execution_count": 118,
   "metadata": {},
   "outputs": [
    {
     "output_type": "execute_result",
     "data": {
      "text/plain": "        count\nicu_id       \n1019     1344\n646      1312\n653      1296\n876      1280\n413      1219\n...       ...\n365         2\n241         2\n989         2\n302         2\n603         2\n\n[328 rows x 1 columns]",
      "text/html": "<div>\n<style scoped>\n    .dataframe tbody tr th:only-of-type {\n        vertical-align: middle;\n    }\n\n    .dataframe tbody tr th {\n        vertical-align: top;\n    }\n\n    .dataframe thead th {\n        text-align: right;\n    }\n</style>\n<table border=\"1\" class=\"dataframe\">\n  <thead>\n    <tr style=\"text-align: right;\">\n      <th></th>\n      <th>count</th>\n    </tr>\n    <tr>\n      <th>icu_id</th>\n      <th></th>\n    </tr>\n  </thead>\n  <tbody>\n    <tr>\n      <th>1019</th>\n      <td>1344</td>\n    </tr>\n    <tr>\n      <th>646</th>\n      <td>1312</td>\n    </tr>\n    <tr>\n      <th>653</th>\n      <td>1296</td>\n    </tr>\n    <tr>\n      <th>876</th>\n      <td>1280</td>\n    </tr>\n    <tr>\n      <th>413</th>\n      <td>1219</td>\n    </tr>\n    <tr>\n      <th>...</th>\n      <td>...</td>\n    </tr>\n    <tr>\n      <th>365</th>\n      <td>2</td>\n    </tr>\n    <tr>\n      <th>241</th>\n      <td>2</td>\n    </tr>\n    <tr>\n      <th>989</th>\n      <td>2</td>\n    </tr>\n    <tr>\n      <th>302</th>\n      <td>2</td>\n    </tr>\n    <tr>\n      <th>603</th>\n      <td>2</td>\n    </tr>\n  </tbody>\n</table>\n<p>328 rows × 1 columns</p>\n</div>"
     },
     "metadata": {},
     "execution_count": 118
    }
   ],
   "source": [
    "df_train.groupby('icu_id')['icu_id'].agg(['count']).sort_values(by = 'count', ascending=False)"
   ]
  },
  {
   "cell_type": "code",
   "execution_count": null,
   "metadata": {},
   "outputs": [],
   "source": [
    "df_train['bmi_calc'] = df['weight']/(df['height']/100)**2"
   ]
  },
  {
   "cell_type": "code",
   "execution_count": null,
   "metadata": {},
   "outputs": [],
   "source": [
    "df_bmi = df[['weight', 'height', 'bmi', 'bmi_calc']]\n",
    "df_bmi_1  = df_bmi[df_bmi.isna().any(axis=1)]"
   ]
  },
  {
   "cell_type": "code",
   "execution_count": null,
   "metadata": {},
   "outputs": [],
   "source": [
    "df_bmi_1"
   ]
  },
  {
   "cell_type": "markdown",
   "metadata": {},
   "source": [
    "BMI calculations - relation to diabetes\n",
    "bmi = weight (kg) / [height (m)]2\n",
    "\n",
    "Adults:\n",
    "For adults, the interpretation of BMI does not depend on sex or age. \n",
    "For adults 20 years old and older, BMI is interpreted using standard weight status categories.\n",
    "BMI\tWeight Status\n",
    "Below 18.5\tUnderweight\n",
    "18.5 – 24.9\tNormal or Healthy Weight\n",
    "25.0 – 29.9\tOverweight\n",
    "30.0 and Above\tObese\n"
   ],
   "execution_count": null,
   "outputs": []
  },
  {
   "cell_type": "code",
   "execution_count": null,
   "metadata": {},
   "outputs": [],
   "source": [
    "df_bmi_1[ df_bmi_1['height'].isnull() & df_bmi_1['weight'].notnull() |\n",
    "          df_bmi_1['height'].notnull() & df_bmi_1['weight'].isnull() |\n",
    "          df_bmi_1['height'].isnull() & df_bmi_1['weight'].isnull()].shape"
   ]
  },
  {
   "cell_type": "code",
   "execution_count": null,
   "metadata": {},
   "outputs": [],
   "source": [
    "df_bmi_1[ df_bmi_1['bmi'].isnull()].shape"
   ]
  },
  {
   "cell_type": "code",
   "execution_count": null,
   "metadata": {},
   "outputs": [],
   "source": [
    "# Wherever either weight or height or both are not available, bmi is also not available.\n",
    "# Isn't bmi dependent on gender\n",
    "# There are no rows where height and weight are null and bmi is not null\n",
    "'''print(\"Height-Nan:\", df_bmi_1[df_bmi_1['height'].isnull().shape))\n",
    "print(\"Weight-Nan:\", df_bmi_1[df_bmi_1['height'].isnull().shape))\n",
    "print(\"Height-Nan:\", df_bmi_1[df_bmi_1['height'].isnull().shape))'''\n",
    "print(df_bmi_1[df_bmi_1['height'].isnull() & df_bmi_1['weight'].isnull() & df_bmi_1['bmi'].notnull()])\n",
    "print(df_bmi_1[df_bmi_1['height'].notnull() & df_bmi_1['weight'].isnull() & df_bmi_1['bmi'].notnull()])\n",
    "print(df_bmi_1[df_bmi_1['height'].isnull() & df_bmi_1['weight'].notnull() & df_bmi_1['bmi'].notnull()])\n",
    "print(df_bmi_1[df_bmi_1['height'].notnull() & df_bmi_1['weight'].notnull() & df_bmi_1['bmi'].isnull()])"
   ]
  },
  {
   "cell_type": "code",
   "execution_count": null,
   "metadata": {},
   "outputs": [],
   "source": [
    "df_bmi_F = df[df['gender']=='F']\n",
    "bins = pd.cut(df_bmi_F['bmi'], bmi_bins, labels=bmi_labels)\n",
    "df_bmi_F = df_bmi_F.groupby(bins)['bmi'].agg(['count'])\n",
    "df_bmi_F = df_bmi_F.reset_index()\n",
    "df_bmi_F = df_bmi_F.rename(columns = {'count':'Female'})\n",
    "df_bmi_F"
   ]
  },
  {
   "cell_type": "code",
   "execution_count": null,
   "metadata": {},
   "outputs": [],
   "source": [
    "df_bmi = df_bmi_M.join(df_bmi_F.set_index('bmi'), on= 'bmi')\n",
    "df_bmi['total'] = df_bmi['Male'] + df_bmi['Female']\n",
    "df_bmi['%'] = 100 * df_bmi['total'] / df_bmi['total'].sum()\n",
    "df_bmi"
   ]
  },
  {
   "cell_type": "markdown",
   "metadata": {},
   "source": [
    "**Conclusions**\n",
    "- Remove the rows with age = 0\n",
    "- Categorize bmi into 4 categories\n"
   ],
   "execution_count": null,
   "outputs": []
  },
  {
   "cell_type": "code",
   "execution_count": null,
   "metadata": {},
   "outputs": [],
   "source": [
    " pd.pivot_table(df, values='age', index=['age'],\n",
    "                    columns=['diabetes_mellitus'], aggfunc=np.sum, fill_value=0)"
   ]
  },
  {
   "cell_type": "code",
   "execution_count": null,
   "metadata": {},
   "outputs": [],
   "source": [
    "# encounter_ids are unique and there are no repeats\n",
    "df_temp = df.groupby(['encounter_id'])['encounter_id'].count().sort_values(ascending=False)\n",
    "#df_temp = df_temp.rename(columns = {'encounter_id':'count'})\n",
    "#df_temp['%'] = 100 * df_temp['count'] / df_temp['count'].sum()\n",
    "#pd.options.display.float_format = '{:.2f}%'.format\n",
    "print(df_temp)"
   ]
  },
  {
   "cell_type": "code",
   "execution_count": null,
   "metadata": {},
   "outputs": [],
   "source": [
    "def getAllValues(df, col):\n",
    "    df_temp = df.groupby([col]).count()['encounter_id'].sort_values(ascending=False).reset_index()\n",
    "    df_temp = df_temp.rename(columns = {'encounter_id':'count'})\n",
    "    df_temp['%'] = 100 * df_temp['count'] / df_temp['count'].sum()\n",
    "    print(df_temp)"
   ]
  },
  {
   "cell_type": "code",
   "execution_count": null,
   "metadata": {},
   "outputs": [],
   "source": [
    "# Columns - string type\n",
    "for  col in ['ethnicity', 'gender', 'hospital_admit_source', 'icu_admit_source', 'icu_type', 'icu_stay_type']:\n",
    "    getAllValues(df, col)\n",
    "    getAllValues(df_test, col)\n",
    "    print()"
   ]
  },
  {
   "cell_type": "code",
   "execution_count": null,
   "metadata": {},
   "outputs": [],
   "source": [
    "# Columns - binary type\n",
    "for col in ['elective_surgery', 'readmission_status', 'diabetes_mellitus' ]:\n",
    "    getAllValues(df, col)\t\n",
    "    if col != 'diabetes_mellitus':\n",
    "        getAllValues(df_test, col)\n",
    "    print()"
   ]
  },
  {
   "cell_type": "code",
   "execution_count": null,
   "metadata": {
    "tags": [
     "outputPrepend",
     "outputPrepend",
     "outputPrepend",
     "outputPrepend",
     "outputPrepend",
     "outputPrepend",
     "outputPrepend",
     "outputPrepend",
     "outputPrepend",
     "outputPrepend",
     "outputPrepend",
     "outputPrepend",
     "outputPrepend",
     "outputPrepend",
     "outputPrepend",
     "outputPrepend",
     "outputPrepend",
     "outputPrepend",
     "outputPrepend",
     "outputPrepend",
     "outputPrepend",
     "outputPrepend",
     "outputPrepend",
     "outputPrepend",
     "outputPrepend",
     "outputPrepend",
     "outputPrepend",
     "outputPrepend",
     "outputPrepend",
     "outputPrepend",
     "outputPrepend",
     "outputPrepend",
     "outputPrepend",
     "outputPrepend"
    ]
   },
   "outputs": [],
   "source": [
    "# Columns - nan data\n",
    "\n",
    "nan_counts = []\n",
    "nan_counts_percent = []\n",
    "for col in df.columns:\n",
    "    total = df[col].count()\n",
    "    nan_rows = len(df[df[col].isnull()])\n",
    "    nan_counts.append(nan_rows)\n",
    "    nan_counts_percent.append(100 * nan_rows/(total+nan_rows))"
   ]
  },
  {
   "cell_type": "code",
   "execution_count": null,
   "metadata": {},
   "outputs": [],
   "source": [
    "df_nan = pd.DataFrame({'Variable Name':df.columns, 'nan_counts':nan_counts, '%':nan_counts_percent})\n",
    "df_nan = df_nan.sort_values('nan_counts', ascending = False)\n",
    "df_nan['%'] = df_nan['%'].map('{:,.1f}%'.format)\n",
    "print(df_nan)\n",
    "df_nan.to_csv(\"nan_data.csv\")\n",
    "print(df_nan.shape[0])"
   ]
  },
  {
   "cell_type": "code",
   "execution_count": null,
   "metadata": {},
   "outputs": [],
   "source": [
    "# Rows with nan data\n",
    "df_nan = df[df.isna().any(axis=1)]\n",
    "print (f\"Rows with nan values: {100 * df_nan.shape[0]/df.shape[0]:.2f}%\")"
   ]
  },
  {
   "cell_type": "code",
   "execution_count": null,
   "metadata": {},
   "outputs": [],
   "source": [
    "df_dict = pd.read_csv(\"data/DataDictionaryWiDS2021.csv\")\n",
    "print(df_dict[['Variable Name', 'Category', 'Data Type']])\n",
    "print(df_dict.shape[0])"
   ]
  },
  {
   "cell_type": "code",
   "execution_count": null,
   "metadata": {},
   "outputs": [],
   "source": [
    "df_data_desc = pd.merge(df_nan, df_dict, on=\"Variable Name\")\n",
    "df_data_desc = df_data_desc.sort_values(by=['Category','Variable Name'])\n",
    "df_data_desc.to_csv(\"datadesc.csv\")"
   ]
  },
  {
   "cell_type": "code",
   "execution_count": null,
   "metadata": {},
   "outputs": [],
   "source": [
    "df[['apache_2_diagnosis', 'diabetes_mellitus']].corr()"
   ]
  },
  {
   "cell_type": "code",
   "execution_count": null,
   "metadata": {},
   "outputs": [],
   "source": [
    "from sklearn.linear_model import LinearRegression\n",
    "import numpy as np\n",
    "X = df[['arf_apache']]\n",
    "Y = df['diabetes_mellitus']\n",
    "slm = LinearRegression()\n",
    "np.set_printoptions(precision=2)\n",
    "slm.fit(X,Y)"
   ]
  },
  {
   "cell_type": "code",
   "execution_count": null,
   "metadata": {},
   "outputs": [],
   "source": [
    "Yhat =slm_hm.predict(X_hm)"
   ]
  }
 ]
}