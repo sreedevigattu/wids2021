{
 "nbformat": 4,
 "nbformat_minor": 2,
 "metadata": {
  "language_info": {
   "name": "python",
   "codemirror_mode": {
    "name": "ipython",
    "version": 3
   },
   "version": "3.9.1-final"
  },
  "orig_nbformat": 2,
  "file_extension": ".py",
  "mimetype": "text/x-python",
  "name": "python",
  "npconvert_exporter": "python",
  "pygments_lexer": "ipython3",
  "version": 3,
  "kernelspec": {
   "name": "python39164bitvenvvenv42d9530a45f24e7fb408333c496c5650",
   "display_name": "Python 3.9.1 64-bit ('venv': venv)"
  }
 },
 "cells": [
  {
   "cell_type": "code",
   "execution_count": 1,
   "metadata": {},
   "outputs": [],
   "source": [
    "import pandas as pd\n",
    "import numpy as np\n",
    "\n",
    "pd.options.display.float_format = '{:.2f}%'.format"
   ]
  },
  {
   "cell_type": "markdown",
   "metadata": {},
   "source": [
    "## Exploration of the identifier and demographic-1 features\n",
    "\n",
    "- **identifier** features\n",
    "    - **encounter_id**: Unique, non-repeating values. \n",
    "    - **hospital_id-icu_id**: A patient diagnosed with Diabetus Mellitus should not depend on hospital_id & it's icu_id. Each hostpital will have unique icu_ids. **DROP**\n",
    "- **demographic-1** features\n",
    "    - age, height, weight, bmi, gender, ethnicity\n",
    "    - **readmission_status**: is 0 for all rows. **DROP**\n",
    "    - Compare the training and test datasets\n",
    "    - Compare values in the training set where the dm=1 and dm=0\n",
    "- **demographic-2** features *TODO*\n",
    "    - readmission_status, elective_surgery, ....\n",
    "- **labs & vitals category**: *TODO*\n",
    "    - They have max and min values. Should these be replaced with average?\n",
    "\n"
   ],
   "execution_count": null,
   "outputs": []
  },
  {
   "cell_type": "markdown",
   "metadata": {},
   "source": [
    "## Common Functions"
   ],
   "execution_count": null,
   "outputs": []
  },
  {
   "cell_type": "code",
   "execution_count": 2,
   "metadata": {},
   "outputs": [],
   "source": [
    "def _describe(df, df_type):\n",
    "    m_total = 'Entries - Total:'\n",
    "    m_features = \"Features:\"\n",
    "\n",
    "    print(\"-\"*40)\n",
    "    print(f\"{df_type} dataset - details\")\n",
    "    print(\"-\"*40)\n",
    "    print(f\"{m_total:33} {df.shape[0]:6}\")\n",
    "\n",
    "    df_dm_1 = df_dm_0 = pd.DataFrame()\n",
    "    if df_type != \"Testing\":\n",
    "        df_dm_1  = df[df['diabetes_mellitus']==1]; df_dm_1.to_csv(f\"{df_type}_dm_1.csv\")\n",
    "        df_dm_0  = df[df['diabetes_mellitus']==0]; df_dm_0.to_csv(f\"{df_type}_dm_0.csv\")\n",
    "        print(f\"Entries - diabetes_mellitus = 1: {df_dm_1.shape[0]:7} {100 * df_dm_1.shape[0]/df.shape[0]:0.2f}%\")\n",
    "        print(f\"Entries - diabetes_mellitus = 0: {df_dm_0.shape[0]:7} {100 * df_dm_0.shape[0]/df.shape[0]:0.2f}%\")\n",
    "    print(f\"{m_features:33} {len(df.columns):6}\")\n",
    "    return df.shape[0], df_dm_1, df_dm_0\n",
    ""
   ]
  },
  {
   "cell_type": "code",
   "execution_count": 3,
   "metadata": {},
   "outputs": [],
   "source": [
    "def _nullcheck(df):\n",
    "    for col in ['age', 'gender', 'ethnicity', 'weight', 'height', 'bmi']:\n",
    "        print(f\"{col:10}: {df[df[col].isnull()].shape[0]:4}\")\n",
    "        \n",
    "    print(\"readmission_status\", df_train['readmission_status'].unique())"
   ]
  },
  {
   "cell_type": "code",
   "execution_count": 4,
   "metadata": {},
   "outputs": [],
   "source": [
    "def _nullcheck_bmi(df):\n",
    "    df_bmi = df[['weight', 'height', 'bmi', 'age', 'gender', 'ethnicity']]\n",
    "    print(\"Number of rows where either weight or height or both are null\", \n",
    "            df_bmi[ df_bmi['height'].isnull() & df_bmi['weight'].notnull() |\n",
    "            df_bmi['height'].notnull() & df_bmi['weight'].isnull() |\n",
    "            df_bmi['height'].isnull() & df_bmi['weight'].isnull()].shape[0])\n",
    "    print(\"Number of rows where bmi is null\",  df_bmi[ df_bmi['bmi'].isnull()].shape[0])\n",
    "\n",
    "    print(f\"Rows with Weight=null Height=!null BMI=!null {df_bmi[df_bmi['weight'].isnull() & df_bmi['height'].isnull() & df_bmi['bmi'].notnull()].shape[0]}\")\n",
    "    print(f\"Rows with Weight=!null Height=null BMI=!null {df_bmi[df_bmi['weight'].notnull() & df_bmi['height'].isnull() & df_bmi['bmi'].notnull()].shape[0]}\")\n",
    "    print(f\"Rows with Weight=null Height=!null BMI=!null {df_bmi[df_bmi['weight'].isnull() & df_bmi['height'].notnull() & df_bmi['bmi'].notnull()].shape[0]}\")\n",
    "    print(f\"Rows with Weight=!null Height=!null BMI=null {df_bmi[df_bmi['weight'].notnull() & df_bmi['height'].notnull() & df_bmi['bmi'].isnull()].shape[0]}\")\n",
    "\n",
    "    df_bmi = df_bmi[df_bmi['bmi'].isnull()]\n",
    "    print(\"bmi=null\", df_bmi.shape[0])\n",
    "    rows_dep = df_bmi[df_bmi['age'].notnull() & df_bmi['ethnicity'].notnull() & df_bmi['gender'].notnull()].shape[0]\n",
    "    print(df_bmi.shape[0], rows_dep, df_bmi.shape[0]-rows_dep)\n",
    "    print(\"Atleast one dependent column is null:\", df_bmi[df_bmi['age'].isnull() | df_bmi['ethnicity'].isnull() | df_bmi['gender'].isnull()].shape[0])\n",
    "    print(\"Age: null, Ethnicity:!null, Gender:!null:\", df_bmi[df_bmi['age'].isnull() & df_bmi['ethnicity'].notnull() & df_bmi['gender'].notnull()].shape[0])\n",
    "    print(\"All dependent columns are null:\", df_bmi[df_bmi['age'].isnull() & df_bmi['ethnicity'].isnull() & df_bmi['gender'].isnull()].shape[0])\n",
    "    df_bmi[df_bmi['age'].isnull() | df_bmi['ethnicity'].isnull() | df_bmi['gender'].isnull()].to_csv(\"bmi_null.csv\")"
   ]
  },
  {
   "cell_type": "code",
   "execution_count": 5,
   "metadata": {},
   "outputs": [],
   "source": [
    "def AGE_BINS(df):\n",
    "      return pd.cut(df['age'], [-0.1, 0, 15.9, 20, 40, 60, 90, 120])\n",
    "\n",
    "def _agedist(df, df_name):\n",
    "    total_count = df.shape[0]\n",
    "    nan_count = df[df['age'].isnull()].shape[0]\n",
    "    nan_pc = nan_count/total_count\n",
    "\n",
    "    ages = df['age'].unique()\n",
    "    ages.sort()\n",
    "    # Since age has 0.0 values, these should be ignored/replaced\n",
    "    min_age = ages[1]\n",
    "    print(f\"Invalid age: {df[df['age']==0.0]['age'].count()} Min: {df['age'].min():0.2f} Max: {df['age'].max():0.2f}\")\n",
    "\n",
    "    # Group the ages based on the age-groups\n",
    "    #bins = pd.cut(df['age'], AGE_BINS)\n",
    "    df_age = df.groupby(AGE_BINS(df))['age'].agg(['count'])\n",
    "    df_age = df_age.reset_index()\n",
    "\n",
    "    \n",
    "\n",
    "    # Append the null value counts\n",
    "    df_age = df_age.append(pd.DataFrame([['null', nan_count]], columns = ['age', f'count']))\n",
    "\n",
    "    # Add a percentage column\n",
    "    df_age[f'{df_name}_%'] = 100 * df_age['count']/total_count\n",
    "    df_age = df_age.rename(columns = {'count':f\"{df_name}_count\"})\n",
    "\n",
    "    print(df_age)\n",
    "    print(f\"Verification:   {df_name}_count: {df_age[f'{df_name}_count'].sum()} \"\n",
    "          f\"{df_name}_%: {df_age[f'{df_name}_%'].sum():0.1f}%\")\n",
    "    return df_age, nan_count, nan_pc"
   ]
  },
  {
   "cell_type": "code",
   "execution_count": 6,
   "metadata": {},
   "outputs": [],
   "source": [
    "# underweight, normal, overweight, obese\n",
    "BMI_LABELS = [ '[0.0 - 18.5] underweight',\n",
    "               '[18.5 - 24.9] normal weight',\n",
    "               '[25 -  30] over weight',\n",
    "               '[70  <] obese']\n",
    "\n",
    "def BMI_BINS(df):\n",
    "      return pd.cut(df['bmi'], [0, 18.5, 24.9, 30, 70], labels=BMI_LABELS)\n",
    "\n",
    "def _bmidist(df, df_name):\n",
    "    total_count = df.shape[0]\n",
    "    nan_count = df[df['bmi'].isnull()].shape[0]\n",
    "    nan_pc = nan_count/total_count\n",
    "    print(f\"Min: {df['bmi'].min():0.2f} Max: {df['bmi'].max():0.2f}\")\n",
    "\n",
    "    # Group the values based on the bmi-categories\n",
    "    #bins = pd.cut(df['bmi'], BMI_BINS, labels=BMI_LABELS)\n",
    "    df_bmi = df.groupby(BMI_BINS(df))['bmi'].agg(['count'])\n",
    "    df_bmi = df_bmi.reset_index()\n",
    "\n",
    "    # Append the null value counts\n",
    "    df_bmi = df_bmi.append(pd.DataFrame([['null', nan_count]], columns = ['bmi', f'count']))\n",
    "\n",
    "    # Add a percentage column\n",
    "    df_bmi[f\"{df_name}_%\"] = 100 * df_bmi['count']/total_count\n",
    "    df_bmi = df_bmi.rename(columns = {'count':f\"{df_name}_count\"})\n",
    "\n",
    "    print(df_bmi)\n",
    "    print(f\"Verification:   {df_name}_count: {df_bmi[f'{df_name}_count'].sum()} \"\n",
    "          f\"{df_name}_%: {df_bmi[f'{df_name}_%'].sum():0.1f}%\")\n",
    "    return df_bmi, nan_count, nan_pc"
   ]
  },
  {
   "cell_type": "code",
   "execution_count": 7,
   "metadata": {},
   "outputs": [],
   "source": [
    "def _categoricalvardist(df, df_name, catvar, total_count=-1):\n",
    "    if total_count == -1:\n",
    "        total_count = df.shape[0]\n",
    "        \n",
    "    nan_count = df[df[catvar].isnull()].shape[0]\n",
    "    nan_pc = nan_count/total_count\n",
    "\n",
    "    df_catvar = df.groupby([catvar]).count()['encounter_id'].sort_values(ascending=False).reset_index()\n",
    "    df_catvar = df_catvar.rename(columns = {'encounter_id':'count'})\n",
    "\n",
    "    # Append the null value counts\n",
    "    df_catvar = df_catvar.append(pd.DataFrame([['null', nan_count]], columns = [catvar, f'count']))\n",
    "\n",
    "    # Add a percentage column\n",
    "    df_catvar[f\"{df_name}_%\"] = 100 * df_catvar['count']/total_count\n",
    "    df_catvar = df_catvar.rename(columns = {'count':f\"{df_name}_count\"})\n",
    "\n",
    "    print(df_catvar)\n",
    "    print(f\"Verification:   {df_name}_count: {df_catvar[f'{df_name}_count'].sum()} \"\n",
    "          f\"{df_name}_%: {df_catvar[f'{df_name}_%'].sum():0.1f}%\")\n",
    "    return df_catvar, nan_count, nan_pc"
   ]
  },
  {
   "cell_type": "code",
   "execution_count": 8,
   "metadata": {},
   "outputs": [],
   "source": [
    "def _compare(feature, df1, df2, col1, col2):\n",
    "    df = df1.join(df2.set_index(feature), on=feature)\n",
    "    print(f\"{feature}: {col1}: {df1[f'{col1}'].sum():0.1f}% {col2}: {df2[f'{col2}'].sum():0.1f}%\")\n",
    "    return df"
   ]
  },
  {
   "cell_type": "code",
   "execution_count": 9,
   "metadata": {},
   "outputs": [],
   "source": [
    "def fillnan(df, col, rep_value):\n",
    "    df[col].fillna(rep_value, inplace=True)"
   ]
  },
  {
   "cell_type": "code",
   "execution_count": 10,
   "metadata": {},
   "outputs": [],
   "source": [
    "def fillnan_gender(df): #TODO: Remove\n",
    "    df['gender'].fillna('Unknown', inplace=True)"
   ]
  },
  {
   "cell_type": "code",
   "execution_count": 11,
   "metadata": {},
   "outputs": [],
   "source": [
    "def fillnan_ethnicity(df): #TODO: Remove\n",
    "    df['ethnicity'].fillna('Other/Unknown', inplace=True)"
   ]
  },
  {
   "cell_type": "markdown",
   "metadata": {},
   "source": [
    "## Training dataset"
   ],
   "execution_count": null,
   "outputs": []
  },
  {
   "cell_type": "code",
   "execution_count": 12,
   "metadata": {},
   "outputs": [
    {
     "output_type": "stream",
     "name": "stdout",
     "text": "Index(['Unnamed: 0', 'encounter_id', 'hospital_id', 'age', 'bmi',\n       'elective_surgery', 'ethnicity', 'gender', 'height',\n       'hospital_admit_source',\n       ...\n       'h1_pao2fio2ratio_max', 'h1_pao2fio2ratio_min', 'aids', 'cirrhosis',\n       'hepatic_failure', 'immunosuppression', 'leukemia', 'lymphoma',\n       'solid_tumor_with_metastasis', 'diabetes_mellitus'],\n      dtype='object', length=181)\n"
    }
   ],
   "source": [
    "df_train = pd.read_csv(\"data/TrainingWiDS2021.csv\")\n",
    "df_train.describe()\n",
    "print(df_train.columns)"
   ]
  },
  {
   "cell_type": "code",
   "execution_count": 13,
   "metadata": {},
   "outputs": [
    {
     "output_type": "stream",
     "name": "stdout",
     "text": "----------------------------------------\nTraining dataset - details\n----------------------------------------\nEntries - Total:                  130157\nEntries - diabetes_mellitus = 1:   28151 21.63%\nEntries - diabetes_mellitus = 0:  102006 78.37%\nFeatures:                            181\n"
    }
   ],
   "source": [
    "train_count, df_train_dm_1, df_train_dm_0 = _describe(df_train, \"Training\")"
   ]
  },
  {
   "cell_type": "code",
   "execution_count": 14,
   "metadata": {},
   "outputs": [
    {
     "output_type": "stream",
     "name": "stdout",
     "text": "age       : 4988\ngender    :   66\nethnicity : 1587\nweight    : 3463\nheight    : 2077\nbmi       : 4490\nreadmission_status [0]\n"
    }
   ],
   "source": [
    "_nullcheck(df_train)\n",
    ""
   ]
  },
  {
   "cell_type": "markdown",
   "metadata": {},
   "source": [
    "Fill **Unknown** for missing values in **gender** and **ethnicity**"
   ],
   "execution_count": null,
   "outputs": []
  },
  {
   "cell_type": "code",
   "execution_count": 15,
   "metadata": {},
   "outputs": [
    {
     "output_type": "error",
     "ename": "NameError",
     "evalue": "name 'df' is not defined",
     "traceback": [
      "\u001b[0;31m---------------------------------------------------------------------------\u001b[0m",
      "\u001b[0;31mNameError\u001b[0m                                 Traceback (most recent call last)",
      "\u001b[0;32m<ipython-input-15-40612f156c15>\u001b[0m in \u001b[0;36m<module>\u001b[0;34m\u001b[0m\n\u001b[0;32m----> 1\u001b[0;31m \u001b[0mfillnan\u001b[0m\u001b[0;34m(\u001b[0m\u001b[0mdf\u001b[0m\u001b[0;34m,\u001b[0m \u001b[0;34m'gender'\u001b[0m\u001b[0;34m,\u001b[0m \u001b[0;34m'Unknown'\u001b[0m\u001b[0;34m)\u001b[0m\u001b[0;34m\u001b[0m\u001b[0;34m\u001b[0m\u001b[0m\n\u001b[0m\u001b[1;32m      2\u001b[0m \u001b[0mfillnan\u001b[0m\u001b[0;34m(\u001b[0m\u001b[0mdf\u001b[0m\u001b[0;34m,\u001b[0m \u001b[0;34m'ethnicity'\u001b[0m\u001b[0;34m,\u001b[0m \u001b[0;34m'Other/Unknown'\u001b[0m\u001b[0;34m)\u001b[0m\u001b[0;34m\u001b[0m\u001b[0;34m\u001b[0m\u001b[0m\n\u001b[1;32m      3\u001b[0m \u001b[0;31m#fillnan_gender(df_train)\u001b[0m\u001b[0;34m\u001b[0m\u001b[0;34m\u001b[0m\u001b[0;34m\u001b[0m\u001b[0m\n\u001b[1;32m      4\u001b[0m \u001b[0;31m#fillnan_ethnicity(df_train)\u001b[0m\u001b[0;34m\u001b[0m\u001b[0;34m\u001b[0m\u001b[0;34m\u001b[0m\u001b[0m\n",
      "\u001b[0;31mNameError\u001b[0m: name 'df' is not defined"
     ]
    }
   ],
   "source": [
    "fillnan(df_train, 'gender', 'Unknown')\n",
    "fillnan(df_train, 'ethnicity', 'Other/Unknown')\n",
    "#fillnan_gender(df_train) \n",
    "#fillnan_ethnicity(df_train)"
   ]
  },
  {
   "cell_type": "code",
   "execution_count": 16,
   "metadata": {},
   "outputs": [
    {
     "output_type": "stream",
     "name": "stdout",
     "text": "age       : 4988\ngender    :   66\nethnicity : 1587\nweight    : 3463\nheight    : 2077\nbmi       : 4490\nreadmission_status [0]\n"
    }
   ],
   "source": [
    "_nullcheck(df_train)"
   ]
  },
  {
   "cell_type": "markdown",
   "metadata": {},
   "source": [
    "BMI calculations - relation to diabetes\n",
    "bmi = weight (kg) / [height (m)]2\n",
    "\n",
    "Adults:\n",
    "For adults, the interpretation of BMI does not depend on sex or age. \n",
    "For adults 20 years old and older, BMI is interpreted using standard weight status categories.\n",
    "**BMI\tWeight Status**\n",
    "- Below 18.5\tUnderweight\n",
    "- 18.5 – 24.9\tNormal or Healthy Weight\n",
    "- 25.0 – 29.9\tOverweight\n",
    "-  30.0 and Above\tObese"
   ],
   "execution_count": null,
   "outputs": []
  },
  {
   "cell_type": "code",
   "execution_count": 17,
   "metadata": {},
   "outputs": [
    {
     "output_type": "stream",
     "name": "stdout",
     "text": "Number of rows where either weight or height or both are null 4490\nNumber of rows where bmi is null 4490\nRows with Weight=null Height=!null BMI=!null 0\nRows with Weight=!null Height=null BMI=!null 0\nRows with Weight=null Height=!null BMI=!null 0\nRows with Weight=!null Height=!null BMI=null 0\nbmi=null 4490\n4490 4099 391\nAtleast one dependent column is null: 391\nAge: null, Ethnicity:!null, Gender:!null: 177\nAll dependent columns are null: 1\n"
    }
   ],
   "source": [
    "_nullcheck_bmi(df_train)"
   ]
  },
  {
   "cell_type": "markdown",
   "metadata": {},
   "source": [
    "Wherever either weight or height or both are not available, bmi is also not available.\n",
    "There are no rows where height and weight are null and bmi is not null.\n",
    "\n",
    "Strategy for filling missing values for weight and height should be \n",
    "\n",
    "TODO: Isn't bmi dependent on gender?"
   ],
   "execution_count": null,
   "outputs": []
  },
  {
   "cell_type": "code",
   "execution_count": 18,
   "metadata": {},
   "outputs": [
    {
     "output_type": "stream",
     "name": "stdout",
     "text": "Invalid age: 30 Min: 0.00 Max: 89.00\n             age  train_count  train_%\n0    (-0.1, 0.0]           30    0.02%\n1    (0.0, 15.9]            0    0.00%\n2   (15.9, 20.0]         1605    1.23%\n3   (20.0, 40.0]        13648   10.49%\n4   (40.0, 60.0]        37003   28.43%\n5   (60.0, 90.0]        72883   56.00%\n6  (90.0, 120.0]            0    0.00%\n0           null         4988    3.83%\nVerification:   train_count: 130157 train_%: 100.0%\nMin: 14.84 Max: 67.81\n                           bmi  train_count  train_%\n0     [0.0 - 18.5] underweight         5323    4.09%\n1  [18.5 - 24.9] normal weight        36015   27.67%\n2       [25 -  30] over weight        38010   29.20%\n3                [70  <] obese        46319   35.59%\n0                         null         4490    3.45%\nVerification:   train_count: 130157 train_%: 100.0%\n  gender  train_count  train_%\n0      M        70518   54.18%\n1      F        59573   45.77%\n0   null           66    0.05%\nVerification:   train_count: 130157 train_%: 100.0%\n          ethnicity  train_count  train_%\n0         Caucasian       100236   77.01%\n1  African American        13911   10.69%\n2     Other/Unknown         6261    4.81%\n3          Hispanic         5049    3.88%\n4             Asian         2198    1.69%\n5   Native American          915    0.70%\n0              null         1587    1.22%\nVerification:   train_count: 130157 train_%: 100.0%\n"
    }
   ],
   "source": [
    "df_train_age, train_age_nan, train_age_nanpc = _agedist(df_train, \"train\")\n",
    "df_train_bmi, train_bmi_nan, train_bmi_nanpc = _bmidist(df_train, \"train\")\n",
    "df_train_gender, nan_count, nan_pc = _categoricalvardist(df_train, 'train', 'gender')\n",
    "df_train_ethnicity, nan_count, nan_pc = _categoricalvardist(df_train, 'train', 'ethnicity')"
   ]
  },
  {
   "cell_type": "markdown",
   "metadata": {},
   "source": [
    "### Train - diabetes_mellitus = 1"
   ],
   "execution_count": null,
   "outputs": []
  },
  {
   "cell_type": "code",
   "execution_count": 19,
   "metadata": {},
   "outputs": [
    {
     "output_type": "stream",
     "name": "stdout",
     "text": "Invalid age: 3 Min: 0.00 Max: 89.00\n             age  train_dm_1_count  train_dm_1_%\n0    (-0.1, 0.0]                 3         0.01%\n1    (0.0, 15.9]                 0         0.00%\n2   (15.9, 20.0]               183         0.65%\n3   (20.0, 40.0]              1644         5.84%\n4   (40.0, 60.0]              7579        26.92%\n5   (60.0, 90.0]             18082        64.23%\n6  (90.0, 120.0]                 0         0.00%\n0           null               660         2.34%\nVerification:   train_dm_1_count: 28151 train_dm_1_%: 100.0%\nMin: 14.84 Max: 67.81\n                           bmi  train_dm_1_count  train_dm_1_%\n0     [0.0 - 18.5] underweight               597         2.12%\n1  [18.5 - 24.9] normal weight              5268        18.71%\n2       [25 -  30] over weight              7503        26.65%\n3                [70  <] obese             13868        49.26%\n0                         null               915         3.25%\nVerification:   train_dm_1_count: 28151 train_dm_1_%: 100.0%\n  gender  train_dm_1_count  train_dm_1_%\n0      M             15420        54.78%\n1      F             12726        45.21%\n0   null                 5         0.02%\nVerification:   train_dm_1_count: 28151 train_dm_1_%: 100.0%\n          ethnicity  train_dm_1_count  train_dm_1_%\n0         Caucasian             20605        73.19%\n1  African American              3654        12.98%\n2     Other/Unknown              1595         5.67%\n3          Hispanic              1243         4.42%\n4             Asian               538         1.91%\n5   Native American               294         1.04%\n0              null               222         0.79%\nVerification:   train_dm_1_count: 28151 train_dm_1_%: 100.0%\n"
    }
   ],
   "source": [
    "df_train_dm_1_age, train_dm_1_age_nan, train_dm_1_age_nanpc = _agedist(df_train_dm_1, \"train_dm_1\")\n",
    "df_train_dm_1_bmi, train_dm_1_bmi_nan, train_dm_1_bmi_nanpc = _bmidist(df_train_dm_1, \"train_dm_1\")\n",
    "df_train_dm_1_gender, train_dm_1_gender_nan, train_dm_1_gender_nanpc = _categoricalvardist(df_train_dm_1, 'train_dm_1', 'gender')\n",
    "df_train_dm_1_ethnicity, train_dm_1_ethnicity_nan, train_dm_1_ethnicity_nanpc = _categoricalvardist(df_train_dm_1, 'train_dm_1', 'ethnicity')"
   ]
  },
  {
   "cell_type": "markdown",
   "metadata": {},
   "source": [
    "### Train - diabetes_mellitus = 0"
   ],
   "execution_count": null,
   "outputs": []
  },
  {
   "cell_type": "code",
   "execution_count": 20,
   "metadata": {},
   "outputs": [
    {
     "output_type": "stream",
     "name": "stdout",
     "text": "Invalid age: 27 Min: 0.00 Max: 89.00\n             age  train_dm_0_count  train_dm_0_%\n0    (-0.1, 0.0]                27         0.03%\n1    (0.0, 15.9]                 0         0.00%\n2   (15.9, 20.0]              1422         1.39%\n3   (20.0, 40.0]             12004        11.77%\n4   (40.0, 60.0]             29424        28.85%\n5   (60.0, 90.0]             54801        53.72%\n6  (90.0, 120.0]                 0         0.00%\n0           null              4328         4.24%\nVerification:   train_dm_0_count: 102006 train_dm_0_%: 100.0%\nMin: 14.84 Max: 67.81\n                           bmi  train_dm_0_count  train_dm_0_%\n0     [0.0 - 18.5] underweight              4726         4.63%\n1  [18.5 - 24.9] normal weight             30747        30.14%\n2       [25 -  30] over weight             30507        29.91%\n3                [70  <] obese             32451        31.81%\n0                         null              3575         3.50%\nVerification:   train_dm_0_count: 102006 train_dm_0_%: 100.0%\n  gender  train_dm_0_count  train_dm_0_%\n0      M             55098        54.01%\n1      F             46847        45.93%\n0   null                61         0.06%\nVerification:   train_dm_0_count: 102006 train_dm_0_%: 100.0%\n          ethnicity  train_dm_0_count  train_dm_0_%\n0         Caucasian             79631        78.07%\n1  African American             10257        10.06%\n2     Other/Unknown              4666         4.57%\n3          Hispanic              3806         3.73%\n4             Asian              1660         1.63%\n5   Native American               621         0.61%\n0              null              1365         1.34%\nVerification:   train_dm_0_count: 102006 train_dm_0_%: 100.0%\n"
    }
   ],
   "source": [
    "df_train_dm_0_age, train_dm_0_age_nan, train_dm_0_age_nanpc = _agedist(df_train_dm_0, \"train_dm_0\")\n",
    "df_train_dm_0_bmi, train_dm_0_bmi_nan, train_dm_0_bmi_nanpc = _bmidist(df_train_dm_0, \"train_dm_0\")\n",
    "df_train_dm_0_gender, train_dm_0_gender_nan, train_dm_0_gender_nanpc = _categoricalvardist(df_train_dm_0, 'train_dm_0', 'gender')\n",
    "df_train_dm_0_ethnicity, train_dm_0_ethnicity_nan, train_dm_0_ethnicity_nanpc = _categoricalvardist(df_train_dm_0, 'train_dm_0', 'ethnicity')"
   ]
  },
  {
   "cell_type": "markdown",
   "metadata": {},
   "source": [
    "## Unlabeled Dataset"
   ],
   "execution_count": null,
   "outputs": []
  },
  {
   "cell_type": "code",
   "execution_count": 21,
   "metadata": {},
   "outputs": [
    {
     "output_type": "execute_result",
     "data": {
      "text/plain": "       Unnamed: 0  encounter_id  hospital_id       age      bmi  \\\ncount   10234.00%     10234.00%    10234.00% 10234.00% 9219.00%   \nmean     5117.50%    140498.78%    10092.39%    62.85%   29.12%   \nstd      2954.45%      3182.46%       57.01%    17.85%    8.34%   \nmin         1.00%    135000.00%    10001.00%    18.00%   14.90%   \n25%      2559.25%    137742.25%    10043.00%    52.00%   23.70%   \n50%      5117.50%    140503.50%    10085.00%    65.00%   27.60%   \n75%      7675.75%    143252.75%    10145.00%    76.00%   32.60%   \nmax     10234.00%    146000.00%    10199.00%    96.00%   69.94%   \n\n       elective_surgery   height    icu_id  pre_icu_los_days  \\\ncount         10234.00% 9933.00% 10234.00%         10234.00%   \nmean              0.20%  169.28%   677.82%             0.83%   \nstd               0.40%   10.81%   304.12%             2.41%   \nmin               0.00%  137.00%    82.00%            -0.21%   \n25%               0.00%  162.50%   451.00%             0.03%   \n50%               0.00%  170.00%   687.00%             0.13%   \n75%               0.00%  177.80%   962.00%             0.43%   \nmax               1.00%  195.60%  1111.00%            65.95%   \n\n       readmission_status  ...  h1_arterial_po2_min  h1_pao2fio2ratio_max  \\\ncount           10234.00%  ...             1928.00%              1422.00%   \nmean                0.00%  ...              156.77%               254.69%   \nstd                 0.00%  ...              105.62%               132.09%   \nmin                 0.00%  ...               30.00%                42.62%   \n25%                 0.00%  ...               79.00%               151.40%   \n50%                 0.00%  ...              118.00%               234.00%   \n75%                 0.00%  ...              206.07%               345.52%   \nmax                 0.00%  ...              518.06%               672.82%   \n\n       h1_pao2fio2ratio_min      aids  cirrhosis  hepatic_failure  \\\ncount              1422.00% 10234.00%  10234.00%        10234.00%   \nmean                246.26%     0.00%      0.01%            0.01%   \nstd                 130.75%     0.03%      0.11%            0.10%   \nmin                  41.42%     0.00%      0.00%            0.00%   \n25%                 144.05%     0.00%      0.00%            0.00%   \n50%                 224.00%     0.00%      0.00%            0.00%   \n75%                 336.52%     0.00%      0.00%            0.00%   \nmax                 651.66%     1.00%      1.00%            1.00%   \n\n       immunosuppression  leukemia  lymphoma  solid_tumor_with_metastasis  \ncount          10234.00% 10234.00% 10234.00%                    10234.00%  \nmean               0.02%     0.01%     0.00%                        0.02%  \nstd                0.15%     0.08%     0.06%                        0.13%  \nmin                0.00%     0.00%     0.00%                        0.00%  \n25%                0.00%     0.00%     0.00%                        0.00%  \n50%                0.00%     0.00%     0.00%                        0.00%  \n75%                0.00%     0.00%     0.00%                        0.00%  \nmax                1.00%     1.00%     1.00%                        1.00%  \n\n[8 rows x 174 columns]",
      "text/html": "<div>\n<style scoped>\n    .dataframe tbody tr th:only-of-type {\n        vertical-align: middle;\n    }\n\n    .dataframe tbody tr th {\n        vertical-align: top;\n    }\n\n    .dataframe thead th {\n        text-align: right;\n    }\n</style>\n<table border=\"1\" class=\"dataframe\">\n  <thead>\n    <tr style=\"text-align: right;\">\n      <th></th>\n      <th>Unnamed: 0</th>\n      <th>encounter_id</th>\n      <th>hospital_id</th>\n      <th>age</th>\n      <th>bmi</th>\n      <th>elective_surgery</th>\n      <th>height</th>\n      <th>icu_id</th>\n      <th>pre_icu_los_days</th>\n      <th>readmission_status</th>\n      <th>...</th>\n      <th>h1_arterial_po2_min</th>\n      <th>h1_pao2fio2ratio_max</th>\n      <th>h1_pao2fio2ratio_min</th>\n      <th>aids</th>\n      <th>cirrhosis</th>\n      <th>hepatic_failure</th>\n      <th>immunosuppression</th>\n      <th>leukemia</th>\n      <th>lymphoma</th>\n      <th>solid_tumor_with_metastasis</th>\n    </tr>\n  </thead>\n  <tbody>\n    <tr>\n      <th>count</th>\n      <td>10234.00%</td>\n      <td>10234.00%</td>\n      <td>10234.00%</td>\n      <td>10234.00%</td>\n      <td>9219.00%</td>\n      <td>10234.00%</td>\n      <td>9933.00%</td>\n      <td>10234.00%</td>\n      <td>10234.00%</td>\n      <td>10234.00%</td>\n      <td>...</td>\n      <td>1928.00%</td>\n      <td>1422.00%</td>\n      <td>1422.00%</td>\n      <td>10234.00%</td>\n      <td>10234.00%</td>\n      <td>10234.00%</td>\n      <td>10234.00%</td>\n      <td>10234.00%</td>\n      <td>10234.00%</td>\n      <td>10234.00%</td>\n    </tr>\n    <tr>\n      <th>mean</th>\n      <td>5117.50%</td>\n      <td>140498.78%</td>\n      <td>10092.39%</td>\n      <td>62.85%</td>\n      <td>29.12%</td>\n      <td>0.20%</td>\n      <td>169.28%</td>\n      <td>677.82%</td>\n      <td>0.83%</td>\n      <td>0.00%</td>\n      <td>...</td>\n      <td>156.77%</td>\n      <td>254.69%</td>\n      <td>246.26%</td>\n      <td>0.00%</td>\n      <td>0.01%</td>\n      <td>0.01%</td>\n      <td>0.02%</td>\n      <td>0.01%</td>\n      <td>0.00%</td>\n      <td>0.02%</td>\n    </tr>\n    <tr>\n      <th>std</th>\n      <td>2954.45%</td>\n      <td>3182.46%</td>\n      <td>57.01%</td>\n      <td>17.85%</td>\n      <td>8.34%</td>\n      <td>0.40%</td>\n      <td>10.81%</td>\n      <td>304.12%</td>\n      <td>2.41%</td>\n      <td>0.00%</td>\n      <td>...</td>\n      <td>105.62%</td>\n      <td>132.09%</td>\n      <td>130.75%</td>\n      <td>0.03%</td>\n      <td>0.11%</td>\n      <td>0.10%</td>\n      <td>0.15%</td>\n      <td>0.08%</td>\n      <td>0.06%</td>\n      <td>0.13%</td>\n    </tr>\n    <tr>\n      <th>min</th>\n      <td>1.00%</td>\n      <td>135000.00%</td>\n      <td>10001.00%</td>\n      <td>18.00%</td>\n      <td>14.90%</td>\n      <td>0.00%</td>\n      <td>137.00%</td>\n      <td>82.00%</td>\n      <td>-0.21%</td>\n      <td>0.00%</td>\n      <td>...</td>\n      <td>30.00%</td>\n      <td>42.62%</td>\n      <td>41.42%</td>\n      <td>0.00%</td>\n      <td>0.00%</td>\n      <td>0.00%</td>\n      <td>0.00%</td>\n      <td>0.00%</td>\n      <td>0.00%</td>\n      <td>0.00%</td>\n    </tr>\n    <tr>\n      <th>25%</th>\n      <td>2559.25%</td>\n      <td>137742.25%</td>\n      <td>10043.00%</td>\n      <td>52.00%</td>\n      <td>23.70%</td>\n      <td>0.00%</td>\n      <td>162.50%</td>\n      <td>451.00%</td>\n      <td>0.03%</td>\n      <td>0.00%</td>\n      <td>...</td>\n      <td>79.00%</td>\n      <td>151.40%</td>\n      <td>144.05%</td>\n      <td>0.00%</td>\n      <td>0.00%</td>\n      <td>0.00%</td>\n      <td>0.00%</td>\n      <td>0.00%</td>\n      <td>0.00%</td>\n      <td>0.00%</td>\n    </tr>\n    <tr>\n      <th>50%</th>\n      <td>5117.50%</td>\n      <td>140503.50%</td>\n      <td>10085.00%</td>\n      <td>65.00%</td>\n      <td>27.60%</td>\n      <td>0.00%</td>\n      <td>170.00%</td>\n      <td>687.00%</td>\n      <td>0.13%</td>\n      <td>0.00%</td>\n      <td>...</td>\n      <td>118.00%</td>\n      <td>234.00%</td>\n      <td>224.00%</td>\n      <td>0.00%</td>\n      <td>0.00%</td>\n      <td>0.00%</td>\n      <td>0.00%</td>\n      <td>0.00%</td>\n      <td>0.00%</td>\n      <td>0.00%</td>\n    </tr>\n    <tr>\n      <th>75%</th>\n      <td>7675.75%</td>\n      <td>143252.75%</td>\n      <td>10145.00%</td>\n      <td>76.00%</td>\n      <td>32.60%</td>\n      <td>0.00%</td>\n      <td>177.80%</td>\n      <td>962.00%</td>\n      <td>0.43%</td>\n      <td>0.00%</td>\n      <td>...</td>\n      <td>206.07%</td>\n      <td>345.52%</td>\n      <td>336.52%</td>\n      <td>0.00%</td>\n      <td>0.00%</td>\n      <td>0.00%</td>\n      <td>0.00%</td>\n      <td>0.00%</td>\n      <td>0.00%</td>\n      <td>0.00%</td>\n    </tr>\n    <tr>\n      <th>max</th>\n      <td>10234.00%</td>\n      <td>146000.00%</td>\n      <td>10199.00%</td>\n      <td>96.00%</td>\n      <td>69.94%</td>\n      <td>1.00%</td>\n      <td>195.60%</td>\n      <td>1111.00%</td>\n      <td>65.95%</td>\n      <td>0.00%</td>\n      <td>...</td>\n      <td>518.06%</td>\n      <td>672.82%</td>\n      <td>651.66%</td>\n      <td>1.00%</td>\n      <td>1.00%</td>\n      <td>1.00%</td>\n      <td>1.00%</td>\n      <td>1.00%</td>\n      <td>1.00%</td>\n      <td>1.00%</td>\n    </tr>\n  </tbody>\n</table>\n<p>8 rows × 174 columns</p>\n</div>"
     },
     "metadata": {},
     "execution_count": 21
    }
   ],
   "source": [
    "df_test = pd.read_csv(\"data/UnlabeledWiDS2021.csv\")\n",
    "df_test.describe()"
   ]
  },
  {
   "cell_type": "code",
   "execution_count": 22,
   "metadata": {},
   "outputs": [
    {
     "output_type": "stream",
     "name": "stdout",
     "text": "----------------------------------------\nTesting dataset - details\n----------------------------------------\nEntries - Total:                   10234\nFeatures:                            180\nage       :    0\ngender    :    5\nethnicity :  204\nweight    :  908\nheight    :  301\nbmi       : 1015\nreadmission_status [0]\n"
    }
   ],
   "source": [
    "test_count, _, _ = _describe(df_test, \"Testing\")\n",
    "_nullcheck(df_test)"
   ]
  },
  {
   "cell_type": "code",
   "execution_count": null,
   "metadata": {},
   "outputs": [],
   "source": []
  },
  {
   "cell_type": "code",
   "execution_count": 23,
   "metadata": {},
   "outputs": [
    {
     "output_type": "stream",
     "name": "stdout",
     "text": "age       :    0\ngender    :    0\nethnicity :    0\nweight    :  908\nheight    :  301\nbmi       : 1015\nreadmission_status [0]\n"
    }
   ],
   "source": [
    "# TODO: move this to the null_check function\n",
    "df_test['gender'].fillna('Unknown', inplace=True)\n",
    "df_test['ethnicity'].fillna('Unknown', inplace=True)\n",
    "_nullcheck(df_test)"
   ]
  },
  {
   "cell_type": "code",
   "execution_count": 24,
   "metadata": {},
   "outputs": [
    {
     "output_type": "stream",
     "name": "stdout",
     "text": "Number of rows where either weight or height or both are null 1015\nNumber of rows where bmi is null 1015\nRows with Weight=null Height=!null BMI=!null 0\nRows with Weight=!null Height=null BMI=!null 0\nRows with Weight=null Height=!null BMI=!null 0\nRows with Weight=!null Height=!null BMI=null 0\nbmi=null 1015\n1015 1015 0\nAtleast one dependent column is null: 0\nAge: null, Ethnicity:!null, Gender:!null: 0\nAll dependent columns are null: 0\n"
    }
   ],
   "source": [
    "_nullcheck_bmi(df_test)"
   ]
  },
  {
   "cell_type": "code",
   "execution_count": 25,
   "metadata": {},
   "outputs": [
    {
     "output_type": "stream",
     "name": "stdout",
     "text": "Invalid age: 0 Min: 18.00 Max: 96.00\n             age  test_count  test_%\n0    (-0.1, 0.0]           0   0.00%\n1    (0.0, 15.9]           0   0.00%\n2   (15.9, 20.0]         180   1.76%\n3   (20.0, 40.0]        1075  10.50%\n4   (40.0, 60.0]        2939  28.72%\n5   (60.0, 90.0]        5753  56.21%\n6  (90.0, 120.0]         287   2.80%\n0           null           0   0.00%\nVerification:   test_count: 10234 test_%: 100.0%\nMin: 14.90 Max: 69.94\n                           bmi  test_count  test_%\n0     [0.0 - 18.5] underweight         388   3.79%\n1  [18.5 - 24.9] normal weight        2651  25.90%\n2       [25 -  30] over weight        2863  27.98%\n3                [70  <] obese        3317  32.41%\n0                         null        1015   9.92%\nVerification:   test_count: 10234 test_%: 100.0%\n    gender  test_count  test_%\n0        M        5525  53.99%\n1        F        4704  45.96%\n2  Unknown           5   0.05%\n0     null           0   0.00%\nVerification:   test_count: 10234 test_%: 100.0%\n          ethnicity  test_count  test_%\n0         Caucasian        7939  77.57%\n1  African American         931   9.10%\n2          Hispanic         471   4.60%\n3     Other/Unknown         435   4.25%\n4           Unknown         204   1.99%\n5             Asian         171   1.67%\n6   Native American          83   0.81%\n0              null           0   0.00%\nVerification:   test_count: 10234 test_%: 100.0%\n"
    }
   ],
   "source": [
    "df_test_age, test_age_nan, test_age_nanpc = _agedist(df_test, \"test\")\n",
    "df_test_bmi, test_bmi_nan, test_bmi_nanpc = _bmidist(df_test, \"test\")\n",
    "df_test_gender, test_gender_nan, test_gender_nanpc = _categoricalvardist(df_test, 'test', 'gender')\n",
    "df_test_ethnicity, test_ethnicity_nan, test_ethnicity_nanpc = _categoricalvardist(df_test, 'test', 'ethnicity')"
   ]
  },
  {
   "cell_type": "code",
   "execution_count": 26,
   "metadata": {},
   "outputs": [],
   "source": [
    "def _comparedf(df1, df2, col1, col2, feature):\n",
    "    df = df1.join(df2.set_index(feature), on=feature)\n",
    "    print(f\"{feature}: {col1}: {df[f'{col1}'].sum():.2f}% {col2}: {df[f'{col2}'].sum():.2f}%\")\n",
    "    return df"
   ]
  },
  {
   "cell_type": "code",
   "execution_count": 27,
   "metadata": {},
   "outputs": [
    {
     "output_type": "stream",
     "name": "stdout",
     "text": "age: train_dm_1_%: 100.0% train_dm_0_%: 100.0%\n"
    },
    {
     "output_type": "execute_result",
     "data": {
      "text/plain": "             age  train_dm_1_count  train_dm_1_%  train_dm_0_count  \\\n0    (-0.1, 0.0]                 3         0.01%                27   \n1    (0.0, 15.9]                 0         0.00%                 0   \n2   (15.9, 20.0]               183         0.65%              1422   \n3   (20.0, 40.0]              1644         5.84%             12004   \n4   (40.0, 60.0]              7579        26.92%             29424   \n5   (60.0, 90.0]             18082        64.23%             54801   \n6  (90.0, 120.0]                 0         0.00%                 0   \n0           null               660         2.34%              4328   \n\n   train_dm_0_%  \n0         0.03%  \n1         0.00%  \n2         1.39%  \n3        11.77%  \n4        28.85%  \n5        53.72%  \n6         0.00%  \n0         4.24%  ",
      "text/html": "<div>\n<style scoped>\n    .dataframe tbody tr th:only-of-type {\n        vertical-align: middle;\n    }\n\n    .dataframe tbody tr th {\n        vertical-align: top;\n    }\n\n    .dataframe thead th {\n        text-align: right;\n    }\n</style>\n<table border=\"1\" class=\"dataframe\">\n  <thead>\n    <tr style=\"text-align: right;\">\n      <th></th>\n      <th>age</th>\n      <th>train_dm_1_count</th>\n      <th>train_dm_1_%</th>\n      <th>train_dm_0_count</th>\n      <th>train_dm_0_%</th>\n    </tr>\n  </thead>\n  <tbody>\n    <tr>\n      <th>0</th>\n      <td>(-0.1, 0.0]</td>\n      <td>3</td>\n      <td>0.01%</td>\n      <td>27</td>\n      <td>0.03%</td>\n    </tr>\n    <tr>\n      <th>1</th>\n      <td>(0.0, 15.9]</td>\n      <td>0</td>\n      <td>0.00%</td>\n      <td>0</td>\n      <td>0.00%</td>\n    </tr>\n    <tr>\n      <th>2</th>\n      <td>(15.9, 20.0]</td>\n      <td>183</td>\n      <td>0.65%</td>\n      <td>1422</td>\n      <td>1.39%</td>\n    </tr>\n    <tr>\n      <th>3</th>\n      <td>(20.0, 40.0]</td>\n      <td>1644</td>\n      <td>5.84%</td>\n      <td>12004</td>\n      <td>11.77%</td>\n    </tr>\n    <tr>\n      <th>4</th>\n      <td>(40.0, 60.0]</td>\n      <td>7579</td>\n      <td>26.92%</td>\n      <td>29424</td>\n      <td>28.85%</td>\n    </tr>\n    <tr>\n      <th>5</th>\n      <td>(60.0, 90.0]</td>\n      <td>18082</td>\n      <td>64.23%</td>\n      <td>54801</td>\n      <td>53.72%</td>\n    </tr>\n    <tr>\n      <th>6</th>\n      <td>(90.0, 120.0]</td>\n      <td>0</td>\n      <td>0.00%</td>\n      <td>0</td>\n      <td>0.00%</td>\n    </tr>\n    <tr>\n      <th>0</th>\n      <td>null</td>\n      <td>660</td>\n      <td>2.34%</td>\n      <td>4328</td>\n      <td>4.24%</td>\n    </tr>\n  </tbody>\n</table>\n</div>"
     },
     "metadata": {},
     "execution_count": 27
    }
   ],
   "source": [
    "_compare('age', df_train_dm_1_age, df_train_dm_0_age, 'train_dm_1_%', 'train_dm_0_%')"
   ]
  },
  {
   "cell_type": "code",
   "execution_count": 28,
   "metadata": {},
   "outputs": [
    {
     "output_type": "stream",
     "name": "stdout",
     "text": "bmi: train_dm_1_%: 100.0% train_dm_0_%: 100.0%\n"
    },
    {
     "output_type": "execute_result",
     "data": {
      "text/plain": "                           bmi  train_dm_1_count  train_dm_1_%  \\\n0     [0.0 - 18.5] underweight               597         2.12%   \n1  [18.5 - 24.9] normal weight              5268        18.71%   \n2       [25 -  30] over weight              7503        26.65%   \n3                [70  <] obese             13868        49.26%   \n0                         null               915         3.25%   \n\n   train_dm_0_count  train_dm_0_%  \n0              4726         4.63%  \n1             30747        30.14%  \n2             30507        29.91%  \n3             32451        31.81%  \n0              3575         3.50%  ",
      "text/html": "<div>\n<style scoped>\n    .dataframe tbody tr th:only-of-type {\n        vertical-align: middle;\n    }\n\n    .dataframe tbody tr th {\n        vertical-align: top;\n    }\n\n    .dataframe thead th {\n        text-align: right;\n    }\n</style>\n<table border=\"1\" class=\"dataframe\">\n  <thead>\n    <tr style=\"text-align: right;\">\n      <th></th>\n      <th>bmi</th>\n      <th>train_dm_1_count</th>\n      <th>train_dm_1_%</th>\n      <th>train_dm_0_count</th>\n      <th>train_dm_0_%</th>\n    </tr>\n  </thead>\n  <tbody>\n    <tr>\n      <th>0</th>\n      <td>[0.0 - 18.5] underweight</td>\n      <td>597</td>\n      <td>2.12%</td>\n      <td>4726</td>\n      <td>4.63%</td>\n    </tr>\n    <tr>\n      <th>1</th>\n      <td>[18.5 - 24.9] normal weight</td>\n      <td>5268</td>\n      <td>18.71%</td>\n      <td>30747</td>\n      <td>30.14%</td>\n    </tr>\n    <tr>\n      <th>2</th>\n      <td>[25 -  30] over weight</td>\n      <td>7503</td>\n      <td>26.65%</td>\n      <td>30507</td>\n      <td>29.91%</td>\n    </tr>\n    <tr>\n      <th>3</th>\n      <td>[70  &lt;] obese</td>\n      <td>13868</td>\n      <td>49.26%</td>\n      <td>32451</td>\n      <td>31.81%</td>\n    </tr>\n    <tr>\n      <th>0</th>\n      <td>null</td>\n      <td>915</td>\n      <td>3.25%</td>\n      <td>3575</td>\n      <td>3.50%</td>\n    </tr>\n  </tbody>\n</table>\n</div>"
     },
     "metadata": {},
     "execution_count": 28
    }
   ],
   "source": [
    "df_bmi = _compare('bmi', df_train_dm_1_bmi, df_train_dm_0_bmi, 'train_dm_1_%', 'train_dm_0_%')\n",
    "df_bmi"
   ]
  },
  {
   "cell_type": "code",
   "execution_count": 29,
   "metadata": {},
   "outputs": [
    {
     "output_type": "display_data",
     "data": {
      "text/plain": "<Figure size 864x432 with 1 Axes>",
      "image/svg+xml": "<?xml version=\"1.0\" encoding=\"utf-8\" standalone=\"no\"?>\n<!DOCTYPE svg PUBLIC \"-//W3C//DTD SVG 1.1//EN\"\n  \"http://www.w3.org/Graphics/SVG/1.1/DTD/svg11.dtd\">\n<!-- Created with matplotlib (https://matplotlib.org/) -->\n<svg height=\"406.150639pt\" version=\"1.1\" viewBox=\"0 0 722.8125 406.150639\" width=\"722.8125pt\" xmlns=\"http://www.w3.org/2000/svg\" xmlns:xlink=\"http://www.w3.org/1999/xlink\">\n <metadata>\n  <rdf:RDF xmlns:cc=\"http://creativecommons.org/ns#\" xmlns:dc=\"http://purl.org/dc/elements/1.1/\" xmlns:rdf=\"http://www.w3.org/1999/02/22-rdf-syntax-ns#\">\n   <cc:Work>\n    <dc:type rdf:resource=\"http://purl.org/dc/dcmitype/StillImage\"/>\n    <dc:date>2021-01-26T11:17:18.625727</dc:date>\n    <dc:format>image/svg+xml</dc:format>\n    <dc:creator>\n     <cc:Agent>\n      <dc:title>Matplotlib v3.3.3, https://matplotlib.org/</dc:title>\n     </cc:Agent>\n    </dc:creator>\n   </cc:Work>\n  </rdf:RDF>\n </metadata>\n <defs>\n  <style type=\"text/css\">*{stroke-linecap:butt;stroke-linejoin:round;}</style>\n </defs>\n <g id=\"figure_1\">\n  <g id=\"patch_1\">\n   <path d=\"M 0 406.150639 \nL 722.8125 406.150639 \nL 722.8125 0 \nL 0 0 \nz\n\" style=\"fill:none;\"/>\n  </g>\n  <g id=\"axes_1\">\n   <g id=\"patch_2\">\n    <path d=\"M 46.0125 333.36 \nL 715.6125 333.36 \nL 715.6125 7.2 \nL 46.0125 7.2 \nz\n\" style=\"fill:#ffffff;\"/>\n   </g>\n   <g id=\"patch_3\">\n    <path clip-path=\"url(#pd8df2e036a)\" d=\"M 79.4925 333.36 \nL 112.9725 333.36 \nL 112.9725 327.645376 \nL 79.4925 327.645376 \nz\n\" style=\"fill:#1f77b4;\"/>\n   </g>\n   <g id=\"patch_4\">\n    <path clip-path=\"url(#pd8df2e036a)\" d=\"M 213.4125 333.36 \nL 246.8925 333.36 \nL 246.8925 282.93347 \nL 213.4125 282.93347 \nz\n\" style=\"fill:#1f77b4;\"/>\n   </g>\n   <g id=\"patch_5\">\n    <path clip-path=\"url(#pd8df2e036a)\" d=\"M 347.3325 333.36 \nL 380.8125 333.36 \nL 380.8125 261.539527 \nL 347.3325 261.539527 \nz\n\" style=\"fill:#1f77b4;\"/>\n   </g>\n   <g id=\"patch_6\">\n    <path clip-path=\"url(#pd8df2e036a)\" d=\"M 481.2525 333.36 \nL 514.7325 333.36 \nL 514.7325 200.612256 \nL 481.2525 200.612256 \nz\n\" style=\"fill:#1f77b4;\"/>\n   </g>\n   <g id=\"patch_7\">\n    <path clip-path=\"url(#pd8df2e036a)\" d=\"M 615.1725 333.36 \nL 648.6525 333.36 \nL 648.6525 324.601406 \nL 615.1725 324.601406 \nz\n\" style=\"fill:#1f77b4;\"/>\n   </g>\n   <g id=\"patch_8\">\n    <path clip-path=\"url(#pd8df2e036a)\" d=\"M 112.9725 333.36 \nL 146.4525 333.36 \nL 146.4525 288.121621 \nL 112.9725 288.121621 \nz\n\" style=\"fill:#ff7f0e;\"/>\n   </g>\n   <g id=\"patch_9\">\n    <path clip-path=\"url(#pd8df2e036a)\" d=\"M 246.8925 333.36 \nL 280.3725 333.36 \nL 280.3725 39.042516 \nL 246.8925 39.042516 \nz\n\" style=\"fill:#ff7f0e;\"/>\n   </g>\n   <g id=\"patch_10\">\n    <path clip-path=\"url(#pd8df2e036a)\" d=\"M 380.8125 333.36 \nL 414.2925 333.36 \nL 414.2925 41.339852 \nL 380.8125 41.339852 \nz\n\" style=\"fill:#ff7f0e;\"/>\n   </g>\n   <g id=\"patch_11\">\n    <path clip-path=\"url(#pd8df2e036a)\" d=\"M 514.7325 333.36 \nL 548.2125 333.36 \nL 548.2125 22.731429 \nL 514.7325 22.731429 \nz\n\" style=\"fill:#ff7f0e;\"/>\n   </g>\n   <g id=\"patch_12\">\n    <path clip-path=\"url(#pd8df2e036a)\" d=\"M 648.6525 333.36 \nL 682.1325 333.36 \nL 682.1325 299.139263 \nL 648.6525 299.139263 \nz\n\" style=\"fill:#ff7f0e;\"/>\n   </g>\n   <g id=\"matplotlib.axis_1\">\n    <g id=\"xtick_1\">\n     <g id=\"line2d_1\">\n      <defs>\n       <path d=\"M 0 0 \nL 0 3.5 \n\" id=\"mb841eb4eca\" style=\"stroke:#000000;stroke-width:0.8;\"/>\n      </defs>\n      <g>\n       <use style=\"stroke:#000000;stroke-width:0.8;\" x=\"112.9725\" xlink:href=\"#mb841eb4eca\" y=\"333.36\"/>\n      </g>\n     </g>\n     <g id=\"text_1\">\n      <!-- [0.0 - 18.5] underweight -->\n      <g transform=\"translate(54.708606 379.305781)rotate(-15)scale(0.1 -0.1)\">\n       <defs>\n        <path d=\"M 8.59375 75.984375 \nL 29.296875 75.984375 \nL 29.296875 69 \nL 17.578125 69 \nL 17.578125 -6.203125 \nL 29.296875 -6.203125 \nL 29.296875 -13.1875 \nL 8.59375 -13.1875 \nz\n\" id=\"DejaVuSans-91\"/>\n        <path d=\"M 31.78125 66.40625 \nQ 24.171875 66.40625 20.328125 58.90625 \nQ 16.5 51.421875 16.5 36.375 \nQ 16.5 21.390625 20.328125 13.890625 \nQ 24.171875 6.390625 31.78125 6.390625 \nQ 39.453125 6.390625 43.28125 13.890625 \nQ 47.125 21.390625 47.125 36.375 \nQ 47.125 51.421875 43.28125 58.90625 \nQ 39.453125 66.40625 31.78125 66.40625 \nz\nM 31.78125 74.21875 \nQ 44.046875 74.21875 50.515625 64.515625 \nQ 56.984375 54.828125 56.984375 36.375 \nQ 56.984375 17.96875 50.515625 8.265625 \nQ 44.046875 -1.421875 31.78125 -1.421875 \nQ 19.53125 -1.421875 13.0625 8.265625 \nQ 6.59375 17.96875 6.59375 36.375 \nQ 6.59375 54.828125 13.0625 64.515625 \nQ 19.53125 74.21875 31.78125 74.21875 \nz\n\" id=\"DejaVuSans-48\"/>\n        <path d=\"M 10.6875 12.40625 \nL 21 12.40625 \nL 21 0 \nL 10.6875 0 \nz\n\" id=\"DejaVuSans-46\"/>\n        <path id=\"DejaVuSans-32\"/>\n        <path d=\"M 4.890625 31.390625 \nL 31.203125 31.390625 \nL 31.203125 23.390625 \nL 4.890625 23.390625 \nz\n\" id=\"DejaVuSans-45\"/>\n        <path d=\"M 12.40625 8.296875 \nL 28.515625 8.296875 \nL 28.515625 63.921875 \nL 10.984375 60.40625 \nL 10.984375 69.390625 \nL 28.421875 72.90625 \nL 38.28125 72.90625 \nL 38.28125 8.296875 \nL 54.390625 8.296875 \nL 54.390625 0 \nL 12.40625 0 \nz\n\" id=\"DejaVuSans-49\"/>\n        <path d=\"M 31.78125 34.625 \nQ 24.75 34.625 20.71875 30.859375 \nQ 16.703125 27.09375 16.703125 20.515625 \nQ 16.703125 13.921875 20.71875 10.15625 \nQ 24.75 6.390625 31.78125 6.390625 \nQ 38.8125 6.390625 42.859375 10.171875 \nQ 46.921875 13.96875 46.921875 20.515625 \nQ 46.921875 27.09375 42.890625 30.859375 \nQ 38.875 34.625 31.78125 34.625 \nz\nM 21.921875 38.8125 \nQ 15.578125 40.375 12.03125 44.71875 \nQ 8.5 49.078125 8.5 55.328125 \nQ 8.5 64.0625 14.71875 69.140625 \nQ 20.953125 74.21875 31.78125 74.21875 \nQ 42.671875 74.21875 48.875 69.140625 \nQ 55.078125 64.0625 55.078125 55.328125 \nQ 55.078125 49.078125 51.53125 44.71875 \nQ 48 40.375 41.703125 38.8125 \nQ 48.828125 37.15625 52.796875 32.3125 \nQ 56.78125 27.484375 56.78125 20.515625 \nQ 56.78125 9.90625 50.3125 4.234375 \nQ 43.84375 -1.421875 31.78125 -1.421875 \nQ 19.734375 -1.421875 13.25 4.234375 \nQ 6.78125 9.90625 6.78125 20.515625 \nQ 6.78125 27.484375 10.78125 32.3125 \nQ 14.796875 37.15625 21.921875 38.8125 \nz\nM 18.3125 54.390625 \nQ 18.3125 48.734375 21.84375 45.5625 \nQ 25.390625 42.390625 31.78125 42.390625 \nQ 38.140625 42.390625 41.71875 45.5625 \nQ 45.3125 48.734375 45.3125 54.390625 \nQ 45.3125 60.0625 41.71875 63.234375 \nQ 38.140625 66.40625 31.78125 66.40625 \nQ 25.390625 66.40625 21.84375 63.234375 \nQ 18.3125 60.0625 18.3125 54.390625 \nz\n\" id=\"DejaVuSans-56\"/>\n        <path d=\"M 10.796875 72.90625 \nL 49.515625 72.90625 \nL 49.515625 64.59375 \nL 19.828125 64.59375 \nL 19.828125 46.734375 \nQ 21.96875 47.46875 24.109375 47.828125 \nQ 26.265625 48.1875 28.421875 48.1875 \nQ 40.625 48.1875 47.75 41.5 \nQ 54.890625 34.8125 54.890625 23.390625 \nQ 54.890625 11.625 47.5625 5.09375 \nQ 40.234375 -1.421875 26.90625 -1.421875 \nQ 22.3125 -1.421875 17.546875 -0.640625 \nQ 12.796875 0.140625 7.71875 1.703125 \nL 7.71875 11.625 \nQ 12.109375 9.234375 16.796875 8.0625 \nQ 21.484375 6.890625 26.703125 6.890625 \nQ 35.15625 6.890625 40.078125 11.328125 \nQ 45.015625 15.765625 45.015625 23.390625 \nQ 45.015625 31 40.078125 35.4375 \nQ 35.15625 39.890625 26.703125 39.890625 \nQ 22.75 39.890625 18.8125 39.015625 \nQ 14.890625 38.140625 10.796875 36.28125 \nz\n\" id=\"DejaVuSans-53\"/>\n        <path d=\"M 30.421875 75.984375 \nL 30.421875 -13.1875 \nL 9.71875 -13.1875 \nL 9.71875 -6.203125 \nL 21.390625 -6.203125 \nL 21.390625 69 \nL 9.71875 69 \nL 9.71875 75.984375 \nz\n\" id=\"DejaVuSans-93\"/>\n        <path d=\"M 8.5 21.578125 \nL 8.5 54.6875 \nL 17.484375 54.6875 \nL 17.484375 21.921875 \nQ 17.484375 14.15625 20.5 10.265625 \nQ 23.53125 6.390625 29.59375 6.390625 \nQ 36.859375 6.390625 41.078125 11.03125 \nQ 45.3125 15.671875 45.3125 23.6875 \nL 45.3125 54.6875 \nL 54.296875 54.6875 \nL 54.296875 0 \nL 45.3125 0 \nL 45.3125 8.40625 \nQ 42.046875 3.421875 37.71875 1 \nQ 33.40625 -1.421875 27.6875 -1.421875 \nQ 18.265625 -1.421875 13.375 4.4375 \nQ 8.5 10.296875 8.5 21.578125 \nz\nM 31.109375 56 \nz\n\" id=\"DejaVuSans-117\"/>\n        <path d=\"M 54.890625 33.015625 \nL 54.890625 0 \nL 45.90625 0 \nL 45.90625 32.71875 \nQ 45.90625 40.484375 42.875 44.328125 \nQ 39.84375 48.1875 33.796875 48.1875 \nQ 26.515625 48.1875 22.3125 43.546875 \nQ 18.109375 38.921875 18.109375 30.90625 \nL 18.109375 0 \nL 9.078125 0 \nL 9.078125 54.6875 \nL 18.109375 54.6875 \nL 18.109375 46.1875 \nQ 21.34375 51.125 25.703125 53.5625 \nQ 30.078125 56 35.796875 56 \nQ 45.21875 56 50.046875 50.171875 \nQ 54.890625 44.34375 54.890625 33.015625 \nz\n\" id=\"DejaVuSans-110\"/>\n        <path d=\"M 45.40625 46.390625 \nL 45.40625 75.984375 \nL 54.390625 75.984375 \nL 54.390625 0 \nL 45.40625 0 \nL 45.40625 8.203125 \nQ 42.578125 3.328125 38.25 0.953125 \nQ 33.9375 -1.421875 27.875 -1.421875 \nQ 17.96875 -1.421875 11.734375 6.484375 \nQ 5.515625 14.40625 5.515625 27.296875 \nQ 5.515625 40.1875 11.734375 48.09375 \nQ 17.96875 56 27.875 56 \nQ 33.9375 56 38.25 53.625 \nQ 42.578125 51.265625 45.40625 46.390625 \nz\nM 14.796875 27.296875 \nQ 14.796875 17.390625 18.875 11.75 \nQ 22.953125 6.109375 30.078125 6.109375 \nQ 37.203125 6.109375 41.296875 11.75 \nQ 45.40625 17.390625 45.40625 27.296875 \nQ 45.40625 37.203125 41.296875 42.84375 \nQ 37.203125 48.484375 30.078125 48.484375 \nQ 22.953125 48.484375 18.875 42.84375 \nQ 14.796875 37.203125 14.796875 27.296875 \nz\n\" id=\"DejaVuSans-100\"/>\n        <path d=\"M 56.203125 29.59375 \nL 56.203125 25.203125 \nL 14.890625 25.203125 \nQ 15.484375 15.921875 20.484375 11.0625 \nQ 25.484375 6.203125 34.421875 6.203125 \nQ 39.59375 6.203125 44.453125 7.46875 \nQ 49.3125 8.734375 54.109375 11.28125 \nL 54.109375 2.78125 \nQ 49.265625 0.734375 44.1875 -0.34375 \nQ 39.109375 -1.421875 33.890625 -1.421875 \nQ 20.796875 -1.421875 13.15625 6.1875 \nQ 5.515625 13.8125 5.515625 26.8125 \nQ 5.515625 40.234375 12.765625 48.109375 \nQ 20.015625 56 32.328125 56 \nQ 43.359375 56 49.78125 48.890625 \nQ 56.203125 41.796875 56.203125 29.59375 \nz\nM 47.21875 32.234375 \nQ 47.125 39.59375 43.09375 43.984375 \nQ 39.0625 48.390625 32.421875 48.390625 \nQ 24.90625 48.390625 20.390625 44.140625 \nQ 15.875 39.890625 15.1875 32.171875 \nz\n\" id=\"DejaVuSans-101\"/>\n        <path d=\"M 41.109375 46.296875 \nQ 39.59375 47.171875 37.8125 47.578125 \nQ 36.03125 48 33.890625 48 \nQ 26.265625 48 22.1875 43.046875 \nQ 18.109375 38.09375 18.109375 28.8125 \nL 18.109375 0 \nL 9.078125 0 \nL 9.078125 54.6875 \nL 18.109375 54.6875 \nL 18.109375 46.1875 \nQ 20.953125 51.171875 25.484375 53.578125 \nQ 30.03125 56 36.53125 56 \nQ 37.453125 56 38.578125 55.875 \nQ 39.703125 55.765625 41.0625 55.515625 \nz\n\" id=\"DejaVuSans-114\"/>\n        <path d=\"M 4.203125 54.6875 \nL 13.1875 54.6875 \nL 24.421875 12.015625 \nL 35.59375 54.6875 \nL 46.1875 54.6875 \nL 57.421875 12.015625 \nL 68.609375 54.6875 \nL 77.59375 54.6875 \nL 63.28125 0 \nL 52.6875 0 \nL 40.921875 44.828125 \nL 29.109375 0 \nL 18.5 0 \nz\n\" id=\"DejaVuSans-119\"/>\n        <path d=\"M 9.421875 54.6875 \nL 18.40625 54.6875 \nL 18.40625 0 \nL 9.421875 0 \nz\nM 9.421875 75.984375 \nL 18.40625 75.984375 \nL 18.40625 64.59375 \nL 9.421875 64.59375 \nz\n\" id=\"DejaVuSans-105\"/>\n        <path d=\"M 45.40625 27.984375 \nQ 45.40625 37.75 41.375 43.109375 \nQ 37.359375 48.484375 30.078125 48.484375 \nQ 22.859375 48.484375 18.828125 43.109375 \nQ 14.796875 37.75 14.796875 27.984375 \nQ 14.796875 18.265625 18.828125 12.890625 \nQ 22.859375 7.515625 30.078125 7.515625 \nQ 37.359375 7.515625 41.375 12.890625 \nQ 45.40625 18.265625 45.40625 27.984375 \nz\nM 54.390625 6.78125 \nQ 54.390625 -7.171875 48.1875 -13.984375 \nQ 42 -20.796875 29.203125 -20.796875 \nQ 24.46875 -20.796875 20.265625 -20.09375 \nQ 16.0625 -19.390625 12.109375 -17.921875 \nL 12.109375 -9.1875 \nQ 16.0625 -11.328125 19.921875 -12.34375 \nQ 23.78125 -13.375 27.78125 -13.375 \nQ 36.625 -13.375 41.015625 -8.765625 \nQ 45.40625 -4.15625 45.40625 5.171875 \nL 45.40625 9.625 \nQ 42.625 4.78125 38.28125 2.390625 \nQ 33.9375 0 27.875 0 \nQ 17.828125 0 11.671875 7.65625 \nQ 5.515625 15.328125 5.515625 27.984375 \nQ 5.515625 40.671875 11.671875 48.328125 \nQ 17.828125 56 27.875 56 \nQ 33.9375 56 38.28125 53.609375 \nQ 42.625 51.21875 45.40625 46.390625 \nL 45.40625 54.6875 \nL 54.390625 54.6875 \nz\n\" id=\"DejaVuSans-103\"/>\n        <path d=\"M 54.890625 33.015625 \nL 54.890625 0 \nL 45.90625 0 \nL 45.90625 32.71875 \nQ 45.90625 40.484375 42.875 44.328125 \nQ 39.84375 48.1875 33.796875 48.1875 \nQ 26.515625 48.1875 22.3125 43.546875 \nQ 18.109375 38.921875 18.109375 30.90625 \nL 18.109375 0 \nL 9.078125 0 \nL 9.078125 75.984375 \nL 18.109375 75.984375 \nL 18.109375 46.1875 \nQ 21.34375 51.125 25.703125 53.5625 \nQ 30.078125 56 35.796875 56 \nQ 45.21875 56 50.046875 50.171875 \nQ 54.890625 44.34375 54.890625 33.015625 \nz\n\" id=\"DejaVuSans-104\"/>\n        <path d=\"M 18.3125 70.21875 \nL 18.3125 54.6875 \nL 36.8125 54.6875 \nL 36.8125 47.703125 \nL 18.3125 47.703125 \nL 18.3125 18.015625 \nQ 18.3125 11.328125 20.140625 9.421875 \nQ 21.96875 7.515625 27.59375 7.515625 \nL 36.8125 7.515625 \nL 36.8125 0 \nL 27.59375 0 \nQ 17.1875 0 13.234375 3.875 \nQ 9.28125 7.765625 9.28125 18.015625 \nL 9.28125 47.703125 \nL 2.6875 47.703125 \nL 2.6875 54.6875 \nL 9.28125 54.6875 \nL 9.28125 70.21875 \nz\n\" id=\"DejaVuSans-116\"/>\n       </defs>\n       <use xlink:href=\"#DejaVuSans-91\"/>\n       <use x=\"39.013672\" xlink:href=\"#DejaVuSans-48\"/>\n       <use x=\"102.636719\" xlink:href=\"#DejaVuSans-46\"/>\n       <use x=\"134.423828\" xlink:href=\"#DejaVuSans-48\"/>\n       <use x=\"198.046875\" xlink:href=\"#DejaVuSans-32\"/>\n       <use x=\"229.833984\" xlink:href=\"#DejaVuSans-45\"/>\n       <use x=\"265.917969\" xlink:href=\"#DejaVuSans-32\"/>\n       <use x=\"297.705078\" xlink:href=\"#DejaVuSans-49\"/>\n       <use x=\"361.328125\" xlink:href=\"#DejaVuSans-56\"/>\n       <use x=\"424.951172\" xlink:href=\"#DejaVuSans-46\"/>\n       <use x=\"456.738281\" xlink:href=\"#DejaVuSans-53\"/>\n       <use x=\"520.361328\" xlink:href=\"#DejaVuSans-93\"/>\n       <use x=\"559.375\" xlink:href=\"#DejaVuSans-32\"/>\n       <use x=\"591.162109\" xlink:href=\"#DejaVuSans-117\"/>\n       <use x=\"654.541016\" xlink:href=\"#DejaVuSans-110\"/>\n       <use x=\"717.919922\" xlink:href=\"#DejaVuSans-100\"/>\n       <use x=\"781.396484\" xlink:href=\"#DejaVuSans-101\"/>\n       <use x=\"842.919922\" xlink:href=\"#DejaVuSans-114\"/>\n       <use x=\"884.033203\" xlink:href=\"#DejaVuSans-119\"/>\n       <use x=\"965.820312\" xlink:href=\"#DejaVuSans-101\"/>\n       <use x=\"1027.34375\" xlink:href=\"#DejaVuSans-105\"/>\n       <use x=\"1055.126953\" xlink:href=\"#DejaVuSans-103\"/>\n       <use x=\"1118.603516\" xlink:href=\"#DejaVuSans-104\"/>\n       <use x=\"1181.982422\" xlink:href=\"#DejaVuSans-116\"/>\n      </g>\n     </g>\n    </g>\n    <g id=\"xtick_2\">\n     <g id=\"line2d_2\">\n      <g>\n       <use style=\"stroke:#000000;stroke-width:0.8;\" x=\"246.8925\" xlink:href=\"#mb841eb4eca\" y=\"333.36\"/>\n      </g>\n     </g>\n     <g id=\"text_2\">\n      <!-- [18.5 - 24.9] normal weight -->\n      <g transform=\"translate(181.243047 383.26369)rotate(-15)scale(0.1 -0.1)\">\n       <defs>\n        <path d=\"M 19.1875 8.296875 \nL 53.609375 8.296875 \nL 53.609375 0 \nL 7.328125 0 \nL 7.328125 8.296875 \nQ 12.9375 14.109375 22.625 23.890625 \nQ 32.328125 33.6875 34.8125 36.53125 \nQ 39.546875 41.84375 41.421875 45.53125 \nQ 43.3125 49.21875 43.3125 52.78125 \nQ 43.3125 58.59375 39.234375 62.25 \nQ 35.15625 65.921875 28.609375 65.921875 \nQ 23.96875 65.921875 18.8125 64.3125 \nQ 13.671875 62.703125 7.8125 59.421875 \nL 7.8125 69.390625 \nQ 13.765625 71.78125 18.9375 73 \nQ 24.125 74.21875 28.421875 74.21875 \nQ 39.75 74.21875 46.484375 68.546875 \nQ 53.21875 62.890625 53.21875 53.421875 \nQ 53.21875 48.921875 51.53125 44.890625 \nQ 49.859375 40.875 45.40625 35.40625 \nQ 44.1875 33.984375 37.640625 27.21875 \nQ 31.109375 20.453125 19.1875 8.296875 \nz\n\" id=\"DejaVuSans-50\"/>\n        <path d=\"M 37.796875 64.3125 \nL 12.890625 25.390625 \nL 37.796875 25.390625 \nz\nM 35.203125 72.90625 \nL 47.609375 72.90625 \nL 47.609375 25.390625 \nL 58.015625 25.390625 \nL 58.015625 17.1875 \nL 47.609375 17.1875 \nL 47.609375 0 \nL 37.796875 0 \nL 37.796875 17.1875 \nL 4.890625 17.1875 \nL 4.890625 26.703125 \nz\n\" id=\"DejaVuSans-52\"/>\n        <path d=\"M 10.984375 1.515625 \nL 10.984375 10.5 \nQ 14.703125 8.734375 18.5 7.8125 \nQ 22.3125 6.890625 25.984375 6.890625 \nQ 35.75 6.890625 40.890625 13.453125 \nQ 46.046875 20.015625 46.78125 33.40625 \nQ 43.953125 29.203125 39.59375 26.953125 \nQ 35.25 24.703125 29.984375 24.703125 \nQ 19.046875 24.703125 12.671875 31.3125 \nQ 6.296875 37.9375 6.296875 49.421875 \nQ 6.296875 60.640625 12.9375 67.421875 \nQ 19.578125 74.21875 30.609375 74.21875 \nQ 43.265625 74.21875 49.921875 64.515625 \nQ 56.59375 54.828125 56.59375 36.375 \nQ 56.59375 19.140625 48.40625 8.859375 \nQ 40.234375 -1.421875 26.421875 -1.421875 \nQ 22.703125 -1.421875 18.890625 -0.6875 \nQ 15.09375 0.046875 10.984375 1.515625 \nz\nM 30.609375 32.421875 \nQ 37.25 32.421875 41.125 36.953125 \nQ 45.015625 41.5 45.015625 49.421875 \nQ 45.015625 57.28125 41.125 61.84375 \nQ 37.25 66.40625 30.609375 66.40625 \nQ 23.96875 66.40625 20.09375 61.84375 \nQ 16.21875 57.28125 16.21875 49.421875 \nQ 16.21875 41.5 20.09375 36.953125 \nQ 23.96875 32.421875 30.609375 32.421875 \nz\n\" id=\"DejaVuSans-57\"/>\n        <path d=\"M 30.609375 48.390625 \nQ 23.390625 48.390625 19.1875 42.75 \nQ 14.984375 37.109375 14.984375 27.296875 \nQ 14.984375 17.484375 19.15625 11.84375 \nQ 23.34375 6.203125 30.609375 6.203125 \nQ 37.796875 6.203125 41.984375 11.859375 \nQ 46.1875 17.53125 46.1875 27.296875 \nQ 46.1875 37.015625 41.984375 42.703125 \nQ 37.796875 48.390625 30.609375 48.390625 \nz\nM 30.609375 56 \nQ 42.328125 56 49.015625 48.375 \nQ 55.71875 40.765625 55.71875 27.296875 \nQ 55.71875 13.875 49.015625 6.21875 \nQ 42.328125 -1.421875 30.609375 -1.421875 \nQ 18.84375 -1.421875 12.171875 6.21875 \nQ 5.515625 13.875 5.515625 27.296875 \nQ 5.515625 40.765625 12.171875 48.375 \nQ 18.84375 56 30.609375 56 \nz\n\" id=\"DejaVuSans-111\"/>\n        <path d=\"M 52 44.1875 \nQ 55.375 50.25 60.0625 53.125 \nQ 64.75 56 71.09375 56 \nQ 79.640625 56 84.28125 50.015625 \nQ 88.921875 44.046875 88.921875 33.015625 \nL 88.921875 0 \nL 79.890625 0 \nL 79.890625 32.71875 \nQ 79.890625 40.578125 77.09375 44.375 \nQ 74.3125 48.1875 68.609375 48.1875 \nQ 61.625 48.1875 57.5625 43.546875 \nQ 53.515625 38.921875 53.515625 30.90625 \nL 53.515625 0 \nL 44.484375 0 \nL 44.484375 32.71875 \nQ 44.484375 40.625 41.703125 44.40625 \nQ 38.921875 48.1875 33.109375 48.1875 \nQ 26.21875 48.1875 22.15625 43.53125 \nQ 18.109375 38.875 18.109375 30.90625 \nL 18.109375 0 \nL 9.078125 0 \nL 9.078125 54.6875 \nL 18.109375 54.6875 \nL 18.109375 46.1875 \nQ 21.1875 51.21875 25.484375 53.609375 \nQ 29.78125 56 35.6875 56 \nQ 41.65625 56 45.828125 52.96875 \nQ 50 49.953125 52 44.1875 \nz\n\" id=\"DejaVuSans-109\"/>\n        <path d=\"M 34.28125 27.484375 \nQ 23.390625 27.484375 19.1875 25 \nQ 14.984375 22.515625 14.984375 16.5 \nQ 14.984375 11.71875 18.140625 8.90625 \nQ 21.296875 6.109375 26.703125 6.109375 \nQ 34.1875 6.109375 38.703125 11.40625 \nQ 43.21875 16.703125 43.21875 25.484375 \nL 43.21875 27.484375 \nz\nM 52.203125 31.203125 \nL 52.203125 0 \nL 43.21875 0 \nL 43.21875 8.296875 \nQ 40.140625 3.328125 35.546875 0.953125 \nQ 30.953125 -1.421875 24.3125 -1.421875 \nQ 15.921875 -1.421875 10.953125 3.296875 \nQ 6 8.015625 6 15.921875 \nQ 6 25.140625 12.171875 29.828125 \nQ 18.359375 34.515625 30.609375 34.515625 \nL 43.21875 34.515625 \nL 43.21875 35.40625 \nQ 43.21875 41.609375 39.140625 45 \nQ 35.0625 48.390625 27.6875 48.390625 \nQ 23 48.390625 18.546875 47.265625 \nQ 14.109375 46.140625 10.015625 43.890625 \nL 10.015625 52.203125 \nQ 14.9375 54.109375 19.578125 55.046875 \nQ 24.21875 56 28.609375 56 \nQ 40.484375 56 46.34375 49.84375 \nQ 52.203125 43.703125 52.203125 31.203125 \nz\n\" id=\"DejaVuSans-97\"/>\n        <path d=\"M 9.421875 75.984375 \nL 18.40625 75.984375 \nL 18.40625 0 \nL 9.421875 0 \nz\n\" id=\"DejaVuSans-108\"/>\n       </defs>\n       <use xlink:href=\"#DejaVuSans-91\"/>\n       <use x=\"39.013672\" xlink:href=\"#DejaVuSans-49\"/>\n       <use x=\"102.636719\" xlink:href=\"#DejaVuSans-56\"/>\n       <use x=\"166.259766\" xlink:href=\"#DejaVuSans-46\"/>\n       <use x=\"198.046875\" xlink:href=\"#DejaVuSans-53\"/>\n       <use x=\"261.669922\" xlink:href=\"#DejaVuSans-32\"/>\n       <use x=\"293.457031\" xlink:href=\"#DejaVuSans-45\"/>\n       <use x=\"329.541016\" xlink:href=\"#DejaVuSans-32\"/>\n       <use x=\"361.328125\" xlink:href=\"#DejaVuSans-50\"/>\n       <use x=\"424.951172\" xlink:href=\"#DejaVuSans-52\"/>\n       <use x=\"488.574219\" xlink:href=\"#DejaVuSans-46\"/>\n       <use x=\"520.361328\" xlink:href=\"#DejaVuSans-57\"/>\n       <use x=\"583.984375\" xlink:href=\"#DejaVuSans-93\"/>\n       <use x=\"622.998047\" xlink:href=\"#DejaVuSans-32\"/>\n       <use x=\"654.785156\" xlink:href=\"#DejaVuSans-110\"/>\n       <use x=\"718.164062\" xlink:href=\"#DejaVuSans-111\"/>\n       <use x=\"779.345703\" xlink:href=\"#DejaVuSans-114\"/>\n       <use x=\"818.708984\" xlink:href=\"#DejaVuSans-109\"/>\n       <use x=\"916.121094\" xlink:href=\"#DejaVuSans-97\"/>\n       <use x=\"977.400391\" xlink:href=\"#DejaVuSans-108\"/>\n       <use x=\"1005.183594\" xlink:href=\"#DejaVuSans-32\"/>\n       <use x=\"1036.970703\" xlink:href=\"#DejaVuSans-119\"/>\n       <use x=\"1118.757812\" xlink:href=\"#DejaVuSans-101\"/>\n       <use x=\"1180.28125\" xlink:href=\"#DejaVuSans-105\"/>\n       <use x=\"1208.064453\" xlink:href=\"#DejaVuSans-103\"/>\n       <use x=\"1271.541016\" xlink:href=\"#DejaVuSans-104\"/>\n       <use x=\"1334.919922\" xlink:href=\"#DejaVuSans-116\"/>\n      </g>\n     </g>\n    </g>\n    <g id=\"xtick_3\">\n     <g id=\"line2d_3\">\n      <g>\n       <use style=\"stroke:#000000;stroke-width:0.8;\" x=\"380.8125\" xlink:href=\"#mb841eb4eca\" y=\"333.36\"/>\n      </g>\n     </g>\n     <g id=\"text_3\">\n      <!-- [25 -  30] over weight -->\n      <g transform=\"translate(328.995406 375.850951)rotate(-15)scale(0.1 -0.1)\">\n       <defs>\n        <path d=\"M 40.578125 39.3125 \nQ 47.65625 37.796875 51.625 33 \nQ 55.609375 28.21875 55.609375 21.1875 \nQ 55.609375 10.40625 48.1875 4.484375 \nQ 40.765625 -1.421875 27.09375 -1.421875 \nQ 22.515625 -1.421875 17.65625 -0.515625 \nQ 12.796875 0.390625 7.625 2.203125 \nL 7.625 11.71875 \nQ 11.71875 9.328125 16.59375 8.109375 \nQ 21.484375 6.890625 26.8125 6.890625 \nQ 36.078125 6.890625 40.9375 10.546875 \nQ 45.796875 14.203125 45.796875 21.1875 \nQ 45.796875 27.640625 41.28125 31.265625 \nQ 36.765625 34.90625 28.71875 34.90625 \nL 20.21875 34.90625 \nL 20.21875 43.015625 \nL 29.109375 43.015625 \nQ 36.375 43.015625 40.234375 45.921875 \nQ 44.09375 48.828125 44.09375 54.296875 \nQ 44.09375 59.90625 40.109375 62.90625 \nQ 36.140625 65.921875 28.71875 65.921875 \nQ 24.65625 65.921875 20.015625 65.03125 \nQ 15.375 64.15625 9.8125 62.3125 \nL 9.8125 71.09375 \nQ 15.4375 72.65625 20.34375 73.4375 \nQ 25.25 74.21875 29.59375 74.21875 \nQ 40.828125 74.21875 47.359375 69.109375 \nQ 53.90625 64.015625 53.90625 55.328125 \nQ 53.90625 49.265625 50.4375 45.09375 \nQ 46.96875 40.921875 40.578125 39.3125 \nz\n\" id=\"DejaVuSans-51\"/>\n        <path d=\"M 2.984375 54.6875 \nL 12.5 54.6875 \nL 29.59375 8.796875 \nL 46.6875 54.6875 \nL 56.203125 54.6875 \nL 35.6875 0 \nL 23.484375 0 \nz\n\" id=\"DejaVuSans-118\"/>\n       </defs>\n       <use xlink:href=\"#DejaVuSans-91\"/>\n       <use x=\"39.013672\" xlink:href=\"#DejaVuSans-50\"/>\n       <use x=\"102.636719\" xlink:href=\"#DejaVuSans-53\"/>\n       <use x=\"166.259766\" xlink:href=\"#DejaVuSans-32\"/>\n       <use x=\"198.046875\" xlink:href=\"#DejaVuSans-45\"/>\n       <use x=\"234.130859\" xlink:href=\"#DejaVuSans-32\"/>\n       <use x=\"265.917969\" xlink:href=\"#DejaVuSans-32\"/>\n       <use x=\"297.705078\" xlink:href=\"#DejaVuSans-51\"/>\n       <use x=\"361.328125\" xlink:href=\"#DejaVuSans-48\"/>\n       <use x=\"424.951172\" xlink:href=\"#DejaVuSans-93\"/>\n       <use x=\"463.964844\" xlink:href=\"#DejaVuSans-32\"/>\n       <use x=\"495.751953\" xlink:href=\"#DejaVuSans-111\"/>\n       <use x=\"556.933594\" xlink:href=\"#DejaVuSans-118\"/>\n       <use x=\"616.113281\" xlink:href=\"#DejaVuSans-101\"/>\n       <use x=\"677.636719\" xlink:href=\"#DejaVuSans-114\"/>\n       <use x=\"718.75\" xlink:href=\"#DejaVuSans-32\"/>\n       <use x=\"750.537109\" xlink:href=\"#DejaVuSans-119\"/>\n       <use x=\"832.324219\" xlink:href=\"#DejaVuSans-101\"/>\n       <use x=\"893.847656\" xlink:href=\"#DejaVuSans-105\"/>\n       <use x=\"921.630859\" xlink:href=\"#DejaVuSans-103\"/>\n       <use x=\"985.107422\" xlink:href=\"#DejaVuSans-104\"/>\n       <use x=\"1048.486328\" xlink:href=\"#DejaVuSans-116\"/>\n      </g>\n     </g>\n    </g>\n    <g id=\"xtick_4\">\n     <g id=\"line2d_4\">\n      <g>\n       <use style=\"stroke:#000000;stroke-width:0.8;\" x=\"514.7325\" xlink:href=\"#mb841eb4eca\" y=\"333.36\"/>\n      </g>\n     </g>\n     <g id=\"text_4\">\n      <!-- [70  &lt;] obese -->\n      <g transform=\"translate(482.399941 365.40922)rotate(-15)scale(0.1 -0.1)\">\n       <defs>\n        <path d=\"M 8.203125 72.90625 \nL 55.078125 72.90625 \nL 55.078125 68.703125 \nL 28.609375 0 \nL 18.3125 0 \nL 43.21875 64.59375 \nL 8.203125 64.59375 \nz\n\" id=\"DejaVuSans-55\"/>\n        <path d=\"M 73.1875 49.21875 \nL 22.796875 31.296875 \nL 73.1875 13.484375 \nL 73.1875 4.59375 \nL 10.59375 27.296875 \nL 10.59375 35.40625 \nL 73.1875 58.109375 \nz\n\" id=\"DejaVuSans-60\"/>\n        <path d=\"M 48.6875 27.296875 \nQ 48.6875 37.203125 44.609375 42.84375 \nQ 40.53125 48.484375 33.40625 48.484375 \nQ 26.265625 48.484375 22.1875 42.84375 \nQ 18.109375 37.203125 18.109375 27.296875 \nQ 18.109375 17.390625 22.1875 11.75 \nQ 26.265625 6.109375 33.40625 6.109375 \nQ 40.53125 6.109375 44.609375 11.75 \nQ 48.6875 17.390625 48.6875 27.296875 \nz\nM 18.109375 46.390625 \nQ 20.953125 51.265625 25.265625 53.625 \nQ 29.59375 56 35.59375 56 \nQ 45.5625 56 51.78125 48.09375 \nQ 58.015625 40.1875 58.015625 27.296875 \nQ 58.015625 14.40625 51.78125 6.484375 \nQ 45.5625 -1.421875 35.59375 -1.421875 \nQ 29.59375 -1.421875 25.265625 0.953125 \nQ 20.953125 3.328125 18.109375 8.203125 \nL 18.109375 0 \nL 9.078125 0 \nL 9.078125 75.984375 \nL 18.109375 75.984375 \nz\n\" id=\"DejaVuSans-98\"/>\n        <path d=\"M 44.28125 53.078125 \nL 44.28125 44.578125 \nQ 40.484375 46.53125 36.375 47.5 \nQ 32.28125 48.484375 27.875 48.484375 \nQ 21.1875 48.484375 17.84375 46.4375 \nQ 14.5 44.390625 14.5 40.28125 \nQ 14.5 37.15625 16.890625 35.375 \nQ 19.28125 33.59375 26.515625 31.984375 \nL 29.59375 31.296875 \nQ 39.15625 29.25 43.1875 25.515625 \nQ 47.21875 21.78125 47.21875 15.09375 \nQ 47.21875 7.46875 41.1875 3.015625 \nQ 35.15625 -1.421875 24.609375 -1.421875 \nQ 20.21875 -1.421875 15.453125 -0.5625 \nQ 10.6875 0.296875 5.421875 2 \nL 5.421875 11.28125 \nQ 10.40625 8.6875 15.234375 7.390625 \nQ 20.0625 6.109375 24.8125 6.109375 \nQ 31.15625 6.109375 34.5625 8.28125 \nQ 37.984375 10.453125 37.984375 14.40625 \nQ 37.984375 18.0625 35.515625 20.015625 \nQ 33.0625 21.96875 24.703125 23.78125 \nL 21.578125 24.515625 \nQ 13.234375 26.265625 9.515625 29.90625 \nQ 5.8125 33.546875 5.8125 39.890625 \nQ 5.8125 47.609375 11.28125 51.796875 \nQ 16.75 56 26.8125 56 \nQ 31.78125 56 36.171875 55.265625 \nQ 40.578125 54.546875 44.28125 53.078125 \nz\n\" id=\"DejaVuSans-115\"/>\n       </defs>\n       <use xlink:href=\"#DejaVuSans-91\"/>\n       <use x=\"39.013672\" xlink:href=\"#DejaVuSans-55\"/>\n       <use x=\"102.636719\" xlink:href=\"#DejaVuSans-48\"/>\n       <use x=\"166.259766\" xlink:href=\"#DejaVuSans-32\"/>\n       <use x=\"198.046875\" xlink:href=\"#DejaVuSans-32\"/>\n       <use x=\"229.833984\" xlink:href=\"#DejaVuSans-60\"/>\n       <use x=\"313.623047\" xlink:href=\"#DejaVuSans-93\"/>\n       <use x=\"352.636719\" xlink:href=\"#DejaVuSans-32\"/>\n       <use x=\"384.423828\" xlink:href=\"#DejaVuSans-111\"/>\n       <use x=\"445.605469\" xlink:href=\"#DejaVuSans-98\"/>\n       <use x=\"509.082031\" xlink:href=\"#DejaVuSans-101\"/>\n       <use x=\"570.605469\" xlink:href=\"#DejaVuSans-115\"/>\n       <use x=\"622.705078\" xlink:href=\"#DejaVuSans-101\"/>\n      </g>\n     </g>\n    </g>\n    <g id=\"xtick_5\">\n     <g id=\"line2d_5\">\n      <g>\n       <use style=\"stroke:#000000;stroke-width:0.8;\" x=\"648.6525\" xlink:href=\"#mb841eb4eca\" y=\"333.36\"/>\n      </g>\n     </g>\n     <g id=\"text_5\">\n      <!-- null -->\n      <g transform=\"translate(640.561661 352.418122)rotate(-15)scale(0.1 -0.1)\">\n       <use xlink:href=\"#DejaVuSans-110\"/>\n       <use x=\"63.378906\" xlink:href=\"#DejaVuSans-117\"/>\n       <use x=\"126.757812\" xlink:href=\"#DejaVuSans-108\"/>\n       <use x=\"154.541016\" xlink:href=\"#DejaVuSans-108\"/>\n      </g>\n     </g>\n    </g>\n    <g id=\"text_6\">\n     <!-- bmi -->\n     <g transform=\"translate(371.378906 396.870952)scale(0.1 -0.1)\">\n      <use xlink:href=\"#DejaVuSans-98\"/>\n      <use x=\"63.476562\" xlink:href=\"#DejaVuSans-109\"/>\n      <use x=\"160.888672\" xlink:href=\"#DejaVuSans-105\"/>\n     </g>\n    </g>\n   </g>\n   <g id=\"matplotlib.axis_2\">\n    <g id=\"ytick_1\">\n     <g id=\"line2d_6\">\n      <defs>\n       <path d=\"M 0 0 \nL -3.5 0 \n\" id=\"m8de391dd61\" style=\"stroke:#000000;stroke-width:0.8;\"/>\n      </defs>\n      <g>\n       <use style=\"stroke:#000000;stroke-width:0.8;\" x=\"46.0125\" xlink:href=\"#m8de391dd61\" y=\"333.36\"/>\n      </g>\n     </g>\n     <g id=\"text_7\">\n      <!-- 0 -->\n      <g transform=\"translate(32.65 337.159219)scale(0.1 -0.1)\">\n       <use xlink:href=\"#DejaVuSans-48\"/>\n      </g>\n     </g>\n    </g>\n    <g id=\"ytick_2\">\n     <g id=\"line2d_7\">\n      <g>\n       <use style=\"stroke:#000000;stroke-width:0.8;\" x=\"46.0125\" xlink:href=\"#m8de391dd61\" y=\"285.498829\"/>\n      </g>\n     </g>\n     <g id=\"text_8\">\n      <!-- 5000 -->\n      <g transform=\"translate(13.5625 289.298048)scale(0.1 -0.1)\">\n       <use xlink:href=\"#DejaVuSans-53\"/>\n       <use x=\"63.623047\" xlink:href=\"#DejaVuSans-48\"/>\n       <use x=\"127.246094\" xlink:href=\"#DejaVuSans-48\"/>\n       <use x=\"190.869141\" xlink:href=\"#DejaVuSans-48\"/>\n      </g>\n     </g>\n    </g>\n    <g id=\"ytick_3\">\n     <g id=\"line2d_8\">\n      <g>\n       <use style=\"stroke:#000000;stroke-width:0.8;\" x=\"46.0125\" xlink:href=\"#m8de391dd61\" y=\"237.637658\"/>\n      </g>\n     </g>\n     <g id=\"text_9\">\n      <!-- 10000 -->\n      <g transform=\"translate(7.2 241.436877)scale(0.1 -0.1)\">\n       <use xlink:href=\"#DejaVuSans-49\"/>\n       <use x=\"63.623047\" xlink:href=\"#DejaVuSans-48\"/>\n       <use x=\"127.246094\" xlink:href=\"#DejaVuSans-48\"/>\n       <use x=\"190.869141\" xlink:href=\"#DejaVuSans-48\"/>\n       <use x=\"254.492188\" xlink:href=\"#DejaVuSans-48\"/>\n      </g>\n     </g>\n    </g>\n    <g id=\"ytick_4\">\n     <g id=\"line2d_9\">\n      <g>\n       <use style=\"stroke:#000000;stroke-width:0.8;\" x=\"46.0125\" xlink:href=\"#m8de391dd61\" y=\"189.776487\"/>\n      </g>\n     </g>\n     <g id=\"text_10\">\n      <!-- 15000 -->\n      <g transform=\"translate(7.2 193.575706)scale(0.1 -0.1)\">\n       <use xlink:href=\"#DejaVuSans-49\"/>\n       <use x=\"63.623047\" xlink:href=\"#DejaVuSans-53\"/>\n       <use x=\"127.246094\" xlink:href=\"#DejaVuSans-48\"/>\n       <use x=\"190.869141\" xlink:href=\"#DejaVuSans-48\"/>\n       <use x=\"254.492188\" xlink:href=\"#DejaVuSans-48\"/>\n      </g>\n     </g>\n    </g>\n    <g id=\"ytick_5\">\n     <g id=\"line2d_10\">\n      <g>\n       <use style=\"stroke:#000000;stroke-width:0.8;\" x=\"46.0125\" xlink:href=\"#m8de391dd61\" y=\"141.915316\"/>\n      </g>\n     </g>\n     <g id=\"text_11\">\n      <!-- 20000 -->\n      <g transform=\"translate(7.2 145.714535)scale(0.1 -0.1)\">\n       <use xlink:href=\"#DejaVuSans-50\"/>\n       <use x=\"63.623047\" xlink:href=\"#DejaVuSans-48\"/>\n       <use x=\"127.246094\" xlink:href=\"#DejaVuSans-48\"/>\n       <use x=\"190.869141\" xlink:href=\"#DejaVuSans-48\"/>\n       <use x=\"254.492188\" xlink:href=\"#DejaVuSans-48\"/>\n      </g>\n     </g>\n    </g>\n    <g id=\"ytick_6\">\n     <g id=\"line2d_11\">\n      <g>\n       <use style=\"stroke:#000000;stroke-width:0.8;\" x=\"46.0125\" xlink:href=\"#m8de391dd61\" y=\"94.054145\"/>\n      </g>\n     </g>\n     <g id=\"text_12\">\n      <!-- 25000 -->\n      <g transform=\"translate(7.2 97.853364)scale(0.1 -0.1)\">\n       <use xlink:href=\"#DejaVuSans-50\"/>\n       <use x=\"63.623047\" xlink:href=\"#DejaVuSans-53\"/>\n       <use x=\"127.246094\" xlink:href=\"#DejaVuSans-48\"/>\n       <use x=\"190.869141\" xlink:href=\"#DejaVuSans-48\"/>\n       <use x=\"254.492188\" xlink:href=\"#DejaVuSans-48\"/>\n      </g>\n     </g>\n    </g>\n    <g id=\"ytick_7\">\n     <g id=\"line2d_12\">\n      <g>\n       <use style=\"stroke:#000000;stroke-width:0.8;\" x=\"46.0125\" xlink:href=\"#m8de391dd61\" y=\"46.192975\"/>\n      </g>\n     </g>\n     <g id=\"text_13\">\n      <!-- 30000 -->\n      <g transform=\"translate(7.2 49.992193)scale(0.1 -0.1)\">\n       <use xlink:href=\"#DejaVuSans-51\"/>\n       <use x=\"63.623047\" xlink:href=\"#DejaVuSans-48\"/>\n       <use x=\"127.246094\" xlink:href=\"#DejaVuSans-48\"/>\n       <use x=\"190.869141\" xlink:href=\"#DejaVuSans-48\"/>\n       <use x=\"254.492188\" xlink:href=\"#DejaVuSans-48\"/>\n      </g>\n     </g>\n    </g>\n   </g>\n   <g id=\"patch_13\">\n    <path d=\"M 46.0125 333.36 \nL 46.0125 7.2 \n\" style=\"fill:none;stroke:#000000;stroke-linecap:square;stroke-linejoin:miter;stroke-width:0.8;\"/>\n   </g>\n   <g id=\"patch_14\">\n    <path d=\"M 715.6125 333.36 \nL 715.6125 7.2 \n\" style=\"fill:none;stroke:#000000;stroke-linecap:square;stroke-linejoin:miter;stroke-width:0.8;\"/>\n   </g>\n   <g id=\"patch_15\">\n    <path d=\"M 46.0125 333.36 \nL 715.6125 333.36 \n\" style=\"fill:none;stroke:#000000;stroke-linecap:square;stroke-linejoin:miter;stroke-width:0.8;\"/>\n   </g>\n   <g id=\"patch_16\">\n    <path d=\"M 46.0125 7.2 \nL 715.6125 7.2 \n\" style=\"fill:none;stroke:#000000;stroke-linecap:square;stroke-linejoin:miter;stroke-width:0.8;\"/>\n   </g>\n   <g id=\"legend_1\">\n    <g id=\"patch_17\">\n     <path d=\"M 587.673438 45.1125 \nL 708.6125 45.1125 \nQ 710.6125 45.1125 710.6125 43.1125 \nL 710.6125 14.2 \nQ 710.6125 12.2 708.6125 12.2 \nL 587.673438 12.2 \nQ 585.673438 12.2 585.673438 14.2 \nL 585.673438 43.1125 \nQ 585.673438 45.1125 587.673438 45.1125 \nz\n\" style=\"fill:#ffffff;opacity:0.8;stroke:#cccccc;stroke-linejoin:miter;\"/>\n    </g>\n    <g id=\"patch_18\">\n     <path d=\"M 589.673438 23.798438 \nL 609.673438 23.798438 \nL 609.673438 16.798438 \nL 589.673438 16.798438 \nz\n\" style=\"fill:#1f77b4;\"/>\n    </g>\n    <g id=\"text_14\">\n     <!-- train_dm_1_count -->\n     <g transform=\"translate(617.673438 23.798438)scale(0.1 -0.1)\">\n      <defs>\n       <path d=\"M 50.984375 -16.609375 \nL 50.984375 -23.578125 \nL -0.984375 -23.578125 \nL -0.984375 -16.609375 \nz\n\" id=\"DejaVuSans-95\"/>\n       <path d=\"M 48.78125 52.59375 \nL 48.78125 44.1875 \nQ 44.96875 46.296875 41.140625 47.34375 \nQ 37.3125 48.390625 33.40625 48.390625 \nQ 24.65625 48.390625 19.8125 42.84375 \nQ 14.984375 37.3125 14.984375 27.296875 \nQ 14.984375 17.28125 19.8125 11.734375 \nQ 24.65625 6.203125 33.40625 6.203125 \nQ 37.3125 6.203125 41.140625 7.25 \nQ 44.96875 8.296875 48.78125 10.40625 \nL 48.78125 2.09375 \nQ 45.015625 0.34375 40.984375 -0.53125 \nQ 36.96875 -1.421875 32.421875 -1.421875 \nQ 20.0625 -1.421875 12.78125 6.34375 \nQ 5.515625 14.109375 5.515625 27.296875 \nQ 5.515625 40.671875 12.859375 48.328125 \nQ 20.21875 56 33.015625 56 \nQ 37.15625 56 41.109375 55.140625 \nQ 45.0625 54.296875 48.78125 52.59375 \nz\n\" id=\"DejaVuSans-99\"/>\n      </defs>\n      <use xlink:href=\"#DejaVuSans-116\"/>\n      <use x=\"39.208984\" xlink:href=\"#DejaVuSans-114\"/>\n      <use x=\"80.322266\" xlink:href=\"#DejaVuSans-97\"/>\n      <use x=\"141.601562\" xlink:href=\"#DejaVuSans-105\"/>\n      <use x=\"169.384766\" xlink:href=\"#DejaVuSans-110\"/>\n      <use x=\"232.763672\" xlink:href=\"#DejaVuSans-95\"/>\n      <use x=\"282.763672\" xlink:href=\"#DejaVuSans-100\"/>\n      <use x=\"346.240234\" xlink:href=\"#DejaVuSans-109\"/>\n      <use x=\"443.652344\" xlink:href=\"#DejaVuSans-95\"/>\n      <use x=\"493.652344\" xlink:href=\"#DejaVuSans-49\"/>\n      <use x=\"557.275391\" xlink:href=\"#DejaVuSans-95\"/>\n      <use x=\"607.275391\" xlink:href=\"#DejaVuSans-99\"/>\n      <use x=\"662.255859\" xlink:href=\"#DejaVuSans-111\"/>\n      <use x=\"723.4375\" xlink:href=\"#DejaVuSans-117\"/>\n      <use x=\"786.816406\" xlink:href=\"#DejaVuSans-110\"/>\n      <use x=\"850.195312\" xlink:href=\"#DejaVuSans-116\"/>\n     </g>\n    </g>\n    <g id=\"patch_19\">\n     <path d=\"M 589.673438 38.754688 \nL 609.673438 38.754688 \nL 609.673438 31.754688 \nL 589.673438 31.754688 \nz\n\" style=\"fill:#ff7f0e;\"/>\n    </g>\n    <g id=\"text_15\">\n     <!-- train_dm_0_count -->\n     <g transform=\"translate(617.673438 38.754688)scale(0.1 -0.1)\">\n      <use xlink:href=\"#DejaVuSans-116\"/>\n      <use x=\"39.208984\" xlink:href=\"#DejaVuSans-114\"/>\n      <use x=\"80.322266\" xlink:href=\"#DejaVuSans-97\"/>\n      <use x=\"141.601562\" xlink:href=\"#DejaVuSans-105\"/>\n      <use x=\"169.384766\" xlink:href=\"#DejaVuSans-110\"/>\n      <use x=\"232.763672\" xlink:href=\"#DejaVuSans-95\"/>\n      <use x=\"282.763672\" xlink:href=\"#DejaVuSans-100\"/>\n      <use x=\"346.240234\" xlink:href=\"#DejaVuSans-109\"/>\n      <use x=\"443.652344\" xlink:href=\"#DejaVuSans-95\"/>\n      <use x=\"493.652344\" xlink:href=\"#DejaVuSans-48\"/>\n      <use x=\"557.275391\" xlink:href=\"#DejaVuSans-95\"/>\n      <use x=\"607.275391\" xlink:href=\"#DejaVuSans-99\"/>\n      <use x=\"662.255859\" xlink:href=\"#DejaVuSans-111\"/>\n      <use x=\"723.4375\" xlink:href=\"#DejaVuSans-117\"/>\n      <use x=\"786.816406\" xlink:href=\"#DejaVuSans-110\"/>\n      <use x=\"850.195312\" xlink:href=\"#DejaVuSans-116\"/>\n     </g>\n    </g>\n   </g>\n  </g>\n </g>\n <defs>\n  <clipPath id=\"pd8df2e036a\">\n   <rect height=\"326.16\" width=\"669.6\" x=\"46.0125\" y=\"7.2\"/>\n  </clipPath>\n </defs>\n</svg>\n",
      "image/png": "[encoded data removed]"
     },
     "metadata": {
      "needs_background": "light"
     }
    }
   ],
   "source": [
    "ax = df_bmi[['bmi','train_dm_1_count', 'train_dm_0_count']].plot.bar(x='bmi',rot=15, figsize=(12,6))"
   ]
  },
  {
   "cell_type": "code",
   "execution_count": 30,
   "metadata": {},
   "outputs": [
    {
     "output_type": "execute_result",
     "data": {
      "text/plain": "          bmi gender  diabetes_mellitus        bmi_cat\n0      22.73%      M                  1  normal_weight\n1      27.42%      F                  1    over_weight\n2      31.95%      F                  0          obese\n3      22.64%      F                  0  normal_weight\n4         NaN      M                  0           None\n...       ...    ...                ...            ...\n130152 29.29%      M                  0    over_weight\n130153 29.65%      F                  0    over_weight\n130154 32.27%      M                  1          obese\n130155 24.41%      M                  0  normal_weight\n130156 30.13%      M                  0          obese\n\n[130157 rows x 4 columns]",
      "text/html": "<div>\n<style scoped>\n    .dataframe tbody tr th:only-of-type {\n        vertical-align: middle;\n    }\n\n    .dataframe tbody tr th {\n        vertical-align: top;\n    }\n\n    .dataframe thead th {\n        text-align: right;\n    }\n</style>\n<table border=\"1\" class=\"dataframe\">\n  <thead>\n    <tr style=\"text-align: right;\">\n      <th></th>\n      <th>bmi</th>\n      <th>gender</th>\n      <th>diabetes_mellitus</th>\n      <th>bmi_cat</th>\n    </tr>\n  </thead>\n  <tbody>\n    <tr>\n      <th>0</th>\n      <td>22.73%</td>\n      <td>M</td>\n      <td>1</td>\n      <td>normal_weight</td>\n    </tr>\n    <tr>\n      <th>1</th>\n      <td>27.42%</td>\n      <td>F</td>\n      <td>1</td>\n      <td>over_weight</td>\n    </tr>\n    <tr>\n      <th>2</th>\n      <td>31.95%</td>\n      <td>F</td>\n      <td>0</td>\n      <td>obese</td>\n    </tr>\n    <tr>\n      <th>3</th>\n      <td>22.64%</td>\n      <td>F</td>\n      <td>0</td>\n      <td>normal_weight</td>\n    </tr>\n    <tr>\n      <th>4</th>\n      <td>NaN</td>\n      <td>M</td>\n      <td>0</td>\n      <td>None</td>\n    </tr>\n    <tr>\n      <th>...</th>\n      <td>...</td>\n      <td>...</td>\n      <td>...</td>\n      <td>...</td>\n    </tr>\n    <tr>\n      <th>130152</th>\n      <td>29.29%</td>\n      <td>M</td>\n      <td>0</td>\n      <td>over_weight</td>\n    </tr>\n    <tr>\n      <th>130153</th>\n      <td>29.65%</td>\n      <td>F</td>\n      <td>0</td>\n      <td>over_weight</td>\n    </tr>\n    <tr>\n      <th>130154</th>\n      <td>32.27%</td>\n      <td>M</td>\n      <td>1</td>\n      <td>obese</td>\n    </tr>\n    <tr>\n      <th>130155</th>\n      <td>24.41%</td>\n      <td>M</td>\n      <td>0</td>\n      <td>normal_weight</td>\n    </tr>\n    <tr>\n      <th>130156</th>\n      <td>30.13%</td>\n      <td>M</td>\n      <td>0</td>\n      <td>obese</td>\n    </tr>\n  </tbody>\n</table>\n<p>130157 rows × 4 columns</p>\n</div>"
     },
     "metadata": {},
     "execution_count": 30
    }
   ],
   "source": [
    "def label_bmi(row):\n",
    "    if row['bmi'] <= 0.0:\n",
    "        return  \"invalid\"\n",
    "    elif row['bmi'] > 0.0  and row['bmi'] < 18.5:\n",
    "        return \"under_weight\"\n",
    "    elif row['bmi'] > 18.5  and row['bmi'] < 24.9:\n",
    "        return \"normal_weight\"\n",
    "    elif row['bmi'] > 25  and row['bmi'] < 30:\n",
    "        return \"over_weight\"\n",
    "    elif row['bmi'] > 30 :\n",
    "        return \"obese\"\n",
    "\n",
    "def negate(row, col):\n",
    "    if row['diabetes_mellitus'] == 1:\n",
    "        return  row[col]\n",
    "    elif row['diabetes_mellitus'] == 0:\n",
    "        return  row[col]*-1\n",
    "\n",
    "df_train_ex = df_train[['bmi','gender','diabetes_mellitus']]\n",
    "df_train_ex['bmi_cat'] = df_train_ex.apply(lambda row: label_bmi(row), axis=1)\n",
    "df_train_ex"
   ]
  },
  {
   "cell_type": "code",
   "execution_count": 31,
   "metadata": {},
   "outputs": [
    {
     "output_type": "stream",
     "name": "stderr",
     "text": "No handles with labels found to put in legend.\n[0 1] ['normal_weight' 'obese' 'over_weight' 'under_weight']\n"
    },
    {
     "output_type": "execute_result",
     "data": {
      "text/plain": "<matplotlib.legend.Legend at 0x15e80a6d0>"
     },
     "metadata": {},
     "execution_count": 31
    },
    {
     "output_type": "display_data",
     "data": {
      "text/plain": "<Figure size 800x400 with 1 Axes>",
      "image/svg+xml": "<?xml version=\"1.0\" encoding=\"utf-8\" standalone=\"no\"?>\n<!DOCTYPE svg PUBLIC \"-//W3C//DTD SVG 1.1//EN\"\n  \"http://www.w3.org/Graphics/SVG/1.1/DTD/svg11.dtd\">\n<!-- Created with matplotlib (https://matplotlib.org/) -->\n<svg height=\"331.674375pt\" version=\"1.1\" viewBox=\"0 0 667.110938 331.674375\" width=\"667.110938pt\" xmlns=\"http://www.w3.org/2000/svg\" xmlns:xlink=\"http://www.w3.org/1999/xlink\">\n <metadata>\n  <rdf:RDF xmlns:cc=\"http://creativecommons.org/ns#\" xmlns:dc=\"http://purl.org/dc/elements/1.1/\" xmlns:rdf=\"http://www.w3.org/1999/02/22-rdf-syntax-ns#\">\n   <cc:Work>\n    <dc:type rdf:resource=\"http://purl.org/dc/dcmitype/StillImage\"/>\n    <dc:date>2021-01-26T11:17:23.628103</dc:date>\n    <dc:format>image/svg+xml</dc:format>\n    <dc:creator>\n     <cc:Agent>\n      <dc:title>Matplotlib v3.3.3, https://matplotlib.org/</dc:title>\n     </cc:Agent>\n    </dc:creator>\n   </cc:Work>\n  </rdf:RDF>\n </metadata>\n <defs>\n  <style type=\"text/css\">*{stroke-linecap:butt;stroke-linejoin:round;}</style>\n </defs>\n <g id=\"figure_1\">\n  <g id=\"patch_1\">\n   <path d=\"M 0 331.674375 \nL 667.110938 331.674375 \nL 667.110938 0 \nL 0 0 \nz\n\" style=\"fill:none;\"/>\n  </g>\n  <g id=\"axes_1\">\n   <g id=\"patch_2\">\n    <path d=\"M 101.910938 294.118125 \nL 659.910938 294.118125 \nL 659.910938 22.318125 \nL 101.910938 22.318125 \nz\n\" style=\"fill:#ffffff;\"/>\n   </g>\n   <g id=\"patch_3\">\n    <path clip-path=\"url(#pc196d1e4a5)\" d=\"M 482.668846 29.113125 \nL 145.936305 29.113125 \nL 145.936305 83.473125 \nL 482.668846 83.473125 \nz\n\" style=\"fill:#4ba473;\"/>\n   </g>\n   <g id=\"patch_4\">\n    <path clip-path=\"url(#pc196d1e4a5)\" d=\"M 482.668846 97.063125 \nL 127.274574 97.063125 \nL 127.274574 151.423125 \nL 482.668846 151.423125 \nz\n\" style=\"fill:#4ba473;\"/>\n   </g>\n   <g id=\"patch_5\">\n    <path clip-path=\"url(#pc196d1e4a5)\" d=\"M 482.668846 165.013125 \nL 156.822315 165.013125 \nL 156.822315 219.373125 \nL 482.668846 219.373125 \nz\n\" style=\"fill:#4ba473;\"/>\n   </g>\n   <g id=\"patch_6\">\n    <path clip-path=\"url(#pc196d1e4a5)\" d=\"M 482.668846 232.963125 \nL 430.911016 232.963125 \nL 430.911016 287.323125 \nL 482.668846 287.323125 \nz\n\" style=\"fill:#4ba473;\"/>\n   </g>\n   <g id=\"patch_7\">\n    <path clip-path=\"url(#pc196d1e4a5)\" d=\"M 482.668846 29.113125 \nL 540.362508 29.113125 \nL 540.362508 83.473125 \nL 482.668846 83.473125 \nz\n\" style=\"fill:#e8735e;\"/>\n   </g>\n   <g id=\"patch_8\">\n    <path clip-path=\"url(#pc196d1e4a5)\" d=\"M 482.668846 97.063125 \nL 634.547301 97.063125 \nL 634.547301 151.423125 \nL 482.668846 151.423125 \nz\n\" style=\"fill:#e8735e;\"/>\n   </g>\n   <g id=\"patch_9\">\n    <path clip-path=\"url(#pc196d1e4a5)\" d=\"M 482.668846 165.013125 \nL 563.284458 165.013125 \nL 563.284458 219.373125 \nL 482.668846 219.373125 \nz\n\" style=\"fill:#e8735e;\"/>\n   </g>\n   <g id=\"patch_10\">\n    <path clip-path=\"url(#pc196d1e4a5)\" d=\"M 482.668846 232.963125 \nL 489.207023 232.963125 \nL 489.207023 287.323125 \nL 482.668846 287.323125 \nz\n\" style=\"fill:#e8735e;\"/>\n   </g>\n   <g id=\"matplotlib.axis_1\">\n    <g id=\"xtick_1\">\n     <g id=\"line2d_1\">\n      <defs>\n       <path d=\"M 0 0 \nL 0 3.5 \n\" id=\"m74fd09cf5e\" style=\"stroke:#000000;stroke-width:0.8;\"/>\n      </defs>\n      <g>\n       <use style=\"stroke:#000000;stroke-width:0.8;\" x=\"154.11724\" xlink:href=\"#m74fd09cf5e\" y=\"294.118125\"/>\n      </g>\n     </g>\n     <g id=\"text_1\">\n      <!-- −30000 -->\n      <g transform=\"translate(134.021146 308.716563)scale(0.1 -0.1)\">\n       <defs>\n        <path d=\"M 10.59375 35.5 \nL 73.1875 35.5 \nL 73.1875 27.203125 \nL 10.59375 27.203125 \nz\n\" id=\"DejaVuSans-8722\"/>\n        <path d=\"M 40.578125 39.3125 \nQ 47.65625 37.796875 51.625 33 \nQ 55.609375 28.21875 55.609375 21.1875 \nQ 55.609375 10.40625 48.1875 4.484375 \nQ 40.765625 -1.421875 27.09375 -1.421875 \nQ 22.515625 -1.421875 17.65625 -0.515625 \nQ 12.796875 0.390625 7.625 2.203125 \nL 7.625 11.71875 \nQ 11.71875 9.328125 16.59375 8.109375 \nQ 21.484375 6.890625 26.8125 6.890625 \nQ 36.078125 6.890625 40.9375 10.546875 \nQ 45.796875 14.203125 45.796875 21.1875 \nQ 45.796875 27.640625 41.28125 31.265625 \nQ 36.765625 34.90625 28.71875 34.90625 \nL 20.21875 34.90625 \nL 20.21875 43.015625 \nL 29.109375 43.015625 \nQ 36.375 43.015625 40.234375 45.921875 \nQ 44.09375 48.828125 44.09375 54.296875 \nQ 44.09375 59.90625 40.109375 62.90625 \nQ 36.140625 65.921875 28.71875 65.921875 \nQ 24.65625 65.921875 20.015625 65.03125 \nQ 15.375 64.15625 9.8125 62.3125 \nL 9.8125 71.09375 \nQ 15.4375 72.65625 20.34375 73.4375 \nQ 25.25 74.21875 29.59375 74.21875 \nQ 40.828125 74.21875 47.359375 69.109375 \nQ 53.90625 64.015625 53.90625 55.328125 \nQ 53.90625 49.265625 50.4375 45.09375 \nQ 46.96875 40.921875 40.578125 39.3125 \nz\n\" id=\"DejaVuSans-51\"/>\n        <path d=\"M 31.78125 66.40625 \nQ 24.171875 66.40625 20.328125 58.90625 \nQ 16.5 51.421875 16.5 36.375 \nQ 16.5 21.390625 20.328125 13.890625 \nQ 24.171875 6.390625 31.78125 6.390625 \nQ 39.453125 6.390625 43.28125 13.890625 \nQ 47.125 21.390625 47.125 36.375 \nQ 47.125 51.421875 43.28125 58.90625 \nQ 39.453125 66.40625 31.78125 66.40625 \nz\nM 31.78125 74.21875 \nQ 44.046875 74.21875 50.515625 64.515625 \nQ 56.984375 54.828125 56.984375 36.375 \nQ 56.984375 17.96875 50.515625 8.265625 \nQ 44.046875 -1.421875 31.78125 -1.421875 \nQ 19.53125 -1.421875 13.0625 8.265625 \nQ 6.59375 17.96875 6.59375 36.375 \nQ 6.59375 54.828125 13.0625 64.515625 \nQ 19.53125 74.21875 31.78125 74.21875 \nz\n\" id=\"DejaVuSans-48\"/>\n       </defs>\n       <use xlink:href=\"#DejaVuSans-8722\"/>\n       <use x=\"83.789062\" xlink:href=\"#DejaVuSans-51\"/>\n       <use x=\"147.412109\" xlink:href=\"#DejaVuSans-48\"/>\n       <use x=\"211.035156\" xlink:href=\"#DejaVuSans-48\"/>\n       <use x=\"274.658203\" xlink:href=\"#DejaVuSans-48\"/>\n       <use x=\"338.28125\" xlink:href=\"#DejaVuSans-48\"/>\n      </g>\n     </g>\n    </g>\n    <g id=\"xtick_2\">\n     <g id=\"line2d_2\">\n      <g>\n       <use style=\"stroke:#000000;stroke-width:0.8;\" x=\"263.634442\" xlink:href=\"#m74fd09cf5e\" y=\"294.118125\"/>\n      </g>\n     </g>\n     <g id=\"text_2\">\n      <!-- −20000 -->\n      <g transform=\"translate(243.538348 308.716563)scale(0.1 -0.1)\">\n       <defs>\n        <path d=\"M 19.1875 8.296875 \nL 53.609375 8.296875 \nL 53.609375 0 \nL 7.328125 0 \nL 7.328125 8.296875 \nQ 12.9375 14.109375 22.625 23.890625 \nQ 32.328125 33.6875 34.8125 36.53125 \nQ 39.546875 41.84375 41.421875 45.53125 \nQ 43.3125 49.21875 43.3125 52.78125 \nQ 43.3125 58.59375 39.234375 62.25 \nQ 35.15625 65.921875 28.609375 65.921875 \nQ 23.96875 65.921875 18.8125 64.3125 \nQ 13.671875 62.703125 7.8125 59.421875 \nL 7.8125 69.390625 \nQ 13.765625 71.78125 18.9375 73 \nQ 24.125 74.21875 28.421875 74.21875 \nQ 39.75 74.21875 46.484375 68.546875 \nQ 53.21875 62.890625 53.21875 53.421875 \nQ 53.21875 48.921875 51.53125 44.890625 \nQ 49.859375 40.875 45.40625 35.40625 \nQ 44.1875 33.984375 37.640625 27.21875 \nQ 31.109375 20.453125 19.1875 8.296875 \nz\n\" id=\"DejaVuSans-50\"/>\n       </defs>\n       <use xlink:href=\"#DejaVuSans-8722\"/>\n       <use x=\"83.789062\" xlink:href=\"#DejaVuSans-50\"/>\n       <use x=\"147.412109\" xlink:href=\"#DejaVuSans-48\"/>\n       <use x=\"211.035156\" xlink:href=\"#DejaVuSans-48\"/>\n       <use x=\"274.658203\" xlink:href=\"#DejaVuSans-48\"/>\n       <use x=\"338.28125\" xlink:href=\"#DejaVuSans-48\"/>\n      </g>\n     </g>\n    </g>\n    <g id=\"xtick_3\">\n     <g id=\"line2d_3\">\n      <g>\n       <use style=\"stroke:#000000;stroke-width:0.8;\" x=\"373.151644\" xlink:href=\"#m74fd09cf5e\" y=\"294.118125\"/>\n      </g>\n     </g>\n     <g id=\"text_3\">\n      <!-- −10000 -->\n      <g transform=\"translate(353.05555 308.716563)scale(0.1 -0.1)\">\n       <defs>\n        <path d=\"M 12.40625 8.296875 \nL 28.515625 8.296875 \nL 28.515625 63.921875 \nL 10.984375 60.40625 \nL 10.984375 69.390625 \nL 28.421875 72.90625 \nL 38.28125 72.90625 \nL 38.28125 8.296875 \nL 54.390625 8.296875 \nL 54.390625 0 \nL 12.40625 0 \nz\n\" id=\"DejaVuSans-49\"/>\n       </defs>\n       <use xlink:href=\"#DejaVuSans-8722\"/>\n       <use x=\"83.789062\" xlink:href=\"#DejaVuSans-49\"/>\n       <use x=\"147.412109\" xlink:href=\"#DejaVuSans-48\"/>\n       <use x=\"211.035156\" xlink:href=\"#DejaVuSans-48\"/>\n       <use x=\"274.658203\" xlink:href=\"#DejaVuSans-48\"/>\n       <use x=\"338.28125\" xlink:href=\"#DejaVuSans-48\"/>\n      </g>\n     </g>\n    </g>\n    <g id=\"xtick_4\">\n     <g id=\"line2d_4\">\n      <g>\n       <use style=\"stroke:#000000;stroke-width:0.8;\" x=\"482.668846\" xlink:href=\"#m74fd09cf5e\" y=\"294.118125\"/>\n      </g>\n     </g>\n     <g id=\"text_4\">\n      <!-- 0 -->\n      <g transform=\"translate(479.487596 308.716563)scale(0.1 -0.1)\">\n       <use xlink:href=\"#DejaVuSans-48\"/>\n      </g>\n     </g>\n    </g>\n    <g id=\"xtick_5\">\n     <g id=\"line2d_5\">\n      <g>\n       <use style=\"stroke:#000000;stroke-width:0.8;\" x=\"592.186047\" xlink:href=\"#m74fd09cf5e\" y=\"294.118125\"/>\n      </g>\n     </g>\n     <g id=\"text_5\">\n      <!-- 10000 -->\n      <g transform=\"translate(576.279797 308.716563)scale(0.1 -0.1)\">\n       <use xlink:href=\"#DejaVuSans-49\"/>\n       <use x=\"63.623047\" xlink:href=\"#DejaVuSans-48\"/>\n       <use x=\"127.246094\" xlink:href=\"#DejaVuSans-48\"/>\n       <use x=\"190.869141\" xlink:href=\"#DejaVuSans-48\"/>\n       <use x=\"254.492188\" xlink:href=\"#DejaVuSans-48\"/>\n      </g>\n     </g>\n    </g>\n    <g id=\"text_6\">\n     <!-- count -->\n     <g transform=\"translate(366.804688 322.394687)scale(0.1 -0.1)\">\n      <defs>\n       <path d=\"M 48.78125 52.59375 \nL 48.78125 44.1875 \nQ 44.96875 46.296875 41.140625 47.34375 \nQ 37.3125 48.390625 33.40625 48.390625 \nQ 24.65625 48.390625 19.8125 42.84375 \nQ 14.984375 37.3125 14.984375 27.296875 \nQ 14.984375 17.28125 19.8125 11.734375 \nQ 24.65625 6.203125 33.40625 6.203125 \nQ 37.3125 6.203125 41.140625 7.25 \nQ 44.96875 8.296875 48.78125 10.40625 \nL 48.78125 2.09375 \nQ 45.015625 0.34375 40.984375 -0.53125 \nQ 36.96875 -1.421875 32.421875 -1.421875 \nQ 20.0625 -1.421875 12.78125 6.34375 \nQ 5.515625 14.109375 5.515625 27.296875 \nQ 5.515625 40.671875 12.859375 48.328125 \nQ 20.21875 56 33.015625 56 \nQ 37.15625 56 41.109375 55.140625 \nQ 45.0625 54.296875 48.78125 52.59375 \nz\n\" id=\"DejaVuSans-99\"/>\n       <path d=\"M 30.609375 48.390625 \nQ 23.390625 48.390625 19.1875 42.75 \nQ 14.984375 37.109375 14.984375 27.296875 \nQ 14.984375 17.484375 19.15625 11.84375 \nQ 23.34375 6.203125 30.609375 6.203125 \nQ 37.796875 6.203125 41.984375 11.859375 \nQ 46.1875 17.53125 46.1875 27.296875 \nQ 46.1875 37.015625 41.984375 42.703125 \nQ 37.796875 48.390625 30.609375 48.390625 \nz\nM 30.609375 56 \nQ 42.328125 56 49.015625 48.375 \nQ 55.71875 40.765625 55.71875 27.296875 \nQ 55.71875 13.875 49.015625 6.21875 \nQ 42.328125 -1.421875 30.609375 -1.421875 \nQ 18.84375 -1.421875 12.171875 6.21875 \nQ 5.515625 13.875 5.515625 27.296875 \nQ 5.515625 40.765625 12.171875 48.375 \nQ 18.84375 56 30.609375 56 \nz\n\" id=\"DejaVuSans-111\"/>\n       <path d=\"M 8.5 21.578125 \nL 8.5 54.6875 \nL 17.484375 54.6875 \nL 17.484375 21.921875 \nQ 17.484375 14.15625 20.5 10.265625 \nQ 23.53125 6.390625 29.59375 6.390625 \nQ 36.859375 6.390625 41.078125 11.03125 \nQ 45.3125 15.671875 45.3125 23.6875 \nL 45.3125 54.6875 \nL 54.296875 54.6875 \nL 54.296875 0 \nL 45.3125 0 \nL 45.3125 8.40625 \nQ 42.046875 3.421875 37.71875 1 \nQ 33.40625 -1.421875 27.6875 -1.421875 \nQ 18.265625 -1.421875 13.375 4.4375 \nQ 8.5 10.296875 8.5 21.578125 \nz\nM 31.109375 56 \nz\n\" id=\"DejaVuSans-117\"/>\n       <path d=\"M 54.890625 33.015625 \nL 54.890625 0 \nL 45.90625 0 \nL 45.90625 32.71875 \nQ 45.90625 40.484375 42.875 44.328125 \nQ 39.84375 48.1875 33.796875 48.1875 \nQ 26.515625 48.1875 22.3125 43.546875 \nQ 18.109375 38.921875 18.109375 30.90625 \nL 18.109375 0 \nL 9.078125 0 \nL 9.078125 54.6875 \nL 18.109375 54.6875 \nL 18.109375 46.1875 \nQ 21.34375 51.125 25.703125 53.5625 \nQ 30.078125 56 35.796875 56 \nQ 45.21875 56 50.046875 50.171875 \nQ 54.890625 44.34375 54.890625 33.015625 \nz\n\" id=\"DejaVuSans-110\"/>\n       <path d=\"M 18.3125 70.21875 \nL 18.3125 54.6875 \nL 36.8125 54.6875 \nL 36.8125 47.703125 \nL 18.3125 47.703125 \nL 18.3125 18.015625 \nQ 18.3125 11.328125 20.140625 9.421875 \nQ 21.96875 7.515625 27.59375 7.515625 \nL 36.8125 7.515625 \nL 36.8125 0 \nL 27.59375 0 \nQ 17.1875 0 13.234375 3.875 \nQ 9.28125 7.765625 9.28125 18.015625 \nL 9.28125 47.703125 \nL 2.6875 47.703125 \nL 2.6875 54.6875 \nL 9.28125 54.6875 \nL 9.28125 70.21875 \nz\n\" id=\"DejaVuSans-116\"/>\n      </defs>\n      <use xlink:href=\"#DejaVuSans-99\"/>\n      <use x=\"54.980469\" xlink:href=\"#DejaVuSans-111\"/>\n      <use x=\"116.162109\" xlink:href=\"#DejaVuSans-117\"/>\n      <use x=\"179.541016\" xlink:href=\"#DejaVuSans-110\"/>\n      <use x=\"242.919922\" xlink:href=\"#DejaVuSans-116\"/>\n     </g>\n    </g>\n   </g>\n   <g id=\"matplotlib.axis_2\">\n    <g id=\"ytick_1\">\n     <g id=\"line2d_6\">\n      <defs>\n       <path d=\"M 0 0 \nL -3.5 0 \n\" id=\"m37cf6533c9\" style=\"stroke:#000000;stroke-width:0.8;\"/>\n      </defs>\n      <g>\n       <use style=\"stroke:#000000;stroke-width:0.8;\" x=\"101.910938\" xlink:href=\"#m37cf6533c9\" y=\"56.293125\"/>\n      </g>\n     </g>\n     <g id=\"text_7\">\n      <!-- normal_weight -->\n      <g transform=\"translate(21.15625 60.092344)scale(0.1 -0.1)\">\n       <defs>\n        <path d=\"M 41.109375 46.296875 \nQ 39.59375 47.171875 37.8125 47.578125 \nQ 36.03125 48 33.890625 48 \nQ 26.265625 48 22.1875 43.046875 \nQ 18.109375 38.09375 18.109375 28.8125 \nL 18.109375 0 \nL 9.078125 0 \nL 9.078125 54.6875 \nL 18.109375 54.6875 \nL 18.109375 46.1875 \nQ 20.953125 51.171875 25.484375 53.578125 \nQ 30.03125 56 36.53125 56 \nQ 37.453125 56 38.578125 55.875 \nQ 39.703125 55.765625 41.0625 55.515625 \nz\n\" id=\"DejaVuSans-114\"/>\n        <path d=\"M 52 44.1875 \nQ 55.375 50.25 60.0625 53.125 \nQ 64.75 56 71.09375 56 \nQ 79.640625 56 84.28125 50.015625 \nQ 88.921875 44.046875 88.921875 33.015625 \nL 88.921875 0 \nL 79.890625 0 \nL 79.890625 32.71875 \nQ 79.890625 40.578125 77.09375 44.375 \nQ 74.3125 48.1875 68.609375 48.1875 \nQ 61.625 48.1875 57.5625 43.546875 \nQ 53.515625 38.921875 53.515625 30.90625 \nL 53.515625 0 \nL 44.484375 0 \nL 44.484375 32.71875 \nQ 44.484375 40.625 41.703125 44.40625 \nQ 38.921875 48.1875 33.109375 48.1875 \nQ 26.21875 48.1875 22.15625 43.53125 \nQ 18.109375 38.875 18.109375 30.90625 \nL 18.109375 0 \nL 9.078125 0 \nL 9.078125 54.6875 \nL 18.109375 54.6875 \nL 18.109375 46.1875 \nQ 21.1875 51.21875 25.484375 53.609375 \nQ 29.78125 56 35.6875 56 \nQ 41.65625 56 45.828125 52.96875 \nQ 50 49.953125 52 44.1875 \nz\n\" id=\"DejaVuSans-109\"/>\n        <path d=\"M 34.28125 27.484375 \nQ 23.390625 27.484375 19.1875 25 \nQ 14.984375 22.515625 14.984375 16.5 \nQ 14.984375 11.71875 18.140625 8.90625 \nQ 21.296875 6.109375 26.703125 6.109375 \nQ 34.1875 6.109375 38.703125 11.40625 \nQ 43.21875 16.703125 43.21875 25.484375 \nL 43.21875 27.484375 \nz\nM 52.203125 31.203125 \nL 52.203125 0 \nL 43.21875 0 \nL 43.21875 8.296875 \nQ 40.140625 3.328125 35.546875 0.953125 \nQ 30.953125 -1.421875 24.3125 -1.421875 \nQ 15.921875 -1.421875 10.953125 3.296875 \nQ 6 8.015625 6 15.921875 \nQ 6 25.140625 12.171875 29.828125 \nQ 18.359375 34.515625 30.609375 34.515625 \nL 43.21875 34.515625 \nL 43.21875 35.40625 \nQ 43.21875 41.609375 39.140625 45 \nQ 35.0625 48.390625 27.6875 48.390625 \nQ 23 48.390625 18.546875 47.265625 \nQ 14.109375 46.140625 10.015625 43.890625 \nL 10.015625 52.203125 \nQ 14.9375 54.109375 19.578125 55.046875 \nQ 24.21875 56 28.609375 56 \nQ 40.484375 56 46.34375 49.84375 \nQ 52.203125 43.703125 52.203125 31.203125 \nz\n\" id=\"DejaVuSans-97\"/>\n        <path d=\"M 9.421875 75.984375 \nL 18.40625 75.984375 \nL 18.40625 0 \nL 9.421875 0 \nz\n\" id=\"DejaVuSans-108\"/>\n        <path d=\"M 50.984375 -16.609375 \nL 50.984375 -23.578125 \nL -0.984375 -23.578125 \nL -0.984375 -16.609375 \nz\n\" id=\"DejaVuSans-95\"/>\n        <path d=\"M 4.203125 54.6875 \nL 13.1875 54.6875 \nL 24.421875 12.015625 \nL 35.59375 54.6875 \nL 46.1875 54.6875 \nL 57.421875 12.015625 \nL 68.609375 54.6875 \nL 77.59375 54.6875 \nL 63.28125 0 \nL 52.6875 0 \nL 40.921875 44.828125 \nL 29.109375 0 \nL 18.5 0 \nz\n\" id=\"DejaVuSans-119\"/>\n        <path d=\"M 56.203125 29.59375 \nL 56.203125 25.203125 \nL 14.890625 25.203125 \nQ 15.484375 15.921875 20.484375 11.0625 \nQ 25.484375 6.203125 34.421875 6.203125 \nQ 39.59375 6.203125 44.453125 7.46875 \nQ 49.3125 8.734375 54.109375 11.28125 \nL 54.109375 2.78125 \nQ 49.265625 0.734375 44.1875 -0.34375 \nQ 39.109375 -1.421875 33.890625 -1.421875 \nQ 20.796875 -1.421875 13.15625 6.1875 \nQ 5.515625 13.8125 5.515625 26.8125 \nQ 5.515625 40.234375 12.765625 48.109375 \nQ 20.015625 56 32.328125 56 \nQ 43.359375 56 49.78125 48.890625 \nQ 56.203125 41.796875 56.203125 29.59375 \nz\nM 47.21875 32.234375 \nQ 47.125 39.59375 43.09375 43.984375 \nQ 39.0625 48.390625 32.421875 48.390625 \nQ 24.90625 48.390625 20.390625 44.140625 \nQ 15.875 39.890625 15.1875 32.171875 \nz\n\" id=\"DejaVuSans-101\"/>\n        <path d=\"M 9.421875 54.6875 \nL 18.40625 54.6875 \nL 18.40625 0 \nL 9.421875 0 \nz\nM 9.421875 75.984375 \nL 18.40625 75.984375 \nL 18.40625 64.59375 \nL 9.421875 64.59375 \nz\n\" id=\"DejaVuSans-105\"/>\n        <path d=\"M 45.40625 27.984375 \nQ 45.40625 37.75 41.375 43.109375 \nQ 37.359375 48.484375 30.078125 48.484375 \nQ 22.859375 48.484375 18.828125 43.109375 \nQ 14.796875 37.75 14.796875 27.984375 \nQ 14.796875 18.265625 18.828125 12.890625 \nQ 22.859375 7.515625 30.078125 7.515625 \nQ 37.359375 7.515625 41.375 12.890625 \nQ 45.40625 18.265625 45.40625 27.984375 \nz\nM 54.390625 6.78125 \nQ 54.390625 -7.171875 48.1875 -13.984375 \nQ 42 -20.796875 29.203125 -20.796875 \nQ 24.46875 -20.796875 20.265625 -20.09375 \nQ 16.0625 -19.390625 12.109375 -17.921875 \nL 12.109375 -9.1875 \nQ 16.0625 -11.328125 19.921875 -12.34375 \nQ 23.78125 -13.375 27.78125 -13.375 \nQ 36.625 -13.375 41.015625 -8.765625 \nQ 45.40625 -4.15625 45.40625 5.171875 \nL 45.40625 9.625 \nQ 42.625 4.78125 38.28125 2.390625 \nQ 33.9375 0 27.875 0 \nQ 17.828125 0 11.671875 7.65625 \nQ 5.515625 15.328125 5.515625 27.984375 \nQ 5.515625 40.671875 11.671875 48.328125 \nQ 17.828125 56 27.875 56 \nQ 33.9375 56 38.28125 53.609375 \nQ 42.625 51.21875 45.40625 46.390625 \nL 45.40625 54.6875 \nL 54.390625 54.6875 \nz\n\" id=\"DejaVuSans-103\"/>\n        <path d=\"M 54.890625 33.015625 \nL 54.890625 0 \nL 45.90625 0 \nL 45.90625 32.71875 \nQ 45.90625 40.484375 42.875 44.328125 \nQ 39.84375 48.1875 33.796875 48.1875 \nQ 26.515625 48.1875 22.3125 43.546875 \nQ 18.109375 38.921875 18.109375 30.90625 \nL 18.109375 0 \nL 9.078125 0 \nL 9.078125 75.984375 \nL 18.109375 75.984375 \nL 18.109375 46.1875 \nQ 21.34375 51.125 25.703125 53.5625 \nQ 30.078125 56 35.796875 56 \nQ 45.21875 56 50.046875 50.171875 \nQ 54.890625 44.34375 54.890625 33.015625 \nz\n\" id=\"DejaVuSans-104\"/>\n       </defs>\n       <use xlink:href=\"#DejaVuSans-110\"/>\n       <use x=\"63.378906\" xlink:href=\"#DejaVuSans-111\"/>\n       <use x=\"124.560547\" xlink:href=\"#DejaVuSans-114\"/>\n       <use x=\"163.923828\" xlink:href=\"#DejaVuSans-109\"/>\n       <use x=\"261.335938\" xlink:href=\"#DejaVuSans-97\"/>\n       <use x=\"322.615234\" xlink:href=\"#DejaVuSans-108\"/>\n       <use x=\"350.398438\" xlink:href=\"#DejaVuSans-95\"/>\n       <use x=\"400.398438\" xlink:href=\"#DejaVuSans-119\"/>\n       <use x=\"482.185547\" xlink:href=\"#DejaVuSans-101\"/>\n       <use x=\"543.708984\" xlink:href=\"#DejaVuSans-105\"/>\n       <use x=\"571.492188\" xlink:href=\"#DejaVuSans-103\"/>\n       <use x=\"634.96875\" xlink:href=\"#DejaVuSans-104\"/>\n       <use x=\"698.347656\" xlink:href=\"#DejaVuSans-116\"/>\n      </g>\n     </g>\n    </g>\n    <g id=\"ytick_2\">\n     <g id=\"line2d_7\">\n      <g>\n       <use style=\"stroke:#000000;stroke-width:0.8;\" x=\"101.910938\" xlink:href=\"#m37cf6533c9\" y=\"124.243125\"/>\n      </g>\n     </g>\n     <g id=\"text_8\">\n      <!-- obese -->\n      <g transform=\"translate(64.928125 128.042344)scale(0.1 -0.1)\">\n       <defs>\n        <path d=\"M 48.6875 27.296875 \nQ 48.6875 37.203125 44.609375 42.84375 \nQ 40.53125 48.484375 33.40625 48.484375 \nQ 26.265625 48.484375 22.1875 42.84375 \nQ 18.109375 37.203125 18.109375 27.296875 \nQ 18.109375 17.390625 22.1875 11.75 \nQ 26.265625 6.109375 33.40625 6.109375 \nQ 40.53125 6.109375 44.609375 11.75 \nQ 48.6875 17.390625 48.6875 27.296875 \nz\nM 18.109375 46.390625 \nQ 20.953125 51.265625 25.265625 53.625 \nQ 29.59375 56 35.59375 56 \nQ 45.5625 56 51.78125 48.09375 \nQ 58.015625 40.1875 58.015625 27.296875 \nQ 58.015625 14.40625 51.78125 6.484375 \nQ 45.5625 -1.421875 35.59375 -1.421875 \nQ 29.59375 -1.421875 25.265625 0.953125 \nQ 20.953125 3.328125 18.109375 8.203125 \nL 18.109375 0 \nL 9.078125 0 \nL 9.078125 75.984375 \nL 18.109375 75.984375 \nz\n\" id=\"DejaVuSans-98\"/>\n        <path d=\"M 44.28125 53.078125 \nL 44.28125 44.578125 \nQ 40.484375 46.53125 36.375 47.5 \nQ 32.28125 48.484375 27.875 48.484375 \nQ 21.1875 48.484375 17.84375 46.4375 \nQ 14.5 44.390625 14.5 40.28125 \nQ 14.5 37.15625 16.890625 35.375 \nQ 19.28125 33.59375 26.515625 31.984375 \nL 29.59375 31.296875 \nQ 39.15625 29.25 43.1875 25.515625 \nQ 47.21875 21.78125 47.21875 15.09375 \nQ 47.21875 7.46875 41.1875 3.015625 \nQ 35.15625 -1.421875 24.609375 -1.421875 \nQ 20.21875 -1.421875 15.453125 -0.5625 \nQ 10.6875 0.296875 5.421875 2 \nL 5.421875 11.28125 \nQ 10.40625 8.6875 15.234375 7.390625 \nQ 20.0625 6.109375 24.8125 6.109375 \nQ 31.15625 6.109375 34.5625 8.28125 \nQ 37.984375 10.453125 37.984375 14.40625 \nQ 37.984375 18.0625 35.515625 20.015625 \nQ 33.0625 21.96875 24.703125 23.78125 \nL 21.578125 24.515625 \nQ 13.234375 26.265625 9.515625 29.90625 \nQ 5.8125 33.546875 5.8125 39.890625 \nQ 5.8125 47.609375 11.28125 51.796875 \nQ 16.75 56 26.8125 56 \nQ 31.78125 56 36.171875 55.265625 \nQ 40.578125 54.546875 44.28125 53.078125 \nz\n\" id=\"DejaVuSans-115\"/>\n       </defs>\n       <use xlink:href=\"#DejaVuSans-111\"/>\n       <use x=\"61.181641\" xlink:href=\"#DejaVuSans-98\"/>\n       <use x=\"124.658203\" xlink:href=\"#DejaVuSans-101\"/>\n       <use x=\"186.181641\" xlink:href=\"#DejaVuSans-115\"/>\n       <use x=\"238.28125\" xlink:href=\"#DejaVuSans-101\"/>\n      </g>\n     </g>\n    </g>\n    <g id=\"ytick_3\">\n     <g id=\"line2d_8\">\n      <g>\n       <use style=\"stroke:#000000;stroke-width:0.8;\" x=\"101.910938\" xlink:href=\"#m37cf6533c9\" y=\"192.193125\"/>\n      </g>\n     </g>\n     <g id=\"text_9\">\n      <!-- over_weight -->\n      <g transform=\"translate(33.89375 195.992344)scale(0.1 -0.1)\">\n       <defs>\n        <path d=\"M 2.984375 54.6875 \nL 12.5 54.6875 \nL 29.59375 8.796875 \nL 46.6875 54.6875 \nL 56.203125 54.6875 \nL 35.6875 0 \nL 23.484375 0 \nz\n\" id=\"DejaVuSans-118\"/>\n       </defs>\n       <use xlink:href=\"#DejaVuSans-111\"/>\n       <use x=\"61.181641\" xlink:href=\"#DejaVuSans-118\"/>\n       <use x=\"120.361328\" xlink:href=\"#DejaVuSans-101\"/>\n       <use x=\"181.884766\" xlink:href=\"#DejaVuSans-114\"/>\n       <use x=\"222.998047\" xlink:href=\"#DejaVuSans-95\"/>\n       <use x=\"272.998047\" xlink:href=\"#DejaVuSans-119\"/>\n       <use x=\"354.785156\" xlink:href=\"#DejaVuSans-101\"/>\n       <use x=\"416.308594\" xlink:href=\"#DejaVuSans-105\"/>\n       <use x=\"444.091797\" xlink:href=\"#DejaVuSans-103\"/>\n       <use x=\"507.568359\" xlink:href=\"#DejaVuSans-104\"/>\n       <use x=\"570.947266\" xlink:href=\"#DejaVuSans-116\"/>\n      </g>\n     </g>\n    </g>\n    <g id=\"ytick_4\">\n     <g id=\"line2d_9\">\n      <g>\n       <use style=\"stroke:#000000;stroke-width:0.8;\" x=\"101.910938\" xlink:href=\"#m37cf6533c9\" y=\"260.143125\"/>\n      </g>\n     </g>\n     <g id=\"text_10\">\n      <!-- under_weight -->\n      <g transform=\"translate(26.907813 263.942344)scale(0.1 -0.1)\">\n       <defs>\n        <path d=\"M 45.40625 46.390625 \nL 45.40625 75.984375 \nL 54.390625 75.984375 \nL 54.390625 0 \nL 45.40625 0 \nL 45.40625 8.203125 \nQ 42.578125 3.328125 38.25 0.953125 \nQ 33.9375 -1.421875 27.875 -1.421875 \nQ 17.96875 -1.421875 11.734375 6.484375 \nQ 5.515625 14.40625 5.515625 27.296875 \nQ 5.515625 40.1875 11.734375 48.09375 \nQ 17.96875 56 27.875 56 \nQ 33.9375 56 38.25 53.625 \nQ 42.578125 51.265625 45.40625 46.390625 \nz\nM 14.796875 27.296875 \nQ 14.796875 17.390625 18.875 11.75 \nQ 22.953125 6.109375 30.078125 6.109375 \nQ 37.203125 6.109375 41.296875 11.75 \nQ 45.40625 17.390625 45.40625 27.296875 \nQ 45.40625 37.203125 41.296875 42.84375 \nQ 37.203125 48.484375 30.078125 48.484375 \nQ 22.953125 48.484375 18.875 42.84375 \nQ 14.796875 37.203125 14.796875 27.296875 \nz\n\" id=\"DejaVuSans-100\"/>\n       </defs>\n       <use xlink:href=\"#DejaVuSans-117\"/>\n       <use x=\"63.378906\" xlink:href=\"#DejaVuSans-110\"/>\n       <use x=\"126.757812\" xlink:href=\"#DejaVuSans-100\"/>\n       <use x=\"190.234375\" xlink:href=\"#DejaVuSans-101\"/>\n       <use x=\"251.757812\" xlink:href=\"#DejaVuSans-114\"/>\n       <use x=\"292.871094\" xlink:href=\"#DejaVuSans-95\"/>\n       <use x=\"342.871094\" xlink:href=\"#DejaVuSans-119\"/>\n       <use x=\"424.658203\" xlink:href=\"#DejaVuSans-101\"/>\n       <use x=\"486.181641\" xlink:href=\"#DejaVuSans-105\"/>\n       <use x=\"513.964844\" xlink:href=\"#DejaVuSans-103\"/>\n       <use x=\"577.441406\" xlink:href=\"#DejaVuSans-104\"/>\n       <use x=\"640.820312\" xlink:href=\"#DejaVuSans-116\"/>\n      </g>\n     </g>\n    </g>\n    <g id=\"text_11\">\n     <!-- bmi_cat -->\n     <g transform=\"translate(14.798437 177.925156)rotate(-90)scale(0.1 -0.1)\">\n      <use xlink:href=\"#DejaVuSans-98\"/>\n      <use x=\"63.476562\" xlink:href=\"#DejaVuSans-109\"/>\n      <use x=\"160.888672\" xlink:href=\"#DejaVuSans-105\"/>\n      <use x=\"188.671875\" xlink:href=\"#DejaVuSans-95\"/>\n      <use x=\"238.671875\" xlink:href=\"#DejaVuSans-99\"/>\n      <use x=\"293.652344\" xlink:href=\"#DejaVuSans-97\"/>\n      <use x=\"354.931641\" xlink:href=\"#DejaVuSans-116\"/>\n     </g>\n    </g>\n   </g>\n   <g id=\"line2d_10\">\n    <path clip-path=\"url(#pc196d1e4a5)\" d=\"M 0 0 \n\" style=\"fill:none;stroke:#424242;stroke-linecap:square;stroke-width:2.7;\"/>\n   </g>\n   <g id=\"line2d_11\">\n    <path clip-path=\"url(#pc196d1e4a5)\" d=\"M 0 0 \n\" style=\"fill:none;stroke:#424242;stroke-linecap:square;stroke-width:2.7;\"/>\n   </g>\n   <g id=\"line2d_12\">\n    <path clip-path=\"url(#pc196d1e4a5)\" d=\"M 0 0 \n\" style=\"fill:none;stroke:#424242;stroke-linecap:square;stroke-width:2.7;\"/>\n   </g>\n   <g id=\"line2d_13\">\n    <path clip-path=\"url(#pc196d1e4a5)\" d=\"M 0 0 \n\" style=\"fill:none;stroke:#424242;stroke-linecap:square;stroke-width:2.7;\"/>\n   </g>\n   <g id=\"line2d_14\">\n    <path clip-path=\"url(#pc196d1e4a5)\" d=\"M 0 0 \n\" style=\"fill:none;stroke:#424242;stroke-linecap:square;stroke-width:2.7;\"/>\n   </g>\n   <g id=\"line2d_15\">\n    <path clip-path=\"url(#pc196d1e4a5)\" d=\"M 0 0 \n\" style=\"fill:none;stroke:#424242;stroke-linecap:square;stroke-width:2.7;\"/>\n   </g>\n   <g id=\"line2d_16\">\n    <path clip-path=\"url(#pc196d1e4a5)\" d=\"M 0 0 \n\" style=\"fill:none;stroke:#424242;stroke-linecap:square;stroke-width:2.7;\"/>\n   </g>\n   <g id=\"line2d_17\">\n    <path clip-path=\"url(#pc196d1e4a5)\" d=\"M 0 0 \n\" style=\"fill:none;stroke:#424242;stroke-linecap:square;stroke-width:2.7;\"/>\n   </g>\n   <g id=\"patch_11\">\n    <path d=\"M 101.910938 294.118125 \nL 101.910938 22.318125 \n\" style=\"fill:none;stroke:#000000;stroke-linecap:square;stroke-linejoin:miter;stroke-width:0.8;\"/>\n   </g>\n   <g id=\"patch_12\">\n    <path d=\"M 659.910938 294.118125 \nL 659.910938 22.318125 \n\" style=\"fill:none;stroke:#000000;stroke-linecap:square;stroke-linejoin:miter;stroke-width:0.8;\"/>\n   </g>\n   <g id=\"patch_13\">\n    <path d=\"M 101.910938 294.118125 \nL 659.910938 294.118125 \n\" style=\"fill:none;stroke:#000000;stroke-linecap:square;stroke-linejoin:miter;stroke-width:0.8;\"/>\n   </g>\n   <g id=\"patch_14\">\n    <path d=\"M 101.910938 22.318125 \nL 659.910938 22.318125 \n\" style=\"fill:none;stroke:#000000;stroke-linecap:square;stroke-linejoin:miter;stroke-width:0.8;\"/>\n   </g>\n   <g id=\"text_12\">\n    <!-- BMI with and without diabetes mellitus -->\n    <g transform=\"translate(264.10125 16.318125)scale(0.12 -0.12)\">\n     <defs>\n      <path d=\"M 19.671875 34.8125 \nL 19.671875 8.109375 \nL 35.5 8.109375 \nQ 43.453125 8.109375 47.28125 11.40625 \nQ 51.125 14.703125 51.125 21.484375 \nQ 51.125 28.328125 47.28125 31.5625 \nQ 43.453125 34.8125 35.5 34.8125 \nz\nM 19.671875 64.796875 \nL 19.671875 42.828125 \nL 34.28125 42.828125 \nQ 41.5 42.828125 45.03125 45.53125 \nQ 48.578125 48.25 48.578125 53.8125 \nQ 48.578125 59.328125 45.03125 62.0625 \nQ 41.5 64.796875 34.28125 64.796875 \nz\nM 9.8125 72.90625 \nL 35.015625 72.90625 \nQ 46.296875 72.90625 52.390625 68.21875 \nQ 58.5 63.53125 58.5 54.890625 \nQ 58.5 48.1875 55.375 44.234375 \nQ 52.25 40.28125 46.1875 39.3125 \nQ 53.46875 37.75 57.5 32.78125 \nQ 61.53125 27.828125 61.53125 20.40625 \nQ 61.53125 10.640625 54.890625 5.3125 \nQ 48.25 0 35.984375 0 \nL 9.8125 0 \nz\n\" id=\"DejaVuSans-66\"/>\n      <path d=\"M 9.8125 72.90625 \nL 24.515625 72.90625 \nL 43.109375 23.296875 \nL 61.8125 72.90625 \nL 76.515625 72.90625 \nL 76.515625 0 \nL 66.890625 0 \nL 66.890625 64.015625 \nL 48.09375 14.015625 \nL 38.1875 14.015625 \nL 19.390625 64.015625 \nL 19.390625 0 \nL 9.8125 0 \nz\n\" id=\"DejaVuSans-77\"/>\n      <path d=\"M 9.8125 72.90625 \nL 19.671875 72.90625 \nL 19.671875 0 \nL 9.8125 0 \nz\n\" id=\"DejaVuSans-73\"/>\n      <path id=\"DejaVuSans-32\"/>\n     </defs>\n     <use xlink:href=\"#DejaVuSans-66\"/>\n     <use x=\"68.603516\" xlink:href=\"#DejaVuSans-77\"/>\n     <use x=\"154.882812\" xlink:href=\"#DejaVuSans-73\"/>\n     <use x=\"184.375\" xlink:href=\"#DejaVuSans-32\"/>\n     <use x=\"216.162109\" xlink:href=\"#DejaVuSans-119\"/>\n     <use x=\"297.949219\" xlink:href=\"#DejaVuSans-105\"/>\n     <use x=\"325.732422\" xlink:href=\"#DejaVuSans-116\"/>\n     <use x=\"364.941406\" xlink:href=\"#DejaVuSans-104\"/>\n     <use x=\"428.320312\" xlink:href=\"#DejaVuSans-32\"/>\n     <use x=\"460.107422\" xlink:href=\"#DejaVuSans-97\"/>\n     <use x=\"521.386719\" xlink:href=\"#DejaVuSans-110\"/>\n     <use x=\"584.765625\" xlink:href=\"#DejaVuSans-100\"/>\n     <use x=\"648.242188\" xlink:href=\"#DejaVuSans-32\"/>\n     <use x=\"680.029297\" xlink:href=\"#DejaVuSans-119\"/>\n     <use x=\"761.816406\" xlink:href=\"#DejaVuSans-105\"/>\n     <use x=\"789.599609\" xlink:href=\"#DejaVuSans-116\"/>\n     <use x=\"828.808594\" xlink:href=\"#DejaVuSans-104\"/>\n     <use x=\"892.1875\" xlink:href=\"#DejaVuSans-111\"/>\n     <use x=\"953.369141\" xlink:href=\"#DejaVuSans-117\"/>\n     <use x=\"1016.748047\" xlink:href=\"#DejaVuSans-116\"/>\n     <use x=\"1055.957031\" xlink:href=\"#DejaVuSans-32\"/>\n     <use x=\"1087.744141\" xlink:href=\"#DejaVuSans-100\"/>\n     <use x=\"1151.220703\" xlink:href=\"#DejaVuSans-105\"/>\n     <use x=\"1179.003906\" xlink:href=\"#DejaVuSans-97\"/>\n     <use x=\"1240.283203\" xlink:href=\"#DejaVuSans-98\"/>\n     <use x=\"1303.759766\" xlink:href=\"#DejaVuSans-101\"/>\n     <use x=\"1365.283203\" xlink:href=\"#DejaVuSans-116\"/>\n     <use x=\"1404.492188\" xlink:href=\"#DejaVuSans-101\"/>\n     <use x=\"1466.015625\" xlink:href=\"#DejaVuSans-115\"/>\n     <use x=\"1518.115234\" xlink:href=\"#DejaVuSans-32\"/>\n     <use x=\"1549.902344\" xlink:href=\"#DejaVuSans-109\"/>\n     <use x=\"1647.314453\" xlink:href=\"#DejaVuSans-101\"/>\n     <use x=\"1708.837891\" xlink:href=\"#DejaVuSans-108\"/>\n     <use x=\"1736.621094\" xlink:href=\"#DejaVuSans-108\"/>\n     <use x=\"1764.404297\" xlink:href=\"#DejaVuSans-105\"/>\n     <use x=\"1792.1875\" xlink:href=\"#DejaVuSans-116\"/>\n     <use x=\"1831.396484\" xlink:href=\"#DejaVuSans-117\"/>\n     <use x=\"1894.775391\" xlink:href=\"#DejaVuSans-115\"/>\n    </g>\n   </g>\n   <g id=\"legend_1\">\n    <g id=\"patch_15\">\n     <path d=\"M 648.910938 35.318125 \nL 652.910938 35.318125 \nQ 654.910938 35.318125 654.910938 33.318125 \nL 654.910938 29.318125 \nQ 654.910938 27.318125 652.910938 27.318125 \nL 648.910938 27.318125 \nQ 646.910938 27.318125 646.910938 29.318125 \nL 646.910938 33.318125 \nQ 646.910938 35.318125 648.910938 35.318125 \nz\n\" style=\"fill:#ffffff;opacity:0.8;stroke:#cccccc;stroke-linejoin:miter;\"/>\n    </g>\n   </g>\n  </g>\n </g>\n <defs>\n  <clipPath id=\"pc196d1e4a5\">\n   <rect height=\"271.8\" width=\"558\" x=\"101.910938\" y=\"22.318125\"/>\n  </clipPath>\n </defs>\n</svg>\n",
      "image/png": "[encoded data removed]"
     },
     "metadata": {
      "needs_background": "light"
     }
    }
   ],
   "source": [
    "import matplotlib.pyplot as plt\n",
    "import seaborn as sns\n",
    "\n",
    "df_train_ex_b = df_train_ex[['bmi_cat','diabetes_mellitus']].groupby(['bmi_cat', \"diabetes_mellitus\"])['bmi_cat'].agg(['count'])\n",
    "df_train_ex_b = df_train_ex_b.reset_index()\n",
    "\n",
    "df_train_ex_b['count'] = df_train_ex_b.apply(lambda row: negate(row, 'count'), axis=1)\n",
    "\n",
    "df_train_ex_b\n",
    "\n",
    "dms = df_train_ex_b['diabetes_mellitus'].unique()\n",
    "bmi_cats = df_train_ex_b['bmi_cat'].unique()\n",
    "\n",
    "plt.figure(figsize=(10,5), dpi= 80)\n",
    "colors = ['mediumseagreen', 'tomato']\n",
    "print(dms, bmi_cats)\n",
    "for group in dms:\n",
    "    sns.barplot(x='count', y='bmi_cat', data=df_train_ex_b.loc[df_train_ex_b['diabetes_mellitus']==group, :],\n",
    "            color=colors[int(group)])\n",
    "plt.title(\"BMI with and without diabetes mellitus\")\n",
    "plt.legend()"
   ]
  },
  {
   "cell_type": "code",
   "execution_count": 32,
   "metadata": {},
   "outputs": [
    {
     "output_type": "stream",
     "name": "stdout",
     "text": "0\n[0 1] ['F' 'M']\n[0 1] ['Female' 'Male']\n1    1\n3    1\nName: diabetes_mellitus, dtype: int64\n"
    },
    {
     "output_type": "execute_result",
     "data": {
      "text/plain": "   gender diabetes_mellitus  count  total\n0  Female       no diabetes -46847  total\n1  Female          diabetes  12726  total\n2    Male       no diabetes -55098  total\n3    Male          diabetes  15420  total",
      "text/html": "<div>\n<style scoped>\n    .dataframe tbody tr th:only-of-type {\n        vertical-align: middle;\n    }\n\n    .dataframe tbody tr th {\n        vertical-align: top;\n    }\n\n    .dataframe thead th {\n        text-align: right;\n    }\n</style>\n<table border=\"1\" class=\"dataframe\">\n  <thead>\n    <tr style=\"text-align: right;\">\n      <th></th>\n      <th>gender</th>\n      <th>diabetes_mellitus</th>\n      <th>count</th>\n      <th>total</th>\n    </tr>\n  </thead>\n  <tbody>\n    <tr>\n      <th>0</th>\n      <td>Female</td>\n      <td>no diabetes</td>\n      <td>-46847</td>\n      <td>total</td>\n    </tr>\n    <tr>\n      <th>1</th>\n      <td>Female</td>\n      <td>diabetes</td>\n      <td>12726</td>\n      <td>total</td>\n    </tr>\n    <tr>\n      <th>2</th>\n      <td>Male</td>\n      <td>no diabetes</td>\n      <td>-55098</td>\n      <td>total</td>\n    </tr>\n    <tr>\n      <th>3</th>\n      <td>Male</td>\n      <td>diabetes</td>\n      <td>15420</td>\n      <td>total</td>\n    </tr>\n  </tbody>\n</table>\n</div>"
     },
     "metadata": {},
     "execution_count": 32
    }
   ],
   "source": [
    "def _expand_gender(row):\n",
    "    if row['gender'] == 'M':\n",
    "        return 'Male'\n",
    "    elif row['gender'] == 'F':\n",
    "        return 'Female'\n",
    "    else:\n",
    "        return 'Unknown'\n",
    "\n",
    "\n",
    "\n",
    "df_train_ex_g = df_train[['gender','diabetes_mellitus']].groupby(['gender', \"diabetes_mellitus\"])['gender'].agg(['count'])\n",
    "df_train_ex_g = df_train_ex_g.reset_index()\n",
    "\n",
    "nan_rows = df_train_ex_g[df_train_ex_g['gender'].isnull()]\n",
    "print(len(nan_rows))\n",
    "\n",
    "#df_train_ex_g.fillna('Unknown', inplace=True)\n",
    "gender_cats = df_train_ex_g['gender'].unique()\n",
    "print(dms, gender_cats)\n",
    "\n",
    "df_train_ex_g['gender'] = df_train_ex_g.apply(lambda row: _expand_gender(row), axis=1)\n",
    "gender_cats = df_train_ex_g['gender'].unique()\n",
    "print(dms, gender_cats)\n",
    "df_train_ex_g['count'] = df_train_ex_g.apply(lambda row: negate(row, 'count'), axis=1)\n",
    "\n",
    "df_train_ex_g['total'] = 'total'\n",
    "#print(df_train_ex_g.info())\n",
    "#df_train_ex_g['diabetes_mellitus']= 'diabetes'\n",
    "print(df_train_ex_g[df_train_ex_g['diabetes_mellitus']==1]['diabetes_mellitus'])\n",
    "df_train_ex_g[df_train_ex_g['diabetes_mellitus']==1]['diabetes_mellitus'] = 'diabetes'\n",
    "df_train_ex_g[df_train_ex_g['diabetes_mellitus']==0]['diabetes_mellitus'] = 'no diabetes'\n",
    "\n",
    "def change_value(row):\n",
    "    if row['diabetes_mellitus'] == 1:\n",
    "        return 'diabetes'\n",
    "    else:\n",
    "        return 'no diabetes'\n",
    "\n",
    "df_train_ex_g['diabetes_mellitus'] = df_train_ex_g.apply(lambda row: change_value(row), axis=1)\n",
    "\n",
    "df_train_ex_g\n",
    ""
   ]
  },
  {
   "cell_type": "code",
   "execution_count": 33,
   "metadata": {},
   "outputs": [
    {
     "output_type": "stream",
     "name": "stdout",
     "text": "gender diabetes_mellitus  count  total\n0  Female       no diabetes -46847  total\n1  Female          diabetes  12726  total\n2    Male       no diabetes -55098  total\n3    Male          diabetes  15420  total\n   gender diabetes_mellitus  count  total\n0  Female       no diabetes  46847  total\n1  Female          diabetes  12726  total\n2    Male       no diabetes  55098  total\n3    Male          diabetes  15420  total\nIndex(['gender', 'diabetes_mellitus', 'count', 'total'], dtype='object') ['no diabetes' 'diabetes']\n130091\n   gender diabetes_mellitus  count  total\n0  Female       no diabetes  46847  total\n1  Female          diabetes  12726  total\n2    Male       no diabetes  55098  total\n3    Male          diabetes  15420  total\n"
    }
   ],
   "source": [
    "import plotly.express as px \n",
    "\n",
    "def make_positive(row):\n",
    "    if row['count'] < 0:\n",
    "        return row['count'] *  -1\n",
    "    else:\n",
    "        return row['count']\n",
    "\n",
    "print(df_train_ex_g)\n",
    "df_train_ex_g['count'] = df_train_ex_g.apply(lambda row: make_positive(row), axis=1)\n",
    "print(df_train_ex_g)\n",
    "print(df_train_ex_g.columns, df_train_ex_g['diabetes_mellitus'].unique() )\n",
    "print(df_train_ex_g['count'].sum())\n",
    "print(df_train_ex_g)"
   ]
  },
  {
   "cell_type": "code",
   "execution_count": 34,
   "metadata": {},
   "outputs": [
    {
     "output_type": "display_data",
     "data": {
      "application/vnd.plotly.v1+json": {
       "config": {
        "plotlyServerURL": "https://plot.ly"
       },
       "data": [
        {
         "branchvalues": "total",
         "customdata": [
          [
           12726
          ],
          [
           46847
          ],
          [
           15420
          ],
          [
           55098
          ],
          [
           14201.928373481134
          ],
          [
           51306.40063759871
          ],
          [
           43278.61642235051
          ]
         ],
         "domain": {
          "x": [
           0,
           1
          ],
          "y": [
           0,
           1
          ]
         },
         "hovertemplate": "labels=%{label}<br>count_sum=%{value}<br>parent=%{parent}<br>id=%{id}<br>count=%{color}<extra></extra>",
         "ids": [
          "total/diabetes/Female",
          "total/no diabetes/Female",
          "total/diabetes/Male",
          "total/no diabetes/Male",
          "total/diabetes",
          "total/no diabetes",
          "total"
         ],
         "labels": [
          "Female",
          "Female",
          "Male",
          "Male",
          "diabetes",
          "no diabetes",
          "total"
         ],
         "marker": {
          "coloraxis": "coloraxis",
          "colors": [
           12726,
           46847,
           15420,
           55098,
           14201.928373481134,
           51306.40063759871,
           43278.61642235051
          ]
         },
         "name": "",
         "parents": [
          "total/diabetes",
          "total/no diabetes",
          "total/diabetes",
          "total/no diabetes",
          "total",
          "total",
          ""
         ],
         "type": "treemap",
         "values": [
          12726,
          46847,
          15420,
          55098,
          28146,
          101945,
          130091
         ]
        }
       ],
       "layout": {
        "coloraxis": {
         "cmid": 43278.61642235051,
         "colorbar": {
          "title": {
           "text": "count"
          }
         },
         "colorscale": [
          [
           0,
           "rgb(103,0,31)"
          ],
          [
           0.1,
           "rgb(178,24,43)"
          ],
          [
           0.2,
           "rgb(214,96,77)"
          ],
          [
           0.3,
           "rgb(244,165,130)"
          ],
          [
           0.4,
           "rgb(253,219,199)"
          ],
          [
           0.5,
           "rgb(247,247,247)"
          ],
          [
           0.6,
           "rgb(209,229,240)"
          ],
          [
           0.7,
           "rgb(146,197,222)"
          ],
          [
           0.8,
           "rgb(67,147,195)"
          ],
          [
           0.9,
           "rgb(33,102,172)"
          ],
          [
           1,
           "rgb(5,48,97)"
          ]
         ]
        },
        "legend": {
         "tracegroupgap": 0
        },
        "margin": {
         "t": 60
        },
        "template": {
         "data": {
          "bar": [
           {
            "error_x": {
             "color": "#2a3f5f"
            },
            "error_y": {
             "color": "#2a3f5f"
            },
            "marker": {
             "line": {
              "color": "#E5ECF6",
              "width": 0.5
             }
            },
            "type": "bar"
           }
          ],
          "barpolar": [
           {
            "marker": {
             "line": {
              "color": "#E5ECF6",
              "width": 0.5
             }
            },
            "type": "barpolar"
           }
          ],
          "carpet": [
           {
            "aaxis": {
             "endlinecolor": "#2a3f5f",
             "gridcolor": "white",
             "linecolor": "white",
             "minorgridcolor": "white",
             "startlinecolor": "#2a3f5f"
            },
            "baxis": {
             "endlinecolor": "#2a3f5f",
             "gridcolor": "white",
             "linecolor": "white",
             "minorgridcolor": "white",
             "startlinecolor": "#2a3f5f"
            },
            "type": "carpet"
           }
          ],
          "choropleth": [
           {
            "colorbar": {
             "outlinewidth": 0,
             "ticks": ""
            },
            "type": "choropleth"
           }
          ],
          "contour": [
           {
            "colorbar": {
             "outlinewidth": 0,
             "ticks": ""
            },
            "colorscale": [
             [
              0,
              "#0d0887"
             ],
             [
              0.1111111111111111,
              "#46039f"
             ],
             [
              0.2222222222222222,
              "#7201a8"
             ],
             [
              0.3333333333333333,
              "#9c179e"
             ],
             [
              0.4444444444444444,
              "#bd3786"
             ],
             [
              0.5555555555555556,
              "#d8576b"
             ],
             [
              0.6666666666666666,
              "#ed7953"
             ],
             [
              0.7777777777777778,
              "#fb9f3a"
             ],
             [
              0.8888888888888888,
              "#fdca26"
             ],
             [
              1,
              "#f0f921"
             ]
            ],
            "type": "contour"
           }
          ],
          "contourcarpet": [
           {
            "colorbar": {
             "outlinewidth": 0,
             "ticks": ""
            },
            "type": "contourcarpet"
           }
          ],
          "heatmap": [
           {
            "colorbar": {
             "outlinewidth": 0,
             "ticks": ""
            },
            "colorscale": [
             [
              0,
              "#0d0887"
             ],
             [
              0.1111111111111111,
              "#46039f"
             ],
             [
              0.2222222222222222,
              "#7201a8"
             ],
             [
              0.3333333333333333,
              "#9c179e"
             ],
             [
              0.4444444444444444,
              "#bd3786"
             ],
             [
              0.5555555555555556,
              "#d8576b"
             ],
             [
              0.6666666666666666,
              "#ed7953"
             ],
             [
              0.7777777777777778,
              "#fb9f3a"
             ],
             [
              0.8888888888888888,
              "#fdca26"
             ],
             [
              1,
              "#f0f921"
             ]
            ],
            "type": "heatmap"
           }
          ],
          "heatmapgl": [
           {
            "colorbar": {
             "outlinewidth": 0,
             "ticks": ""
            },
            "colorscale": [
             [
              0,
              "#0d0887"
             ],
             [
              0.1111111111111111,
              "#46039f"
             ],
             [
              0.2222222222222222,
              "#7201a8"
             ],
             [
              0.3333333333333333,
              "#9c179e"
             ],
             [
              0.4444444444444444,
              "#bd3786"
             ],
             [
              0.5555555555555556,
              "#d8576b"
             ],
             [
              0.6666666666666666,
              "#ed7953"
             ],
             [
              0.7777777777777778,
              "#fb9f3a"
             ],
             [
              0.8888888888888888,
              "#fdca26"
             ],
             [
              1,
              "#f0f921"
             ]
            ],
            "type": "heatmapgl"
           }
          ],
          "histogram": [
           {
            "marker": {
             "colorbar": {
              "outlinewidth": 0,
              "ticks": ""
             }
            },
            "type": "histogram"
           }
          ],
          "histogram2d": [
           {
            "colorbar": {
             "outlinewidth": 0,
             "ticks": ""
            },
            "colorscale": [
             [
              0,
              "#0d0887"
             ],
             [
              0.1111111111111111,
              "#46039f"
             ],
             [
              0.2222222222222222,
              "#7201a8"
             ],
             [
              0.3333333333333333,
              "#9c179e"
             ],
             [
              0.4444444444444444,
              "#bd3786"
             ],
             [
              0.5555555555555556,
              "#d8576b"
             ],
             [
              0.6666666666666666,
              "#ed7953"
             ],
             [
              0.7777777777777778,
              "#fb9f3a"
             ],
             [
              0.8888888888888888,
              "#fdca26"
             ],
             [
              1,
              "#f0f921"
             ]
            ],
            "type": "histogram2d"
           }
          ],
          "histogram2dcontour": [
           {
            "colorbar": {
             "outlinewidth": 0,
             "ticks": ""
            },
            "colorscale": [
             [
              0,
              "#0d0887"
             ],
             [
              0.1111111111111111,
              "#46039f"
             ],
             [
              0.2222222222222222,
              "#7201a8"
             ],
             [
              0.3333333333333333,
              "#9c179e"
             ],
             [
              0.4444444444444444,
              "#bd3786"
             ],
             [
              0.5555555555555556,
              "#d8576b"
             ],
             [
              0.6666666666666666,
              "#ed7953"
             ],
             [
              0.7777777777777778,
              "#fb9f3a"
             ],
             [
              0.8888888888888888,
              "#fdca26"
             ],
             [
              1,
              "#f0f921"
             ]
            ],
            "type": "histogram2dcontour"
           }
          ],
          "mesh3d": [
           {
            "colorbar": {
             "outlinewidth": 0,
             "ticks": ""
            },
            "type": "mesh3d"
           }
          ],
          "parcoords": [
           {
            "line": {
             "colorbar": {
              "outlinewidth": 0,
              "ticks": ""
             }
            },
            "type": "parcoords"
           }
          ],
          "pie": [
           {
            "automargin": true,
            "type": "pie"
           }
          ],
          "scatter": [
           {
            "marker": {
             "colorbar": {
              "outlinewidth": 0,
              "ticks": ""
             }
            },
            "type": "scatter"
           }
          ],
          "scatter3d": [
           {
            "line": {
             "colorbar": {
              "outlinewidth": 0,
              "ticks": ""
             }
            },
            "marker": {
             "colorbar": {
              "outlinewidth": 0,
              "ticks": ""
             }
            },
            "type": "scatter3d"
           }
          ],
          "scattercarpet": [
           {
            "marker": {
             "colorbar": {
              "outlinewidth": 0,
              "ticks": ""
             }
            },
            "type": "scattercarpet"
           }
          ],
          "scattergeo": [
           {
            "marker": {
             "colorbar": {
              "outlinewidth": 0,
              "ticks": ""
             }
            },
            "type": "scattergeo"
           }
          ],
          "scattergl": [
           {
            "marker": {
             "colorbar": {
              "outlinewidth": 0,
              "ticks": ""
             }
            },
            "type": "scattergl"
           }
          ],
          "scattermapbox": [
           {
            "marker": {
             "colorbar": {
              "outlinewidth": 0,
              "ticks": ""
             }
            },
            "type": "scattermapbox"
           }
          ],
          "scatterpolar": [
           {
            "marker": {
             "colorbar": {
              "outlinewidth": 0,
              "ticks": ""
             }
            },
            "type": "scatterpolar"
           }
          ],
          "scatterpolargl": [
           {
            "marker": {
             "colorbar": {
              "outlinewidth": 0,
              "ticks": ""
             }
            },
            "type": "scatterpolargl"
           }
          ],
          "scatterternary": [
           {
            "marker": {
             "colorbar": {
              "outlinewidth": 0,
              "ticks": ""
             }
            },
            "type": "scatterternary"
           }
          ],
          "surface": [
           {
            "colorbar": {
             "outlinewidth": 0,
             "ticks": ""
            },
            "colorscale": [
             [
              0,
              "#0d0887"
             ],
             [
              0.1111111111111111,
              "#46039f"
             ],
             [
              0.2222222222222222,
              "#7201a8"
             ],
             [
              0.3333333333333333,
              "#9c179e"
             ],
             [
              0.4444444444444444,
              "#bd3786"
             ],
             [
              0.5555555555555556,
              "#d8576b"
             ],
             [
              0.6666666666666666,
              "#ed7953"
             ],
             [
              0.7777777777777778,
              "#fb9f3a"
             ],
             [
              0.8888888888888888,
              "#fdca26"
             ],
             [
              1,
              "#f0f921"
             ]
            ],
            "type": "surface"
           }
          ],
          "table": [
           {
            "cells": {
             "fill": {
              "color": "#EBF0F8"
             },
             "line": {
              "color": "white"
             }
            },
            "header": {
             "fill": {
              "color": "#C8D4E3"
             },
             "line": {
              "color": "white"
             }
            },
            "type": "table"
           }
          ]
         },
         "layout": {
          "annotationdefaults": {
           "arrowcolor": "#2a3f5f",
           "arrowhead": 0,
           "arrowwidth": 1
          },
          "autotypenumbers": "strict",
          "coloraxis": {
           "colorbar": {
            "outlinewidth": 0,
            "ticks": ""
           }
          },
          "colorscale": {
           "diverging": [
            [
             0,
             "#8e0152"
            ],
            [
             0.1,
             "#c51b7d"
            ],
            [
             0.2,
             "#de77ae"
            ],
            [
             0.3,
             "#f1b6da"
            ],
            [
             0.4,
             "#fde0ef"
            ],
            [
             0.5,
             "#f7f7f7"
            ],
            [
             0.6,
             "#e6f5d0"
            ],
            [
             0.7,
             "#b8e186"
            ],
            [
             0.8,
             "#7fbc41"
            ],
            [
             0.9,
             "#4d9221"
            ],
            [
             1,
             "#276419"
            ]
           ],
           "sequential": [
            [
             0,
             "#0d0887"
            ],
            [
             0.1111111111111111,
             "#46039f"
            ],
            [
             0.2222222222222222,
             "#7201a8"
            ],
            [
             0.3333333333333333,
             "#9c179e"
            ],
            [
             0.4444444444444444,
             "#bd3786"
            ],
            [
             0.5555555555555556,
             "#d8576b"
            ],
            [
             0.6666666666666666,
             "#ed7953"
            ],
            [
             0.7777777777777778,
             "#fb9f3a"
            ],
            [
             0.8888888888888888,
             "#fdca26"
            ],
            [
             1,
             "#f0f921"
            ]
           ],
           "sequentialminus": [
            [
             0,
             "#0d0887"
            ],
            [
             0.1111111111111111,
             "#46039f"
            ],
            [
             0.2222222222222222,
             "#7201a8"
            ],
            [
             0.3333333333333333,
             "#9c179e"
            ],
            [
             0.4444444444444444,
             "#bd3786"
            ],
            [
             0.5555555555555556,
             "#d8576b"
            ],
            [
             0.6666666666666666,
             "#ed7953"
            ],
            [
             0.7777777777777778,
             "#fb9f3a"
            ],
            [
             0.8888888888888888,
             "#fdca26"
            ],
            [
             1,
             "#f0f921"
            ]
           ]
          },
          "colorway": [
           "#636efa",
           "#EF553B",
           "#00cc96",
           "#ab63fa",
           "#FFA15A",
           "#19d3f3",
           "#FF6692",
           "#B6E880",
           "#FF97FF",
           "#FECB52"
          ],
          "font": {
           "color": "#2a3f5f"
          },
          "geo": {
           "bgcolor": "white",
           "lakecolor": "white",
           "landcolor": "#E5ECF6",
           "showlakes": true,
           "showland": true,
           "subunitcolor": "white"
          },
          "hoverlabel": {
           "align": "left"
          },
          "hovermode": "closest",
          "mapbox": {
           "style": "light"
          },
          "paper_bgcolor": "white",
          "plot_bgcolor": "#E5ECF6",
          "polar": {
           "angularaxis": {
            "gridcolor": "white",
            "linecolor": "white",
            "ticks": ""
           },
           "bgcolor": "#E5ECF6",
           "radialaxis": {
            "gridcolor": "white",
            "linecolor": "white",
            "ticks": ""
           }
          },
          "scene": {
           "xaxis": {
            "backgroundcolor": "#E5ECF6",
            "gridcolor": "white",
            "gridwidth": 2,
            "linecolor": "white",
            "showbackground": true,
            "ticks": "",
            "zerolinecolor": "white"
           },
           "yaxis": {
            "backgroundcolor": "#E5ECF6",
            "gridcolor": "white",
            "gridwidth": 2,
            "linecolor": "white",
            "showbackground": true,
            "ticks": "",
            "zerolinecolor": "white"
           },
           "zaxis": {
            "backgroundcolor": "#E5ECF6",
            "gridcolor": "white",
            "gridwidth": 2,
            "linecolor": "white",
            "showbackground": true,
            "ticks": "",
            "zerolinecolor": "white"
           }
          },
          "shapedefaults": {
           "line": {
            "color": "#2a3f5f"
           }
          },
          "ternary": {
           "aaxis": {
            "gridcolor": "white",
            "linecolor": "white",
            "ticks": ""
           },
           "baxis": {
            "gridcolor": "white",
            "linecolor": "white",
            "ticks": ""
           },
           "bgcolor": "#E5ECF6",
           "caxis": {
            "gridcolor": "white",
            "linecolor": "white",
            "ticks": ""
           }
          },
          "title": {
           "x": 0.05
          },
          "xaxis": {
           "automargin": true,
           "gridcolor": "white",
           "linecolor": "white",
           "ticks": "",
           "title": {
            "standoff": 15
           },
           "zerolinecolor": "white",
           "zerolinewidth": 2
          },
          "yaxis": {
           "automargin": true,
           "gridcolor": "white",
           "linecolor": "white",
           "ticks": "",
           "title": {
            "standoff": 15
           },
           "zerolinecolor": "white",
           "zerolinewidth": 2
          }
         }
        }
       }
      }
     },
     "metadata": {}
    }
   ],
   "source": [
    "px.treemap(df_train_ex_g, path=['total', 'diabetes_mellitus', 'gender'], values='count',\n",
    "            color='count', color_continuous_scale='RdBu',\n",
    "            color_continuous_midpoint=np.average(df_train_ex_g['count'], \n",
    "            weights=df_train_ex_g['count']))"
   ]
  },
  {
   "cell_type": "code",
   "execution_count": 35,
   "metadata": {},
   "outputs": [
    {
     "output_type": "error",
     "ename": "ValueError",
     "evalue": "min() arg is an empty sequence",
     "traceback": [
      "\u001b[0;31m---------------------------------------------------------------------------\u001b[0m",
      "\u001b[0;31mValueError\u001b[0m                                Traceback (most recent call last)",
      "\u001b[0;32m<ipython-input-35-e5db3097e3b4>\u001b[0m in \u001b[0;36m<module>\u001b[0;34m\u001b[0m\n\u001b[1;32m      1\u001b[0m \u001b[0mplt\u001b[0m\u001b[0;34m.\u001b[0m\u001b[0mfigure\u001b[0m\u001b[0;34m(\u001b[0m\u001b[0mfigsize\u001b[0m\u001b[0;34m=\u001b[0m\u001b[0;34m(\u001b[0m\u001b[0;36m10\u001b[0m\u001b[0;34m,\u001b[0m\u001b[0;36m5\u001b[0m\u001b[0;34m)\u001b[0m\u001b[0;34m,\u001b[0m \u001b[0mdpi\u001b[0m\u001b[0;34m=\u001b[0m \u001b[0;36m80\u001b[0m\u001b[0;34m)\u001b[0m\u001b[0;34m\u001b[0m\u001b[0;34m\u001b[0m\u001b[0m\n\u001b[1;32m      2\u001b[0m \u001b[0;32mfor\u001b[0m \u001b[0mgroup\u001b[0m \u001b[0;32min\u001b[0m \u001b[0mdms\u001b[0m\u001b[0;34m:\u001b[0m\u001b[0;34m\u001b[0m\u001b[0;34m\u001b[0m\u001b[0m\n\u001b[0;32m----> 3\u001b[0;31m     sns.barplot(x='count', y='gender', data=df_train_ex_g.loc[df_train_ex_g['diabetes_mellitus']==group, :],\n\u001b[0m\u001b[1;32m      4\u001b[0m             color=colors[int(group)])\n\u001b[1;32m      5\u001b[0m \u001b[0mplt\u001b[0m\u001b[0;34m.\u001b[0m\u001b[0mtitle\u001b[0m\u001b[0;34m(\u001b[0m\u001b[0;34m\"Gender with and without diabetes mellitus\"\u001b[0m\u001b[0;34m)\u001b[0m\u001b[0;34m\u001b[0m\u001b[0;34m\u001b[0m\u001b[0m\n",
      "\u001b[0;32m~/sree/wids2021/venv/lib/python3.9/site-packages/seaborn/_decorators.py\u001b[0m in \u001b[0;36minner_f\u001b[0;34m(*args, **kwargs)\u001b[0m\n\u001b[1;32m     44\u001b[0m             )\n\u001b[1;32m     45\u001b[0m         \u001b[0mkwargs\u001b[0m\u001b[0;34m.\u001b[0m\u001b[0mupdate\u001b[0m\u001b[0;34m(\u001b[0m\u001b[0;34m{\u001b[0m\u001b[0mk\u001b[0m\u001b[0;34m:\u001b[0m \u001b[0marg\u001b[0m \u001b[0;32mfor\u001b[0m \u001b[0mk\u001b[0m\u001b[0;34m,\u001b[0m \u001b[0marg\u001b[0m \u001b[0;32min\u001b[0m \u001b[0mzip\u001b[0m\u001b[0;34m(\u001b[0m\u001b[0msig\u001b[0m\u001b[0;34m.\u001b[0m\u001b[0mparameters\u001b[0m\u001b[0;34m,\u001b[0m \u001b[0margs\u001b[0m\u001b[0;34m)\u001b[0m\u001b[0;34m}\u001b[0m\u001b[0;34m)\u001b[0m\u001b[0;34m\u001b[0m\u001b[0;34m\u001b[0m\u001b[0m\n\u001b[0;32m---> 46\u001b[0;31m         \u001b[0;32mreturn\u001b[0m \u001b[0mf\u001b[0m\u001b[0;34m(\u001b[0m\u001b[0;34m**\u001b[0m\u001b[0mkwargs\u001b[0m\u001b[0;34m)\u001b[0m\u001b[0;34m\u001b[0m\u001b[0;34m\u001b[0m\u001b[0m\n\u001b[0m\u001b[1;32m     47\u001b[0m     \u001b[0;32mreturn\u001b[0m \u001b[0minner_f\u001b[0m\u001b[0;34m\u001b[0m\u001b[0;34m\u001b[0m\u001b[0m\n\u001b[1;32m     48\u001b[0m \u001b[0;34m\u001b[0m\u001b[0m\n",
      "\u001b[0;32m~/sree/wids2021/venv/lib/python3.9/site-packages/seaborn/categorical.py\u001b[0m in \u001b[0;36mbarplot\u001b[0;34m(x, y, hue, data, order, hue_order, estimator, ci, n_boot, units, seed, orient, color, palette, saturation, errcolor, errwidth, capsize, dodge, ax, **kwargs)\u001b[0m\n\u001b[1;32m   3177\u001b[0m ):\n\u001b[1;32m   3178\u001b[0m \u001b[0;34m\u001b[0m\u001b[0m\n\u001b[0;32m-> 3179\u001b[0;31m     plotter = _BarPlotter(x, y, hue, data, order, hue_order,\n\u001b[0m\u001b[1;32m   3180\u001b[0m                           \u001b[0mestimator\u001b[0m\u001b[0;34m,\u001b[0m \u001b[0mci\u001b[0m\u001b[0;34m,\u001b[0m \u001b[0mn_boot\u001b[0m\u001b[0;34m,\u001b[0m \u001b[0munits\u001b[0m\u001b[0;34m,\u001b[0m \u001b[0mseed\u001b[0m\u001b[0;34m,\u001b[0m\u001b[0;34m\u001b[0m\u001b[0;34m\u001b[0m\u001b[0m\n\u001b[1;32m   3181\u001b[0m                           \u001b[0morient\u001b[0m\u001b[0;34m,\u001b[0m \u001b[0mcolor\u001b[0m\u001b[0;34m,\u001b[0m \u001b[0mpalette\u001b[0m\u001b[0;34m,\u001b[0m \u001b[0msaturation\u001b[0m\u001b[0;34m,\u001b[0m\u001b[0;34m\u001b[0m\u001b[0;34m\u001b[0m\u001b[0m\n",
      "\u001b[0;32m~/sree/wids2021/venv/lib/python3.9/site-packages/seaborn/categorical.py\u001b[0m in \u001b[0;36m__init__\u001b[0;34m(self, x, y, hue, data, order, hue_order, estimator, ci, n_boot, units, seed, orient, color, palette, saturation, errcolor, errwidth, capsize, dodge)\u001b[0m\n\u001b[1;32m   1584\u001b[0m         self.establish_variables(x, y, hue, data, orient,\n\u001b[1;32m   1585\u001b[0m                                  order, hue_order, units)\n\u001b[0;32m-> 1586\u001b[0;31m         \u001b[0mself\u001b[0m\u001b[0;34m.\u001b[0m\u001b[0mestablish_colors\u001b[0m\u001b[0;34m(\u001b[0m\u001b[0mcolor\u001b[0m\u001b[0;34m,\u001b[0m \u001b[0mpalette\u001b[0m\u001b[0;34m,\u001b[0m \u001b[0msaturation\u001b[0m\u001b[0;34m)\u001b[0m\u001b[0;34m\u001b[0m\u001b[0;34m\u001b[0m\u001b[0m\n\u001b[0m\u001b[1;32m   1587\u001b[0m         \u001b[0mself\u001b[0m\u001b[0;34m.\u001b[0m\u001b[0mestimate_statistic\u001b[0m\u001b[0;34m(\u001b[0m\u001b[0mestimator\u001b[0m\u001b[0;34m,\u001b[0m \u001b[0mci\u001b[0m\u001b[0;34m,\u001b[0m \u001b[0mn_boot\u001b[0m\u001b[0;34m,\u001b[0m \u001b[0mseed\u001b[0m\u001b[0;34m)\u001b[0m\u001b[0;34m\u001b[0m\u001b[0;34m\u001b[0m\u001b[0m\n\u001b[1;32m   1588\u001b[0m \u001b[0;34m\u001b[0m\u001b[0m\n",
      "\u001b[0;32m~/sree/wids2021/venv/lib/python3.9/site-packages/seaborn/categorical.py\u001b[0m in \u001b[0;36mestablish_colors\u001b[0;34m(self, color, palette, saturation)\u001b[0m\n\u001b[1;32m    317\u001b[0m         \u001b[0;31m# Determine the gray color to use for the lines framing the plot\u001b[0m\u001b[0;34m\u001b[0m\u001b[0;34m\u001b[0m\u001b[0;34m\u001b[0m\u001b[0m\n\u001b[1;32m    318\u001b[0m         \u001b[0mlight_vals\u001b[0m \u001b[0;34m=\u001b[0m \u001b[0;34m[\u001b[0m\u001b[0mcolorsys\u001b[0m\u001b[0;34m.\u001b[0m\u001b[0mrgb_to_hls\u001b[0m\u001b[0;34m(\u001b[0m\u001b[0;34m*\u001b[0m\u001b[0mc\u001b[0m\u001b[0;34m)\u001b[0m\u001b[0;34m[\u001b[0m\u001b[0;36m1\u001b[0m\u001b[0;34m]\u001b[0m \u001b[0;32mfor\u001b[0m \u001b[0mc\u001b[0m \u001b[0;32min\u001b[0m \u001b[0mrgb_colors\u001b[0m\u001b[0;34m]\u001b[0m\u001b[0;34m\u001b[0m\u001b[0;34m\u001b[0m\u001b[0m\n\u001b[0;32m--> 319\u001b[0;31m         \u001b[0mlum\u001b[0m \u001b[0;34m=\u001b[0m \u001b[0mmin\u001b[0m\u001b[0;34m(\u001b[0m\u001b[0mlight_vals\u001b[0m\u001b[0;34m)\u001b[0m \u001b[0;34m*\u001b[0m \u001b[0;36m.6\u001b[0m\u001b[0;34m\u001b[0m\u001b[0;34m\u001b[0m\u001b[0m\n\u001b[0m\u001b[1;32m    320\u001b[0m         \u001b[0mgray\u001b[0m \u001b[0;34m=\u001b[0m \u001b[0mmpl\u001b[0m\u001b[0;34m.\u001b[0m\u001b[0mcolors\u001b[0m\u001b[0;34m.\u001b[0m\u001b[0mrgb2hex\u001b[0m\u001b[0;34m(\u001b[0m\u001b[0;34m(\u001b[0m\u001b[0mlum\u001b[0m\u001b[0;34m,\u001b[0m \u001b[0mlum\u001b[0m\u001b[0;34m,\u001b[0m \u001b[0mlum\u001b[0m\u001b[0;34m)\u001b[0m\u001b[0;34m)\u001b[0m\u001b[0;34m\u001b[0m\u001b[0;34m\u001b[0m\u001b[0m\n\u001b[1;32m    321\u001b[0m \u001b[0;34m\u001b[0m\u001b[0m\n",
      "\u001b[0;31mValueError\u001b[0m: min() arg is an empty sequence"
     ]
    }
   ],
   "source": [
    "plt.figure(figsize=(10,5), dpi= 80)\n",
    "for group in dms:\n",
    "    sns.barplot(x='count', y='gender', data=df_train_ex_g.loc[df_train_ex_g['diabetes_mellitus']==group, :],\n",
    "            color=colors[int(group)])\n",
    "plt.title(\"Gender with and without diabetes mellitus\")\n",
    "plt.legend()"
   ]
  },
  {
   "cell_type": "code",
   "execution_count": 36,
   "metadata": {},
   "outputs": [
    {
     "output_type": "stream",
     "name": "stdout",
     "text": "gender: train_dm_1_%: 100.0% train_dm_0_%: 100.0%\n"
    },
    {
     "output_type": "execute_result",
     "data": {
      "text/plain": "  gender  train_dm_1_count  train_dm_1_%  train_dm_0_count  train_dm_0_%\n0      M             15420        54.78%             55098        54.01%\n1      F             12726        45.21%             46847        45.93%\n0   null                 5         0.02%                61         0.06%",
      "text/html": "<div>\n<style scoped>\n    .dataframe tbody tr th:only-of-type {\n        vertical-align: middle;\n    }\n\n    .dataframe tbody tr th {\n        vertical-align: top;\n    }\n\n    .dataframe thead th {\n        text-align: right;\n    }\n</style>\n<table border=\"1\" class=\"dataframe\">\n  <thead>\n    <tr style=\"text-align: right;\">\n      <th></th>\n      <th>gender</th>\n      <th>train_dm_1_count</th>\n      <th>train_dm_1_%</th>\n      <th>train_dm_0_count</th>\n      <th>train_dm_0_%</th>\n    </tr>\n  </thead>\n  <tbody>\n    <tr>\n      <th>0</th>\n      <td>M</td>\n      <td>15420</td>\n      <td>54.78%</td>\n      <td>55098</td>\n      <td>54.01%</td>\n    </tr>\n    <tr>\n      <th>1</th>\n      <td>F</td>\n      <td>12726</td>\n      <td>45.21%</td>\n      <td>46847</td>\n      <td>45.93%</td>\n    </tr>\n    <tr>\n      <th>0</th>\n      <td>null</td>\n      <td>5</td>\n      <td>0.02%</td>\n      <td>61</td>\n      <td>0.06%</td>\n    </tr>\n  </tbody>\n</table>\n</div>"
     },
     "metadata": {},
     "execution_count": 36
    }
   ],
   "source": [
    "df_gender = _compare('gender', df_train_dm_1_gender, df_train_dm_0_gender, 'train_dm_1_%', 'train_dm_0_%')\n",
    "df_gender"
   ]
  },
  {
   "cell_type": "code",
   "execution_count": 37,
   "metadata": {},
   "outputs": [
    {
     "output_type": "display_data",
     "data": {
      "text/plain": "<Figure size 720x360 with 1 Axes>",
      "image/svg+xml": "<?xml version=\"1.0\" encoding=\"utf-8\" standalone=\"no\"?>\n<!DOCTYPE svg PUBLIC \"-//W3C//DTD SVG 1.1//EN\"\n  \"http://www.w3.org/Graphics/SVG/1.1/DTD/svg11.dtd\">\n<!-- Created with matplotlib (https://matplotlib.org/) -->\n<svg height=\"316.55625pt\" version=\"1.1\" viewBox=\"0 0 611.2125 316.55625\" width=\"611.2125pt\" xmlns=\"http://www.w3.org/2000/svg\" xmlns:xlink=\"http://www.w3.org/1999/xlink\">\n <metadata>\n  <rdf:RDF xmlns:cc=\"http://creativecommons.org/ns#\" xmlns:dc=\"http://purl.org/dc/elements/1.1/\" xmlns:rdf=\"http://www.w3.org/1999/02/22-rdf-syntax-ns#\">\n   <cc:Work>\n    <dc:type rdf:resource=\"http://purl.org/dc/dcmitype/StillImage\"/>\n    <dc:date>2021-01-26T11:17:27.080963</dc:date>\n    <dc:format>image/svg+xml</dc:format>\n    <dc:creator>\n     <cc:Agent>\n      <dc:title>Matplotlib v3.3.3, https://matplotlib.org/</dc:title>\n     </cc:Agent>\n    </dc:creator>\n   </cc:Work>\n  </rdf:RDF>\n </metadata>\n <defs>\n  <style type=\"text/css\">*{stroke-linecap:butt;stroke-linejoin:round;}</style>\n </defs>\n <g id=\"figure_1\">\n  <g id=\"patch_1\">\n   <path d=\"M 0 316.55625 \nL 611.2125 316.55625 \nL 611.2125 0 \nL 0 0 \nz\n\" style=\"fill:none;\"/>\n  </g>\n  <g id=\"axes_1\">\n   <g id=\"patch_2\">\n    <path d=\"M 46.0125 279 \nL 604.0125 279 \nL 604.0125 7.2 \nL 46.0125 7.2 \nz\n\" style=\"fill:#ffffff;\"/>\n   </g>\n   <g id=\"patch_3\">\n    <path clip-path=\"url(#p6175ed751c)\" d=\"M 92.5125 279 \nL 139.0125 279 \nL 139.0125 206.554954 \nL 92.5125 206.554954 \nz\n\" style=\"fill:#1f77b4;\"/>\n   </g>\n   <g id=\"patch_4\">\n    <path clip-path=\"url(#p6175ed751c)\" d=\"M 278.5125 279 \nL 325.0125 279 \nL 325.0125 219.211696 \nL 278.5125 219.211696 \nz\n\" style=\"fill:#1f77b4;\"/>\n   </g>\n   <g id=\"patch_5\">\n    <path clip-path=\"url(#p6175ed751c)\" d=\"M 464.5125 279 \nL 511.0125 279 \nL 511.0125 278.976509 \nL 464.5125 278.976509 \nz\n\" style=\"fill:#1f77b4;\"/>\n   </g>\n   <g id=\"patch_6\">\n    <path clip-path=\"url(#p6175ed751c)\" d=\"M 139.0125 279 \nL 185.5125 279 \nL 185.5125 20.142857 \nL 139.0125 20.142857 \nz\n\" style=\"fill:#ff7f0e;\"/>\n   </g>\n   <g id=\"patch_7\">\n    <path clip-path=\"url(#p6175ed751c)\" d=\"M 325.0125 279 \nL 371.5125 279 \nL 371.5125 58.907064 \nL 325.0125 58.907064 \nz\n\" style=\"fill:#ff7f0e;\"/>\n   </g>\n   <g id=\"patch_8\">\n    <path clip-path=\"url(#p6175ed751c)\" d=\"M 511.0125 279 \nL 557.5125 279 \nL 557.5125 278.713415 \nL 511.0125 278.713415 \nz\n\" style=\"fill:#ff7f0e;\"/>\n   </g>\n   <g id=\"matplotlib.axis_1\">\n    <g id=\"xtick_1\">\n     <g id=\"line2d_1\">\n      <defs>\n       <path d=\"M 0 0 \nL 0 3.5 \n\" id=\"medf727781f\" style=\"stroke:#000000;stroke-width:0.8;\"/>\n      </defs>\n      <g>\n       <use style=\"stroke:#000000;stroke-width:0.8;\" x=\"139.0125\" xlink:href=\"#medf727781f\" y=\"279\"/>\n      </g>\n     </g>\n     <g id=\"text_1\">\n      <!-- M -->\n      <g transform=\"translate(134.698437 293.598437)scale(0.1 -0.1)\">\n       <defs>\n        <path d=\"M 9.8125 72.90625 \nL 24.515625 72.90625 \nL 43.109375 23.296875 \nL 61.8125 72.90625 \nL 76.515625 72.90625 \nL 76.515625 0 \nL 66.890625 0 \nL 66.890625 64.015625 \nL 48.09375 14.015625 \nL 38.1875 14.015625 \nL 19.390625 64.015625 \nL 19.390625 0 \nL 9.8125 0 \nz\n\" id=\"DejaVuSans-77\"/>\n       </defs>\n       <use xlink:href=\"#DejaVuSans-77\"/>\n      </g>\n     </g>\n    </g>\n    <g id=\"xtick_2\">\n     <g id=\"line2d_2\">\n      <g>\n       <use style=\"stroke:#000000;stroke-width:0.8;\" x=\"325.0125\" xlink:href=\"#medf727781f\" y=\"279\"/>\n      </g>\n     </g>\n     <g id=\"text_2\">\n      <!-- F -->\n      <g transform=\"translate(322.136719 293.598437)scale(0.1 -0.1)\">\n       <defs>\n        <path d=\"M 9.8125 72.90625 \nL 51.703125 72.90625 \nL 51.703125 64.59375 \nL 19.671875 64.59375 \nL 19.671875 43.109375 \nL 48.578125 43.109375 \nL 48.578125 34.8125 \nL 19.671875 34.8125 \nL 19.671875 0 \nL 9.8125 0 \nz\n\" id=\"DejaVuSans-70\"/>\n       </defs>\n       <use xlink:href=\"#DejaVuSans-70\"/>\n      </g>\n     </g>\n    </g>\n    <g id=\"xtick_3\">\n     <g id=\"line2d_3\">\n      <g>\n       <use style=\"stroke:#000000;stroke-width:0.8;\" x=\"511.0125\" xlink:href=\"#medf727781f\" y=\"279\"/>\n      </g>\n     </g>\n     <g id=\"text_3\">\n      <!-- null -->\n      <g transform=\"translate(501.896875 293.598437)scale(0.1 -0.1)\">\n       <defs>\n        <path d=\"M 54.890625 33.015625 \nL 54.890625 0 \nL 45.90625 0 \nL 45.90625 32.71875 \nQ 45.90625 40.484375 42.875 44.328125 \nQ 39.84375 48.1875 33.796875 48.1875 \nQ 26.515625 48.1875 22.3125 43.546875 \nQ 18.109375 38.921875 18.109375 30.90625 \nL 18.109375 0 \nL 9.078125 0 \nL 9.078125 54.6875 \nL 18.109375 54.6875 \nL 18.109375 46.1875 \nQ 21.34375 51.125 25.703125 53.5625 \nQ 30.078125 56 35.796875 56 \nQ 45.21875 56 50.046875 50.171875 \nQ 54.890625 44.34375 54.890625 33.015625 \nz\n\" id=\"DejaVuSans-110\"/>\n        <path d=\"M 8.5 21.578125 \nL 8.5 54.6875 \nL 17.484375 54.6875 \nL 17.484375 21.921875 \nQ 17.484375 14.15625 20.5 10.265625 \nQ 23.53125 6.390625 29.59375 6.390625 \nQ 36.859375 6.390625 41.078125 11.03125 \nQ 45.3125 15.671875 45.3125 23.6875 \nL 45.3125 54.6875 \nL 54.296875 54.6875 \nL 54.296875 0 \nL 45.3125 0 \nL 45.3125 8.40625 \nQ 42.046875 3.421875 37.71875 1 \nQ 33.40625 -1.421875 27.6875 -1.421875 \nQ 18.265625 -1.421875 13.375 4.4375 \nQ 8.5 10.296875 8.5 21.578125 \nz\nM 31.109375 56 \nz\n\" id=\"DejaVuSans-117\"/>\n        <path d=\"M 9.421875 75.984375 \nL 18.40625 75.984375 \nL 18.40625 0 \nL 9.421875 0 \nz\n\" id=\"DejaVuSans-108\"/>\n       </defs>\n       <use xlink:href=\"#DejaVuSans-110\"/>\n       <use x=\"63.378906\" xlink:href=\"#DejaVuSans-117\"/>\n       <use x=\"126.757812\" xlink:href=\"#DejaVuSans-108\"/>\n       <use x=\"154.541016\" xlink:href=\"#DejaVuSans-108\"/>\n      </g>\n     </g>\n    </g>\n    <g id=\"text_4\">\n     <!-- gender -->\n     <g transform=\"translate(307.286719 307.276562)scale(0.1 -0.1)\">\n      <defs>\n       <path d=\"M 45.40625 27.984375 \nQ 45.40625 37.75 41.375 43.109375 \nQ 37.359375 48.484375 30.078125 48.484375 \nQ 22.859375 48.484375 18.828125 43.109375 \nQ 14.796875 37.75 14.796875 27.984375 \nQ 14.796875 18.265625 18.828125 12.890625 \nQ 22.859375 7.515625 30.078125 7.515625 \nQ 37.359375 7.515625 41.375 12.890625 \nQ 45.40625 18.265625 45.40625 27.984375 \nz\nM 54.390625 6.78125 \nQ 54.390625 -7.171875 48.1875 -13.984375 \nQ 42 -20.796875 29.203125 -20.796875 \nQ 24.46875 -20.796875 20.265625 -20.09375 \nQ 16.0625 -19.390625 12.109375 -17.921875 \nL 12.109375 -9.1875 \nQ 16.0625 -11.328125 19.921875 -12.34375 \nQ 23.78125 -13.375 27.78125 -13.375 \nQ 36.625 -13.375 41.015625 -8.765625 \nQ 45.40625 -4.15625 45.40625 5.171875 \nL 45.40625 9.625 \nQ 42.625 4.78125 38.28125 2.390625 \nQ 33.9375 0 27.875 0 \nQ 17.828125 0 11.671875 7.65625 \nQ 5.515625 15.328125 5.515625 27.984375 \nQ 5.515625 40.671875 11.671875 48.328125 \nQ 17.828125 56 27.875 56 \nQ 33.9375 56 38.28125 53.609375 \nQ 42.625 51.21875 45.40625 46.390625 \nL 45.40625 54.6875 \nL 54.390625 54.6875 \nz\n\" id=\"DejaVuSans-103\"/>\n       <path d=\"M 56.203125 29.59375 \nL 56.203125 25.203125 \nL 14.890625 25.203125 \nQ 15.484375 15.921875 20.484375 11.0625 \nQ 25.484375 6.203125 34.421875 6.203125 \nQ 39.59375 6.203125 44.453125 7.46875 \nQ 49.3125 8.734375 54.109375 11.28125 \nL 54.109375 2.78125 \nQ 49.265625 0.734375 44.1875 -0.34375 \nQ 39.109375 -1.421875 33.890625 -1.421875 \nQ 20.796875 -1.421875 13.15625 6.1875 \nQ 5.515625 13.8125 5.515625 26.8125 \nQ 5.515625 40.234375 12.765625 48.109375 \nQ 20.015625 56 32.328125 56 \nQ 43.359375 56 49.78125 48.890625 \nQ 56.203125 41.796875 56.203125 29.59375 \nz\nM 47.21875 32.234375 \nQ 47.125 39.59375 43.09375 43.984375 \nQ 39.0625 48.390625 32.421875 48.390625 \nQ 24.90625 48.390625 20.390625 44.140625 \nQ 15.875 39.890625 15.1875 32.171875 \nz\n\" id=\"DejaVuSans-101\"/>\n       <path d=\"M 45.40625 46.390625 \nL 45.40625 75.984375 \nL 54.390625 75.984375 \nL 54.390625 0 \nL 45.40625 0 \nL 45.40625 8.203125 \nQ 42.578125 3.328125 38.25 0.953125 \nQ 33.9375 -1.421875 27.875 -1.421875 \nQ 17.96875 -1.421875 11.734375 6.484375 \nQ 5.515625 14.40625 5.515625 27.296875 \nQ 5.515625 40.1875 11.734375 48.09375 \nQ 17.96875 56 27.875 56 \nQ 33.9375 56 38.25 53.625 \nQ 42.578125 51.265625 45.40625 46.390625 \nz\nM 14.796875 27.296875 \nQ 14.796875 17.390625 18.875 11.75 \nQ 22.953125 6.109375 30.078125 6.109375 \nQ 37.203125 6.109375 41.296875 11.75 \nQ 45.40625 17.390625 45.40625 27.296875 \nQ 45.40625 37.203125 41.296875 42.84375 \nQ 37.203125 48.484375 30.078125 48.484375 \nQ 22.953125 48.484375 18.875 42.84375 \nQ 14.796875 37.203125 14.796875 27.296875 \nz\n\" id=\"DejaVuSans-100\"/>\n       <path d=\"M 41.109375 46.296875 \nQ 39.59375 47.171875 37.8125 47.578125 \nQ 36.03125 48 33.890625 48 \nQ 26.265625 48 22.1875 43.046875 \nQ 18.109375 38.09375 18.109375 28.8125 \nL 18.109375 0 \nL 9.078125 0 \nL 9.078125 54.6875 \nL 18.109375 54.6875 \nL 18.109375 46.1875 \nQ 20.953125 51.171875 25.484375 53.578125 \nQ 30.03125 56 36.53125 56 \nQ 37.453125 56 38.578125 55.875 \nQ 39.703125 55.765625 41.0625 55.515625 \nz\n\" id=\"DejaVuSans-114\"/>\n      </defs>\n      <use xlink:href=\"#DejaVuSans-103\"/>\n      <use x=\"63.476562\" xlink:href=\"#DejaVuSans-101\"/>\n      <use x=\"125\" xlink:href=\"#DejaVuSans-110\"/>\n      <use x=\"188.378906\" xlink:href=\"#DejaVuSans-100\"/>\n      <use x=\"251.855469\" xlink:href=\"#DejaVuSans-101\"/>\n      <use x=\"313.378906\" xlink:href=\"#DejaVuSans-114\"/>\n     </g>\n    </g>\n   </g>\n   <g id=\"matplotlib.axis_2\">\n    <g id=\"ytick_1\">\n     <g id=\"line2d_4\">\n      <defs>\n       <path d=\"M 0 0 \nL -3.5 0 \n\" id=\"mc92e526a9b\" style=\"stroke:#000000;stroke-width:0.8;\"/>\n      </defs>\n      <g>\n       <use style=\"stroke:#000000;stroke-width:0.8;\" x=\"46.0125\" xlink:href=\"#mc92e526a9b\" y=\"279\"/>\n      </g>\n     </g>\n     <g id=\"text_5\">\n      <!-- 0 -->\n      <g transform=\"translate(32.65 282.799219)scale(0.1 -0.1)\">\n       <defs>\n        <path d=\"M 31.78125 66.40625 \nQ 24.171875 66.40625 20.328125 58.90625 \nQ 16.5 51.421875 16.5 36.375 \nQ 16.5 21.390625 20.328125 13.890625 \nQ 24.171875 6.390625 31.78125 6.390625 \nQ 39.453125 6.390625 43.28125 13.890625 \nQ 47.125 21.390625 47.125 36.375 \nQ 47.125 51.421875 43.28125 58.90625 \nQ 39.453125 66.40625 31.78125 66.40625 \nz\nM 31.78125 74.21875 \nQ 44.046875 74.21875 50.515625 64.515625 \nQ 56.984375 54.828125 56.984375 36.375 \nQ 56.984375 17.96875 50.515625 8.265625 \nQ 44.046875 -1.421875 31.78125 -1.421875 \nQ 19.53125 -1.421875 13.0625 8.265625 \nQ 6.59375 17.96875 6.59375 36.375 \nQ 6.59375 54.828125 13.0625 64.515625 \nQ 19.53125 74.21875 31.78125 74.21875 \nz\n\" id=\"DejaVuSans-48\"/>\n       </defs>\n       <use xlink:href=\"#DejaVuSans-48\"/>\n      </g>\n     </g>\n    </g>\n    <g id=\"ytick_2\">\n     <g id=\"line2d_5\">\n      <g>\n       <use style=\"stroke:#000000;stroke-width:0.8;\" x=\"46.0125\" xlink:href=\"#mc92e526a9b\" y=\"232.018777\"/>\n      </g>\n     </g>\n     <g id=\"text_6\">\n      <!-- 10000 -->\n      <g transform=\"translate(7.2 235.817996)scale(0.1 -0.1)\">\n       <defs>\n        <path d=\"M 12.40625 8.296875 \nL 28.515625 8.296875 \nL 28.515625 63.921875 \nL 10.984375 60.40625 \nL 10.984375 69.390625 \nL 28.421875 72.90625 \nL 38.28125 72.90625 \nL 38.28125 8.296875 \nL 54.390625 8.296875 \nL 54.390625 0 \nL 12.40625 0 \nz\n\" id=\"DejaVuSans-49\"/>\n       </defs>\n       <use xlink:href=\"#DejaVuSans-49\"/>\n       <use x=\"63.623047\" xlink:href=\"#DejaVuSans-48\"/>\n       <use x=\"127.246094\" xlink:href=\"#DejaVuSans-48\"/>\n       <use x=\"190.869141\" xlink:href=\"#DejaVuSans-48\"/>\n       <use x=\"254.492188\" xlink:href=\"#DejaVuSans-48\"/>\n      </g>\n     </g>\n    </g>\n    <g id=\"ytick_3\">\n     <g id=\"line2d_6\">\n      <g>\n       <use style=\"stroke:#000000;stroke-width:0.8;\" x=\"46.0125\" xlink:href=\"#mc92e526a9b\" y=\"185.037554\"/>\n      </g>\n     </g>\n     <g id=\"text_7\">\n      <!-- 20000 -->\n      <g transform=\"translate(7.2 188.836773)scale(0.1 -0.1)\">\n       <defs>\n        <path d=\"M 19.1875 8.296875 \nL 53.609375 8.296875 \nL 53.609375 0 \nL 7.328125 0 \nL 7.328125 8.296875 \nQ 12.9375 14.109375 22.625 23.890625 \nQ 32.328125 33.6875 34.8125 36.53125 \nQ 39.546875 41.84375 41.421875 45.53125 \nQ 43.3125 49.21875 43.3125 52.78125 \nQ 43.3125 58.59375 39.234375 62.25 \nQ 35.15625 65.921875 28.609375 65.921875 \nQ 23.96875 65.921875 18.8125 64.3125 \nQ 13.671875 62.703125 7.8125 59.421875 \nL 7.8125 69.390625 \nQ 13.765625 71.78125 18.9375 73 \nQ 24.125 74.21875 28.421875 74.21875 \nQ 39.75 74.21875 46.484375 68.546875 \nQ 53.21875 62.890625 53.21875 53.421875 \nQ 53.21875 48.921875 51.53125 44.890625 \nQ 49.859375 40.875 45.40625 35.40625 \nQ 44.1875 33.984375 37.640625 27.21875 \nQ 31.109375 20.453125 19.1875 8.296875 \nz\n\" id=\"DejaVuSans-50\"/>\n       </defs>\n       <use xlink:href=\"#DejaVuSans-50\"/>\n       <use x=\"63.623047\" xlink:href=\"#DejaVuSans-48\"/>\n       <use x=\"127.246094\" xlink:href=\"#DejaVuSans-48\"/>\n       <use x=\"190.869141\" xlink:href=\"#DejaVuSans-48\"/>\n       <use x=\"254.492188\" xlink:href=\"#DejaVuSans-48\"/>\n      </g>\n     </g>\n    </g>\n    <g id=\"ytick_4\">\n     <g id=\"line2d_7\">\n      <g>\n       <use style=\"stroke:#000000;stroke-width:0.8;\" x=\"46.0125\" xlink:href=\"#mc92e526a9b\" y=\"138.056331\"/>\n      </g>\n     </g>\n     <g id=\"text_8\">\n      <!-- 30000 -->\n      <g transform=\"translate(7.2 141.85555)scale(0.1 -0.1)\">\n       <defs>\n        <path d=\"M 40.578125 39.3125 \nQ 47.65625 37.796875 51.625 33 \nQ 55.609375 28.21875 55.609375 21.1875 \nQ 55.609375 10.40625 48.1875 4.484375 \nQ 40.765625 -1.421875 27.09375 -1.421875 \nQ 22.515625 -1.421875 17.65625 -0.515625 \nQ 12.796875 0.390625 7.625 2.203125 \nL 7.625 11.71875 \nQ 11.71875 9.328125 16.59375 8.109375 \nQ 21.484375 6.890625 26.8125 6.890625 \nQ 36.078125 6.890625 40.9375 10.546875 \nQ 45.796875 14.203125 45.796875 21.1875 \nQ 45.796875 27.640625 41.28125 31.265625 \nQ 36.765625 34.90625 28.71875 34.90625 \nL 20.21875 34.90625 \nL 20.21875 43.015625 \nL 29.109375 43.015625 \nQ 36.375 43.015625 40.234375 45.921875 \nQ 44.09375 48.828125 44.09375 54.296875 \nQ 44.09375 59.90625 40.109375 62.90625 \nQ 36.140625 65.921875 28.71875 65.921875 \nQ 24.65625 65.921875 20.015625 65.03125 \nQ 15.375 64.15625 9.8125 62.3125 \nL 9.8125 71.09375 \nQ 15.4375 72.65625 20.34375 73.4375 \nQ 25.25 74.21875 29.59375 74.21875 \nQ 40.828125 74.21875 47.359375 69.109375 \nQ 53.90625 64.015625 53.90625 55.328125 \nQ 53.90625 49.265625 50.4375 45.09375 \nQ 46.96875 40.921875 40.578125 39.3125 \nz\n\" id=\"DejaVuSans-51\"/>\n       </defs>\n       <use xlink:href=\"#DejaVuSans-51\"/>\n       <use x=\"63.623047\" xlink:href=\"#DejaVuSans-48\"/>\n       <use x=\"127.246094\" xlink:href=\"#DejaVuSans-48\"/>\n       <use x=\"190.869141\" xlink:href=\"#DejaVuSans-48\"/>\n       <use x=\"254.492188\" xlink:href=\"#DejaVuSans-48\"/>\n      </g>\n     </g>\n    </g>\n    <g id=\"ytick_5\">\n     <g id=\"line2d_8\">\n      <g>\n       <use style=\"stroke:#000000;stroke-width:0.8;\" x=\"46.0125\" xlink:href=\"#mc92e526a9b\" y=\"91.075108\"/>\n      </g>\n     </g>\n     <g id=\"text_9\">\n      <!-- 40000 -->\n      <g transform=\"translate(7.2 94.874326)scale(0.1 -0.1)\">\n       <defs>\n        <path d=\"M 37.796875 64.3125 \nL 12.890625 25.390625 \nL 37.796875 25.390625 \nz\nM 35.203125 72.90625 \nL 47.609375 72.90625 \nL 47.609375 25.390625 \nL 58.015625 25.390625 \nL 58.015625 17.1875 \nL 47.609375 17.1875 \nL 47.609375 0 \nL 37.796875 0 \nL 37.796875 17.1875 \nL 4.890625 17.1875 \nL 4.890625 26.703125 \nz\n\" id=\"DejaVuSans-52\"/>\n       </defs>\n       <use xlink:href=\"#DejaVuSans-52\"/>\n       <use x=\"63.623047\" xlink:href=\"#DejaVuSans-48\"/>\n       <use x=\"127.246094\" xlink:href=\"#DejaVuSans-48\"/>\n       <use x=\"190.869141\" xlink:href=\"#DejaVuSans-48\"/>\n       <use x=\"254.492188\" xlink:href=\"#DejaVuSans-48\"/>\n      </g>\n     </g>\n    </g>\n    <g id=\"ytick_6\">\n     <g id=\"line2d_9\">\n      <g>\n       <use style=\"stroke:#000000;stroke-width:0.8;\" x=\"46.0125\" xlink:href=\"#mc92e526a9b\" y=\"44.093885\"/>\n      </g>\n     </g>\n     <g id=\"text_10\">\n      <!-- 50000 -->\n      <g transform=\"translate(7.2 47.893103)scale(0.1 -0.1)\">\n       <defs>\n        <path d=\"M 10.796875 72.90625 \nL 49.515625 72.90625 \nL 49.515625 64.59375 \nL 19.828125 64.59375 \nL 19.828125 46.734375 \nQ 21.96875 47.46875 24.109375 47.828125 \nQ 26.265625 48.1875 28.421875 48.1875 \nQ 40.625 48.1875 47.75 41.5 \nQ 54.890625 34.8125 54.890625 23.390625 \nQ 54.890625 11.625 47.5625 5.09375 \nQ 40.234375 -1.421875 26.90625 -1.421875 \nQ 22.3125 -1.421875 17.546875 -0.640625 \nQ 12.796875 0.140625 7.71875 1.703125 \nL 7.71875 11.625 \nQ 12.109375 9.234375 16.796875 8.0625 \nQ 21.484375 6.890625 26.703125 6.890625 \nQ 35.15625 6.890625 40.078125 11.328125 \nQ 45.015625 15.765625 45.015625 23.390625 \nQ 45.015625 31 40.078125 35.4375 \nQ 35.15625 39.890625 26.703125 39.890625 \nQ 22.75 39.890625 18.8125 39.015625 \nQ 14.890625 38.140625 10.796875 36.28125 \nz\n\" id=\"DejaVuSans-53\"/>\n       </defs>\n       <use xlink:href=\"#DejaVuSans-53\"/>\n       <use x=\"63.623047\" xlink:href=\"#DejaVuSans-48\"/>\n       <use x=\"127.246094\" xlink:href=\"#DejaVuSans-48\"/>\n       <use x=\"190.869141\" xlink:href=\"#DejaVuSans-48\"/>\n       <use x=\"254.492188\" xlink:href=\"#DejaVuSans-48\"/>\n      </g>\n     </g>\n    </g>\n   </g>\n   <g id=\"patch_9\">\n    <path d=\"M 46.0125 279 \nL 46.0125 7.2 \n\" style=\"fill:none;stroke:#000000;stroke-linecap:square;stroke-linejoin:miter;stroke-width:0.8;\"/>\n   </g>\n   <g id=\"patch_10\">\n    <path d=\"M 604.0125 279 \nL 604.0125 7.2 \n\" style=\"fill:none;stroke:#000000;stroke-linecap:square;stroke-linejoin:miter;stroke-width:0.8;\"/>\n   </g>\n   <g id=\"patch_11\">\n    <path d=\"M 46.0125 279 \nL 604.0125 279 \n\" style=\"fill:none;stroke:#000000;stroke-linecap:square;stroke-linejoin:miter;stroke-width:0.8;\"/>\n   </g>\n   <g id=\"patch_12\">\n    <path d=\"M 46.0125 7.2 \nL 604.0125 7.2 \n\" style=\"fill:none;stroke:#000000;stroke-linecap:square;stroke-linejoin:miter;stroke-width:0.8;\"/>\n   </g>\n   <g id=\"legend_1\">\n    <g id=\"patch_13\">\n     <path d=\"M 476.073438 45.1125 \nL 597.0125 45.1125 \nQ 599.0125 45.1125 599.0125 43.1125 \nL 599.0125 14.2 \nQ 599.0125 12.2 597.0125 12.2 \nL 476.073438 12.2 \nQ 474.073438 12.2 474.073438 14.2 \nL 474.073438 43.1125 \nQ 474.073438 45.1125 476.073438 45.1125 \nz\n\" style=\"fill:#ffffff;opacity:0.8;stroke:#cccccc;stroke-linejoin:miter;\"/>\n    </g>\n    <g id=\"patch_14\">\n     <path d=\"M 478.073438 23.798438 \nL 498.073438 23.798438 \nL 498.073438 16.798438 \nL 478.073438 16.798438 \nz\n\" style=\"fill:#1f77b4;\"/>\n    </g>\n    <g id=\"text_11\">\n     <!-- train_dm_1_count -->\n     <g transform=\"translate(506.073438 23.798438)scale(0.1 -0.1)\">\n      <defs>\n       <path d=\"M 18.3125 70.21875 \nL 18.3125 54.6875 \nL 36.8125 54.6875 \nL 36.8125 47.703125 \nL 18.3125 47.703125 \nL 18.3125 18.015625 \nQ 18.3125 11.328125 20.140625 9.421875 \nQ 21.96875 7.515625 27.59375 7.515625 \nL 36.8125 7.515625 \nL 36.8125 0 \nL 27.59375 0 \nQ 17.1875 0 13.234375 3.875 \nQ 9.28125 7.765625 9.28125 18.015625 \nL 9.28125 47.703125 \nL 2.6875 47.703125 \nL 2.6875 54.6875 \nL 9.28125 54.6875 \nL 9.28125 70.21875 \nz\n\" id=\"DejaVuSans-116\"/>\n       <path d=\"M 34.28125 27.484375 \nQ 23.390625 27.484375 19.1875 25 \nQ 14.984375 22.515625 14.984375 16.5 \nQ 14.984375 11.71875 18.140625 8.90625 \nQ 21.296875 6.109375 26.703125 6.109375 \nQ 34.1875 6.109375 38.703125 11.40625 \nQ 43.21875 16.703125 43.21875 25.484375 \nL 43.21875 27.484375 \nz\nM 52.203125 31.203125 \nL 52.203125 0 \nL 43.21875 0 \nL 43.21875 8.296875 \nQ 40.140625 3.328125 35.546875 0.953125 \nQ 30.953125 -1.421875 24.3125 -1.421875 \nQ 15.921875 -1.421875 10.953125 3.296875 \nQ 6 8.015625 6 15.921875 \nQ 6 25.140625 12.171875 29.828125 \nQ 18.359375 34.515625 30.609375 34.515625 \nL 43.21875 34.515625 \nL 43.21875 35.40625 \nQ 43.21875 41.609375 39.140625 45 \nQ 35.0625 48.390625 27.6875 48.390625 \nQ 23 48.390625 18.546875 47.265625 \nQ 14.109375 46.140625 10.015625 43.890625 \nL 10.015625 52.203125 \nQ 14.9375 54.109375 19.578125 55.046875 \nQ 24.21875 56 28.609375 56 \nQ 40.484375 56 46.34375 49.84375 \nQ 52.203125 43.703125 52.203125 31.203125 \nz\n\" id=\"DejaVuSans-97\"/>\n       <path d=\"M 9.421875 54.6875 \nL 18.40625 54.6875 \nL 18.40625 0 \nL 9.421875 0 \nz\nM 9.421875 75.984375 \nL 18.40625 75.984375 \nL 18.40625 64.59375 \nL 9.421875 64.59375 \nz\n\" id=\"DejaVuSans-105\"/>\n       <path d=\"M 50.984375 -16.609375 \nL 50.984375 -23.578125 \nL -0.984375 -23.578125 \nL -0.984375 -16.609375 \nz\n\" id=\"DejaVuSans-95\"/>\n       <path d=\"M 52 44.1875 \nQ 55.375 50.25 60.0625 53.125 \nQ 64.75 56 71.09375 56 \nQ 79.640625 56 84.28125 50.015625 \nQ 88.921875 44.046875 88.921875 33.015625 \nL 88.921875 0 \nL 79.890625 0 \nL 79.890625 32.71875 \nQ 79.890625 40.578125 77.09375 44.375 \nQ 74.3125 48.1875 68.609375 48.1875 \nQ 61.625 48.1875 57.5625 43.546875 \nQ 53.515625 38.921875 53.515625 30.90625 \nL 53.515625 0 \nL 44.484375 0 \nL 44.484375 32.71875 \nQ 44.484375 40.625 41.703125 44.40625 \nQ 38.921875 48.1875 33.109375 48.1875 \nQ 26.21875 48.1875 22.15625 43.53125 \nQ 18.109375 38.875 18.109375 30.90625 \nL 18.109375 0 \nL 9.078125 0 \nL 9.078125 54.6875 \nL 18.109375 54.6875 \nL 18.109375 46.1875 \nQ 21.1875 51.21875 25.484375 53.609375 \nQ 29.78125 56 35.6875 56 \nQ 41.65625 56 45.828125 52.96875 \nQ 50 49.953125 52 44.1875 \nz\n\" id=\"DejaVuSans-109\"/>\n       <path d=\"M 48.78125 52.59375 \nL 48.78125 44.1875 \nQ 44.96875 46.296875 41.140625 47.34375 \nQ 37.3125 48.390625 33.40625 48.390625 \nQ 24.65625 48.390625 19.8125 42.84375 \nQ 14.984375 37.3125 14.984375 27.296875 \nQ 14.984375 17.28125 19.8125 11.734375 \nQ 24.65625 6.203125 33.40625 6.203125 \nQ 37.3125 6.203125 41.140625 7.25 \nQ 44.96875 8.296875 48.78125 10.40625 \nL 48.78125 2.09375 \nQ 45.015625 0.34375 40.984375 -0.53125 \nQ 36.96875 -1.421875 32.421875 -1.421875 \nQ 20.0625 -1.421875 12.78125 6.34375 \nQ 5.515625 14.109375 5.515625 27.296875 \nQ 5.515625 40.671875 12.859375 48.328125 \nQ 20.21875 56 33.015625 56 \nQ 37.15625 56 41.109375 55.140625 \nQ 45.0625 54.296875 48.78125 52.59375 \nz\n\" id=\"DejaVuSans-99\"/>\n       <path d=\"M 30.609375 48.390625 \nQ 23.390625 48.390625 19.1875 42.75 \nQ 14.984375 37.109375 14.984375 27.296875 \nQ 14.984375 17.484375 19.15625 11.84375 \nQ 23.34375 6.203125 30.609375 6.203125 \nQ 37.796875 6.203125 41.984375 11.859375 \nQ 46.1875 17.53125 46.1875 27.296875 \nQ 46.1875 37.015625 41.984375 42.703125 \nQ 37.796875 48.390625 30.609375 48.390625 \nz\nM 30.609375 56 \nQ 42.328125 56 49.015625 48.375 \nQ 55.71875 40.765625 55.71875 27.296875 \nQ 55.71875 13.875 49.015625 6.21875 \nQ 42.328125 -1.421875 30.609375 -1.421875 \nQ 18.84375 -1.421875 12.171875 6.21875 \nQ 5.515625 13.875 5.515625 27.296875 \nQ 5.515625 40.765625 12.171875 48.375 \nQ 18.84375 56 30.609375 56 \nz\n\" id=\"DejaVuSans-111\"/>\n      </defs>\n      <use xlink:href=\"#DejaVuSans-116\"/>\n      <use x=\"39.208984\" xlink:href=\"#DejaVuSans-114\"/>\n      <use x=\"80.322266\" xlink:href=\"#DejaVuSans-97\"/>\n      <use x=\"141.601562\" xlink:href=\"#DejaVuSans-105\"/>\n      <use x=\"169.384766\" xlink:href=\"#DejaVuSans-110\"/>\n      <use x=\"232.763672\" xlink:href=\"#DejaVuSans-95\"/>\n      <use x=\"282.763672\" xlink:href=\"#DejaVuSans-100\"/>\n      <use x=\"346.240234\" xlink:href=\"#DejaVuSans-109\"/>\n      <use x=\"443.652344\" xlink:href=\"#DejaVuSans-95\"/>\n      <use x=\"493.652344\" xlink:href=\"#DejaVuSans-49\"/>\n      <use x=\"557.275391\" xlink:href=\"#DejaVuSans-95\"/>\n      <use x=\"607.275391\" xlink:href=\"#DejaVuSans-99\"/>\n      <use x=\"662.255859\" xlink:href=\"#DejaVuSans-111\"/>\n      <use x=\"723.4375\" xlink:href=\"#DejaVuSans-117\"/>\n      <use x=\"786.816406\" xlink:href=\"#DejaVuSans-110\"/>\n      <use x=\"850.195312\" xlink:href=\"#DejaVuSans-116\"/>\n     </g>\n    </g>\n    <g id=\"patch_15\">\n     <path d=\"M 478.073438 38.754688 \nL 498.073438 38.754688 \nL 498.073438 31.754688 \nL 478.073438 31.754688 \nz\n\" style=\"fill:#ff7f0e;\"/>\n    </g>\n    <g id=\"text_12\">\n     <!-- train_dm_0_count -->\n     <g transform=\"translate(506.073438 38.754688)scale(0.1 -0.1)\">\n      <use xlink:href=\"#DejaVuSans-116\"/>\n      <use x=\"39.208984\" xlink:href=\"#DejaVuSans-114\"/>\n      <use x=\"80.322266\" xlink:href=\"#DejaVuSans-97\"/>\n      <use x=\"141.601562\" xlink:href=\"#DejaVuSans-105\"/>\n      <use x=\"169.384766\" xlink:href=\"#DejaVuSans-110\"/>\n      <use x=\"232.763672\" xlink:href=\"#DejaVuSans-95\"/>\n      <use x=\"282.763672\" xlink:href=\"#DejaVuSans-100\"/>\n      <use x=\"346.240234\" xlink:href=\"#DejaVuSans-109\"/>\n      <use x=\"443.652344\" xlink:href=\"#DejaVuSans-95\"/>\n      <use x=\"493.652344\" xlink:href=\"#DejaVuSans-48\"/>\n      <use x=\"557.275391\" xlink:href=\"#DejaVuSans-95\"/>\n      <use x=\"607.275391\" xlink:href=\"#DejaVuSans-99\"/>\n      <use x=\"662.255859\" xlink:href=\"#DejaVuSans-111\"/>\n      <use x=\"723.4375\" xlink:href=\"#DejaVuSans-117\"/>\n      <use x=\"786.816406\" xlink:href=\"#DejaVuSans-110\"/>\n      <use x=\"850.195312\" xlink:href=\"#DejaVuSans-116\"/>\n     </g>\n    </g>\n   </g>\n  </g>\n </g>\n <defs>\n  <clipPath id=\"p6175ed751c\">\n   <rect height=\"271.8\" width=\"558\" x=\"46.0125\" y=\"7.2\"/>\n  </clipPath>\n </defs>\n</svg>\n",
      "image/png": "[encoded data removed]"
     },
     "metadata": {
      "needs_background": "light"
     }
    }
   ],
   "source": [
    "ax = df_gender[['gender','train_dm_1_count', 'train_dm_0_count']].plot.bar(x='gender',rot=0, figsize=(10,5))"
   ]
  },
  {
   "cell_type": "code",
   "execution_count": 38,
   "metadata": {},
   "outputs": [
    {
     "output_type": "stream",
     "name": "stdout",
     "text": "ethnicity: train_dm_1_%: 100.0% train_dm_0_%: 100.0%\n"
    }
   ],
   "source": [
    "df_ethnicity = _compare('ethnicity', df_train_dm_1_ethnicity, df_train_dm_0_ethnicity, 'train_dm_1_%', 'train_dm_0_%')"
   ]
  },
  {
   "cell_type": "code",
   "execution_count": 39,
   "metadata": {},
   "outputs": [
    {
     "output_type": "display_data",
     "data": {
      "text/plain": "<Figure size 720x360 with 1 Axes>",
      "image/svg+xml": "<?xml version=\"1.0\" encoding=\"utf-8\" standalone=\"no\"?>\n<!DOCTYPE svg PUBLIC \"-//W3C//DTD SVG 1.1//EN\"\n  \"http://www.w3.org/Graphics/SVG/1.1/DTD/svg11.dtd\">\n<!-- Created with matplotlib (https://matplotlib.org/) -->\n<svg height=\"316.55625pt\" version=\"1.1\" viewBox=\"0 0 611.2125 316.55625\" width=\"611.2125pt\" xmlns=\"http://www.w3.org/2000/svg\" xmlns:xlink=\"http://www.w3.org/1999/xlink\">\n <metadata>\n  <rdf:RDF xmlns:cc=\"http://creativecommons.org/ns#\" xmlns:dc=\"http://purl.org/dc/elements/1.1/\" xmlns:rdf=\"http://www.w3.org/1999/02/22-rdf-syntax-ns#\">\n   <cc:Work>\n    <dc:type rdf:resource=\"http://purl.org/dc/dcmitype/StillImage\"/>\n    <dc:date>2021-01-26T11:17:27.433369</dc:date>\n    <dc:format>image/svg+xml</dc:format>\n    <dc:creator>\n     <cc:Agent>\n      <dc:title>Matplotlib v3.3.3, https://matplotlib.org/</dc:title>\n     </cc:Agent>\n    </dc:creator>\n   </cc:Work>\n  </rdf:RDF>\n </metadata>\n <defs>\n  <style type=\"text/css\">*{stroke-linecap:butt;stroke-linejoin:round;}</style>\n </defs>\n <g id=\"figure_1\">\n  <g id=\"patch_1\">\n   <path d=\"M 0 316.55625 \nL 611.2125 316.55625 \nL 611.2125 0 \nL 0 0 \nz\n\" style=\"fill:none;\"/>\n  </g>\n  <g id=\"axes_1\">\n   <g id=\"patch_2\">\n    <path d=\"M 46.0125 279 \nL 604.0125 279 \nL 604.0125 7.2 \nL 46.0125 7.2 \nz\n\" style=\"fill:#ffffff;\"/>\n   </g>\n   <g id=\"patch_3\">\n    <path clip-path=\"url(#pb81f54e410)\" d=\"M 65.941071 279 \nL 85.869643 279 \nL 85.869643 212.019158 \nL 65.941071 212.019158 \nz\n\" style=\"fill:#1f77b4;\"/>\n   </g>\n   <g id=\"patch_4\">\n    <path clip-path=\"url(#pb81f54e410)\" d=\"M 145.655357 279 \nL 165.583929 279 \nL 165.583929 267.121912 \nL 145.655357 267.121912 \nz\n\" style=\"fill:#1f77b4;\"/>\n   </g>\n   <g id=\"patch_5\">\n    <path clip-path=\"url(#pb81f54e410)\" d=\"M 225.369643 279 \nL 245.298214 279 \nL 245.298214 273.81512 \nL 225.369643 273.81512 \nz\n\" style=\"fill:#1f77b4;\"/>\n   </g>\n   <g id=\"patch_6\">\n    <path clip-path=\"url(#pb81f54e410)\" d=\"M 305.083929 279 \nL 325.0125 279 \nL 325.0125 274.95937 \nL 305.083929 274.95937 \nz\n\" style=\"fill:#1f77b4;\"/>\n   </g>\n   <g id=\"patch_7\">\n    <path clip-path=\"url(#pb81f54e410)\" d=\"M 384.798214 279 \nL 404.726786 279 \nL 404.726786 277.251119 \nL 384.798214 277.251119 \nz\n\" style=\"fill:#1f77b4;\"/>\n   </g>\n   <g id=\"patch_8\">\n    <path clip-path=\"url(#pb81f54e410)\" d=\"M 464.5125 279 \nL 484.441071 279 \nL 484.441071 278.044292 \nL 464.5125 278.044292 \nz\n\" style=\"fill:#1f77b4;\"/>\n   </g>\n   <g id=\"patch_9\">\n    <path clip-path=\"url(#pb81f54e410)\" d=\"M 544.226786 279 \nL 564.155357 279 \nL 564.155357 278.278343 \nL 544.226786 278.278343 \nz\n\" style=\"fill:#1f77b4;\"/>\n   </g>\n   <g id=\"patch_10\">\n    <path clip-path=\"url(#pb81f54e410)\" d=\"M 85.869643 279 \nL 105.798214 279 \nL 105.798214 20.142857 \nL 85.869643 20.142857 \nz\n\" style=\"fill:#ff7f0e;\"/>\n   </g>\n   <g id=\"patch_11\">\n    <path clip-path=\"url(#pb81f54e410)\" d=\"M 165.583929 279 \nL 185.5125 279 \nL 185.5125 245.657486 \nL 165.583929 245.657486 \nz\n\" style=\"fill:#ff7f0e;\"/>\n   </g>\n   <g id=\"patch_12\">\n    <path clip-path=\"url(#pb81f54e410)\" d=\"M 245.298214 279 \nL 265.226786 279 \nL 265.226786 263.832196 \nL 245.298214 263.832196 \nz\n\" style=\"fill:#ff7f0e;\"/>\n   </g>\n   <g id=\"patch_13\">\n    <path clip-path=\"url(#pb81f54e410)\" d=\"M 325.0125 279 \nL 344.941071 279 \nL 344.941071 266.627805 \nL 325.0125 266.627805 \nz\n\" style=\"fill:#ff7f0e;\"/>\n   </g>\n   <g id=\"patch_14\">\n    <path clip-path=\"url(#pb81f54e410)\" d=\"M 404.726786 279 \nL 424.655357 279 \nL 424.655357 273.603824 \nL 404.726786 273.603824 \nz\n\" style=\"fill:#ff7f0e;\"/>\n   </g>\n   <g id=\"patch_15\">\n    <path clip-path=\"url(#pb81f54e410)\" d=\"M 484.441071 279 \nL 504.369643 279 \nL 504.369643 276.98131 \nL 484.441071 276.98131 \nz\n\" style=\"fill:#ff7f0e;\"/>\n   </g>\n   <g id=\"patch_16\">\n    <path clip-path=\"url(#pb81f54e410)\" d=\"M 564.155357 279 \nL 584.083929 279 \nL 584.083929 274.562783 \nL 564.155357 274.562783 \nz\n\" style=\"fill:#ff7f0e;\"/>\n   </g>\n   <g id=\"matplotlib.axis_1\">\n    <g id=\"xtick_1\">\n     <g id=\"line2d_1\">\n      <defs>\n       <path d=\"M 0 0 \nL 0 3.5 \n\" id=\"mdd5309473f\" style=\"stroke:#000000;stroke-width:0.8;\"/>\n      </defs>\n      <g>\n       <use style=\"stroke:#000000;stroke-width:0.8;\" x=\"85.869643\" xlink:href=\"#mdd5309473f\" y=\"279\"/>\n      </g>\n     </g>\n     <g id=\"text_1\">\n      <!-- Caucasian -->\n      <g transform=\"translate(60.10558 293.598437)scale(0.1 -0.1)\">\n       <defs>\n        <path d=\"M 64.40625 67.28125 \nL 64.40625 56.890625 \nQ 59.421875 61.53125 53.78125 63.8125 \nQ 48.140625 66.109375 41.796875 66.109375 \nQ 29.296875 66.109375 22.65625 58.46875 \nQ 16.015625 50.828125 16.015625 36.375 \nQ 16.015625 21.96875 22.65625 14.328125 \nQ 29.296875 6.6875 41.796875 6.6875 \nQ 48.140625 6.6875 53.78125 8.984375 \nQ 59.421875 11.28125 64.40625 15.921875 \nL 64.40625 5.609375 \nQ 59.234375 2.09375 53.4375 0.328125 \nQ 47.65625 -1.421875 41.21875 -1.421875 \nQ 24.65625 -1.421875 15.125 8.703125 \nQ 5.609375 18.84375 5.609375 36.375 \nQ 5.609375 53.953125 15.125 64.078125 \nQ 24.65625 74.21875 41.21875 74.21875 \nQ 47.75 74.21875 53.53125 72.484375 \nQ 59.328125 70.75 64.40625 67.28125 \nz\n\" id=\"DejaVuSans-67\"/>\n        <path d=\"M 34.28125 27.484375 \nQ 23.390625 27.484375 19.1875 25 \nQ 14.984375 22.515625 14.984375 16.5 \nQ 14.984375 11.71875 18.140625 8.90625 \nQ 21.296875 6.109375 26.703125 6.109375 \nQ 34.1875 6.109375 38.703125 11.40625 \nQ 43.21875 16.703125 43.21875 25.484375 \nL 43.21875 27.484375 \nz\nM 52.203125 31.203125 \nL 52.203125 0 \nL 43.21875 0 \nL 43.21875 8.296875 \nQ 40.140625 3.328125 35.546875 0.953125 \nQ 30.953125 -1.421875 24.3125 -1.421875 \nQ 15.921875 -1.421875 10.953125 3.296875 \nQ 6 8.015625 6 15.921875 \nQ 6 25.140625 12.171875 29.828125 \nQ 18.359375 34.515625 30.609375 34.515625 \nL 43.21875 34.515625 \nL 43.21875 35.40625 \nQ 43.21875 41.609375 39.140625 45 \nQ 35.0625 48.390625 27.6875 48.390625 \nQ 23 48.390625 18.546875 47.265625 \nQ 14.109375 46.140625 10.015625 43.890625 \nL 10.015625 52.203125 \nQ 14.9375 54.109375 19.578125 55.046875 \nQ 24.21875 56 28.609375 56 \nQ 40.484375 56 46.34375 49.84375 \nQ 52.203125 43.703125 52.203125 31.203125 \nz\n\" id=\"DejaVuSans-97\"/>\n        <path d=\"M 8.5 21.578125 \nL 8.5 54.6875 \nL 17.484375 54.6875 \nL 17.484375 21.921875 \nQ 17.484375 14.15625 20.5 10.265625 \nQ 23.53125 6.390625 29.59375 6.390625 \nQ 36.859375 6.390625 41.078125 11.03125 \nQ 45.3125 15.671875 45.3125 23.6875 \nL 45.3125 54.6875 \nL 54.296875 54.6875 \nL 54.296875 0 \nL 45.3125 0 \nL 45.3125 8.40625 \nQ 42.046875 3.421875 37.71875 1 \nQ 33.40625 -1.421875 27.6875 -1.421875 \nQ 18.265625 -1.421875 13.375 4.4375 \nQ 8.5 10.296875 8.5 21.578125 \nz\nM 31.109375 56 \nz\n\" id=\"DejaVuSans-117\"/>\n        <path d=\"M 48.78125 52.59375 \nL 48.78125 44.1875 \nQ 44.96875 46.296875 41.140625 47.34375 \nQ 37.3125 48.390625 33.40625 48.390625 \nQ 24.65625 48.390625 19.8125 42.84375 \nQ 14.984375 37.3125 14.984375 27.296875 \nQ 14.984375 17.28125 19.8125 11.734375 \nQ 24.65625 6.203125 33.40625 6.203125 \nQ 37.3125 6.203125 41.140625 7.25 \nQ 44.96875 8.296875 48.78125 10.40625 \nL 48.78125 2.09375 \nQ 45.015625 0.34375 40.984375 -0.53125 \nQ 36.96875 -1.421875 32.421875 -1.421875 \nQ 20.0625 -1.421875 12.78125 6.34375 \nQ 5.515625 14.109375 5.515625 27.296875 \nQ 5.515625 40.671875 12.859375 48.328125 \nQ 20.21875 56 33.015625 56 \nQ 37.15625 56 41.109375 55.140625 \nQ 45.0625 54.296875 48.78125 52.59375 \nz\n\" id=\"DejaVuSans-99\"/>\n        <path d=\"M 44.28125 53.078125 \nL 44.28125 44.578125 \nQ 40.484375 46.53125 36.375 47.5 \nQ 32.28125 48.484375 27.875 48.484375 \nQ 21.1875 48.484375 17.84375 46.4375 \nQ 14.5 44.390625 14.5 40.28125 \nQ 14.5 37.15625 16.890625 35.375 \nQ 19.28125 33.59375 26.515625 31.984375 \nL 29.59375 31.296875 \nQ 39.15625 29.25 43.1875 25.515625 \nQ 47.21875 21.78125 47.21875 15.09375 \nQ 47.21875 7.46875 41.1875 3.015625 \nQ 35.15625 -1.421875 24.609375 -1.421875 \nQ 20.21875 -1.421875 15.453125 -0.5625 \nQ 10.6875 0.296875 5.421875 2 \nL 5.421875 11.28125 \nQ 10.40625 8.6875 15.234375 7.390625 \nQ 20.0625 6.109375 24.8125 6.109375 \nQ 31.15625 6.109375 34.5625 8.28125 \nQ 37.984375 10.453125 37.984375 14.40625 \nQ 37.984375 18.0625 35.515625 20.015625 \nQ 33.0625 21.96875 24.703125 23.78125 \nL 21.578125 24.515625 \nQ 13.234375 26.265625 9.515625 29.90625 \nQ 5.8125 33.546875 5.8125 39.890625 \nQ 5.8125 47.609375 11.28125 51.796875 \nQ 16.75 56 26.8125 56 \nQ 31.78125 56 36.171875 55.265625 \nQ 40.578125 54.546875 44.28125 53.078125 \nz\n\" id=\"DejaVuSans-115\"/>\n        <path d=\"M 9.421875 54.6875 \nL 18.40625 54.6875 \nL 18.40625 0 \nL 9.421875 0 \nz\nM 9.421875 75.984375 \nL 18.40625 75.984375 \nL 18.40625 64.59375 \nL 9.421875 64.59375 \nz\n\" id=\"DejaVuSans-105\"/>\n        <path d=\"M 54.890625 33.015625 \nL 54.890625 0 \nL 45.90625 0 \nL 45.90625 32.71875 \nQ 45.90625 40.484375 42.875 44.328125 \nQ 39.84375 48.1875 33.796875 48.1875 \nQ 26.515625 48.1875 22.3125 43.546875 \nQ 18.109375 38.921875 18.109375 30.90625 \nL 18.109375 0 \nL 9.078125 0 \nL 9.078125 54.6875 \nL 18.109375 54.6875 \nL 18.109375 46.1875 \nQ 21.34375 51.125 25.703125 53.5625 \nQ 30.078125 56 35.796875 56 \nQ 45.21875 56 50.046875 50.171875 \nQ 54.890625 44.34375 54.890625 33.015625 \nz\n\" id=\"DejaVuSans-110\"/>\n       </defs>\n       <use xlink:href=\"#DejaVuSans-67\"/>\n       <use x=\"69.824219\" xlink:href=\"#DejaVuSans-97\"/>\n       <use x=\"131.103516\" xlink:href=\"#DejaVuSans-117\"/>\n       <use x=\"194.482422\" xlink:href=\"#DejaVuSans-99\"/>\n       <use x=\"249.462891\" xlink:href=\"#DejaVuSans-97\"/>\n       <use x=\"310.742188\" xlink:href=\"#DejaVuSans-115\"/>\n       <use x=\"362.841797\" xlink:href=\"#DejaVuSans-105\"/>\n       <use x=\"390.625\" xlink:href=\"#DejaVuSans-97\"/>\n       <use x=\"451.904297\" xlink:href=\"#DejaVuSans-110\"/>\n      </g>\n     </g>\n    </g>\n    <g id=\"xtick_2\">\n     <g id=\"line2d_2\">\n      <g>\n       <use style=\"stroke:#000000;stroke-width:0.8;\" x=\"165.583929\" xlink:href=\"#mdd5309473f\" y=\"279\"/>\n      </g>\n     </g>\n     <g id=\"text_2\">\n      <!-- African American -->\n      <g transform=\"translate(122.775335 293.598437)scale(0.1 -0.1)\">\n       <defs>\n        <path d=\"M 34.1875 63.1875 \nL 20.796875 26.90625 \nL 47.609375 26.90625 \nz\nM 28.609375 72.90625 \nL 39.796875 72.90625 \nL 67.578125 0 \nL 57.328125 0 \nL 50.6875 18.703125 \nL 17.828125 18.703125 \nL 11.1875 0 \nL 0.78125 0 \nz\n\" id=\"DejaVuSans-65\"/>\n        <path d=\"M 37.109375 75.984375 \nL 37.109375 68.5 \nL 28.515625 68.5 \nQ 23.6875 68.5 21.796875 66.546875 \nQ 19.921875 64.59375 19.921875 59.515625 \nL 19.921875 54.6875 \nL 34.71875 54.6875 \nL 34.71875 47.703125 \nL 19.921875 47.703125 \nL 19.921875 0 \nL 10.890625 0 \nL 10.890625 47.703125 \nL 2.296875 47.703125 \nL 2.296875 54.6875 \nL 10.890625 54.6875 \nL 10.890625 58.5 \nQ 10.890625 67.625 15.140625 71.796875 \nQ 19.390625 75.984375 28.609375 75.984375 \nz\n\" id=\"DejaVuSans-102\"/>\n        <path d=\"M 41.109375 46.296875 \nQ 39.59375 47.171875 37.8125 47.578125 \nQ 36.03125 48 33.890625 48 \nQ 26.265625 48 22.1875 43.046875 \nQ 18.109375 38.09375 18.109375 28.8125 \nL 18.109375 0 \nL 9.078125 0 \nL 9.078125 54.6875 \nL 18.109375 54.6875 \nL 18.109375 46.1875 \nQ 20.953125 51.171875 25.484375 53.578125 \nQ 30.03125 56 36.53125 56 \nQ 37.453125 56 38.578125 55.875 \nQ 39.703125 55.765625 41.0625 55.515625 \nz\n\" id=\"DejaVuSans-114\"/>\n        <path id=\"DejaVuSans-32\"/>\n        <path d=\"M 52 44.1875 \nQ 55.375 50.25 60.0625 53.125 \nQ 64.75 56 71.09375 56 \nQ 79.640625 56 84.28125 50.015625 \nQ 88.921875 44.046875 88.921875 33.015625 \nL 88.921875 0 \nL 79.890625 0 \nL 79.890625 32.71875 \nQ 79.890625 40.578125 77.09375 44.375 \nQ 74.3125 48.1875 68.609375 48.1875 \nQ 61.625 48.1875 57.5625 43.546875 \nQ 53.515625 38.921875 53.515625 30.90625 \nL 53.515625 0 \nL 44.484375 0 \nL 44.484375 32.71875 \nQ 44.484375 40.625 41.703125 44.40625 \nQ 38.921875 48.1875 33.109375 48.1875 \nQ 26.21875 48.1875 22.15625 43.53125 \nQ 18.109375 38.875 18.109375 30.90625 \nL 18.109375 0 \nL 9.078125 0 \nL 9.078125 54.6875 \nL 18.109375 54.6875 \nL 18.109375 46.1875 \nQ 21.1875 51.21875 25.484375 53.609375 \nQ 29.78125 56 35.6875 56 \nQ 41.65625 56 45.828125 52.96875 \nQ 50 49.953125 52 44.1875 \nz\n\" id=\"DejaVuSans-109\"/>\n        <path d=\"M 56.203125 29.59375 \nL 56.203125 25.203125 \nL 14.890625 25.203125 \nQ 15.484375 15.921875 20.484375 11.0625 \nQ 25.484375 6.203125 34.421875 6.203125 \nQ 39.59375 6.203125 44.453125 7.46875 \nQ 49.3125 8.734375 54.109375 11.28125 \nL 54.109375 2.78125 \nQ 49.265625 0.734375 44.1875 -0.34375 \nQ 39.109375 -1.421875 33.890625 -1.421875 \nQ 20.796875 -1.421875 13.15625 6.1875 \nQ 5.515625 13.8125 5.515625 26.8125 \nQ 5.515625 40.234375 12.765625 48.109375 \nQ 20.015625 56 32.328125 56 \nQ 43.359375 56 49.78125 48.890625 \nQ 56.203125 41.796875 56.203125 29.59375 \nz\nM 47.21875 32.234375 \nQ 47.125 39.59375 43.09375 43.984375 \nQ 39.0625 48.390625 32.421875 48.390625 \nQ 24.90625 48.390625 20.390625 44.140625 \nQ 15.875 39.890625 15.1875 32.171875 \nz\n\" id=\"DejaVuSans-101\"/>\n       </defs>\n       <use xlink:href=\"#DejaVuSans-65\"/>\n       <use x=\"64.783203\" xlink:href=\"#DejaVuSans-102\"/>\n       <use x=\"99.988281\" xlink:href=\"#DejaVuSans-114\"/>\n       <use x=\"141.101562\" xlink:href=\"#DejaVuSans-105\"/>\n       <use x=\"168.884766\" xlink:href=\"#DejaVuSans-99\"/>\n       <use x=\"223.865234\" xlink:href=\"#DejaVuSans-97\"/>\n       <use x=\"285.144531\" xlink:href=\"#DejaVuSans-110\"/>\n       <use x=\"348.523438\" xlink:href=\"#DejaVuSans-32\"/>\n       <use x=\"380.310547\" xlink:href=\"#DejaVuSans-65\"/>\n       <use x=\"448.71875\" xlink:href=\"#DejaVuSans-109\"/>\n       <use x=\"546.130859\" xlink:href=\"#DejaVuSans-101\"/>\n       <use x=\"607.654297\" xlink:href=\"#DejaVuSans-114\"/>\n       <use x=\"648.767578\" xlink:href=\"#DejaVuSans-105\"/>\n       <use x=\"676.550781\" xlink:href=\"#DejaVuSans-99\"/>\n       <use x=\"731.53125\" xlink:href=\"#DejaVuSans-97\"/>\n       <use x=\"792.810547\" xlink:href=\"#DejaVuSans-110\"/>\n      </g>\n     </g>\n    </g>\n    <g id=\"xtick_3\">\n     <g id=\"line2d_3\">\n      <g>\n       <use style=\"stroke:#000000;stroke-width:0.8;\" x=\"245.298214\" xlink:href=\"#mdd5309473f\" y=\"279\"/>\n      </g>\n     </g>\n     <g id=\"text_3\">\n      <!-- Other/Unknown -->\n      <g transform=\"translate(206.207589 293.598437)scale(0.1 -0.1)\">\n       <defs>\n        <path d=\"M 39.40625 66.21875 \nQ 28.65625 66.21875 22.328125 58.203125 \nQ 16.015625 50.203125 16.015625 36.375 \nQ 16.015625 22.609375 22.328125 14.59375 \nQ 28.65625 6.59375 39.40625 6.59375 \nQ 50.140625 6.59375 56.421875 14.59375 \nQ 62.703125 22.609375 62.703125 36.375 \nQ 62.703125 50.203125 56.421875 58.203125 \nQ 50.140625 66.21875 39.40625 66.21875 \nz\nM 39.40625 74.21875 \nQ 54.734375 74.21875 63.90625 63.9375 \nQ 73.09375 53.65625 73.09375 36.375 \nQ 73.09375 19.140625 63.90625 8.859375 \nQ 54.734375 -1.421875 39.40625 -1.421875 \nQ 24.03125 -1.421875 14.8125 8.828125 \nQ 5.609375 19.09375 5.609375 36.375 \nQ 5.609375 53.65625 14.8125 63.9375 \nQ 24.03125 74.21875 39.40625 74.21875 \nz\n\" id=\"DejaVuSans-79\"/>\n        <path d=\"M 18.3125 70.21875 \nL 18.3125 54.6875 \nL 36.8125 54.6875 \nL 36.8125 47.703125 \nL 18.3125 47.703125 \nL 18.3125 18.015625 \nQ 18.3125 11.328125 20.140625 9.421875 \nQ 21.96875 7.515625 27.59375 7.515625 \nL 36.8125 7.515625 \nL 36.8125 0 \nL 27.59375 0 \nQ 17.1875 0 13.234375 3.875 \nQ 9.28125 7.765625 9.28125 18.015625 \nL 9.28125 47.703125 \nL 2.6875 47.703125 \nL 2.6875 54.6875 \nL 9.28125 54.6875 \nL 9.28125 70.21875 \nz\n\" id=\"DejaVuSans-116\"/>\n        <path d=\"M 54.890625 33.015625 \nL 54.890625 0 \nL 45.90625 0 \nL 45.90625 32.71875 \nQ 45.90625 40.484375 42.875 44.328125 \nQ 39.84375 48.1875 33.796875 48.1875 \nQ 26.515625 48.1875 22.3125 43.546875 \nQ 18.109375 38.921875 18.109375 30.90625 \nL 18.109375 0 \nL 9.078125 0 \nL 9.078125 75.984375 \nL 18.109375 75.984375 \nL 18.109375 46.1875 \nQ 21.34375 51.125 25.703125 53.5625 \nQ 30.078125 56 35.796875 56 \nQ 45.21875 56 50.046875 50.171875 \nQ 54.890625 44.34375 54.890625 33.015625 \nz\n\" id=\"DejaVuSans-104\"/>\n        <path d=\"M 25.390625 72.90625 \nL 33.6875 72.90625 \nL 8.296875 -9.28125 \nL 0 -9.28125 \nz\n\" id=\"DejaVuSans-47\"/>\n        <path d=\"M 8.6875 72.90625 \nL 18.609375 72.90625 \nL 18.609375 28.609375 \nQ 18.609375 16.890625 22.84375 11.734375 \nQ 27.09375 6.59375 36.625 6.59375 \nQ 46.09375 6.59375 50.34375 11.734375 \nQ 54.59375 16.890625 54.59375 28.609375 \nL 54.59375 72.90625 \nL 64.5 72.90625 \nL 64.5 27.390625 \nQ 64.5 13.140625 57.4375 5.859375 \nQ 50.390625 -1.421875 36.625 -1.421875 \nQ 22.796875 -1.421875 15.734375 5.859375 \nQ 8.6875 13.140625 8.6875 27.390625 \nz\n\" id=\"DejaVuSans-85\"/>\n        <path d=\"M 9.078125 75.984375 \nL 18.109375 75.984375 \nL 18.109375 31.109375 \nL 44.921875 54.6875 \nL 56.390625 54.6875 \nL 27.390625 29.109375 \nL 57.625 0 \nL 45.90625 0 \nL 18.109375 26.703125 \nL 18.109375 0 \nL 9.078125 0 \nz\n\" id=\"DejaVuSans-107\"/>\n        <path d=\"M 30.609375 48.390625 \nQ 23.390625 48.390625 19.1875 42.75 \nQ 14.984375 37.109375 14.984375 27.296875 \nQ 14.984375 17.484375 19.15625 11.84375 \nQ 23.34375 6.203125 30.609375 6.203125 \nQ 37.796875 6.203125 41.984375 11.859375 \nQ 46.1875 17.53125 46.1875 27.296875 \nQ 46.1875 37.015625 41.984375 42.703125 \nQ 37.796875 48.390625 30.609375 48.390625 \nz\nM 30.609375 56 \nQ 42.328125 56 49.015625 48.375 \nQ 55.71875 40.765625 55.71875 27.296875 \nQ 55.71875 13.875 49.015625 6.21875 \nQ 42.328125 -1.421875 30.609375 -1.421875 \nQ 18.84375 -1.421875 12.171875 6.21875 \nQ 5.515625 13.875 5.515625 27.296875 \nQ 5.515625 40.765625 12.171875 48.375 \nQ 18.84375 56 30.609375 56 \nz\n\" id=\"DejaVuSans-111\"/>\n        <path d=\"M 4.203125 54.6875 \nL 13.1875 54.6875 \nL 24.421875 12.015625 \nL 35.59375 54.6875 \nL 46.1875 54.6875 \nL 57.421875 12.015625 \nL 68.609375 54.6875 \nL 77.59375 54.6875 \nL 63.28125 0 \nL 52.6875 0 \nL 40.921875 44.828125 \nL 29.109375 0 \nL 18.5 0 \nz\n\" id=\"DejaVuSans-119\"/>\n       </defs>\n       <use xlink:href=\"#DejaVuSans-79\"/>\n       <use x=\"78.710938\" xlink:href=\"#DejaVuSans-116\"/>\n       <use x=\"117.919922\" xlink:href=\"#DejaVuSans-104\"/>\n       <use x=\"181.298828\" xlink:href=\"#DejaVuSans-101\"/>\n       <use x=\"242.822266\" xlink:href=\"#DejaVuSans-114\"/>\n       <use x=\"283.935547\" xlink:href=\"#DejaVuSans-47\"/>\n       <use x=\"317.626953\" xlink:href=\"#DejaVuSans-85\"/>\n       <use x=\"390.820312\" xlink:href=\"#DejaVuSans-110\"/>\n       <use x=\"454.199219\" xlink:href=\"#DejaVuSans-107\"/>\n       <use x=\"512.109375\" xlink:href=\"#DejaVuSans-110\"/>\n       <use x=\"575.488281\" xlink:href=\"#DejaVuSans-111\"/>\n       <use x=\"636.669922\" xlink:href=\"#DejaVuSans-119\"/>\n       <use x=\"718.457031\" xlink:href=\"#DejaVuSans-110\"/>\n      </g>\n     </g>\n    </g>\n    <g id=\"xtick_4\">\n     <g id=\"line2d_4\">\n      <g>\n       <use style=\"stroke:#000000;stroke-width:0.8;\" x=\"325.0125\" xlink:href=\"#mdd5309473f\" y=\"279\"/>\n      </g>\n     </g>\n     <g id=\"text_4\">\n      <!-- Hispanic -->\n      <g transform=\"translate(303.713281 293.598437)scale(0.1 -0.1)\">\n       <defs>\n        <path d=\"M 9.8125 72.90625 \nL 19.671875 72.90625 \nL 19.671875 43.015625 \nL 55.515625 43.015625 \nL 55.515625 72.90625 \nL 65.375 72.90625 \nL 65.375 0 \nL 55.515625 0 \nL 55.515625 34.71875 \nL 19.671875 34.71875 \nL 19.671875 0 \nL 9.8125 0 \nz\n\" id=\"DejaVuSans-72\"/>\n        <path d=\"M 18.109375 8.203125 \nL 18.109375 -20.796875 \nL 9.078125 -20.796875 \nL 9.078125 54.6875 \nL 18.109375 54.6875 \nL 18.109375 46.390625 \nQ 20.953125 51.265625 25.265625 53.625 \nQ 29.59375 56 35.59375 56 \nQ 45.5625 56 51.78125 48.09375 \nQ 58.015625 40.1875 58.015625 27.296875 \nQ 58.015625 14.40625 51.78125 6.484375 \nQ 45.5625 -1.421875 35.59375 -1.421875 \nQ 29.59375 -1.421875 25.265625 0.953125 \nQ 20.953125 3.328125 18.109375 8.203125 \nz\nM 48.6875 27.296875 \nQ 48.6875 37.203125 44.609375 42.84375 \nQ 40.53125 48.484375 33.40625 48.484375 \nQ 26.265625 48.484375 22.1875 42.84375 \nQ 18.109375 37.203125 18.109375 27.296875 \nQ 18.109375 17.390625 22.1875 11.75 \nQ 26.265625 6.109375 33.40625 6.109375 \nQ 40.53125 6.109375 44.609375 11.75 \nQ 48.6875 17.390625 48.6875 27.296875 \nz\n\" id=\"DejaVuSans-112\"/>\n       </defs>\n       <use xlink:href=\"#DejaVuSans-72\"/>\n       <use x=\"75.195312\" xlink:href=\"#DejaVuSans-105\"/>\n       <use x=\"102.978516\" xlink:href=\"#DejaVuSans-115\"/>\n       <use x=\"155.078125\" xlink:href=\"#DejaVuSans-112\"/>\n       <use x=\"218.554688\" xlink:href=\"#DejaVuSans-97\"/>\n       <use x=\"279.833984\" xlink:href=\"#DejaVuSans-110\"/>\n       <use x=\"343.212891\" xlink:href=\"#DejaVuSans-105\"/>\n       <use x=\"370.996094\" xlink:href=\"#DejaVuSans-99\"/>\n      </g>\n     </g>\n    </g>\n    <g id=\"xtick_5\">\n     <g id=\"line2d_5\">\n      <g>\n       <use style=\"stroke:#000000;stroke-width:0.8;\" x=\"404.726786\" xlink:href=\"#mdd5309473f\" y=\"279\"/>\n      </g>\n     </g>\n     <g id=\"text_5\">\n      <!-- Asian -->\n      <g transform=\"translate(391.079911 293.598437)scale(0.1 -0.1)\">\n       <use xlink:href=\"#DejaVuSans-65\"/>\n       <use x=\"68.408203\" xlink:href=\"#DejaVuSans-115\"/>\n       <use x=\"120.507812\" xlink:href=\"#DejaVuSans-105\"/>\n       <use x=\"148.291016\" xlink:href=\"#DejaVuSans-97\"/>\n       <use x=\"209.570312\" xlink:href=\"#DejaVuSans-110\"/>\n      </g>\n     </g>\n    </g>\n    <g id=\"xtick_6\">\n     <g id=\"line2d_6\">\n      <g>\n       <use style=\"stroke:#000000;stroke-width:0.8;\" x=\"484.441071\" xlink:href=\"#mdd5309473f\" y=\"279\"/>\n      </g>\n     </g>\n     <g id=\"text_6\">\n      <!-- Native American -->\n      <g transform=\"translate(442.868415 293.598437)scale(0.1 -0.1)\">\n       <defs>\n        <path d=\"M 9.8125 72.90625 \nL 23.09375 72.90625 \nL 55.421875 11.921875 \nL 55.421875 72.90625 \nL 64.984375 72.90625 \nL 64.984375 0 \nL 51.703125 0 \nL 19.390625 60.984375 \nL 19.390625 0 \nL 9.8125 0 \nz\n\" id=\"DejaVuSans-78\"/>\n        <path d=\"M 2.984375 54.6875 \nL 12.5 54.6875 \nL 29.59375 8.796875 \nL 46.6875 54.6875 \nL 56.203125 54.6875 \nL 35.6875 0 \nL 23.484375 0 \nz\n\" id=\"DejaVuSans-118\"/>\n       </defs>\n       <use xlink:href=\"#DejaVuSans-78\"/>\n       <use x=\"74.804688\" xlink:href=\"#DejaVuSans-97\"/>\n       <use x=\"136.083984\" xlink:href=\"#DejaVuSans-116\"/>\n       <use x=\"175.292969\" xlink:href=\"#DejaVuSans-105\"/>\n       <use x=\"203.076172\" xlink:href=\"#DejaVuSans-118\"/>\n       <use x=\"262.255859\" xlink:href=\"#DejaVuSans-101\"/>\n       <use x=\"323.779297\" xlink:href=\"#DejaVuSans-32\"/>\n       <use x=\"355.566406\" xlink:href=\"#DejaVuSans-65\"/>\n       <use x=\"423.974609\" xlink:href=\"#DejaVuSans-109\"/>\n       <use x=\"521.386719\" xlink:href=\"#DejaVuSans-101\"/>\n       <use x=\"582.910156\" xlink:href=\"#DejaVuSans-114\"/>\n       <use x=\"624.023438\" xlink:href=\"#DejaVuSans-105\"/>\n       <use x=\"651.806641\" xlink:href=\"#DejaVuSans-99\"/>\n       <use x=\"706.787109\" xlink:href=\"#DejaVuSans-97\"/>\n       <use x=\"768.066406\" xlink:href=\"#DejaVuSans-110\"/>\n      </g>\n     </g>\n    </g>\n    <g id=\"xtick_7\">\n     <g id=\"line2d_7\">\n      <g>\n       <use style=\"stroke:#000000;stroke-width:0.8;\" x=\"564.155357\" xlink:href=\"#mdd5309473f\" y=\"279\"/>\n      </g>\n     </g>\n     <g id=\"text_7\">\n      <!-- null -->\n      <g transform=\"translate(555.039732 293.598437)scale(0.1 -0.1)\">\n       <defs>\n        <path d=\"M 9.421875 75.984375 \nL 18.40625 75.984375 \nL 18.40625 0 \nL 9.421875 0 \nz\n\" id=\"DejaVuSans-108\"/>\n       </defs>\n       <use xlink:href=\"#DejaVuSans-110\"/>\n       <use x=\"63.378906\" xlink:href=\"#DejaVuSans-117\"/>\n       <use x=\"126.757812\" xlink:href=\"#DejaVuSans-108\"/>\n       <use x=\"154.541016\" xlink:href=\"#DejaVuSans-108\"/>\n      </g>\n     </g>\n    </g>\n    <g id=\"text_8\">\n     <!-- ethnicity -->\n     <g transform=\"translate(303.191406 307.276562)scale(0.1 -0.1)\">\n      <defs>\n       <path d=\"M 32.171875 -5.078125 \nQ 28.375 -14.84375 24.75 -17.8125 \nQ 21.140625 -20.796875 15.09375 -20.796875 \nL 7.90625 -20.796875 \nL 7.90625 -13.28125 \nL 13.1875 -13.28125 \nQ 16.890625 -13.28125 18.9375 -11.515625 \nQ 21 -9.765625 23.484375 -3.21875 \nL 25.09375 0.875 \nL 2.984375 54.6875 \nL 12.5 54.6875 \nL 29.59375 11.921875 \nL 46.6875 54.6875 \nL 56.203125 54.6875 \nz\n\" id=\"DejaVuSans-121\"/>\n      </defs>\n      <use xlink:href=\"#DejaVuSans-101\"/>\n      <use x=\"61.523438\" xlink:href=\"#DejaVuSans-116\"/>\n      <use x=\"100.732422\" xlink:href=\"#DejaVuSans-104\"/>\n      <use x=\"164.111328\" xlink:href=\"#DejaVuSans-110\"/>\n      <use x=\"227.490234\" xlink:href=\"#DejaVuSans-105\"/>\n      <use x=\"255.273438\" xlink:href=\"#DejaVuSans-99\"/>\n      <use x=\"310.253906\" xlink:href=\"#DejaVuSans-105\"/>\n      <use x=\"338.037109\" xlink:href=\"#DejaVuSans-116\"/>\n      <use x=\"377.246094\" xlink:href=\"#DejaVuSans-121\"/>\n     </g>\n    </g>\n   </g>\n   <g id=\"matplotlib.axis_2\">\n    <g id=\"ytick_1\">\n     <g id=\"line2d_8\">\n      <defs>\n       <path d=\"M 0 0 \nL -3.5 0 \n\" id=\"m54fe6653fe\" style=\"stroke:#000000;stroke-width:0.8;\"/>\n      </defs>\n      <g>\n       <use style=\"stroke:#000000;stroke-width:0.8;\" x=\"46.0125\" xlink:href=\"#m54fe6653fe\" y=\"279\"/>\n      </g>\n     </g>\n     <g id=\"text_9\">\n      <!-- 0 -->\n      <g transform=\"translate(32.65 282.799219)scale(0.1 -0.1)\">\n       <defs>\n        <path d=\"M 31.78125 66.40625 \nQ 24.171875 66.40625 20.328125 58.90625 \nQ 16.5 51.421875 16.5 36.375 \nQ 16.5 21.390625 20.328125 13.890625 \nQ 24.171875 6.390625 31.78125 6.390625 \nQ 39.453125 6.390625 43.28125 13.890625 \nQ 47.125 21.390625 47.125 36.375 \nQ 47.125 51.421875 43.28125 58.90625 \nQ 39.453125 66.40625 31.78125 66.40625 \nz\nM 31.78125 74.21875 \nQ 44.046875 74.21875 50.515625 64.515625 \nQ 56.984375 54.828125 56.984375 36.375 \nQ 56.984375 17.96875 50.515625 8.265625 \nQ 44.046875 -1.421875 31.78125 -1.421875 \nQ 19.53125 -1.421875 13.0625 8.265625 \nQ 6.59375 17.96875 6.59375 36.375 \nQ 6.59375 54.828125 13.0625 64.515625 \nQ 19.53125 74.21875 31.78125 74.21875 \nz\n\" id=\"DejaVuSans-48\"/>\n       </defs>\n       <use xlink:href=\"#DejaVuSans-48\"/>\n      </g>\n     </g>\n    </g>\n    <g id=\"ytick_2\">\n     <g id=\"line2d_9\">\n      <g>\n       <use style=\"stroke:#000000;stroke-width:0.8;\" x=\"46.0125\" xlink:href=\"#m54fe6653fe\" y=\"246.492918\"/>\n      </g>\n     </g>\n     <g id=\"text_10\">\n      <!-- 10000 -->\n      <g transform=\"translate(7.2 250.292137)scale(0.1 -0.1)\">\n       <defs>\n        <path d=\"M 12.40625 8.296875 \nL 28.515625 8.296875 \nL 28.515625 63.921875 \nL 10.984375 60.40625 \nL 10.984375 69.390625 \nL 28.421875 72.90625 \nL 38.28125 72.90625 \nL 38.28125 8.296875 \nL 54.390625 8.296875 \nL 54.390625 0 \nL 12.40625 0 \nz\n\" id=\"DejaVuSans-49\"/>\n       </defs>\n       <use xlink:href=\"#DejaVuSans-49\"/>\n       <use x=\"63.623047\" xlink:href=\"#DejaVuSans-48\"/>\n       <use x=\"127.246094\" xlink:href=\"#DejaVuSans-48\"/>\n       <use x=\"190.869141\" xlink:href=\"#DejaVuSans-48\"/>\n       <use x=\"254.492188\" xlink:href=\"#DejaVuSans-48\"/>\n      </g>\n     </g>\n    </g>\n    <g id=\"ytick_3\">\n     <g id=\"line2d_10\">\n      <g>\n       <use style=\"stroke:#000000;stroke-width:0.8;\" x=\"46.0125\" xlink:href=\"#m54fe6653fe\" y=\"213.985836\"/>\n      </g>\n     </g>\n     <g id=\"text_11\">\n      <!-- 20000 -->\n      <g transform=\"translate(7.2 217.785055)scale(0.1 -0.1)\">\n       <defs>\n        <path d=\"M 19.1875 8.296875 \nL 53.609375 8.296875 \nL 53.609375 0 \nL 7.328125 0 \nL 7.328125 8.296875 \nQ 12.9375 14.109375 22.625 23.890625 \nQ 32.328125 33.6875 34.8125 36.53125 \nQ 39.546875 41.84375 41.421875 45.53125 \nQ 43.3125 49.21875 43.3125 52.78125 \nQ 43.3125 58.59375 39.234375 62.25 \nQ 35.15625 65.921875 28.609375 65.921875 \nQ 23.96875 65.921875 18.8125 64.3125 \nQ 13.671875 62.703125 7.8125 59.421875 \nL 7.8125 69.390625 \nQ 13.765625 71.78125 18.9375 73 \nQ 24.125 74.21875 28.421875 74.21875 \nQ 39.75 74.21875 46.484375 68.546875 \nQ 53.21875 62.890625 53.21875 53.421875 \nQ 53.21875 48.921875 51.53125 44.890625 \nQ 49.859375 40.875 45.40625 35.40625 \nQ 44.1875 33.984375 37.640625 27.21875 \nQ 31.109375 20.453125 19.1875 8.296875 \nz\n\" id=\"DejaVuSans-50\"/>\n       </defs>\n       <use xlink:href=\"#DejaVuSans-50\"/>\n       <use x=\"63.623047\" xlink:href=\"#DejaVuSans-48\"/>\n       <use x=\"127.246094\" xlink:href=\"#DejaVuSans-48\"/>\n       <use x=\"190.869141\" xlink:href=\"#DejaVuSans-48\"/>\n       <use x=\"254.492188\" xlink:href=\"#DejaVuSans-48\"/>\n      </g>\n     </g>\n    </g>\n    <g id=\"ytick_4\">\n     <g id=\"line2d_11\">\n      <g>\n       <use style=\"stroke:#000000;stroke-width:0.8;\" x=\"46.0125\" xlink:href=\"#m54fe6653fe\" y=\"181.478755\"/>\n      </g>\n     </g>\n     <g id=\"text_12\">\n      <!-- 30000 -->\n      <g transform=\"translate(7.2 185.277973)scale(0.1 -0.1)\">\n       <defs>\n        <path d=\"M 40.578125 39.3125 \nQ 47.65625 37.796875 51.625 33 \nQ 55.609375 28.21875 55.609375 21.1875 \nQ 55.609375 10.40625 48.1875 4.484375 \nQ 40.765625 -1.421875 27.09375 -1.421875 \nQ 22.515625 -1.421875 17.65625 -0.515625 \nQ 12.796875 0.390625 7.625 2.203125 \nL 7.625 11.71875 \nQ 11.71875 9.328125 16.59375 8.109375 \nQ 21.484375 6.890625 26.8125 6.890625 \nQ 36.078125 6.890625 40.9375 10.546875 \nQ 45.796875 14.203125 45.796875 21.1875 \nQ 45.796875 27.640625 41.28125 31.265625 \nQ 36.765625 34.90625 28.71875 34.90625 \nL 20.21875 34.90625 \nL 20.21875 43.015625 \nL 29.109375 43.015625 \nQ 36.375 43.015625 40.234375 45.921875 \nQ 44.09375 48.828125 44.09375 54.296875 \nQ 44.09375 59.90625 40.109375 62.90625 \nQ 36.140625 65.921875 28.71875 65.921875 \nQ 24.65625 65.921875 20.015625 65.03125 \nQ 15.375 64.15625 9.8125 62.3125 \nL 9.8125 71.09375 \nQ 15.4375 72.65625 20.34375 73.4375 \nQ 25.25 74.21875 29.59375 74.21875 \nQ 40.828125 74.21875 47.359375 69.109375 \nQ 53.90625 64.015625 53.90625 55.328125 \nQ 53.90625 49.265625 50.4375 45.09375 \nQ 46.96875 40.921875 40.578125 39.3125 \nz\n\" id=\"DejaVuSans-51\"/>\n       </defs>\n       <use xlink:href=\"#DejaVuSans-51\"/>\n       <use x=\"63.623047\" xlink:href=\"#DejaVuSans-48\"/>\n       <use x=\"127.246094\" xlink:href=\"#DejaVuSans-48\"/>\n       <use x=\"190.869141\" xlink:href=\"#DejaVuSans-48\"/>\n       <use x=\"254.492188\" xlink:href=\"#DejaVuSans-48\"/>\n      </g>\n     </g>\n    </g>\n    <g id=\"ytick_5\">\n     <g id=\"line2d_12\">\n      <g>\n       <use style=\"stroke:#000000;stroke-width:0.8;\" x=\"46.0125\" xlink:href=\"#m54fe6653fe\" y=\"148.971673\"/>\n      </g>\n     </g>\n     <g id=\"text_13\">\n      <!-- 40000 -->\n      <g transform=\"translate(7.2 152.770892)scale(0.1 -0.1)\">\n       <defs>\n        <path d=\"M 37.796875 64.3125 \nL 12.890625 25.390625 \nL 37.796875 25.390625 \nz\nM 35.203125 72.90625 \nL 47.609375 72.90625 \nL 47.609375 25.390625 \nL 58.015625 25.390625 \nL 58.015625 17.1875 \nL 47.609375 17.1875 \nL 47.609375 0 \nL 37.796875 0 \nL 37.796875 17.1875 \nL 4.890625 17.1875 \nL 4.890625 26.703125 \nz\n\" id=\"DejaVuSans-52\"/>\n       </defs>\n       <use xlink:href=\"#DejaVuSans-52\"/>\n       <use x=\"63.623047\" xlink:href=\"#DejaVuSans-48\"/>\n       <use x=\"127.246094\" xlink:href=\"#DejaVuSans-48\"/>\n       <use x=\"190.869141\" xlink:href=\"#DejaVuSans-48\"/>\n       <use x=\"254.492188\" xlink:href=\"#DejaVuSans-48\"/>\n      </g>\n     </g>\n    </g>\n    <g id=\"ytick_6\">\n     <g id=\"line2d_13\">\n      <g>\n       <use style=\"stroke:#000000;stroke-width:0.8;\" x=\"46.0125\" xlink:href=\"#m54fe6653fe\" y=\"116.464591\"/>\n      </g>\n     </g>\n     <g id=\"text_14\">\n      <!-- 50000 -->\n      <g transform=\"translate(7.2 120.26381)scale(0.1 -0.1)\">\n       <defs>\n        <path d=\"M 10.796875 72.90625 \nL 49.515625 72.90625 \nL 49.515625 64.59375 \nL 19.828125 64.59375 \nL 19.828125 46.734375 \nQ 21.96875 47.46875 24.109375 47.828125 \nQ 26.265625 48.1875 28.421875 48.1875 \nQ 40.625 48.1875 47.75 41.5 \nQ 54.890625 34.8125 54.890625 23.390625 \nQ 54.890625 11.625 47.5625 5.09375 \nQ 40.234375 -1.421875 26.90625 -1.421875 \nQ 22.3125 -1.421875 17.546875 -0.640625 \nQ 12.796875 0.140625 7.71875 1.703125 \nL 7.71875 11.625 \nQ 12.109375 9.234375 16.796875 8.0625 \nQ 21.484375 6.890625 26.703125 6.890625 \nQ 35.15625 6.890625 40.078125 11.328125 \nQ 45.015625 15.765625 45.015625 23.390625 \nQ 45.015625 31 40.078125 35.4375 \nQ 35.15625 39.890625 26.703125 39.890625 \nQ 22.75 39.890625 18.8125 39.015625 \nQ 14.890625 38.140625 10.796875 36.28125 \nz\n\" id=\"DejaVuSans-53\"/>\n       </defs>\n       <use xlink:href=\"#DejaVuSans-53\"/>\n       <use x=\"63.623047\" xlink:href=\"#DejaVuSans-48\"/>\n       <use x=\"127.246094\" xlink:href=\"#DejaVuSans-48\"/>\n       <use x=\"190.869141\" xlink:href=\"#DejaVuSans-48\"/>\n       <use x=\"254.492188\" xlink:href=\"#DejaVuSans-48\"/>\n      </g>\n     </g>\n    </g>\n    <g id=\"ytick_7\">\n     <g id=\"line2d_14\">\n      <g>\n       <use style=\"stroke:#000000;stroke-width:0.8;\" x=\"46.0125\" xlink:href=\"#m54fe6653fe\" y=\"83.957509\"/>\n      </g>\n     </g>\n     <g id=\"text_15\">\n      <!-- 60000 -->\n      <g transform=\"translate(7.2 87.756728)scale(0.1 -0.1)\">\n       <defs>\n        <path d=\"M 33.015625 40.375 \nQ 26.375 40.375 22.484375 35.828125 \nQ 18.609375 31.296875 18.609375 23.390625 \nQ 18.609375 15.53125 22.484375 10.953125 \nQ 26.375 6.390625 33.015625 6.390625 \nQ 39.65625 6.390625 43.53125 10.953125 \nQ 47.40625 15.53125 47.40625 23.390625 \nQ 47.40625 31.296875 43.53125 35.828125 \nQ 39.65625 40.375 33.015625 40.375 \nz\nM 52.59375 71.296875 \nL 52.59375 62.3125 \nQ 48.875 64.0625 45.09375 64.984375 \nQ 41.3125 65.921875 37.59375 65.921875 \nQ 27.828125 65.921875 22.671875 59.328125 \nQ 17.53125 52.734375 16.796875 39.40625 \nQ 19.671875 43.65625 24.015625 45.921875 \nQ 28.375 48.1875 33.59375 48.1875 \nQ 44.578125 48.1875 50.953125 41.515625 \nQ 57.328125 34.859375 57.328125 23.390625 \nQ 57.328125 12.15625 50.6875 5.359375 \nQ 44.046875 -1.421875 33.015625 -1.421875 \nQ 20.359375 -1.421875 13.671875 8.265625 \nQ 6.984375 17.96875 6.984375 36.375 \nQ 6.984375 53.65625 15.1875 63.9375 \nQ 23.390625 74.21875 37.203125 74.21875 \nQ 40.921875 74.21875 44.703125 73.484375 \nQ 48.484375 72.75 52.59375 71.296875 \nz\n\" id=\"DejaVuSans-54\"/>\n       </defs>\n       <use xlink:href=\"#DejaVuSans-54\"/>\n       <use x=\"63.623047\" xlink:href=\"#DejaVuSans-48\"/>\n       <use x=\"127.246094\" xlink:href=\"#DejaVuSans-48\"/>\n       <use x=\"190.869141\" xlink:href=\"#DejaVuSans-48\"/>\n       <use x=\"254.492188\" xlink:href=\"#DejaVuSans-48\"/>\n      </g>\n     </g>\n    </g>\n    <g id=\"ytick_8\">\n     <g id=\"line2d_15\">\n      <g>\n       <use style=\"stroke:#000000;stroke-width:0.8;\" x=\"46.0125\" xlink:href=\"#m54fe6653fe\" y=\"51.450428\"/>\n      </g>\n     </g>\n     <g id=\"text_16\">\n      <!-- 70000 -->\n      <g transform=\"translate(7.2 55.249646)scale(0.1 -0.1)\">\n       <defs>\n        <path d=\"M 8.203125 72.90625 \nL 55.078125 72.90625 \nL 55.078125 68.703125 \nL 28.609375 0 \nL 18.3125 0 \nL 43.21875 64.59375 \nL 8.203125 64.59375 \nz\n\" id=\"DejaVuSans-55\"/>\n       </defs>\n       <use xlink:href=\"#DejaVuSans-55\"/>\n       <use x=\"63.623047\" xlink:href=\"#DejaVuSans-48\"/>\n       <use x=\"127.246094\" xlink:href=\"#DejaVuSans-48\"/>\n       <use x=\"190.869141\" xlink:href=\"#DejaVuSans-48\"/>\n       <use x=\"254.492188\" xlink:href=\"#DejaVuSans-48\"/>\n      </g>\n     </g>\n    </g>\n    <g id=\"ytick_9\">\n     <g id=\"line2d_16\">\n      <g>\n       <use style=\"stroke:#000000;stroke-width:0.8;\" x=\"46.0125\" xlink:href=\"#m54fe6653fe\" y=\"18.943346\"/>\n      </g>\n     </g>\n     <g id=\"text_17\">\n      <!-- 80000 -->\n      <g transform=\"translate(7.2 22.742565)scale(0.1 -0.1)\">\n       <defs>\n        <path d=\"M 31.78125 34.625 \nQ 24.75 34.625 20.71875 30.859375 \nQ 16.703125 27.09375 16.703125 20.515625 \nQ 16.703125 13.921875 20.71875 10.15625 \nQ 24.75 6.390625 31.78125 6.390625 \nQ 38.8125 6.390625 42.859375 10.171875 \nQ 46.921875 13.96875 46.921875 20.515625 \nQ 46.921875 27.09375 42.890625 30.859375 \nQ 38.875 34.625 31.78125 34.625 \nz\nM 21.921875 38.8125 \nQ 15.578125 40.375 12.03125 44.71875 \nQ 8.5 49.078125 8.5 55.328125 \nQ 8.5 64.0625 14.71875 69.140625 \nQ 20.953125 74.21875 31.78125 74.21875 \nQ 42.671875 74.21875 48.875 69.140625 \nQ 55.078125 64.0625 55.078125 55.328125 \nQ 55.078125 49.078125 51.53125 44.71875 \nQ 48 40.375 41.703125 38.8125 \nQ 48.828125 37.15625 52.796875 32.3125 \nQ 56.78125 27.484375 56.78125 20.515625 \nQ 56.78125 9.90625 50.3125 4.234375 \nQ 43.84375 -1.421875 31.78125 -1.421875 \nQ 19.734375 -1.421875 13.25 4.234375 \nQ 6.78125 9.90625 6.78125 20.515625 \nQ 6.78125 27.484375 10.78125 32.3125 \nQ 14.796875 37.15625 21.921875 38.8125 \nz\nM 18.3125 54.390625 \nQ 18.3125 48.734375 21.84375 45.5625 \nQ 25.390625 42.390625 31.78125 42.390625 \nQ 38.140625 42.390625 41.71875 45.5625 \nQ 45.3125 48.734375 45.3125 54.390625 \nQ 45.3125 60.0625 41.71875 63.234375 \nQ 38.140625 66.40625 31.78125 66.40625 \nQ 25.390625 66.40625 21.84375 63.234375 \nQ 18.3125 60.0625 18.3125 54.390625 \nz\n\" id=\"DejaVuSans-56\"/>\n       </defs>\n       <use xlink:href=\"#DejaVuSans-56\"/>\n       <use x=\"63.623047\" xlink:href=\"#DejaVuSans-48\"/>\n       <use x=\"127.246094\" xlink:href=\"#DejaVuSans-48\"/>\n       <use x=\"190.869141\" xlink:href=\"#DejaVuSans-48\"/>\n       <use x=\"254.492188\" xlink:href=\"#DejaVuSans-48\"/>\n      </g>\n     </g>\n    </g>\n   </g>\n   <g id=\"patch_17\">\n    <path d=\"M 46.0125 279 \nL 46.0125 7.2 \n\" style=\"fill:none;stroke:#000000;stroke-linecap:square;stroke-linejoin:miter;stroke-width:0.8;\"/>\n   </g>\n   <g id=\"patch_18\">\n    <path d=\"M 604.0125 279 \nL 604.0125 7.2 \n\" style=\"fill:none;stroke:#000000;stroke-linecap:square;stroke-linejoin:miter;stroke-width:0.8;\"/>\n   </g>\n   <g id=\"patch_19\">\n    <path d=\"M 46.0125 279 \nL 604.0125 279 \n\" style=\"fill:none;stroke:#000000;stroke-linecap:square;stroke-linejoin:miter;stroke-width:0.8;\"/>\n   </g>\n   <g id=\"patch_20\">\n    <path d=\"M 46.0125 7.2 \nL 604.0125 7.2 \n\" style=\"fill:none;stroke:#000000;stroke-linecap:square;stroke-linejoin:miter;stroke-width:0.8;\"/>\n   </g>\n   <g id=\"legend_1\">\n    <g id=\"patch_21\">\n     <path d=\"M 476.073438 45.1125 \nL 597.0125 45.1125 \nQ 599.0125 45.1125 599.0125 43.1125 \nL 599.0125 14.2 \nQ 599.0125 12.2 597.0125 12.2 \nL 476.073438 12.2 \nQ 474.073438 12.2 474.073438 14.2 \nL 474.073438 43.1125 \nQ 474.073438 45.1125 476.073438 45.1125 \nz\n\" style=\"fill:#ffffff;opacity:0.8;stroke:#cccccc;stroke-linejoin:miter;\"/>\n    </g>\n    <g id=\"patch_22\">\n     <path d=\"M 478.073438 23.798438 \nL 498.073438 23.798438 \nL 498.073438 16.798438 \nL 478.073438 16.798438 \nz\n\" style=\"fill:#1f77b4;\"/>\n    </g>\n    <g id=\"text_18\">\n     <!-- train_dm_1_count -->\n     <g transform=\"translate(506.073438 23.798438)scale(0.1 -0.1)\">\n      <defs>\n       <path d=\"M 50.984375 -16.609375 \nL 50.984375 -23.578125 \nL -0.984375 -23.578125 \nL -0.984375 -16.609375 \nz\n\" id=\"DejaVuSans-95\"/>\n       <path d=\"M 45.40625 46.390625 \nL 45.40625 75.984375 \nL 54.390625 75.984375 \nL 54.390625 0 \nL 45.40625 0 \nL 45.40625 8.203125 \nQ 42.578125 3.328125 38.25 0.953125 \nQ 33.9375 -1.421875 27.875 -1.421875 \nQ 17.96875 -1.421875 11.734375 6.484375 \nQ 5.515625 14.40625 5.515625 27.296875 \nQ 5.515625 40.1875 11.734375 48.09375 \nQ 17.96875 56 27.875 56 \nQ 33.9375 56 38.25 53.625 \nQ 42.578125 51.265625 45.40625 46.390625 \nz\nM 14.796875 27.296875 \nQ 14.796875 17.390625 18.875 11.75 \nQ 22.953125 6.109375 30.078125 6.109375 \nQ 37.203125 6.109375 41.296875 11.75 \nQ 45.40625 17.390625 45.40625 27.296875 \nQ 45.40625 37.203125 41.296875 42.84375 \nQ 37.203125 48.484375 30.078125 48.484375 \nQ 22.953125 48.484375 18.875 42.84375 \nQ 14.796875 37.203125 14.796875 27.296875 \nz\n\" id=\"DejaVuSans-100\"/>\n      </defs>\n      <use xlink:href=\"#DejaVuSans-116\"/>\n      <use x=\"39.208984\" xlink:href=\"#DejaVuSans-114\"/>\n      <use x=\"80.322266\" xlink:href=\"#DejaVuSans-97\"/>\n      <use x=\"141.601562\" xlink:href=\"#DejaVuSans-105\"/>\n      <use x=\"169.384766\" xlink:href=\"#DejaVuSans-110\"/>\n      <use x=\"232.763672\" xlink:href=\"#DejaVuSans-95\"/>\n      <use x=\"282.763672\" xlink:href=\"#DejaVuSans-100\"/>\n      <use x=\"346.240234\" xlink:href=\"#DejaVuSans-109\"/>\n      <use x=\"443.652344\" xlink:href=\"#DejaVuSans-95\"/>\n      <use x=\"493.652344\" xlink:href=\"#DejaVuSans-49\"/>\n      <use x=\"557.275391\" xlink:href=\"#DejaVuSans-95\"/>\n      <use x=\"607.275391\" xlink:href=\"#DejaVuSans-99\"/>\n      <use x=\"662.255859\" xlink:href=\"#DejaVuSans-111\"/>\n      <use x=\"723.4375\" xlink:href=\"#DejaVuSans-117\"/>\n      <use x=\"786.816406\" xlink:href=\"#DejaVuSans-110\"/>\n      <use x=\"850.195312\" xlink:href=\"#DejaVuSans-116\"/>\n     </g>\n    </g>\n    <g id=\"patch_23\">\n     <path d=\"M 478.073438 38.754688 \nL 498.073438 38.754688 \nL 498.073438 31.754688 \nL 478.073438 31.754688 \nz\n\" style=\"fill:#ff7f0e;\"/>\n    </g>\n    <g id=\"text_19\">\n     <!-- train_dm_0_count -->\n     <g transform=\"translate(506.073438 38.754688)scale(0.1 -0.1)\">\n      <use xlink:href=\"#DejaVuSans-116\"/>\n      <use x=\"39.208984\" xlink:href=\"#DejaVuSans-114\"/>\n      <use x=\"80.322266\" xlink:href=\"#DejaVuSans-97\"/>\n      <use x=\"141.601562\" xlink:href=\"#DejaVuSans-105\"/>\n      <use x=\"169.384766\" xlink:href=\"#DejaVuSans-110\"/>\n      <use x=\"232.763672\" xlink:href=\"#DejaVuSans-95\"/>\n      <use x=\"282.763672\" xlink:href=\"#DejaVuSans-100\"/>\n      <use x=\"346.240234\" xlink:href=\"#DejaVuSans-109\"/>\n      <use x=\"443.652344\" xlink:href=\"#DejaVuSans-95\"/>\n      <use x=\"493.652344\" xlink:href=\"#DejaVuSans-48\"/>\n      <use x=\"557.275391\" xlink:href=\"#DejaVuSans-95\"/>\n      <use x=\"607.275391\" xlink:href=\"#DejaVuSans-99\"/>\n      <use x=\"662.255859\" xlink:href=\"#DejaVuSans-111\"/>\n      <use x=\"723.4375\" xlink:href=\"#DejaVuSans-117\"/>\n      <use x=\"786.816406\" xlink:href=\"#DejaVuSans-110\"/>\n      <use x=\"850.195312\" xlink:href=\"#DejaVuSans-116\"/>\n     </g>\n    </g>\n   </g>\n  </g>\n </g>\n <defs>\n  <clipPath id=\"pb81f54e410\">\n   <rect height=\"271.8\" width=\"558\" x=\"46.0125\" y=\"7.2\"/>\n  </clipPath>\n </defs>\n</svg>\n",
      "image/png": "[encoded data removed]"
     },
     "metadata": {
      "needs_background": "light"
     }
    }
   ],
   "source": [
    "ax = df_ethnicity[['ethnicity','train_dm_1_count', 'train_dm_0_count']].plot.bar(x='ethnicity',rot=0, figsize=(10,5))"
   ]
  },
  {
   "cell_type": "markdown",
   "metadata": {},
   "source": [
    "## Features Train DM = 1 Vs DM = 0\n",
    "How are the features in the case where the dm=1 in comparison with the case where dm=0?"
   ],
   "execution_count": null,
   "outputs": []
  },
  {
   "cell_type": "code",
   "execution_count": 40,
   "metadata": {},
   "outputs": [
    {
     "output_type": "stream",
     "name": "stdout",
     "text": "age: train_dm_1_%: 100.00% train_dm_0_%: 100.00%\n"
    },
    {
     "output_type": "execute_result",
     "data": {
      "text/plain": "             age  train_dm_1_count  train_dm_1_%  train_dm_0_count  \\\n0    (-0.1, 0.0]                 3         0.01%                27   \n1    (0.0, 15.9]                 0         0.00%                 0   \n2   (15.9, 20.0]               183         0.65%              1422   \n3   (20.0, 40.0]              1644         5.84%             12004   \n4   (40.0, 60.0]              7579        26.92%             29424   \n5   (60.0, 90.0]             18082        64.23%             54801   \n6  (90.0, 120.0]                 0         0.00%                 0   \n0           null               660         2.34%              4328   \n\n   train_dm_0_%  \n0         0.03%  \n1         0.00%  \n2         1.39%  \n3        11.77%  \n4        28.85%  \n5        53.72%  \n6         0.00%  \n0         4.24%  ",
      "text/html": "<div>\n<style scoped>\n    .dataframe tbody tr th:only-of-type {\n        vertical-align: middle;\n    }\n\n    .dataframe tbody tr th {\n        vertical-align: top;\n    }\n\n    .dataframe thead th {\n        text-align: right;\n    }\n</style>\n<table border=\"1\" class=\"dataframe\">\n  <thead>\n    <tr style=\"text-align: right;\">\n      <th></th>\n      <th>age</th>\n      <th>train_dm_1_count</th>\n      <th>train_dm_1_%</th>\n      <th>train_dm_0_count</th>\n      <th>train_dm_0_%</th>\n    </tr>\n  </thead>\n  <tbody>\n    <tr>\n      <th>0</th>\n      <td>(-0.1, 0.0]</td>\n      <td>3</td>\n      <td>0.01%</td>\n      <td>27</td>\n      <td>0.03%</td>\n    </tr>\n    <tr>\n      <th>1</th>\n      <td>(0.0, 15.9]</td>\n      <td>0</td>\n      <td>0.00%</td>\n      <td>0</td>\n      <td>0.00%</td>\n    </tr>\n    <tr>\n      <th>2</th>\n      <td>(15.9, 20.0]</td>\n      <td>183</td>\n      <td>0.65%</td>\n      <td>1422</td>\n      <td>1.39%</td>\n    </tr>\n    <tr>\n      <th>3</th>\n      <td>(20.0, 40.0]</td>\n      <td>1644</td>\n      <td>5.84%</td>\n      <td>12004</td>\n      <td>11.77%</td>\n    </tr>\n    <tr>\n      <th>4</th>\n      <td>(40.0, 60.0]</td>\n      <td>7579</td>\n      <td>26.92%</td>\n      <td>29424</td>\n      <td>28.85%</td>\n    </tr>\n    <tr>\n      <th>5</th>\n      <td>(60.0, 90.0]</td>\n      <td>18082</td>\n      <td>64.23%</td>\n      <td>54801</td>\n      <td>53.72%</td>\n    </tr>\n    <tr>\n      <th>6</th>\n      <td>(90.0, 120.0]</td>\n      <td>0</td>\n      <td>0.00%</td>\n      <td>0</td>\n      <td>0.00%</td>\n    </tr>\n    <tr>\n      <th>0</th>\n      <td>null</td>\n      <td>660</td>\n      <td>2.34%</td>\n      <td>4328</td>\n      <td>4.24%</td>\n    </tr>\n  </tbody>\n</table>\n</div>"
     },
     "metadata": {},
     "execution_count": 40
    }
   ],
   "source": [
    "_comparedf(df_train_dm_1_age, df_train_dm_0_age, 'train_dm_1_%', 'train_dm_0_%', 'age')"
   ]
  },
  {
   "cell_type": "code",
   "execution_count": 41,
   "metadata": {},
   "outputs": [
    {
     "output_type": "stream",
     "name": "stdout",
     "text": "age: train_%: 100.0% test_%: 100.0%\n"
    },
    {
     "output_type": "execute_result",
     "data": {
      "text/plain": "             age  train_count  train_%  test_count  test_%\n0    (-0.1, 0.0]           30    0.02%           0   0.00%\n1    (0.0, 15.9]            0    0.00%           0   0.00%\n2   (15.9, 20.0]         1605    1.23%         180   1.76%\n3   (20.0, 40.0]        13648   10.49%        1075  10.50%\n4   (40.0, 60.0]        37003   28.43%        2939  28.72%\n5   (60.0, 90.0]        72883   56.00%        5753  56.21%\n6  (90.0, 120.0]            0    0.00%         287   2.80%\n0           null         4988    3.83%           0   0.00%",
      "text/html": "<div>\n<style scoped>\n    .dataframe tbody tr th:only-of-type {\n        vertical-align: middle;\n    }\n\n    .dataframe tbody tr th {\n        vertical-align: top;\n    }\n\n    .dataframe thead th {\n        text-align: right;\n    }\n</style>\n<table border=\"1\" class=\"dataframe\">\n  <thead>\n    <tr style=\"text-align: right;\">\n      <th></th>\n      <th>age</th>\n      <th>train_count</th>\n      <th>train_%</th>\n      <th>test_count</th>\n      <th>test_%</th>\n    </tr>\n  </thead>\n  <tbody>\n    <tr>\n      <th>0</th>\n      <td>(-0.1, 0.0]</td>\n      <td>30</td>\n      <td>0.02%</td>\n      <td>0</td>\n      <td>0.00%</td>\n    </tr>\n    <tr>\n      <th>1</th>\n      <td>(0.0, 15.9]</td>\n      <td>0</td>\n      <td>0.00%</td>\n      <td>0</td>\n      <td>0.00%</td>\n    </tr>\n    <tr>\n      <th>2</th>\n      <td>(15.9, 20.0]</td>\n      <td>1605</td>\n      <td>1.23%</td>\n      <td>180</td>\n      <td>1.76%</td>\n    </tr>\n    <tr>\n      <th>3</th>\n      <td>(20.0, 40.0]</td>\n      <td>13648</td>\n      <td>10.49%</td>\n      <td>1075</td>\n      <td>10.50%</td>\n    </tr>\n    <tr>\n      <th>4</th>\n      <td>(40.0, 60.0]</td>\n      <td>37003</td>\n      <td>28.43%</td>\n      <td>2939</td>\n      <td>28.72%</td>\n    </tr>\n    <tr>\n      <th>5</th>\n      <td>(60.0, 90.0]</td>\n      <td>72883</td>\n      <td>56.00%</td>\n      <td>5753</td>\n      <td>56.21%</td>\n    </tr>\n    <tr>\n      <th>6</th>\n      <td>(90.0, 120.0]</td>\n      <td>0</td>\n      <td>0.00%</td>\n      <td>287</td>\n      <td>2.80%</td>\n    </tr>\n    <tr>\n      <th>0</th>\n      <td>null</td>\n      <td>4988</td>\n      <td>3.83%</td>\n      <td>0</td>\n      <td>0.00%</td>\n    </tr>\n  </tbody>\n</table>\n</div>"
     },
     "metadata": {},
     "execution_count": 41
    }
   ],
   "source": [
    "_compare('age', df_train_age, df_test_age, 'train_%', 'test_%')"
   ]
  },
  {
   "cell_type": "code",
   "execution_count": 42,
   "metadata": {},
   "outputs": [
    {
     "output_type": "stream",
     "name": "stdout",
     "text": "bmi: train_dm_1_%: 100.00% train_dm_0_%: 100.00%\n"
    },
    {
     "output_type": "execute_result",
     "data": {
      "text/plain": "                           bmi  train_dm_1_count  train_dm_1_%  \\\n0     [0.0 - 18.5] underweight               597         2.12%   \n1  [18.5 - 24.9] normal weight              5268        18.71%   \n2       [25 -  30] over weight              7503        26.65%   \n3                [70  <] obese             13868        49.26%   \n0                         null               915         3.25%   \n\n   train_dm_0_count  train_dm_0_%  \n0              4726         4.63%  \n1             30747        30.14%  \n2             30507        29.91%  \n3             32451        31.81%  \n0              3575         3.50%  ",
      "text/html": "<div>\n<style scoped>\n    .dataframe tbody tr th:only-of-type {\n        vertical-align: middle;\n    }\n\n    .dataframe tbody tr th {\n        vertical-align: top;\n    }\n\n    .dataframe thead th {\n        text-align: right;\n    }\n</style>\n<table border=\"1\" class=\"dataframe\">\n  <thead>\n    <tr style=\"text-align: right;\">\n      <th></th>\n      <th>bmi</th>\n      <th>train_dm_1_count</th>\n      <th>train_dm_1_%</th>\n      <th>train_dm_0_count</th>\n      <th>train_dm_0_%</th>\n    </tr>\n  </thead>\n  <tbody>\n    <tr>\n      <th>0</th>\n      <td>[0.0 - 18.5] underweight</td>\n      <td>597</td>\n      <td>2.12%</td>\n      <td>4726</td>\n      <td>4.63%</td>\n    </tr>\n    <tr>\n      <th>1</th>\n      <td>[18.5 - 24.9] normal weight</td>\n      <td>5268</td>\n      <td>18.71%</td>\n      <td>30747</td>\n      <td>30.14%</td>\n    </tr>\n    <tr>\n      <th>2</th>\n      <td>[25 -  30] over weight</td>\n      <td>7503</td>\n      <td>26.65%</td>\n      <td>30507</td>\n      <td>29.91%</td>\n    </tr>\n    <tr>\n      <th>3</th>\n      <td>[70  &lt;] obese</td>\n      <td>13868</td>\n      <td>49.26%</td>\n      <td>32451</td>\n      <td>31.81%</td>\n    </tr>\n    <tr>\n      <th>0</th>\n      <td>null</td>\n      <td>915</td>\n      <td>3.25%</td>\n      <td>3575</td>\n      <td>3.50%</td>\n    </tr>\n  </tbody>\n</table>\n</div>"
     },
     "metadata": {},
     "execution_count": 42
    }
   ],
   "source": [
    "_comparedf(df_train_dm_1_bmi, df_train_dm_0_bmi, 'train_dm_1_%', 'train_dm_0_%', 'bmi')"
   ]
  },
  {
   "cell_type": "markdown",
   "metadata": {},
   "source": [
    "**Observations**: \n",
    "- In the **40-60yrs** group, number of people with and without dm are almost same.\n",
    "- In the **60-90yrs** group, number of people with dm are more than without dm.\n",
    "- In the **Obese** category, number people who have dm is more than those without dm\n",
    "- In other age and bmi categories, number of people with dm is lesser than those without dm.\n",
    "- The distribution of genders with and without dm is similar.\n",
    "- Convert categorical features - gender, ethnicity and bmi into dummy variables"
   ],
   "execution_count": null,
   "outputs": []
  },
  {
   "cell_type": "code",
   "execution_count": 43,
   "metadata": {},
   "outputs": [
    {
     "output_type": "stream",
     "name": "stdout",
     "text": "bmi: train_%: 100.0% test_%: 100.0%\n"
    },
    {
     "output_type": "execute_result",
     "data": {
      "text/plain": "                           bmi  train_count  train_%  test_count  test_%\n0     [0.0 - 18.5] underweight         5323    4.09%         388   3.79%\n1  [18.5 - 24.9] normal weight        36015   27.67%        2651  25.90%\n2       [25 -  30] over weight        38010   29.20%        2863  27.98%\n3                [70  <] obese        46319   35.59%        3317  32.41%\n0                         null         4490    3.45%        1015   9.92%",
      "text/html": "<div>\n<style scoped>\n    .dataframe tbody tr th:only-of-type {\n        vertical-align: middle;\n    }\n\n    .dataframe tbody tr th {\n        vertical-align: top;\n    }\n\n    .dataframe thead th {\n        text-align: right;\n    }\n</style>\n<table border=\"1\" class=\"dataframe\">\n  <thead>\n    <tr style=\"text-align: right;\">\n      <th></th>\n      <th>bmi</th>\n      <th>train_count</th>\n      <th>train_%</th>\n      <th>test_count</th>\n      <th>test_%</th>\n    </tr>\n  </thead>\n  <tbody>\n    <tr>\n      <th>0</th>\n      <td>[0.0 - 18.5] underweight</td>\n      <td>5323</td>\n      <td>4.09%</td>\n      <td>388</td>\n      <td>3.79%</td>\n    </tr>\n    <tr>\n      <th>1</th>\n      <td>[18.5 - 24.9] normal weight</td>\n      <td>36015</td>\n      <td>27.67%</td>\n      <td>2651</td>\n      <td>25.90%</td>\n    </tr>\n    <tr>\n      <th>2</th>\n      <td>[25 -  30] over weight</td>\n      <td>38010</td>\n      <td>29.20%</td>\n      <td>2863</td>\n      <td>27.98%</td>\n    </tr>\n    <tr>\n      <th>3</th>\n      <td>[70  &lt;] obese</td>\n      <td>46319</td>\n      <td>35.59%</td>\n      <td>3317</td>\n      <td>32.41%</td>\n    </tr>\n    <tr>\n      <th>0</th>\n      <td>null</td>\n      <td>4490</td>\n      <td>3.45%</td>\n      <td>1015</td>\n      <td>9.92%</td>\n    </tr>\n  </tbody>\n</table>\n</div>"
     },
     "metadata": {},
     "execution_count": 43
    }
   ],
   "source": [
    "_compare('bmi', df_train_bmi, df_test_bmi, 'train_%', 'test_%')"
   ]
  },
  {
   "cell_type": "markdown",
   "metadata": {},
   "source": [
    "## Features Train Vs Test\n"
   ],
   "execution_count": null,
   "outputs": []
  },
  {
   "cell_type": "code",
   "execution_count": 44,
   "metadata": {},
   "outputs": [
    {
     "output_type": "stream",
     "name": "stdout",
     "text": "age: train_%: 100.00% test_%: 100.00%\n"
    },
    {
     "output_type": "execute_result",
     "data": {
      "text/plain": "             age  train_count  train_%  test_count  test_%\n0    (-0.1, 0.0]           30    0.02%           0   0.00%\n1    (0.0, 15.9]            0    0.00%           0   0.00%\n2   (15.9, 20.0]         1605    1.23%         180   1.76%\n3   (20.0, 40.0]        13648   10.49%        1075  10.50%\n4   (40.0, 60.0]        37003   28.43%        2939  28.72%\n5   (60.0, 90.0]        72883   56.00%        5753  56.21%\n6  (90.0, 120.0]            0    0.00%         287   2.80%\n0           null         4988    3.83%           0   0.00%",
      "text/html": "<div>\n<style scoped>\n    .dataframe tbody tr th:only-of-type {\n        vertical-align: middle;\n    }\n\n    .dataframe tbody tr th {\n        vertical-align: top;\n    }\n\n    .dataframe thead th {\n        text-align: right;\n    }\n</style>\n<table border=\"1\" class=\"dataframe\">\n  <thead>\n    <tr style=\"text-align: right;\">\n      <th></th>\n      <th>age</th>\n      <th>train_count</th>\n      <th>train_%</th>\n      <th>test_count</th>\n      <th>test_%</th>\n    </tr>\n  </thead>\n  <tbody>\n    <tr>\n      <th>0</th>\n      <td>(-0.1, 0.0]</td>\n      <td>30</td>\n      <td>0.02%</td>\n      <td>0</td>\n      <td>0.00%</td>\n    </tr>\n    <tr>\n      <th>1</th>\n      <td>(0.0, 15.9]</td>\n      <td>0</td>\n      <td>0.00%</td>\n      <td>0</td>\n      <td>0.00%</td>\n    </tr>\n    <tr>\n      <th>2</th>\n      <td>(15.9, 20.0]</td>\n      <td>1605</td>\n      <td>1.23%</td>\n      <td>180</td>\n      <td>1.76%</td>\n    </tr>\n    <tr>\n      <th>3</th>\n      <td>(20.0, 40.0]</td>\n      <td>13648</td>\n      <td>10.49%</td>\n      <td>1075</td>\n      <td>10.50%</td>\n    </tr>\n    <tr>\n      <th>4</th>\n      <td>(40.0, 60.0]</td>\n      <td>37003</td>\n      <td>28.43%</td>\n      <td>2939</td>\n      <td>28.72%</td>\n    </tr>\n    <tr>\n      <th>5</th>\n      <td>(60.0, 90.0]</td>\n      <td>72883</td>\n      <td>56.00%</td>\n      <td>5753</td>\n      <td>56.21%</td>\n    </tr>\n    <tr>\n      <th>6</th>\n      <td>(90.0, 120.0]</td>\n      <td>0</td>\n      <td>0.00%</td>\n      <td>287</td>\n      <td>2.80%</td>\n    </tr>\n    <tr>\n      <th>0</th>\n      <td>null</td>\n      <td>4988</td>\n      <td>3.83%</td>\n      <td>0</td>\n      <td>0.00%</td>\n    </tr>\n  </tbody>\n</table>\n</div>"
     },
     "metadata": {},
     "execution_count": 44
    }
   ],
   "source": [
    "_comparedf(df_train_age, df_test_age, 'train_%', 'test_%', 'age')"
   ]
  },
  {
   "cell_type": "code",
   "execution_count": 45,
   "metadata": {},
   "outputs": [
    {
     "output_type": "stream",
     "name": "stdout",
     "text": "gender: train_%: 100.0% test_%: 100.0%\n"
    },
    {
     "output_type": "execute_result",
     "data": {
      "text/plain": "  gender  train_count  train_%  test_count  test_%\n0      M        70518   54.18%        5525  53.99%\n1      F        59573   45.77%        4704  45.96%\n0   null           66    0.05%           0   0.00%",
      "text/html": "<div>\n<style scoped>\n    .dataframe tbody tr th:only-of-type {\n        vertical-align: middle;\n    }\n\n    .dataframe tbody tr th {\n        vertical-align: top;\n    }\n\n    .dataframe thead th {\n        text-align: right;\n    }\n</style>\n<table border=\"1\" class=\"dataframe\">\n  <thead>\n    <tr style=\"text-align: right;\">\n      <th></th>\n      <th>gender</th>\n      <th>train_count</th>\n      <th>train_%</th>\n      <th>test_count</th>\n      <th>test_%</th>\n    </tr>\n  </thead>\n  <tbody>\n    <tr>\n      <th>0</th>\n      <td>M</td>\n      <td>70518</td>\n      <td>54.18%</td>\n      <td>5525</td>\n      <td>53.99%</td>\n    </tr>\n    <tr>\n      <th>1</th>\n      <td>F</td>\n      <td>59573</td>\n      <td>45.77%</td>\n      <td>4704</td>\n      <td>45.96%</td>\n    </tr>\n    <tr>\n      <th>0</th>\n      <td>null</td>\n      <td>66</td>\n      <td>0.05%</td>\n      <td>0</td>\n      <td>0.00%</td>\n    </tr>\n  </tbody>\n</table>\n</div>"
     },
     "metadata": {},
     "execution_count": 45
    }
   ],
   "source": [
    "_compare('gender', df_train_gender, df_test_gender, 'train_%', 'test_%')"
   ]
  },
  {
   "cell_type": "code",
   "execution_count": 46,
   "metadata": {},
   "outputs": [
    {
     "output_type": "stream",
     "name": "stdout",
     "text": "ethnicity: train_%: 100.0% test_%: 100.0%\n"
    },
    {
     "output_type": "execute_result",
     "data": {
      "text/plain": "          ethnicity  train_count  train_%  test_count  test_%\n0         Caucasian       100236   77.01%        7939  77.57%\n1  African American        13911   10.69%         931   9.10%\n2     Other/Unknown         6261    4.81%         435   4.25%\n3          Hispanic         5049    3.88%         471   4.60%\n4             Asian         2198    1.69%         171   1.67%\n5   Native American          915    0.70%          83   0.81%\n0              null         1587    1.22%           0   0.00%",
      "text/html": "<div>\n<style scoped>\n    .dataframe tbody tr th:only-of-type {\n        vertical-align: middle;\n    }\n\n    .dataframe tbody tr th {\n        vertical-align: top;\n    }\n\n    .dataframe thead th {\n        text-align: right;\n    }\n</style>\n<table border=\"1\" class=\"dataframe\">\n  <thead>\n    <tr style=\"text-align: right;\">\n      <th></th>\n      <th>ethnicity</th>\n      <th>train_count</th>\n      <th>train_%</th>\n      <th>test_count</th>\n      <th>test_%</th>\n    </tr>\n  </thead>\n  <tbody>\n    <tr>\n      <th>0</th>\n      <td>Caucasian</td>\n      <td>100236</td>\n      <td>77.01%</td>\n      <td>7939</td>\n      <td>77.57%</td>\n    </tr>\n    <tr>\n      <th>1</th>\n      <td>African American</td>\n      <td>13911</td>\n      <td>10.69%</td>\n      <td>931</td>\n      <td>9.10%</td>\n    </tr>\n    <tr>\n      <th>2</th>\n      <td>Other/Unknown</td>\n      <td>6261</td>\n      <td>4.81%</td>\n      <td>435</td>\n      <td>4.25%</td>\n    </tr>\n    <tr>\n      <th>3</th>\n      <td>Hispanic</td>\n      <td>5049</td>\n      <td>3.88%</td>\n      <td>471</td>\n      <td>4.60%</td>\n    </tr>\n    <tr>\n      <th>4</th>\n      <td>Asian</td>\n      <td>2198</td>\n      <td>1.69%</td>\n      <td>171</td>\n      <td>1.67%</td>\n    </tr>\n    <tr>\n      <th>5</th>\n      <td>Native American</td>\n      <td>915</td>\n      <td>0.70%</td>\n      <td>83</td>\n      <td>0.81%</td>\n    </tr>\n    <tr>\n      <th>0</th>\n      <td>null</td>\n      <td>1587</td>\n      <td>1.22%</td>\n      <td>0</td>\n      <td>0.00%</td>\n    </tr>\n  </tbody>\n</table>\n</div>"
     },
     "metadata": {},
     "execution_count": 46
    }
   ],
   "source": [
    "_compare('ethnicity', df_train_ethnicity, df_test_ethnicity, 'train_%', 'test_%')"
   ]
  },
  {
   "cell_type": "code",
   "execution_count": 47,
   "metadata": {},
   "outputs": [
    {
     "output_type": "stream",
     "name": "stdout",
     "text": "bmi: train_%: 100.00% test_%: 100.00%\n"
    },
    {
     "output_type": "execute_result",
     "data": {
      "text/plain": "                           bmi  train_count  train_%  test_count  test_%\n0     [0.0 - 18.5] underweight         5323    4.09%         388   3.79%\n1  [18.5 - 24.9] normal weight        36015   27.67%        2651  25.90%\n2       [25 -  30] over weight        38010   29.20%        2863  27.98%\n3                [70  <] obese        46319   35.59%        3317  32.41%\n0                         null         4490    3.45%        1015   9.92%",
      "text/html": "<div>\n<style scoped>\n    .dataframe tbody tr th:only-of-type {\n        vertical-align: middle;\n    }\n\n    .dataframe tbody tr th {\n        vertical-align: top;\n    }\n\n    .dataframe thead th {\n        text-align: right;\n    }\n</style>\n<table border=\"1\" class=\"dataframe\">\n  <thead>\n    <tr style=\"text-align: right;\">\n      <th></th>\n      <th>bmi</th>\n      <th>train_count</th>\n      <th>train_%</th>\n      <th>test_count</th>\n      <th>test_%</th>\n    </tr>\n  </thead>\n  <tbody>\n    <tr>\n      <th>0</th>\n      <td>[0.0 - 18.5] underweight</td>\n      <td>5323</td>\n      <td>4.09%</td>\n      <td>388</td>\n      <td>3.79%</td>\n    </tr>\n    <tr>\n      <th>1</th>\n      <td>[18.5 - 24.9] normal weight</td>\n      <td>36015</td>\n      <td>27.67%</td>\n      <td>2651</td>\n      <td>25.90%</td>\n    </tr>\n    <tr>\n      <th>2</th>\n      <td>[25 -  30] over weight</td>\n      <td>38010</td>\n      <td>29.20%</td>\n      <td>2863</td>\n      <td>27.98%</td>\n    </tr>\n    <tr>\n      <th>3</th>\n      <td>[70  &lt;] obese</td>\n      <td>46319</td>\n      <td>35.59%</td>\n      <td>3317</td>\n      <td>32.41%</td>\n    </tr>\n    <tr>\n      <th>0</th>\n      <td>null</td>\n      <td>4490</td>\n      <td>3.45%</td>\n      <td>1015</td>\n      <td>9.92%</td>\n    </tr>\n  </tbody>\n</table>\n</div>"
     },
     "metadata": {},
     "execution_count": 47
    }
   ],
   "source": [
    "_comparedf(df_train_bmi, df_test_bmi, 'train_%', 'test_%', 'bmi')\n",
    ""
   ]
  },
  {
   "cell_type": "code",
   "execution_count": 48,
   "metadata": {},
   "outputs": [
    {
     "output_type": "stream",
     "name": "stdout",
     "text": "gender: train_%: 100.00% test_%: 99.95%\n"
    },
    {
     "output_type": "execute_result",
     "data": {
      "text/plain": "  gender  train_count  train_%  test_count  test_%\n0      M        70518   54.18%        5525  53.99%\n1      F        59573   45.77%        4704  45.96%\n0   null           66    0.05%           0   0.00%",
      "text/html": "<div>\n<style scoped>\n    .dataframe tbody tr th:only-of-type {\n        vertical-align: middle;\n    }\n\n    .dataframe tbody tr th {\n        vertical-align: top;\n    }\n\n    .dataframe thead th {\n        text-align: right;\n    }\n</style>\n<table border=\"1\" class=\"dataframe\">\n  <thead>\n    <tr style=\"text-align: right;\">\n      <th></th>\n      <th>gender</th>\n      <th>train_count</th>\n      <th>train_%</th>\n      <th>test_count</th>\n      <th>test_%</th>\n    </tr>\n  </thead>\n  <tbody>\n    <tr>\n      <th>0</th>\n      <td>M</td>\n      <td>70518</td>\n      <td>54.18%</td>\n      <td>5525</td>\n      <td>53.99%</td>\n    </tr>\n    <tr>\n      <th>1</th>\n      <td>F</td>\n      <td>59573</td>\n      <td>45.77%</td>\n      <td>4704</td>\n      <td>45.96%</td>\n    </tr>\n    <tr>\n      <th>0</th>\n      <td>null</td>\n      <td>66</td>\n      <td>0.05%</td>\n      <td>0</td>\n      <td>0.00%</td>\n    </tr>\n  </tbody>\n</table>\n</div>"
     },
     "metadata": {},
     "execution_count": 48
    }
   ],
   "source": [
    "_comparedf(df_train_gender, df_test_gender, 'train_%', 'test_%', 'gender')"
   ]
  },
  {
   "cell_type": "code",
   "execution_count": 49,
   "metadata": {},
   "outputs": [
    {
     "output_type": "stream",
     "name": "stdout",
     "text": "ethnicity: train_%: 100.00% test_%: 98.01%\n"
    },
    {
     "output_type": "execute_result",
     "data": {
      "text/plain": "          ethnicity  train_count  train_%  test_count  test_%\n0         Caucasian       100236   77.01%        7939  77.57%\n1  African American        13911   10.69%         931   9.10%\n2     Other/Unknown         6261    4.81%         435   4.25%\n3          Hispanic         5049    3.88%         471   4.60%\n4             Asian         2198    1.69%         171   1.67%\n5   Native American          915    0.70%          83   0.81%\n0              null         1587    1.22%           0   0.00%",
      "text/html": "<div>\n<style scoped>\n    .dataframe tbody tr th:only-of-type {\n        vertical-align: middle;\n    }\n\n    .dataframe tbody tr th {\n        vertical-align: top;\n    }\n\n    .dataframe thead th {\n        text-align: right;\n    }\n</style>\n<table border=\"1\" class=\"dataframe\">\n  <thead>\n    <tr style=\"text-align: right;\">\n      <th></th>\n      <th>ethnicity</th>\n      <th>train_count</th>\n      <th>train_%</th>\n      <th>test_count</th>\n      <th>test_%</th>\n    </tr>\n  </thead>\n  <tbody>\n    <tr>\n      <th>0</th>\n      <td>Caucasian</td>\n      <td>100236</td>\n      <td>77.01%</td>\n      <td>7939</td>\n      <td>77.57%</td>\n    </tr>\n    <tr>\n      <th>1</th>\n      <td>African American</td>\n      <td>13911</td>\n      <td>10.69%</td>\n      <td>931</td>\n      <td>9.10%</td>\n    </tr>\n    <tr>\n      <th>2</th>\n      <td>Other/Unknown</td>\n      <td>6261</td>\n      <td>4.81%</td>\n      <td>435</td>\n      <td>4.25%</td>\n    </tr>\n    <tr>\n      <th>3</th>\n      <td>Hispanic</td>\n      <td>5049</td>\n      <td>3.88%</td>\n      <td>471</td>\n      <td>4.60%</td>\n    </tr>\n    <tr>\n      <th>4</th>\n      <td>Asian</td>\n      <td>2198</td>\n      <td>1.69%</td>\n      <td>171</td>\n      <td>1.67%</td>\n    </tr>\n    <tr>\n      <th>5</th>\n      <td>Native American</td>\n      <td>915</td>\n      <td>0.70%</td>\n      <td>83</td>\n      <td>0.81%</td>\n    </tr>\n    <tr>\n      <th>0</th>\n      <td>null</td>\n      <td>1587</td>\n      <td>1.22%</td>\n      <td>0</td>\n      <td>0.00%</td>\n    </tr>\n  </tbody>\n</table>\n</div>"
     },
     "metadata": {},
     "execution_count": 49
    }
   ],
   "source": [
    "_comparedf(df_train_ethnicity, df_test_ethnicity, 'train_%', 'test_%', 'ethnicity')"
   ]
  },
  {
   "cell_type": "code",
   "execution_count": 50,
   "metadata": {},
   "outputs": [
    {
     "output_type": "stream",
     "name": "stdout",
     "text": "Invalid age: Rows: 30 % null values: 74.90%\n        Unnamed: 0  encounter_id  hospital_id   age    bmi  elective_surgery  \\\n10394        10395        273814           85 0.00%    NaN                 0   \n10953        10954        178066           85 0.00%    NaN                 0   \n12376        12377        209548          169 0.00%    NaN                 0   \n12538        12539        266259          177 0.00% 34.56%                 0   \n13298        13299        214791          177 0.00% 26.16%                 0   \n14122        14123        255197          177 0.00% 21.34%                 0   \n25765        25766        196004          161 0.00%    NaN                 0   \n34590        34591        198926           70 0.00% 16.70%                 0   \n35300        35301        230255           70 0.00% 42.66%                 0   \n35429        35430        218838           70 0.00% 34.07%                 0   \n36314        36315        254103           70 0.00% 34.77%                 0   \n36526        36527        272188           70 0.00% 32.22%                 0   \n37477        37478        168821           16 0.00% 30.51%                 0   \n37748        37749        225033           16 0.00%    NaN                 0   \n38902        38903        160958           16 0.00% 33.36%                 0   \n39026        39027        163444          199 0.00%    NaN                 0   \n39261        39262        209259          199 0.00%    NaN                 0   \n89589        89590        159417          167 0.00%    NaN                 0   \n89608        89609        244601          167 0.00%    NaN                 0   \n89616        89617        150518          167 0.00%    NaN                 0   \n89626        89627        174452          167 0.00%    NaN                 0   \n89629        89630        264918          167 0.00%    NaN                 0   \n89637        89638        225543          167 0.00%    NaN                 0   \n89659        89660        147789          167 0.00%    NaN                 0   \n89662        89663        234525          167 0.00%    NaN                 0   \n89664        89665        232838          167 0.00%    NaN                 0   \n89665        89666        189191          167 0.00%    NaN                 0   \n89697        89698        197188          167 0.00%    NaN                 0   \n114792      114793        221057          141 0.00% 36.88%                 0   \n126760      126761        147946            7 0.00% 16.11%                 0   \n\n               ethnicity gender  height hospital_admit_source  ...  \\\n10394                NaN    NaN     NaN                   NaN  ...   \n10953                NaN    NaN 165.10%                   NaN  ...   \n12376                NaN    NaN     NaN                   NaN  ...   \n12538                NaN      M 170.10%                   NaN  ...   \n13298   African American      F 157.50%  Emergency Department  ...   \n14122                NaN      F 193.00%                   NaN  ...   \n25765          Caucasian      M     NaN  Emergency Department  ...   \n34590                NaN    NaN 162.50%                   NaN  ...   \n35300                NaN    NaN 182.90%         Recovery Room  ...   \n35429                NaN    NaN 177.80%        Operating Room  ...   \n36314                NaN    NaN 160.00%        Operating Room  ...   \n36526                NaN    NaN 167.60%        Operating Room  ...   \n37477                NaN    NaN 172.70%                   NaN  ...   \n37748                NaN    NaN     NaN  Emergency Department  ...   \n38902                NaN    NaN 162.60%  Emergency Department  ...   \n39026                NaN    NaN     NaN                   NaN  ...   \n39261                NaN    NaN     NaN                   NaN  ...   \n89589                NaN    NaN     NaN                   NaN  ...   \n89608                NaN    NaN     NaN                   NaN  ...   \n89616                NaN    NaN     NaN                   NaN  ...   \n89626                NaN    NaN     NaN  Emergency Department  ...   \n89629                NaN    NaN     NaN                   NaN  ...   \n89637                NaN    NaN     NaN                   NaN  ...   \n89659                NaN    NaN     NaN                   NaN  ...   \n89662                NaN    NaN     NaN                   NaN  ...   \n89664                NaN    NaN     NaN        Operating Room  ...   \n89665                NaN    NaN     NaN                   NaN  ...   \n89697                NaN    NaN     NaN                   NaN  ...   \n114792               NaN    NaN 172.70%        Operating Room  ...   \n126760               NaN    NaN 149.90%                   NaN  ...   \n\n       h1_pao2fio2ratio_max  h1_pao2fio2ratio_min aids cirrhosis  \\\n10394                   NaN                   NaN    0         0   \n10953                   NaN                   NaN    0         0   \n12376                   NaN                   NaN    0         0   \n12538                   NaN                   NaN    0         0   \n13298                   NaN                   NaN    0         0   \n14122                   NaN                   NaN    0         0   \n25765                   NaN                   NaN    0         0   \n34590                   NaN                   NaN    0         0   \n35300                   NaN                   NaN    0         0   \n35429                   NaN                   NaN    0         0   \n36314                   NaN                   NaN    0         0   \n36526                   NaN                   NaN    0         0   \n37477                   NaN                   NaN    0         0   \n37748                   NaN                   NaN    0         0   \n38902                   NaN                   NaN    0         0   \n39026                   NaN                   NaN    0         0   \n39261                   NaN                   NaN    0         0   \n89589                   NaN                   NaN    0         0   \n89608                   NaN                   NaN    0         0   \n89616                   NaN                   NaN    0         0   \n89626                   NaN                   NaN    0         0   \n89629                   NaN                   NaN    0         0   \n89637                   NaN                   NaN    0         0   \n89659                   NaN                   NaN    0         0   \n89662                   NaN                   NaN    0         0   \n89664                   NaN                   NaN    0         0   \n89665                   NaN                   NaN    0         0   \n89697                   NaN                   NaN    0         0   \n114792                  NaN                   NaN    0         0   \n126760                  NaN                   NaN    0         0   \n\n        hepatic_failure  immunosuppression  leukemia  lymphoma  \\\n10394                 0                  0         0         0   \n10953                 0                  0         0         0   \n12376                 0                  0         0         0   \n12538                 0                  0         0         0   \n13298                 0                  0         0         0   \n14122                 0                  0         0         0   \n25765                 0                  0         0         0   \n34590                 0                  0         0         0   \n35300                 0                  0         0         0   \n35429                 0                  0         0         0   \n36314                 0                  0         0         0   \n36526                 0                  0         0         0   \n37477                 0                  0         0         0   \n37748                 0                  0         0         0   \n38902                 0                  0         0         0   \n39026                 0                  0         0         0   \n39261                 0                  0         0         0   \n89589                 0                  0         0         0   \n89608                 0                  0         0         0   \n89616                 0                  0         0         0   \n89626                 0                  0         0         0   \n89629                 0                  0         0         0   \n89637                 0                  0         0         0   \n89659                 0                  0         0         0   \n89662                 0                  0         0         0   \n89664                 0                  0         0         0   \n89665                 0                  0         0         0   \n89697                 0                  0         0         0   \n114792                0                  0         0         0   \n126760                0                  0         0         0   \n\n        solid_tumor_with_metastasis  diabetes_mellitus  \n10394                             0                  0  \n10953                             0                  0  \n12376                             0                  0  \n12538                             0                  0  \n13298                             0                  0  \n14122                             0                  1  \n25765                             0                  0  \n34590                             0                  0  \n35300                             0                  0  \n35429                             0                  0  \n36314                             0                  0  \n36526                             0                  0  \n37477                             0                  0  \n37748                             0                  1  \n38902                             0                  1  \n39026                             0                  0  \n39261                             0                  0  \n89589                             0                  0  \n89608                             0                  0  \n89616                             0                  0  \n89626                             0                  0  \n89629                             0                  0  \n89637                             0                  0  \n89659                             0                  0  \n89662                             0                  0  \n89664                             0                  0  \n89665                             0                  0  \n89697                             0                  0  \n114792                            0                  0  \n126760                            0                  0  \n\n[30 rows x 181 columns]\n"
    }
   ],
   "source": [
    "df_age_invalid = df_train[df_train['age']==0.0]\n",
    "age_null = df_age_invalid.isnull().sum().sum()\n",
    "age_total = df_age_invalid.shape[0] * df_age_invalid.shape[1]\n",
    "print(f\"Invalid age: Rows: {df_age_invalid.shape[0]} % null values: {100 * age_null/age_total:0.2f}%\")\n",
    "print(df_age_invalid)"
   ]
  },
  {
   "cell_type": "markdown",
   "metadata": {},
   "source": [
    "Almost 70% of the values in the rows where age is null have null values. We can remove these 30 rows."
   ],
   "execution_count": null,
   "outputs": []
  },
  {
   "cell_type": "markdown",
   "metadata": {},
   "source": [
    "**Presence of invalid and missing values and handling :**\n",
    "- **age**:\n",
    "    - In the training dataset, there are 30 invalid ages. Most (70%) values are missing. Remove these rows.\n",
    "    - In the training dataset, there are null values for age. Handling?\n",
    "- **gender**: \n",
    "    - In both training and test datasets, there are null values for gender. Fill \"Unknown\"\n",
    "    - Convert the gender to dummy variables\n",
    "- **ethnicity**: \n",
    "    - In both training and test datasets, there are null values for ethnicity. Fill \"Unkown\"\n",
    "    - Convert the ethnicity to dummy variables\n",
    "- **weight**: Fill Average weight of the age, gender & ethnicity\n",
    "- **height**: Fill Average height of the age, gender & ethnicity\n",
    "- **bmi**: \n",
    "    - Derived variable from weight and height\n",
    "    - In both training and test datasets, there are null values for bmi. \n",
    "    - weight and height can be imputed using age, gender and ethnicity\n",
    "        - training: Around 194 rows are null. Remove these rows?\n",
    "        - testing: All dependent columns have values\n",
    "    - Extract non-null rows of age, gender, ethnicity, weight, height and make a linear regression\n",
    "    - Calculate bmi based on  weight and height. Here, there 3 possibilities - weight only is present, height only is present, both weight and height is not present.\n",
    "    -  Should weight and height be replaced only with bmi?\n",
    "\n",
    "- Convert categorical features - gender, ethnicity and bmi into dummy variables\n",
    "\n",
    "**Findings**\n",
    "- Distribution of age across categories is similar for training and Unlabeled datasets\n",
    "- The distribution of bmi across categories is similar in training and Unlabeled data sets"
   ],
   "execution_count": null,
   "outputs": []
  },
  {
   "cell_type": "markdown",
   "metadata": {},
   "source": [
    "Remove rows where age has invalid values "
   ],
   "execution_count": null,
   "outputs": []
  },
  {
   "cell_type": "code",
   "execution_count": 51,
   "metadata": {},
   "outputs": [
    {
     "output_type": "stream",
     "name": "stdout",
     "text": "130157 --> 130127\n"
    }
   ],
   "source": [
    "df_train_up = df_train.drop(df_train[df_train['age']==0.0].index)\n",
    "print(f\"{df_train.shape[0]} --> {df_train_up.shape[0]}\")"
   ]
  },
  {
   "cell_type": "code",
   "execution_count": 52,
   "metadata": {},
   "outputs": [
    {
     "output_type": "execute_result",
     "data": {
      "text/plain": "        encounter_id    age gender         ethnicity  weight  height    bmi\n0             214826 68.00%      M         Caucasian  73.90% 180.30% 22.73%\n1             246060 77.00%      F         Caucasian  70.20% 160.00% 27.42%\n2             276985 25.00%      F         Caucasian  95.30% 172.70% 31.95%\n3             262220 81.00%      F         Caucasian  61.70% 165.10% 22.64%\n4             201746 19.00%      M         Caucasian     NaN 188.00%    NaN\n...              ...    ...    ...               ...     ...     ...    ...\n130152        164758 50.00%      M         Caucasian  90.00% 175.30% 29.29%\n130153        197653 79.00%      F         Caucasian  78.40% 162.60% 29.65%\n130154        219719 73.00%      M  African American 102.00% 177.80% 32.27%\n130155        222562 81.00%      M         Caucasian  83.90% 185.40% 24.41%\n130156        157942 35.00%      M  African American 100.80% 182.90% 30.13%\n\n[130127 rows x 7 columns]",
      "text/html": "<div>\n<style scoped>\n    .dataframe tbody tr th:only-of-type {\n        vertical-align: middle;\n    }\n\n    .dataframe tbody tr th {\n        vertical-align: top;\n    }\n\n    .dataframe thead th {\n        text-align: right;\n    }\n</style>\n<table border=\"1\" class=\"dataframe\">\n  <thead>\n    <tr style=\"text-align: right;\">\n      <th></th>\n      <th>encounter_id</th>\n      <th>age</th>\n      <th>gender</th>\n      <th>ethnicity</th>\n      <th>weight</th>\n      <th>height</th>\n      <th>bmi</th>\n    </tr>\n  </thead>\n  <tbody>\n    <tr>\n      <th>0</th>\n      <td>214826</td>\n      <td>68.00%</td>\n      <td>M</td>\n      <td>Caucasian</td>\n      <td>73.90%</td>\n      <td>180.30%</td>\n      <td>22.73%</td>\n    </tr>\n    <tr>\n      <th>1</th>\n      <td>246060</td>\n      <td>77.00%</td>\n      <td>F</td>\n      <td>Caucasian</td>\n      <td>70.20%</td>\n      <td>160.00%</td>\n      <td>27.42%</td>\n    </tr>\n    <tr>\n      <th>2</th>\n      <td>276985</td>\n      <td>25.00%</td>\n      <td>F</td>\n      <td>Caucasian</td>\n      <td>95.30%</td>\n      <td>172.70%</td>\n      <td>31.95%</td>\n    </tr>\n    <tr>\n      <th>3</th>\n      <td>262220</td>\n      <td>81.00%</td>\n      <td>F</td>\n      <td>Caucasian</td>\n      <td>61.70%</td>\n      <td>165.10%</td>\n      <td>22.64%</td>\n    </tr>\n    <tr>\n      <th>4</th>\n      <td>201746</td>\n      <td>19.00%</td>\n      <td>M</td>\n      <td>Caucasian</td>\n      <td>NaN</td>\n      <td>188.00%</td>\n      <td>NaN</td>\n    </tr>\n    <tr>\n      <th>...</th>\n      <td>...</td>\n      <td>...</td>\n      <td>...</td>\n      <td>...</td>\n      <td>...</td>\n      <td>...</td>\n      <td>...</td>\n    </tr>\n    <tr>\n      <th>130152</th>\n      <td>164758</td>\n      <td>50.00%</td>\n      <td>M</td>\n      <td>Caucasian</td>\n      <td>90.00%</td>\n      <td>175.30%</td>\n      <td>29.29%</td>\n    </tr>\n    <tr>\n      <th>130153</th>\n      <td>197653</td>\n      <td>79.00%</td>\n      <td>F</td>\n      <td>Caucasian</td>\n      <td>78.40%</td>\n      <td>162.60%</td>\n      <td>29.65%</td>\n    </tr>\n    <tr>\n      <th>130154</th>\n      <td>219719</td>\n      <td>73.00%</td>\n      <td>M</td>\n      <td>African American</td>\n      <td>102.00%</td>\n      <td>177.80%</td>\n      <td>32.27%</td>\n    </tr>\n    <tr>\n      <th>130155</th>\n      <td>222562</td>\n      <td>81.00%</td>\n      <td>M</td>\n      <td>Caucasian</td>\n      <td>83.90%</td>\n      <td>185.40%</td>\n      <td>24.41%</td>\n    </tr>\n    <tr>\n      <th>130156</th>\n      <td>157942</td>\n      <td>35.00%</td>\n      <td>M</td>\n      <td>African American</td>\n      <td>100.80%</td>\n      <td>182.90%</td>\n      <td>30.13%</td>\n    </tr>\n  </tbody>\n</table>\n<p>130127 rows × 7 columns</p>\n</div>"
     },
     "metadata": {},
     "execution_count": 52
    }
   ],
   "source": [
    "df_train_demo1 = df_train_up[['encounter_id', 'age', 'gender', 'ethnicity', 'weight', 'height', 'bmi']]\n",
    "df_train_demo1"
   ]
  },
  {
   "cell_type": "code",
   "execution_count": 88,
   "metadata": {},
   "outputs": [
    {
     "output_type": "execute_result",
     "data": {
      "text/plain": "              age gender         ethnicity  mean\n0     (-0.1, 0.0]      F  African American   NaN\n1     (-0.1, 0.0]      F             Asian   NaN\n2     (-0.1, 0.0]      F         Caucasian   NaN\n3     (-0.1, 0.0]      F          Hispanic   NaN\n4     (-0.1, 0.0]      F   Native American   NaN\n..            ...    ...               ...   ...\n79  (90.0, 120.0]      M             Asian   NaN\n80  (90.0, 120.0]      M         Caucasian   NaN\n81  (90.0, 120.0]      M          Hispanic   NaN\n82  (90.0, 120.0]      M   Native American   NaN\n83  (90.0, 120.0]      M     Other/Unknown   NaN\n\n[84 rows x 4 columns]",
      "text/html": "<div>\n<style scoped>\n    .dataframe tbody tr th:only-of-type {\n        vertical-align: middle;\n    }\n\n    .dataframe tbody tr th {\n        vertical-align: top;\n    }\n\n    .dataframe thead th {\n        text-align: right;\n    }\n</style>\n<table border=\"1\" class=\"dataframe\">\n  <thead>\n    <tr style=\"text-align: right;\">\n      <th></th>\n      <th>age</th>\n      <th>gender</th>\n      <th>ethnicity</th>\n      <th>mean</th>\n    </tr>\n  </thead>\n  <tbody>\n    <tr>\n      <th>0</th>\n      <td>(-0.1, 0.0]</td>\n      <td>F</td>\n      <td>African American</td>\n      <td>NaN</td>\n    </tr>\n    <tr>\n      <th>1</th>\n      <td>(-0.1, 0.0]</td>\n      <td>F</td>\n      <td>Asian</td>\n      <td>NaN</td>\n    </tr>\n    <tr>\n      <th>2</th>\n      <td>(-0.1, 0.0]</td>\n      <td>F</td>\n      <td>Caucasian</td>\n      <td>NaN</td>\n    </tr>\n    <tr>\n      <th>3</th>\n      <td>(-0.1, 0.0]</td>\n      <td>F</td>\n      <td>Hispanic</td>\n      <td>NaN</td>\n    </tr>\n    <tr>\n      <th>4</th>\n      <td>(-0.1, 0.0]</td>\n      <td>F</td>\n      <td>Native American</td>\n      <td>NaN</td>\n    </tr>\n    <tr>\n      <th>...</th>\n      <td>...</td>\n      <td>...</td>\n      <td>...</td>\n      <td>...</td>\n    </tr>\n    <tr>\n      <th>79</th>\n      <td>(90.0, 120.0]</td>\n      <td>M</td>\n      <td>Asian</td>\n      <td>NaN</td>\n    </tr>\n    <tr>\n      <th>80</th>\n      <td>(90.0, 120.0]</td>\n      <td>M</td>\n      <td>Caucasian</td>\n      <td>NaN</td>\n    </tr>\n    <tr>\n      <th>81</th>\n      <td>(90.0, 120.0]</td>\n      <td>M</td>\n      <td>Hispanic</td>\n      <td>NaN</td>\n    </tr>\n    <tr>\n      <th>82</th>\n      <td>(90.0, 120.0]</td>\n      <td>M</td>\n      <td>Native American</td>\n      <td>NaN</td>\n    </tr>\n    <tr>\n      <th>83</th>\n      <td>(90.0, 120.0]</td>\n      <td>M</td>\n      <td>Other/Unknown</td>\n      <td>NaN</td>\n    </tr>\n  </tbody>\n</table>\n<p>84 rows × 4 columns</p>\n</div>"
     },
     "metadata": {},
     "execution_count": 88
    }
   ],
   "source": [
    "#df_weight = df_train_demo1.groupby('gender')['gender'].count(['age']) This workds\n",
    "# df_age = df.groupby(AGE_BINS)['age'].agg(['count'])\n",
    "df_weight = df_train_demo1.groupby([AGE_BINS(df_train_demo1), 'gender', 'ethnicity'])['weight'].agg(['mean'])\n",
    "df_weight.reset_index()\n",
    ""
   ]
  },
  {
   "cell_type": "code",
   "execution_count": 89,
   "metadata": {},
   "outputs": [
    {
     "output_type": "stream",
     "name": "stdout",
     "text": "Index(['mean'], dtype='object')\n"
    }
   ],
   "source": [
    "print(df_weight.columns)"
   ]
  },
  {
   "cell_type": "code",
   "execution_count": 90,
   "metadata": {},
   "outputs": [
    {
     "output_type": "execute_result",
     "data": {
      "text/plain": "                                      mean\nage          gender ethnicity             \n(20.0, 40.0] F      Native American 88.79%",
      "text/html": "<div>\n<style scoped>\n    .dataframe tbody tr th:only-of-type {\n        vertical-align: middle;\n    }\n\n    .dataframe tbody tr th {\n        vertical-align: top;\n    }\n\n    .dataframe thead th {\n        text-align: right;\n    }\n</style>\n<table border=\"1\" class=\"dataframe\">\n  <thead>\n    <tr style=\"text-align: right;\">\n      <th></th>\n      <th></th>\n      <th></th>\n      <th>mean</th>\n    </tr>\n    <tr>\n      <th>age</th>\n      <th>gender</th>\n      <th>ethnicity</th>\n      <th></th>\n    </tr>\n  </thead>\n  <tbody>\n    <tr>\n      <th>(20.0, 40.0]</th>\n      <th>F</th>\n      <th>Native American</th>\n      <td>88.79%</td>\n    </tr>\n  </tbody>\n</table>\n</div>"
     },
     "metadata": {},
     "execution_count": 90
    }
   ],
   "source": [
    "df_weight.iloc[[40]]"
   ]
  },
  {
   "cell_type": "code",
   "execution_count": 91,
   "metadata": {},
   "outputs": [
    {
     "output_type": "execute_result",
     "data": {
      "text/plain": "ethnicity            African American  Asian  Caucasian  Hispanic  \\\nage          gender                                                 \n(15.9, 20.0] F                 75.19% 63.94%     67.38%    70.11%   \n             M                 83.43% 68.34%     76.72%    73.89%   \n(20.0, 40.0] F                 88.67% 65.93%     79.03%    74.15%   \n             M                 94.40% 79.11%     89.58%    87.59%   \n(40.0, 60.0] F                 89.34% 66.69%     82.77%    78.22%   \n             M                 93.47% 76.88%     95.49%    89.32%   \n(60.0, 90.0] F                 80.99% 59.61%     75.18%    70.94%   \n             M                 85.80% 69.08%     89.01%    80.09%   \n\nethnicity            Native American  Other/Unknown  \nage          gender                                  \n(15.9, 20.0] F                74.47%         65.64%  \n             M                82.97%         75.71%  \n(20.0, 40.0] F                88.79%         76.64%  \n             M                95.59%         88.02%  \n(40.0, 60.0] F                86.59%         79.35%  \n             M                96.64%         87.79%  \n(60.0, 90.0] F                78.55%         71.47%  \n             M                83.60%         81.69%  ",
      "text/html": "<div>\n<style scoped>\n    .dataframe tbody tr th:only-of-type {\n        vertical-align: middle;\n    }\n\n    .dataframe tbody tr th {\n        vertical-align: top;\n    }\n\n    .dataframe thead th {\n        text-align: right;\n    }\n</style>\n<table border=\"1\" class=\"dataframe\">\n  <thead>\n    <tr style=\"text-align: right;\">\n      <th></th>\n      <th>ethnicity</th>\n      <th>African American</th>\n      <th>Asian</th>\n      <th>Caucasian</th>\n      <th>Hispanic</th>\n      <th>Native American</th>\n      <th>Other/Unknown</th>\n    </tr>\n    <tr>\n      <th>age</th>\n      <th>gender</th>\n      <th></th>\n      <th></th>\n      <th></th>\n      <th></th>\n      <th></th>\n      <th></th>\n    </tr>\n  </thead>\n  <tbody>\n    <tr>\n      <th rowspan=\"2\" valign=\"top\">(15.9, 20.0]</th>\n      <th>F</th>\n      <td>75.19%</td>\n      <td>63.94%</td>\n      <td>67.38%</td>\n      <td>70.11%</td>\n      <td>74.47%</td>\n      <td>65.64%</td>\n    </tr>\n    <tr>\n      <th>M</th>\n      <td>83.43%</td>\n      <td>68.34%</td>\n      <td>76.72%</td>\n      <td>73.89%</td>\n      <td>82.97%</td>\n      <td>75.71%</td>\n    </tr>\n    <tr>\n      <th rowspan=\"2\" valign=\"top\">(20.0, 40.0]</th>\n      <th>F</th>\n      <td>88.67%</td>\n      <td>65.93%</td>\n      <td>79.03%</td>\n      <td>74.15%</td>\n      <td>88.79%</td>\n      <td>76.64%</td>\n    </tr>\n    <tr>\n      <th>M</th>\n      <td>94.40%</td>\n      <td>79.11%</td>\n      <td>89.58%</td>\n      <td>87.59%</td>\n      <td>95.59%</td>\n      <td>88.02%</td>\n    </tr>\n    <tr>\n      <th rowspan=\"2\" valign=\"top\">(40.0, 60.0]</th>\n      <th>F</th>\n      <td>89.34%</td>\n      <td>66.69%</td>\n      <td>82.77%</td>\n      <td>78.22%</td>\n      <td>86.59%</td>\n      <td>79.35%</td>\n    </tr>\n    <tr>\n      <th>M</th>\n      <td>93.47%</td>\n      <td>76.88%</td>\n      <td>95.49%</td>\n      <td>89.32%</td>\n      <td>96.64%</td>\n      <td>87.79%</td>\n    </tr>\n    <tr>\n      <th rowspan=\"2\" valign=\"top\">(60.0, 90.0]</th>\n      <th>F</th>\n      <td>80.99%</td>\n      <td>59.61%</td>\n      <td>75.18%</td>\n      <td>70.94%</td>\n      <td>78.55%</td>\n      <td>71.47%</td>\n    </tr>\n    <tr>\n      <th>M</th>\n      <td>85.80%</td>\n      <td>69.08%</td>\n      <td>89.01%</td>\n      <td>80.09%</td>\n      <td>83.60%</td>\n      <td>81.69%</td>\n    </tr>\n  </tbody>\n</table>\n</div>"
     },
     "metadata": {},
     "execution_count": 91
    }
   ],
   "source": [
    " pd.pivot_table(df_weight, values='mean', index=['age', 'gender'],columns=['ethnicity'], aggfunc=np.mean)"
   ]
  },
  {
   "cell_type": "code",
   "execution_count": null,
   "metadata": {},
   "outputs": [],
   "source": [
    "\n",
    "df_train_nana_weight = df_train_demo1[df_train_demo1['weight'].isnull()]\n",
    "df_train_nana_weight"
   ]
  },
  {
   "cell_type": "markdown",
   "metadata": {},
   "source": [
    "===========================X===========================X===========================X===========================X\n",
    "\n",
    "*Work in Progress*\n",
    "\n",
    "===========================X===========================X===========================X===========================X"
   ],
   "execution_count": null,
   "outputs": []
  },
  {
   "cell_type": "markdown",
   "metadata": {},
   "source": [
    "- Combine features - ratio, difference "
   ],
   "execution_count": null,
   "outputs": []
  },
  {
   "cell_type": "code",
   "execution_count": null,
   "metadata": {},
   "outputs": [],
   "source": [
    "df_train.groupby(['hospital_id']).count()['encounter_id'].sort_values()"
   ]
  },
  {
   "cell_type": "code",
   "execution_count": null,
   "metadata": {},
   "outputs": [],
   "source": [
    "df_train.loc[df_train['hospital_id']==4]"
   ]
  },
  {
   "cell_type": "code",
   "execution_count": null,
   "metadata": {},
   "outputs": [],
   "source": [
    "df_train.groupby('icu_id')['icu_id'].agg(['count']).sort_values(by = 'count', ascending=False)"
   ]
  },
  {
   "cell_type": "code",
   "execution_count": null,
   "metadata": {},
   "outputs": [],
   "source": [
    "df_train['bmi_calc'] = df['weight']/(df['height']/100)**2"
   ]
  },
  {
   "cell_type": "code",
   "execution_count": null,
   "metadata": {},
   "outputs": [],
   "source": [
    "df_bmi = df_train[['weight', 'height', 'bmi']]\n",
    "df_bmi_1  = df_bmi[df_bmi.isna().any(axis=1)]"
   ]
  },
  {
   "cell_type": "code",
   "execution_count": null,
   "metadata": {},
   "outputs": [],
   "source": [
    "df_bmi_1"
   ]
  },
  {
   "cell_type": "code",
   "execution_count": null,
   "metadata": {},
   "outputs": [],
   "source": [
    "# encounter_ids are unique and there are no repeats\n",
    "df_temp = df.groupby(['encounter_id'])['encounter_id'].count().sort_values(ascending=False)\n",
    "#df_temp = df_temp.rename(columns = {'encounter_id':'count'})\n",
    "#df_temp['%'] = 100 * df_temp['count'] / df_temp['count'].sum()\n",
    "#pd.options.display.float_format = '{:.2f}%'.format\n",
    "print(df_temp)"
   ]
  },
  {
   "cell_type": "code",
   "execution_count": null,
   "metadata": {},
   "outputs": [],
   "source": [
    "def getAllValues(df, col):\n",
    "    df_temp = df.groupby([col]).count()['encounter_id'].sort_values(ascending=False).reset_index()\n",
    "    df_temp = df_temp.rename(columns = {'encounter_id':'count'})\n",
    "    df_temp['%'] = 100 * df_temp['count'] / df_temp['count'].sum()\n",
    "    print(df_temp)"
   ]
  },
  {
   "cell_type": "code",
   "execution_count": null,
   "metadata": {},
   "outputs": [],
   "source": [
    "# Columns - string type\n",
    "for  col in ['ethnicity', 'gender', 'hospital_admit_source', 'icu_admit_source', 'icu_type', 'icu_stay_type']:\n",
    "    getAllValues(df, col)\n",
    "    getAllValues(df_test, col)\n",
    "    print()"
   ]
  },
  {
   "cell_type": "code",
   "execution_count": null,
   "metadata": {},
   "outputs": [],
   "source": [
    "# Columns - binary type\n",
    "for col in ['elective_surgery', 'readmission_status', 'diabetes_mellitus' ]:\n",
    "    getAllValues(df, col)\t\n",
    "    if col != 'diabetes_mellitus':\n",
    "        getAllValues(df_test, col)\n",
    "    print()"
   ]
  },
  {
   "cell_type": "code",
   "execution_count": null,
   "metadata": {
    "tags": [
     "outputPrepend",
     "outputPrepend",
     "outputPrepend",
     "outputPrepend",
     "outputPrepend",
     "outputPrepend",
     "outputPrepend",
     "outputPrepend",
     "outputPrepend",
     "outputPrepend",
     "outputPrepend",
     "outputPrepend",
     "outputPrepend",
     "outputPrepend",
     "outputPrepend",
     "outputPrepend",
     "outputPrepend",
     "outputPrepend",
     "outputPrepend",
     "outputPrepend",
     "outputPrepend",
     "outputPrepend",
     "outputPrepend",
     "outputPrepend",
     "outputPrepend",
     "outputPrepend",
     "outputPrepend",
     "outputPrepend",
     "outputPrepend",
     "outputPrepend",
     "outputPrepend",
     "outputPrepend",
     "outputPrepend",
     "outputPrepend"
    ]
   },
   "outputs": [],
   "source": [
    "# Columns - nan data\n",
    "\n",
    "nan_counts = []\n",
    "nan_counts_percent = []\n",
    "for col in df.columns:\n",
    "    total = df[col].count()\n",
    "    nan_rows = len(df[df[col].isnull()])\n",
    "    nan_counts.append(nan_rows)\n",
    "    nan_counts_percent.append(100 * nan_rows/(total+nan_rows))"
   ]
  },
  {
   "cell_type": "code",
   "execution_count": null,
   "metadata": {},
   "outputs": [],
   "source": [
    "df_nan = pd.DataFrame({'Variable Name':df.columns, 'nan_counts':nan_counts, '%':nan_counts_percent})\n",
    "df_nan = df_nan.sort_values('nan_counts', ascending = False)\n",
    "df_nan['%'] = df_nan['%'].map('{:,.1f}%'.format)\n",
    "print(df_nan)\n",
    "df_nan.to_csv(\"nan_data.csv\")\n",
    "print(df_nan.shape[0])"
   ]
  },
  {
   "cell_type": "code",
   "execution_count": null,
   "metadata": {},
   "outputs": [],
   "source": [
    "# Rows with nan data\n",
    "df_nan = df[df.isna().any(axis=1)]\n",
    "print (f\"Rows with nan values: {100 * df_nan.shape[0]/df.shape[0]:.2f}%\")"
   ]
  },
  {
   "cell_type": "code",
   "execution_count": null,
   "metadata": {},
   "outputs": [],
   "source": [
    "df_dict = pd.read_csv(\"data/DataDictionaryWiDS2021.csv\")\n",
    "print(df_dict[['Variable Name', 'Category', 'Data Type']])\n",
    "print(df_dict.shape[0])"
   ]
  },
  {
   "cell_type": "code",
   "execution_count": null,
   "metadata": {},
   "outputs": [],
   "source": [
    "df_data_desc = pd.merge(df_nan, df_dict, on=\"Variable Name\")\n",
    "df_data_desc = df_data_desc.sort_values(by=['Category','Variable Name'])\n",
    "df_data_desc.to_csv(\"datadesc.csv\")"
   ]
  },
  {
   "cell_type": "code",
   "execution_count": null,
   "metadata": {},
   "outputs": [],
   "source": [
    "df[['apache_2_diagnosis', 'diabetes_mellitus']].corr()"
   ]
  },
  {
   "cell_type": "code",
   "execution_count": null,
   "metadata": {},
   "outputs": [],
   "source": [
    "from sklearn.linear_model import LinearRegression\n",
    "import numpy as np\n",
    "X = df[['arf_apache']]\n",
    "Y = df['diabetes_mellitus']\n",
    "slm = LinearRegression()\n",
    "np.set_printoptions(precision=2)\n",
    "slm.fit(X,Y)"
   ]
  },
  {
   "cell_type": "code",
   "execution_count": null,
   "metadata": {},
   "outputs": [],
   "source": [
    "Yhat =slm_hm.predict(X_hm)"
   ]
  }
 ]
}