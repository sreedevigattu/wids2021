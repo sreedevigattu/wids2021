{
 "nbformat": 4,
 "nbformat_minor": 2,
 "metadata": {
  "language_info": {
   "name": "python",
   "codemirror_mode": {
    "name": "ipython",
    "version": 3
   },
   "version": "3.9.1-final"
  },
  "orig_nbformat": 2,
  "file_extension": ".py",
  "mimetype": "text/x-python",
  "name": "python",
  "npconvert_exporter": "python",
  "pygments_lexer": "ipython3",
  "version": 3,
  "kernelspec": {
   "name": "python39164bitvenvvenv42d9530a45f24e7fb408333c496c5650",
   "display_name": "Python 3.9.1 64-bit ('venv': venv)"
  }
 },
 "cells": [
  {
   "cell_type": "code",
   "execution_count": 19,
   "metadata": {},
   "outputs": [],
   "source": [
    "import pandas as pd\n",
    "import numpy as np\n",
    "\n",
    "pd.options.display.float_format = '{:.2f}%'.format"
   ]
  },
  {
   "cell_type": "markdown",
   "metadata": {},
   "source": [
    "**Columns not useful as features**: \n",
    "- **encounter_id**: Unique, non-repeating values. \n",
    "- **hospital_id-icu_id**: A patient diagnosed with Diabetus Mellitus should not depend on hospital_id & it's icu_id. Each hostpital will have unique icu_ids. DROP\n",
    "- **readmission_status**: is 0 for all rows. DROP\n",
    "- **labs & vitals category**: They have max and min values. Should these be replaced with average?\n",
    "- **bmi**: Should weight and height be replaced only with bmi?\n",
    "- **height, weight**: Fill the missing values with the mean values according to the gender."
   ],
   "execution_count": null,
   "outputs": []
  },
  {
   "cell_type": "code",
   "execution_count": 3,
   "metadata": {},
   "outputs": [
    {
     "output_type": "stream",
     "name": "stdout",
     "text": "<class 'pandas.core.frame.DataFrame'>\nRangeIndex: 130157 entries, 0 to 130156\nColumns: 181 entries, Unnamed: 0 to diabetes_mellitus\ndtypes: float64(157), int64(18), object(6)\nmemory usage: 179.7+ MB\n"
    }
   ],
   "source": [
    "df = pd.read_csv(\"data/TrainingWiDS2021.csv\")\n",
    "df.info()"
   ]
  },
  {
   "cell_type": "code",
   "execution_count": 4,
   "metadata": {},
   "outputs": [
    {
     "output_type": "execute_result",
     "data": {
      "text/plain": "          Unnamed: 0   encounter_id    hospital_id            age  \\\ncount  130157.000000  130157.000000  130157.000000  125169.000000   \nmean    65079.000000  213000.856519     106.102131      61.995103   \nstd     37573.233831   38109.828146      63.482277      16.822880   \nmin         1.000000  147000.000000       1.000000       0.000000   \n25%     32540.000000  180001.000000      49.000000      52.000000   \n50%     65079.000000  213014.000000     112.000000      64.000000   \n75%     97618.000000  246002.000000     165.000000      75.000000   \nmax    130157.000000  279000.000000     204.000000      89.000000   \n\n                 bmi  elective_surgery         height         icu_id  \\\ncount  125667.000000     130157.000000  128080.000000  130157.000000   \nmean       29.110260          0.189840     169.607219     662.428344   \nstd         8.262776          0.392176      10.833085     304.259843   \nmin        14.844926          0.000000     137.200000      82.000000   \n25%        23.598006          0.000000     162.500000     427.000000   \n50%        27.564749          0.000000     170.100000     653.000000   \n75%        32.803127          0.000000     177.800000     969.000000   \nmax        67.814990          1.000000     195.590000    1111.000000   \n\n       pre_icu_los_days  readmission_status  ...  h1_pao2fio2ratio_max  \\\ncount     130157.000000            130157.0  ...          16760.000000   \nmean           0.839933                 0.0  ...            247.525419   \nstd            2.485337                 0.0  ...            131.440167   \nmin           -0.250000                 0.0  ...             42.000000   \n25%            0.045833                 0.0  ...            144.000000   \n50%            0.155556                 0.0  ...            228.125000   \n75%            0.423611                 0.0  ...            333.000000   \nmax          175.627778                 0.0  ...            720.000000   \n\n       h1_pao2fio2ratio_min          aids      cirrhosis  hepatic_failure  \\\ncount          16760.000000  130157.00000  130157.000000    130157.000000   \nmean             239.617358       0.00103       0.016081         0.013599   \nstd              128.562211       0.03207       0.125786         0.115819   \nmin               38.000000       0.00000       0.000000         0.000000   \n25%              138.000000       0.00000       0.000000         0.000000   \n50%              218.750000       0.00000       0.000000         0.000000   \n75%              324.000000       0.00000       0.000000         0.000000   \nmax              654.813793       1.00000       1.000000         1.000000   \n\n       immunosuppression       leukemia       lymphoma  \\\ncount      130157.000000  130157.000000  130157.000000   \nmean            0.025669       0.007307       0.004187   \nstd             0.158146       0.085166       0.064574   \nmin             0.000000       0.000000       0.000000   \n25%             0.000000       0.000000       0.000000   \n50%             0.000000       0.000000       0.000000   \n75%             0.000000       0.000000       0.000000   \nmax             1.000000       1.000000       1.000000   \n\n       solid_tumor_with_metastasis  diabetes_mellitus  \ncount                130157.000000      130157.000000  \nmean                      0.020852           0.216285  \nstd                       0.142888           0.411712  \nmin                       0.000000           0.000000  \n25%                       0.000000           0.000000  \n50%                       0.000000           0.000000  \n75%                       0.000000           0.000000  \nmax                       1.000000           1.000000  \n\n[8 rows x 175 columns]",
      "text/html": "<div>\n<style scoped>\n    .dataframe tbody tr th:only-of-type {\n        vertical-align: middle;\n    }\n\n    .dataframe tbody tr th {\n        vertical-align: top;\n    }\n\n    .dataframe thead th {\n        text-align: right;\n    }\n</style>\n<table border=\"1\" class=\"dataframe\">\n  <thead>\n    <tr style=\"text-align: right;\">\n      <th></th>\n      <th>Unnamed: 0</th>\n      <th>encounter_id</th>\n      <th>hospital_id</th>\n      <th>age</th>\n      <th>bmi</th>\n      <th>elective_surgery</th>\n      <th>height</th>\n      <th>icu_id</th>\n      <th>pre_icu_los_days</th>\n      <th>readmission_status</th>\n      <th>...</th>\n      <th>h1_pao2fio2ratio_max</th>\n      <th>h1_pao2fio2ratio_min</th>\n      <th>aids</th>\n      <th>cirrhosis</th>\n      <th>hepatic_failure</th>\n      <th>immunosuppression</th>\n      <th>leukemia</th>\n      <th>lymphoma</th>\n      <th>solid_tumor_with_metastasis</th>\n      <th>diabetes_mellitus</th>\n    </tr>\n  </thead>\n  <tbody>\n    <tr>\n      <th>count</th>\n      <td>130157.000000</td>\n      <td>130157.000000</td>\n      <td>130157.000000</td>\n      <td>125169.000000</td>\n      <td>125667.000000</td>\n      <td>130157.000000</td>\n      <td>128080.000000</td>\n      <td>130157.000000</td>\n      <td>130157.000000</td>\n      <td>130157.0</td>\n      <td>...</td>\n      <td>16760.000000</td>\n      <td>16760.000000</td>\n      <td>130157.00000</td>\n      <td>130157.000000</td>\n      <td>130157.000000</td>\n      <td>130157.000000</td>\n      <td>130157.000000</td>\n      <td>130157.000000</td>\n      <td>130157.000000</td>\n      <td>130157.000000</td>\n    </tr>\n    <tr>\n      <th>mean</th>\n      <td>65079.000000</td>\n      <td>213000.856519</td>\n      <td>106.102131</td>\n      <td>61.995103</td>\n      <td>29.110260</td>\n      <td>0.189840</td>\n      <td>169.607219</td>\n      <td>662.428344</td>\n      <td>0.839933</td>\n      <td>0.0</td>\n      <td>...</td>\n      <td>247.525419</td>\n      <td>239.617358</td>\n      <td>0.00103</td>\n      <td>0.016081</td>\n      <td>0.013599</td>\n      <td>0.025669</td>\n      <td>0.007307</td>\n      <td>0.004187</td>\n      <td>0.020852</td>\n      <td>0.216285</td>\n    </tr>\n    <tr>\n      <th>std</th>\n      <td>37573.233831</td>\n      <td>38109.828146</td>\n      <td>63.482277</td>\n      <td>16.822880</td>\n      <td>8.262776</td>\n      <td>0.392176</td>\n      <td>10.833085</td>\n      <td>304.259843</td>\n      <td>2.485337</td>\n      <td>0.0</td>\n      <td>...</td>\n      <td>131.440167</td>\n      <td>128.562211</td>\n      <td>0.03207</td>\n      <td>0.125786</td>\n      <td>0.115819</td>\n      <td>0.158146</td>\n      <td>0.085166</td>\n      <td>0.064574</td>\n      <td>0.142888</td>\n      <td>0.411712</td>\n    </tr>\n    <tr>\n      <th>min</th>\n      <td>1.000000</td>\n      <td>147000.000000</td>\n      <td>1.000000</td>\n      <td>0.000000</td>\n      <td>14.844926</td>\n      <td>0.000000</td>\n      <td>137.200000</td>\n      <td>82.000000</td>\n      <td>-0.250000</td>\n      <td>0.0</td>\n      <td>...</td>\n      <td>42.000000</td>\n      <td>38.000000</td>\n      <td>0.00000</td>\n      <td>0.000000</td>\n      <td>0.000000</td>\n      <td>0.000000</td>\n      <td>0.000000</td>\n      <td>0.000000</td>\n      <td>0.000000</td>\n      <td>0.000000</td>\n    </tr>\n    <tr>\n      <th>25%</th>\n      <td>32540.000000</td>\n      <td>180001.000000</td>\n      <td>49.000000</td>\n      <td>52.000000</td>\n      <td>23.598006</td>\n      <td>0.000000</td>\n      <td>162.500000</td>\n      <td>427.000000</td>\n      <td>0.045833</td>\n      <td>0.0</td>\n      <td>...</td>\n      <td>144.000000</td>\n      <td>138.000000</td>\n      <td>0.00000</td>\n      <td>0.000000</td>\n      <td>0.000000</td>\n      <td>0.000000</td>\n      <td>0.000000</td>\n      <td>0.000000</td>\n      <td>0.000000</td>\n      <td>0.000000</td>\n    </tr>\n    <tr>\n      <th>50%</th>\n      <td>65079.000000</td>\n      <td>213014.000000</td>\n      <td>112.000000</td>\n      <td>64.000000</td>\n      <td>27.564749</td>\n      <td>0.000000</td>\n      <td>170.100000</td>\n      <td>653.000000</td>\n      <td>0.155556</td>\n      <td>0.0</td>\n      <td>...</td>\n      <td>228.125000</td>\n      <td>218.750000</td>\n      <td>0.00000</td>\n      <td>0.000000</td>\n      <td>0.000000</td>\n      <td>0.000000</td>\n      <td>0.000000</td>\n      <td>0.000000</td>\n      <td>0.000000</td>\n      <td>0.000000</td>\n    </tr>\n    <tr>\n      <th>75%</th>\n      <td>97618.000000</td>\n      <td>246002.000000</td>\n      <td>165.000000</td>\n      <td>75.000000</td>\n      <td>32.803127</td>\n      <td>0.000000</td>\n      <td>177.800000</td>\n      <td>969.000000</td>\n      <td>0.423611</td>\n      <td>0.0</td>\n      <td>...</td>\n      <td>333.000000</td>\n      <td>324.000000</td>\n      <td>0.00000</td>\n      <td>0.000000</td>\n      <td>0.000000</td>\n      <td>0.000000</td>\n      <td>0.000000</td>\n      <td>0.000000</td>\n      <td>0.000000</td>\n      <td>0.000000</td>\n    </tr>\n    <tr>\n      <th>max</th>\n      <td>130157.000000</td>\n      <td>279000.000000</td>\n      <td>204.000000</td>\n      <td>89.000000</td>\n      <td>67.814990</td>\n      <td>1.000000</td>\n      <td>195.590000</td>\n      <td>1111.000000</td>\n      <td>175.627778</td>\n      <td>0.0</td>\n      <td>...</td>\n      <td>720.000000</td>\n      <td>654.813793</td>\n      <td>1.00000</td>\n      <td>1.000000</td>\n      <td>1.000000</td>\n      <td>1.000000</td>\n      <td>1.000000</td>\n      <td>1.000000</td>\n      <td>1.000000</td>\n      <td>1.000000</td>\n    </tr>\n  </tbody>\n</table>\n<p>8 rows × 175 columns</p>\n</div>"
     },
     "metadata": {},
     "execution_count": 4
    }
   ],
   "source": [
    "df.describe() #[['h1_temp_max', 'h1_temp_min']]"
   ]
  },
  {
   "cell_type": "code",
   "execution_count": 5,
   "metadata": {},
   "outputs": [
    {
     "output_type": "stream",
     "name": "stdout",
     "text": "<class 'pandas.core.frame.DataFrame'>\nRangeIndex: 10234 entries, 0 to 10233\nColumns: 180 entries, Unnamed: 0 to solid_tumor_with_metastasis\ndtypes: float64(156), int64(18), object(6)\nmemory usage: 14.1+ MB\n"
    }
   ],
   "source": [
    "df_test = pd.read_csv(\"data/UnlabeledWiDS2021.csv\")\n",
    "df_test.info()"
   ]
  },
  {
   "cell_type": "code",
   "execution_count": 6,
   "metadata": {},
   "outputs": [
    {
     "output_type": "execute_result",
     "data": {
      "text/plain": "hospital_id\n25        2\n130       2\n93        6\n95        6\n23        7\n       ... \n7      2944\n86     2962\n188    3075\n19     3885\n118    4306\nName: encounter_id, Length: 204, dtype: int64"
     },
     "metadata": {},
     "execution_count": 6
    }
   ],
   "source": [
    "df.groupby(['hospital_id']).count()['encounter_id'].sort_values()"
   ]
  },
  {
   "cell_type": "code",
   "execution_count": 7,
   "metadata": {},
   "outputs": [
    {
     "output_type": "execute_result",
     "data": {
      "text/plain": "      Unnamed: 0  encounter_id  hospital_id   age        bmi  \\\n8393        8394        173617            4  56.0  23.724537   \n8570        8571        188717            4   NaN  29.257812   \n8634        8635        276136            4  26.0  28.666947   \n9522        9523        251919            4   NaN  19.547261   \n9638        9639        197182            4  74.0  47.949208   \n9723        9724        275265            4   NaN  26.191889   \n9859        9860        177497            4  65.0  30.792556   \n\n      elective_surgery      ethnicity gender  height hospital_admit_source  \\\n8393                 0      Caucasian      M   177.8  Emergency Department   \n8570                 0            NaN      F   160.0        Operating Room   \n8634                 0  Other/Unknown      F   172.7  Emergency Department   \n9522                 0      Caucasian      F   152.4  Emergency Department   \n9638                 0      Caucasian      F   165.1                 Floor   \n9723                 0      Caucasian      M   177.8                 Floor   \n9859                 0      Caucasian      F   170.2                 Floor   \n\n      ... h1_pao2fio2ratio_max  h1_pao2fio2ratio_min aids cirrhosis  \\\n8393  ...                  NaN                   NaN    0         0   \n8570  ...                  NaN                   NaN    0         0   \n8634  ...           666.666667            654.813793    0         0   \n9522  ...                  NaN                   NaN    0         0   \n9638  ...                  NaN                   NaN    0         0   \n9723  ...                  NaN                   NaN    0         0   \n9859  ...                  NaN                   NaN    0         0   \n\n      hepatic_failure  immunosuppression  leukemia  lymphoma  \\\n8393                0                  0         0         0   \n8570                0                  0         0         0   \n8634                0                  0         0         0   \n9522                0                  0         0         0   \n9638                0                  0         0         0   \n9723                0                  0         0         0   \n9859                0                  0         0         0   \n\n      solid_tumor_with_metastasis  diabetes_mellitus  \n8393                            0                  0  \n8570                            0                  0  \n8634                            0                  0  \n9522                            0                  0  \n9638                            0                  0  \n9723                            0                  0  \n9859                            0                  0  \n\n[7 rows x 181 columns]",
      "text/html": "<div>\n<style scoped>\n    .dataframe tbody tr th:only-of-type {\n        vertical-align: middle;\n    }\n\n    .dataframe tbody tr th {\n        vertical-align: top;\n    }\n\n    .dataframe thead th {\n        text-align: right;\n    }\n</style>\n<table border=\"1\" class=\"dataframe\">\n  <thead>\n    <tr style=\"text-align: right;\">\n      <th></th>\n      <th>Unnamed: 0</th>\n      <th>encounter_id</th>\n      <th>hospital_id</th>\n      <th>age</th>\n      <th>bmi</th>\n      <th>elective_surgery</th>\n      <th>ethnicity</th>\n      <th>gender</th>\n      <th>height</th>\n      <th>hospital_admit_source</th>\n      <th>...</th>\n      <th>h1_pao2fio2ratio_max</th>\n      <th>h1_pao2fio2ratio_min</th>\n      <th>aids</th>\n      <th>cirrhosis</th>\n      <th>hepatic_failure</th>\n      <th>immunosuppression</th>\n      <th>leukemia</th>\n      <th>lymphoma</th>\n      <th>solid_tumor_with_metastasis</th>\n      <th>diabetes_mellitus</th>\n    </tr>\n  </thead>\n  <tbody>\n    <tr>\n      <th>8393</th>\n      <td>8394</td>\n      <td>173617</td>\n      <td>4</td>\n      <td>56.0</td>\n      <td>23.724537</td>\n      <td>0</td>\n      <td>Caucasian</td>\n      <td>M</td>\n      <td>177.8</td>\n      <td>Emergency Department</td>\n      <td>...</td>\n      <td>NaN</td>\n      <td>NaN</td>\n      <td>0</td>\n      <td>0</td>\n      <td>0</td>\n      <td>0</td>\n      <td>0</td>\n      <td>0</td>\n      <td>0</td>\n      <td>0</td>\n    </tr>\n    <tr>\n      <th>8570</th>\n      <td>8571</td>\n      <td>188717</td>\n      <td>4</td>\n      <td>NaN</td>\n      <td>29.257812</td>\n      <td>0</td>\n      <td>NaN</td>\n      <td>F</td>\n      <td>160.0</td>\n      <td>Operating Room</td>\n      <td>...</td>\n      <td>NaN</td>\n      <td>NaN</td>\n      <td>0</td>\n      <td>0</td>\n      <td>0</td>\n      <td>0</td>\n      <td>0</td>\n      <td>0</td>\n      <td>0</td>\n      <td>0</td>\n    </tr>\n    <tr>\n      <th>8634</th>\n      <td>8635</td>\n      <td>276136</td>\n      <td>4</td>\n      <td>26.0</td>\n      <td>28.666947</td>\n      <td>0</td>\n      <td>Other/Unknown</td>\n      <td>F</td>\n      <td>172.7</td>\n      <td>Emergency Department</td>\n      <td>...</td>\n      <td>666.666667</td>\n      <td>654.813793</td>\n      <td>0</td>\n      <td>0</td>\n      <td>0</td>\n      <td>0</td>\n      <td>0</td>\n      <td>0</td>\n      <td>0</td>\n      <td>0</td>\n    </tr>\n    <tr>\n      <th>9522</th>\n      <td>9523</td>\n      <td>251919</td>\n      <td>4</td>\n      <td>NaN</td>\n      <td>19.547261</td>\n      <td>0</td>\n      <td>Caucasian</td>\n      <td>F</td>\n      <td>152.4</td>\n      <td>Emergency Department</td>\n      <td>...</td>\n      <td>NaN</td>\n      <td>NaN</td>\n      <td>0</td>\n      <td>0</td>\n      <td>0</td>\n      <td>0</td>\n      <td>0</td>\n      <td>0</td>\n      <td>0</td>\n      <td>0</td>\n    </tr>\n    <tr>\n      <th>9638</th>\n      <td>9639</td>\n      <td>197182</td>\n      <td>4</td>\n      <td>74.0</td>\n      <td>47.949208</td>\n      <td>0</td>\n      <td>Caucasian</td>\n      <td>F</td>\n      <td>165.1</td>\n      <td>Floor</td>\n      <td>...</td>\n      <td>NaN</td>\n      <td>NaN</td>\n      <td>0</td>\n      <td>0</td>\n      <td>0</td>\n      <td>0</td>\n      <td>0</td>\n      <td>0</td>\n      <td>0</td>\n      <td>0</td>\n    </tr>\n    <tr>\n      <th>9723</th>\n      <td>9724</td>\n      <td>275265</td>\n      <td>4</td>\n      <td>NaN</td>\n      <td>26.191889</td>\n      <td>0</td>\n      <td>Caucasian</td>\n      <td>M</td>\n      <td>177.8</td>\n      <td>Floor</td>\n      <td>...</td>\n      <td>NaN</td>\n      <td>NaN</td>\n      <td>0</td>\n      <td>0</td>\n      <td>0</td>\n      <td>0</td>\n      <td>0</td>\n      <td>0</td>\n      <td>0</td>\n      <td>0</td>\n    </tr>\n    <tr>\n      <th>9859</th>\n      <td>9860</td>\n      <td>177497</td>\n      <td>4</td>\n      <td>65.0</td>\n      <td>30.792556</td>\n      <td>0</td>\n      <td>Caucasian</td>\n      <td>F</td>\n      <td>170.2</td>\n      <td>Floor</td>\n      <td>...</td>\n      <td>NaN</td>\n      <td>NaN</td>\n      <td>0</td>\n      <td>0</td>\n      <td>0</td>\n      <td>0</td>\n      <td>0</td>\n      <td>0</td>\n      <td>0</td>\n      <td>0</td>\n    </tr>\n  </tbody>\n</table>\n<p>7 rows × 181 columns</p>\n</div>"
     },
     "metadata": {},
     "execution_count": 7
    }
   ],
   "source": [
    "df.loc[df['hospital_id']==4]"
   ]
  },
  {
   "cell_type": "code",
   "execution_count": 8,
   "metadata": {},
   "outputs": [
    {
     "output_type": "execute_result",
     "data": {
      "text/plain": "        count\nicu_id       \n1019     1344\n646      1312\n653      1296\n876      1280\n413      1219\n...       ...\n365         2\n241         2\n989         2\n302         2\n603         2\n\n[328 rows x 1 columns]",
      "text/html": "<div>\n<style scoped>\n    .dataframe tbody tr th:only-of-type {\n        vertical-align: middle;\n    }\n\n    .dataframe tbody tr th {\n        vertical-align: top;\n    }\n\n    .dataframe thead th {\n        text-align: right;\n    }\n</style>\n<table border=\"1\" class=\"dataframe\">\n  <thead>\n    <tr style=\"text-align: right;\">\n      <th></th>\n      <th>count</th>\n    </tr>\n    <tr>\n      <th>icu_id</th>\n      <th></th>\n    </tr>\n  </thead>\n  <tbody>\n    <tr>\n      <th>1019</th>\n      <td>1344</td>\n    </tr>\n    <tr>\n      <th>646</th>\n      <td>1312</td>\n    </tr>\n    <tr>\n      <th>653</th>\n      <td>1296</td>\n    </tr>\n    <tr>\n      <th>876</th>\n      <td>1280</td>\n    </tr>\n    <tr>\n      <th>413</th>\n      <td>1219</td>\n    </tr>\n    <tr>\n      <th>...</th>\n      <td>...</td>\n    </tr>\n    <tr>\n      <th>365</th>\n      <td>2</td>\n    </tr>\n    <tr>\n      <th>241</th>\n      <td>2</td>\n    </tr>\n    <tr>\n      <th>989</th>\n      <td>2</td>\n    </tr>\n    <tr>\n      <th>302</th>\n      <td>2</td>\n    </tr>\n    <tr>\n      <th>603</th>\n      <td>2</td>\n    </tr>\n  </tbody>\n</table>\n<p>328 rows × 1 columns</p>\n</div>"
     },
     "metadata": {},
     "execution_count": 8
    }
   ],
   "source": [
    "df.groupby('icu_id')['icu_id'].agg(['count']).sort_values(by = 'count', ascending=False)"
   ]
  },
  {
   "cell_type": "code",
   "execution_count": 9,
   "metadata": {},
   "outputs": [],
   "source": [
    "df['bmi_calc'] = df['weight']/(df['height']/100)**2"
   ]
  },
  {
   "cell_type": "code",
   "execution_count": 10,
   "metadata": {},
   "outputs": [],
   "source": [
    "df_bmi = df[['weight', 'height', 'bmi', 'bmi_calc']]\n",
    "df_bmi_1  = df_bmi[df_bmi.isna().any(axis=1)]"
   ]
  },
  {
   "cell_type": "code",
   "execution_count": 11,
   "metadata": {},
   "outputs": [
    {
     "output_type": "execute_result",
     "data": {
      "text/plain": "        weight  height  bmi  bmi_calc\n4          NaN   188.0  NaN       NaN\n7          NaN   165.0  NaN       NaN\n8          NaN   170.2  NaN       NaN\n12         NaN   175.3  NaN       NaN\n13         NaN   172.7  NaN       NaN\n...        ...     ...  ...       ...\n129554     NaN   180.3  NaN       NaN\n129561    99.8     NaN  NaN       NaN\n129901     NaN   160.0  NaN       NaN\n130140     NaN     NaN  NaN       NaN\n130141     NaN     NaN  NaN       NaN\n\n[4490 rows x 4 columns]",
      "text/html": "<div>\n<style scoped>\n    .dataframe tbody tr th:only-of-type {\n        vertical-align: middle;\n    }\n\n    .dataframe tbody tr th {\n        vertical-align: top;\n    }\n\n    .dataframe thead th {\n        text-align: right;\n    }\n</style>\n<table border=\"1\" class=\"dataframe\">\n  <thead>\n    <tr style=\"text-align: right;\">\n      <th></th>\n      <th>weight</th>\n      <th>height</th>\n      <th>bmi</th>\n      <th>bmi_calc</th>\n    </tr>\n  </thead>\n  <tbody>\n    <tr>\n      <th>4</th>\n      <td>NaN</td>\n      <td>188.0</td>\n      <td>NaN</td>\n      <td>NaN</td>\n    </tr>\n    <tr>\n      <th>7</th>\n      <td>NaN</td>\n      <td>165.0</td>\n      <td>NaN</td>\n      <td>NaN</td>\n    </tr>\n    <tr>\n      <th>8</th>\n      <td>NaN</td>\n      <td>170.2</td>\n      <td>NaN</td>\n      <td>NaN</td>\n    </tr>\n    <tr>\n      <th>12</th>\n      <td>NaN</td>\n      <td>175.3</td>\n      <td>NaN</td>\n      <td>NaN</td>\n    </tr>\n    <tr>\n      <th>13</th>\n      <td>NaN</td>\n      <td>172.7</td>\n      <td>NaN</td>\n      <td>NaN</td>\n    </tr>\n    <tr>\n      <th>...</th>\n      <td>...</td>\n      <td>...</td>\n      <td>...</td>\n      <td>...</td>\n    </tr>\n    <tr>\n      <th>129554</th>\n      <td>NaN</td>\n      <td>180.3</td>\n      <td>NaN</td>\n      <td>NaN</td>\n    </tr>\n    <tr>\n      <th>129561</th>\n      <td>99.8</td>\n      <td>NaN</td>\n      <td>NaN</td>\n      <td>NaN</td>\n    </tr>\n    <tr>\n      <th>129901</th>\n      <td>NaN</td>\n      <td>160.0</td>\n      <td>NaN</td>\n      <td>NaN</td>\n    </tr>\n    <tr>\n      <th>130140</th>\n      <td>NaN</td>\n      <td>NaN</td>\n      <td>NaN</td>\n      <td>NaN</td>\n    </tr>\n    <tr>\n      <th>130141</th>\n      <td>NaN</td>\n      <td>NaN</td>\n      <td>NaN</td>\n      <td>NaN</td>\n    </tr>\n  </tbody>\n</table>\n<p>4490 rows × 4 columns</p>\n</div>"
     },
     "metadata": {},
     "execution_count": 11
    }
   ],
   "source": [
    "df_bmi_1"
   ]
  },
  {
   "cell_type": "markdown",
   "metadata": {},
   "source": [
    "BMI calculations - relation to diabetes\n",
    "bmi = weight (kg) / [height (m)]2\n",
    "\n",
    "Adults:\n",
    "For adults, the interpretation of BMI does not depend on sex or age. \n",
    "For adults 20 years old and older, BMI is interpreted using standard weight status categories.\n",
    "BMI\tWeight Status\n",
    "Below 18.5\tUnderweight\n",
    "18.5 – 24.9\tNormal or Healthy Weight\n",
    "25.0 – 29.9\tOverweight\n",
    "30.0 and Above\tObese\n"
   ],
   "execution_count": null,
   "outputs": []
  },
  {
   "cell_type": "code",
   "execution_count": null,
   "metadata": {},
   "outputs": [],
   "source": [
    "df_bmi_1[ df_bmi_1['height'].isnull() & df_bmi_1['weight'].notnull() |\n",
    "          df_bmi_1['height'].notnull() & df_bmi_1['weight'].isnull() |\n",
    "          df_bmi_1['height'].isnull() & df_bmi_1['weight'].isnull()].shape"
   ]
  },
  {
   "cell_type": "code",
   "execution_count": null,
   "metadata": {},
   "outputs": [],
   "source": [
    "df_bmi_1[ df_bmi_1['bmi'].isnull()].shape"
   ]
  },
  {
   "cell_type": "code",
   "execution_count": null,
   "metadata": {},
   "outputs": [],
   "source": [
    "# Wherever either weight or height or both are not available, bmi is also not available.\n",
    "# Isn't bmi dependent on gender\n",
    "# There are no rows where height and weight are null and bmi is not null\n",
    "'''print(\"Height-Nan:\", df_bmi_1[df_bmi_1['height'].isnull().shape))\n",
    "print(\"Weight-Nan:\", df_bmi_1[df_bmi_1['height'].isnull().shape))\n",
    "print(\"Height-Nan:\", df_bmi_1[df_bmi_1['height'].isnull().shape))'''\n",
    "print(df_bmi_1[df_bmi_1['height'].isnull() & df_bmi_1['weight'].isnull() & df_bmi_1['bmi'].notnull()])\n",
    "print(df_bmi_1[df_bmi_1['height'].notnull() & df_bmi_1['weight'].isnull() & df_bmi_1['bmi'].notnull()])\n",
    "print(df_bmi_1[df_bmi_1['height'].isnull() & df_bmi_1['weight'].notnull() & df_bmi_1['bmi'].notnull()])\n",
    "print(df_bmi_1[df_bmi_1['height'].notnull() & df_bmi_1['weight'].notnull() & df_bmi_1['bmi'].isnull()])"
   ]
  },
  {
   "cell_type": "code",
   "execution_count": null,
   "metadata": {},
   "outputs": [],
   "source": [
    "bins = pd.cut(df['bmi_calc'], [0.0, 18.5, 24.9, 30, 70], labels=['uw','nw','ow','o'])\n",
    "df.groupby(bins)['bmi_calc'].agg(['count'])"
   ]
  },
  {
   "cell_type": "code",
   "execution_count": null,
   "metadata": {},
   "outputs": [],
   "source": [
    "# underweight, normal, overweight, obese\n",
    "bmi_bins = [0, 18.5, 24.9, 30, 70] \n",
    "bmi_labels=[    '[0.0-18.5] underweight',\n",
    "                            '[18.5-24.9] normal weight',\n",
    "                            '[30-70] over weight',\n",
    "                            '[70<] obese']\n",
    ""
   ]
  },
  {
   "cell_type": "code",
   "execution_count": null,
   "metadata": {},
   "outputs": [],
   "source": [
    "bins = pd.cut(df['bmi'], bmi_bins, labels=bmi_labels)\n",
    "df_bmi = df.groupby(bins)['bmi'].agg(['count'])\n",
    "df_bmi = df_bmi.reset_index()\n",
    "df_bmi"
   ]
  },
  {
   "cell_type": "code",
   "execution_count": null,
   "metadata": {},
   "outputs": [],
   "source": [
    "df_bmi_F = df[df['gender']=='F']\n",
    "bins = pd.cut(df_bmi_F['bmi'], bmi_bins, labels=bmi_labels)\n",
    "df_bmi_F = df_bmi_F.groupby(bins)['bmi'].agg(['count'])\n",
    "df_bmi_F = df_bmi_F.reset_index()\n",
    "df_bmi_F = df_bmi_F.rename(columns = {'count':'Female'})\n",
    "df_bmi_F"
   ]
  },
  {
   "cell_type": "code",
   "execution_count": null,
   "metadata": {},
   "outputs": [],
   "source": [
    "df_bmi = df_bmi_M.join(df_bmi_F.set_index('bmi'), on= 'bmi')\n",
    "df_bmi['total'] = df_bmi['Male'] + df_bmi['Female']\n",
    "df_bmi['%'] = 100 * df_bmi['total'] / df_bmi['total'].sum()\n",
    "df_bmi"
   ]
  },
  {
   "cell_type": "code",
   "execution_count": null,
   "metadata": {},
   "outputs": [],
   "source": [
    "table = pd.pivot_table(df, values='encounter_id', index='gender', columns='diabetes_mellitus', aggfunc='count')\n",
    "table"
   ]
  },
  {
   "cell_type": "code",
   "execution_count": null,
   "metadata": {},
   "outputs": [],
   "source": [
    "df_1 = df[df['diabetes_mellitus']==1]\n",
    "bins = pd.cut(df_1['bmi'], bmi_bins, labels=bmi_labels)\n",
    "df_bmi_1 = df_1.groupby(bins)['bmi'].agg(['count'])\n",
    "df_bmi_1 = df_bmi_1.reset_index()\n",
    "df_bmi_1 = df_bmi_1.rename(columns = {'count':'diabetes=1'})"
   ]
  },
  {
   "cell_type": "code",
   "execution_count": null,
   "metadata": {},
   "outputs": [],
   "source": [
    "df_0 = df[df['diabetes_mellitus']==0]\n",
    "bins = pd.cut(df_0['bmi'], bmi_bins, labels=bmi_labels)\n",
    "df_bmi_0 = df_0.groupby(bins)['bmi'].agg(['count'])\n",
    "df_bmi_0 = df_bmi_0.reset_index()\n",
    "df_bmi_0 = df_bmi_0.rename(columns = {'count':'diabetes=0'})"
   ]
  },
  {
   "cell_type": "code",
   "execution_count": null,
   "metadata": {},
   "outputs": [],
   "source": [
    "df_bmi = df_bmi_1.join(df_bmi_0.set_index('bmi'), on= 'bmi')\n",
    "df_bmi['total'] = df_bmi['diabetes=1'] + df_bmi['diabetes=0']\n",
    "df_bmi['%'] = 100 * df_bmi['total'] / df_bmi['total'].sum()\n",
    "df_bmi"
   ]
  },
  {
   "cell_type": "code",
   "execution_count": null,
   "metadata": {},
   "outputs": [],
   "source": [
    "df_bmi_M = df[df['gender']=='M']\n",
    "bins = pd.cut(df_bmi_M['bmi'], bmi_bins, labels=bmi_labels)\n",
    "df_bmi_M = df_bmi_M.groupby(bins)['bmi'].agg(['count'])\n",
    "df_bmi_M = df_bmi_M.reset_index()\n",
    "df_bmi_M = df_bmi_M.rename(columns = {'count':'Male'})\n",
    "df_bmi_M"
   ]
  },
  {
   "cell_type": "code",
   "execution_count": null,
   "metadata": {},
   "outputs": [],
   "source": [
    "print(df['age'].min(), df['age'].max())"
   ]
  },
  {
   "cell_type": "code",
   "execution_count": null,
   "metadata": {},
   "outputs": [],
   "source": [
    "df[df['age']==0.0]['age'].count()"
   ]
  },
  {
   "cell_type": "code",
   "execution_count": null,
   "metadata": {},
   "outputs": [],
   "source": [
    "pd.options.display.float_format = '{:.2f}%'.format"
   ]
  },
  {
   "cell_type": "code",
   "execution_count": null,
   "metadata": {},
   "outputs": [],
   "source": [
    "age_bins = [-0.1, 0, 13, 20, 40, 60, 90]"
   ]
  },
  {
   "cell_type": "code",
   "execution_count": null,
   "metadata": {},
   "outputs": [],
   "source": [
    "# Convert bmi from numeric to categorical - age-groups?\n",
    "df_1 = df[df['diabetes_mellitus']==1]\n",
    "bins = pd.cut(df_1['age'], age_bins)\n",
    "df_age_1 = df_1.groupby(bins)['age'].agg(['count'])\n",
    "df_age_1 = df_age_1.reset_index()\n",
    "df_age_1 = df_age_1.rename(columns = {'count':'diabetes=1'})"
   ]
  },
  {
   "cell_type": "code",
   "execution_count": null,
   "metadata": {},
   "outputs": [],
   "source": [
    "# Convert bmi from numeric to categorical - age-groups?\n",
    "df_0 = df[df['diabetes_mellitus']==0]\n",
    "bins = pd.cut(df_0['age'], age_bins)\n",
    "df_age_0 = df_0.groupby(bins)['age'].agg(['count'])\n",
    "df_age_0 = df_age_0.reset_index()\n",
    "c"
   ]
  },
  {
   "cell_type": "code",
   "execution_count": null,
   "metadata": {},
   "outputs": [],
   "source": [
    "df_age = df_age_1.join(df_age_0.set_index('age'), on= 'age')\n",
    "df_age['total'] = df_age['diabetes=1'] + df_age['diabetes=0']\n",
    "df_age['%'] = 100 * df_age['total'] / df_age['total'].sum()\n",
    "df_age"
   ]
  },
  {
   "cell_type": "markdown",
   "metadata": {},
   "source": [
    "**Conclusions**\n",
    "- Remove the rows with age = 0\n",
    "- Categorize bmi into 4 categories\n"
   ],
   "execution_count": null,
   "outputs": []
  },
  {
   "cell_type": "code",
   "execution_count": 23,
   "metadata": {},
   "outputs": [
    {
     "output_type": "error",
     "ename": "ValueError",
     "evalue": "Grouper for 'age' not 1-dimensional",
     "traceback": [
      "\u001b[0;31m---------------------------------------------------------------------------\u001b[0m",
      "\u001b[0;31mValueError\u001b[0m                                Traceback (most recent call last)",
      "\u001b[0;32m<ipython-input-23-bb74c9237b7e>\u001b[0m in \u001b[0;36m<module>\u001b[0;34m\u001b[0m\n\u001b[0;32m----> 1\u001b[0;31m pd.pivot_table(df, values='age', index=['age'],\n\u001b[0m\u001b[1;32m      2\u001b[0m                    columns=['diabetes_mellitus'], aggfunc=np.sum, fill_value=0)\n",
      "\u001b[0;32m~/sree/wids2021/venv/lib/python3.9/site-packages/pandas/core/reshape/pivot.py\u001b[0m in \u001b[0;36mpivot_table\u001b[0;34m(data, values, index, columns, aggfunc, fill_value, margins, dropna, margins_name, observed)\u001b[0m\n\u001b[1;32m    110\u001b[0m         \u001b[0mvalues\u001b[0m \u001b[0;34m=\u001b[0m \u001b[0mlist\u001b[0m\u001b[0;34m(\u001b[0m\u001b[0mvalues\u001b[0m\u001b[0;34m)\u001b[0m\u001b[0;34m\u001b[0m\u001b[0;34m\u001b[0m\u001b[0m\n\u001b[1;32m    111\u001b[0m \u001b[0;34m\u001b[0m\u001b[0m\n\u001b[0;32m--> 112\u001b[0;31m     \u001b[0mgrouped\u001b[0m \u001b[0;34m=\u001b[0m \u001b[0mdata\u001b[0m\u001b[0;34m.\u001b[0m\u001b[0mgroupby\u001b[0m\u001b[0;34m(\u001b[0m\u001b[0mkeys\u001b[0m\u001b[0;34m,\u001b[0m \u001b[0mobserved\u001b[0m\u001b[0;34m=\u001b[0m\u001b[0mobserved\u001b[0m\u001b[0;34m)\u001b[0m\u001b[0;34m\u001b[0m\u001b[0;34m\u001b[0m\u001b[0m\n\u001b[0m\u001b[1;32m    113\u001b[0m     \u001b[0magged\u001b[0m \u001b[0;34m=\u001b[0m \u001b[0mgrouped\u001b[0m\u001b[0;34m.\u001b[0m\u001b[0magg\u001b[0m\u001b[0;34m(\u001b[0m\u001b[0maggfunc\u001b[0m\u001b[0;34m)\u001b[0m\u001b[0;34m\u001b[0m\u001b[0;34m\u001b[0m\u001b[0m\n\u001b[1;32m    114\u001b[0m     \u001b[0;32mif\u001b[0m \u001b[0mdropna\u001b[0m \u001b[0;32mand\u001b[0m \u001b[0misinstance\u001b[0m\u001b[0;34m(\u001b[0m\u001b[0magged\u001b[0m\u001b[0;34m,\u001b[0m \u001b[0mABCDataFrame\u001b[0m\u001b[0;34m)\u001b[0m \u001b[0;32mand\u001b[0m \u001b[0mlen\u001b[0m\u001b[0;34m(\u001b[0m\u001b[0magged\u001b[0m\u001b[0;34m.\u001b[0m\u001b[0mcolumns\u001b[0m\u001b[0;34m)\u001b[0m\u001b[0;34m:\u001b[0m\u001b[0;34m\u001b[0m\u001b[0;34m\u001b[0m\u001b[0m\n",
      "\u001b[0;32m~/sree/wids2021/venv/lib/python3.9/site-packages/pandas/core/frame.py\u001b[0m in \u001b[0;36mgroupby\u001b[0;34m(self, by, axis, level, as_index, sort, group_keys, squeeze, observed, dropna)\u001b[0m\n\u001b[1;32m   6712\u001b[0m         \u001b[0maxis\u001b[0m \u001b[0;34m=\u001b[0m \u001b[0mself\u001b[0m\u001b[0;34m.\u001b[0m\u001b[0m_get_axis_number\u001b[0m\u001b[0;34m(\u001b[0m\u001b[0maxis\u001b[0m\u001b[0;34m)\u001b[0m\u001b[0;34m\u001b[0m\u001b[0;34m\u001b[0m\u001b[0m\n\u001b[1;32m   6713\u001b[0m \u001b[0;34m\u001b[0m\u001b[0m\n\u001b[0;32m-> 6714\u001b[0;31m         return DataFrameGroupBy(\n\u001b[0m\u001b[1;32m   6715\u001b[0m             \u001b[0mobj\u001b[0m\u001b[0;34m=\u001b[0m\u001b[0mself\u001b[0m\u001b[0;34m,\u001b[0m\u001b[0;34m\u001b[0m\u001b[0;34m\u001b[0m\u001b[0m\n\u001b[1;32m   6716\u001b[0m             \u001b[0mkeys\u001b[0m\u001b[0;34m=\u001b[0m\u001b[0mby\u001b[0m\u001b[0;34m,\u001b[0m\u001b[0;34m\u001b[0m\u001b[0;34m\u001b[0m\u001b[0m\n",
      "\u001b[0;32m~/sree/wids2021/venv/lib/python3.9/site-packages/pandas/core/groupby/groupby.py\u001b[0m in \u001b[0;36m__init__\u001b[0;34m(self, obj, keys, axis, level, grouper, exclusions, selection, as_index, sort, group_keys, squeeze, observed, mutated, dropna)\u001b[0m\n\u001b[1;32m    558\u001b[0m             \u001b[0;32mfrom\u001b[0m \u001b[0mpandas\u001b[0m\u001b[0;34m.\u001b[0m\u001b[0mcore\u001b[0m\u001b[0;34m.\u001b[0m\u001b[0mgroupby\u001b[0m\u001b[0;34m.\u001b[0m\u001b[0mgrouper\u001b[0m \u001b[0;32mimport\u001b[0m \u001b[0mget_grouper\u001b[0m\u001b[0;34m\u001b[0m\u001b[0;34m\u001b[0m\u001b[0m\n\u001b[1;32m    559\u001b[0m \u001b[0;34m\u001b[0m\u001b[0m\n\u001b[0;32m--> 560\u001b[0;31m             grouper, exclusions, obj = get_grouper(\n\u001b[0m\u001b[1;32m    561\u001b[0m                 \u001b[0mobj\u001b[0m\u001b[0;34m,\u001b[0m\u001b[0;34m\u001b[0m\u001b[0;34m\u001b[0m\u001b[0m\n\u001b[1;32m    562\u001b[0m                 \u001b[0mkeys\u001b[0m\u001b[0;34m,\u001b[0m\u001b[0;34m\u001b[0m\u001b[0;34m\u001b[0m\u001b[0m\n",
      "\u001b[0;32m~/sree/wids2021/venv/lib/python3.9/site-packages/pandas/core/groupby/grouper.py\u001b[0m in \u001b[0;36mget_grouper\u001b[0;34m(obj, key, axis, level, sort, observed, mutated, validate, dropna)\u001b[0m\n\u001b[1;32m    831\u001b[0m         \u001b[0;31m# allow us to passing the actual Grouping as the gpr\u001b[0m\u001b[0;34m\u001b[0m\u001b[0;34m\u001b[0m\u001b[0;34m\u001b[0m\u001b[0m\n\u001b[1;32m    832\u001b[0m         ping = (\n\u001b[0;32m--> 833\u001b[0;31m             Grouping(\n\u001b[0m\u001b[1;32m    834\u001b[0m                 \u001b[0mgroup_axis\u001b[0m\u001b[0;34m,\u001b[0m\u001b[0;34m\u001b[0m\u001b[0;34m\u001b[0m\u001b[0m\n\u001b[1;32m    835\u001b[0m                 \u001b[0mgpr\u001b[0m\u001b[0;34m,\u001b[0m\u001b[0;34m\u001b[0m\u001b[0;34m\u001b[0m\u001b[0m\n",
      "\u001b[0;32m~/sree/wids2021/venv/lib/python3.9/site-packages/pandas/core/groupby/grouper.py\u001b[0m in \u001b[0;36m__init__\u001b[0;34m(self, index, grouper, obj, name, level, sort, observed, in_axis, dropna)\u001b[0m\n\u001b[1;32m    541\u001b[0m                 \u001b[0;32mif\u001b[0m \u001b[0mgetattr\u001b[0m\u001b[0;34m(\u001b[0m\u001b[0mself\u001b[0m\u001b[0;34m.\u001b[0m\u001b[0mgrouper\u001b[0m\u001b[0;34m,\u001b[0m \u001b[0;34m\"ndim\"\u001b[0m\u001b[0;34m,\u001b[0m \u001b[0;36m1\u001b[0m\u001b[0;34m)\u001b[0m \u001b[0;34m!=\u001b[0m \u001b[0;36m1\u001b[0m\u001b[0;34m:\u001b[0m\u001b[0;34m\u001b[0m\u001b[0;34m\u001b[0m\u001b[0m\n\u001b[1;32m    542\u001b[0m                     \u001b[0mt\u001b[0m \u001b[0;34m=\u001b[0m \u001b[0mself\u001b[0m\u001b[0;34m.\u001b[0m\u001b[0mname\u001b[0m \u001b[0;32mor\u001b[0m \u001b[0mstr\u001b[0m\u001b[0;34m(\u001b[0m\u001b[0mtype\u001b[0m\u001b[0;34m(\u001b[0m\u001b[0mself\u001b[0m\u001b[0;34m.\u001b[0m\u001b[0mgrouper\u001b[0m\u001b[0;34m)\u001b[0m\u001b[0;34m)\u001b[0m\u001b[0;34m\u001b[0m\u001b[0;34m\u001b[0m\u001b[0m\n\u001b[0;32m--> 543\u001b[0;31m                     \u001b[0;32mraise\u001b[0m \u001b[0mValueError\u001b[0m\u001b[0;34m(\u001b[0m\u001b[0;34mf\"Grouper for '{t}' not 1-dimensional\"\u001b[0m\u001b[0;34m)\u001b[0m\u001b[0;34m\u001b[0m\u001b[0;34m\u001b[0m\u001b[0m\n\u001b[0m\u001b[1;32m    544\u001b[0m                 \u001b[0mself\u001b[0m\u001b[0;34m.\u001b[0m\u001b[0mgrouper\u001b[0m \u001b[0;34m=\u001b[0m \u001b[0mself\u001b[0m\u001b[0;34m.\u001b[0m\u001b[0mindex\u001b[0m\u001b[0;34m.\u001b[0m\u001b[0mmap\u001b[0m\u001b[0;34m(\u001b[0m\u001b[0mself\u001b[0m\u001b[0;34m.\u001b[0m\u001b[0mgrouper\u001b[0m\u001b[0;34m)\u001b[0m\u001b[0;34m\u001b[0m\u001b[0;34m\u001b[0m\u001b[0m\n\u001b[1;32m    545\u001b[0m                 if not (\n",
      "\u001b[0;31mValueError\u001b[0m: Grouper for 'age' not 1-dimensional"
     ]
    }
   ],
   "source": [
    " pd.pivot_table(df, values='age', index=['age'],\n",
    "                    columns=['diabetes_mellitus'], aggfunc=np.sum, fill_value=0)"
   ]
  },
  {
   "cell_type": "code",
   "execution_count": 12,
   "metadata": {},
   "outputs": [
    {
     "output_type": "stream",
     "name": "stdout",
     "text": "encounter_id\n147000    1\n235009    1\n235022    1\n235021    1\n235020    1\n         ..\n191006    1\n191005    1\n191004    1\n191003    1\n279000    1\nName: encounter_id, Length: 130157, dtype: int64\n"
    }
   ],
   "source": [
    "# encounter_ids are unique and there are no repeats\n",
    "df_temp = df.groupby(['encounter_id'])['encounter_id'].count().sort_values(ascending=False)\n",
    "#df_temp = df_temp.rename(columns = {'encounter_id':'count'})\n",
    "#df_temp['%'] = 100 * df_temp['count'] / df_temp['count'].sum()\n",
    "#pd.options.display.float_format = '{:.2f}%'.format\n",
    "print(df_temp)"
   ]
  },
  {
   "cell_type": "code",
   "execution_count": 20,
   "metadata": {},
   "outputs": [],
   "source": [
    "def getAllValues(df, col):\n",
    "    df_temp = df.groupby([col]).count()['encounter_id'].sort_values(ascending=False).reset_index()\n",
    "    df_temp = df_temp.rename(columns = {'encounter_id':'count'})\n",
    "    df_temp['%'] = 100 * df_temp['count'] / df_temp['count'].sum()\n",
    "    print(df_temp)"
   ]
  },
  {
   "cell_type": "code",
   "execution_count": 18,
   "metadata": {},
   "outputs": [
    {
     "output_type": "stream",
     "name": "stdout",
     "text": "ethnicity   count      %\n0         Caucasian  100236 77.96%\n1  African American   13911 10.82%\n2     Other/Unknown    6261  4.87%\n3          Hispanic    5049  3.93%\n4             Asian    2198  1.71%\n5   Native American     915  0.71%\n          ethnicity  count      %\n0         Caucasian   7939 79.15%\n1  African American    931  9.28%\n2          Hispanic    471  4.70%\n3     Other/Unknown    435  4.34%\n4             Asian    171  1.70%\n5   Native American     83  0.83%\n\n  gender  count      %\n0      M  70518 54.21%\n1      F  59573 45.79%\n  gender  count      %\n0      M   5525 54.01%\n1      F   4704 45.99%\n\n   hospital_admit_source  count      %\n0   Emergency Department  51258 52.87%\n1         Operating Room  13757 14.19%\n2                  Floor  11324 11.68%\n3           Direct Admit   8253  8.51%\n4          Recovery Room   4563  4.71%\n5         Other Hospital   2417  2.49%\n6       Acute Care/Floor   2097  2.16%\n7   Step-Down Unit (SDU)   1607  1.66%\n8                   PACU   1031  1.06%\n9              Other ICU    283  0.29%\n10     Chest Pain Center    253  0.26%\n11            ICU to SDU     62  0.06%\n12                   ICU     37  0.04%\n13           Observation     10  0.01%\n14                 Other      7  0.01%\n  hospital_admit_source  count      %\n0  Emergency Department   3845 51.26%\n1                 Floor   1121 14.94%\n2        Operating Room   1110 14.80%\n3          Direct Admit    696  9.28%\n4         Recovery Room    405  5.40%\n5        Other Hospital    173  2.31%\n6  Step-Down Unit (SDU)     99  1.32%\n7     Chest Pain Center     23  0.31%\n8             Other ICU     23  0.31%\n9            ICU to SDU      6  0.08%\n\n            icu_admit_source  count      %\n0       Accident & Emergency  76846 59.15%\n1  Operating Room / Recovery  27436 21.12%\n2                      Floor  21459 16.52%\n3             Other Hospital   3464  2.67%\n4                  Other ICU    712  0.55%\n            icu_admit_source  count      %\n0       Accident & Emergency   5974 58.52%\n1  Operating Room / Recovery   2258 22.12%\n2                      Floor   1656 16.22%\n3             Other Hospital    253  2.48%\n4                  Other ICU     68  0.67%\n\n       icu_type  count      %\n0  Med-Surg ICU  71468 54.91%\n1     CCU-CTICU  11220  8.62%\n2          MICU  10944  8.41%\n3     Neuro ICU  10533  8.09%\n4   Cardiac ICU   8276  6.36%\n5          SICU   8258  6.34%\n6         CSICU   4981  3.83%\n7         CTICU   4477  3.44%\n       icu_type  count      %\n0  Med-Surg ICU   5570 54.43%\n1     CCU-CTICU    896  8.76%\n2          MICU    878  8.58%\n3     Neuro ICU    778  7.60%\n4          SICU    692  6.76%\n5   Cardiac ICU    691  6.75%\n6         CSICU    384  3.75%\n7         CTICU    345  3.37%\n\n  icu_stay_type   count      %\n0         admit  124741 95.84%\n1      transfer    4801  3.69%\n2       readmit     615  0.47%\n  icu_stay_type  count      %\n0         admit  10088 98.57%\n1      transfer    121  1.18%\n2       readmit     25  0.24%\n\n"
    }
   ],
   "source": [
    "# Columns - string type\n",
    "for  col in ['ethnicity', 'gender', 'hospital_admit_source', 'icu_admit_source', 'icu_type', 'icu_stay_type']:\n",
    "    getAllValues(df, col)\n",
    "    getAllValues(df_test, col)\n",
    "    print()"
   ]
  },
  {
   "cell_type": "code",
   "execution_count": 22,
   "metadata": {},
   "outputs": [
    {
     "output_type": "stream",
     "name": "stdout",
     "text": "elective_surgery   count      %\n0                 0  105448 81.02%\n1                 1   24709 18.98%\n   elective_surgery  count      %\n0                 0   8186 79.99%\n1                 1   2048 20.01%\n\n   readmission_status   count       %\n0                   0  130157 100.00%\n   readmission_status  count       %\n0                   0  10234 100.00%\n\n   diabetes_mellitus   count      %\n0                  0  102006 78.37%\n1                  1   28151 21.63%\n\n"
    }
   ],
   "source": [
    "# Columns - binary type\n",
    "for col in ['elective_surgery', 'readmission_status', 'diabetes_mellitus' ]:\n",
    "    getAllValues(df, col)\t\n",
    "    if col != 'diabetes_mellitus':\n",
    "        getAllValues(df_test, col)\n",
    "    print()"
   ]
  },
  {
   "cell_type": "code",
   "execution_count": null,
   "metadata": {
    "tags": [
     "outputPrepend",
     "outputPrepend",
     "outputPrepend",
     "outputPrepend",
     "outputPrepend",
     "outputPrepend",
     "outputPrepend",
     "outputPrepend",
     "outputPrepend",
     "outputPrepend",
     "outputPrepend",
     "outputPrepend",
     "outputPrepend",
     "outputPrepend",
     "outputPrepend",
     "outputPrepend",
     "outputPrepend",
     "outputPrepend",
     "outputPrepend",
     "outputPrepend",
     "outputPrepend",
     "outputPrepend",
     "outputPrepend",
     "outputPrepend",
     "outputPrepend",
     "outputPrepend",
     "outputPrepend",
     "outputPrepend",
     "outputPrepend",
     "outputPrepend",
     "outputPrepend",
     "outputPrepend",
     "outputPrepend",
     "outputPrepend"
    ]
   },
   "outputs": [],
   "source": [
    "# Columns - nan data\n",
    "\n",
    "nan_counts = []\n",
    "nan_counts_percent = []\n",
    "for col in df.columns:\n",
    "    total = df[col].count()\n",
    "    nan_rows = len(df[df[col].isnull()])\n",
    "    nan_counts.append(nan_rows)\n",
    "    nan_counts_percent.append(100 * nan_rows/(total+nan_rows))"
   ]
  },
  {
   "cell_type": "code",
   "execution_count": null,
   "metadata": {},
   "outputs": [],
   "source": [
    "df_nan = pd.DataFrame({'Variable Name':df.columns, 'nan_counts':nan_counts, '%':nan_counts_percent})\n",
    "df_nan = df_nan.sort_values('nan_counts', ascending = False)\n",
    "df_nan['%'] = df_nan['%'].map('{:,.1f}%'.format)\n",
    "print(df_nan)\n",
    "df_nan.to_csv(\"nan_data.csv\")\n",
    "print(df_nan.shape[0])"
   ]
  },
  {
   "cell_type": "code",
   "execution_count": null,
   "metadata": {},
   "outputs": [],
   "source": [
    "# Rows with nan data\n",
    "df_nan = df[df.isna().any(axis=1)]\n",
    "print (f\"Rows with nan values: {100 * df_nan.shape[0]/df.shape[0]:.2f}%\")"
   ]
  },
  {
   "cell_type": "code",
   "execution_count": null,
   "metadata": {},
   "outputs": [],
   "source": [
    "df_dict = pd.read_csv(\"data/DataDictionaryWiDS2021.csv\")\n",
    "print(df_dict[['Variable Name', 'Category', 'Data Type']])\n",
    "print(df_dict.shape[0])"
   ]
  },
  {
   "cell_type": "code",
   "execution_count": null,
   "metadata": {},
   "outputs": [],
   "source": [
    "df_data_desc = pd.merge(df_nan, df_dict, on=\"Variable Name\")\n",
    "df_data_desc = df_data_desc.sort_values(by=['Category','Variable Name'])\n",
    "df_data_desc.to_csv(\"datadesc.csv\")"
   ]
  },
  {
   "cell_type": "code",
   "execution_count": null,
   "metadata": {},
   "outputs": [],
   "source": [
    "df[['apache_2_diagnosis', 'diabetes_mellitus']].corr()"
   ]
  },
  {
   "cell_type": "code",
   "execution_count": null,
   "metadata": {},
   "outputs": [],
   "source": [
    "from sklearn.linear_model import LinearRegression\n",
    "import numpy as np\n",
    "X = df[['arf_apache']]\n",
    "Y = df['diabetes_mellitus']\n",
    "slm = LinearRegression()\n",
    "np.set_printoptions(precision=2)\n",
    "slm.fit(X,Y)"
   ]
  },
  {
   "cell_type": "code",
   "execution_count": null,
   "metadata": {},
   "outputs": [],
   "source": [
    "Yhat =slm_hm.predict(X_hm)"
   ]
  }
 ]
}