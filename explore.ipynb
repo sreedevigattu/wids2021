{
 "nbformat": 4,
 "nbformat_minor": 2,
 "metadata": {
  "language_info": {
   "name": "python",
   "codemirror_mode": {
    "name": "ipython",
    "version": 3
   },
   "version": "3.9.1-final"
  },
  "orig_nbformat": 2,
  "file_extension": ".py",
  "mimetype": "text/x-python",
  "name": "python",
  "npconvert_exporter": "python",
  "pygments_lexer": "ipython3",
  "version": 3,
  "kernelspec": {
   "name": "python39164bitvenvvenv42d9530a45f24e7fb408333c496c5650",
   "display_name": "Python 3.9.1 64-bit ('venv': venv)"
  }
 },
 "cells": [
  {
   "cell_type": "code",
   "execution_count": 33,
   "metadata": {},
   "outputs": [],
   "source": [
    "import pandas as pd\n",
    "import numpy as np\n",
    "\n",
    "pd.options.display.float_format = '{:.2f}%'.format"
   ]
  },
  {
   "cell_type": "markdown",
   "metadata": {},
   "source": [
    "## Exploration of the identifier and demographic-1 features\n",
    "\n",
    "- **identifier** features\n",
    "    - **encounter_id**: Unique, non-repeating values. \n",
    "    - **hospital_id-icu_id**: A patient diagnosed with Diabetus Mellitus should not depend on hospital_id & it's icu_id. Each hostpital will have unique icu_ids. **DROP**\n",
    "- **demographic-1** features\n",
    "    - age, height, weight, bmi, gender, ethnicity\n",
    "    - **readmission_status**: is 0 for all rows. **DROP**\n",
    "    - Compare the training and test datasets\n",
    "    - Compare values in the training set where the dm=1 and dm=0\n",
    "- **demographic-2** features *TODO*\n",
    "    - readmission_status, elective_surgery, ....\n",
    "- **labs & vitals category**: *TODO*\n",
    "    - They have max and min values. Should these be replaced with average?\n",
    "\n"
   ],
   "execution_count": null,
   "outputs": []
  },
  {
   "cell_type": "markdown",
   "metadata": {},
   "source": [
    "## Common Functions"
   ]
  },
  {
   "cell_type": "code",
   "execution_count": 35,
   "metadata": {},
   "outputs": [],
   "source": [
    "def _describe(df, df_type):\n",
    "    m_total = 'Entries - Total:'\n",
    "    m_features = \"Features:\"\n",
    "\n",
    "    print(\"-\"*40)\n",
    "    print(f\"{df_type} dataset - details\")\n",
    "    print(\"-\"*40)\n",
    "    print(f\"{m_total:33} {df.shape[0]:6}\")\n",
    "\n",
    "    df_dm_1 = df_dm_0 = pd.DataFrame()\n",
    "    if df_type != \"Testing\":\n",
    "        df_dm_1  = df[df['diabetes_mellitus']==1]; df_dm_1.to_csv(f\"{df_type}_dm_1.csv\")\n",
    "        df_dm_0  = df[df['diabetes_mellitus']==0]; df_dm_0.to_csv(f\"{df_type}_dm_0.csv\")\n",
    "        print(f\"Entries - diabetes_mellitus = 1: {df_dm_1.shape[0]:7} {100 * df_dm_1.shape[0]/df.shape[0]:0.2f}%\")\n",
    "        print(f\"Entries - diabetes_mellitus = 0: {df_dm_0.shape[0]:7} {100 * df_dm_0.shape[0]/df.shape[0]:0.2f}%\")\n",
    "    print(f\"{m_features:33} {len(df.columns):6}\")\n",
    "    return df.shape[0], df_dm_1, df_dm_0\n",
    ""
   ]
  },
  {
   "cell_type": "code",
   "execution_count": 36,
   "metadata": {},
   "outputs": [],
   "source": [
    "def _nullcheck(df):\n",
    "    for col in ['age', 'gender', 'ethnicity', 'weight', 'height', 'bmi']:\n",
    "        print(f\"{col:10}: {df[df[col].isnull()].shape[0]:4}\")\n",
    "        \n",
    "    print(\"readmission_status\", df_train['readmission_status'].unique())"
   ]
  },
  {
   "cell_type": "code",
   "execution_count": 37,
   "metadata": {},
   "outputs": [],
   "source": [
    "def _nullcheck_bmi(df):\n",
    "    df_bmi = df[['weight', 'height', 'bmi', 'age', 'gender', 'ethnicity']]\n",
    "    print(\"Number of rows where either weight or height or both are null\", \n",
    "            df_bmi[ df_bmi['height'].isnull() & df_bmi['weight'].notnull() |\n",
    "            df_bmi['height'].notnull() & df_bmi['weight'].isnull() |\n",
    "            df_bmi['height'].isnull() & df_bmi['weight'].isnull()].shape[0])\n",
    "    print(\"Number of rows where bmi is null\",  df_bmi[ df_bmi['bmi'].isnull()].shape[0])\n",
    "\n",
    "    print(f\"Rows with Weight=null Height=!null BMI=!null {df_bmi[df_bmi['weight'].isnull() & df_bmi['height'].isnull() & df_bmi['bmi'].notnull()].shape[0]}\")\n",
    "    print(f\"Rows with Weight=!null Height=null BMI=!null {df_bmi[df_bmi['weight'].notnull() & df_bmi['height'].isnull() & df_bmi['bmi'].notnull()].shape[0]}\")\n",
    "    print(f\"Rows with Weight=null Height=!null BMI=!null {df_bmi[df_bmi['weight'].isnull() & df_bmi['height'].notnull() & df_bmi['bmi'].notnull()].shape[0]}\")\n",
    "    print(f\"Rows with Weight=!null Height=!null BMI=null {df_bmi[df_bmi['weight'].notnull() & df_bmi['height'].notnull() & df_bmi['bmi'].isnull()].shape[0]}\")\n",
    "\n",
    "    df_bmi = df_bmi[df_bmi['bmi'].isnull()]\n",
    "    print(\"bmi=null\", df_bmi.shape[0])\n",
    "    rows_dep = df_bmi[df_bmi['age'].notnull() & df_bmi['ethnicity'].notnull() & df_bmi['gender'].notnull()].shape[0]\n",
    "    print(df_bmi.shape[0], rows_dep, df_bmi.shape[0]-rows_dep)\n",
    "    print(\"Atleast one dependent column is null:\", df_bmi[df_bmi['age'].isnull() | df_bmi['ethnicity'].isnull() | df_bmi['gender'].isnull()].shape[0])\n",
    "    print(\"Age: null, Ethnicity:!null, Gender:!null:\", df_bmi[df_bmi['age'].isnull() & df_bmi['ethnicity'].notnull() & df_bmi['gender'].notnull()].shape[0])\n",
    "    print(\"All dependent columns are null:\", df_bmi[df_bmi['age'].isnull() & df_bmi['ethnicity'].isnull() & df_bmi['gender'].isnull()].shape[0])\n",
    "    df_bmi[df_bmi['age'].isnull() | df_bmi['ethnicity'].isnull() | df_bmi['gender'].isnull()].to_csv(\"bmi_null.csv\")"
   ]
  },
  {
   "cell_type": "code",
   "execution_count": 38,
   "metadata": {},
   "outputs": [],
   "source": [
    "AGE_BINS = [-0.1, 0, 15.9, 20, 40, 60, 90, 120]\n",
    "def _agedist(df, df_name):\n",
    "    total_count = df.shape[0]\n",
    "    nan_count = df[df['age'].isnull()].shape[0]\n",
    "    nan_pc = nan_count/total_count\n",
    "\n",
    "    ages = df['age'].unique()\n",
    "    ages.sort()\n",
    "    # Since age has 0.0 values, these should be ignored/replaced\n",
    "    min_age = ages[1]\n",
    "    print(f\"Invalid age: {df[df['age']==0.0]['age'].count()} Min: {df['age'].min():0.2f} Max: {df['age'].max():0.2f}\")\n",
    "\n",
    "    # Group the ages based on the age-groups\n",
    "    bins = pd.cut(df['age'], AGE_BINS)\n",
    "    df_age = df.groupby(bins)['age'].agg(['count'])\n",
    "    df_age = df_age.reset_index()\n",
    "\n",
    "    # Append the null value counts\n",
    "    df_age = df_age.append(pd.DataFrame([['null', nan_count]], columns = ['age', f'count']))\n",
    "\n",
    "    # Add a percentage column\n",
    "    df_age[f'{df_name}_%'] = 100 * df_age['count']/total_count\n",
    "    df_age = df_age.rename(columns = {'count':f\"{df_name}_count\"})\n",
    "\n",
    "    print(df_age)\n",
    "    print(f\"Verification:   {df_name}_count: {df_age[f'{df_name}_count'].sum()} \"\n",
    "          f\"{df_name}_%: {df_age[f'{df_name}_%'].sum():0.1f}%\")\n",
    "    return df_age, nan_count, nan_pc"
   ]
  },
  {
   "cell_type": "code",
   "execution_count": 39,
   "metadata": {},
   "outputs": [],
   "source": [
    "# underweight, normal, overweight, obese\n",
    "BMI_BINS = [0, 18.5, 24.9, 30, 70] \n",
    "BMI_LABELS = [    '[0.0 - 18.5] underweight',\n",
    "                            '[18.5 - 24.9] normal weight',\n",
    "                            '[25 -  30] over weight',\n",
    "                            '[70  <] obese']\n",
    "def _bmidist(df, df_name):\n",
    "    total_count = df.shape[0]\n",
    "    nan_count = df[df['bmi'].isnull()].shape[0]\n",
    "    nan_pc = nan_count/total_count\n",
    "    print(f\"Min: {df['bmi'].min():0.2f} Max: {df['bmi'].max():0.2f}\")\n",
    "\n",
    "    # Group the values based on the bmi-categories\n",
    "    bins = pd.cut(df['bmi'], BMI_BINS, labels=BMI_LABELS)\n",
    "    df_bmi = df.groupby(bins)['bmi'].agg(['count'])\n",
    "    df_bmi = df_bmi.reset_index()\n",
    "\n",
    "    # Append the null value counts\n",
    "    df_bmi = df_bmi.append(pd.DataFrame([['null', nan_count]], columns = ['bmi', f'count']))\n",
    "\n",
    "    # Add a percentage column\n",
    "    df_bmi[f\"{df_name}_%\"] = 100 * df_bmi['count']/total_count\n",
    "    df_bmi = df_bmi.rename(columns = {'count':f\"{df_name}_count\"})\n",
    "\n",
    "    print(df_bmi)\n",
    "    print(f\"Verification:   {df_name}_count: {df_bmi[f'{df_name}_count'].sum()} \"\n",
    "          f\"{df_name}_%: {df_bmi[f'{df_name}_%'].sum():0.1f}%\")\n",
    "    return df_bmi, nan_count, nan_pc"
   ]
  },
  {
   "cell_type": "code",
   "execution_count": 40,
   "metadata": {},
   "outputs": [],
   "source": [
    "def _categoricalvardist(df, df_name, catvar, total_count=-1):\n",
    "    if total_count == -1:\n",
    "        total_count = df.shape[0]\n",
    "        \n",
    "    nan_count = df[df[catvar].isnull()].shape[0]\n",
    "    nan_pc = nan_count/total_count\n",
    "\n",
    "    df_catvar = df.groupby([catvar]).count()['encounter_id'].sort_values(ascending=False).reset_index()\n",
    "    df_catvar = df_catvar.rename(columns = {'encounter_id':'count'})\n",
    "\n",
    "    # Append the null value counts\n",
    "    df_catvar = df_catvar.append(pd.DataFrame([['null', nan_count]], columns = [catvar, f'count']))\n",
    "\n",
    "    # Add a percentage column\n",
    "    df_catvar[f\"{df_name}_%\"] = 100 * df_catvar['count']/total_count\n",
    "    df_catvar = df_catvar.rename(columns = {'count':f\"{df_name}_count\"})\n",
    "\n",
    "    print(df_catvar)\n",
    "    print(f\"Verification:   {df_name}_count: {df_catvar[f'{df_name}_count'].sum()} \"\n",
    "          f\"{df_name}_%: {df_catvar[f'{df_name}_%'].sum():0.1f}%\")\n",
    "    return df_catvar, nan_count, nan_pc"
   ]
  },
  {
   "cell_type": "code",
   "execution_count": 41,
   "metadata": {},
   "outputs": [],
   "source": [
    "def _compare(feature, df1, df2, col1, col2):\n",
    "    df = df1.join(df2.set_index(feature), on=feature)\n",
    "    print(f\"{feature}: {col1}: {df1[f'{col1}'].sum():0.1f}% {col2}: {df2[f'{col2}'].sum():0.1f}%\")\n",
    "    return df"
   ]
  },
  {
   "cell_type": "code",
   "execution_count": 42,
   "metadata": {},
   "outputs": [],
   "source": [
    "def fillnan_gender(df):\n",
    "    df['gender'].fillna('Unknown', inplace=True)"
   ]
  },
  {
   "cell_type": "code",
   "execution_count": 43,
   "metadata": {},
   "outputs": [],
   "source": [
    "def fillnan_ethnicity(df):\n",
    "    df['ethnicity'].fillna('Other/Unknown', inplace=True)"
   ]
  },
  {
   "cell_type": "markdown",
   "metadata": {},
   "source": [
    "## Training dataset"
   ]
  },
  {
   "cell_type": "code",
   "execution_count": 55,
   "metadata": {},
   "outputs": [
    {
     "output_type": "stream",
     "name": "stdout",
     "text": "Index(['Unnamed: 0', 'encounter_id', 'hospital_id', 'age', 'bmi',\n       'elective_surgery', 'ethnicity', 'gender', 'height',\n       'hospital_admit_source',\n       ...\n       'h1_pao2fio2ratio_max', 'h1_pao2fio2ratio_min', 'aids', 'cirrhosis',\n       'hepatic_failure', 'immunosuppression', 'leukemia', 'lymphoma',\n       'solid_tumor_with_metastasis', 'diabetes_mellitus'],\n      dtype='object', length=181)\n"
    }
   ],
   "source": [
    "df_train = pd.read_csv(\"data/TrainingWiDS2021.csv\")\n",
    "df_train.describe()\n",
    "print(df_train.columns)"
   ]
  },
  {
   "cell_type": "code",
   "execution_count": 44,
   "metadata": {},
   "outputs": [
    {
     "output_type": "stream",
     "name": "stdout",
     "text": "----------------------------------------\nTraining dataset - details\n----------------------------------------\nEntries - Total:                  130157\nEntries - diabetes_mellitus = 1:   28151 21.63%\nEntries - diabetes_mellitus = 0:  102006 78.37%\nFeatures:                            181\n"
    }
   ],
   "source": [
    "train_count, df_train_dm_1, df_train_dm_0 = _describe(df_train, \"Training\")"
   ]
  },
  {
   "cell_type": "code",
   "execution_count": 45,
   "metadata": {},
   "outputs": [
    {
     "output_type": "stream",
     "name": "stdout",
     "text": "age       : 4988\ngender    :   66\nethnicity : 1587\nweight    : 3463\nheight    : 2077\nbmi       : 4490\nreadmission_status [0]\n"
    }
   ],
   "source": [
    "_nullcheck(df_train)\n",
    ""
   ]
  },
  {
   "cell_type": "markdown",
   "metadata": {},
   "source": [
    "Fill **Unknown** for missing values in **gender** and **ethnicity**"
   ],
   "execution_count": null,
   "outputs": []
  },
  {
   "cell_type": "code",
   "execution_count": 46,
   "metadata": {},
   "outputs": [],
   "source": [
    "fillnan_gender(df_train) \n",
    "fillnan_ethnicity(df_train)"
   ]
  },
  {
   "cell_type": "code",
   "execution_count": 47,
   "metadata": {},
   "outputs": [
    {
     "output_type": "stream",
     "name": "stdout",
     "text": "age       : 4988\ngender    :    0\nethnicity :    0\nweight    : 3463\nheight    : 2077\nbmi       : 4490\nreadmission_status [0]\n"
    }
   ],
   "source": [
    "_nullcheck(df_train)"
   ]
  },
  {
   "cell_type": "markdown",
   "metadata": {},
   "source": [
    "BMI calculations - relation to diabetes\n",
    "bmi = weight (kg) / [height (m)]2\n",
    "\n",
    "Adults:\n",
    "For adults, the interpretation of BMI does not depend on sex or age. \n",
    "For adults 20 years old and older, BMI is interpreted using standard weight status categories.\n",
    "**BMI\tWeight Status**\n",
    "- Below 18.5\tUnderweight\n",
    "- 18.5 – 24.9\tNormal or Healthy Weight\n",
    "- 25.0 – 29.9\tOverweight\n",
    "-  30.0 and Above\tObese"
   ],
   "execution_count": null,
   "outputs": []
  },
  {
   "cell_type": "code",
   "execution_count": 48,
   "metadata": {},
   "outputs": [
    {
     "output_type": "stream",
     "name": "stdout",
     "text": "Number of rows where either weight or height or both are null 4490\nNumber of rows where bmi is null 4490\nRows with Weight=null Height=!null BMI=!null 0\nRows with Weight=!null Height=null BMI=!null 0\nRows with Weight=null Height=!null BMI=!null 0\nRows with Weight=!null Height=!null BMI=null 0\nbmi=null 4490\n4490 4296 194\nAtleast one dependent column is null: 194\nAge: null, Ethnicity:!null, Gender:!null: 194\nAll dependent columns are null: 0\n"
    }
   ],
   "source": [
    "_nullcheck_bmi(df_train)"
   ]
  },
  {
   "cell_type": "markdown",
   "metadata": {},
   "source": [
    "Wherever either weight or height or both are not available, bmi is also not available.\n",
    "There are no rows where height and weight are null and bmi is not null.\n",
    "\n",
    "Strategy for filling missing values for weight and height should be \n",
    "\n",
    "TODO: Isn't bmi dependent on gender?"
   ],
   "execution_count": null,
   "outputs": []
  },
  {
   "cell_type": "code",
   "execution_count": 49,
   "metadata": {},
   "outputs": [
    {
     "output_type": "stream",
     "name": "stdout",
     "text": "Invalid age: 30 Min: 0.00 Max: 89.00\n             age  train_count  train_%\n0    (-0.1, 0.0]           30    0.02%\n1    (0.0, 15.9]            0    0.00%\n2   (15.9, 20.0]         1605    1.23%\n3   (20.0, 40.0]        13648   10.49%\n4   (40.0, 60.0]        37003   28.43%\n5   (60.0, 90.0]        72883   56.00%\n6  (90.0, 120.0]            0    0.00%\n0           null         4988    3.83%\nVerification:   train_count: 130157 train_%: 100.0%\nMin: 14.84 Max: 67.81\n                           bmi  train_count  train_%\n0     [0.0 - 18.5] underweight         5323    4.09%\n1  [18.5 - 24.9] normal weight        36015   27.67%\n2       [25 -  30] over weight        38010   29.20%\n3                [70  <] obese        46319   35.59%\n0                         null         4490    3.45%\nVerification:   train_count: 130157 train_%: 100.0%\n    gender  train_count  train_%\n0        M        70518   54.18%\n1        F        59573   45.77%\n2  Unknown           66    0.05%\n0     null            0    0.00%\nVerification:   train_count: 130157 train_%: 100.0%\n          ethnicity  train_count  train_%\n0         Caucasian       100236   77.01%\n1  African American        13911   10.69%\n2     Other/Unknown         7848    6.03%\n3          Hispanic         5049    3.88%\n4             Asian         2198    1.69%\n5   Native American          915    0.70%\n0              null            0    0.00%\nVerification:   train_count: 130157 train_%: 100.0%\n"
    }
   ],
   "source": [
    "df_train_age, train_age_nan, train_age_nanpc = _agedist(df_train, \"train\")\n",
    "df_train_bmi, train_bmi_nan, train_bmi_nanpc = _bmidist(df_train, \"train\")\n",
    "df_train_gender, nan_count, nan_pc = _categoricalvardist(df_train, 'train', 'gender')\n",
    "df_train_ethnicity, nan_count, nan_pc = _categoricalvardist(df_train, 'train', 'ethnicity')"
   ]
  },
  {
   "cell_type": "markdown",
   "metadata": {},
   "source": [
    "### Train - diabetes_mellitus = 1"
   ],
   "execution_count": null,
   "outputs": []
  },
  {
   "cell_type": "code",
   "execution_count": 50,
   "metadata": {},
   "outputs": [
    {
     "output_type": "stream",
     "name": "stdout",
     "text": "Invalid age: 3 Min: 0.00 Max: 89.00\n             age  train_dm_1_count  train_dm_1_%\n0    (-0.1, 0.0]                 3         0.01%\n1    (0.0, 15.9]                 0         0.00%\n2   (15.9, 20.0]               183         0.65%\n3   (20.0, 40.0]              1644         5.84%\n4   (40.0, 60.0]              7579        26.92%\n5   (60.0, 90.0]             18082        64.23%\n6  (90.0, 120.0]                 0         0.00%\n0           null               660         2.34%\nVerification:   train_dm_1_count: 28151 train_dm_1_%: 100.0%\nMin: 14.84 Max: 67.81\n                           bmi  train_dm_1_count  train_dm_1_%\n0     [0.0 - 18.5] underweight               597         2.12%\n1  [18.5 - 24.9] normal weight              5268        18.71%\n2       [25 -  30] over weight              7503        26.65%\n3                [70  <] obese             13868        49.26%\n0                         null               915         3.25%\nVerification:   train_dm_1_count: 28151 train_dm_1_%: 100.0%\n  gender  train_dm_1_count  train_dm_1_%\n0      M             15420        54.78%\n1      F             12726        45.21%\n0   null                 5         0.02%\nVerification:   train_dm_1_count: 28151 train_dm_1_%: 100.0%\n          ethnicity  train_dm_1_count  train_dm_1_%\n0         Caucasian             20605        73.19%\n1  African American              3654        12.98%\n2     Other/Unknown              1595         5.67%\n3          Hispanic              1243         4.42%\n4             Asian               538         1.91%\n5   Native American               294         1.04%\n0              null               222         0.79%\nVerification:   train_dm_1_count: 28151 train_dm_1_%: 100.0%\n"
    }
   ],
   "source": [
    "df_train_dm_1_age, train_dm_1_age_nan, train_dm_1_age_nanpc = _agedist(df_train_dm_1, \"train_dm_1\")\n",
    "df_train_dm_1_bmi, train_dm_1_bmi_nan, train_dm_1_bmi_nanpc = _bmidist(df_train_dm_1, \"train_dm_1\")\n",
    "df_train_dm_1_gender, train_dm_1_gender_nan, train_dm_1_gender_nanpc = _categoricalvardist(df_train_dm_1, 'train_dm_1', 'gender')\n",
    "df_train_dm_1_ethnicity, train_dm_1_ethnicity_nan, train_dm_1_ethnicity_nanpc = _categoricalvardist(df_train_dm_1, 'train_dm_1', 'ethnicity')"
   ]
  },
  {
   "cell_type": "markdown",
   "metadata": {},
   "source": [
    "### Train - diabetes_mellitus = 0"
   ],
   "execution_count": null,
   "outputs": []
  },
  {
   "cell_type": "code",
   "execution_count": 51,
   "metadata": {},
   "outputs": [
    {
     "output_type": "stream",
     "name": "stdout",
     "text": "Invalid age: 27 Min: 0.00 Max: 89.00\n             age  train_dm_0_count  train_dm_0_%\n0    (-0.1, 0.0]                27         0.03%\n1    (0.0, 15.9]                 0         0.00%\n2   (15.9, 20.0]              1422         1.39%\n3   (20.0, 40.0]             12004        11.77%\n4   (40.0, 60.0]             29424        28.85%\n5   (60.0, 90.0]             54801        53.72%\n6  (90.0, 120.0]                 0         0.00%\n0           null              4328         4.24%\nVerification:   train_dm_0_count: 102006 train_dm_0_%: 100.0%\nMin: 14.84 Max: 67.81\n                           bmi  train_dm_0_count  train_dm_0_%\n0     [0.0 - 18.5] underweight              4726         4.63%\n1  [18.5 - 24.9] normal weight             30747        30.14%\n2       [25 -  30] over weight             30507        29.91%\n3                [70  <] obese             32451        31.81%\n0                         null              3575         3.50%\nVerification:   train_dm_0_count: 102006 train_dm_0_%: 100.0%\n  gender  train_dm_0_count  train_dm_0_%\n0      M             55098        54.01%\n1      F             46847        45.93%\n0   null                61         0.06%\nVerification:   train_dm_0_count: 102006 train_dm_0_%: 100.0%\n          ethnicity  train_dm_0_count  train_dm_0_%\n0         Caucasian             79631        78.07%\n1  African American             10257        10.06%\n2     Other/Unknown              4666         4.57%\n3          Hispanic              3806         3.73%\n4             Asian              1660         1.63%\n5   Native American               621         0.61%\n0              null              1365         1.34%\nVerification:   train_dm_0_count: 102006 train_dm_0_%: 100.0%\n"
    }
   ],
   "source": [
    "df_train_dm_0_age, train_dm_0_age_nan, train_dm_0_age_nanpc = _agedist(df_train_dm_0, \"train_dm_0\")\n",
    "df_train_dm_0_bmi, train_dm_0_bmi_nan, train_dm_0_bmi_nanpc = _bmidist(df_train_dm_0, \"train_dm_0\")\n",
    "df_train_dm_0_gender, train_dm_0_gender_nan, train_dm_0_gender_nanpc = _categoricalvardist(df_train_dm_0, 'train_dm_0', 'gender')\n",
    "df_train_dm_0_ethnicity, train_dm_0_ethnicity_nan, train_dm_0_ethnicity_nanpc = _categoricalvardist(df_train_dm_0, 'train_dm_0', 'ethnicity')"
   ]
  },
  {
   "cell_type": "markdown",
   "metadata": {},
   "source": [
    "## Unlabeled Dataset"
   ],
   "execution_count": null,
   "outputs": []
  },
  {
   "cell_type": "code",
   "execution_count": 56,
   "metadata": {},
   "outputs": [
    {
     "output_type": "execute_result",
     "data": {
      "text/plain": "       Unnamed: 0  encounter_id  hospital_id       age      bmi  \\\ncount   10234.00%     10234.00%    10234.00% 10234.00% 9219.00%   \nmean     5117.50%    140498.78%    10092.39%    62.85%   29.12%   \nstd      2954.45%      3182.46%       57.01%    17.85%    8.34%   \nmin         1.00%    135000.00%    10001.00%    18.00%   14.90%   \n25%      2559.25%    137742.25%    10043.00%    52.00%   23.70%   \n50%      5117.50%    140503.50%    10085.00%    65.00%   27.60%   \n75%      7675.75%    143252.75%    10145.00%    76.00%   32.60%   \nmax     10234.00%    146000.00%    10199.00%    96.00%   69.94%   \n\n       elective_surgery   height    icu_id  pre_icu_los_days  \\\ncount         10234.00% 9933.00% 10234.00%         10234.00%   \nmean              0.20%  169.28%   677.82%             0.83%   \nstd               0.40%   10.81%   304.12%             2.41%   \nmin               0.00%  137.00%    82.00%            -0.21%   \n25%               0.00%  162.50%   451.00%             0.03%   \n50%               0.00%  170.00%   687.00%             0.13%   \n75%               0.00%  177.80%   962.00%             0.43%   \nmax               1.00%  195.60%  1111.00%            65.95%   \n\n       readmission_status  ...  h1_arterial_po2_min  h1_pao2fio2ratio_max  \\\ncount           10234.00%  ...             1928.00%              1422.00%   \nmean                0.00%  ...              156.77%               254.69%   \nstd                 0.00%  ...              105.62%               132.09%   \nmin                 0.00%  ...               30.00%                42.62%   \n25%                 0.00%  ...               79.00%               151.40%   \n50%                 0.00%  ...              118.00%               234.00%   \n75%                 0.00%  ...              206.07%               345.52%   \nmax                 0.00%  ...              518.06%               672.82%   \n\n       h1_pao2fio2ratio_min      aids  cirrhosis  hepatic_failure  \\\ncount              1422.00% 10234.00%  10234.00%        10234.00%   \nmean                246.26%     0.00%      0.01%            0.01%   \nstd                 130.75%     0.03%      0.11%            0.10%   \nmin                  41.42%     0.00%      0.00%            0.00%   \n25%                 144.05%     0.00%      0.00%            0.00%   \n50%                 224.00%     0.00%      0.00%            0.00%   \n75%                 336.52%     0.00%      0.00%            0.00%   \nmax                 651.66%     1.00%      1.00%            1.00%   \n\n       immunosuppression  leukemia  lymphoma  solid_tumor_with_metastasis  \ncount          10234.00% 10234.00% 10234.00%                    10234.00%  \nmean               0.02%     0.01%     0.00%                        0.02%  \nstd                0.15%     0.08%     0.06%                        0.13%  \nmin                0.00%     0.00%     0.00%                        0.00%  \n25%                0.00%     0.00%     0.00%                        0.00%  \n50%                0.00%     0.00%     0.00%                        0.00%  \n75%                0.00%     0.00%     0.00%                        0.00%  \nmax                1.00%     1.00%     1.00%                        1.00%  \n\n[8 rows x 174 columns]",
      "text/html": "<div>\n<style scoped>\n    .dataframe tbody tr th:only-of-type {\n        vertical-align: middle;\n    }\n\n    .dataframe tbody tr th {\n        vertical-align: top;\n    }\n\n    .dataframe thead th {\n        text-align: right;\n    }\n</style>\n<table border=\"1\" class=\"dataframe\">\n  <thead>\n    <tr style=\"text-align: right;\">\n      <th></th>\n      <th>Unnamed: 0</th>\n      <th>encounter_id</th>\n      <th>hospital_id</th>\n      <th>age</th>\n      <th>bmi</th>\n      <th>elective_surgery</th>\n      <th>height</th>\n      <th>icu_id</th>\n      <th>pre_icu_los_days</th>\n      <th>readmission_status</th>\n      <th>...</th>\n      <th>h1_arterial_po2_min</th>\n      <th>h1_pao2fio2ratio_max</th>\n      <th>h1_pao2fio2ratio_min</th>\n      <th>aids</th>\n      <th>cirrhosis</th>\n      <th>hepatic_failure</th>\n      <th>immunosuppression</th>\n      <th>leukemia</th>\n      <th>lymphoma</th>\n      <th>solid_tumor_with_metastasis</th>\n    </tr>\n  </thead>\n  <tbody>\n    <tr>\n      <th>count</th>\n      <td>10234.00%</td>\n      <td>10234.00%</td>\n      <td>10234.00%</td>\n      <td>10234.00%</td>\n      <td>9219.00%</td>\n      <td>10234.00%</td>\n      <td>9933.00%</td>\n      <td>10234.00%</td>\n      <td>10234.00%</td>\n      <td>10234.00%</td>\n      <td>...</td>\n      <td>1928.00%</td>\n      <td>1422.00%</td>\n      <td>1422.00%</td>\n      <td>10234.00%</td>\n      <td>10234.00%</td>\n      <td>10234.00%</td>\n      <td>10234.00%</td>\n      <td>10234.00%</td>\n      <td>10234.00%</td>\n      <td>10234.00%</td>\n    </tr>\n    <tr>\n      <th>mean</th>\n      <td>5117.50%</td>\n      <td>140498.78%</td>\n      <td>10092.39%</td>\n      <td>62.85%</td>\n      <td>29.12%</td>\n      <td>0.20%</td>\n      <td>169.28%</td>\n      <td>677.82%</td>\n      <td>0.83%</td>\n      <td>0.00%</td>\n      <td>...</td>\n      <td>156.77%</td>\n      <td>254.69%</td>\n      <td>246.26%</td>\n      <td>0.00%</td>\n      <td>0.01%</td>\n      <td>0.01%</td>\n      <td>0.02%</td>\n      <td>0.01%</td>\n      <td>0.00%</td>\n      <td>0.02%</td>\n    </tr>\n    <tr>\n      <th>std</th>\n      <td>2954.45%</td>\n      <td>3182.46%</td>\n      <td>57.01%</td>\n      <td>17.85%</td>\n      <td>8.34%</td>\n      <td>0.40%</td>\n      <td>10.81%</td>\n      <td>304.12%</td>\n      <td>2.41%</td>\n      <td>0.00%</td>\n      <td>...</td>\n      <td>105.62%</td>\n      <td>132.09%</td>\n      <td>130.75%</td>\n      <td>0.03%</td>\n      <td>0.11%</td>\n      <td>0.10%</td>\n      <td>0.15%</td>\n      <td>0.08%</td>\n      <td>0.06%</td>\n      <td>0.13%</td>\n    </tr>\n    <tr>\n      <th>min</th>\n      <td>1.00%</td>\n      <td>135000.00%</td>\n      <td>10001.00%</td>\n      <td>18.00%</td>\n      <td>14.90%</td>\n      <td>0.00%</td>\n      <td>137.00%</td>\n      <td>82.00%</td>\n      <td>-0.21%</td>\n      <td>0.00%</td>\n      <td>...</td>\n      <td>30.00%</td>\n      <td>42.62%</td>\n      <td>41.42%</td>\n      <td>0.00%</td>\n      <td>0.00%</td>\n      <td>0.00%</td>\n      <td>0.00%</td>\n      <td>0.00%</td>\n      <td>0.00%</td>\n      <td>0.00%</td>\n    </tr>\n    <tr>\n      <th>25%</th>\n      <td>2559.25%</td>\n      <td>137742.25%</td>\n      <td>10043.00%</td>\n      <td>52.00%</td>\n      <td>23.70%</td>\n      <td>0.00%</td>\n      <td>162.50%</td>\n      <td>451.00%</td>\n      <td>0.03%</td>\n      <td>0.00%</td>\n      <td>...</td>\n      <td>79.00%</td>\n      <td>151.40%</td>\n      <td>144.05%</td>\n      <td>0.00%</td>\n      <td>0.00%</td>\n      <td>0.00%</td>\n      <td>0.00%</td>\n      <td>0.00%</td>\n      <td>0.00%</td>\n      <td>0.00%</td>\n    </tr>\n    <tr>\n      <th>50%</th>\n      <td>5117.50%</td>\n      <td>140503.50%</td>\n      <td>10085.00%</td>\n      <td>65.00%</td>\n      <td>27.60%</td>\n      <td>0.00%</td>\n      <td>170.00%</td>\n      <td>687.00%</td>\n      <td>0.13%</td>\n      <td>0.00%</td>\n      <td>...</td>\n      <td>118.00%</td>\n      <td>234.00%</td>\n      <td>224.00%</td>\n      <td>0.00%</td>\n      <td>0.00%</td>\n      <td>0.00%</td>\n      <td>0.00%</td>\n      <td>0.00%</td>\n      <td>0.00%</td>\n      <td>0.00%</td>\n    </tr>\n    <tr>\n      <th>75%</th>\n      <td>7675.75%</td>\n      <td>143252.75%</td>\n      <td>10145.00%</td>\n      <td>76.00%</td>\n      <td>32.60%</td>\n      <td>0.00%</td>\n      <td>177.80%</td>\n      <td>962.00%</td>\n      <td>0.43%</td>\n      <td>0.00%</td>\n      <td>...</td>\n      <td>206.07%</td>\n      <td>345.52%</td>\n      <td>336.52%</td>\n      <td>0.00%</td>\n      <td>0.00%</td>\n      <td>0.00%</td>\n      <td>0.00%</td>\n      <td>0.00%</td>\n      <td>0.00%</td>\n      <td>0.00%</td>\n    </tr>\n    <tr>\n      <th>max</th>\n      <td>10234.00%</td>\n      <td>146000.00%</td>\n      <td>10199.00%</td>\n      <td>96.00%</td>\n      <td>69.94%</td>\n      <td>1.00%</td>\n      <td>195.60%</td>\n      <td>1111.00%</td>\n      <td>65.95%</td>\n      <td>0.00%</td>\n      <td>...</td>\n      <td>518.06%</td>\n      <td>672.82%</td>\n      <td>651.66%</td>\n      <td>1.00%</td>\n      <td>1.00%</td>\n      <td>1.00%</td>\n      <td>1.00%</td>\n      <td>1.00%</td>\n      <td>1.00%</td>\n      <td>1.00%</td>\n    </tr>\n  </tbody>\n</table>\n<p>8 rows × 174 columns</p>\n</div>"
     },
     "metadata": {},
     "execution_count": 56
    }
   ],
   "source": [
    "df_test = pd.read_csv(\"data/UnlabeledWiDS2021.csv\")\n",
    "df_test.describe()"
   ]
  },
  {
   "cell_type": "code",
   "execution_count": 52,
   "metadata": {},
   "outputs": [
    {
     "output_type": "stream",
     "name": "stdout",
     "text": "----------------------------------------\nTesting dataset - details\n----------------------------------------\nEntries - Total:                   10234\nFeatures:                            180\nage       :    0\ngender    :    5\nethnicity :  204\nweight    :  908\nheight    :  301\nbmi       : 1015\nreadmission_status [0]\n"
    }
   ],
   "source": [
    "test_count, _, _ = _describe(df_test, \"Testing\")\n",
    "_nullcheck(df_test)"
   ]
  },
  {
   "cell_type": "code",
   "execution_count": null,
   "metadata": {},
   "outputs": [],
   "source": []
  },
  {
   "cell_type": "code",
   "execution_count": 53,
   "metadata": {},
   "outputs": [
    {
     "output_type": "stream",
     "name": "stdout",
     "text": "age       :    0\ngender    :    0\nethnicity :    0\nweight    :  908\nheight    :  301\nbmi       : 1015\nreadmission_status [0]\n"
    }
   ],
   "source": [
    "# TODO: move this to the null_check function\n",
    "df_test['gender'].fillna('Unknown', inplace=True)\n",
    "df_test['ethnicity'].fillna('Unknown', inplace=True)\n",
    "_nullcheck(df_test)"
   ]
  },
  {
   "cell_type": "code",
   "execution_count": 54,
   "metadata": {},
   "outputs": [
    {
     "output_type": "stream",
     "name": "stdout",
     "text": "Number of rows where either weight or height or both are null 1015\nNumber of rows where bmi is null 1015\nRows with Weight=null Height=!null BMI=!null 0\nRows with Weight=!null Height=null BMI=!null 0\nRows with Weight=null Height=!null BMI=!null 0\nRows with Weight=!null Height=!null BMI=null 0\nbmi=null 1015\n1015 1015 0\nAtleast one dependent column is null: 0\nAge: null, Ethnicity:!null, Gender:!null: 0\nAll dependent columns are null: 0\n"
    }
   ],
   "source": [
    "_nullcheck_bmi(df_test)"
   ]
  },
  {
   "cell_type": "code",
   "execution_count": null,
   "metadata": {},
   "outputs": [],
   "source": [
    "df_test_age, test_age_nan, test_age_nanpc = _agedist(df_test, \"test\")\n",
    "df_test_bmi, test_bmi_nan, test_bmi_nanpc = _bmidist(df_test, \"test\")\n",
    "df_test_gender, test_gender_nan, test_gender_nanpc = _categoricalvardist(df_test, 'test', 'gender')\n",
    "df_test_ethnicity, test_ethnicity_nan, test_ethnicity_nanpc = _categoricalvardist(df_test, 'test', 'ethnicity')"
   ]
  },
  {
   "cell_type": "code",
   "execution_count": null,
   "metadata": {},
   "outputs": [],
   "source": [
    "def _comparedf(df1, df2, col1, col2, feature):\n",
    "    df = df1.join(df2.set_index(feature), on=feature)\n",
    "    print(f\"{feature}: {col1}: {df[f'{col1}'].sum():.2f}% {col2}: {df[f'{col2}'].sum():.2f}%\")\n",
    "    return df"
   ]
  },
  {
   "cell_type": "code",
   "execution_count": null,
   "metadata": {},
   "outputs": [],
   "source": [
    "_compare('age', df_train_dm_1_age, df_train_dm_0_age, 'train_dm_1_%', 'train_dm_0_%')"
   ]
  },
  {
   "cell_type": "code",
   "execution_count": null,
   "metadata": {},
   "outputs": [],
   "source": [
    "df_bmi = _compare('bmi', df_train_dm_1_bmi, df_train_dm_0_bmi, 'train_dm_1_%', 'train_dm_0_%')\n",
    "df_bmi"
   ]
  },
  {
   "cell_type": "code",
   "execution_count": null,
   "metadata": {},
   "outputs": [],
   "source": [
    "ax = df_bmi[['bmi','train_dm_1_count', 'train_dm_0_count']].plot.bar(x='bmi',rot=15, figsize=(12,6))"
   ]
  },
  {
   "cell_type": "code",
   "execution_count": null,
   "metadata": {},
   "outputs": [],
   "source": [
    "def label_bmi(row):\n",
    "    if row['bmi'] <= 0.0:\n",
    "        return  \"invalid\"\n",
    "    elif row['bmi'] > 0.0  and row['bmi'] < 18.5:\n",
    "        return \"under_weight\"\n",
    "    elif row['bmi'] > 18.5  and row['bmi'] < 24.9:\n",
    "        return \"normal_weight\"\n",
    "    elif row['bmi'] > 25  and row['bmi'] < 30:\n",
    "        return \"over_weight\"\n",
    "    elif row['bmi'] > 30 :\n",
    "        return \"obese\"\n",
    "\n",
    "def negate(row, col):\n",
    "    if row['diabetes_mellitus'] == 1:\n",
    "        return  row[col]\n",
    "    elif row['diabetes_mellitus'] == 0:\n",
    "        return  row[col]*-1\n",
    "\n",
    "df_train_ex = df_train[['bmi','gender','diabetes_mellitus']]\n",
    "df_train_ex['bmi_cat'] = df_train_ex.apply(lambda row: label_bmi(row), axis=1)\n",
    "df_train_ex"
   ]
  },
  {
   "cell_type": "code",
   "execution_count": null,
   "metadata": {},
   "outputs": [],
   "source": [
    "import matplotlib.pyplot as plt\n",
    "import seaborn as sns\n",
    "\n",
    "df_train_ex_b = df_train_ex[['bmi_cat','diabetes_mellitus']].groupby(['bmi_cat', \"diabetes_mellitus\"])['bmi_cat'].agg(['count'])\n",
    "df_train_ex_b = df_train_ex_b.reset_index()\n",
    "\n",
    "df_train_ex_b['count'] = df_train_ex_b.apply(lambda row: negate(row, 'count'), axis=1)\n",
    "\n",
    "df_train_ex_b\n",
    "\n",
    "dms = df_train_ex_b['diabetes_mellitus'].unique()\n",
    "bmi_cats = df_train_ex_b['bmi_cat'].unique()\n",
    "\n",
    "plt.figure(figsize=(10,5), dpi= 80)\n",
    "colors = ['mediumseagreen', 'tomato']\n",
    "print(dms, bmi_cats)\n",
    "for group in dms:\n",
    "    sns.barplot(x='count', y='bmi_cat', data=df_train_ex_b.loc[df_train_ex_b['diabetes_mellitus']==group, :],\n",
    "            color=colors[int(group)])\n",
    "plt.title(\"BMI with and without diabetes mellitus\")\n",
    "plt.legend()"
   ]
  },
  {
   "cell_type": "code",
   "execution_count": null,
   "metadata": {},
   "outputs": [],
   "source": [
    "def _expand_gender(row):\n",
    "    if row['gender'] == 'M':\n",
    "        return 'Male'\n",
    "    elif row['gender'] == 'F':\n",
    "        return 'Female'\n",
    "    else:\n",
    "        return 'Unknown'\n",
    "\n",
    "\n",
    "\n",
    "df_train_ex_g = df_train[['gender','diabetes_mellitus']].groupby(['gender', \"diabetes_mellitus\"])['gender'].agg(['count'])\n",
    "df_train_ex_g = df_train_ex_g.reset_index()\n",
    "\n",
    "nan_rows = df_train_ex_g[df_train_ex_g['gender'].isnull()]\n",
    "print(len(nan_rows))\n",
    "\n",
    "#df_train_ex_g.fillna('Unknown', inplace=True)\n",
    "gender_cats = df_train_ex_g['gender'].unique()\n",
    "print(dms, gender_cats)\n",
    "\n",
    "df_train_ex_g['gender'] = df_train_ex_g.apply(lambda row: _expand_gender(row), axis=1)\n",
    "gender_cats = df_train_ex_g['gender'].unique()\n",
    "print(dms, gender_cats)\n",
    "df_train_ex_g['count'] = df_train_ex_g.apply(lambda row: negate(row, 'count'), axis=1)\n",
    "\n",
    "df_train_ex_g['total'] = 'total'\n",
    "#print(df_train_ex_g.info())\n",
    "#df_train_ex_g['diabetes_mellitus']= 'diabetes'\n",
    "print(df_train_ex_g[df_train_ex_g['diabetes_mellitus']==1]['diabetes_mellitus'])\n",
    "df_train_ex_g[df_train_ex_g['diabetes_mellitus']==1]['diabetes_mellitus'] = 'diabetes'\n",
    "df_train_ex_g[df_train_ex_g['diabetes_mellitus']==0]['diabetes_mellitus'] = 'no diabetes'\n",
    "\n",
    "def change_value(row):\n",
    "    if row['diabetes_mellitus'] == 1:\n",
    "        return 'diabetes'\n",
    "    else:\n",
    "        return 'no diabetes'\n",
    "\n",
    "df_train_ex_g['diabetes_mellitus'] = df_train_ex_g.apply(lambda row: change_value(row), axis=1)\n",
    "\n",
    "df_train_ex_g\n"
   ]
  },
  {
   "cell_type": "code",
   "execution_count": null,
   "metadata": {},
   "outputs": [],
   "source": [
    "import plotly.express as px \n",
    "\n",
    "def make_positive(row):\n",
    "    if row['count'] < 0:\n",
    "        return row['count'] *  -1\n",
    "    else:\n",
    "        return row['count']\n",
    "\n",
    "print(df_train_ex_g)\n",
    "df_train_ex_g['count'] = df_train_ex_g.apply(lambda row: make_positive(row), axis=1)\n",
    "print(df_train_ex_g)\n",
    "print(df_train_ex_g.columns, df_train_ex_g['diabetes_mellitus'].unique() )\n",
    "print(df_train_ex_g['count'].sum())\n",
    "print(df_train_ex_g)"
   ]
  },
  {
   "cell_type": "code",
   "execution_count": null,
   "metadata": {},
   "outputs": [],
   "source": [
    "px.treemap(df_train_ex_g, path=['total', 'diabetes_mellitus', 'gender'], values='count',\n",
    "            color='count', color_continuous_scale='RdBu',\n",
    "            color_continuous_midpoint=np.average(df_train_ex_g['count'], \n",
    "            weights=df_train_ex_g['count']))"
   ]
  },
  {
   "cell_type": "code",
   "execution_count": null,
   "metadata": {},
   "outputs": [],
   "source": [
    "plt.figure(figsize=(10,5), dpi= 80)\n",
    "for group in dms:\n",
    "    sns.barplot(x='count', y='gender', data=df_train_ex_g.loc[df_train_ex_g['diabetes_mellitus']==group, :],\n",
    "            color=colors[int(group)])\n",
    "plt.title(\"Gender with and without diabetes mellitus\")\n",
    "plt.legend()"
   ]
  },
  {
   "cell_type": "code",
   "execution_count": null,
   "metadata": {},
   "outputs": [],
   "source": [
    "df_gender = _compare('gender', df_train_dm_1_gender, df_train_dm_0_gender, 'train_dm_1_%', 'train_dm_0_%')\n",
    "df_gender"
   ]
  },
  {
   "cell_type": "code",
   "execution_count": null,
   "metadata": {},
   "outputs": [],
   "source": [
    "ax = df_gender[['gender','train_dm_1_count', 'train_dm_0_count']].plot.bar(x='gender',rot=0, figsize=(10,5))"
   ]
  },
  {
   "cell_type": "code",
   "execution_count": null,
   "metadata": {},
   "outputs": [],
   "source": [
    "df_ethnicity = _compare('ethnicity', df_train_dm_1_ethnicity, df_train_dm_0_ethnicity, 'train_dm_1_%', 'train_dm_0_%')"
   ]
  },
  {
   "cell_type": "code",
   "execution_count": null,
   "metadata": {},
   "outputs": [],
   "source": [
    "ax = df_ethnicity[['ethnicity','train_dm_1_count', 'train_dm_0_count']].plot.bar(x='ethnicity',rot=0, figsize=(10,5))"
   ]
  },
  {
   "cell_type": "markdown",
   "metadata": {},
   "source": [
    "## Features Train DM = 1 Vs DM = 0\n",
    "How are the features in the case where the dm=1 in comparison with the case where dm=0?"
   ],
   "execution_count": null,
   "outputs": []
  },
  {
   "cell_type": "code",
   "execution_count": null,
   "metadata": {},
   "outputs": [],
   "source": [
    "_comparedf(df_train_dm_1_age, df_train_dm_0_age, 'train_dm_1_%', 'train_dm_0_%', 'age')"
   ]
  },
  {
   "cell_type": "code",
   "execution_count": null,
   "metadata": {},
   "outputs": [],
   "source": [
    "_compare('age', df_train_age, df_test_age, 'train_%', 'test_%')"
   ]
  },
  {
   "cell_type": "code",
   "execution_count": null,
   "metadata": {},
   "outputs": [],
   "source": [
    "_comparedf(df_train_dm_1_bmi, df_train_dm_0_bmi, 'train_dm_1_%', 'train_dm_0_%', 'bmi')"
   ]
  },
  {
   "cell_type": "markdown",
   "metadata": {},
   "source": [
    "**Observations**: \n",
    "- In the **40-60yrs** group, number of people with and without dm are almost same.\n",
    "- In the **60-90yrs** group, number of people with dm are more than without dm.\n",
    "- In the **Obese** category, number people who have dm is more than those without dm\n",
    "- In other age and bmi categories, number of people with dm is lesser than those without dm.\n",
    "- The distribution of genders with and without dm is similar.\n",
    "- Convert categorical features - gender, ethnicity and bmi into dummy variables"
   ],
   "execution_count": null,
   "outputs": []
  },
  {
   "cell_type": "code",
   "execution_count": null,
   "metadata": {},
   "outputs": [],
   "source": [
    "_compare('bmi', df_train_bmi, df_test_bmi, 'train_%', 'test_%')"
   ]
  },
  {
   "cell_type": "markdown",
   "metadata": {},
   "source": [
    "## Features Train Vs Test\n"
   ],
   "execution_count": null,
   "outputs": []
  },
  {
   "cell_type": "code",
   "execution_count": null,
   "metadata": {},
   "outputs": [],
   "source": [
    "_comparedf(df_train_age, df_test_age, 'train_%', 'test_%', 'age')"
   ]
  },
  {
   "cell_type": "code",
   "execution_count": null,
   "metadata": {},
   "outputs": [],
   "source": [
    "_compare('gender', df_train_gender, df_test_gender, 'train_%', 'test_%')"
   ]
  },
  {
   "cell_type": "code",
   "execution_count": null,
   "metadata": {},
   "outputs": [],
   "source": [
    "_compare('ethnicity', df_train_ethnicity, df_test_ethnicity, 'train_%', 'test_%')"
   ]
  },
  {
   "cell_type": "code",
   "execution_count": null,
   "metadata": {},
   "outputs": [],
   "source": [
    "_comparedf(df_train_bmi, df_test_bmi, 'bmi')\n",
    ""
   ]
  },
  {
   "cell_type": "code",
   "execution_count": null,
   "metadata": {},
   "outputs": [],
   "source": [
    "_comparedf(df_train_gender, df_test_gender, 'gender')"
   ]
  },
  {
   "cell_type": "code",
   "execution_count": null,
   "metadata": {},
   "outputs": [],
   "source": [
    "_comparedf(df_train_ethnicity, df_test_ethnicity, 'ethnicity')"
   ]
  },
  {
   "cell_type": "markdown",
   "metadata": {},
   "source": [
    "**Presence of invalid and missing values and handling :**\n",
    "- **age**:\n",
    "    -  In the training dataset, there are 30 invalid ages. Most of the other lab and vitals values are missing. Remove these rows.\n",
    "    - In the training dataset, there are null values for age. Handling?\n",
    "- **gender**: In both training and test datasets, there are null values for gender. Fill \"Unknown\"\n",
    "- **ethnicity**: In both training and test datasets, there are null values for ethnicity. Fill \"Unkown\"\n",
    "- **weight**: Fill Average weight of the age, gender & ethnicity\n",
    "- **height**: Fill Average height of the age, gender & ethnicity\n",
    "- **bmi**: \n",
    "    - In both training and test datasets, there are null values for bmi. \n",
    "    - weight and height can be imputed using age, gender and ethnicity\n",
    "        - training: Around 194 rows are null. Remove these rows?\n",
    "        - testing: All dependent columns have values\n",
    "    - Extract non-null rows of age, gender, ethnicity, weight, height and make a linear regression\n",
    "    - Calculate bmi based on  weight and height. Here, there 3 possibilities - weight only is present, height only is present, both weight and height is not present.\n",
    "    -  Should weight and height be replaced only with bmi?\n",
    "\n",
    "- Convert categorical features - gender, ethnicity and bmi into dummy variables\n",
    "\n",
    "**Findings**\n",
    "- Distribution of age across categories is similar for training and test datasets\n",
    "- The distribution of bmi across categories is similar in training and test data sets"
   ],
   "execution_count": null,
   "outputs": []
  },
  {
   "cell_type": "markdown",
   "metadata": {},
   "source": [
    "===========================X===========================X===========================X===========================X\n",
    "\n",
    "*Work in Progress*\n",
    "\n",
    "===========================X===========================X===========================X===========================X"
   ],
   "execution_count": null,
   "outputs": []
  },
  {
   "cell_type": "markdown",
   "metadata": {},
   "source": [
    "- Combine features - ratio, difference "
   ],
   "execution_count": null,
   "outputs": []
  },
  {
   "cell_type": "code",
   "execution_count": null,
   "metadata": {},
   "outputs": [],
   "source": [
    "df_train.groupby(['hospital_id']).count()['encounter_id'].sort_values()"
   ]
  },
  {
   "cell_type": "code",
   "execution_count": null,
   "metadata": {},
   "outputs": [],
   "source": [
    "df_train.loc[df_train['hospital_id']==4]"
   ]
  },
  {
   "cell_type": "code",
   "execution_count": null,
   "metadata": {},
   "outputs": [],
   "source": [
    "df_train.groupby('icu_id')['icu_id'].agg(['count']).sort_values(by = 'count', ascending=False)"
   ]
  },
  {
   "cell_type": "code",
   "execution_count": null,
   "metadata": {},
   "outputs": [],
   "source": [
    "df_train['bmi_calc'] = df['weight']/(df['height']/100)**2"
   ]
  },
  {
   "cell_type": "code",
   "execution_count": null,
   "metadata": {},
   "outputs": [],
   "source": [
    "df_bmi = df_train[['weight', 'height', 'bmi']]\n",
    "df_bmi_1  = df_bmi[df_bmi.isna().any(axis=1)]"
   ]
  },
  {
   "cell_type": "code",
   "execution_count": null,
   "metadata": {},
   "outputs": [],
   "source": [
    "df_bmi_1"
   ]
  },
  {
   "cell_type": "code",
   "execution_count": null,
   "metadata": {},
   "outputs": [],
   "source": [
    "# encounter_ids are unique and there are no repeats\n",
    "df_temp = df.groupby(['encounter_id'])['encounter_id'].count().sort_values(ascending=False)\n",
    "#df_temp = df_temp.rename(columns = {'encounter_id':'count'})\n",
    "#df_temp['%'] = 100 * df_temp['count'] / df_temp['count'].sum()\n",
    "#pd.options.display.float_format = '{:.2f}%'.format\n",
    "print(df_temp)"
   ]
  },
  {
   "cell_type": "code",
   "execution_count": null,
   "metadata": {},
   "outputs": [],
   "source": [
    "def getAllValues(df, col):\n",
    "    df_temp = df.groupby([col]).count()['encounter_id'].sort_values(ascending=False).reset_index()\n",
    "    df_temp = df_temp.rename(columns = {'encounter_id':'count'})\n",
    "    df_temp['%'] = 100 * df_temp['count'] / df_temp['count'].sum()\n",
    "    print(df_temp)"
   ]
  },
  {
   "cell_type": "code",
   "execution_count": null,
   "metadata": {},
   "outputs": [],
   "source": [
    "# Columns - string type\n",
    "for  col in ['ethnicity', 'gender', 'hospital_admit_source', 'icu_admit_source', 'icu_type', 'icu_stay_type']:\n",
    "    getAllValues(df, col)\n",
    "    getAllValues(df_test, col)\n",
    "    print()"
   ]
  },
  {
   "cell_type": "code",
   "execution_count": null,
   "metadata": {},
   "outputs": [],
   "source": [
    "# Columns - binary type\n",
    "for col in ['elective_surgery', 'readmission_status', 'diabetes_mellitus' ]:\n",
    "    getAllValues(df, col)\t\n",
    "    if col != 'diabetes_mellitus':\n",
    "        getAllValues(df_test, col)\n",
    "    print()"
   ]
  },
  {
   "cell_type": "code",
   "execution_count": null,
   "metadata": {
    "tags": [
     "outputPrepend",
     "outputPrepend",
     "outputPrepend",
     "outputPrepend",
     "outputPrepend",
     "outputPrepend",
     "outputPrepend",
     "outputPrepend",
     "outputPrepend",
     "outputPrepend",
     "outputPrepend",
     "outputPrepend",
     "outputPrepend",
     "outputPrepend",
     "outputPrepend",
     "outputPrepend",
     "outputPrepend",
     "outputPrepend",
     "outputPrepend",
     "outputPrepend",
     "outputPrepend",
     "outputPrepend",
     "outputPrepend",
     "outputPrepend",
     "outputPrepend",
     "outputPrepend",
     "outputPrepend",
     "outputPrepend",
     "outputPrepend",
     "outputPrepend",
     "outputPrepend",
     "outputPrepend",
     "outputPrepend",
     "outputPrepend"
    ]
   },
   "outputs": [],
   "source": [
    "# Columns - nan data\n",
    "\n",
    "nan_counts = []\n",
    "nan_counts_percent = []\n",
    "for col in df.columns:\n",
    "    total = df[col].count()\n",
    "    nan_rows = len(df[df[col].isnull()])\n",
    "    nan_counts.append(nan_rows)\n",
    "    nan_counts_percent.append(100 * nan_rows/(total+nan_rows))"
   ]
  },
  {
   "cell_type": "code",
   "execution_count": null,
   "metadata": {},
   "outputs": [],
   "source": [
    "df_nan = pd.DataFrame({'Variable Name':df.columns, 'nan_counts':nan_counts, '%':nan_counts_percent})\n",
    "df_nan = df_nan.sort_values('nan_counts', ascending = False)\n",
    "df_nan['%'] = df_nan['%'].map('{:,.1f}%'.format)\n",
    "print(df_nan)\n",
    "df_nan.to_csv(\"nan_data.csv\")\n",
    "print(df_nan.shape[0])"
   ]
  },
  {
   "cell_type": "code",
   "execution_count": null,
   "metadata": {},
   "outputs": [],
   "source": [
    "# Rows with nan data\n",
    "df_nan = df[df.isna().any(axis=1)]\n",
    "print (f\"Rows with nan values: {100 * df_nan.shape[0]/df.shape[0]:.2f}%\")"
   ]
  },
  {
   "cell_type": "code",
   "execution_count": null,
   "metadata": {},
   "outputs": [],
   "source": [
    "df_dict = pd.read_csv(\"data/DataDictionaryWiDS2021.csv\")\n",
    "print(df_dict[['Variable Name', 'Category', 'Data Type']])\n",
    "print(df_dict.shape[0])"
   ]
  },
  {
   "cell_type": "code",
   "execution_count": null,
   "metadata": {},
   "outputs": [],
   "source": [
    "df_data_desc = pd.merge(df_nan, df_dict, on=\"Variable Name\")\n",
    "df_data_desc = df_data_desc.sort_values(by=['Category','Variable Name'])\n",
    "df_data_desc.to_csv(\"datadesc.csv\")"
   ]
  },
  {
   "cell_type": "code",
   "execution_count": null,
   "metadata": {},
   "outputs": [],
   "source": [
    "df[['apache_2_diagnosis', 'diabetes_mellitus']].corr()"
   ]
  },
  {
   "cell_type": "code",
   "execution_count": null,
   "metadata": {},
   "outputs": [],
   "source": [
    "from sklearn.linear_model import LinearRegression\n",
    "import numpy as np\n",
    "X = df[['arf_apache']]\n",
    "Y = df['diabetes_mellitus']\n",
    "slm = LinearRegression()\n",
    "np.set_printoptions(precision=2)\n",
    "slm.fit(X,Y)"
   ]
  },
  {
   "cell_type": "code",
   "execution_count": null,
   "metadata": {},
   "outputs": [],
   "source": [
    "Yhat =slm_hm.predict(X_hm)"
   ]
  }
 ]
}