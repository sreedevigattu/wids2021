{
 "cells": [
  {
   "cell_type": "markdown",
   "metadata": {
    "papermill": {
     "duration": 0.032611,
     "end_time": "2021-01-16T14:42:40.338206",
     "exception": false,
     "start_time": "2021-01-16T14:42:40.305595",
     "status": "completed"
    },
    "tags": []
   },
   "source": [
    "# Problem Overview\n",
    "\n",
    "This challenge is hosted by WiDS Datathon Committee. It focuses on patient health, with an emphasis on the chronic condition of diabetes, through data from MIT’s GOSSIS (Global Open Source Severity of Illness Score) initiative.\n",
    "\n",
    "**Background**\n",
    "\n",
    "Getting a rapid understanding of the context of a patient’s overall health has been particularly important during the COVID-19 pandemic as healthcare workers around the world struggle with hospitals overloaded by patients in critical condition. Intensive Care Units (ICUs) often lack verified medical histories for incoming patients. A patient in distress or a patient who is brought in confused or unresponsive may not be able to provide information about chronic conditions such as heart disease, injuries, or diabetes. Medical records may take days to transfer, especially for a patient from another medical provider or system. Knowledge about chronic conditions such as diabetes can inform clinical decisions about patient care and ultimately improve patient outcomes.\n",
    "\n",
    "**Overview**\n",
    "\n",
    "In this challenge, participants are required to build a model to determine whether a patient admitted to an ICU has been diagnosed with a particular type of diabetes, Diabetes Mellitus.\n",
    "\n",
    "**Data Files**\n",
    "\n",
    "**TrainingWiDS2021.csv** - the training data. You should see 130,157 encounters represented here. Please view the Data Dictionary file for more information about the columns.\n",
    "\n",
    "**UnlabeledWiDS2021.csv** - the unlabeled data (data without diabetes_mellitus provided). You are being asked to predict the diabetes_mellitus variable for these encounters.\n",
    "\n",
    "**SampleSubmissionWiDS2021.csv** - a sample submission file in the correct format.\n",
    "\n",
    "**SolutionTemplateWiDS2021.csv** - a list of all the rows (and encounters) that should be in your submissions.****\n",
    "\n",
    "**DataDictionaryWiDS2021.csv** - supplemental information about the data.\n",
    "\n",
    "**Evaluation metric**\n",
    "\n",
    "Model will be evaluated on ethe Area under the Receiver Operating Characteristic (ROC) curve between the predicted and the observed target (diabetes_mellitus_diagnosis)."
   ],
   "execution_count": null,
   "outputs": []
  },
  {
   "cell_type": "markdown",
   "metadata": {
    "papermill": {
     "duration": 0.03127,
     "end_time": "2021-01-16T14:42:40.401078",
     "exception": false,
     "start_time": "2021-01-16T14:42:40.369808",
     "status": "completed"
    },
    "tags": []
   },
   "source": [
    "**Install dabl which stands for Data Analysis Baseline library. Dabl can be used to automate many of the tasks related to data exploration and analysis**"
   ],
   "execution_count": null,
   "outputs": []
  },
  {
   "cell_type": "markdown",
   "metadata": {
    "papermill": {
     "duration": 0.039539,
     "end_time": "2021-01-16T14:42:53.960711",
     "exception": false,
     "start_time": "2021-01-16T14:42:53.921172",
     "status": "completed"
    },
    "tags": []
   },
   "source": [
    "# Import Libraries"
   ],
   "execution_count": null,
   "outputs": []
  },
  {
   "cell_type": "code",
   "execution_count": 1,
   "metadata": {
    "_cell_guid": "79c7e3d0-c299-4dcb-8224-4455121ee9b0",
    "_uuid": "d629ff2d2480ee46fbb7e2d37f6b5fab8052498a",
    "execution": {
     "iopub.execute_input": "2021-01-16T14:42:54.057609Z",
     "iopub.status.busy": "2021-01-16T14:42:54.056513Z",
     "iopub.status.idle": "2021-01-16T14:42:57.729217Z",
     "shell.execute_reply": "2021-01-16T14:42:57.728169Z"
    },
    "papermill": {
     "duration": 3.724788,
     "end_time": "2021-01-16T14:42:57.729346",
     "exception": false,
     "start_time": "2021-01-16T14:42:54.004558",
     "status": "completed"
    },
    "tags": []
   },
   "outputs": [],
   "source": [
    "from datetime import datetime\n",
    "\n",
    "import numpy as np\n",
    "import pandas as pd\n",
    "\n",
    "import dabl\n",
    "\n",
    "#from pandas_profiling import ProfileReport #For generating profile reports\n",
    "\n",
    "import matplotlib.pyplot as plt  #data visualization\n",
    "import seaborn as sns\n",
    "import plotly.graph_objects as go\n",
    "\n",
    "from sklearn.preprocessing import LabelEncoder\n",
    "\n",
    "from sklearn.model_selection import train_test_split, KFold, RandomizedSearchCV\n",
    "\n",
    "from sklearn.experimental import enable_iterative_imputer   # For imputing missing values\n",
    "from sklearn.impute import IterativeImputer, SimpleImputer\n",
    "\n",
    "from sklearn.metrics import roc_auc_score, classification_report, confusion_matrix  #metrics\n",
    "from scipy import stats\n",
    "\n",
    "from sklearn.ensemble import RandomForestClassifier\n",
    "from sklearn.linear_model import LogisticRegression\n",
    "from catboost import CatBoostClassifier\n",
    "from xgboost import XGBClassifier\n",
    "\n",
    "import warnings\n",
    "warnings.filterwarnings('ignore')  #silence warnings"
   ]
  },
  {
   "cell_type": "markdown",
   "metadata": {},
   "source": [
    "### CONSTANTS"
   ],
   "execution_count": null,
   "outputs": []
  },
  {
   "cell_type": "code",
   "execution_count": 2,
   "metadata": {},
   "outputs": [],
   "source": [
    "CAT_COLUMNS = {\n",
    "    \"demographic1\" : ['age', 'gender', 'ethnicity', 'weight', 'height', 'bmi'], \n",
    "    \"demographic2\" : ['elective_surgery', 'hospital_admit_source', 'icu_admit_source', 'icu_stay_type','icu_type',           \n",
    "    'pre_icu_los_days'], \n",
    "    \"apache_covariate\" : ['albumin_apache', 'apache_2_diagnosis', 'apache_3j_diagnosis',\n",
    "       'apache_post_operative', 'arf_apache', 'bilirubin_apache', 'bun_apache',\n",
    "       'creatinine_apache', 'fio2_apache', 'gcs_eyes_apache',\n",
    "       'gcs_motor_apache', 'gcs_unable_apache', 'gcs_verbal_apache',\n",
    "       'glucose_apache', 'heart_rate_apache', 'hematocrit_apache',\n",
    "       'intubated_apache', 'map_apache', 'paco2_apache', 'paco2_for_ph_apache',\n",
    "       'pao2_apache', 'ph_apache', 'resprate_apache', 'sodium_apache',\n",
    "       'temp_apache', 'urineoutput_apache', 'ventilated_apache', 'wbc_apache'],\n",
    "    \"apache_comorbidity\" : ['aids', 'cirrhosis', 'hepatic_failure', 'immunosuppression', 'leukemia',\n",
    "       'lymphoma', 'solid_tumor_with_metastasis', 'diabetes_mellitus'\n",
    "       ],\n",
    "    \"vitals_d1\" : ['d1_diasbp_invasive_max', 'd1_diasbp_invasive_min', 'd1_diasbp_max',\n",
    "       'd1_diasbp_min', 'd1_diasbp_noninvasive_max',\n",
    "       'd1_diasbp_noninvasive_min', 'd1_heartrate_max', 'd1_heartrate_min',\n",
    "       'd1_mbp_invasive_max', 'd1_mbp_invasive_min', 'd1_mbp_max',\n",
    "       'd1_mbp_min', 'd1_mbp_noninvasive_max', 'd1_mbp_noninvasive_min',\n",
    "       'd1_resprate_max', 'd1_resprate_min', 'd1_spo2_max', 'd1_spo2_min',\n",
    "       'd1_sysbp_invasive_max', 'd1_sysbp_invasive_min', 'd1_sysbp_max',\n",
    "       'd1_sysbp_min', 'd1_sysbp_noninvasive_max', 'd1_sysbp_noninvasive_min',\n",
    "       'd1_temp_max', 'd1_temp_min'],\n",
    "    \"vitals_h1\" : ['h1_diasbp_invasive_max', 'h1_diasbp_invasive_min', 'h1_diasbp_max',\n",
    "       'h1_diasbp_min', 'h1_diasbp_noninvasive_max',\n",
    "       'h1_diasbp_noninvasive_min', 'h1_heartrate_max', 'h1_heartrate_min',\n",
    "       'h1_mbp_invasive_max', 'h1_mbp_invasive_min', 'h1_mbp_max',\n",
    "       'h1_mbp_min', 'h1_mbp_noninvasive_max', 'h1_mbp_noninvasive_min',\n",
    "       'h1_resprate_max', 'h1_resprate_min', 'h1_spo2_max', 'h1_spo2_min',\n",
    "       'h1_sysbp_invasive_max', 'h1_sysbp_invasive_min', 'h1_sysbp_max',\n",
    "       'h1_sysbp_min', 'h1_sysbp_noninvasive_max', 'h1_sysbp_noninvasive_min',\n",
    "       'h1_temp_max', 'h1_temp_min'],\n",
    "    \"labs_d1\" :['d1_albumin_max', 'd1_albumin_min', 'd1_bilirubin_max',\n",
    "       'd1_bilirubin_min', 'd1_bun_max', 'd1_bun_min', 'd1_calcium_max',\n",
    "       'd1_calcium_min', 'd1_creatinine_max', 'd1_creatinine_min',\n",
    "       'd1_glucose_max', 'd1_glucose_min', 'd1_hco3_max', 'd1_hco3_min',\n",
    "       'd1_hemaglobin_max', 'd1_hemaglobin_min', 'd1_hematocrit_max',\n",
    "       'd1_hematocrit_min', 'd1_inr_max', 'd1_inr_min', 'd1_lactate_max',\n",
    "       'd1_lactate_min', 'd1_platelets_max', 'd1_platelets_min',\n",
    "       'd1_potassium_max', 'd1_potassium_min', 'd1_sodium_max',\n",
    "       'd1_sodium_min', 'd1_wbc_max', 'd1_wbc_min'],\n",
    "    \"labs_h1\" : ['h1_albumin_max', 'h1_albumin_min', 'h1_bilirubin_max',\n",
    "       'h1_bilirubin_min', 'h1_bun_max', 'h1_bun_min', 'h1_calcium_max',\n",
    "       'h1_calcium_min', 'h1_creatinine_max', 'h1_creatinine_min',\n",
    "       'h1_glucose_max', 'h1_glucose_min', 'h1_hco3_max', 'h1_hco3_min',\n",
    "       'h1_hemaglobin_max', 'h1_hemaglobin_min', 'h1_hematocrit_max',\n",
    "       'h1_hematocrit_min', 'h1_inr_max', 'h1_inr_min', 'h1_lactate_max',\n",
    "       'h1_lactate_min', 'h1_platelets_max', 'h1_platelets_min',\n",
    "       'h1_potassium_max', 'h1_potassium_min', 'h1_sodium_max',\n",
    "       'h1_sodium_min', 'h1_wbc_max', 'h1_wbc_min'], \n",
    "    \"labs_blood_gas\" : ['d1_arterial_pco2_max',\n",
    "       'd1_arterial_pco2_min', 'd1_arterial_ph_max', 'd1_arterial_ph_min',\n",
    "       'd1_arterial_po2_max', 'd1_arterial_po2_min', 'd1_pao2fio2ratio_max',\n",
    "       'd1_pao2fio2ratio_min', 'h1_arterial_pco2_max', 'h1_arterial_pco2_min',\n",
    "       'h1_arterial_ph_max', 'h1_arterial_ph_min', 'h1_arterial_po2_max',\n",
    "       'h1_arterial_po2_min', 'h1_pao2fio2ratio_max', 'h1_pao2fio2ratio_min']\n",
    "}\n",
    "\n",
    "CAT_COLORS = {  'demographic1':  '#812878',                             \n",
    "                'demographic2':  '#B0B3D6',\n",
    "                'apache_covariate': '#2C2255',\n",
    "                'apache_comorbidity': '#4B8BBE',\n",
    "                'vitals_d1':  '#CC2336', \n",
    "                'vitals_h1': '#FFE873',\n",
    "                'labs_d1': '#E4682A', \n",
    "                'labs_h1': '#FFD43B', \n",
    "                'labs_blood_gas': '#F69824'\n",
    "                }"
   ]
  },
  {
   "cell_type": "markdown",
   "metadata": {},
   "source": [
    "### COMMON FUNCTIONS"
   ],
   "execution_count": null,
   "outputs": []
  },
  {
   "cell_type": "code",
   "execution_count": 3,
   "metadata": {},
   "outputs": [],
   "source": [
    "def getColor(col):\n",
    "    for cat in CAT_COLUMNS.keys():\n",
    "        if col in CAT_COLUMNS[cat]: \n",
    "            return CAT_COLORS.get(cat, '#333333')\n",
    "\n",
    "def missingData(df):\n",
    "    print(df.shape)\n",
    "    missing_cnt = df.isna().sum() #column wise sum of missing values\n",
    "\n",
    "    #display only the columns with missing values with count and proportion of missing values by column \n",
    "    missing_df = pd.concat([missing_cnt.rename('Missing Count'), \n",
    "                            missing_cnt.div(len(df)/100).rename('Missing Ratio')], axis=1).loc[missing_cnt.ne(0)]\n",
    "    missing_df = missing_df.reset_index().rename(columns={'index': 'Feature'})\n",
    "    missing_df['Filled Ratio'] = missing_df['Missing Ratio'].apply(lambda x: 100-x)\n",
    "    print(missing_df)\n",
    "    COLORS=[getColor(col) for col in missing_df['Feature'].values]\n",
    "    print(missing_df.columns)\n",
    "    #print(COLORS)\n",
    "    missing_df.plot.bar(x='Feature', y='Filled Ratio', title=\"Filled data\", figsize=(18,6), fontsize=7, color=COLORS)\n",
    "    return missing_df"
   ]
  },
  {
   "cell_type": "code",
   "execution_count": 70,
   "metadata": {},
   "outputs": [],
   "source": [
    "def printDFDetails(df):\n",
    "    print(f\"Shape: {df.shape}; Null values: {pd.DataFrame(df).isna().sum().sum()}\\nColumns: {df.columns} \\nColumns of object type: {df.select_dtypes('object').columns}\")"
   ]
  },
  {
   "cell_type": "code",
   "execution_count": 4,
   "metadata": {},
   "outputs": [],
   "source": [
    "class LabelEncoderExt(object):\n",
    "    def __init__(self):\n",
    "        \"\"\"\n",
    "        It differs from LabelEncoder by handling new classes and providing a value for it [Unknown]\n",
    "        Unknown will be added in fit and transform will take care of new item. It gives unknown class id\n",
    "        \"\"\"\n",
    "        self.label_encoder = LabelEncoder()\n",
    "        # self.classes_ = self.label_encoder.classes_\n",
    "\n",
    "    def fit(self, data_list):\n",
    "        \"\"\"\n",
    "        This will fit the encoder for all the unique values and introduce unknown value\n",
    "        :param data_list: A list of string\n",
    "        :return: self\n",
    "        \"\"\"\n",
    "        self.label_encoder = self.label_encoder.fit(list(data_list) + ['Unknown'])\n",
    "        self.classes_ = self.label_encoder.classes_\n",
    "\n",
    "        return self\n",
    "\n",
    "    def transform(self, data_list):\n",
    "        \"\"\"\n",
    "        This will transform the data_list to id list where the new values get assigned to Unknown class\n",
    "        :param data_list:\n",
    "        :return:\n",
    "        \"\"\"\n",
    "        new_data_list = list(data_list)\n",
    "        for unique_item in np.unique(data_list):\n",
    "            if unique_item not in self.label_encoder.classes_:\n",
    "                new_data_list = ['Unknown' if x==unique_item else x for x in new_data_list]\n",
    "\n",
    "        return self.label_encoder.transform(new_data_list)\n",
    "\n",
    "    def inverse_transform(self, data_list):\n",
    "        return self.label_encoder.inverse_transform(data_list)\n",
    "\n",
    "def labelEncode(df, col):\n",
    "    df[col] = df[col].fillna(np.nan) \n",
    "    df_original = df[col]\n",
    "    df_mask = df[col].isnull()\n",
    "\n",
    "    #df[col] = df[[col]].apply(LabelEncoder().fit_transform)\n",
    "    le = LabelEncoder()\n",
    "    le.fit(df[col])\n",
    "    df[col] = le.transform(df[col])\n",
    "\n",
    "    df[col] = df[col].where(~df_mask, df_original)\n",
    "    #print(df[col])\n",
    "    return df, le"
   ]
  },
  {
   "cell_type": "code",
   "execution_count": 5,
   "metadata": {},
   "outputs": [],
   "source": [
    "encoders = {}\n",
    "\n",
    "# impute string values using SimpleImputer with 'most_frequent' strategy\n",
    "def imputeSimple(df_train, df_unlabeled, cols):\n",
    "    simple_imp = SimpleImputer(strategy='most_frequent')\n",
    "\n",
    "    print(\"Column unique values: \", end=\" \")\n",
    "    [print(col, df_train[col].unique(), end=\" \") for col in cols]; print()\n",
    "    for col in cols:\n",
    "        le1 = LabelEncoder()\n",
    "        le = LabelEncoderExt()\n",
    "        \n",
    "        le.fit(df_train[col])\n",
    "        print('le.classes_:', le.classes_)\n",
    "        encoders[col] = le\n",
    "\n",
    "        # fill missing values with np.nan\n",
    "        df_train[col] = df_train[col].fillna(np.nan) \n",
    "        df_unlabeled[col] = df_unlabeled[col].fillna(np.nan) \n",
    "       \n",
    "        simple_imp.fit(df_train[col].values.reshape(-1,1))\n",
    "\n",
    "        df_train[col] = simple_imp.transform(df_train[col].values.reshape(-1,1))\n",
    "        df_train[col] = df_train[col].astype('str') # convert data to string type\n",
    "        df_train[col] = le.transform(df_train[col])\n",
    "\n",
    "        df_unlabeled[col] = simple_imp.transform(df_unlabeled[col].values.reshape(-1,1))\n",
    "        df_unlabeled[col] = df_unlabeled[col].astype('str')\n",
    "        df_unlabeled[col] = le.transform(df_unlabeled[col])\n",
    "    [print(df_train[col].unique(), end=\" \") for col in cols]; print()\n",
    "    return df_train, df_unlabeled\n",
    "\n",
    "# Impute numerical values\n",
    "def imputeIterative(df_train, df_unlabeled, unlabeled=False):\n",
    "    tic = datetime.now()\n",
    "    iter_imp = IterativeImputer(random_state=0) # instantiate IterativeImputer\n",
    "\n",
    "    iter_imp.fit(df_train) # fit and transform the data\n",
    "    \n",
    "    df_train_new = iter_imp.fit_transform(df_train) # fit and transform the data\n",
    "    df_train_new = pd.DataFrame(df_train_new, columns=df_train.columns)\n",
    "\n",
    "    df_unlabeled_new = pd.DataFrame()\n",
    "    if unlabeled == True:\n",
    "        df_unlabeled_new = iter_imp.fit_transform(df_unlabeled) # fit and transform the data\n",
    "        df_unlabeled_new = pd.DataFrame(df_unlabeled_new, columns=df_unlabeled.columns)\n",
    "\n",
    "    toc = datetime.now()\n",
    "    print(f\"IterativeImputer took {toc-tic}sec\")\n",
    "    return df_train_new, df_unlabeled_new\n",
    "\n",
    "xgb = XGBClassifier(n_estimators=400, colsample_bytree=0.7, reg_lambda=120, subsample=0.75) #parameters \n",
    "\n",
    "'''\n",
    "Computes roc auc score as the score will computed for several datasets. \n",
    "- It will split the training set into a sub training set (80%) and test set(20%). \n",
    "- A simple XGBClassifier will be trained on the sub training set, evaluated on test set.\n",
    "- Finally the function prints roc auc score on full training set and the original test set.\n",
    "'''\n",
    "def compute_roc_auc(train_test_split, train_set, target):\n",
    "    tic = datetime.now()\n",
    "    X_train, X_test, y_train, y_test = train_test_split(train_set, target, test_size=0.2, random_state=42)\n",
    "    xgb.fit(X_train, y_train)\n",
    "    y_test_pred = xgb.predict(X_test)\n",
    "    y_train_pred = xgb.predict(X_train)\n",
    "    print('train auc',roc_auc_score(y_train, y_train_pred))\n",
    "    print('test auc',roc_auc_score(y_test, y_test_pred)) \n",
    "    toc = datetime.now()\n",
    "    print(\"Time taken:\", toc-tic)  \n",
    "\n",
    "def add_features(lower_limit, upper_limit, df, missing_df, df_to_merge):\n",
    "    df_ = df[missing_df[(missing_df['Missing Ratio']>=lower_limit) & (missing_df['Missing Ratio']<upper_limit)].index]\n",
    "    df_new = pd.concat([pd.DataFrame(df_to_merge), df_], axis=1) # concatenate new table with existing table\n",
    "    df_new = df_new.select_dtypes(include=['int', 'float']) # exclude columns with string datatype, if any\n",
    "    df_new_ = imputeIterative(df_new,pd.DataFrame()) #iter_imp.fit_transform(df_new)\n",
    "    df_new_ = pd.DataFrame(df_new_, columns=df_new.columns) # return table with column names intact\n",
    "    return df_new_"
   ]
  },
  {
   "cell_type": "markdown",
   "metadata": {
    "papermill": {
     "duration": 0.03945,
     "end_time": "2021-01-16T14:42:57.809340",
     "exception": false,
     "start_time": "2021-01-16T14:42:57.769890",
     "status": "completed"
    },
    "tags": []
   },
   "source": [
    "# Load data"
   ],
   "execution_count": null,
   "outputs": []
  },
  {
   "cell_type": "code",
   "execution_count": 6,
   "metadata": {
    "execution": {
     "iopub.execute_input": "2021-01-16T14:42:57.908244Z",
     "iopub.status.busy": "2021-01-16T14:42:57.907572Z",
     "iopub.status.idle": "2021-01-16T14:43:02.353387Z",
     "shell.execute_reply": "2021-01-16T14:43:02.352798Z"
    },
    "papermill": {
     "duration": 4.504525,
     "end_time": "2021-01-16T14:43:02.353524",
     "exception": false,
     "start_time": "2021-01-16T14:42:57.848999",
     "status": "completed"
    },
    "tags": []
   },
   "outputs": [],
   "source": [
    "df = pd.read_csv(\"data/TrainingWiDS2021.csv\")\n",
    "test = pd.read_csv(\"data/UnlabeledWiDS2021.csv\")"
   ]
  },
  {
   "cell_type": "markdown",
   "metadata": {
    "papermill": {
     "duration": 0.040635,
     "end_time": "2021-01-16T14:43:02.434857",
     "exception": false,
     "start_time": "2021-01-16T14:43:02.394222",
     "status": "completed"
    },
    "tags": []
   },
   "source": [
    "# Exploratory Data Analysis"
   ],
   "execution_count": null,
   "outputs": []
  },
  {
   "cell_type": "code",
   "execution_count": 7,
   "metadata": {
    "execution": {
     "iopub.execute_input": "2021-01-16T14:43:02.529609Z",
     "iopub.status.busy": "2021-01-16T14:43:02.528571Z",
     "iopub.status.idle": "2021-01-16T14:43:02.562246Z",
     "shell.execute_reply": "2021-01-16T14:43:02.561668Z"
    },
    "papermill": {
     "duration": 0.086684,
     "end_time": "2021-01-16T14:43:02.562378",
     "exception": false,
     "start_time": "2021-01-16T14:43:02.475694",
     "status": "completed"
    },
    "tags": []
   },
   "outputs": [
    {
     "output_type": "execute_result",
     "data": {
      "text/plain": "   Unnamed: 0  encounter_id  hospital_id   age        bmi  elective_surgery  \\\n0           1        214826          118  68.0  22.732803                 0   \n1           2        246060           81  77.0  27.421875                 0   \n2           3        276985          118  25.0  31.952749                 0   \n3           4        262220          118  81.0  22.635548                 1   \n4           5        201746           33  19.0        NaN                 0   \n\n   ethnicity gender  height hospital_admit_source  ... h1_pao2fio2ratio_max  \\\n0  Caucasian      M   180.3                 Floor  ...                  NaN   \n1  Caucasian      F   160.0                 Floor  ...                 51.0   \n2  Caucasian      F   172.7  Emergency Department  ...                  NaN   \n3  Caucasian      F   165.1        Operating Room  ...                337.0   \n4  Caucasian      M   188.0                   NaN  ...                  NaN   \n\n   h1_pao2fio2ratio_min aids cirrhosis  hepatic_failure  immunosuppression  \\\n0                   NaN    0         0                0                  0   \n1                  51.0    0         0                0                  0   \n2                   NaN    0         0                0                  0   \n3                 337.0    0         0                0                  0   \n4                   NaN    0         0                0                  0   \n\n   leukemia  lymphoma  solid_tumor_with_metastasis  diabetes_mellitus  \n0         0         0                            0                  1  \n1         0         0                            0                  1  \n2         0         0                            0                  0  \n3         0         0                            0                  0  \n4         0         0                            0                  0  \n\n[5 rows x 181 columns]",
      "text/html": "<div>\n<style scoped>\n    .dataframe tbody tr th:only-of-type {\n        vertical-align: middle;\n    }\n\n    .dataframe tbody tr th {\n        vertical-align: top;\n    }\n\n    .dataframe thead th {\n        text-align: right;\n    }\n</style>\n<table border=\"1\" class=\"dataframe\">\n  <thead>\n    <tr style=\"text-align: right;\">\n      <th></th>\n      <th>Unnamed: 0</th>\n      <th>encounter_id</th>\n      <th>hospital_id</th>\n      <th>age</th>\n      <th>bmi</th>\n      <th>elective_surgery</th>\n      <th>ethnicity</th>\n      <th>gender</th>\n      <th>height</th>\n      <th>hospital_admit_source</th>\n      <th>...</th>\n      <th>h1_pao2fio2ratio_max</th>\n      <th>h1_pao2fio2ratio_min</th>\n      <th>aids</th>\n      <th>cirrhosis</th>\n      <th>hepatic_failure</th>\n      <th>immunosuppression</th>\n      <th>leukemia</th>\n      <th>lymphoma</th>\n      <th>solid_tumor_with_metastasis</th>\n      <th>diabetes_mellitus</th>\n    </tr>\n  </thead>\n  <tbody>\n    <tr>\n      <th>0</th>\n      <td>1</td>\n      <td>214826</td>\n      <td>118</td>\n      <td>68.0</td>\n      <td>22.732803</td>\n      <td>0</td>\n      <td>Caucasian</td>\n      <td>M</td>\n      <td>180.3</td>\n      <td>Floor</td>\n      <td>...</td>\n      <td>NaN</td>\n      <td>NaN</td>\n      <td>0</td>\n      <td>0</td>\n      <td>0</td>\n      <td>0</td>\n      <td>0</td>\n      <td>0</td>\n      <td>0</td>\n      <td>1</td>\n    </tr>\n    <tr>\n      <th>1</th>\n      <td>2</td>\n      <td>246060</td>\n      <td>81</td>\n      <td>77.0</td>\n      <td>27.421875</td>\n      <td>0</td>\n      <td>Caucasian</td>\n      <td>F</td>\n      <td>160.0</td>\n      <td>Floor</td>\n      <td>...</td>\n      <td>51.0</td>\n      <td>51.0</td>\n      <td>0</td>\n      <td>0</td>\n      <td>0</td>\n      <td>0</td>\n      <td>0</td>\n      <td>0</td>\n      <td>0</td>\n      <td>1</td>\n    </tr>\n    <tr>\n      <th>2</th>\n      <td>3</td>\n      <td>276985</td>\n      <td>118</td>\n      <td>25.0</td>\n      <td>31.952749</td>\n      <td>0</td>\n      <td>Caucasian</td>\n      <td>F</td>\n      <td>172.7</td>\n      <td>Emergency Department</td>\n      <td>...</td>\n      <td>NaN</td>\n      <td>NaN</td>\n      <td>0</td>\n      <td>0</td>\n      <td>0</td>\n      <td>0</td>\n      <td>0</td>\n      <td>0</td>\n      <td>0</td>\n      <td>0</td>\n    </tr>\n    <tr>\n      <th>3</th>\n      <td>4</td>\n      <td>262220</td>\n      <td>118</td>\n      <td>81.0</td>\n      <td>22.635548</td>\n      <td>1</td>\n      <td>Caucasian</td>\n      <td>F</td>\n      <td>165.1</td>\n      <td>Operating Room</td>\n      <td>...</td>\n      <td>337.0</td>\n      <td>337.0</td>\n      <td>0</td>\n      <td>0</td>\n      <td>0</td>\n      <td>0</td>\n      <td>0</td>\n      <td>0</td>\n      <td>0</td>\n      <td>0</td>\n    </tr>\n    <tr>\n      <th>4</th>\n      <td>5</td>\n      <td>201746</td>\n      <td>33</td>\n      <td>19.0</td>\n      <td>NaN</td>\n      <td>0</td>\n      <td>Caucasian</td>\n      <td>M</td>\n      <td>188.0</td>\n      <td>NaN</td>\n      <td>...</td>\n      <td>NaN</td>\n      <td>NaN</td>\n      <td>0</td>\n      <td>0</td>\n      <td>0</td>\n      <td>0</td>\n      <td>0</td>\n      <td>0</td>\n      <td>0</td>\n      <td>0</td>\n    </tr>\n  </tbody>\n</table>\n<p>5 rows × 181 columns</p>\n</div>"
     },
     "metadata": {},
     "execution_count": 7
    }
   ],
   "source": [
    "df.head()"
   ]
  },
  {
   "cell_type": "code",
   "execution_count": 8,
   "metadata": {
    "execution": {
     "iopub.execute_input": "2021-01-16T14:43:02.672901Z",
     "iopub.status.busy": "2021-01-16T14:43:02.656738Z",
     "iopub.status.idle": "2021-01-16T14:43:02.677132Z",
     "shell.execute_reply": "2021-01-16T14:43:02.677768Z"
    },
    "papermill": {
     "duration": 0.074158,
     "end_time": "2021-01-16T14:43:02.677918",
     "exception": false,
     "start_time": "2021-01-16T14:43:02.603760",
     "status": "completed"
    },
    "tags": []
   },
   "outputs": [
    {
     "output_type": "execute_result",
     "data": {
      "text/plain": "   Unnamed: 0  encounter_id  hospital_id  age  bmi  elective_surgery  \\\n0           1        144740        10141   72  NaN                 0   \n1           2        141990        10141   86  NaN                 0   \n2           3        142038        10141   72  NaN                 0   \n3           4        138628        10141   66  NaN                 0   \n4           5        141682        10141   89  NaN                 0   \n\n   ethnicity gender  height hospital_admit_source  ... h1_arterial_po2_min  \\\n0  Caucasian      F   152.4                 Floor  ...                 NaN   \n1  Caucasian      F   175.3  Emergency Department  ...                 NaN   \n2  Caucasian      F   162.6                 Floor  ...                 NaN   \n3  Caucasian      M   177.8                 Floor  ...                 NaN   \n4  Caucasian      M   170.2          Direct Admit  ...                 NaN   \n\n   h1_pao2fio2ratio_max h1_pao2fio2ratio_min aids  cirrhosis  hepatic_failure  \\\n0                   NaN                  NaN    0          0                0   \n1                   NaN                  NaN    0          0                0   \n2                   NaN                  NaN    0          0                0   \n3                   NaN                  NaN    0          0                0   \n4                   NaN                  NaN    0          0                0   \n\n   immunosuppression  leukemia  lymphoma  solid_tumor_with_metastasis  \n0                  0         0         0                            0  \n1                  0         0         0                            0  \n2                  0         0         0                            0  \n3                  0         0         0                            0  \n4                  0         0         0                            0  \n\n[5 rows x 180 columns]",
      "text/html": "<div>\n<style scoped>\n    .dataframe tbody tr th:only-of-type {\n        vertical-align: middle;\n    }\n\n    .dataframe tbody tr th {\n        vertical-align: top;\n    }\n\n    .dataframe thead th {\n        text-align: right;\n    }\n</style>\n<table border=\"1\" class=\"dataframe\">\n  <thead>\n    <tr style=\"text-align: right;\">\n      <th></th>\n      <th>Unnamed: 0</th>\n      <th>encounter_id</th>\n      <th>hospital_id</th>\n      <th>age</th>\n      <th>bmi</th>\n      <th>elective_surgery</th>\n      <th>ethnicity</th>\n      <th>gender</th>\n      <th>height</th>\n      <th>hospital_admit_source</th>\n      <th>...</th>\n      <th>h1_arterial_po2_min</th>\n      <th>h1_pao2fio2ratio_max</th>\n      <th>h1_pao2fio2ratio_min</th>\n      <th>aids</th>\n      <th>cirrhosis</th>\n      <th>hepatic_failure</th>\n      <th>immunosuppression</th>\n      <th>leukemia</th>\n      <th>lymphoma</th>\n      <th>solid_tumor_with_metastasis</th>\n    </tr>\n  </thead>\n  <tbody>\n    <tr>\n      <th>0</th>\n      <td>1</td>\n      <td>144740</td>\n      <td>10141</td>\n      <td>72</td>\n      <td>NaN</td>\n      <td>0</td>\n      <td>Caucasian</td>\n      <td>F</td>\n      <td>152.4</td>\n      <td>Floor</td>\n      <td>...</td>\n      <td>NaN</td>\n      <td>NaN</td>\n      <td>NaN</td>\n      <td>0</td>\n      <td>0</td>\n      <td>0</td>\n      <td>0</td>\n      <td>0</td>\n      <td>0</td>\n      <td>0</td>\n    </tr>\n    <tr>\n      <th>1</th>\n      <td>2</td>\n      <td>141990</td>\n      <td>10141</td>\n      <td>86</td>\n      <td>NaN</td>\n      <td>0</td>\n      <td>Caucasian</td>\n      <td>F</td>\n      <td>175.3</td>\n      <td>Emergency Department</td>\n      <td>...</td>\n      <td>NaN</td>\n      <td>NaN</td>\n      <td>NaN</td>\n      <td>0</td>\n      <td>0</td>\n      <td>0</td>\n      <td>0</td>\n      <td>0</td>\n      <td>0</td>\n      <td>0</td>\n    </tr>\n    <tr>\n      <th>2</th>\n      <td>3</td>\n      <td>142038</td>\n      <td>10141</td>\n      <td>72</td>\n      <td>NaN</td>\n      <td>0</td>\n      <td>Caucasian</td>\n      <td>F</td>\n      <td>162.6</td>\n      <td>Floor</td>\n      <td>...</td>\n      <td>NaN</td>\n      <td>NaN</td>\n      <td>NaN</td>\n      <td>0</td>\n      <td>0</td>\n      <td>0</td>\n      <td>0</td>\n      <td>0</td>\n      <td>0</td>\n      <td>0</td>\n    </tr>\n    <tr>\n      <th>3</th>\n      <td>4</td>\n      <td>138628</td>\n      <td>10141</td>\n      <td>66</td>\n      <td>NaN</td>\n      <td>0</td>\n      <td>Caucasian</td>\n      <td>M</td>\n      <td>177.8</td>\n      <td>Floor</td>\n      <td>...</td>\n      <td>NaN</td>\n      <td>NaN</td>\n      <td>NaN</td>\n      <td>0</td>\n      <td>0</td>\n      <td>0</td>\n      <td>0</td>\n      <td>0</td>\n      <td>0</td>\n      <td>0</td>\n    </tr>\n    <tr>\n      <th>4</th>\n      <td>5</td>\n      <td>141682</td>\n      <td>10141</td>\n      <td>89</td>\n      <td>NaN</td>\n      <td>0</td>\n      <td>Caucasian</td>\n      <td>M</td>\n      <td>170.2</td>\n      <td>Direct Admit</td>\n      <td>...</td>\n      <td>NaN</td>\n      <td>NaN</td>\n      <td>NaN</td>\n      <td>0</td>\n      <td>0</td>\n      <td>0</td>\n      <td>0</td>\n      <td>0</td>\n      <td>0</td>\n      <td>0</td>\n    </tr>\n  </tbody>\n</table>\n<p>5 rows × 180 columns</p>\n</div>"
     },
     "metadata": {},
     "execution_count": 8
    }
   ],
   "source": [
    "test.head()"
   ]
  },
  {
   "cell_type": "code",
   "execution_count": 9,
   "metadata": {
    "execution": {
     "iopub.execute_input": "2021-01-16T14:43:02.768370Z",
     "iopub.status.busy": "2021-01-16T14:43:02.767679Z",
     "iopub.status.idle": "2021-01-16T14:43:02.774510Z",
     "shell.execute_reply": "2021-01-16T14:43:02.773764Z"
    },
    "papermill": {
     "duration": 0.053665,
     "end_time": "2021-01-16T14:43:02.774638",
     "exception": false,
     "start_time": "2021-01-16T14:43:02.720973",
     "status": "completed"
    },
    "tags": []
   },
   "outputs": [
    {
     "output_type": "stream",
     "name": "stdout",
     "text": "(130157, 181)\n(10234, 180)\n"
    }
   ],
   "source": [
    "print(df.shape)\n",
    "print(test.shape)"
   ]
  },
  {
   "cell_type": "code",
   "execution_count": 10,
   "metadata": {
    "execution": {
     "iopub.execute_input": "2021-01-16T14:43:03.050008Z",
     "iopub.status.busy": "2021-01-16T14:43:02.985453Z",
     "iopub.status.idle": "2021-01-16T14:43:04.201998Z",
     "shell.execute_reply": "2021-01-16T14:43:04.202563Z"
    },
    "papermill": {
     "duration": 1.275753,
     "end_time": "2021-01-16T14:43:04.202705",
     "exception": false,
     "start_time": "2021-01-16T14:43:02.926952",
     "status": "completed"
    },
    "tags": []
   },
   "outputs": [
    {
     "output_type": "execute_result",
     "data": {
      "text/plain": "          Unnamed: 0   encounter_id    hospital_id            age  \\\ncount  130157.000000  130157.000000  130157.000000  125169.000000   \nmean    65079.000000  213000.856519     106.102131      61.995103   \nstd     37573.233831   38109.828146      63.482277      16.822880   \nmin         1.000000  147000.000000       1.000000       0.000000   \n25%     32540.000000  180001.000000      49.000000      52.000000   \n50%     65079.000000  213014.000000     112.000000      64.000000   \n75%     97618.000000  246002.000000     165.000000      75.000000   \nmax    130157.000000  279000.000000     204.000000      89.000000   \n\n                 bmi  elective_surgery         height         icu_id  \\\ncount  125667.000000     130157.000000  128080.000000  130157.000000   \nmean       29.110260          0.189840     169.607219     662.428344   \nstd         8.262776          0.392176      10.833085     304.259843   \nmin        14.844926          0.000000     137.200000      82.000000   \n25%        23.598006          0.000000     162.500000     427.000000   \n50%        27.564749          0.000000     170.100000     653.000000   \n75%        32.803127          0.000000     177.800000     969.000000   \nmax        67.814990          1.000000     195.590000    1111.000000   \n\n       pre_icu_los_days  readmission_status  ...  h1_pao2fio2ratio_max  \\\ncount     130157.000000            130157.0  ...          16760.000000   \nmean           0.839933                 0.0  ...            247.525419   \nstd            2.485337                 0.0  ...            131.440167   \nmin           -0.250000                 0.0  ...             42.000000   \n25%            0.045833                 0.0  ...            144.000000   \n50%            0.155556                 0.0  ...            228.125000   \n75%            0.423611                 0.0  ...            333.000000   \nmax          175.627778                 0.0  ...            720.000000   \n\n       h1_pao2fio2ratio_min          aids      cirrhosis  hepatic_failure  \\\ncount          16760.000000  130157.00000  130157.000000    130157.000000   \nmean             239.617358       0.00103       0.016081         0.013599   \nstd              128.562211       0.03207       0.125786         0.115819   \nmin               38.000000       0.00000       0.000000         0.000000   \n25%              138.000000       0.00000       0.000000         0.000000   \n50%              218.750000       0.00000       0.000000         0.000000   \n75%              324.000000       0.00000       0.000000         0.000000   \nmax              654.813793       1.00000       1.000000         1.000000   \n\n       immunosuppression       leukemia       lymphoma  \\\ncount      130157.000000  130157.000000  130157.000000   \nmean            0.025669       0.007307       0.004187   \nstd             0.158146       0.085166       0.064574   \nmin             0.000000       0.000000       0.000000   \n25%             0.000000       0.000000       0.000000   \n50%             0.000000       0.000000       0.000000   \n75%             0.000000       0.000000       0.000000   \nmax             1.000000       1.000000       1.000000   \n\n       solid_tumor_with_metastasis  diabetes_mellitus  \ncount                130157.000000      130157.000000  \nmean                      0.020852           0.216285  \nstd                       0.142888           0.411712  \nmin                       0.000000           0.000000  \n25%                       0.000000           0.000000  \n50%                       0.000000           0.000000  \n75%                       0.000000           0.000000  \nmax                       1.000000           1.000000  \n\n[8 rows x 175 columns]",
      "text/html": "<div>\n<style scoped>\n    .dataframe tbody tr th:only-of-type {\n        vertical-align: middle;\n    }\n\n    .dataframe tbody tr th {\n        vertical-align: top;\n    }\n\n    .dataframe thead th {\n        text-align: right;\n    }\n</style>\n<table border=\"1\" class=\"dataframe\">\n  <thead>\n    <tr style=\"text-align: right;\">\n      <th></th>\n      <th>Unnamed: 0</th>\n      <th>encounter_id</th>\n      <th>hospital_id</th>\n      <th>age</th>\n      <th>bmi</th>\n      <th>elective_surgery</th>\n      <th>height</th>\n      <th>icu_id</th>\n      <th>pre_icu_los_days</th>\n      <th>readmission_status</th>\n      <th>...</th>\n      <th>h1_pao2fio2ratio_max</th>\n      <th>h1_pao2fio2ratio_min</th>\n      <th>aids</th>\n      <th>cirrhosis</th>\n      <th>hepatic_failure</th>\n      <th>immunosuppression</th>\n      <th>leukemia</th>\n      <th>lymphoma</th>\n      <th>solid_tumor_with_metastasis</th>\n      <th>diabetes_mellitus</th>\n    </tr>\n  </thead>\n  <tbody>\n    <tr>\n      <th>count</th>\n      <td>130157.000000</td>\n      <td>130157.000000</td>\n      <td>130157.000000</td>\n      <td>125169.000000</td>\n      <td>125667.000000</td>\n      <td>130157.000000</td>\n      <td>128080.000000</td>\n      <td>130157.000000</td>\n      <td>130157.000000</td>\n      <td>130157.0</td>\n      <td>...</td>\n      <td>16760.000000</td>\n      <td>16760.000000</td>\n      <td>130157.00000</td>\n      <td>130157.000000</td>\n      <td>130157.000000</td>\n      <td>130157.000000</td>\n      <td>130157.000000</td>\n      <td>130157.000000</td>\n      <td>130157.000000</td>\n      <td>130157.000000</td>\n    </tr>\n    <tr>\n      <th>mean</th>\n      <td>65079.000000</td>\n      <td>213000.856519</td>\n      <td>106.102131</td>\n      <td>61.995103</td>\n      <td>29.110260</td>\n      <td>0.189840</td>\n      <td>169.607219</td>\n      <td>662.428344</td>\n      <td>0.839933</td>\n      <td>0.0</td>\n      <td>...</td>\n      <td>247.525419</td>\n      <td>239.617358</td>\n      <td>0.00103</td>\n      <td>0.016081</td>\n      <td>0.013599</td>\n      <td>0.025669</td>\n      <td>0.007307</td>\n      <td>0.004187</td>\n      <td>0.020852</td>\n      <td>0.216285</td>\n    </tr>\n    <tr>\n      <th>std</th>\n      <td>37573.233831</td>\n      <td>38109.828146</td>\n      <td>63.482277</td>\n      <td>16.822880</td>\n      <td>8.262776</td>\n      <td>0.392176</td>\n      <td>10.833085</td>\n      <td>304.259843</td>\n      <td>2.485337</td>\n      <td>0.0</td>\n      <td>...</td>\n      <td>131.440167</td>\n      <td>128.562211</td>\n      <td>0.03207</td>\n      <td>0.125786</td>\n      <td>0.115819</td>\n      <td>0.158146</td>\n      <td>0.085166</td>\n      <td>0.064574</td>\n      <td>0.142888</td>\n      <td>0.411712</td>\n    </tr>\n    <tr>\n      <th>min</th>\n      <td>1.000000</td>\n      <td>147000.000000</td>\n      <td>1.000000</td>\n      <td>0.000000</td>\n      <td>14.844926</td>\n      <td>0.000000</td>\n      <td>137.200000</td>\n      <td>82.000000</td>\n      <td>-0.250000</td>\n      <td>0.0</td>\n      <td>...</td>\n      <td>42.000000</td>\n      <td>38.000000</td>\n      <td>0.00000</td>\n      <td>0.000000</td>\n      <td>0.000000</td>\n      <td>0.000000</td>\n      <td>0.000000</td>\n      <td>0.000000</td>\n      <td>0.000000</td>\n      <td>0.000000</td>\n    </tr>\n    <tr>\n      <th>25%</th>\n      <td>32540.000000</td>\n      <td>180001.000000</td>\n      <td>49.000000</td>\n      <td>52.000000</td>\n      <td>23.598006</td>\n      <td>0.000000</td>\n      <td>162.500000</td>\n      <td>427.000000</td>\n      <td>0.045833</td>\n      <td>0.0</td>\n      <td>...</td>\n      <td>144.000000</td>\n      <td>138.000000</td>\n      <td>0.00000</td>\n      <td>0.000000</td>\n      <td>0.000000</td>\n      <td>0.000000</td>\n      <td>0.000000</td>\n      <td>0.000000</td>\n      <td>0.000000</td>\n      <td>0.000000</td>\n    </tr>\n    <tr>\n      <th>50%</th>\n      <td>65079.000000</td>\n      <td>213014.000000</td>\n      <td>112.000000</td>\n      <td>64.000000</td>\n      <td>27.564749</td>\n      <td>0.000000</td>\n      <td>170.100000</td>\n      <td>653.000000</td>\n      <td>0.155556</td>\n      <td>0.0</td>\n      <td>...</td>\n      <td>228.125000</td>\n      <td>218.750000</td>\n      <td>0.00000</td>\n      <td>0.000000</td>\n      <td>0.000000</td>\n      <td>0.000000</td>\n      <td>0.000000</td>\n      <td>0.000000</td>\n      <td>0.000000</td>\n      <td>0.000000</td>\n    </tr>\n    <tr>\n      <th>75%</th>\n      <td>97618.000000</td>\n      <td>246002.000000</td>\n      <td>165.000000</td>\n      <td>75.000000</td>\n      <td>32.803127</td>\n      <td>0.000000</td>\n      <td>177.800000</td>\n      <td>969.000000</td>\n      <td>0.423611</td>\n      <td>0.0</td>\n      <td>...</td>\n      <td>333.000000</td>\n      <td>324.000000</td>\n      <td>0.00000</td>\n      <td>0.000000</td>\n      <td>0.000000</td>\n      <td>0.000000</td>\n      <td>0.000000</td>\n      <td>0.000000</td>\n      <td>0.000000</td>\n      <td>0.000000</td>\n    </tr>\n    <tr>\n      <th>max</th>\n      <td>130157.000000</td>\n      <td>279000.000000</td>\n      <td>204.000000</td>\n      <td>89.000000</td>\n      <td>67.814990</td>\n      <td>1.000000</td>\n      <td>195.590000</td>\n      <td>1111.000000</td>\n      <td>175.627778</td>\n      <td>0.0</td>\n      <td>...</td>\n      <td>720.000000</td>\n      <td>654.813793</td>\n      <td>1.00000</td>\n      <td>1.000000</td>\n      <td>1.000000</td>\n      <td>1.000000</td>\n      <td>1.000000</td>\n      <td>1.000000</td>\n      <td>1.000000</td>\n      <td>1.000000</td>\n    </tr>\n  </tbody>\n</table>\n<p>8 rows × 175 columns</p>\n</div>"
     },
     "metadata": {},
     "execution_count": 10
    }
   ],
   "source": [
    "df.describe() # summary statistics for numeric features"
   ]
  },
  {
   "cell_type": "markdown",
   "metadata": {},
   "source": [
    "#### Drop columns with all unique values or same value"
   ],
   "execution_count": null,
   "outputs": []
  },
  {
   "cell_type": "code",
   "execution_count": 11,
   "metadata": {
    "execution": {
     "iopub.execute_input": "2021-01-16T14:46:04.286244Z",
     "iopub.status.busy": "2021-01-16T14:46:04.285479Z",
     "iopub.status.idle": "2021-01-16T14:46:04.478397Z",
     "shell.execute_reply": "2021-01-16T14:46:04.477830Z"
    },
    "papermill": {
     "duration": 0.599435,
     "end_time": "2021-01-16T14:46:04.478528",
     "exception": false,
     "start_time": "2021-01-16T14:46:03.879093",
     "status": "completed"
    },
    "tags": []
   },
   "outputs": [],
   "source": [
    "df.drop(['Unnamed: 0', 'encounter_id', 'hospital_id', 'icu_id', 'readmission_status'], axis=1, inplace=True) #drop columns with all unique values\n",
    "test_ids = test.pop('encounter_id')  # ids required for submission\n",
    "test.drop(['Unnamed: 0'], axis=1, inplace=True) \n",
    "\n",
    "target = df['diabetes_mellitus']"
   ]
  },
  {
   "cell_type": "markdown",
   "metadata": {
    "papermill": {
     "duration": 0.043618,
     "end_time": "2021-01-16T14:43:04.290094",
     "exception": false,
     "start_time": "2021-01-16T14:43:04.246476",
     "status": "completed"
    },
    "tags": []
   },
   "source": [
    "# Missing values\n",
    "\n",
    "The data size is quite large, it has 130157 X 181 values. Let's see how many columns have missing values in terms of percentage."
   ],
   "execution_count": null,
   "outputs": []
  },
  {
   "cell_type": "code",
   "execution_count": 12,
   "metadata": {
    "execution": {
     "iopub.execute_input": "2021-01-16T14:43:04.381966Z",
     "iopub.status.busy": "2021-01-16T14:43:04.381349Z",
     "iopub.status.idle": "2021-01-16T14:43:04.541507Z",
     "shell.execute_reply": "2021-01-16T14:43:04.542002Z"
    },
    "papermill": {
     "duration": 0.207682,
     "end_time": "2021-01-16T14:43:04.542225",
     "exception": false,
     "start_time": "2021-01-16T14:43:04.334543",
     "status": "completed"
    },
    "tags": []
   },
   "outputs": [
    {
     "output_type": "stream",
     "name": "stdout",
     "text": "(130157, 176)\n                  Feature  Missing Count  Missing Ratio  Filled Ratio\n0                     age           4988       3.832295     96.167705\n1                     bmi           4490       3.449680     96.550320\n2               ethnicity           1587       1.219297     98.780703\n3                  gender             66       0.050708     99.949292\n4                  height           2077       1.595765     98.404235\n..                    ...            ...            ...           ...\n155    h1_arterial_ph_min         107849      82.860699     17.139301\n156   h1_arterial_po2_max         107445      82.550305     17.449695\n157   h1_arterial_po2_min         107445      82.550305     17.449695\n158  h1_pao2fio2ratio_max         113397      87.123243     12.876757\n159  h1_pao2fio2ratio_min         113397      87.123243     12.876757\n\n[160 rows x 4 columns]\nIndex(['Feature', 'Missing Count', 'Missing Ratio', 'Filled Ratio'], dtype='object')\n"
    },
    {
     "output_type": "display_data",
     "data": {
      "text/plain": "<Figure size 1296x432 with 1 Axes>",
      "image/svg+xml": "<?xml version=\"1.0\" encoding=\"utf-8\" standalone=\"no\"?>\n<!DOCTYPE svg PUBLIC \"-//W3C//DTD SVG 1.1//EN\"\n  \"http://www.w3.org/Graphics/SVG/1.1/DTD/svg11.dtd\">\n<!-- Created with matplotlib (https://matplotlib.org/) -->\n<svg height=\"476.22875pt\" version=\"1.1\" viewBox=\"0 0 1039.507188 476.22875\" width=\"1039.507188pt\" xmlns=\"http://www.w3.org/2000/svg\" xmlns:xlink=\"http://www.w3.org/1999/xlink\">\n <metadata>\n  <rdf:RDF xmlns:cc=\"http://creativecommons.org/ns#\" xmlns:dc=\"http://purl.org/dc/elements/1.1/\" xmlns:rdf=\"http://www.w3.org/1999/02/22-rdf-syntax-ns#\">\n   <cc:Work>\n    <dc:type rdf:resource=\"http://purl.org/dc/dcmitype/StillImage\"/>\n    <dc:date>2021-02-07T17:42:47.865873</dc:date>\n    <dc:format>image/svg+xml</dc:format>\n    <dc:creator>\n     <cc:Agent>\n      <dc:title>Matplotlib v3.3.3, https://matplotlib.org/</dc:title>\n     </cc:Agent>\n    </dc:creator>\n   </cc:Work>\n  </rdf:RDF>\n </metadata>\n <defs>\n  <style type=\"text/css\">*{stroke-linecap:butt;stroke-linejoin:round;}</style>\n </defs>\n <g id=\"figure_1\">\n  <g id=\"patch_1\">\n   <path d=\"M 0 476.22875 \nL 1039.507188 476.22875 \nL 1039.507188 0 \nL 0 0 \nz\n\" style=\"fill:none;\"/>\n  </g>\n  <g id=\"axes_1\">\n   <g id=\"patch_2\">\n    <path d=\"M 27.56125 348.478125 \nL 1031.96125 348.478125 \nL 1031.96125 22.318125 \nL 27.56125 22.318125 \nz\n\" style=\"fill:#ffffff;\"/>\n   </g>\n   <g id=\"patch_3\">\n    <path clip-path=\"url(#p5e318613c6)\" d=\"M 29.130625 348.478125 \nL 32.269375 348.478125 \nL 32.269375 49.602202 \nL 29.130625 49.602202 \nz\n\" style=\"fill:#812878;\"/>\n   </g>\n   <g id=\"patch_4\">\n    <path clip-path=\"url(#p5e318613c6)\" d=\"M 35.408125 348.478125 \nL 38.546875 348.478125 \nL 38.546875 48.413088 \nL 35.408125 48.413088 \nz\n\" style=\"fill:#812878;\"/>\n   </g>\n   <g id=\"patch_5\">\n    <path clip-path=\"url(#p5e318613c6)\" d=\"M 41.685625 348.478125 \nL 44.824375 348.478125 \nL 44.824375 41.481366 \nL 41.685625 41.481366 \nz\n\" style=\"fill:#812878;\"/>\n   </g>\n   <g id=\"patch_6\">\n    <path clip-path=\"url(#p5e318613c6)\" d=\"M 47.963125 348.478125 \nL 51.101875 348.478125 \nL 51.101875 37.849554 \nL 47.963125 37.849554 \nz\n\" style=\"fill:#812878;\"/>\n   </g>\n   <g id=\"patch_7\">\n    <path clip-path=\"url(#p5e318613c6)\" d=\"M 54.240625 348.478125 \nL 57.379375 348.478125 \nL 57.379375 42.651377 \nL 54.240625 42.651377 \nz\n\" style=\"fill:#812878;\"/>\n   </g>\n   <g id=\"patch_8\">\n    <path clip-path=\"url(#p5e318613c6)\" d=\"M 60.518125 348.478125 \nL 63.656875 348.478125 \nL 63.656875 116.961451 \nL 60.518125 116.961451 \nz\n\" style=\"fill:#b0b3d6;\"/>\n   </g>\n   <g id=\"patch_9\">\n    <path clip-path=\"url(#p5e318613c6)\" d=\"M 66.795625 348.478125 \nL 69.934375 348.478125 \nL 69.934375 38.265027 \nL 66.795625 38.265027 \nz\n\" style=\"fill:#b0b3d6;\"/>\n   </g>\n   <g id=\"patch_10\">\n    <path clip-path=\"url(#p5e318613c6)\" d=\"M 73.073125 348.478125 \nL 76.211875 348.478125 \nL 76.211875 45.960839 \nL 73.073125 45.960839 \nz\n\" style=\"fill:#812878;\"/>\n   </g>\n   <g id=\"patch_11\">\n    <path clip-path=\"url(#p5e318613c6)\" d=\"M 79.350625 348.478125 \nL 82.489375 348.478125 \nL 82.489375 224.327938 \nL 79.350625 224.327938 \nz\n\" style=\"fill:#2c2255;\"/>\n   </g>\n   <g id=\"patch_12\">\n    <path clip-path=\"url(#p5e318613c6)\" d=\"M 85.628125 348.478125 \nL 88.766875 348.478125 \nL 88.766875 41.715368 \nL 85.628125 41.715368 \nz\n\" style=\"fill:#2c2255;\"/>\n   </g>\n   <g id=\"patch_13\">\n    <path clip-path=\"url(#p5e318613c6)\" d=\"M 91.905625 348.478125 \nL 95.044375 348.478125 \nL 95.044375 39.757389 \nL 91.905625 39.757389 \nz\n\" style=\"fill:#2c2255;\"/>\n   </g>\n   <g id=\"patch_14\">\n    <path clip-path=\"url(#p5e318613c6)\" d=\"M 98.183125 348.478125 \nL 101.321875 348.478125 \nL 101.321875 234.827003 \nL 98.183125 234.827003 \nz\n\" style=\"fill:#2c2255;\"/>\n   </g>\n   <g id=\"patch_15\">\n    <path clip-path=\"url(#p5e318613c6)\" d=\"M 104.460625 348.478125 \nL 107.599375 348.478125 \nL 107.599375 98.367815 \nL 104.460625 98.367815 \nz\n\" style=\"fill:#2c2255;\"/>\n   </g>\n   <g id=\"patch_16\">\n    <path clip-path=\"url(#p5e318613c6)\" d=\"M 110.738125 348.478125 \nL 113.876875 348.478125 \nL 113.876875 97.10468 \nL 110.738125 97.10468 \nz\n\" style=\"fill:#2c2255;\"/>\n   </g>\n   <g id=\"patch_17\">\n    <path clip-path=\"url(#p5e318613c6)\" d=\"M 117.015625 348.478125 \nL 120.154375 348.478125 \nL 120.154375 275.801292 \nL 117.015625 275.801292 \nz\n\" style=\"fill:#2c2255;\"/>\n   </g>\n   <g id=\"patch_18\">\n    <path clip-path=\"url(#p5e318613c6)\" d=\"M 123.293125 348.478125 \nL 126.431875 348.478125 \nL 126.431875 42.921196 \nL 123.293125 42.921196 \nz\n\" style=\"fill:#2c2255;\"/>\n   </g>\n   <g id=\"patch_19\">\n    <path clip-path=\"url(#p5e318613c6)\" d=\"M 129.570625 348.478125 \nL 132.709375 348.478125 \nL 132.709375 42.921196 \nL 129.570625 42.921196 \nz\n\" style=\"fill:#2c2255;\"/>\n   </g>\n   <g id=\"patch_20\">\n    <path clip-path=\"url(#p5e318613c6)\" d=\"M 135.848125 348.478125 \nL 138.986875 348.478125 \nL 138.986875 39.384896 \nL 135.848125 39.384896 \nz\n\" style=\"fill:#2c2255;\"/>\n   </g>\n   <g id=\"patch_21\">\n    <path clip-path=\"url(#p5e318613c6)\" d=\"M 142.125625 348.478125 \nL 145.264375 348.478125 \nL 145.264375 42.921196 \nL 142.125625 42.921196 \nz\n\" style=\"fill:#2c2255;\"/>\n   </g>\n   <g id=\"patch_22\">\n    <path clip-path=\"url(#p5e318613c6)\" d=\"M 148.403125 348.478125 \nL 151.541875 348.478125 \nL 151.541875 72.782762 \nL 148.403125 72.782762 \nz\n\" style=\"fill:#2c2255;\"/>\n   </g>\n   <g id=\"patch_23\">\n    <path clip-path=\"url(#p5e318613c6)\" d=\"M 154.680625 348.478125 \nL 157.819375 348.478125 \nL 157.819375 38.429784 \nL 154.680625 38.429784 \nz\n\" style=\"fill:#2c2255;\"/>\n   </g>\n   <g id=\"patch_24\">\n    <path clip-path=\"url(#p5e318613c6)\" d=\"M 160.958125 348.478125 \nL 164.096875 348.478125 \nL 164.096875 101.584153 \nL 160.958125 101.584153 \nz\n\" style=\"fill:#2c2255;\"/>\n   </g>\n   <g id=\"patch_25\">\n    <path clip-path=\"url(#p5e318613c6)\" d=\"M 167.235625 348.478125 \nL 170.374375 348.478125 \nL 170.374375 38.694827 \nL 167.235625 38.694827 \nz\n\" style=\"fill:#2c2255;\"/>\n   </g>\n   <g id=\"patch_26\">\n    <path clip-path=\"url(#p5e318613c6)\" d=\"M 173.513125 348.478125 \nL 176.651875 348.478125 \nL 176.651875 275.801292 \nL 173.513125 275.801292 \nz\n\" style=\"fill:#2c2255;\"/>\n   </g>\n   <g id=\"patch_27\">\n    <path clip-path=\"url(#p5e318613c6)\" d=\"M 179.790625 348.478125 \nL 182.929375 348.478125 \nL 182.929375 275.801292 \nL 179.790625 275.801292 \nz\n\" style=\"fill:#2c2255;\"/>\n   </g>\n   <g id=\"patch_28\">\n    <path clip-path=\"url(#p5e318613c6)\" d=\"M 186.068125 348.478125 \nL 189.206875 348.478125 \nL 189.206875 275.801292 \nL 186.068125 275.801292 \nz\n\" style=\"fill:#2c2255;\"/>\n   </g>\n   <g id=\"patch_29\">\n    <path clip-path=\"url(#p5e318613c6)\" d=\"M 192.345625 348.478125 \nL 195.484375 348.478125 \nL 195.484375 275.801292 \nL 192.345625 275.801292 \nz\n\" style=\"fill:#2c2255;\"/>\n   </g>\n   <g id=\"patch_30\">\n    <path clip-path=\"url(#p5e318613c6)\" d=\"M 198.623125 348.478125 \nL 201.761875 348.478125 \nL 201.761875 39.621286 \nL 198.623125 39.621286 \nz\n\" style=\"fill:#2c2255;\"/>\n   </g>\n   <g id=\"patch_31\">\n    <path clip-path=\"url(#p5e318613c6)\" d=\"M 204.900625 348.478125 \nL 208.039375 348.478125 \nL 208.039375 96.237916 \nL 204.900625 96.237916 \nz\n\" style=\"fill:#2c2255;\"/>\n   </g>\n   <g id=\"patch_32\">\n    <path clip-path=\"url(#p5e318613c6)\" d=\"M 211.178125 348.478125 \nL 214.316875 348.478125 \nL 214.316875 53.477568 \nL 211.178125 53.477568 \nz\n\" style=\"fill:#2c2255;\"/>\n   </g>\n   <g id=\"patch_33\">\n    <path clip-path=\"url(#p5e318613c6)\" d=\"M 217.455625 348.478125 \nL 220.594375 348.478125 \nL 220.594375 188.520803 \nL 217.455625 188.520803 \nz\n\" style=\"fill:#2c2255;\"/>\n   </g>\n   <g id=\"patch_34\">\n    <path clip-path=\"url(#p5e318613c6)\" d=\"M 223.733125 348.478125 \nL 226.871875 348.478125 \nL 226.871875 108.071749 \nL 223.733125 108.071749 \nz\n\" style=\"fill:#2c2255;\"/>\n   </g>\n   <g id=\"patch_35\">\n    <path clip-path=\"url(#p5e318613c6)\" d=\"M 230.010625 348.478125 \nL 233.149375 348.478125 \nL 233.149375 264.693344 \nL 230.010625 264.693344 \nz\n\" style=\"fill:#cc2336;\"/>\n   </g>\n   <g id=\"patch_36\">\n    <path clip-path=\"url(#p5e318613c6)\" d=\"M 236.288125 348.478125 \nL 239.426875 348.478125 \nL 239.426875 264.693344 \nL 236.288125 264.693344 \nz\n\" style=\"fill:#cc2336;\"/>\n   </g>\n   <g id=\"patch_37\">\n    <path clip-path=\"url(#p5e318613c6)\" d=\"M 242.565625 348.478125 \nL 245.704375 348.478125 \nL 245.704375 38.353375 \nL 242.565625 38.353375 \nz\n\" style=\"fill:#cc2336;\"/>\n   </g>\n   <g id=\"patch_38\">\n    <path clip-path=\"url(#p5e318613c6)\" d=\"M 248.843125 348.478125 \nL 251.981875 348.478125 \nL 251.981875 38.353375 \nL 248.843125 38.353375 \nz\n\" style=\"fill:#cc2336;\"/>\n   </g>\n   <g id=\"patch_39\">\n    <path clip-path=\"url(#p5e318613c6)\" d=\"M 255.120625 348.478125 \nL 258.259375 348.478125 \nL 258.259375 41.598367 \nL 255.120625 41.598367 \nz\n\" style=\"fill:#cc2336;\"/>\n   </g>\n   <g id=\"patch_40\">\n    <path clip-path=\"url(#p5e318613c6)\" d=\"M 261.398125 348.478125 \nL 264.536875 348.478125 \nL 264.536875 41.598367 \nL 261.398125 41.598367 \nz\n\" style=\"fill:#cc2336;\"/>\n   </g>\n   <g id=\"patch_41\">\n    <path clip-path=\"url(#p5e318613c6)\" d=\"M 267.675625 348.478125 \nL 270.814375 348.478125 \nL 270.814375 38.317558 \nL 267.675625 38.317558 \nz\n\" style=\"fill:#cc2336;\"/>\n   </g>\n   <g id=\"patch_42\">\n    <path clip-path=\"url(#p5e318613c6)\" d=\"M 273.953125 348.478125 \nL 277.091875 348.478125 \nL 277.091875 38.317558 \nL 273.953125 38.317558 \nz\n\" style=\"fill:#cc2336;\"/>\n   </g>\n   <g id=\"patch_43\">\n    <path clip-path=\"url(#p5e318613c6)\" d=\"M 280.230625 348.478125 \nL 283.369375 348.478125 \nL 283.369375 264.215788 \nL 280.230625 264.215788 \nz\n\" style=\"fill:#cc2336;\"/>\n   </g>\n   <g id=\"patch_44\">\n    <path clip-path=\"url(#p5e318613c6)\" d=\"M 286.508125 348.478125 \nL 289.646875 348.478125 \nL 289.646875 264.215788 \nL 286.508125 264.215788 \nz\n\" style=\"fill:#cc2336;\"/>\n   </g>\n   <g id=\"patch_45\">\n    <path clip-path=\"url(#p5e318613c6)\" d=\"M 292.785625 348.478125 \nL 295.924375 348.478125 \nL 295.924375 38.472764 \nL 292.785625 38.472764 \nz\n\" style=\"fill:#cc2336;\"/>\n   </g>\n   <g id=\"patch_46\">\n    <path clip-path=\"url(#p5e318613c6)\" d=\"M 299.063125 348.478125 \nL 302.201875 348.478125 \nL 302.201875 38.472764 \nL 299.063125 38.472764 \nz\n\" style=\"fill:#cc2336;\"/>\n   </g>\n   <g id=\"patch_47\">\n    <path clip-path=\"url(#p5e318613c6)\" d=\"M 305.340625 348.478125 \nL 308.479375 348.478125 \nL 308.479375 43.011932 \nL 305.340625 43.011932 \nz\n\" style=\"fill:#cc2336;\"/>\n   </g>\n   <g id=\"patch_48\">\n    <path clip-path=\"url(#p5e318613c6)\" d=\"M 311.618125 348.478125 \nL 314.756875 348.478125 \nL 314.756875 43.011932 \nL 311.618125 43.011932 \nz\n\" style=\"fill:#cc2336;\"/>\n   </g>\n   <g id=\"patch_49\">\n    <path clip-path=\"url(#p5e318613c6)\" d=\"M 317.895625 348.478125 \nL 321.034375 348.478125 \nL 321.034375 39.322813 \nL 317.895625 39.322813 \nz\n\" style=\"fill:#cc2336;\"/>\n   </g>\n   <g id=\"patch_50\">\n    <path clip-path=\"url(#p5e318613c6)\" d=\"M 324.173125 348.478125 \nL 327.311875 348.478125 \nL 327.311875 39.322813 \nL 324.173125 39.322813 \nz\n\" style=\"fill:#cc2336;\"/>\n   </g>\n   <g id=\"patch_51\">\n    <path clip-path=\"url(#p5e318613c6)\" d=\"M 330.450625 348.478125 \nL 333.589375 348.478125 \nL 333.589375 38.962259 \nL 330.450625 38.962259 \nz\n\" style=\"fill:#cc2336;\"/>\n   </g>\n   <g id=\"patch_52\">\n    <path clip-path=\"url(#p5e318613c6)\" d=\"M 336.728125 348.478125 \nL 339.866875 348.478125 \nL 339.866875 38.962259 \nL 336.728125 38.962259 \nz\n\" style=\"fill:#cc2336;\"/>\n   </g>\n   <g id=\"patch_53\">\n    <path clip-path=\"url(#p5e318613c6)\" d=\"M 343.005625 348.478125 \nL 346.144375 348.478125 \nL 346.144375 264.621711 \nL 343.005625 264.621711 \nz\n\" style=\"fill:#cc2336;\"/>\n   </g>\n   <g id=\"patch_54\">\n    <path clip-path=\"url(#p5e318613c6)\" d=\"M 349.283125 348.478125 \nL 352.421875 348.478125 \nL 352.421875 264.621711 \nL 349.283125 264.621711 \nz\n\" style=\"fill:#cc2336;\"/>\n   </g>\n   <g id=\"patch_55\">\n    <path clip-path=\"url(#p5e318613c6)\" d=\"M 355.560625 348.478125 \nL 358.699375 348.478125 \nL 358.699375 38.339048 \nL 355.560625 38.339048 \nz\n\" style=\"fill:#cc2336;\"/>\n   </g>\n   <g id=\"patch_56\">\n    <path clip-path=\"url(#p5e318613c6)\" d=\"M 361.838125 348.478125 \nL 364.976875 348.478125 \nL 364.976875 38.339048 \nL 361.838125 38.339048 \nz\n\" style=\"fill:#cc2336;\"/>\n   </g>\n   <g id=\"patch_57\">\n    <path clip-path=\"url(#p5e318613c6)\" d=\"M 368.115625 348.478125 \nL 371.254375 348.478125 \nL 371.254375 41.567326 \nL 368.115625 41.567326 \nz\n\" style=\"fill:#cc2336;\"/>\n   </g>\n   <g id=\"patch_58\">\n    <path clip-path=\"url(#p5e318613c6)\" d=\"M 374.393125 348.478125 \nL 377.531875 348.478125 \nL 377.531875 41.567326 \nL 374.393125 41.567326 \nz\n\" style=\"fill:#cc2336;\"/>\n   </g>\n   <g id=\"patch_59\">\n    <path clip-path=\"url(#p5e318613c6)\" d=\"M 380.670625 348.478125 \nL 383.809375 348.478125 \nL 383.809375 48.422639 \nL 380.670625 48.422639 \nz\n\" style=\"fill:#cc2336;\"/>\n   </g>\n   <g id=\"patch_60\">\n    <path clip-path=\"url(#p5e318613c6)\" d=\"M 386.948125 348.478125 \nL 390.086875 348.478125 \nL 390.086875 48.422639 \nL 386.948125 48.422639 \nz\n\" style=\"fill:#cc2336;\"/>\n   </g>\n   <g id=\"patch_61\">\n    <path clip-path=\"url(#p5e318613c6)\" d=\"M 393.225625 348.478125 \nL 396.364375 348.478125 \nL 396.364375 288.000456 \nL 393.225625 288.000456 \nz\n\" style=\"fill:#ffe873;\"/>\n   </g>\n   <g id=\"patch_62\">\n    <path clip-path=\"url(#p5e318613c6)\" d=\"M 399.503125 348.478125 \nL 402.641875 348.478125 \nL 402.641875 288.000456 \nL 399.503125 288.000456 \nz\n\" style=\"fill:#ffe873;\"/>\n   </g>\n   <g id=\"patch_63\">\n    <path clip-path=\"url(#p5e318613c6)\" d=\"M 405.780625 348.478125 \nL 408.919375 348.478125 \nL 408.919375 50.889215 \nL 405.780625 50.889215 \nz\n\" style=\"fill:#ffe873;\"/>\n   </g>\n   <g id=\"patch_64\">\n    <path clip-path=\"url(#p5e318613c6)\" d=\"M 412.058125 348.478125 \nL 415.196875 348.478125 \nL 415.196875 50.889215 \nL 412.058125 50.889215 \nz\n\" style=\"fill:#ffe873;\"/>\n   </g>\n   <g id=\"patch_65\">\n    <path clip-path=\"url(#p5e318613c6)\" d=\"M 418.335625 348.478125 \nL 421.474375 348.478125 \nL 421.474375 64.766987 \nL 418.335625 64.766987 \nz\n\" style=\"fill:#ffe873;\"/>\n   </g>\n   <g id=\"patch_66\">\n    <path clip-path=\"url(#p5e318613c6)\" d=\"M 424.613125 348.478125 \nL 427.751875 348.478125 \nL 427.751875 64.766987 \nL 424.613125 64.766987 \nz\n\" style=\"fill:#ffe873;\"/>\n   </g>\n   <g id=\"patch_67\">\n    <path clip-path=\"url(#p5e318613c6)\" d=\"M 430.890625 348.478125 \nL 434.029375 348.478125 \nL 434.029375 47.419772 \nL 430.890625 47.419772 \nz\n\" style=\"fill:#ffe873;\"/>\n   </g>\n   <g id=\"patch_68\">\n    <path clip-path=\"url(#p5e318613c6)\" d=\"M 437.168125 348.478125 \nL 440.306875 348.478125 \nL 440.306875 47.419772 \nL 437.168125 47.419772 \nz\n\" style=\"fill:#ffe873;\"/>\n   </g>\n   <g id=\"patch_69\">\n    <path clip-path=\"url(#p5e318613c6)\" d=\"M 443.445625 348.478125 \nL 446.584375 348.478125 \nL 446.584375 287.850026 \nL 443.445625 287.850026 \nz\n\" style=\"fill:#ffe873;\"/>\n   </g>\n   <g id=\"patch_70\">\n    <path clip-path=\"url(#p5e318613c6)\" d=\"M 449.723125 348.478125 \nL 452.861875 348.478125 \nL 452.861875 287.850026 \nL 449.723125 287.850026 \nz\n\" style=\"fill:#ffe873;\"/>\n   </g>\n   <g id=\"patch_71\">\n    <path clip-path=\"url(#p5e318613c6)\" d=\"M 456.000625 348.478125 \nL 459.139375 348.478125 \nL 459.139375 53.284158 \nL 456.000625 53.284158 \nz\n\" style=\"fill:#ffe873;\"/>\n   </g>\n   <g id=\"patch_72\">\n    <path clip-path=\"url(#p5e318613c6)\" d=\"M 462.278125 348.478125 \nL 465.416875 348.478125 \nL 465.416875 53.284158 \nL 462.278125 53.284158 \nz\n\" style=\"fill:#ffe873;\"/>\n   </g>\n   <g id=\"patch_73\">\n    <path clip-path=\"url(#p5e318613c6)\" d=\"M 468.555625 348.478125 \nL 471.694375 348.478125 \nL 471.694375 69.442259 \nL 468.555625 69.442259 \nz\n\" style=\"fill:#ffe873;\"/>\n   </g>\n   <g id=\"patch_74\">\n    <path clip-path=\"url(#p5e318613c6)\" d=\"M 474.833125 348.478125 \nL 477.971875 348.478125 \nL 477.971875 69.442259 \nL 474.833125 69.442259 \nz\n\" style=\"fill:#ffe873;\"/>\n   </g>\n   <g id=\"patch_75\">\n    <path clip-path=\"url(#p5e318613c6)\" d=\"M 481.110625 348.478125 \nL 484.249375 348.478125 \nL 484.249375 53.102686 \nL 481.110625 53.102686 \nz\n\" style=\"fill:#ffe873;\"/>\n   </g>\n   <g id=\"patch_76\">\n    <path clip-path=\"url(#p5e318613c6)\" d=\"M 487.388125 348.478125 \nL 490.526875 348.478125 \nL 490.526875 53.102686 \nL 487.388125 53.102686 \nz\n\" style=\"fill:#ffe873;\"/>\n   </g>\n   <g id=\"patch_77\">\n    <path clip-path=\"url(#p5e318613c6)\" d=\"M 493.665625 348.478125 \nL 496.804375 348.478125 \nL 496.804375 52.596477 \nL 493.665625 52.596477 \nz\n\" style=\"fill:#ffe873;\"/>\n   </g>\n   <g id=\"patch_78\">\n    <path clip-path=\"url(#p5e318613c6)\" d=\"M 499.943125 348.478125 \nL 503.081875 348.478125 \nL 503.081875 52.596477 \nL 499.943125 52.596477 \nz\n\" style=\"fill:#ffe873;\"/>\n   </g>\n   <g id=\"patch_79\">\n    <path clip-path=\"url(#p5e318613c6)\" d=\"M 506.220625 348.478125 \nL 509.359375 348.478125 \nL 509.359375 287.947925 \nL 506.220625 287.947925 \nz\n\" style=\"fill:#ffe873;\"/>\n   </g>\n   <g id=\"patch_80\">\n    <path clip-path=\"url(#p5e318613c6)\" d=\"M 512.498125 348.478125 \nL 515.636875 348.478125 \nL 515.636875 287.947925 \nL 512.498125 287.947925 \nz\n\" style=\"fill:#ffe873;\"/>\n   </g>\n   <g id=\"patch_81\">\n    <path clip-path=\"url(#p5e318613c6)\" d=\"M 518.775625 348.478125 \nL 521.914375 348.478125 \nL 521.914375 50.870113 \nL 518.775625 50.870113 \nz\n\" style=\"fill:#ffe873;\"/>\n   </g>\n   <g id=\"patch_82\">\n    <path clip-path=\"url(#p5e318613c6)\" d=\"M 525.053125 348.478125 \nL 528.191875 348.478125 \nL 528.191875 50.870113 \nL 525.053125 50.870113 \nz\n\" style=\"fill:#ffe873;\"/>\n   </g>\n   <g id=\"patch_83\">\n    <path clip-path=\"url(#p5e318613c6)\" d=\"M 531.330625 348.478125 \nL 534.469375 348.478125 \nL 534.469375 64.745497 \nL 531.330625 64.745497 \nz\n\" style=\"fill:#ffe873;\"/>\n   </g>\n   <g id=\"patch_84\">\n    <path clip-path=\"url(#p5e318613c6)\" d=\"M 537.608125 348.478125 \nL 540.746875 348.478125 \nL 540.746875 64.745497 \nL 537.608125 64.745497 \nz\n\" style=\"fill:#ffe873;\"/>\n   </g>\n   <g id=\"patch_85\">\n    <path clip-path=\"url(#p5e318613c6)\" d=\"M 543.885625 348.478125 \nL 547.024375 348.478125 \nL 547.024375 108.616163 \nL 543.885625 108.616163 \nz\n\" style=\"fill:#ffe873;\"/>\n   </g>\n   <g id=\"patch_86\">\n    <path clip-path=\"url(#p5e318613c6)\" d=\"M 550.163125 348.478125 \nL 553.301875 348.478125 \nL 553.301875 108.616163 \nL 550.163125 108.616163 \nz\n\" style=\"fill:#ffe873;\"/>\n   </g>\n   <g id=\"patch_87\">\n    <path clip-path=\"url(#p5e318613c6)\" d=\"M 556.440625 348.478125 \nL 559.579375 348.478125 \nL 559.579375 208.193715 \nL 556.440625 208.193715 \nz\n\" style=\"fill:#e4682a;\"/>\n   </g>\n   <g id=\"patch_88\">\n    <path clip-path=\"url(#p5e318613c6)\" d=\"M 562.718125 348.478125 \nL 565.856875 348.478125 \nL 565.856875 208.193715 \nL 562.718125 208.193715 \nz\n\" style=\"fill:#e4682a;\"/>\n   </g>\n   <g id=\"patch_89\">\n    <path clip-path=\"url(#p5e318613c6)\" d=\"M 568.995625 348.478125 \nL 572.134375 348.478125 \nL 572.134375 220.91819 \nL 568.995625 220.91819 \nz\n\" style=\"fill:#e4682a;\"/>\n   </g>\n   <g id=\"patch_90\">\n    <path clip-path=\"url(#p5e318613c6)\" d=\"M 575.273125 348.478125 \nL 578.411875 348.478125 \nL 578.411875 220.91819 \nL 575.273125 220.91819 \nz\n\" style=\"fill:#e4682a;\"/>\n   </g>\n   <g id=\"patch_91\">\n    <path clip-path=\"url(#p5e318613c6)\" d=\"M 581.550625 348.478125 \nL 584.689375 348.478125 \nL 584.689375 70.485718 \nL 581.550625 70.485718 \nz\n\" style=\"fill:#e4682a;\"/>\n   </g>\n   <g id=\"patch_92\">\n    <path clip-path=\"url(#p5e318613c6)\" d=\"M 587.828125 348.478125 \nL 590.966875 348.478125 \nL 590.966875 70.485718 \nL 587.828125 70.485718 \nz\n\" style=\"fill:#e4682a;\"/>\n   </g>\n   <g id=\"patch_93\">\n    <path clip-path=\"url(#p5e318613c6)\" d=\"M 594.105625 348.478125 \nL 597.244375 348.478125 \nL 597.244375 77.548769 \nL 594.105625 77.548769 \nz\n\" style=\"fill:#e4682a;\"/>\n   </g>\n   <g id=\"patch_94\">\n    <path clip-path=\"url(#p5e318613c6)\" d=\"M 600.383125 348.478125 \nL 603.521875 348.478125 \nL 603.521875 77.548769 \nL 600.383125 77.548769 \nz\n\" style=\"fill:#e4682a;\"/>\n   </g>\n   <g id=\"patch_95\">\n    <path clip-path=\"url(#p5e318613c6)\" d=\"M 606.660625 348.478125 \nL 609.799375 348.478125 \nL 609.799375 69.384952 \nL 606.660625 69.384952 \nz\n\" style=\"fill:#e4682a;\"/>\n   </g>\n   <g id=\"patch_96\">\n    <path clip-path=\"url(#p5e318613c6)\" d=\"M 612.938125 348.478125 \nL 616.076875 348.478125 \nL 616.076875 69.384952 \nL 612.938125 69.384952 \nz\n\" style=\"fill:#e4682a;\"/>\n   </g>\n   <g id=\"patch_97\">\n    <path clip-path=\"url(#p5e318613c6)\" d=\"M 619.215625 348.478125 \nL 622.354375 348.478125 \nL 622.354375 57.374423 \nL 619.215625 57.374423 \nz\n\" style=\"fill:#e4682a;\"/>\n   </g>\n   <g id=\"patch_98\">\n    <path clip-path=\"url(#p5e318613c6)\" d=\"M 625.493125 348.478125 \nL 628.631875 348.478125 \nL 628.631875 57.374423 \nL 625.493125 57.374423 \nz\n\" style=\"fill:#e4682a;\"/>\n   </g>\n   <g id=\"patch_99\">\n    <path clip-path=\"url(#p5e318613c6)\" d=\"M 631.770625 348.478125 \nL 634.909375 348.478125 \nL 634.909375 85.559768 \nL 631.770625 85.559768 \nz\n\" style=\"fill:#e4682a;\"/>\n   </g>\n   <g id=\"patch_100\">\n    <path clip-path=\"url(#p5e318613c6)\" d=\"M 638.048125 348.478125 \nL 641.186875 348.478125 \nL 641.186875 85.559768 \nL 638.048125 85.559768 \nz\n\" style=\"fill:#e4682a;\"/>\n   </g>\n   <g id=\"patch_101\">\n    <path clip-path=\"url(#p5e318613c6)\" d=\"M 644.325625 348.478125 \nL 647.464375 348.478125 \nL 647.464375 76.450391 \nL 644.325625 76.450391 \nz\n\" style=\"fill:#e4682a;\"/>\n   </g>\n   <g id=\"patch_102\">\n    <path clip-path=\"url(#p5e318613c6)\" d=\"M 650.603125 348.478125 \nL 653.741875 348.478125 \nL 653.741875 76.450391 \nL 650.603125 76.450391 \nz\n\" style=\"fill:#e4682a;\"/>\n   </g>\n   <g id=\"patch_103\">\n    <path clip-path=\"url(#p5e318613c6)\" d=\"M 656.880625 348.478125 \nL 660.019375 348.478125 \nL 660.019375 74.912661 \nL 656.880625 74.912661 \nz\n\" style=\"fill:#e4682a;\"/>\n   </g>\n   <g id=\"patch_104\">\n    <path clip-path=\"url(#p5e318613c6)\" d=\"M 663.158125 348.478125 \nL 666.296875 348.478125 \nL 666.296875 74.912661 \nL 663.158125 74.912661 \nz\n\" style=\"fill:#e4682a;\"/>\n   </g>\n   <g id=\"patch_105\">\n    <path clip-path=\"url(#p5e318613c6)\" d=\"M 669.435625 348.478125 \nL 672.574375 348.478125 \nL 672.574375 231.610665 \nL 669.435625 231.610665 \nz\n\" style=\"fill:#e4682a;\"/>\n   </g>\n   <g id=\"patch_106\">\n    <path clip-path=\"url(#p5e318613c6)\" d=\"M 675.713125 348.478125 \nL 678.851875 348.478125 \nL 678.851875 231.610665 \nL 675.713125 231.610665 \nz\n\" style=\"fill:#e4682a;\"/>\n   </g>\n   <g id=\"patch_107\">\n    <path clip-path=\"url(#p5e318613c6)\" d=\"M 681.990625 348.478125 \nL 685.129375 348.478125 \nL 685.129375 265.732028 \nL 681.990625 265.732028 \nz\n\" style=\"fill:#e4682a;\"/>\n   </g>\n   <g id=\"patch_108\">\n    <path clip-path=\"url(#p5e318613c6)\" d=\"M 688.268125 348.478125 \nL 691.406875 348.478125 \nL 691.406875 265.732028 \nL 688.268125 265.732028 \nz\n\" style=\"fill:#e4682a;\"/>\n   </g>\n   <g id=\"patch_109\">\n    <path clip-path=\"url(#p5e318613c6)\" d=\"M 694.545625 348.478125 \nL 697.684375 348.478125 \nL 697.684375 82.001977 \nL 694.545625 82.001977 \nz\n\" style=\"fill:#e4682a;\"/>\n   </g>\n   <g id=\"patch_110\">\n    <path clip-path=\"url(#p5e318613c6)\" d=\"M 700.823125 348.478125 \nL 703.961875 348.478125 \nL 703.961875 82.001977 \nL 700.823125 82.001977 \nz\n\" style=\"fill:#e4682a;\"/>\n   </g>\n   <g id=\"patch_111\">\n    <path clip-path=\"url(#p5e318613c6)\" d=\"M 707.100625 348.478125 \nL 710.239375 348.478125 \nL 710.239375 67.649037 \nL 707.100625 67.649037 \nz\n\" style=\"fill:#e4682a;\"/>\n   </g>\n   <g id=\"patch_112\">\n    <path clip-path=\"url(#p5e318613c6)\" d=\"M 713.378125 348.478125 \nL 716.516875 348.478125 \nL 716.516875 67.649037 \nL 713.378125 67.649037 \nz\n\" style=\"fill:#e4682a;\"/>\n   </g>\n   <g id=\"patch_113\">\n    <path clip-path=\"url(#p5e318613c6)\" d=\"M 719.655625 348.478125 \nL 722.794375 348.478125 \nL 722.794375 69.377789 \nL 719.655625 69.377789 \nz\n\" style=\"fill:#e4682a;\"/>\n   </g>\n   <g id=\"patch_114\">\n    <path clip-path=\"url(#p5e318613c6)\" d=\"M 725.933125 348.478125 \nL 729.071875 348.478125 \nL 729.071875 69.377789 \nL 725.933125 69.377789 \nz\n\" style=\"fill:#e4682a;\"/>\n   </g>\n   <g id=\"patch_115\">\n    <path clip-path=\"url(#p5e318613c6)\" d=\"M 732.210625 348.478125 \nL 735.349375 348.478125 \nL 735.349375 79.308562 \nL 732.210625 79.308562 \nz\n\" style=\"fill:#e4682a;\"/>\n   </g>\n   <g id=\"patch_116\">\n    <path clip-path=\"url(#p5e318613c6)\" d=\"M 738.488125 348.478125 \nL 741.626875 348.478125 \nL 741.626875 79.308562 \nL 738.488125 79.308562 \nz\n\" style=\"fill:#e4682a;\"/>\n   </g>\n   <g id=\"patch_117\">\n    <path clip-path=\"url(#p5e318613c6)\" d=\"M 744.765625 348.478125 \nL 747.904375 348.478125 \nL 747.904375 321.849612 \nL 744.765625 321.849612 \nz\n\" style=\"fill:#ffd43b;\"/>\n   </g>\n   <g id=\"patch_118\">\n    <path clip-path=\"url(#p5e318613c6)\" d=\"M 751.043125 348.478125 \nL 754.181875 348.478125 \nL 754.181875 321.849612 \nL 751.043125 321.849612 \nz\n\" style=\"fill:#ffd43b;\"/>\n   </g>\n   <g id=\"patch_119\">\n    <path clip-path=\"url(#p5e318613c6)\" d=\"M 757.320625 348.478125 \nL 760.459375 348.478125 \nL 760.459375 323.893551 \nL 757.320625 323.893551 \nz\n\" style=\"fill:#ffd43b;\"/>\n   </g>\n   <g id=\"patch_120\">\n    <path clip-path=\"url(#p5e318613c6)\" d=\"M 763.598125 348.478125 \nL 766.736875 348.478125 \nL 766.736875 323.893551 \nL 763.598125 323.893551 \nz\n\" style=\"fill:#ffd43b;\"/>\n   </g>\n   <g id=\"patch_121\">\n    <path clip-path=\"url(#p5e318613c6)\" d=\"M 769.875625 348.478125 \nL 773.014375 348.478125 \nL 773.014375 288.384888 \nL 769.875625 288.384888 \nz\n\" style=\"fill:#ffd43b;\"/>\n   </g>\n   <g id=\"patch_122\">\n    <path clip-path=\"url(#p5e318613c6)\" d=\"M 776.153125 348.478125 \nL 779.291875 348.478125 \nL 779.291875 288.384888 \nL 776.153125 288.384888 \nz\n\" style=\"fill:#ffd43b;\"/>\n   </g>\n   <g id=\"patch_123\">\n    <path clip-path=\"url(#p5e318613c6)\" d=\"M 782.430625 348.478125 \nL 785.569375 348.478125 \nL 785.569375 290.607911 \nL 782.430625 290.607911 \nz\n\" style=\"fill:#ffd43b;\"/>\n   </g>\n   <g id=\"patch_124\">\n    <path clip-path=\"url(#p5e318613c6)\" d=\"M 788.708125 348.478125 \nL 791.846875 348.478125 \nL 791.846875 290.607911 \nL 788.708125 290.607911 \nz\n\" style=\"fill:#ffd43b;\"/>\n   </g>\n   <g id=\"patch_125\">\n    <path clip-path=\"url(#p5e318613c6)\" d=\"M 794.985625 348.478125 \nL 798.124375 348.478125 \nL 798.124375 287.893006 \nL 794.985625 287.893006 \nz\n\" style=\"fill:#ffd43b;\"/>\n   </g>\n   <g id=\"patch_126\">\n    <path clip-path=\"url(#p5e318613c6)\" d=\"M 801.263125 348.478125 \nL 804.401875 348.478125 \nL 804.401875 287.893006 \nL 801.263125 287.893006 \nz\n\" style=\"fill:#ffd43b;\"/>\n   </g>\n   <g id=\"patch_127\">\n    <path clip-path=\"url(#p5e318613c6)\" d=\"M 807.540625 348.478125 \nL 810.679375 348.478125 \nL 810.679375 216.949701 \nL 807.540625 216.949701 \nz\n\" style=\"fill:#ffd43b;\"/>\n   </g>\n   <g id=\"patch_128\">\n    <path clip-path=\"url(#p5e318613c6)\" d=\"M 813.818125 348.478125 \nL 816.956875 348.478125 \nL 816.956875 216.949701 \nL 813.818125 216.949701 \nz\n\" style=\"fill:#ffd43b;\"/>\n   </g>\n   <g id=\"patch_129\">\n    <path clip-path=\"url(#p5e318613c6)\" d=\"M 820.095625 348.478125 \nL 823.234375 348.478125 \nL 823.234375 291.739718 \nL 820.095625 291.739718 \nz\n\" style=\"fill:#ffd43b;\"/>\n   </g>\n   <g id=\"patch_130\">\n    <path clip-path=\"url(#p5e318613c6)\" d=\"M 826.373125 348.478125 \nL 829.511875 348.478125 \nL 829.511875 291.739718 \nL 826.373125 291.739718 \nz\n\" style=\"fill:#ffd43b;\"/>\n   </g>\n   <g id=\"patch_131\">\n    <path clip-path=\"url(#p5e318613c6)\" d=\"M 832.650625 348.478125 \nL 835.789375 348.478125 \nL 835.789375 283.131774 \nL 832.650625 283.131774 \nz\n\" style=\"fill:#ffd43b;\"/>\n   </g>\n   <g id=\"patch_132\">\n    <path clip-path=\"url(#p5e318613c6)\" d=\"M 838.928125 348.478125 \nL 842.066875 348.478125 \nL 842.066875 283.131774 \nL 838.928125 283.131774 \nz\n\" style=\"fill:#ffd43b;\"/>\n   </g>\n   <g id=\"patch_133\">\n    <path clip-path=\"url(#p5e318613c6)\" d=\"M 845.205625 348.478125 \nL 848.344375 348.478125 \nL 848.344375 283.528146 \nL 845.205625 283.528146 \nz\n\" style=\"fill:#ffd43b;\"/>\n   </g>\n   <g id=\"patch_134\">\n    <path clip-path=\"url(#p5e318613c6)\" d=\"M 851.483125 348.478125 \nL 854.621875 348.478125 \nL 854.621875 283.528146 \nL 851.483125 283.528146 \nz\n\" style=\"fill:#ffd43b;\"/>\n   </g>\n   <g id=\"patch_135\">\n    <path clip-path=\"url(#p5e318613c6)\" d=\"M 857.760625 348.478125 \nL 860.899375 348.478125 \nL 860.899375 231.610665 \nL 857.760625 231.610665 \nz\n\" style=\"fill:#ffd43b;\"/>\n   </g>\n   <g id=\"patch_136\">\n    <path clip-path=\"url(#p5e318613c6)\" d=\"M 864.038125 348.478125 \nL 867.176875 348.478125 \nL 867.176875 231.610665 \nL 864.038125 231.610665 \nz\n\" style=\"fill:#ffd43b;\"/>\n   </g>\n   <g id=\"patch_137\">\n    <path clip-path=\"url(#p5e318613c6)\" d=\"M 870.315625 348.478125 \nL 873.454375 348.478125 \nL 873.454375 320.564987 \nL 870.315625 320.564987 \nz\n\" style=\"fill:#ffd43b;\"/>\n   </g>\n   <g id=\"patch_138\">\n    <path clip-path=\"url(#p5e318613c6)\" d=\"M 876.593125 348.478125 \nL 879.731875 348.478125 \nL 879.731875 320.564987 \nL 876.593125 320.564987 \nz\n\" style=\"fill:#ffd43b;\"/>\n   </g>\n   <g id=\"patch_139\">\n    <path clip-path=\"url(#p5e318613c6)\" d=\"M 882.870625 348.478125 \nL 886.009375 348.478125 \nL 886.009375 290.149457 \nL 882.870625 290.149457 \nz\n\" style=\"fill:#ffd43b;\"/>\n   </g>\n   <g id=\"patch_140\">\n    <path clip-path=\"url(#p5e318613c6)\" d=\"M 889.148125 348.478125 \nL 892.286875 348.478125 \nL 892.286875 290.149457 \nL 889.148125 290.149457 \nz\n\" style=\"fill:#ffd43b;\"/>\n   </g>\n   <g id=\"patch_141\">\n    <path clip-path=\"url(#p5e318613c6)\" d=\"M 895.425625 348.478125 \nL 898.564375 348.478125 \nL 898.564375 278.430237 \nL 895.425625 278.430237 \nz\n\" style=\"fill:#ffd43b;\"/>\n   </g>\n   <g id=\"patch_142\">\n    <path clip-path=\"url(#p5e318613c6)\" d=\"M 901.703125 348.478125 \nL 904.841875 348.478125 \nL 904.841875 278.430237 \nL 901.703125 278.430237 \nz\n\" style=\"fill:#ffd43b;\"/>\n   </g>\n   <g id=\"patch_143\">\n    <path clip-path=\"url(#p5e318613c6)\" d=\"M 907.980625 348.478125 \nL 911.119375 348.478125 \nL 911.119375 280.722505 \nL 907.980625 280.722505 \nz\n\" style=\"fill:#ffd43b;\"/>\n   </g>\n   <g id=\"patch_144\">\n    <path clip-path=\"url(#p5e318613c6)\" d=\"M 914.258125 348.478125 \nL 917.396875 348.478125 \nL 917.396875 280.722505 \nL 914.258125 280.722505 \nz\n\" style=\"fill:#ffd43b;\"/>\n   </g>\n   <g id=\"patch_145\">\n    <path clip-path=\"url(#p5e318613c6)\" d=\"M 920.535625 348.478125 \nL 923.674375 348.478125 \nL 923.674375 290.763116 \nL 920.535625 290.763116 \nz\n\" style=\"fill:#ffd43b;\"/>\n   </g>\n   <g id=\"patch_146\">\n    <path clip-path=\"url(#p5e318613c6)\" d=\"M 926.813125 348.478125 \nL 929.951875 348.478125 \nL 929.951875 290.763116 \nL 926.813125 290.763116 \nz\n\" style=\"fill:#ffd43b;\"/>\n   </g>\n   <g id=\"patch_147\">\n    <path clip-path=\"url(#p5e318613c6)\" d=\"M 933.090625 348.478125 \nL 936.229375 348.478125 \nL 936.229375 239.366171 \nL 933.090625 239.366171 \nz\n\" style=\"fill:#f69824;\"/>\n   </g>\n   <g id=\"patch_148\">\n    <path clip-path=\"url(#p5e318613c6)\" d=\"M 939.368125 348.478125 \nL 942.506875 348.478125 \nL 942.506875 239.366171 \nL 939.368125 239.366171 \nz\n\" style=\"fill:#f69824;\"/>\n   </g>\n   <g id=\"patch_149\">\n    <path clip-path=\"url(#p5e318613c6)\" d=\"M 945.645625 348.478125 \nL 948.784375 348.478125 \nL 948.784375 240.192343 \nL 945.645625 240.192343 \nz\n\" style=\"fill:#f69824;\"/>\n   </g>\n   <g id=\"patch_150\">\n    <path clip-path=\"url(#p5e318613c6)\" d=\"M 951.923125 348.478125 \nL 955.061875 348.478125 \nL 955.061875 240.192343 \nL 951.923125 240.192343 \nz\n\" style=\"fill:#f69824;\"/>\n   </g>\n   <g id=\"patch_151\">\n    <path clip-path=\"url(#p5e318613c6)\" d=\"M 958.200625 348.478125 \nL 961.339375 348.478125 \nL 961.339375 238.289283 \nL 958.200625 238.289283 \nz\n\" style=\"fill:#f69824;\"/>\n   </g>\n   <g id=\"patch_152\">\n    <path clip-path=\"url(#p5e318613c6)\" d=\"M 964.478125 348.478125 \nL 967.616875 348.478125 \nL 967.616875 238.289283 \nL 964.478125 238.289283 \nz\n\" style=\"fill:#f69824;\"/>\n   </g>\n   <g id=\"patch_153\">\n    <path clip-path=\"url(#p5e318613c6)\" d=\"M 970.755625 348.478125 \nL 973.894375 348.478125 \nL 973.894375 260.564874 \nL 970.755625 260.564874 \nz\n\" style=\"fill:#f69824;\"/>\n   </g>\n   <g id=\"patch_154\">\n    <path clip-path=\"url(#p5e318613c6)\" d=\"M 977.033125 348.478125 \nL 980.171875 348.478125 \nL 980.171875 260.564874 \nL 977.033125 260.564874 \nz\n\" style=\"fill:#f69824;\"/>\n   </g>\n   <g id=\"patch_155\">\n    <path clip-path=\"url(#p5e318613c6)\" d=\"M 983.310625 348.478125 \nL 986.449375 348.478125 \nL 986.449375 294.774585 \nL 983.310625 294.774585 \nz\n\" style=\"fill:#f69824;\"/>\n   </g>\n   <g id=\"patch_156\">\n    <path clip-path=\"url(#p5e318613c6)\" d=\"M 989.588125 348.478125 \nL 992.726875 348.478125 \nL 992.726875 294.774585 \nL 989.588125 294.774585 \nz\n\" style=\"fill:#f69824;\"/>\n   </g>\n   <g id=\"patch_157\">\n    <path clip-path=\"url(#p5e318613c6)\" d=\"M 995.865625 348.478125 \nL 999.004375 348.478125 \nL 999.004375 295.211549 \nL 995.865625 295.211549 \nz\n\" style=\"fill:#f69824;\"/>\n   </g>\n   <g id=\"patch_158\">\n    <path clip-path=\"url(#p5e318613c6)\" d=\"M 1002.143125 348.478125 \nL 1005.281875 348.478125 \nL 1005.281875 295.211549 \nL 1002.143125 295.211549 \nz\n\" style=\"fill:#f69824;\"/>\n   </g>\n   <g id=\"patch_159\">\n    <path clip-path=\"url(#p5e318613c6)\" d=\"M 1008.420625 348.478125 \nL 1011.559375 348.478125 \nL 1011.559375 294.246886 \nL 1008.420625 294.246886 \nz\n\" style=\"fill:#f69824;\"/>\n   </g>\n   <g id=\"patch_160\">\n    <path clip-path=\"url(#p5e318613c6)\" d=\"M 1014.698125 348.478125 \nL 1017.836875 348.478125 \nL 1017.836875 294.246886 \nL 1014.698125 294.246886 \nz\n\" style=\"fill:#f69824;\"/>\n   </g>\n   <g id=\"patch_161\">\n    <path clip-path=\"url(#p5e318613c6)\" d=\"M 1020.975625 348.478125 \nL 1024.114375 348.478125 \nL 1024.114375 308.458947 \nL 1020.975625 308.458947 \nz\n\" style=\"fill:#f69824;\"/>\n   </g>\n   <g id=\"patch_162\">\n    <path clip-path=\"url(#p5e318613c6)\" d=\"M 1027.253125 348.478125 \nL 1030.391875 348.478125 \nL 1030.391875 308.458947 \nL 1027.253125 308.458947 \nz\n\" style=\"fill:#f69824;\"/>\n   </g>\n   <g id=\"matplotlib.axis_1\">\n    <g id=\"xtick_1\">\n     <g id=\"line2d_1\">\n      <defs>\n       <path d=\"M 0 0 \nL 0 3.5 \n\" id=\"mbb5199c8e6\" style=\"stroke:#000000;stroke-width:0.8;\"/>\n      </defs>\n      <g>\n       <use style=\"stroke:#000000;stroke-width:0.8;\" x=\"30.7\" xlink:href=\"#mbb5199c8e6\" y=\"348.478125\"/>\n      </g>\n     </g>\n     <g id=\"text_1\">\n      <!-- age -->\n      <g transform=\"translate(32.631563 368.518906)rotate(-90)scale(0.07 -0.07)\">\n       <defs>\n        <path d=\"M 34.28125 27.484375 \nQ 23.390625 27.484375 19.1875 25 \nQ 14.984375 22.515625 14.984375 16.5 \nQ 14.984375 11.71875 18.140625 8.90625 \nQ 21.296875 6.109375 26.703125 6.109375 \nQ 34.1875 6.109375 38.703125 11.40625 \nQ 43.21875 16.703125 43.21875 25.484375 \nL 43.21875 27.484375 \nz\nM 52.203125 31.203125 \nL 52.203125 0 \nL 43.21875 0 \nL 43.21875 8.296875 \nQ 40.140625 3.328125 35.546875 0.953125 \nQ 30.953125 -1.421875 24.3125 -1.421875 \nQ 15.921875 -1.421875 10.953125 3.296875 \nQ 6 8.015625 6 15.921875 \nQ 6 25.140625 12.171875 29.828125 \nQ 18.359375 34.515625 30.609375 34.515625 \nL 43.21875 34.515625 \nL 43.21875 35.40625 \nQ 43.21875 41.609375 39.140625 45 \nQ 35.0625 48.390625 27.6875 48.390625 \nQ 23 48.390625 18.546875 47.265625 \nQ 14.109375 46.140625 10.015625 43.890625 \nL 10.015625 52.203125 \nQ 14.9375 54.109375 19.578125 55.046875 \nQ 24.21875 56 28.609375 56 \nQ 40.484375 56 46.34375 49.84375 \nQ 52.203125 43.703125 52.203125 31.203125 \nz\n\" id=\"DejaVuSans-97\"/>\n        <path d=\"M 45.40625 27.984375 \nQ 45.40625 37.75 41.375 43.109375 \nQ 37.359375 48.484375 30.078125 48.484375 \nQ 22.859375 48.484375 18.828125 43.109375 \nQ 14.796875 37.75 14.796875 27.984375 \nQ 14.796875 18.265625 18.828125 12.890625 \nQ 22.859375 7.515625 30.078125 7.515625 \nQ 37.359375 7.515625 41.375 12.890625 \nQ 45.40625 18.265625 45.40625 27.984375 \nz\nM 54.390625 6.78125 \nQ 54.390625 -7.171875 48.1875 -13.984375 \nQ 42 -20.796875 29.203125 -20.796875 \nQ 24.46875 -20.796875 20.265625 -20.09375 \nQ 16.0625 -19.390625 12.109375 -17.921875 \nL 12.109375 -9.1875 \nQ 16.0625 -11.328125 19.921875 -12.34375 \nQ 23.78125 -13.375 27.78125 -13.375 \nQ 36.625 -13.375 41.015625 -8.765625 \nQ 45.40625 -4.15625 45.40625 5.171875 \nL 45.40625 9.625 \nQ 42.625 4.78125 38.28125 2.390625 \nQ 33.9375 0 27.875 0 \nQ 17.828125 0 11.671875 7.65625 \nQ 5.515625 15.328125 5.515625 27.984375 \nQ 5.515625 40.671875 11.671875 48.328125 \nQ 17.828125 56 27.875 56 \nQ 33.9375 56 38.28125 53.609375 \nQ 42.625 51.21875 45.40625 46.390625 \nL 45.40625 54.6875 \nL 54.390625 54.6875 \nz\n\" id=\"DejaVuSans-103\"/>\n        <path d=\"M 56.203125 29.59375 \nL 56.203125 25.203125 \nL 14.890625 25.203125 \nQ 15.484375 15.921875 20.484375 11.0625 \nQ 25.484375 6.203125 34.421875 6.203125 \nQ 39.59375 6.203125 44.453125 7.46875 \nQ 49.3125 8.734375 54.109375 11.28125 \nL 54.109375 2.78125 \nQ 49.265625 0.734375 44.1875 -0.34375 \nQ 39.109375 -1.421875 33.890625 -1.421875 \nQ 20.796875 -1.421875 13.15625 6.1875 \nQ 5.515625 13.8125 5.515625 26.8125 \nQ 5.515625 40.234375 12.765625 48.109375 \nQ 20.015625 56 32.328125 56 \nQ 43.359375 56 49.78125 48.890625 \nQ 56.203125 41.796875 56.203125 29.59375 \nz\nM 47.21875 32.234375 \nQ 47.125 39.59375 43.09375 43.984375 \nQ 39.0625 48.390625 32.421875 48.390625 \nQ 24.90625 48.390625 20.390625 44.140625 \nQ 15.875 39.890625 15.1875 32.171875 \nz\n\" id=\"DejaVuSans-101\"/>\n       </defs>\n       <use xlink:href=\"#DejaVuSans-97\"/>\n       <use x=\"61.279297\" xlink:href=\"#DejaVuSans-103\"/>\n       <use x=\"124.755859\" xlink:href=\"#DejaVuSans-101\"/>\n      </g>\n     </g>\n    </g>\n    <g id=\"xtick_2\">\n     <g id=\"line2d_2\">\n      <g>\n       <use style=\"stroke:#000000;stroke-width:0.8;\" x=\"36.9775\" xlink:href=\"#mbb5199c8e6\" y=\"348.478125\"/>\n      </g>\n     </g>\n     <g id=\"text_2\">\n      <!-- bmi -->\n      <g transform=\"translate(38.909063 368.685156)rotate(-90)scale(0.07 -0.07)\">\n       <defs>\n        <path d=\"M 48.6875 27.296875 \nQ 48.6875 37.203125 44.609375 42.84375 \nQ 40.53125 48.484375 33.40625 48.484375 \nQ 26.265625 48.484375 22.1875 42.84375 \nQ 18.109375 37.203125 18.109375 27.296875 \nQ 18.109375 17.390625 22.1875 11.75 \nQ 26.265625 6.109375 33.40625 6.109375 \nQ 40.53125 6.109375 44.609375 11.75 \nQ 48.6875 17.390625 48.6875 27.296875 \nz\nM 18.109375 46.390625 \nQ 20.953125 51.265625 25.265625 53.625 \nQ 29.59375 56 35.59375 56 \nQ 45.5625 56 51.78125 48.09375 \nQ 58.015625 40.1875 58.015625 27.296875 \nQ 58.015625 14.40625 51.78125 6.484375 \nQ 45.5625 -1.421875 35.59375 -1.421875 \nQ 29.59375 -1.421875 25.265625 0.953125 \nQ 20.953125 3.328125 18.109375 8.203125 \nL 18.109375 0 \nL 9.078125 0 \nL 9.078125 75.984375 \nL 18.109375 75.984375 \nz\n\" id=\"DejaVuSans-98\"/>\n        <path d=\"M 52 44.1875 \nQ 55.375 50.25 60.0625 53.125 \nQ 64.75 56 71.09375 56 \nQ 79.640625 56 84.28125 50.015625 \nQ 88.921875 44.046875 88.921875 33.015625 \nL 88.921875 0 \nL 79.890625 0 \nL 79.890625 32.71875 \nQ 79.890625 40.578125 77.09375 44.375 \nQ 74.3125 48.1875 68.609375 48.1875 \nQ 61.625 48.1875 57.5625 43.546875 \nQ 53.515625 38.921875 53.515625 30.90625 \nL 53.515625 0 \nL 44.484375 0 \nL 44.484375 32.71875 \nQ 44.484375 40.625 41.703125 44.40625 \nQ 38.921875 48.1875 33.109375 48.1875 \nQ 26.21875 48.1875 22.15625 43.53125 \nQ 18.109375 38.875 18.109375 30.90625 \nL 18.109375 0 \nL 9.078125 0 \nL 9.078125 54.6875 \nL 18.109375 54.6875 \nL 18.109375 46.1875 \nQ 21.1875 51.21875 25.484375 53.609375 \nQ 29.78125 56 35.6875 56 \nQ 41.65625 56 45.828125 52.96875 \nQ 50 49.953125 52 44.1875 \nz\n\" id=\"DejaVuSans-109\"/>\n        <path d=\"M 9.421875 54.6875 \nL 18.40625 54.6875 \nL 18.40625 0 \nL 9.421875 0 \nz\nM 9.421875 75.984375 \nL 18.40625 75.984375 \nL 18.40625 64.59375 \nL 9.421875 64.59375 \nz\n\" id=\"DejaVuSans-105\"/>\n       </defs>\n       <use xlink:href=\"#DejaVuSans-98\"/>\n       <use x=\"63.476562\" xlink:href=\"#DejaVuSans-109\"/>\n       <use x=\"160.888672\" xlink:href=\"#DejaVuSans-105\"/>\n      </g>\n     </g>\n    </g>\n    <g id=\"xtick_3\">\n     <g id=\"line2d_3\">\n      <g>\n       <use style=\"stroke:#000000;stroke-width:0.8;\" x=\"43.255\" xlink:href=\"#mbb5199c8e6\" y=\"348.478125\"/>\n      </g>\n     </g>\n     <g id=\"text_3\">\n      <!-- ethnicity -->\n      <g transform=\"translate(45.186563 386.027656)rotate(-90)scale(0.07 -0.07)\">\n       <defs>\n        <path d=\"M 18.3125 70.21875 \nL 18.3125 54.6875 \nL 36.8125 54.6875 \nL 36.8125 47.703125 \nL 18.3125 47.703125 \nL 18.3125 18.015625 \nQ 18.3125 11.328125 20.140625 9.421875 \nQ 21.96875 7.515625 27.59375 7.515625 \nL 36.8125 7.515625 \nL 36.8125 0 \nL 27.59375 0 \nQ 17.1875 0 13.234375 3.875 \nQ 9.28125 7.765625 9.28125 18.015625 \nL 9.28125 47.703125 \nL 2.6875 47.703125 \nL 2.6875 54.6875 \nL 9.28125 54.6875 \nL 9.28125 70.21875 \nz\n\" id=\"DejaVuSans-116\"/>\n        <path d=\"M 54.890625 33.015625 \nL 54.890625 0 \nL 45.90625 0 \nL 45.90625 32.71875 \nQ 45.90625 40.484375 42.875 44.328125 \nQ 39.84375 48.1875 33.796875 48.1875 \nQ 26.515625 48.1875 22.3125 43.546875 \nQ 18.109375 38.921875 18.109375 30.90625 \nL 18.109375 0 \nL 9.078125 0 \nL 9.078125 75.984375 \nL 18.109375 75.984375 \nL 18.109375 46.1875 \nQ 21.34375 51.125 25.703125 53.5625 \nQ 30.078125 56 35.796875 56 \nQ 45.21875 56 50.046875 50.171875 \nQ 54.890625 44.34375 54.890625 33.015625 \nz\n\" id=\"DejaVuSans-104\"/>\n        <path d=\"M 54.890625 33.015625 \nL 54.890625 0 \nL 45.90625 0 \nL 45.90625 32.71875 \nQ 45.90625 40.484375 42.875 44.328125 \nQ 39.84375 48.1875 33.796875 48.1875 \nQ 26.515625 48.1875 22.3125 43.546875 \nQ 18.109375 38.921875 18.109375 30.90625 \nL 18.109375 0 \nL 9.078125 0 \nL 9.078125 54.6875 \nL 18.109375 54.6875 \nL 18.109375 46.1875 \nQ 21.34375 51.125 25.703125 53.5625 \nQ 30.078125 56 35.796875 56 \nQ 45.21875 56 50.046875 50.171875 \nQ 54.890625 44.34375 54.890625 33.015625 \nz\n\" id=\"DejaVuSans-110\"/>\n        <path d=\"M 48.78125 52.59375 \nL 48.78125 44.1875 \nQ 44.96875 46.296875 41.140625 47.34375 \nQ 37.3125 48.390625 33.40625 48.390625 \nQ 24.65625 48.390625 19.8125 42.84375 \nQ 14.984375 37.3125 14.984375 27.296875 \nQ 14.984375 17.28125 19.8125 11.734375 \nQ 24.65625 6.203125 33.40625 6.203125 \nQ 37.3125 6.203125 41.140625 7.25 \nQ 44.96875 8.296875 48.78125 10.40625 \nL 48.78125 2.09375 \nQ 45.015625 0.34375 40.984375 -0.53125 \nQ 36.96875 -1.421875 32.421875 -1.421875 \nQ 20.0625 -1.421875 12.78125 6.34375 \nQ 5.515625 14.109375 5.515625 27.296875 \nQ 5.515625 40.671875 12.859375 48.328125 \nQ 20.21875 56 33.015625 56 \nQ 37.15625 56 41.109375 55.140625 \nQ 45.0625 54.296875 48.78125 52.59375 \nz\n\" id=\"DejaVuSans-99\"/>\n        <path d=\"M 32.171875 -5.078125 \nQ 28.375 -14.84375 24.75 -17.8125 \nQ 21.140625 -20.796875 15.09375 -20.796875 \nL 7.90625 -20.796875 \nL 7.90625 -13.28125 \nL 13.1875 -13.28125 \nQ 16.890625 -13.28125 18.9375 -11.515625 \nQ 21 -9.765625 23.484375 -3.21875 \nL 25.09375 0.875 \nL 2.984375 54.6875 \nL 12.5 54.6875 \nL 29.59375 11.921875 \nL 46.6875 54.6875 \nL 56.203125 54.6875 \nz\n\" id=\"DejaVuSans-121\"/>\n       </defs>\n       <use xlink:href=\"#DejaVuSans-101\"/>\n       <use x=\"61.523438\" xlink:href=\"#DejaVuSans-116\"/>\n       <use x=\"100.732422\" xlink:href=\"#DejaVuSans-104\"/>\n       <use x=\"164.111328\" xlink:href=\"#DejaVuSans-110\"/>\n       <use x=\"227.490234\" xlink:href=\"#DejaVuSans-105\"/>\n       <use x=\"255.273438\" xlink:href=\"#DejaVuSans-99\"/>\n       <use x=\"310.253906\" xlink:href=\"#DejaVuSans-105\"/>\n       <use x=\"338.037109\" xlink:href=\"#DejaVuSans-116\"/>\n       <use x=\"377.246094\" xlink:href=\"#DejaVuSans-121\"/>\n      </g>\n     </g>\n    </g>\n    <g id=\"xtick_4\">\n     <g id=\"line2d_4\">\n      <g>\n       <use style=\"stroke:#000000;stroke-width:0.8;\" x=\"49.5325\" xlink:href=\"#mbb5199c8e6\" y=\"348.478125\"/>\n      </g>\n     </g>\n     <g id=\"text_4\">\n      <!-- gender -->\n      <g transform=\"translate(51.464063 380.294219)rotate(-90)scale(0.07 -0.07)\">\n       <defs>\n        <path d=\"M 45.40625 46.390625 \nL 45.40625 75.984375 \nL 54.390625 75.984375 \nL 54.390625 0 \nL 45.40625 0 \nL 45.40625 8.203125 \nQ 42.578125 3.328125 38.25 0.953125 \nQ 33.9375 -1.421875 27.875 -1.421875 \nQ 17.96875 -1.421875 11.734375 6.484375 \nQ 5.515625 14.40625 5.515625 27.296875 \nQ 5.515625 40.1875 11.734375 48.09375 \nQ 17.96875 56 27.875 56 \nQ 33.9375 56 38.25 53.625 \nQ 42.578125 51.265625 45.40625 46.390625 \nz\nM 14.796875 27.296875 \nQ 14.796875 17.390625 18.875 11.75 \nQ 22.953125 6.109375 30.078125 6.109375 \nQ 37.203125 6.109375 41.296875 11.75 \nQ 45.40625 17.390625 45.40625 27.296875 \nQ 45.40625 37.203125 41.296875 42.84375 \nQ 37.203125 48.484375 30.078125 48.484375 \nQ 22.953125 48.484375 18.875 42.84375 \nQ 14.796875 37.203125 14.796875 27.296875 \nz\n\" id=\"DejaVuSans-100\"/>\n        <path d=\"M 41.109375 46.296875 \nQ 39.59375 47.171875 37.8125 47.578125 \nQ 36.03125 48 33.890625 48 \nQ 26.265625 48 22.1875 43.046875 \nQ 18.109375 38.09375 18.109375 28.8125 \nL 18.109375 0 \nL 9.078125 0 \nL 9.078125 54.6875 \nL 18.109375 54.6875 \nL 18.109375 46.1875 \nQ 20.953125 51.171875 25.484375 53.578125 \nQ 30.03125 56 36.53125 56 \nQ 37.453125 56 38.578125 55.875 \nQ 39.703125 55.765625 41.0625 55.515625 \nz\n\" id=\"DejaVuSans-114\"/>\n       </defs>\n       <use xlink:href=\"#DejaVuSans-103\"/>\n       <use x=\"63.476562\" xlink:href=\"#DejaVuSans-101\"/>\n       <use x=\"125\" xlink:href=\"#DejaVuSans-110\"/>\n       <use x=\"188.378906\" xlink:href=\"#DejaVuSans-100\"/>\n       <use x=\"251.855469\" xlink:href=\"#DejaVuSans-101\"/>\n       <use x=\"313.378906\" xlink:href=\"#DejaVuSans-114\"/>\n      </g>\n     </g>\n    </g>\n    <g id=\"xtick_5\">\n     <g id=\"line2d_5\">\n      <g>\n       <use style=\"stroke:#000000;stroke-width:0.8;\" x=\"55.81\" xlink:href=\"#mbb5199c8e6\" y=\"348.478125\"/>\n      </g>\n     </g>\n     <g id=\"text_5\">\n      <!-- height -->\n      <g transform=\"translate(57.741563 377.790625)rotate(-90)scale(0.07 -0.07)\">\n       <use xlink:href=\"#DejaVuSans-104\"/>\n       <use x=\"63.378906\" xlink:href=\"#DejaVuSans-101\"/>\n       <use x=\"124.902344\" xlink:href=\"#DejaVuSans-105\"/>\n       <use x=\"152.685547\" xlink:href=\"#DejaVuSans-103\"/>\n       <use x=\"216.162109\" xlink:href=\"#DejaVuSans-104\"/>\n       <use x=\"279.541016\" xlink:href=\"#DejaVuSans-116\"/>\n      </g>\n     </g>\n    </g>\n    <g id=\"xtick_6\">\n     <g id=\"line2d_6\">\n      <g>\n       <use style=\"stroke:#000000;stroke-width:0.8;\" x=\"62.0875\" xlink:href=\"#mbb5199c8e6\" y=\"348.478125\"/>\n      </g>\n     </g>\n     <g id=\"text_6\">\n      <!-- hospital_admit_source -->\n      <g transform=\"translate(63.921719 433.694375)rotate(-90)scale(0.07 -0.07)\">\n       <defs>\n        <path d=\"M 30.609375 48.390625 \nQ 23.390625 48.390625 19.1875 42.75 \nQ 14.984375 37.109375 14.984375 27.296875 \nQ 14.984375 17.484375 19.15625 11.84375 \nQ 23.34375 6.203125 30.609375 6.203125 \nQ 37.796875 6.203125 41.984375 11.859375 \nQ 46.1875 17.53125 46.1875 27.296875 \nQ 46.1875 37.015625 41.984375 42.703125 \nQ 37.796875 48.390625 30.609375 48.390625 \nz\nM 30.609375 56 \nQ 42.328125 56 49.015625 48.375 \nQ 55.71875 40.765625 55.71875 27.296875 \nQ 55.71875 13.875 49.015625 6.21875 \nQ 42.328125 -1.421875 30.609375 -1.421875 \nQ 18.84375 -1.421875 12.171875 6.21875 \nQ 5.515625 13.875 5.515625 27.296875 \nQ 5.515625 40.765625 12.171875 48.375 \nQ 18.84375 56 30.609375 56 \nz\n\" id=\"DejaVuSans-111\"/>\n        <path d=\"M 44.28125 53.078125 \nL 44.28125 44.578125 \nQ 40.484375 46.53125 36.375 47.5 \nQ 32.28125 48.484375 27.875 48.484375 \nQ 21.1875 48.484375 17.84375 46.4375 \nQ 14.5 44.390625 14.5 40.28125 \nQ 14.5 37.15625 16.890625 35.375 \nQ 19.28125 33.59375 26.515625 31.984375 \nL 29.59375 31.296875 \nQ 39.15625 29.25 43.1875 25.515625 \nQ 47.21875 21.78125 47.21875 15.09375 \nQ 47.21875 7.46875 41.1875 3.015625 \nQ 35.15625 -1.421875 24.609375 -1.421875 \nQ 20.21875 -1.421875 15.453125 -0.5625 \nQ 10.6875 0.296875 5.421875 2 \nL 5.421875 11.28125 \nQ 10.40625 8.6875 15.234375 7.390625 \nQ 20.0625 6.109375 24.8125 6.109375 \nQ 31.15625 6.109375 34.5625 8.28125 \nQ 37.984375 10.453125 37.984375 14.40625 \nQ 37.984375 18.0625 35.515625 20.015625 \nQ 33.0625 21.96875 24.703125 23.78125 \nL 21.578125 24.515625 \nQ 13.234375 26.265625 9.515625 29.90625 \nQ 5.8125 33.546875 5.8125 39.890625 \nQ 5.8125 47.609375 11.28125 51.796875 \nQ 16.75 56 26.8125 56 \nQ 31.78125 56 36.171875 55.265625 \nQ 40.578125 54.546875 44.28125 53.078125 \nz\n\" id=\"DejaVuSans-115\"/>\n        <path d=\"M 18.109375 8.203125 \nL 18.109375 -20.796875 \nL 9.078125 -20.796875 \nL 9.078125 54.6875 \nL 18.109375 54.6875 \nL 18.109375 46.390625 \nQ 20.953125 51.265625 25.265625 53.625 \nQ 29.59375 56 35.59375 56 \nQ 45.5625 56 51.78125 48.09375 \nQ 58.015625 40.1875 58.015625 27.296875 \nQ 58.015625 14.40625 51.78125 6.484375 \nQ 45.5625 -1.421875 35.59375 -1.421875 \nQ 29.59375 -1.421875 25.265625 0.953125 \nQ 20.953125 3.328125 18.109375 8.203125 \nz\nM 48.6875 27.296875 \nQ 48.6875 37.203125 44.609375 42.84375 \nQ 40.53125 48.484375 33.40625 48.484375 \nQ 26.265625 48.484375 22.1875 42.84375 \nQ 18.109375 37.203125 18.109375 27.296875 \nQ 18.109375 17.390625 22.1875 11.75 \nQ 26.265625 6.109375 33.40625 6.109375 \nQ 40.53125 6.109375 44.609375 11.75 \nQ 48.6875 17.390625 48.6875 27.296875 \nz\n\" id=\"DejaVuSans-112\"/>\n        <path d=\"M 9.421875 75.984375 \nL 18.40625 75.984375 \nL 18.40625 0 \nL 9.421875 0 \nz\n\" id=\"DejaVuSans-108\"/>\n        <path d=\"M 50.984375 -16.609375 \nL 50.984375 -23.578125 \nL -0.984375 -23.578125 \nL -0.984375 -16.609375 \nz\n\" id=\"DejaVuSans-95\"/>\n        <path d=\"M 8.5 21.578125 \nL 8.5 54.6875 \nL 17.484375 54.6875 \nL 17.484375 21.921875 \nQ 17.484375 14.15625 20.5 10.265625 \nQ 23.53125 6.390625 29.59375 6.390625 \nQ 36.859375 6.390625 41.078125 11.03125 \nQ 45.3125 15.671875 45.3125 23.6875 \nL 45.3125 54.6875 \nL 54.296875 54.6875 \nL 54.296875 0 \nL 45.3125 0 \nL 45.3125 8.40625 \nQ 42.046875 3.421875 37.71875 1 \nQ 33.40625 -1.421875 27.6875 -1.421875 \nQ 18.265625 -1.421875 13.375 4.4375 \nQ 8.5 10.296875 8.5 21.578125 \nz\nM 31.109375 56 \nz\n\" id=\"DejaVuSans-117\"/>\n       </defs>\n       <use xlink:href=\"#DejaVuSans-104\"/>\n       <use x=\"63.378906\" xlink:href=\"#DejaVuSans-111\"/>\n       <use x=\"124.560547\" xlink:href=\"#DejaVuSans-115\"/>\n       <use x=\"176.660156\" xlink:href=\"#DejaVuSans-112\"/>\n       <use x=\"240.136719\" xlink:href=\"#DejaVuSans-105\"/>\n       <use x=\"267.919922\" xlink:href=\"#DejaVuSans-116\"/>\n       <use x=\"307.128906\" xlink:href=\"#DejaVuSans-97\"/>\n       <use x=\"368.408203\" xlink:href=\"#DejaVuSans-108\"/>\n       <use x=\"396.191406\" xlink:href=\"#DejaVuSans-95\"/>\n       <use x=\"446.191406\" xlink:href=\"#DejaVuSans-97\"/>\n       <use x=\"507.470703\" xlink:href=\"#DejaVuSans-100\"/>\n       <use x=\"570.947266\" xlink:href=\"#DejaVuSans-109\"/>\n       <use x=\"668.359375\" xlink:href=\"#DejaVuSans-105\"/>\n       <use x=\"696.142578\" xlink:href=\"#DejaVuSans-116\"/>\n       <use x=\"735.351562\" xlink:href=\"#DejaVuSans-95\"/>\n       <use x=\"785.351562\" xlink:href=\"#DejaVuSans-115\"/>\n       <use x=\"837.451172\" xlink:href=\"#DejaVuSans-111\"/>\n       <use x=\"898.632812\" xlink:href=\"#DejaVuSans-117\"/>\n       <use x=\"962.011719\" xlink:href=\"#DejaVuSans-114\"/>\n       <use x=\"1000.875\" xlink:href=\"#DejaVuSans-99\"/>\n       <use x=\"1055.855469\" xlink:href=\"#DejaVuSans-101\"/>\n      </g>\n     </g>\n    </g>\n    <g id=\"xtick_7\">\n     <g id=\"line2d_7\">\n      <g>\n       <use style=\"stroke:#000000;stroke-width:0.8;\" x=\"68.365\" xlink:href=\"#mbb5199c8e6\" y=\"348.478125\"/>\n      </g>\n     </g>\n     <g id=\"text_7\">\n      <!-- icu_admit_source -->\n      <g transform=\"translate(70.199219 416.191094)rotate(-90)scale(0.07 -0.07)\">\n       <use xlink:href=\"#DejaVuSans-105\"/>\n       <use x=\"27.783203\" xlink:href=\"#DejaVuSans-99\"/>\n       <use x=\"82.763672\" xlink:href=\"#DejaVuSans-117\"/>\n       <use x=\"146.142578\" xlink:href=\"#DejaVuSans-95\"/>\n       <use x=\"196.142578\" xlink:href=\"#DejaVuSans-97\"/>\n       <use x=\"257.421875\" xlink:href=\"#DejaVuSans-100\"/>\n       <use x=\"320.898438\" xlink:href=\"#DejaVuSans-109\"/>\n       <use x=\"418.310547\" xlink:href=\"#DejaVuSans-105\"/>\n       <use x=\"446.09375\" xlink:href=\"#DejaVuSans-116\"/>\n       <use x=\"485.302734\" xlink:href=\"#DejaVuSans-95\"/>\n       <use x=\"535.302734\" xlink:href=\"#DejaVuSans-115\"/>\n       <use x=\"587.402344\" xlink:href=\"#DejaVuSans-111\"/>\n       <use x=\"648.583984\" xlink:href=\"#DejaVuSans-117\"/>\n       <use x=\"711.962891\" xlink:href=\"#DejaVuSans-114\"/>\n       <use x=\"750.826172\" xlink:href=\"#DejaVuSans-99\"/>\n       <use x=\"805.806641\" xlink:href=\"#DejaVuSans-101\"/>\n      </g>\n     </g>\n    </g>\n    <g id=\"xtick_8\">\n     <g id=\"line2d_8\">\n      <g>\n       <use style=\"stroke:#000000;stroke-width:0.8;\" x=\"74.6425\" xlink:href=\"#mbb5199c8e6\" y=\"348.478125\"/>\n      </g>\n     </g>\n     <g id=\"text_8\">\n      <!-- weight -->\n      <g transform=\"translate(76.574063 379.079062)rotate(-90)scale(0.07 -0.07)\">\n       <defs>\n        <path d=\"M 4.203125 54.6875 \nL 13.1875 54.6875 \nL 24.421875 12.015625 \nL 35.59375 54.6875 \nL 46.1875 54.6875 \nL 57.421875 12.015625 \nL 68.609375 54.6875 \nL 77.59375 54.6875 \nL 63.28125 0 \nL 52.6875 0 \nL 40.921875 44.828125 \nL 29.109375 0 \nL 18.5 0 \nz\n\" id=\"DejaVuSans-119\"/>\n       </defs>\n       <use xlink:href=\"#DejaVuSans-119\"/>\n       <use x=\"81.787109\" xlink:href=\"#DejaVuSans-101\"/>\n       <use x=\"143.310547\" xlink:href=\"#DejaVuSans-105\"/>\n       <use x=\"171.09375\" xlink:href=\"#DejaVuSans-103\"/>\n       <use x=\"234.570312\" xlink:href=\"#DejaVuSans-104\"/>\n       <use x=\"297.949219\" xlink:href=\"#DejaVuSans-116\"/>\n      </g>\n     </g>\n    </g>\n    <g id=\"xtick_9\">\n     <g id=\"line2d_9\">\n      <g>\n       <use style=\"stroke:#000000;stroke-width:0.8;\" x=\"80.92\" xlink:href=\"#mbb5199c8e6\" y=\"348.478125\"/>\n      </g>\n     </g>\n     <g id=\"text_9\">\n      <!-- albumin_apache -->\n      <g transform=\"translate(82.754219 412.907656)rotate(-90)scale(0.07 -0.07)\">\n       <use xlink:href=\"#DejaVuSans-97\"/>\n       <use x=\"61.279297\" xlink:href=\"#DejaVuSans-108\"/>\n       <use x=\"89.0625\" xlink:href=\"#DejaVuSans-98\"/>\n       <use x=\"152.539062\" xlink:href=\"#DejaVuSans-117\"/>\n       <use x=\"215.917969\" xlink:href=\"#DejaVuSans-109\"/>\n       <use x=\"313.330078\" xlink:href=\"#DejaVuSans-105\"/>\n       <use x=\"341.113281\" xlink:href=\"#DejaVuSans-110\"/>\n       <use x=\"404.492188\" xlink:href=\"#DejaVuSans-95\"/>\n       <use x=\"454.492188\" xlink:href=\"#DejaVuSans-97\"/>\n       <use x=\"515.771484\" xlink:href=\"#DejaVuSans-112\"/>\n       <use x=\"579.248047\" xlink:href=\"#DejaVuSans-97\"/>\n       <use x=\"640.527344\" xlink:href=\"#DejaVuSans-99\"/>\n       <use x=\"695.507812\" xlink:href=\"#DejaVuSans-104\"/>\n       <use x=\"758.886719\" xlink:href=\"#DejaVuSans-101\"/>\n      </g>\n     </g>\n    </g>\n    <g id=\"xtick_10\">\n     <g id=\"line2d_10\">\n      <g>\n       <use style=\"stroke:#000000;stroke-width:0.8;\" x=\"87.1975\" xlink:href=\"#mbb5199c8e6\" y=\"348.478125\"/>\n      </g>\n     </g>\n     <g id=\"text_10\">\n      <!-- apache_2_diagnosis -->\n      <g transform=\"translate(89.031719 425.626875)rotate(-90)scale(0.07 -0.07)\">\n       <defs>\n        <path d=\"M 19.1875 8.296875 \nL 53.609375 8.296875 \nL 53.609375 0 \nL 7.328125 0 \nL 7.328125 8.296875 \nQ 12.9375 14.109375 22.625 23.890625 \nQ 32.328125 33.6875 34.8125 36.53125 \nQ 39.546875 41.84375 41.421875 45.53125 \nQ 43.3125 49.21875 43.3125 52.78125 \nQ 43.3125 58.59375 39.234375 62.25 \nQ 35.15625 65.921875 28.609375 65.921875 \nQ 23.96875 65.921875 18.8125 64.3125 \nQ 13.671875 62.703125 7.8125 59.421875 \nL 7.8125 69.390625 \nQ 13.765625 71.78125 18.9375 73 \nQ 24.125 74.21875 28.421875 74.21875 \nQ 39.75 74.21875 46.484375 68.546875 \nQ 53.21875 62.890625 53.21875 53.421875 \nQ 53.21875 48.921875 51.53125 44.890625 \nQ 49.859375 40.875 45.40625 35.40625 \nQ 44.1875 33.984375 37.640625 27.21875 \nQ 31.109375 20.453125 19.1875 8.296875 \nz\n\" id=\"DejaVuSans-50\"/>\n       </defs>\n       <use xlink:href=\"#DejaVuSans-97\"/>\n       <use x=\"61.279297\" xlink:href=\"#DejaVuSans-112\"/>\n       <use x=\"124.755859\" xlink:href=\"#DejaVuSans-97\"/>\n       <use x=\"186.035156\" xlink:href=\"#DejaVuSans-99\"/>\n       <use x=\"241.015625\" xlink:href=\"#DejaVuSans-104\"/>\n       <use x=\"304.394531\" xlink:href=\"#DejaVuSans-101\"/>\n       <use x=\"365.917969\" xlink:href=\"#DejaVuSans-95\"/>\n       <use x=\"415.917969\" xlink:href=\"#DejaVuSans-50\"/>\n       <use x=\"479.541016\" xlink:href=\"#DejaVuSans-95\"/>\n       <use x=\"529.541016\" xlink:href=\"#DejaVuSans-100\"/>\n       <use x=\"593.017578\" xlink:href=\"#DejaVuSans-105\"/>\n       <use x=\"620.800781\" xlink:href=\"#DejaVuSans-97\"/>\n       <use x=\"682.080078\" xlink:href=\"#DejaVuSans-103\"/>\n       <use x=\"745.556641\" xlink:href=\"#DejaVuSans-110\"/>\n       <use x=\"808.935547\" xlink:href=\"#DejaVuSans-111\"/>\n       <use x=\"870.117188\" xlink:href=\"#DejaVuSans-115\"/>\n       <use x=\"922.216797\" xlink:href=\"#DejaVuSans-105\"/>\n       <use x=\"950\" xlink:href=\"#DejaVuSans-115\"/>\n      </g>\n     </g>\n    </g>\n    <g id=\"xtick_11\">\n     <g id=\"line2d_11\">\n      <g>\n       <use style=\"stroke:#000000;stroke-width:0.8;\" x=\"93.475\" xlink:href=\"#mbb5199c8e6\" y=\"348.478125\"/>\n      </g>\n     </g>\n     <g id=\"text_11\">\n      <!-- apache_3j_diagnosis -->\n      <g transform=\"translate(95.309219 427.571562)rotate(-90)scale(0.07 -0.07)\">\n       <defs>\n        <path d=\"M 40.578125 39.3125 \nQ 47.65625 37.796875 51.625 33 \nQ 55.609375 28.21875 55.609375 21.1875 \nQ 55.609375 10.40625 48.1875 4.484375 \nQ 40.765625 -1.421875 27.09375 -1.421875 \nQ 22.515625 -1.421875 17.65625 -0.515625 \nQ 12.796875 0.390625 7.625 2.203125 \nL 7.625 11.71875 \nQ 11.71875 9.328125 16.59375 8.109375 \nQ 21.484375 6.890625 26.8125 6.890625 \nQ 36.078125 6.890625 40.9375 10.546875 \nQ 45.796875 14.203125 45.796875 21.1875 \nQ 45.796875 27.640625 41.28125 31.265625 \nQ 36.765625 34.90625 28.71875 34.90625 \nL 20.21875 34.90625 \nL 20.21875 43.015625 \nL 29.109375 43.015625 \nQ 36.375 43.015625 40.234375 45.921875 \nQ 44.09375 48.828125 44.09375 54.296875 \nQ 44.09375 59.90625 40.109375 62.90625 \nQ 36.140625 65.921875 28.71875 65.921875 \nQ 24.65625 65.921875 20.015625 65.03125 \nQ 15.375 64.15625 9.8125 62.3125 \nL 9.8125 71.09375 \nQ 15.4375 72.65625 20.34375 73.4375 \nQ 25.25 74.21875 29.59375 74.21875 \nQ 40.828125 74.21875 47.359375 69.109375 \nQ 53.90625 64.015625 53.90625 55.328125 \nQ 53.90625 49.265625 50.4375 45.09375 \nQ 46.96875 40.921875 40.578125 39.3125 \nz\n\" id=\"DejaVuSans-51\"/>\n        <path d=\"M 9.421875 54.6875 \nL 18.40625 54.6875 \nL 18.40625 -0.984375 \nQ 18.40625 -11.421875 14.421875 -16.109375 \nQ 10.453125 -20.796875 1.609375 -20.796875 \nL -1.8125 -20.796875 \nL -1.8125 -13.1875 \nL 0.59375 -13.1875 \nQ 5.71875 -13.1875 7.5625 -10.8125 \nQ 9.421875 -8.453125 9.421875 -0.984375 \nz\nM 9.421875 75.984375 \nL 18.40625 75.984375 \nL 18.40625 64.59375 \nL 9.421875 64.59375 \nz\n\" id=\"DejaVuSans-106\"/>\n       </defs>\n       <use xlink:href=\"#DejaVuSans-97\"/>\n       <use x=\"61.279297\" xlink:href=\"#DejaVuSans-112\"/>\n       <use x=\"124.755859\" xlink:href=\"#DejaVuSans-97\"/>\n       <use x=\"186.035156\" xlink:href=\"#DejaVuSans-99\"/>\n       <use x=\"241.015625\" xlink:href=\"#DejaVuSans-104\"/>\n       <use x=\"304.394531\" xlink:href=\"#DejaVuSans-101\"/>\n       <use x=\"365.917969\" xlink:href=\"#DejaVuSans-95\"/>\n       <use x=\"415.917969\" xlink:href=\"#DejaVuSans-51\"/>\n       <use x=\"479.541016\" xlink:href=\"#DejaVuSans-106\"/>\n       <use x=\"507.324219\" xlink:href=\"#DejaVuSans-95\"/>\n       <use x=\"557.324219\" xlink:href=\"#DejaVuSans-100\"/>\n       <use x=\"620.800781\" xlink:href=\"#DejaVuSans-105\"/>\n       <use x=\"648.583984\" xlink:href=\"#DejaVuSans-97\"/>\n       <use x=\"709.863281\" xlink:href=\"#DejaVuSans-103\"/>\n       <use x=\"773.339844\" xlink:href=\"#DejaVuSans-110\"/>\n       <use x=\"836.71875\" xlink:href=\"#DejaVuSans-111\"/>\n       <use x=\"897.900391\" xlink:href=\"#DejaVuSans-115\"/>\n       <use x=\"950\" xlink:href=\"#DejaVuSans-105\"/>\n       <use x=\"977.783203\" xlink:href=\"#DejaVuSans-115\"/>\n      </g>\n     </g>\n    </g>\n    <g id=\"xtick_12\">\n     <g id=\"line2d_12\">\n      <g>\n       <use style=\"stroke:#000000;stroke-width:0.8;\" x=\"99.7525\" xlink:href=\"#mbb5199c8e6\" y=\"348.478125\"/>\n      </g>\n     </g>\n     <g id=\"text_12\">\n      <!-- bilirubin_apache -->\n      <g transform=\"translate(101.586719 413.010469)rotate(-90)scale(0.07 -0.07)\">\n       <use xlink:href=\"#DejaVuSans-98\"/>\n       <use x=\"63.476562\" xlink:href=\"#DejaVuSans-105\"/>\n       <use x=\"91.259766\" xlink:href=\"#DejaVuSans-108\"/>\n       <use x=\"119.042969\" xlink:href=\"#DejaVuSans-105\"/>\n       <use x=\"146.826172\" xlink:href=\"#DejaVuSans-114\"/>\n       <use x=\"187.939453\" xlink:href=\"#DejaVuSans-117\"/>\n       <use x=\"251.318359\" xlink:href=\"#DejaVuSans-98\"/>\n       <use x=\"314.794922\" xlink:href=\"#DejaVuSans-105\"/>\n       <use x=\"342.578125\" xlink:href=\"#DejaVuSans-110\"/>\n       <use x=\"405.957031\" xlink:href=\"#DejaVuSans-95\"/>\n       <use x=\"455.957031\" xlink:href=\"#DejaVuSans-97\"/>\n       <use x=\"517.236328\" xlink:href=\"#DejaVuSans-112\"/>\n       <use x=\"580.712891\" xlink:href=\"#DejaVuSans-97\"/>\n       <use x=\"641.992188\" xlink:href=\"#DejaVuSans-99\"/>\n       <use x=\"696.972656\" xlink:href=\"#DejaVuSans-104\"/>\n       <use x=\"760.351562\" xlink:href=\"#DejaVuSans-101\"/>\n      </g>\n     </g>\n    </g>\n    <g id=\"xtick_13\">\n     <g id=\"line2d_13\">\n      <g>\n       <use style=\"stroke:#000000;stroke-width:0.8;\" x=\"106.03\" xlink:href=\"#mbb5199c8e6\" y=\"348.478125\"/>\n      </g>\n     </g>\n     <g id=\"text_13\">\n      <!-- bun_apache -->\n      <g transform=\"translate(107.864219 397.910156)rotate(-90)scale(0.07 -0.07)\">\n       <use xlink:href=\"#DejaVuSans-98\"/>\n       <use x=\"63.476562\" xlink:href=\"#DejaVuSans-117\"/>\n       <use x=\"126.855469\" xlink:href=\"#DejaVuSans-110\"/>\n       <use x=\"190.234375\" xlink:href=\"#DejaVuSans-95\"/>\n       <use x=\"240.234375\" xlink:href=\"#DejaVuSans-97\"/>\n       <use x=\"301.513672\" xlink:href=\"#DejaVuSans-112\"/>\n       <use x=\"364.990234\" xlink:href=\"#DejaVuSans-97\"/>\n       <use x=\"426.269531\" xlink:href=\"#DejaVuSans-99\"/>\n       <use x=\"481.25\" xlink:href=\"#DejaVuSans-104\"/>\n       <use x=\"544.628906\" xlink:href=\"#DejaVuSans-101\"/>\n      </g>\n     </g>\n    </g>\n    <g id=\"xtick_14\">\n     <g id=\"line2d_14\">\n      <g>\n       <use style=\"stroke:#000000;stroke-width:0.8;\" x=\"112.3075\" xlink:href=\"#mbb5199c8e6\" y=\"348.478125\"/>\n      </g>\n     </g>\n     <g id=\"text_14\">\n      <!-- creatinine_apache -->\n      <g transform=\"translate(114.141719 419.572969)rotate(-90)scale(0.07 -0.07)\">\n       <use xlink:href=\"#DejaVuSans-99\"/>\n       <use x=\"54.980469\" xlink:href=\"#DejaVuSans-114\"/>\n       <use x=\"93.84375\" xlink:href=\"#DejaVuSans-101\"/>\n       <use x=\"155.367188\" xlink:href=\"#DejaVuSans-97\"/>\n       <use x=\"216.646484\" xlink:href=\"#DejaVuSans-116\"/>\n       <use x=\"255.855469\" xlink:href=\"#DejaVuSans-105\"/>\n       <use x=\"283.638672\" xlink:href=\"#DejaVuSans-110\"/>\n       <use x=\"347.017578\" xlink:href=\"#DejaVuSans-105\"/>\n       <use x=\"374.800781\" xlink:href=\"#DejaVuSans-110\"/>\n       <use x=\"438.179688\" xlink:href=\"#DejaVuSans-101\"/>\n       <use x=\"499.703125\" xlink:href=\"#DejaVuSans-95\"/>\n       <use x=\"549.703125\" xlink:href=\"#DejaVuSans-97\"/>\n       <use x=\"610.982422\" xlink:href=\"#DejaVuSans-112\"/>\n       <use x=\"674.458984\" xlink:href=\"#DejaVuSans-97\"/>\n       <use x=\"735.738281\" xlink:href=\"#DejaVuSans-99\"/>\n       <use x=\"790.71875\" xlink:href=\"#DejaVuSans-104\"/>\n       <use x=\"854.097656\" xlink:href=\"#DejaVuSans-101\"/>\n      </g>\n     </g>\n    </g>\n    <g id=\"xtick_15\">\n     <g id=\"line2d_15\">\n      <g>\n       <use style=\"stroke:#000000;stroke-width:0.8;\" x=\"118.585\" xlink:href=\"#mbb5199c8e6\" y=\"348.478125\"/>\n      </g>\n     </g>\n     <g id=\"text_15\">\n      <!-- fio2_apache -->\n      <g transform=\"translate(120.419219 397.739531)rotate(-90)scale(0.07 -0.07)\">\n       <defs>\n        <path d=\"M 37.109375 75.984375 \nL 37.109375 68.5 \nL 28.515625 68.5 \nQ 23.6875 68.5 21.796875 66.546875 \nQ 19.921875 64.59375 19.921875 59.515625 \nL 19.921875 54.6875 \nL 34.71875 54.6875 \nL 34.71875 47.703125 \nL 19.921875 47.703125 \nL 19.921875 0 \nL 10.890625 0 \nL 10.890625 47.703125 \nL 2.296875 47.703125 \nL 2.296875 54.6875 \nL 10.890625 54.6875 \nL 10.890625 58.5 \nQ 10.890625 67.625 15.140625 71.796875 \nQ 19.390625 75.984375 28.609375 75.984375 \nz\n\" id=\"DejaVuSans-102\"/>\n       </defs>\n       <use xlink:href=\"#DejaVuSans-102\"/>\n       <use x=\"35.205078\" xlink:href=\"#DejaVuSans-105\"/>\n       <use x=\"62.988281\" xlink:href=\"#DejaVuSans-111\"/>\n       <use x=\"124.169922\" xlink:href=\"#DejaVuSans-50\"/>\n       <use x=\"187.792969\" xlink:href=\"#DejaVuSans-95\"/>\n       <use x=\"237.792969\" xlink:href=\"#DejaVuSans-97\"/>\n       <use x=\"299.072266\" xlink:href=\"#DejaVuSans-112\"/>\n       <use x=\"362.548828\" xlink:href=\"#DejaVuSans-97\"/>\n       <use x=\"423.828125\" xlink:href=\"#DejaVuSans-99\"/>\n       <use x=\"478.808594\" xlink:href=\"#DejaVuSans-104\"/>\n       <use x=\"542.1875\" xlink:href=\"#DejaVuSans-101\"/>\n      </g>\n     </g>\n    </g>\n    <g id=\"xtick_16\">\n     <g id=\"line2d_16\">\n      <g>\n       <use style=\"stroke:#000000;stroke-width:0.8;\" x=\"124.8625\" xlink:href=\"#mbb5199c8e6\" y=\"348.478125\"/>\n      </g>\n     </g>\n     <g id=\"text_16\">\n      <!-- gcs_eyes_apache -->\n      <g transform=\"translate(126.696719 416.437187)rotate(-90)scale(0.07 -0.07)\">\n       <use xlink:href=\"#DejaVuSans-103\"/>\n       <use x=\"63.476562\" xlink:href=\"#DejaVuSans-99\"/>\n       <use x=\"118.457031\" xlink:href=\"#DejaVuSans-115\"/>\n       <use x=\"170.556641\" xlink:href=\"#DejaVuSans-95\"/>\n       <use x=\"220.556641\" xlink:href=\"#DejaVuSans-101\"/>\n       <use x=\"282.080078\" xlink:href=\"#DejaVuSans-121\"/>\n       <use x=\"341.259766\" xlink:href=\"#DejaVuSans-101\"/>\n       <use x=\"402.783203\" xlink:href=\"#DejaVuSans-115\"/>\n       <use x=\"454.882812\" xlink:href=\"#DejaVuSans-95\"/>\n       <use x=\"504.882812\" xlink:href=\"#DejaVuSans-97\"/>\n       <use x=\"566.162109\" xlink:href=\"#DejaVuSans-112\"/>\n       <use x=\"629.638672\" xlink:href=\"#DejaVuSans-97\"/>\n       <use x=\"690.917969\" xlink:href=\"#DejaVuSans-99\"/>\n       <use x=\"745.898438\" xlink:href=\"#DejaVuSans-104\"/>\n       <use x=\"809.277344\" xlink:href=\"#DejaVuSans-101\"/>\n      </g>\n     </g>\n    </g>\n    <g id=\"xtick_17\">\n     <g id=\"line2d_17\">\n      <g>\n       <use style=\"stroke:#000000;stroke-width:0.8;\" x=\"131.14\" xlink:href=\"#mbb5199c8e6\" y=\"348.478125\"/>\n      </g>\n     </g>\n     <g id=\"text_17\">\n      <!-- gcs_motor_apache -->\n      <g transform=\"translate(132.974219 421.039687)rotate(-90)scale(0.07 -0.07)\">\n       <use xlink:href=\"#DejaVuSans-103\"/>\n       <use x=\"63.476562\" xlink:href=\"#DejaVuSans-99\"/>\n       <use x=\"118.457031\" xlink:href=\"#DejaVuSans-115\"/>\n       <use x=\"170.556641\" xlink:href=\"#DejaVuSans-95\"/>\n       <use x=\"220.556641\" xlink:href=\"#DejaVuSans-109\"/>\n       <use x=\"317.96875\" xlink:href=\"#DejaVuSans-111\"/>\n       <use x=\"379.150391\" xlink:href=\"#DejaVuSans-116\"/>\n       <use x=\"418.359375\" xlink:href=\"#DejaVuSans-111\"/>\n       <use x=\"479.541016\" xlink:href=\"#DejaVuSans-114\"/>\n       <use x=\"520.654297\" xlink:href=\"#DejaVuSans-95\"/>\n       <use x=\"570.654297\" xlink:href=\"#DejaVuSans-97\"/>\n       <use x=\"631.933594\" xlink:href=\"#DejaVuSans-112\"/>\n       <use x=\"695.410156\" xlink:href=\"#DejaVuSans-97\"/>\n       <use x=\"756.689453\" xlink:href=\"#DejaVuSans-99\"/>\n       <use x=\"811.669922\" xlink:href=\"#DejaVuSans-104\"/>\n       <use x=\"875.048828\" xlink:href=\"#DejaVuSans-101\"/>\n      </g>\n     </g>\n    </g>\n    <g id=\"xtick_18\">\n     <g id=\"line2d_18\">\n      <g>\n       <use style=\"stroke:#000000;stroke-width:0.8;\" x=\"137.4175\" xlink:href=\"#mbb5199c8e6\" y=\"348.478125\"/>\n      </g>\n     </g>\n     <g id=\"text_18\">\n      <!-- gcs_unable_apache -->\n      <g transform=\"translate(139.251719 423.891094)rotate(-90)scale(0.07 -0.07)\">\n       <use xlink:href=\"#DejaVuSans-103\"/>\n       <use x=\"63.476562\" xlink:href=\"#DejaVuSans-99\"/>\n       <use x=\"118.457031\" xlink:href=\"#DejaVuSans-115\"/>\n       <use x=\"170.556641\" xlink:href=\"#DejaVuSans-95\"/>\n       <use x=\"220.556641\" xlink:href=\"#DejaVuSans-117\"/>\n       <use x=\"283.935547\" xlink:href=\"#DejaVuSans-110\"/>\n       <use x=\"347.314453\" xlink:href=\"#DejaVuSans-97\"/>\n       <use x=\"408.59375\" xlink:href=\"#DejaVuSans-98\"/>\n       <use x=\"472.070312\" xlink:href=\"#DejaVuSans-108\"/>\n       <use x=\"499.853516\" xlink:href=\"#DejaVuSans-101\"/>\n       <use x=\"561.376953\" xlink:href=\"#DejaVuSans-95\"/>\n       <use x=\"611.376953\" xlink:href=\"#DejaVuSans-97\"/>\n       <use x=\"672.65625\" xlink:href=\"#DejaVuSans-112\"/>\n       <use x=\"736.132812\" xlink:href=\"#DejaVuSans-97\"/>\n       <use x=\"797.412109\" xlink:href=\"#DejaVuSans-99\"/>\n       <use x=\"852.392578\" xlink:href=\"#DejaVuSans-104\"/>\n       <use x=\"915.771484\" xlink:href=\"#DejaVuSans-101\"/>\n      </g>\n     </g>\n    </g>\n    <g id=\"xtick_19\">\n     <g id=\"line2d_19\">\n      <g>\n       <use style=\"stroke:#000000;stroke-width:0.8;\" x=\"143.695\" xlink:href=\"#mbb5199c8e6\" y=\"348.478125\"/>\n      </g>\n     </g>\n     <g id=\"text_19\">\n      <!-- gcs_verbal_apache -->\n      <g transform=\"translate(145.529219 422.039375)rotate(-90)scale(0.07 -0.07)\">\n       <defs>\n        <path d=\"M 2.984375 54.6875 \nL 12.5 54.6875 \nL 29.59375 8.796875 \nL 46.6875 54.6875 \nL 56.203125 54.6875 \nL 35.6875 0 \nL 23.484375 0 \nz\n\" id=\"DejaVuSans-118\"/>\n       </defs>\n       <use xlink:href=\"#DejaVuSans-103\"/>\n       <use x=\"63.476562\" xlink:href=\"#DejaVuSans-99\"/>\n       <use x=\"118.457031\" xlink:href=\"#DejaVuSans-115\"/>\n       <use x=\"170.556641\" xlink:href=\"#DejaVuSans-95\"/>\n       <use x=\"220.556641\" xlink:href=\"#DejaVuSans-118\"/>\n       <use x=\"279.736328\" xlink:href=\"#DejaVuSans-101\"/>\n       <use x=\"341.259766\" xlink:href=\"#DejaVuSans-114\"/>\n       <use x=\"382.373047\" xlink:href=\"#DejaVuSans-98\"/>\n       <use x=\"445.849609\" xlink:href=\"#DejaVuSans-97\"/>\n       <use x=\"507.128906\" xlink:href=\"#DejaVuSans-108\"/>\n       <use x=\"534.912109\" xlink:href=\"#DejaVuSans-95\"/>\n       <use x=\"584.912109\" xlink:href=\"#DejaVuSans-97\"/>\n       <use x=\"646.191406\" xlink:href=\"#DejaVuSans-112\"/>\n       <use x=\"709.667969\" xlink:href=\"#DejaVuSans-97\"/>\n       <use x=\"770.947266\" xlink:href=\"#DejaVuSans-99\"/>\n       <use x=\"825.927734\" xlink:href=\"#DejaVuSans-104\"/>\n       <use x=\"889.306641\" xlink:href=\"#DejaVuSans-101\"/>\n      </g>\n     </g>\n    </g>\n    <g id=\"xtick_20\">\n     <g id=\"line2d_20\">\n      <g>\n       <use style=\"stroke:#000000;stroke-width:0.8;\" x=\"149.9725\" xlink:href=\"#mbb5199c8e6\" y=\"348.478125\"/>\n      </g>\n     </g>\n     <g id=\"text_20\">\n      <!-- glucose_apache -->\n      <g transform=\"translate(151.806719 411.504375)rotate(-90)scale(0.07 -0.07)\">\n       <use xlink:href=\"#DejaVuSans-103\"/>\n       <use x=\"63.476562\" xlink:href=\"#DejaVuSans-108\"/>\n       <use x=\"91.259766\" xlink:href=\"#DejaVuSans-117\"/>\n       <use x=\"154.638672\" xlink:href=\"#DejaVuSans-99\"/>\n       <use x=\"209.619141\" xlink:href=\"#DejaVuSans-111\"/>\n       <use x=\"270.800781\" xlink:href=\"#DejaVuSans-115\"/>\n       <use x=\"322.900391\" xlink:href=\"#DejaVuSans-101\"/>\n       <use x=\"384.423828\" xlink:href=\"#DejaVuSans-95\"/>\n       <use x=\"434.423828\" xlink:href=\"#DejaVuSans-97\"/>\n       <use x=\"495.703125\" xlink:href=\"#DejaVuSans-112\"/>\n       <use x=\"559.179688\" xlink:href=\"#DejaVuSans-97\"/>\n       <use x=\"620.458984\" xlink:href=\"#DejaVuSans-99\"/>\n       <use x=\"675.439453\" xlink:href=\"#DejaVuSans-104\"/>\n       <use x=\"738.818359\" xlink:href=\"#DejaVuSans-101\"/>\n      </g>\n     </g>\n    </g>\n    <g id=\"xtick_21\">\n     <g id=\"line2d_21\">\n      <g>\n       <use style=\"stroke:#000000;stroke-width:0.8;\" x=\"156.25\" xlink:href=\"#mbb5199c8e6\" y=\"348.478125\"/>\n      </g>\n     </g>\n     <g id=\"text_21\">\n      <!-- heart_rate_apache -->\n      <g transform=\"translate(158.084219 420.9675)rotate(-90)scale(0.07 -0.07)\">\n       <use xlink:href=\"#DejaVuSans-104\"/>\n       <use x=\"63.378906\" xlink:href=\"#DejaVuSans-101\"/>\n       <use x=\"124.902344\" xlink:href=\"#DejaVuSans-97\"/>\n       <use x=\"186.181641\" xlink:href=\"#DejaVuSans-114\"/>\n       <use x=\"227.294922\" xlink:href=\"#DejaVuSans-116\"/>\n       <use x=\"266.503906\" xlink:href=\"#DejaVuSans-95\"/>\n       <use x=\"316.503906\" xlink:href=\"#DejaVuSans-114\"/>\n       <use x=\"357.617188\" xlink:href=\"#DejaVuSans-97\"/>\n       <use x=\"418.896484\" xlink:href=\"#DejaVuSans-116\"/>\n       <use x=\"458.105469\" xlink:href=\"#DejaVuSans-101\"/>\n       <use x=\"519.628906\" xlink:href=\"#DejaVuSans-95\"/>\n       <use x=\"569.628906\" xlink:href=\"#DejaVuSans-97\"/>\n       <use x=\"630.908203\" xlink:href=\"#DejaVuSans-112\"/>\n       <use x=\"694.384766\" xlink:href=\"#DejaVuSans-97\"/>\n       <use x=\"755.664062\" xlink:href=\"#DejaVuSans-99\"/>\n       <use x=\"810.644531\" xlink:href=\"#DejaVuSans-104\"/>\n       <use x=\"874.023438\" xlink:href=\"#DejaVuSans-101\"/>\n      </g>\n     </g>\n    </g>\n    <g id=\"xtick_22\">\n     <g id=\"line2d_22\">\n      <g>\n       <use style=\"stroke:#000000;stroke-width:0.8;\" x=\"162.5275\" xlink:href=\"#mbb5199c8e6\" y=\"348.478125\"/>\n      </g>\n     </g>\n     <g id=\"text_22\">\n      <!-- hematocrit_apache -->\n      <g transform=\"translate(164.361719 422.888125)rotate(-90)scale(0.07 -0.07)\">\n       <use xlink:href=\"#DejaVuSans-104\"/>\n       <use x=\"63.378906\" xlink:href=\"#DejaVuSans-101\"/>\n       <use x=\"124.902344\" xlink:href=\"#DejaVuSans-109\"/>\n       <use x=\"222.314453\" xlink:href=\"#DejaVuSans-97\"/>\n       <use x=\"283.59375\" xlink:href=\"#DejaVuSans-116\"/>\n       <use x=\"322.802734\" xlink:href=\"#DejaVuSans-111\"/>\n       <use x=\"383.984375\" xlink:href=\"#DejaVuSans-99\"/>\n       <use x=\"438.964844\" xlink:href=\"#DejaVuSans-114\"/>\n       <use x=\"480.078125\" xlink:href=\"#DejaVuSans-105\"/>\n       <use x=\"507.861328\" xlink:href=\"#DejaVuSans-116\"/>\n       <use x=\"547.070312\" xlink:href=\"#DejaVuSans-95\"/>\n       <use x=\"597.070312\" xlink:href=\"#DejaVuSans-97\"/>\n       <use x=\"658.349609\" xlink:href=\"#DejaVuSans-112\"/>\n       <use x=\"721.826172\" xlink:href=\"#DejaVuSans-97\"/>\n       <use x=\"783.105469\" xlink:href=\"#DejaVuSans-99\"/>\n       <use x=\"838.085938\" xlink:href=\"#DejaVuSans-104\"/>\n       <use x=\"901.464844\" xlink:href=\"#DejaVuSans-101\"/>\n      </g>\n     </g>\n    </g>\n    <g id=\"xtick_23\">\n     <g id=\"line2d_23\">\n      <g>\n       <use style=\"stroke:#000000;stroke-width:0.8;\" x=\"168.805\" xlink:href=\"#mbb5199c8e6\" y=\"348.478125\"/>\n      </g>\n     </g>\n     <g id=\"text_23\">\n      <!-- map_apache -->\n      <g transform=\"translate(170.639219 400.145781)rotate(-90)scale(0.07 -0.07)\">\n       <use xlink:href=\"#DejaVuSans-109\"/>\n       <use x=\"97.412109\" xlink:href=\"#DejaVuSans-97\"/>\n       <use x=\"158.691406\" xlink:href=\"#DejaVuSans-112\"/>\n       <use x=\"222.167969\" xlink:href=\"#DejaVuSans-95\"/>\n       <use x=\"272.167969\" xlink:href=\"#DejaVuSans-97\"/>\n       <use x=\"333.447266\" xlink:href=\"#DejaVuSans-112\"/>\n       <use x=\"396.923828\" xlink:href=\"#DejaVuSans-97\"/>\n       <use x=\"458.203125\" xlink:href=\"#DejaVuSans-99\"/>\n       <use x=\"513.183594\" xlink:href=\"#DejaVuSans-104\"/>\n       <use x=\"576.5625\" xlink:href=\"#DejaVuSans-101\"/>\n      </g>\n     </g>\n    </g>\n    <g id=\"xtick_24\">\n     <g id=\"line2d_24\">\n      <g>\n       <use style=\"stroke:#000000;stroke-width:0.8;\" x=\"175.0825\" xlink:href=\"#mbb5199c8e6\" y=\"348.478125\"/>\n      </g>\n     </g>\n     <g id=\"text_24\">\n      <!-- paco2_apache -->\n      <g transform=\"translate(176.916719 405.913125)rotate(-90)scale(0.07 -0.07)\">\n       <use xlink:href=\"#DejaVuSans-112\"/>\n       <use x=\"63.476562\" xlink:href=\"#DejaVuSans-97\"/>\n       <use x=\"124.755859\" xlink:href=\"#DejaVuSans-99\"/>\n       <use x=\"179.736328\" xlink:href=\"#DejaVuSans-111\"/>\n       <use x=\"240.917969\" xlink:href=\"#DejaVuSans-50\"/>\n       <use x=\"304.541016\" xlink:href=\"#DejaVuSans-95\"/>\n       <use x=\"354.541016\" xlink:href=\"#DejaVuSans-97\"/>\n       <use x=\"415.820312\" xlink:href=\"#DejaVuSans-112\"/>\n       <use x=\"479.296875\" xlink:href=\"#DejaVuSans-97\"/>\n       <use x=\"540.576172\" xlink:href=\"#DejaVuSans-99\"/>\n       <use x=\"595.556641\" xlink:href=\"#DejaVuSans-104\"/>\n       <use x=\"658.935547\" xlink:href=\"#DejaVuSans-101\"/>\n      </g>\n     </g>\n    </g>\n    <g id=\"xtick_25\">\n     <g id=\"line2d_25\">\n      <g>\n       <use style=\"stroke:#000000;stroke-width:0.8;\" x=\"181.36\" xlink:href=\"#mbb5199c8e6\" y=\"348.478125\"/>\n      </g>\n     </g>\n     <g id=\"text_25\">\n      <!-- paco2_for_ph_apache -->\n      <g transform=\"translate(183.194219 431.418281)rotate(-90)scale(0.07 -0.07)\">\n       <use xlink:href=\"#DejaVuSans-112\"/>\n       <use x=\"63.476562\" xlink:href=\"#DejaVuSans-97\"/>\n       <use x=\"124.755859\" xlink:href=\"#DejaVuSans-99\"/>\n       <use x=\"179.736328\" xlink:href=\"#DejaVuSans-111\"/>\n       <use x=\"240.917969\" xlink:href=\"#DejaVuSans-50\"/>\n       <use x=\"304.541016\" xlink:href=\"#DejaVuSans-95\"/>\n       <use x=\"354.541016\" xlink:href=\"#DejaVuSans-102\"/>\n       <use x=\"389.746094\" xlink:href=\"#DejaVuSans-111\"/>\n       <use x=\"450.927734\" xlink:href=\"#DejaVuSans-114\"/>\n       <use x=\"492.041016\" xlink:href=\"#DejaVuSans-95\"/>\n       <use x=\"542.041016\" xlink:href=\"#DejaVuSans-112\"/>\n       <use x=\"605.517578\" xlink:href=\"#DejaVuSans-104\"/>\n       <use x=\"668.896484\" xlink:href=\"#DejaVuSans-95\"/>\n       <use x=\"718.896484\" xlink:href=\"#DejaVuSans-97\"/>\n       <use x=\"780.175781\" xlink:href=\"#DejaVuSans-112\"/>\n       <use x=\"843.652344\" xlink:href=\"#DejaVuSans-97\"/>\n       <use x=\"904.931641\" xlink:href=\"#DejaVuSans-99\"/>\n       <use x=\"959.912109\" xlink:href=\"#DejaVuSans-104\"/>\n       <use x=\"1023.291016\" xlink:href=\"#DejaVuSans-101\"/>\n      </g>\n     </g>\n    </g>\n    <g id=\"xtick_26\">\n     <g id=\"line2d_26\">\n      <g>\n       <use style=\"stroke:#000000;stroke-width:0.8;\" x=\"187.6375\" xlink:href=\"#mbb5199c8e6\" y=\"348.478125\"/>\n      </g>\n     </g>\n     <g id=\"text_26\">\n      <!-- pao2_apache -->\n      <g transform=\"translate(189.471719 402.064219)rotate(-90)scale(0.07 -0.07)\">\n       <use xlink:href=\"#DejaVuSans-112\"/>\n       <use x=\"63.476562\" xlink:href=\"#DejaVuSans-97\"/>\n       <use x=\"124.755859\" xlink:href=\"#DejaVuSans-111\"/>\n       <use x=\"185.9375\" xlink:href=\"#DejaVuSans-50\"/>\n       <use x=\"249.560547\" xlink:href=\"#DejaVuSans-95\"/>\n       <use x=\"299.560547\" xlink:href=\"#DejaVuSans-97\"/>\n       <use x=\"360.839844\" xlink:href=\"#DejaVuSans-112\"/>\n       <use x=\"424.316406\" xlink:href=\"#DejaVuSans-97\"/>\n       <use x=\"485.595703\" xlink:href=\"#DejaVuSans-99\"/>\n       <use x=\"540.576172\" xlink:href=\"#DejaVuSans-104\"/>\n       <use x=\"603.955078\" xlink:href=\"#DejaVuSans-101\"/>\n      </g>\n     </g>\n    </g>\n    <g id=\"xtick_27\">\n     <g id=\"line2d_27\">\n      <g>\n       <use style=\"stroke:#000000;stroke-width:0.8;\" x=\"193.915\" xlink:href=\"#mbb5199c8e6\" y=\"348.478125\"/>\n      </g>\n     </g>\n     <g id=\"text_27\">\n      <!-- ph_apache -->\n      <g transform=\"translate(195.749219 393.473906)rotate(-90)scale(0.07 -0.07)\">\n       <use xlink:href=\"#DejaVuSans-112\"/>\n       <use x=\"63.476562\" xlink:href=\"#DejaVuSans-104\"/>\n       <use x=\"126.855469\" xlink:href=\"#DejaVuSans-95\"/>\n       <use x=\"176.855469\" xlink:href=\"#DejaVuSans-97\"/>\n       <use x=\"238.134766\" xlink:href=\"#DejaVuSans-112\"/>\n       <use x=\"301.611328\" xlink:href=\"#DejaVuSans-97\"/>\n       <use x=\"362.890625\" xlink:href=\"#DejaVuSans-99\"/>\n       <use x=\"417.871094\" xlink:href=\"#DejaVuSans-104\"/>\n       <use x=\"481.25\" xlink:href=\"#DejaVuSans-101\"/>\n      </g>\n     </g>\n    </g>\n    <g id=\"xtick_28\">\n     <g id=\"line2d_28\">\n      <g>\n       <use style=\"stroke:#000000;stroke-width:0.8;\" x=\"200.1925\" xlink:href=\"#mbb5199c8e6\" y=\"348.478125\"/>\n      </g>\n     </g>\n     <g id=\"text_28\">\n      <!-- resprate_apache -->\n      <g transform=\"translate(202.026719 413.930312)rotate(-90)scale(0.07 -0.07)\">\n       <use xlink:href=\"#DejaVuSans-114\"/>\n       <use x=\"38.863281\" xlink:href=\"#DejaVuSans-101\"/>\n       <use x=\"100.386719\" xlink:href=\"#DejaVuSans-115\"/>\n       <use x=\"152.486328\" xlink:href=\"#DejaVuSans-112\"/>\n       <use x=\"215.962891\" xlink:href=\"#DejaVuSans-114\"/>\n       <use x=\"257.076172\" xlink:href=\"#DejaVuSans-97\"/>\n       <use x=\"318.355469\" xlink:href=\"#DejaVuSans-116\"/>\n       <use x=\"357.564453\" xlink:href=\"#DejaVuSans-101\"/>\n       <use x=\"419.087891\" xlink:href=\"#DejaVuSans-95\"/>\n       <use x=\"469.087891\" xlink:href=\"#DejaVuSans-97\"/>\n       <use x=\"530.367188\" xlink:href=\"#DejaVuSans-112\"/>\n       <use x=\"593.84375\" xlink:href=\"#DejaVuSans-97\"/>\n       <use x=\"655.123047\" xlink:href=\"#DejaVuSans-99\"/>\n       <use x=\"710.103516\" xlink:href=\"#DejaVuSans-104\"/>\n       <use x=\"773.482422\" xlink:href=\"#DejaVuSans-101\"/>\n      </g>\n     </g>\n    </g>\n    <g id=\"xtick_29\">\n     <g id=\"line2d_29\">\n      <g>\n       <use style=\"stroke:#000000;stroke-width:0.8;\" x=\"206.47\" xlink:href=\"#mbb5199c8e6\" y=\"348.478125\"/>\n      </g>\n     </g>\n     <g id=\"text_29\">\n      <!-- sodium_apache -->\n      <g transform=\"translate(208.304219 410.166719)rotate(-90)scale(0.07 -0.07)\">\n       <use xlink:href=\"#DejaVuSans-115\"/>\n       <use x=\"52.099609\" xlink:href=\"#DejaVuSans-111\"/>\n       <use x=\"113.28125\" xlink:href=\"#DejaVuSans-100\"/>\n       <use x=\"176.757812\" xlink:href=\"#DejaVuSans-105\"/>\n       <use x=\"204.541016\" xlink:href=\"#DejaVuSans-117\"/>\n       <use x=\"267.919922\" xlink:href=\"#DejaVuSans-109\"/>\n       <use x=\"365.332031\" xlink:href=\"#DejaVuSans-95\"/>\n       <use x=\"415.332031\" xlink:href=\"#DejaVuSans-97\"/>\n       <use x=\"476.611328\" xlink:href=\"#DejaVuSans-112\"/>\n       <use x=\"540.087891\" xlink:href=\"#DejaVuSans-97\"/>\n       <use x=\"601.367188\" xlink:href=\"#DejaVuSans-99\"/>\n       <use x=\"656.347656\" xlink:href=\"#DejaVuSans-104\"/>\n       <use x=\"719.726562\" xlink:href=\"#DejaVuSans-101\"/>\n      </g>\n     </g>\n    </g>\n    <g id=\"xtick_30\">\n     <g id=\"line2d_30\">\n      <g>\n       <use style=\"stroke:#000000;stroke-width:0.8;\" x=\"212.7475\" xlink:href=\"#mbb5199c8e6\" y=\"348.478125\"/>\n      </g>\n     </g>\n     <g id=\"text_30\">\n      <!-- temp_apache -->\n      <g transform=\"translate(214.581719 402.9075)rotate(-90)scale(0.07 -0.07)\">\n       <use xlink:href=\"#DejaVuSans-116\"/>\n       <use x=\"39.208984\" xlink:href=\"#DejaVuSans-101\"/>\n       <use x=\"100.732422\" xlink:href=\"#DejaVuSans-109\"/>\n       <use x=\"198.144531\" xlink:href=\"#DejaVuSans-112\"/>\n       <use x=\"261.621094\" xlink:href=\"#DejaVuSans-95\"/>\n       <use x=\"311.621094\" xlink:href=\"#DejaVuSans-97\"/>\n       <use x=\"372.900391\" xlink:href=\"#DejaVuSans-112\"/>\n       <use x=\"436.376953\" xlink:href=\"#DejaVuSans-97\"/>\n       <use x=\"497.65625\" xlink:href=\"#DejaVuSans-99\"/>\n       <use x=\"552.636719\" xlink:href=\"#DejaVuSans-104\"/>\n       <use x=\"616.015625\" xlink:href=\"#DejaVuSans-101\"/>\n      </g>\n     </g>\n    </g>\n    <g id=\"xtick_31\">\n     <g id=\"line2d_31\">\n      <g>\n       <use style=\"stroke:#000000;stroke-width:0.8;\" x=\"219.025\" xlink:href=\"#mbb5199c8e6\" y=\"348.478125\"/>\n      </g>\n     </g>\n     <g id=\"text_31\">\n      <!-- urineoutput_apache -->\n      <g transform=\"translate(220.859219 425.68375)rotate(-90)scale(0.07 -0.07)\">\n       <use xlink:href=\"#DejaVuSans-117\"/>\n       <use x=\"63.378906\" xlink:href=\"#DejaVuSans-114\"/>\n       <use x=\"104.492188\" xlink:href=\"#DejaVuSans-105\"/>\n       <use x=\"132.275391\" xlink:href=\"#DejaVuSans-110\"/>\n       <use x=\"195.654297\" xlink:href=\"#DejaVuSans-101\"/>\n       <use x=\"257.177734\" xlink:href=\"#DejaVuSans-111\"/>\n       <use x=\"318.359375\" xlink:href=\"#DejaVuSans-117\"/>\n       <use x=\"381.738281\" xlink:href=\"#DejaVuSans-116\"/>\n       <use x=\"420.947266\" xlink:href=\"#DejaVuSans-112\"/>\n       <use x=\"484.423828\" xlink:href=\"#DejaVuSans-117\"/>\n       <use x=\"547.802734\" xlink:href=\"#DejaVuSans-116\"/>\n       <use x=\"587.011719\" xlink:href=\"#DejaVuSans-95\"/>\n       <use x=\"637.011719\" xlink:href=\"#DejaVuSans-97\"/>\n       <use x=\"698.291016\" xlink:href=\"#DejaVuSans-112\"/>\n       <use x=\"761.767578\" xlink:href=\"#DejaVuSans-97\"/>\n       <use x=\"823.046875\" xlink:href=\"#DejaVuSans-99\"/>\n       <use x=\"878.027344\" xlink:href=\"#DejaVuSans-104\"/>\n       <use x=\"941.40625\" xlink:href=\"#DejaVuSans-101\"/>\n      </g>\n     </g>\n    </g>\n    <g id=\"xtick_32\">\n     <g id=\"line2d_32\">\n      <g>\n       <use style=\"stroke:#000000;stroke-width:0.8;\" x=\"225.3025\" xlink:href=\"#mbb5199c8e6\" y=\"348.478125\"/>\n      </g>\n     </g>\n     <g id=\"text_32\">\n      <!-- wbc_apache -->\n      <g transform=\"translate(227.136719 398.61125)rotate(-90)scale(0.07 -0.07)\">\n       <use xlink:href=\"#DejaVuSans-119\"/>\n       <use x=\"81.787109\" xlink:href=\"#DejaVuSans-98\"/>\n       <use x=\"145.263672\" xlink:href=\"#DejaVuSans-99\"/>\n       <use x=\"200.244141\" xlink:href=\"#DejaVuSans-95\"/>\n       <use x=\"250.244141\" xlink:href=\"#DejaVuSans-97\"/>\n       <use x=\"311.523438\" xlink:href=\"#DejaVuSans-112\"/>\n       <use x=\"375\" xlink:href=\"#DejaVuSans-97\"/>\n       <use x=\"436.279297\" xlink:href=\"#DejaVuSans-99\"/>\n       <use x=\"491.259766\" xlink:href=\"#DejaVuSans-104\"/>\n       <use x=\"554.638672\" xlink:href=\"#DejaVuSans-101\"/>\n      </g>\n     </g>\n    </g>\n    <g id=\"xtick_33\">\n     <g id=\"line2d_33\">\n      <g>\n       <use style=\"stroke:#000000;stroke-width:0.8;\" x=\"231.58\" xlink:href=\"#mbb5199c8e6\" y=\"348.478125\"/>\n      </g>\n     </g>\n     <g id=\"text_33\">\n      <!-- d1_diasbp_invasive_max -->\n      <g transform=\"translate(233.414219 442.195)rotate(-90)scale(0.07 -0.07)\">\n       <defs>\n        <path d=\"M 12.40625 8.296875 \nL 28.515625 8.296875 \nL 28.515625 63.921875 \nL 10.984375 60.40625 \nL 10.984375 69.390625 \nL 28.421875 72.90625 \nL 38.28125 72.90625 \nL 38.28125 8.296875 \nL 54.390625 8.296875 \nL 54.390625 0 \nL 12.40625 0 \nz\n\" id=\"DejaVuSans-49\"/>\n        <path d=\"M 54.890625 54.6875 \nL 35.109375 28.078125 \nL 55.90625 0 \nL 45.3125 0 \nL 29.390625 21.484375 \nL 13.484375 0 \nL 2.875 0 \nL 24.125 28.609375 \nL 4.6875 54.6875 \nL 15.28125 54.6875 \nL 29.78125 35.203125 \nL 44.28125 54.6875 \nz\n\" id=\"DejaVuSans-120\"/>\n       </defs>\n       <use xlink:href=\"#DejaVuSans-100\"/>\n       <use x=\"63.476562\" xlink:href=\"#DejaVuSans-49\"/>\n       <use x=\"127.099609\" xlink:href=\"#DejaVuSans-95\"/>\n       <use x=\"177.099609\" xlink:href=\"#DejaVuSans-100\"/>\n       <use x=\"240.576172\" xlink:href=\"#DejaVuSans-105\"/>\n       <use x=\"268.359375\" xlink:href=\"#DejaVuSans-97\"/>\n       <use x=\"329.638672\" xlink:href=\"#DejaVuSans-115\"/>\n       <use x=\"381.738281\" xlink:href=\"#DejaVuSans-98\"/>\n       <use x=\"445.214844\" xlink:href=\"#DejaVuSans-112\"/>\n       <use x=\"508.691406\" xlink:href=\"#DejaVuSans-95\"/>\n       <use x=\"558.691406\" xlink:href=\"#DejaVuSans-105\"/>\n       <use x=\"586.474609\" xlink:href=\"#DejaVuSans-110\"/>\n       <use x=\"649.853516\" xlink:href=\"#DejaVuSans-118\"/>\n       <use x=\"709.033203\" xlink:href=\"#DejaVuSans-97\"/>\n       <use x=\"770.3125\" xlink:href=\"#DejaVuSans-115\"/>\n       <use x=\"822.412109\" xlink:href=\"#DejaVuSans-105\"/>\n       <use x=\"850.195312\" xlink:href=\"#DejaVuSans-118\"/>\n       <use x=\"909.375\" xlink:href=\"#DejaVuSans-101\"/>\n       <use x=\"970.898438\" xlink:href=\"#DejaVuSans-95\"/>\n       <use x=\"1020.898438\" xlink:href=\"#DejaVuSans-109\"/>\n       <use x=\"1118.310547\" xlink:href=\"#DejaVuSans-97\"/>\n       <use x=\"1179.589844\" xlink:href=\"#DejaVuSans-120\"/>\n      </g>\n     </g>\n    </g>\n    <g id=\"xtick_34\">\n     <g id=\"line2d_34\">\n      <g>\n       <use style=\"stroke:#000000;stroke-width:0.8;\" x=\"237.8575\" xlink:href=\"#mbb5199c8e6\" y=\"348.478125\"/>\n      </g>\n     </g>\n     <g id=\"text_34\">\n      <!-- d1_diasbp_invasive_min -->\n      <g transform=\"translate(239.691719 440.143125)rotate(-90)scale(0.07 -0.07)\">\n       <use xlink:href=\"#DejaVuSans-100\"/>\n       <use x=\"63.476562\" xlink:href=\"#DejaVuSans-49\"/>\n       <use x=\"127.099609\" xlink:href=\"#DejaVuSans-95\"/>\n       <use x=\"177.099609\" xlink:href=\"#DejaVuSans-100\"/>\n       <use x=\"240.576172\" xlink:href=\"#DejaVuSans-105\"/>\n       <use x=\"268.359375\" xlink:href=\"#DejaVuSans-97\"/>\n       <use x=\"329.638672\" xlink:href=\"#DejaVuSans-115\"/>\n       <use x=\"381.738281\" xlink:href=\"#DejaVuSans-98\"/>\n       <use x=\"445.214844\" xlink:href=\"#DejaVuSans-112\"/>\n       <use x=\"508.691406\" xlink:href=\"#DejaVuSans-95\"/>\n       <use x=\"558.691406\" xlink:href=\"#DejaVuSans-105\"/>\n       <use x=\"586.474609\" xlink:href=\"#DejaVuSans-110\"/>\n       <use x=\"649.853516\" xlink:href=\"#DejaVuSans-118\"/>\n       <use x=\"709.033203\" xlink:href=\"#DejaVuSans-97\"/>\n       <use x=\"770.3125\" xlink:href=\"#DejaVuSans-115\"/>\n       <use x=\"822.412109\" xlink:href=\"#DejaVuSans-105\"/>\n       <use x=\"850.195312\" xlink:href=\"#DejaVuSans-118\"/>\n       <use x=\"909.375\" xlink:href=\"#DejaVuSans-101\"/>\n       <use x=\"970.898438\" xlink:href=\"#DejaVuSans-95\"/>\n       <use x=\"1020.898438\" xlink:href=\"#DejaVuSans-109\"/>\n       <use x=\"1118.310547\" xlink:href=\"#DejaVuSans-105\"/>\n       <use x=\"1146.09375\" xlink:href=\"#DejaVuSans-110\"/>\n      </g>\n     </g>\n    </g>\n    <g id=\"xtick_35\">\n     <g id=\"line2d_35\">\n      <g>\n       <use style=\"stroke:#000000;stroke-width:0.8;\" x=\"244.135\" xlink:href=\"#mbb5199c8e6\" y=\"348.478125\"/>\n      </g>\n     </g>\n     <g id=\"text_35\">\n      <!-- d1_diasbp_max -->\n      <g transform=\"translate(245.969219 409.839687)rotate(-90)scale(0.07 -0.07)\">\n       <use xlink:href=\"#DejaVuSans-100\"/>\n       <use x=\"63.476562\" xlink:href=\"#DejaVuSans-49\"/>\n       <use x=\"127.099609\" xlink:href=\"#DejaVuSans-95\"/>\n       <use x=\"177.099609\" xlink:href=\"#DejaVuSans-100\"/>\n       <use x=\"240.576172\" xlink:href=\"#DejaVuSans-105\"/>\n       <use x=\"268.359375\" xlink:href=\"#DejaVuSans-97\"/>\n       <use x=\"329.638672\" xlink:href=\"#DejaVuSans-115\"/>\n       <use x=\"381.738281\" xlink:href=\"#DejaVuSans-98\"/>\n       <use x=\"445.214844\" xlink:href=\"#DejaVuSans-112\"/>\n       <use x=\"508.691406\" xlink:href=\"#DejaVuSans-95\"/>\n       <use x=\"558.691406\" xlink:href=\"#DejaVuSans-109\"/>\n       <use x=\"656.103516\" xlink:href=\"#DejaVuSans-97\"/>\n       <use x=\"717.382812\" xlink:href=\"#DejaVuSans-120\"/>\n      </g>\n     </g>\n    </g>\n    <g id=\"xtick_36\">\n     <g id=\"line2d_36\">\n      <g>\n       <use style=\"stroke:#000000;stroke-width:0.8;\" x=\"250.4125\" xlink:href=\"#mbb5199c8e6\" y=\"348.478125\"/>\n      </g>\n     </g>\n     <g id=\"text_36\">\n      <!-- d1_diasbp_min -->\n      <g transform=\"translate(252.246719 407.787812)rotate(-90)scale(0.07 -0.07)\">\n       <use xlink:href=\"#DejaVuSans-100\"/>\n       <use x=\"63.476562\" xlink:href=\"#DejaVuSans-49\"/>\n       <use x=\"127.099609\" xlink:href=\"#DejaVuSans-95\"/>\n       <use x=\"177.099609\" xlink:href=\"#DejaVuSans-100\"/>\n       <use x=\"240.576172\" xlink:href=\"#DejaVuSans-105\"/>\n       <use x=\"268.359375\" xlink:href=\"#DejaVuSans-97\"/>\n       <use x=\"329.638672\" xlink:href=\"#DejaVuSans-115\"/>\n       <use x=\"381.738281\" xlink:href=\"#DejaVuSans-98\"/>\n       <use x=\"445.214844\" xlink:href=\"#DejaVuSans-112\"/>\n       <use x=\"508.691406\" xlink:href=\"#DejaVuSans-95\"/>\n       <use x=\"558.691406\" xlink:href=\"#DejaVuSans-109\"/>\n       <use x=\"656.103516\" xlink:href=\"#DejaVuSans-105\"/>\n       <use x=\"683.886719\" xlink:href=\"#DejaVuSans-110\"/>\n      </g>\n     </g>\n    </g>\n    <g id=\"xtick_37\">\n     <g id=\"line2d_37\">\n      <g>\n       <use style=\"stroke:#000000;stroke-width:0.8;\" x=\"256.69\" xlink:href=\"#mbb5199c8e6\" y=\"348.478125\"/>\n      </g>\n     </g>\n     <g id=\"text_37\">\n      <!-- d1_diasbp_noninvasive_max -->\n      <g transform=\"translate(258.524219 455.350625)rotate(-90)scale(0.07 -0.07)\">\n       <use xlink:href=\"#DejaVuSans-100\"/>\n       <use x=\"63.476562\" xlink:href=\"#DejaVuSans-49\"/>\n       <use x=\"127.099609\" xlink:href=\"#DejaVuSans-95\"/>\n       <use x=\"177.099609\" xlink:href=\"#DejaVuSans-100\"/>\n       <use x=\"240.576172\" xlink:href=\"#DejaVuSans-105\"/>\n       <use x=\"268.359375\" xlink:href=\"#DejaVuSans-97\"/>\n       <use x=\"329.638672\" xlink:href=\"#DejaVuSans-115\"/>\n       <use x=\"381.738281\" xlink:href=\"#DejaVuSans-98\"/>\n       <use x=\"445.214844\" xlink:href=\"#DejaVuSans-112\"/>\n       <use x=\"508.691406\" xlink:href=\"#DejaVuSans-95\"/>\n       <use x=\"558.691406\" xlink:href=\"#DejaVuSans-110\"/>\n       <use x=\"622.070312\" xlink:href=\"#DejaVuSans-111\"/>\n       <use x=\"683.251953\" xlink:href=\"#DejaVuSans-110\"/>\n       <use x=\"746.630859\" xlink:href=\"#DejaVuSans-105\"/>\n       <use x=\"774.414062\" xlink:href=\"#DejaVuSans-110\"/>\n       <use x=\"837.792969\" xlink:href=\"#DejaVuSans-118\"/>\n       <use x=\"896.972656\" xlink:href=\"#DejaVuSans-97\"/>\n       <use x=\"958.251953\" xlink:href=\"#DejaVuSans-115\"/>\n       <use x=\"1010.351562\" xlink:href=\"#DejaVuSans-105\"/>\n       <use x=\"1038.134766\" xlink:href=\"#DejaVuSans-118\"/>\n       <use x=\"1097.314453\" xlink:href=\"#DejaVuSans-101\"/>\n       <use x=\"1158.837891\" xlink:href=\"#DejaVuSans-95\"/>\n       <use x=\"1208.837891\" xlink:href=\"#DejaVuSans-109\"/>\n       <use x=\"1306.25\" xlink:href=\"#DejaVuSans-97\"/>\n       <use x=\"1367.529297\" xlink:href=\"#DejaVuSans-120\"/>\n      </g>\n     </g>\n    </g>\n    <g id=\"xtick_38\">\n     <g id=\"line2d_38\">\n      <g>\n       <use style=\"stroke:#000000;stroke-width:0.8;\" x=\"262.9675\" xlink:href=\"#mbb5199c8e6\" y=\"348.478125\"/>\n      </g>\n     </g>\n     <g id=\"text_38\">\n      <!-- d1_diasbp_noninvasive_min -->\n      <g transform=\"translate(264.801719 453.29875)rotate(-90)scale(0.07 -0.07)\">\n       <use xlink:href=\"#DejaVuSans-100\"/>\n       <use x=\"63.476562\" xlink:href=\"#DejaVuSans-49\"/>\n       <use x=\"127.099609\" xlink:href=\"#DejaVuSans-95\"/>\n       <use x=\"177.099609\" xlink:href=\"#DejaVuSans-100\"/>\n       <use x=\"240.576172\" xlink:href=\"#DejaVuSans-105\"/>\n       <use x=\"268.359375\" xlink:href=\"#DejaVuSans-97\"/>\n       <use x=\"329.638672\" xlink:href=\"#DejaVuSans-115\"/>\n       <use x=\"381.738281\" xlink:href=\"#DejaVuSans-98\"/>\n       <use x=\"445.214844\" xlink:href=\"#DejaVuSans-112\"/>\n       <use x=\"508.691406\" xlink:href=\"#DejaVuSans-95\"/>\n       <use x=\"558.691406\" xlink:href=\"#DejaVuSans-110\"/>\n       <use x=\"622.070312\" xlink:href=\"#DejaVuSans-111\"/>\n       <use x=\"683.251953\" xlink:href=\"#DejaVuSans-110\"/>\n       <use x=\"746.630859\" xlink:href=\"#DejaVuSans-105\"/>\n       <use x=\"774.414062\" xlink:href=\"#DejaVuSans-110\"/>\n       <use x=\"837.792969\" xlink:href=\"#DejaVuSans-118\"/>\n       <use x=\"896.972656\" xlink:href=\"#DejaVuSans-97\"/>\n       <use x=\"958.251953\" xlink:href=\"#DejaVuSans-115\"/>\n       <use x=\"1010.351562\" xlink:href=\"#DejaVuSans-105\"/>\n       <use x=\"1038.134766\" xlink:href=\"#DejaVuSans-118\"/>\n       <use x=\"1097.314453\" xlink:href=\"#DejaVuSans-101\"/>\n       <use x=\"1158.837891\" xlink:href=\"#DejaVuSans-95\"/>\n       <use x=\"1208.837891\" xlink:href=\"#DejaVuSans-109\"/>\n       <use x=\"1306.25\" xlink:href=\"#DejaVuSans-105\"/>\n       <use x=\"1334.033203\" xlink:href=\"#DejaVuSans-110\"/>\n      </g>\n     </g>\n    </g>\n    <g id=\"xtick_39\">\n     <g id=\"line2d_39\">\n      <g>\n       <use style=\"stroke:#000000;stroke-width:0.8;\" x=\"269.245\" xlink:href=\"#mbb5199c8e6\" y=\"348.478125\"/>\n      </g>\n     </g>\n     <g id=\"text_39\">\n      <!-- d1_heartrate_max -->\n      <g transform=\"translate(271.079219 419.500781)rotate(-90)scale(0.07 -0.07)\">\n       <use xlink:href=\"#DejaVuSans-100\"/>\n       <use x=\"63.476562\" xlink:href=\"#DejaVuSans-49\"/>\n       <use x=\"127.099609\" xlink:href=\"#DejaVuSans-95\"/>\n       <use x=\"177.099609\" xlink:href=\"#DejaVuSans-104\"/>\n       <use x=\"240.478516\" xlink:href=\"#DejaVuSans-101\"/>\n       <use x=\"302.001953\" xlink:href=\"#DejaVuSans-97\"/>\n       <use x=\"363.28125\" xlink:href=\"#DejaVuSans-114\"/>\n       <use x=\"404.394531\" xlink:href=\"#DejaVuSans-116\"/>\n       <use x=\"443.603516\" xlink:href=\"#DejaVuSans-114\"/>\n       <use x=\"484.716797\" xlink:href=\"#DejaVuSans-97\"/>\n       <use x=\"545.996094\" xlink:href=\"#DejaVuSans-116\"/>\n       <use x=\"585.205078\" xlink:href=\"#DejaVuSans-101\"/>\n       <use x=\"646.728516\" xlink:href=\"#DejaVuSans-95\"/>\n       <use x=\"696.728516\" xlink:href=\"#DejaVuSans-109\"/>\n       <use x=\"794.140625\" xlink:href=\"#DejaVuSans-97\"/>\n       <use x=\"855.419922\" xlink:href=\"#DejaVuSans-120\"/>\n      </g>\n     </g>\n    </g>\n    <g id=\"xtick_40\">\n     <g id=\"line2d_40\">\n      <g>\n       <use style=\"stroke:#000000;stroke-width:0.8;\" x=\"275.5225\" xlink:href=\"#mbb5199c8e6\" y=\"348.478125\"/>\n      </g>\n     </g>\n     <g id=\"text_40\">\n      <!-- d1_heartrate_min -->\n      <g transform=\"translate(277.356719 417.448906)rotate(-90)scale(0.07 -0.07)\">\n       <use xlink:href=\"#DejaVuSans-100\"/>\n       <use x=\"63.476562\" xlink:href=\"#DejaVuSans-49\"/>\n       <use x=\"127.099609\" xlink:href=\"#DejaVuSans-95\"/>\n       <use x=\"177.099609\" xlink:href=\"#DejaVuSans-104\"/>\n       <use x=\"240.478516\" xlink:href=\"#DejaVuSans-101\"/>\n       <use x=\"302.001953\" xlink:href=\"#DejaVuSans-97\"/>\n       <use x=\"363.28125\" xlink:href=\"#DejaVuSans-114\"/>\n       <use x=\"404.394531\" xlink:href=\"#DejaVuSans-116\"/>\n       <use x=\"443.603516\" xlink:href=\"#DejaVuSans-114\"/>\n       <use x=\"484.716797\" xlink:href=\"#DejaVuSans-97\"/>\n       <use x=\"545.996094\" xlink:href=\"#DejaVuSans-116\"/>\n       <use x=\"585.205078\" xlink:href=\"#DejaVuSans-101\"/>\n       <use x=\"646.728516\" xlink:href=\"#DejaVuSans-95\"/>\n       <use x=\"696.728516\" xlink:href=\"#DejaVuSans-109\"/>\n       <use x=\"794.140625\" xlink:href=\"#DejaVuSans-105\"/>\n       <use x=\"821.923828\" xlink:href=\"#DejaVuSans-110\"/>\n      </g>\n     </g>\n    </g>\n    <g id=\"xtick_41\">\n     <g id=\"line2d_41\">\n      <g>\n       <use style=\"stroke:#000000;stroke-width:0.8;\" x=\"281.8\" xlink:href=\"#mbb5199c8e6\" y=\"348.478125\"/>\n      </g>\n     </g>\n     <g id=\"text_41\">\n      <!-- d1_mbp_invasive_max -->\n      <g transform=\"translate(283.634219 434.688594)rotate(-90)scale(0.07 -0.07)\">\n       <use xlink:href=\"#DejaVuSans-100\"/>\n       <use x=\"63.476562\" xlink:href=\"#DejaVuSans-49\"/>\n       <use x=\"127.099609\" xlink:href=\"#DejaVuSans-95\"/>\n       <use x=\"177.099609\" xlink:href=\"#DejaVuSans-109\"/>\n       <use x=\"274.511719\" xlink:href=\"#DejaVuSans-98\"/>\n       <use x=\"337.988281\" xlink:href=\"#DejaVuSans-112\"/>\n       <use x=\"401.464844\" xlink:href=\"#DejaVuSans-95\"/>\n       <use x=\"451.464844\" xlink:href=\"#DejaVuSans-105\"/>\n       <use x=\"479.248047\" xlink:href=\"#DejaVuSans-110\"/>\n       <use x=\"542.626953\" xlink:href=\"#DejaVuSans-118\"/>\n       <use x=\"601.806641\" xlink:href=\"#DejaVuSans-97\"/>\n       <use x=\"663.085938\" xlink:href=\"#DejaVuSans-115\"/>\n       <use x=\"715.185547\" xlink:href=\"#DejaVuSans-105\"/>\n       <use x=\"742.96875\" xlink:href=\"#DejaVuSans-118\"/>\n       <use x=\"802.148438\" xlink:href=\"#DejaVuSans-101\"/>\n       <use x=\"863.671875\" xlink:href=\"#DejaVuSans-95\"/>\n       <use x=\"913.671875\" xlink:href=\"#DejaVuSans-109\"/>\n       <use x=\"1011.083984\" xlink:href=\"#DejaVuSans-97\"/>\n       <use x=\"1072.363281\" xlink:href=\"#DejaVuSans-120\"/>\n      </g>\n     </g>\n    </g>\n    <g id=\"xtick_42\">\n     <g id=\"line2d_42\">\n      <g>\n       <use style=\"stroke:#000000;stroke-width:0.8;\" x=\"288.0775\" xlink:href=\"#mbb5199c8e6\" y=\"348.478125\"/>\n      </g>\n     </g>\n     <g id=\"text_42\">\n      <!-- d1_mbp_invasive_min -->\n      <g transform=\"translate(289.911719 432.636719)rotate(-90)scale(0.07 -0.07)\">\n       <use xlink:href=\"#DejaVuSans-100\"/>\n       <use x=\"63.476562\" xlink:href=\"#DejaVuSans-49\"/>\n       <use x=\"127.099609\" xlink:href=\"#DejaVuSans-95\"/>\n       <use x=\"177.099609\" xlink:href=\"#DejaVuSans-109\"/>\n       <use x=\"274.511719\" xlink:href=\"#DejaVuSans-98\"/>\n       <use x=\"337.988281\" xlink:href=\"#DejaVuSans-112\"/>\n       <use x=\"401.464844\" xlink:href=\"#DejaVuSans-95\"/>\n       <use x=\"451.464844\" xlink:href=\"#DejaVuSans-105\"/>\n       <use x=\"479.248047\" xlink:href=\"#DejaVuSans-110\"/>\n       <use x=\"542.626953\" xlink:href=\"#DejaVuSans-118\"/>\n       <use x=\"601.806641\" xlink:href=\"#DejaVuSans-97\"/>\n       <use x=\"663.085938\" xlink:href=\"#DejaVuSans-115\"/>\n       <use x=\"715.185547\" xlink:href=\"#DejaVuSans-105\"/>\n       <use x=\"742.96875\" xlink:href=\"#DejaVuSans-118\"/>\n       <use x=\"802.148438\" xlink:href=\"#DejaVuSans-101\"/>\n       <use x=\"863.671875\" xlink:href=\"#DejaVuSans-95\"/>\n       <use x=\"913.671875\" xlink:href=\"#DejaVuSans-109\"/>\n       <use x=\"1011.083984\" xlink:href=\"#DejaVuSans-105\"/>\n       <use x=\"1038.867188\" xlink:href=\"#DejaVuSans-110\"/>\n      </g>\n     </g>\n    </g>\n    <g id=\"xtick_43\">\n     <g id=\"line2d_43\">\n      <g>\n       <use style=\"stroke:#000000;stroke-width:0.8;\" x=\"294.355\" xlink:href=\"#mbb5199c8e6\" y=\"348.478125\"/>\n      </g>\n     </g>\n     <g id=\"text_43\">\n      <!-- d1_mbp_max -->\n      <g transform=\"translate(296.189219 402.333281)rotate(-90)scale(0.07 -0.07)\">\n       <use xlink:href=\"#DejaVuSans-100\"/>\n       <use x=\"63.476562\" xlink:href=\"#DejaVuSans-49\"/>\n       <use x=\"127.099609\" xlink:href=\"#DejaVuSans-95\"/>\n       <use x=\"177.099609\" xlink:href=\"#DejaVuSans-109\"/>\n       <use x=\"274.511719\" xlink:href=\"#DejaVuSans-98\"/>\n       <use x=\"337.988281\" xlink:href=\"#DejaVuSans-112\"/>\n       <use x=\"401.464844\" xlink:href=\"#DejaVuSans-95\"/>\n       <use x=\"451.464844\" xlink:href=\"#DejaVuSans-109\"/>\n       <use x=\"548.876953\" xlink:href=\"#DejaVuSans-97\"/>\n       <use x=\"610.15625\" xlink:href=\"#DejaVuSans-120\"/>\n      </g>\n     </g>\n    </g>\n    <g id=\"xtick_44\">\n     <g id=\"line2d_44\">\n      <g>\n       <use style=\"stroke:#000000;stroke-width:0.8;\" x=\"300.6325\" xlink:href=\"#mbb5199c8e6\" y=\"348.478125\"/>\n      </g>\n     </g>\n     <g id=\"text_44\">\n      <!-- d1_mbp_min -->\n      <g transform=\"translate(302.466719 400.281406)rotate(-90)scale(0.07 -0.07)\">\n       <use xlink:href=\"#DejaVuSans-100\"/>\n       <use x=\"63.476562\" xlink:href=\"#DejaVuSans-49\"/>\n       <use x=\"127.099609\" xlink:href=\"#DejaVuSans-95\"/>\n       <use x=\"177.099609\" xlink:href=\"#DejaVuSans-109\"/>\n       <use x=\"274.511719\" xlink:href=\"#DejaVuSans-98\"/>\n       <use x=\"337.988281\" xlink:href=\"#DejaVuSans-112\"/>\n       <use x=\"401.464844\" xlink:href=\"#DejaVuSans-95\"/>\n       <use x=\"451.464844\" xlink:href=\"#DejaVuSans-109\"/>\n       <use x=\"548.876953\" xlink:href=\"#DejaVuSans-105\"/>\n       <use x=\"576.660156\" xlink:href=\"#DejaVuSans-110\"/>\n      </g>\n     </g>\n    </g>\n    <g id=\"xtick_45\">\n     <g id=\"line2d_45\">\n      <g>\n       <use style=\"stroke:#000000;stroke-width:0.8;\" x=\"306.91\" xlink:href=\"#mbb5199c8e6\" y=\"348.478125\"/>\n      </g>\n     </g>\n     <g id=\"text_45\">\n      <!-- d1_mbp_noninvasive_max -->\n      <g transform=\"translate(308.744219 447.844219)rotate(-90)scale(0.07 -0.07)\">\n       <use xlink:href=\"#DejaVuSans-100\"/>\n       <use x=\"63.476562\" xlink:href=\"#DejaVuSans-49\"/>\n       <use x=\"127.099609\" xlink:href=\"#DejaVuSans-95\"/>\n       <use x=\"177.099609\" xlink:href=\"#DejaVuSans-109\"/>\n       <use x=\"274.511719\" xlink:href=\"#DejaVuSans-98\"/>\n       <use x=\"337.988281\" xlink:href=\"#DejaVuSans-112\"/>\n       <use x=\"401.464844\" xlink:href=\"#DejaVuSans-95\"/>\n       <use x=\"451.464844\" xlink:href=\"#DejaVuSans-110\"/>\n       <use x=\"514.84375\" xlink:href=\"#DejaVuSans-111\"/>\n       <use x=\"576.025391\" xlink:href=\"#DejaVuSans-110\"/>\n       <use x=\"639.404297\" xlink:href=\"#DejaVuSans-105\"/>\n       <use x=\"667.1875\" xlink:href=\"#DejaVuSans-110\"/>\n       <use x=\"730.566406\" xlink:href=\"#DejaVuSans-118\"/>\n       <use x=\"789.746094\" xlink:href=\"#DejaVuSans-97\"/>\n       <use x=\"851.025391\" xlink:href=\"#DejaVuSans-115\"/>\n       <use x=\"903.125\" xlink:href=\"#DejaVuSans-105\"/>\n       <use x=\"930.908203\" xlink:href=\"#DejaVuSans-118\"/>\n       <use x=\"990.087891\" xlink:href=\"#DejaVuSans-101\"/>\n       <use x=\"1051.611328\" xlink:href=\"#DejaVuSans-95\"/>\n       <use x=\"1101.611328\" xlink:href=\"#DejaVuSans-109\"/>\n       <use x=\"1199.023438\" xlink:href=\"#DejaVuSans-97\"/>\n       <use x=\"1260.302734\" xlink:href=\"#DejaVuSans-120\"/>\n      </g>\n     </g>\n    </g>\n    <g id=\"xtick_46\">\n     <g id=\"line2d_46\">\n      <g>\n       <use style=\"stroke:#000000;stroke-width:0.8;\" x=\"313.1875\" xlink:href=\"#mbb5199c8e6\" y=\"348.478125\"/>\n      </g>\n     </g>\n     <g id=\"text_46\">\n      <!-- d1_mbp_noninvasive_min -->\n      <g transform=\"translate(315.021719 445.792344)rotate(-90)scale(0.07 -0.07)\">\n       <use xlink:href=\"#DejaVuSans-100\"/>\n       <use x=\"63.476562\" xlink:href=\"#DejaVuSans-49\"/>\n       <use x=\"127.099609\" xlink:href=\"#DejaVuSans-95\"/>\n       <use x=\"177.099609\" xlink:href=\"#DejaVuSans-109\"/>\n       <use x=\"274.511719\" xlink:href=\"#DejaVuSans-98\"/>\n       <use x=\"337.988281\" xlink:href=\"#DejaVuSans-112\"/>\n       <use x=\"401.464844\" xlink:href=\"#DejaVuSans-95\"/>\n       <use x=\"451.464844\" xlink:href=\"#DejaVuSans-110\"/>\n       <use x=\"514.84375\" xlink:href=\"#DejaVuSans-111\"/>\n       <use x=\"576.025391\" xlink:href=\"#DejaVuSans-110\"/>\n       <use x=\"639.404297\" xlink:href=\"#DejaVuSans-105\"/>\n       <use x=\"667.1875\" xlink:href=\"#DejaVuSans-110\"/>\n       <use x=\"730.566406\" xlink:href=\"#DejaVuSans-118\"/>\n       <use x=\"789.746094\" xlink:href=\"#DejaVuSans-97\"/>\n       <use x=\"851.025391\" xlink:href=\"#DejaVuSans-115\"/>\n       <use x=\"903.125\" xlink:href=\"#DejaVuSans-105\"/>\n       <use x=\"930.908203\" xlink:href=\"#DejaVuSans-118\"/>\n       <use x=\"990.087891\" xlink:href=\"#DejaVuSans-101\"/>\n       <use x=\"1051.611328\" xlink:href=\"#DejaVuSans-95\"/>\n       <use x=\"1101.611328\" xlink:href=\"#DejaVuSans-109\"/>\n       <use x=\"1199.023438\" xlink:href=\"#DejaVuSans-105\"/>\n       <use x=\"1226.806641\" xlink:href=\"#DejaVuSans-110\"/>\n      </g>\n     </g>\n    </g>\n    <g id=\"xtick_47\">\n     <g id=\"line2d_47\">\n      <g>\n       <use style=\"stroke:#000000;stroke-width:0.8;\" x=\"319.465\" xlink:href=\"#mbb5199c8e6\" y=\"348.478125\"/>\n      </g>\n     </g>\n     <g id=\"text_47\">\n      <!-- d1_resprate_max -->\n      <g transform=\"translate(321.299219 415.963594)rotate(-90)scale(0.07 -0.07)\">\n       <use xlink:href=\"#DejaVuSans-100\"/>\n       <use x=\"63.476562\" xlink:href=\"#DejaVuSans-49\"/>\n       <use x=\"127.099609\" xlink:href=\"#DejaVuSans-95\"/>\n       <use x=\"177.099609\" xlink:href=\"#DejaVuSans-114\"/>\n       <use x=\"215.962891\" xlink:href=\"#DejaVuSans-101\"/>\n       <use x=\"277.486328\" xlink:href=\"#DejaVuSans-115\"/>\n       <use x=\"329.585938\" xlink:href=\"#DejaVuSans-112\"/>\n       <use x=\"393.0625\" xlink:href=\"#DejaVuSans-114\"/>\n       <use x=\"434.175781\" xlink:href=\"#DejaVuSans-97\"/>\n       <use x=\"495.455078\" xlink:href=\"#DejaVuSans-116\"/>\n       <use x=\"534.664062\" xlink:href=\"#DejaVuSans-101\"/>\n       <use x=\"596.1875\" xlink:href=\"#DejaVuSans-95\"/>\n       <use x=\"646.1875\" xlink:href=\"#DejaVuSans-109\"/>\n       <use x=\"743.599609\" xlink:href=\"#DejaVuSans-97\"/>\n       <use x=\"804.878906\" xlink:href=\"#DejaVuSans-120\"/>\n      </g>\n     </g>\n    </g>\n    <g id=\"xtick_48\">\n     <g id=\"line2d_48\">\n      <g>\n       <use style=\"stroke:#000000;stroke-width:0.8;\" x=\"325.7425\" xlink:href=\"#mbb5199c8e6\" y=\"348.478125\"/>\n      </g>\n     </g>\n     <g id=\"text_48\">\n      <!-- d1_resprate_min -->\n      <g transform=\"translate(327.576719 413.911719)rotate(-90)scale(0.07 -0.07)\">\n       <use xlink:href=\"#DejaVuSans-100\"/>\n       <use x=\"63.476562\" xlink:href=\"#DejaVuSans-49\"/>\n       <use x=\"127.099609\" xlink:href=\"#DejaVuSans-95\"/>\n       <use x=\"177.099609\" xlink:href=\"#DejaVuSans-114\"/>\n       <use x=\"215.962891\" xlink:href=\"#DejaVuSans-101\"/>\n       <use x=\"277.486328\" xlink:href=\"#DejaVuSans-115\"/>\n       <use x=\"329.585938\" xlink:href=\"#DejaVuSans-112\"/>\n       <use x=\"393.0625\" xlink:href=\"#DejaVuSans-114\"/>\n       <use x=\"434.175781\" xlink:href=\"#DejaVuSans-97\"/>\n       <use x=\"495.455078\" xlink:href=\"#DejaVuSans-116\"/>\n       <use x=\"534.664062\" xlink:href=\"#DejaVuSans-101\"/>\n       <use x=\"596.1875\" xlink:href=\"#DejaVuSans-95\"/>\n       <use x=\"646.1875\" xlink:href=\"#DejaVuSans-109\"/>\n       <use x=\"743.599609\" xlink:href=\"#DejaVuSans-105\"/>\n       <use x=\"771.382812\" xlink:href=\"#DejaVuSans-110\"/>\n      </g>\n     </g>\n    </g>\n    <g id=\"xtick_49\">\n     <g id=\"line2d_49\">\n      <g>\n       <use style=\"stroke:#000000;stroke-width:0.8;\" x=\"332.02\" xlink:href=\"#mbb5199c8e6\" y=\"348.478125\"/>\n      </g>\n     </g>\n     <g id=\"text_49\">\n      <!-- d1_spo2_max -->\n      <g transform=\"translate(333.854219 403.454375)rotate(-90)scale(0.07 -0.07)\">\n       <use xlink:href=\"#DejaVuSans-100\"/>\n       <use x=\"63.476562\" xlink:href=\"#DejaVuSans-49\"/>\n       <use x=\"127.099609\" xlink:href=\"#DejaVuSans-95\"/>\n       <use x=\"177.099609\" xlink:href=\"#DejaVuSans-115\"/>\n       <use x=\"229.199219\" xlink:href=\"#DejaVuSans-112\"/>\n       <use x=\"292.675781\" xlink:href=\"#DejaVuSans-111\"/>\n       <use x=\"353.857422\" xlink:href=\"#DejaVuSans-50\"/>\n       <use x=\"417.480469\" xlink:href=\"#DejaVuSans-95\"/>\n       <use x=\"467.480469\" xlink:href=\"#DejaVuSans-109\"/>\n       <use x=\"564.892578\" xlink:href=\"#DejaVuSans-97\"/>\n       <use x=\"626.171875\" xlink:href=\"#DejaVuSans-120\"/>\n      </g>\n     </g>\n    </g>\n    <g id=\"xtick_50\">\n     <g id=\"line2d_50\">\n      <g>\n       <use style=\"stroke:#000000;stroke-width:0.8;\" x=\"338.2975\" xlink:href=\"#mbb5199c8e6\" y=\"348.478125\"/>\n      </g>\n     </g>\n     <g id=\"text_50\">\n      <!-- d1_spo2_min -->\n      <g transform=\"translate(340.131719 401.4025)rotate(-90)scale(0.07 -0.07)\">\n       <use xlink:href=\"#DejaVuSans-100\"/>\n       <use x=\"63.476562\" xlink:href=\"#DejaVuSans-49\"/>\n       <use x=\"127.099609\" xlink:href=\"#DejaVuSans-95\"/>\n       <use x=\"177.099609\" xlink:href=\"#DejaVuSans-115\"/>\n       <use x=\"229.199219\" xlink:href=\"#DejaVuSans-112\"/>\n       <use x=\"292.675781\" xlink:href=\"#DejaVuSans-111\"/>\n       <use x=\"353.857422\" xlink:href=\"#DejaVuSans-50\"/>\n       <use x=\"417.480469\" xlink:href=\"#DejaVuSans-95\"/>\n       <use x=\"467.480469\" xlink:href=\"#DejaVuSans-109\"/>\n       <use x=\"564.892578\" xlink:href=\"#DejaVuSans-105\"/>\n       <use x=\"592.675781\" xlink:href=\"#DejaVuSans-110\"/>\n      </g>\n     </g>\n    </g>\n    <g id=\"xtick_51\">\n     <g id=\"line2d_51\">\n      <g>\n       <use style=\"stroke:#000000;stroke-width:0.8;\" x=\"344.575\" xlink:href=\"#mbb5199c8e6\" y=\"348.478125\"/>\n      </g>\n     </g>\n     <g id=\"text_51\">\n      <!-- d1_sysbp_invasive_max -->\n      <g transform=\"translate(346.409219 439.306406)rotate(-90)scale(0.07 -0.07)\">\n       <use xlink:href=\"#DejaVuSans-100\"/>\n       <use x=\"63.476562\" xlink:href=\"#DejaVuSans-49\"/>\n       <use x=\"127.099609\" xlink:href=\"#DejaVuSans-95\"/>\n       <use x=\"177.099609\" xlink:href=\"#DejaVuSans-115\"/>\n       <use x=\"229.199219\" xlink:href=\"#DejaVuSans-121\"/>\n       <use x=\"288.378906\" xlink:href=\"#DejaVuSans-115\"/>\n       <use x=\"340.478516\" xlink:href=\"#DejaVuSans-98\"/>\n       <use x=\"403.955078\" xlink:href=\"#DejaVuSans-112\"/>\n       <use x=\"467.431641\" xlink:href=\"#DejaVuSans-95\"/>\n       <use x=\"517.431641\" xlink:href=\"#DejaVuSans-105\"/>\n       <use x=\"545.214844\" xlink:href=\"#DejaVuSans-110\"/>\n       <use x=\"608.59375\" xlink:href=\"#DejaVuSans-118\"/>\n       <use x=\"667.773438\" xlink:href=\"#DejaVuSans-97\"/>\n       <use x=\"729.052734\" xlink:href=\"#DejaVuSans-115\"/>\n       <use x=\"781.152344\" xlink:href=\"#DejaVuSans-105\"/>\n       <use x=\"808.935547\" xlink:href=\"#DejaVuSans-118\"/>\n       <use x=\"868.115234\" xlink:href=\"#DejaVuSans-101\"/>\n       <use x=\"929.638672\" xlink:href=\"#DejaVuSans-95\"/>\n       <use x=\"979.638672\" xlink:href=\"#DejaVuSans-109\"/>\n       <use x=\"1077.050781\" xlink:href=\"#DejaVuSans-97\"/>\n       <use x=\"1138.330078\" xlink:href=\"#DejaVuSans-120\"/>\n      </g>\n     </g>\n    </g>\n    <g id=\"xtick_52\">\n     <g id=\"line2d_52\">\n      <g>\n       <use style=\"stroke:#000000;stroke-width:0.8;\" x=\"350.8525\" xlink:href=\"#mbb5199c8e6\" y=\"348.478125\"/>\n      </g>\n     </g>\n     <g id=\"text_52\">\n      <!-- d1_sysbp_invasive_min -->\n      <g transform=\"translate(352.686719 437.254531)rotate(-90)scale(0.07 -0.07)\">\n       <use xlink:href=\"#DejaVuSans-100\"/>\n       <use x=\"63.476562\" xlink:href=\"#DejaVuSans-49\"/>\n       <use x=\"127.099609\" xlink:href=\"#DejaVuSans-95\"/>\n       <use x=\"177.099609\" xlink:href=\"#DejaVuSans-115\"/>\n       <use x=\"229.199219\" xlink:href=\"#DejaVuSans-121\"/>\n       <use x=\"288.378906\" xlink:href=\"#DejaVuSans-115\"/>\n       <use x=\"340.478516\" xlink:href=\"#DejaVuSans-98\"/>\n       <use x=\"403.955078\" xlink:href=\"#DejaVuSans-112\"/>\n       <use x=\"467.431641\" xlink:href=\"#DejaVuSans-95\"/>\n       <use x=\"517.431641\" xlink:href=\"#DejaVuSans-105\"/>\n       <use x=\"545.214844\" xlink:href=\"#DejaVuSans-110\"/>\n       <use x=\"608.59375\" xlink:href=\"#DejaVuSans-118\"/>\n       <use x=\"667.773438\" xlink:href=\"#DejaVuSans-97\"/>\n       <use x=\"729.052734\" xlink:href=\"#DejaVuSans-115\"/>\n       <use x=\"781.152344\" xlink:href=\"#DejaVuSans-105\"/>\n       <use x=\"808.935547\" xlink:href=\"#DejaVuSans-118\"/>\n       <use x=\"868.115234\" xlink:href=\"#DejaVuSans-101\"/>\n       <use x=\"929.638672\" xlink:href=\"#DejaVuSans-95\"/>\n       <use x=\"979.638672\" xlink:href=\"#DejaVuSans-109\"/>\n       <use x=\"1077.050781\" xlink:href=\"#DejaVuSans-105\"/>\n       <use x=\"1104.833984\" xlink:href=\"#DejaVuSans-110\"/>\n      </g>\n     </g>\n    </g>\n    <g id=\"xtick_53\">\n     <g id=\"line2d_53\">\n      <g>\n       <use style=\"stroke:#000000;stroke-width:0.8;\" x=\"357.13\" xlink:href=\"#mbb5199c8e6\" y=\"348.478125\"/>\n      </g>\n     </g>\n     <g id=\"text_53\">\n      <!-- d1_sysbp_max -->\n      <g transform=\"translate(358.964219 406.951094)rotate(-90)scale(0.07 -0.07)\">\n       <use xlink:href=\"#DejaVuSans-100\"/>\n       <use x=\"63.476562\" xlink:href=\"#DejaVuSans-49\"/>\n       <use x=\"127.099609\" xlink:href=\"#DejaVuSans-95\"/>\n       <use x=\"177.099609\" xlink:href=\"#DejaVuSans-115\"/>\n       <use x=\"229.199219\" xlink:href=\"#DejaVuSans-121\"/>\n       <use x=\"288.378906\" xlink:href=\"#DejaVuSans-115\"/>\n       <use x=\"340.478516\" xlink:href=\"#DejaVuSans-98\"/>\n       <use x=\"403.955078\" xlink:href=\"#DejaVuSans-112\"/>\n       <use x=\"467.431641\" xlink:href=\"#DejaVuSans-95\"/>\n       <use x=\"517.431641\" xlink:href=\"#DejaVuSans-109\"/>\n       <use x=\"614.84375\" xlink:href=\"#DejaVuSans-97\"/>\n       <use x=\"676.123047\" xlink:href=\"#DejaVuSans-120\"/>\n      </g>\n     </g>\n    </g>\n    <g id=\"xtick_54\">\n     <g id=\"line2d_54\">\n      <g>\n       <use style=\"stroke:#000000;stroke-width:0.8;\" x=\"363.4075\" xlink:href=\"#mbb5199c8e6\" y=\"348.478125\"/>\n      </g>\n     </g>\n     <g id=\"text_54\">\n      <!-- d1_sysbp_min -->\n      <g transform=\"translate(365.241719 404.899219)rotate(-90)scale(0.07 -0.07)\">\n       <use xlink:href=\"#DejaVuSans-100\"/>\n       <use x=\"63.476562\" xlink:href=\"#DejaVuSans-49\"/>\n       <use x=\"127.099609\" xlink:href=\"#DejaVuSans-95\"/>\n       <use x=\"177.099609\" xlink:href=\"#DejaVuSans-115\"/>\n       <use x=\"229.199219\" xlink:href=\"#DejaVuSans-121\"/>\n       <use x=\"288.378906\" xlink:href=\"#DejaVuSans-115\"/>\n       <use x=\"340.478516\" xlink:href=\"#DejaVuSans-98\"/>\n       <use x=\"403.955078\" xlink:href=\"#DejaVuSans-112\"/>\n       <use x=\"467.431641\" xlink:href=\"#DejaVuSans-95\"/>\n       <use x=\"517.431641\" xlink:href=\"#DejaVuSans-109\"/>\n       <use x=\"614.84375\" xlink:href=\"#DejaVuSans-105\"/>\n       <use x=\"642.626953\" xlink:href=\"#DejaVuSans-110\"/>\n      </g>\n     </g>\n    </g>\n    <g id=\"xtick_55\">\n     <g id=\"line2d_55\">\n      <g>\n       <use style=\"stroke:#000000;stroke-width:0.8;\" x=\"369.685\" xlink:href=\"#mbb5199c8e6\" y=\"348.478125\"/>\n      </g>\n     </g>\n     <g id=\"text_55\">\n      <!-- d1_sysbp_noninvasive_max -->\n      <g transform=\"translate(371.519219 452.462031)rotate(-90)scale(0.07 -0.07)\">\n       <use xlink:href=\"#DejaVuSans-100\"/>\n       <use x=\"63.476562\" xlink:href=\"#DejaVuSans-49\"/>\n       <use x=\"127.099609\" xlink:href=\"#DejaVuSans-95\"/>\n       <use x=\"177.099609\" xlink:href=\"#DejaVuSans-115\"/>\n       <use x=\"229.199219\" xlink:href=\"#DejaVuSans-121\"/>\n       <use x=\"288.378906\" xlink:href=\"#DejaVuSans-115\"/>\n       <use x=\"340.478516\" xlink:href=\"#DejaVuSans-98\"/>\n       <use x=\"403.955078\" xlink:href=\"#DejaVuSans-112\"/>\n       <use x=\"467.431641\" xlink:href=\"#DejaVuSans-95\"/>\n       <use x=\"517.431641\" xlink:href=\"#DejaVuSans-110\"/>\n       <use x=\"580.810547\" xlink:href=\"#DejaVuSans-111\"/>\n       <use x=\"641.992188\" xlink:href=\"#DejaVuSans-110\"/>\n       <use x=\"705.371094\" xlink:href=\"#DejaVuSans-105\"/>\n       <use x=\"733.154297\" xlink:href=\"#DejaVuSans-110\"/>\n       <use x=\"796.533203\" xlink:href=\"#DejaVuSans-118\"/>\n       <use x=\"855.712891\" xlink:href=\"#DejaVuSans-97\"/>\n       <use x=\"916.992188\" xlink:href=\"#DejaVuSans-115\"/>\n       <use x=\"969.091797\" xlink:href=\"#DejaVuSans-105\"/>\n       <use x=\"996.875\" xlink:href=\"#DejaVuSans-118\"/>\n       <use x=\"1056.054688\" xlink:href=\"#DejaVuSans-101\"/>\n       <use x=\"1117.578125\" xlink:href=\"#DejaVuSans-95\"/>\n       <use x=\"1167.578125\" xlink:href=\"#DejaVuSans-109\"/>\n       <use x=\"1264.990234\" xlink:href=\"#DejaVuSans-97\"/>\n       <use x=\"1326.269531\" xlink:href=\"#DejaVuSans-120\"/>\n      </g>\n     </g>\n    </g>\n    <g id=\"xtick_56\">\n     <g id=\"line2d_56\">\n      <g>\n       <use style=\"stroke:#000000;stroke-width:0.8;\" x=\"375.9625\" xlink:href=\"#mbb5199c8e6\" y=\"348.478125\"/>\n      </g>\n     </g>\n     <g id=\"text_56\">\n      <!-- d1_sysbp_noninvasive_min -->\n      <g transform=\"translate(377.796719 450.410156)rotate(-90)scale(0.07 -0.07)\">\n       <use xlink:href=\"#DejaVuSans-100\"/>\n       <use x=\"63.476562\" xlink:href=\"#DejaVuSans-49\"/>\n       <use x=\"127.099609\" xlink:href=\"#DejaVuSans-95\"/>\n       <use x=\"177.099609\" xlink:href=\"#DejaVuSans-115\"/>\n       <use x=\"229.199219\" xlink:href=\"#DejaVuSans-121\"/>\n       <use x=\"288.378906\" xlink:href=\"#DejaVuSans-115\"/>\n       <use x=\"340.478516\" xlink:href=\"#DejaVuSans-98\"/>\n       <use x=\"403.955078\" xlink:href=\"#DejaVuSans-112\"/>\n       <use x=\"467.431641\" xlink:href=\"#DejaVuSans-95\"/>\n       <use x=\"517.431641\" xlink:href=\"#DejaVuSans-110\"/>\n       <use x=\"580.810547\" xlink:href=\"#DejaVuSans-111\"/>\n       <use x=\"641.992188\" xlink:href=\"#DejaVuSans-110\"/>\n       <use x=\"705.371094\" xlink:href=\"#DejaVuSans-105\"/>\n       <use x=\"733.154297\" xlink:href=\"#DejaVuSans-110\"/>\n       <use x=\"796.533203\" xlink:href=\"#DejaVuSans-118\"/>\n       <use x=\"855.712891\" xlink:href=\"#DejaVuSans-97\"/>\n       <use x=\"916.992188\" xlink:href=\"#DejaVuSans-115\"/>\n       <use x=\"969.091797\" xlink:href=\"#DejaVuSans-105\"/>\n       <use x=\"996.875\" xlink:href=\"#DejaVuSans-118\"/>\n       <use x=\"1056.054688\" xlink:href=\"#DejaVuSans-101\"/>\n       <use x=\"1117.578125\" xlink:href=\"#DejaVuSans-95\"/>\n       <use x=\"1167.578125\" xlink:href=\"#DejaVuSans-109\"/>\n       <use x=\"1264.990234\" xlink:href=\"#DejaVuSans-105\"/>\n       <use x=\"1292.773438\" xlink:href=\"#DejaVuSans-110\"/>\n      </g>\n     </g>\n    </g>\n    <g id=\"xtick_57\">\n     <g id=\"line2d_57\">\n      <g>\n       <use style=\"stroke:#000000;stroke-width:0.8;\" x=\"382.24\" xlink:href=\"#mbb5199c8e6\" y=\"348.478125\"/>\n      </g>\n     </g>\n     <g id=\"text_57\">\n      <!-- d1_temp_max -->\n      <g transform=\"translate(384.074219 404.940781)rotate(-90)scale(0.07 -0.07)\">\n       <use xlink:href=\"#DejaVuSans-100\"/>\n       <use x=\"63.476562\" xlink:href=\"#DejaVuSans-49\"/>\n       <use x=\"127.099609\" xlink:href=\"#DejaVuSans-95\"/>\n       <use x=\"177.099609\" xlink:href=\"#DejaVuSans-116\"/>\n       <use x=\"216.308594\" xlink:href=\"#DejaVuSans-101\"/>\n       <use x=\"277.832031\" xlink:href=\"#DejaVuSans-109\"/>\n       <use x=\"375.244141\" xlink:href=\"#DejaVuSans-112\"/>\n       <use x=\"438.720703\" xlink:href=\"#DejaVuSans-95\"/>\n       <use x=\"488.720703\" xlink:href=\"#DejaVuSans-109\"/>\n       <use x=\"586.132812\" xlink:href=\"#DejaVuSans-97\"/>\n       <use x=\"647.412109\" xlink:href=\"#DejaVuSans-120\"/>\n      </g>\n     </g>\n    </g>\n    <g id=\"xtick_58\">\n     <g id=\"line2d_58\">\n      <g>\n       <use style=\"stroke:#000000;stroke-width:0.8;\" x=\"388.5175\" xlink:href=\"#mbb5199c8e6\" y=\"348.478125\"/>\n      </g>\n     </g>\n     <g id=\"text_58\">\n      <!-- d1_temp_min -->\n      <g transform=\"translate(390.351719 402.888906)rotate(-90)scale(0.07 -0.07)\">\n       <use xlink:href=\"#DejaVuSans-100\"/>\n       <use x=\"63.476562\" xlink:href=\"#DejaVuSans-49\"/>\n       <use x=\"127.099609\" xlink:href=\"#DejaVuSans-95\"/>\n       <use x=\"177.099609\" xlink:href=\"#DejaVuSans-116\"/>\n       <use x=\"216.308594\" xlink:href=\"#DejaVuSans-101\"/>\n       <use x=\"277.832031\" xlink:href=\"#DejaVuSans-109\"/>\n       <use x=\"375.244141\" xlink:href=\"#DejaVuSans-112\"/>\n       <use x=\"438.720703\" xlink:href=\"#DejaVuSans-95\"/>\n       <use x=\"488.720703\" xlink:href=\"#DejaVuSans-109\"/>\n       <use x=\"586.132812\" xlink:href=\"#DejaVuSans-105\"/>\n       <use x=\"613.916016\" xlink:href=\"#DejaVuSans-110\"/>\n      </g>\n     </g>\n    </g>\n    <g id=\"xtick_59\">\n     <g id=\"line2d_59\">\n      <g>\n       <use style=\"stroke:#000000;stroke-width:0.8;\" x=\"394.795\" xlink:href=\"#mbb5199c8e6\" y=\"348.478125\"/>\n      </g>\n     </g>\n     <g id=\"text_59\">\n      <!-- h1_diasbp_invasive_max -->\n      <g transform=\"translate(396.629219 442.187344)rotate(-90)scale(0.07 -0.07)\">\n       <use xlink:href=\"#DejaVuSans-104\"/>\n       <use x=\"63.378906\" xlink:href=\"#DejaVuSans-49\"/>\n       <use x=\"127.001953\" xlink:href=\"#DejaVuSans-95\"/>\n       <use x=\"177.001953\" xlink:href=\"#DejaVuSans-100\"/>\n       <use x=\"240.478516\" xlink:href=\"#DejaVuSans-105\"/>\n       <use x=\"268.261719\" xlink:href=\"#DejaVuSans-97\"/>\n       <use x=\"329.541016\" xlink:href=\"#DejaVuSans-115\"/>\n       <use x=\"381.640625\" xlink:href=\"#DejaVuSans-98\"/>\n       <use x=\"445.117188\" xlink:href=\"#DejaVuSans-112\"/>\n       <use x=\"508.59375\" xlink:href=\"#DejaVuSans-95\"/>\n       <use x=\"558.59375\" xlink:href=\"#DejaVuSans-105\"/>\n       <use x=\"586.376953\" xlink:href=\"#DejaVuSans-110\"/>\n       <use x=\"649.755859\" xlink:href=\"#DejaVuSans-118\"/>\n       <use x=\"708.935547\" xlink:href=\"#DejaVuSans-97\"/>\n       <use x=\"770.214844\" xlink:href=\"#DejaVuSans-115\"/>\n       <use x=\"822.314453\" xlink:href=\"#DejaVuSans-105\"/>\n       <use x=\"850.097656\" xlink:href=\"#DejaVuSans-118\"/>\n       <use x=\"909.277344\" xlink:href=\"#DejaVuSans-101\"/>\n       <use x=\"970.800781\" xlink:href=\"#DejaVuSans-95\"/>\n       <use x=\"1020.800781\" xlink:href=\"#DejaVuSans-109\"/>\n       <use x=\"1118.212891\" xlink:href=\"#DejaVuSans-97\"/>\n       <use x=\"1179.492188\" xlink:href=\"#DejaVuSans-120\"/>\n      </g>\n     </g>\n    </g>\n    <g id=\"xtick_60\">\n     <g id=\"line2d_60\">\n      <g>\n       <use style=\"stroke:#000000;stroke-width:0.8;\" x=\"401.0725\" xlink:href=\"#mbb5199c8e6\" y=\"348.478125\"/>\n      </g>\n     </g>\n     <g id=\"text_60\">\n      <!-- h1_diasbp_invasive_min -->\n      <g transform=\"translate(402.906719 440.135469)rotate(-90)scale(0.07 -0.07)\">\n       <use xlink:href=\"#DejaVuSans-104\"/>\n       <use x=\"63.378906\" xlink:href=\"#DejaVuSans-49\"/>\n       <use x=\"127.001953\" xlink:href=\"#DejaVuSans-95\"/>\n       <use x=\"177.001953\" xlink:href=\"#DejaVuSans-100\"/>\n       <use x=\"240.478516\" xlink:href=\"#DejaVuSans-105\"/>\n       <use x=\"268.261719\" xlink:href=\"#DejaVuSans-97\"/>\n       <use x=\"329.541016\" xlink:href=\"#DejaVuSans-115\"/>\n       <use x=\"381.640625\" xlink:href=\"#DejaVuSans-98\"/>\n       <use x=\"445.117188\" xlink:href=\"#DejaVuSans-112\"/>\n       <use x=\"508.59375\" xlink:href=\"#DejaVuSans-95\"/>\n       <use x=\"558.59375\" xlink:href=\"#DejaVuSans-105\"/>\n       <use x=\"586.376953\" xlink:href=\"#DejaVuSans-110\"/>\n       <use x=\"649.755859\" xlink:href=\"#DejaVuSans-118\"/>\n       <use x=\"708.935547\" xlink:href=\"#DejaVuSans-97\"/>\n       <use x=\"770.214844\" xlink:href=\"#DejaVuSans-115\"/>\n       <use x=\"822.314453\" xlink:href=\"#DejaVuSans-105\"/>\n       <use x=\"850.097656\" xlink:href=\"#DejaVuSans-118\"/>\n       <use x=\"909.277344\" xlink:href=\"#DejaVuSans-101\"/>\n       <use x=\"970.800781\" xlink:href=\"#DejaVuSans-95\"/>\n       <use x=\"1020.800781\" xlink:href=\"#DejaVuSans-109\"/>\n       <use x=\"1118.212891\" xlink:href=\"#DejaVuSans-105\"/>\n       <use x=\"1145.996094\" xlink:href=\"#DejaVuSans-110\"/>\n      </g>\n     </g>\n    </g>\n    <g id=\"xtick_61\">\n     <g id=\"line2d_61\">\n      <g>\n       <use style=\"stroke:#000000;stroke-width:0.8;\" x=\"407.35\" xlink:href=\"#mbb5199c8e6\" y=\"348.478125\"/>\n      </g>\n     </g>\n     <g id=\"text_61\">\n      <!-- h1_diasbp_max -->\n      <g transform=\"translate(409.184219 409.832031)rotate(-90)scale(0.07 -0.07)\">\n       <use xlink:href=\"#DejaVuSans-104\"/>\n       <use x=\"63.378906\" xlink:href=\"#DejaVuSans-49\"/>\n       <use x=\"127.001953\" xlink:href=\"#DejaVuSans-95\"/>\n       <use x=\"177.001953\" xlink:href=\"#DejaVuSans-100\"/>\n       <use x=\"240.478516\" xlink:href=\"#DejaVuSans-105\"/>\n       <use x=\"268.261719\" xlink:href=\"#DejaVuSans-97\"/>\n       <use x=\"329.541016\" xlink:href=\"#DejaVuSans-115\"/>\n       <use x=\"381.640625\" xlink:href=\"#DejaVuSans-98\"/>\n       <use x=\"445.117188\" xlink:href=\"#DejaVuSans-112\"/>\n       <use x=\"508.59375\" xlink:href=\"#DejaVuSans-95\"/>\n       <use x=\"558.59375\" xlink:href=\"#DejaVuSans-109\"/>\n       <use x=\"656.005859\" xlink:href=\"#DejaVuSans-97\"/>\n       <use x=\"717.285156\" xlink:href=\"#DejaVuSans-120\"/>\n      </g>\n     </g>\n    </g>\n    <g id=\"xtick_62\">\n     <g id=\"line2d_62\">\n      <g>\n       <use style=\"stroke:#000000;stroke-width:0.8;\" x=\"413.6275\" xlink:href=\"#mbb5199c8e6\" y=\"348.478125\"/>\n      </g>\n     </g>\n     <g id=\"text_62\">\n      <!-- h1_diasbp_min -->\n      <g transform=\"translate(415.461719 407.780156)rotate(-90)scale(0.07 -0.07)\">\n       <use xlink:href=\"#DejaVuSans-104\"/>\n       <use x=\"63.378906\" xlink:href=\"#DejaVuSans-49\"/>\n       <use x=\"127.001953\" xlink:href=\"#DejaVuSans-95\"/>\n       <use x=\"177.001953\" xlink:href=\"#DejaVuSans-100\"/>\n       <use x=\"240.478516\" xlink:href=\"#DejaVuSans-105\"/>\n       <use x=\"268.261719\" xlink:href=\"#DejaVuSans-97\"/>\n       <use x=\"329.541016\" xlink:href=\"#DejaVuSans-115\"/>\n       <use x=\"381.640625\" xlink:href=\"#DejaVuSans-98\"/>\n       <use x=\"445.117188\" xlink:href=\"#DejaVuSans-112\"/>\n       <use x=\"508.59375\" xlink:href=\"#DejaVuSans-95\"/>\n       <use x=\"558.59375\" xlink:href=\"#DejaVuSans-109\"/>\n       <use x=\"656.005859\" xlink:href=\"#DejaVuSans-105\"/>\n       <use x=\"683.789062\" xlink:href=\"#DejaVuSans-110\"/>\n      </g>\n     </g>\n    </g>\n    <g id=\"xtick_63\">\n     <g id=\"line2d_63\">\n      <g>\n       <use style=\"stroke:#000000;stroke-width:0.8;\" x=\"419.905\" xlink:href=\"#mbb5199c8e6\" y=\"348.478125\"/>\n      </g>\n     </g>\n     <g id=\"text_63\">\n      <!-- h1_diasbp_noninvasive_max -->\n      <g transform=\"translate(421.739219 455.342969)rotate(-90)scale(0.07 -0.07)\">\n       <use xlink:href=\"#DejaVuSans-104\"/>\n       <use x=\"63.378906\" xlink:href=\"#DejaVuSans-49\"/>\n       <use x=\"127.001953\" xlink:href=\"#DejaVuSans-95\"/>\n       <use x=\"177.001953\" xlink:href=\"#DejaVuSans-100\"/>\n       <use x=\"240.478516\" xlink:href=\"#DejaVuSans-105\"/>\n       <use x=\"268.261719\" xlink:href=\"#DejaVuSans-97\"/>\n       <use x=\"329.541016\" xlink:href=\"#DejaVuSans-115\"/>\n       <use x=\"381.640625\" xlink:href=\"#DejaVuSans-98\"/>\n       <use x=\"445.117188\" xlink:href=\"#DejaVuSans-112\"/>\n       <use x=\"508.59375\" xlink:href=\"#DejaVuSans-95\"/>\n       <use x=\"558.59375\" xlink:href=\"#DejaVuSans-110\"/>\n       <use x=\"621.972656\" xlink:href=\"#DejaVuSans-111\"/>\n       <use x=\"683.154297\" xlink:href=\"#DejaVuSans-110\"/>\n       <use x=\"746.533203\" xlink:href=\"#DejaVuSans-105\"/>\n       <use x=\"774.316406\" xlink:href=\"#DejaVuSans-110\"/>\n       <use x=\"837.695312\" xlink:href=\"#DejaVuSans-118\"/>\n       <use x=\"896.875\" xlink:href=\"#DejaVuSans-97\"/>\n       <use x=\"958.154297\" xlink:href=\"#DejaVuSans-115\"/>\n       <use x=\"1010.253906\" xlink:href=\"#DejaVuSans-105\"/>\n       <use x=\"1038.037109\" xlink:href=\"#DejaVuSans-118\"/>\n       <use x=\"1097.216797\" xlink:href=\"#DejaVuSans-101\"/>\n       <use x=\"1158.740234\" xlink:href=\"#DejaVuSans-95\"/>\n       <use x=\"1208.740234\" xlink:href=\"#DejaVuSans-109\"/>\n       <use x=\"1306.152344\" xlink:href=\"#DejaVuSans-97\"/>\n       <use x=\"1367.431641\" xlink:href=\"#DejaVuSans-120\"/>\n      </g>\n     </g>\n    </g>\n    <g id=\"xtick_64\">\n     <g id=\"line2d_64\">\n      <g>\n       <use style=\"stroke:#000000;stroke-width:0.8;\" x=\"426.1825\" xlink:href=\"#mbb5199c8e6\" y=\"348.478125\"/>\n      </g>\n     </g>\n     <g id=\"text_64\">\n      <!-- h1_diasbp_noninvasive_min -->\n      <g transform=\"translate(428.016719 453.291094)rotate(-90)scale(0.07 -0.07)\">\n       <use xlink:href=\"#DejaVuSans-104\"/>\n       <use x=\"63.378906\" xlink:href=\"#DejaVuSans-49\"/>\n       <use x=\"127.001953\" xlink:href=\"#DejaVuSans-95\"/>\n       <use x=\"177.001953\" xlink:href=\"#DejaVuSans-100\"/>\n       <use x=\"240.478516\" xlink:href=\"#DejaVuSans-105\"/>\n       <use x=\"268.261719\" xlink:href=\"#DejaVuSans-97\"/>\n       <use x=\"329.541016\" xlink:href=\"#DejaVuSans-115\"/>\n       <use x=\"381.640625\" xlink:href=\"#DejaVuSans-98\"/>\n       <use x=\"445.117188\" xlink:href=\"#DejaVuSans-112\"/>\n       <use x=\"508.59375\" xlink:href=\"#DejaVuSans-95\"/>\n       <use x=\"558.59375\" xlink:href=\"#DejaVuSans-110\"/>\n       <use x=\"621.972656\" xlink:href=\"#DejaVuSans-111\"/>\n       <use x=\"683.154297\" xlink:href=\"#DejaVuSans-110\"/>\n       <use x=\"746.533203\" xlink:href=\"#DejaVuSans-105\"/>\n       <use x=\"774.316406\" xlink:href=\"#DejaVuSans-110\"/>\n       <use x=\"837.695312\" xlink:href=\"#DejaVuSans-118\"/>\n       <use x=\"896.875\" xlink:href=\"#DejaVuSans-97\"/>\n       <use x=\"958.154297\" xlink:href=\"#DejaVuSans-115\"/>\n       <use x=\"1010.253906\" xlink:href=\"#DejaVuSans-105\"/>\n       <use x=\"1038.037109\" xlink:href=\"#DejaVuSans-118\"/>\n       <use x=\"1097.216797\" xlink:href=\"#DejaVuSans-101\"/>\n       <use x=\"1158.740234\" xlink:href=\"#DejaVuSans-95\"/>\n       <use x=\"1208.740234\" xlink:href=\"#DejaVuSans-109\"/>\n       <use x=\"1306.152344\" xlink:href=\"#DejaVuSans-105\"/>\n       <use x=\"1333.935547\" xlink:href=\"#DejaVuSans-110\"/>\n      </g>\n     </g>\n    </g>\n    <g id=\"xtick_65\">\n     <g id=\"line2d_65\">\n      <g>\n       <use style=\"stroke:#000000;stroke-width:0.8;\" x=\"432.46\" xlink:href=\"#mbb5199c8e6\" y=\"348.478125\"/>\n      </g>\n     </g>\n     <g id=\"text_65\">\n      <!-- h1_heartrate_max -->\n      <g transform=\"translate(434.294219 419.493125)rotate(-90)scale(0.07 -0.07)\">\n       <use xlink:href=\"#DejaVuSans-104\"/>\n       <use x=\"63.378906\" xlink:href=\"#DejaVuSans-49\"/>\n       <use x=\"127.001953\" xlink:href=\"#DejaVuSans-95\"/>\n       <use x=\"177.001953\" xlink:href=\"#DejaVuSans-104\"/>\n       <use x=\"240.380859\" xlink:href=\"#DejaVuSans-101\"/>\n       <use x=\"301.904297\" xlink:href=\"#DejaVuSans-97\"/>\n       <use x=\"363.183594\" xlink:href=\"#DejaVuSans-114\"/>\n       <use x=\"404.296875\" xlink:href=\"#DejaVuSans-116\"/>\n       <use x=\"443.505859\" xlink:href=\"#DejaVuSans-114\"/>\n       <use x=\"484.619141\" xlink:href=\"#DejaVuSans-97\"/>\n       <use x=\"545.898438\" xlink:href=\"#DejaVuSans-116\"/>\n       <use x=\"585.107422\" xlink:href=\"#DejaVuSans-101\"/>\n       <use x=\"646.630859\" xlink:href=\"#DejaVuSans-95\"/>\n       <use x=\"696.630859\" xlink:href=\"#DejaVuSans-109\"/>\n       <use x=\"794.042969\" xlink:href=\"#DejaVuSans-97\"/>\n       <use x=\"855.322266\" xlink:href=\"#DejaVuSans-120\"/>\n      </g>\n     </g>\n    </g>\n    <g id=\"xtick_66\">\n     <g id=\"line2d_66\">\n      <g>\n       <use style=\"stroke:#000000;stroke-width:0.8;\" x=\"438.7375\" xlink:href=\"#mbb5199c8e6\" y=\"348.478125\"/>\n      </g>\n     </g>\n     <g id=\"text_66\">\n      <!-- h1_heartrate_min -->\n      <g transform=\"translate(440.571719 417.44125)rotate(-90)scale(0.07 -0.07)\">\n       <use xlink:href=\"#DejaVuSans-104\"/>\n       <use x=\"63.378906\" xlink:href=\"#DejaVuSans-49\"/>\n       <use x=\"127.001953\" xlink:href=\"#DejaVuSans-95\"/>\n       <use x=\"177.001953\" xlink:href=\"#DejaVuSans-104\"/>\n       <use x=\"240.380859\" xlink:href=\"#DejaVuSans-101\"/>\n       <use x=\"301.904297\" xlink:href=\"#DejaVuSans-97\"/>\n       <use x=\"363.183594\" xlink:href=\"#DejaVuSans-114\"/>\n       <use x=\"404.296875\" xlink:href=\"#DejaVuSans-116\"/>\n       <use x=\"443.505859\" xlink:href=\"#DejaVuSans-114\"/>\n       <use x=\"484.619141\" xlink:href=\"#DejaVuSans-97\"/>\n       <use x=\"545.898438\" xlink:href=\"#DejaVuSans-116\"/>\n       <use x=\"585.107422\" xlink:href=\"#DejaVuSans-101\"/>\n       <use x=\"646.630859\" xlink:href=\"#DejaVuSans-95\"/>\n       <use x=\"696.630859\" xlink:href=\"#DejaVuSans-109\"/>\n       <use x=\"794.042969\" xlink:href=\"#DejaVuSans-105\"/>\n       <use x=\"821.826172\" xlink:href=\"#DejaVuSans-110\"/>\n      </g>\n     </g>\n    </g>\n    <g id=\"xtick_67\">\n     <g id=\"line2d_67\">\n      <g>\n       <use style=\"stroke:#000000;stroke-width:0.8;\" x=\"445.015\" xlink:href=\"#mbb5199c8e6\" y=\"348.478125\"/>\n      </g>\n     </g>\n     <g id=\"text_67\">\n      <!-- h1_mbp_invasive_max -->\n      <g transform=\"translate(446.849219 434.680937)rotate(-90)scale(0.07 -0.07)\">\n       <use xlink:href=\"#DejaVuSans-104\"/>\n       <use x=\"63.378906\" xlink:href=\"#DejaVuSans-49\"/>\n       <use x=\"127.001953\" xlink:href=\"#DejaVuSans-95\"/>\n       <use x=\"177.001953\" xlink:href=\"#DejaVuSans-109\"/>\n       <use x=\"274.414062\" xlink:href=\"#DejaVuSans-98\"/>\n       <use x=\"337.890625\" xlink:href=\"#DejaVuSans-112\"/>\n       <use x=\"401.367188\" xlink:href=\"#DejaVuSans-95\"/>\n       <use x=\"451.367188\" xlink:href=\"#DejaVuSans-105\"/>\n       <use x=\"479.150391\" xlink:href=\"#DejaVuSans-110\"/>\n       <use x=\"542.529297\" xlink:href=\"#DejaVuSans-118\"/>\n       <use x=\"601.708984\" xlink:href=\"#DejaVuSans-97\"/>\n       <use x=\"662.988281\" xlink:href=\"#DejaVuSans-115\"/>\n       <use x=\"715.087891\" xlink:href=\"#DejaVuSans-105\"/>\n       <use x=\"742.871094\" xlink:href=\"#DejaVuSans-118\"/>\n       <use x=\"802.050781\" xlink:href=\"#DejaVuSans-101\"/>\n       <use x=\"863.574219\" xlink:href=\"#DejaVuSans-95\"/>\n       <use x=\"913.574219\" xlink:href=\"#DejaVuSans-109\"/>\n       <use x=\"1010.986328\" xlink:href=\"#DejaVuSans-97\"/>\n       <use x=\"1072.265625\" xlink:href=\"#DejaVuSans-120\"/>\n      </g>\n     </g>\n    </g>\n    <g id=\"xtick_68\">\n     <g id=\"line2d_68\">\n      <g>\n       <use style=\"stroke:#000000;stroke-width:0.8;\" x=\"451.2925\" xlink:href=\"#mbb5199c8e6\" y=\"348.478125\"/>\n      </g>\n     </g>\n     <g id=\"text_68\">\n      <!-- h1_mbp_invasive_min -->\n      <g transform=\"translate(453.126719 432.629062)rotate(-90)scale(0.07 -0.07)\">\n       <use xlink:href=\"#DejaVuSans-104\"/>\n       <use x=\"63.378906\" xlink:href=\"#DejaVuSans-49\"/>\n       <use x=\"127.001953\" xlink:href=\"#DejaVuSans-95\"/>\n       <use x=\"177.001953\" xlink:href=\"#DejaVuSans-109\"/>\n       <use x=\"274.414062\" xlink:href=\"#DejaVuSans-98\"/>\n       <use x=\"337.890625\" xlink:href=\"#DejaVuSans-112\"/>\n       <use x=\"401.367188\" xlink:href=\"#DejaVuSans-95\"/>\n       <use x=\"451.367188\" xlink:href=\"#DejaVuSans-105\"/>\n       <use x=\"479.150391\" xlink:href=\"#DejaVuSans-110\"/>\n       <use x=\"542.529297\" xlink:href=\"#DejaVuSans-118\"/>\n       <use x=\"601.708984\" xlink:href=\"#DejaVuSans-97\"/>\n       <use x=\"662.988281\" xlink:href=\"#DejaVuSans-115\"/>\n       <use x=\"715.087891\" xlink:href=\"#DejaVuSans-105\"/>\n       <use x=\"742.871094\" xlink:href=\"#DejaVuSans-118\"/>\n       <use x=\"802.050781\" xlink:href=\"#DejaVuSans-101\"/>\n       <use x=\"863.574219\" xlink:href=\"#DejaVuSans-95\"/>\n       <use x=\"913.574219\" xlink:href=\"#DejaVuSans-109\"/>\n       <use x=\"1010.986328\" xlink:href=\"#DejaVuSans-105\"/>\n       <use x=\"1038.769531\" xlink:href=\"#DejaVuSans-110\"/>\n      </g>\n     </g>\n    </g>\n    <g id=\"xtick_69\">\n     <g id=\"line2d_69\">\n      <g>\n       <use style=\"stroke:#000000;stroke-width:0.8;\" x=\"457.57\" xlink:href=\"#mbb5199c8e6\" y=\"348.478125\"/>\n      </g>\n     </g>\n     <g id=\"text_69\">\n      <!-- h1_mbp_max -->\n      <g transform=\"translate(459.404219 402.325625)rotate(-90)scale(0.07 -0.07)\">\n       <use xlink:href=\"#DejaVuSans-104\"/>\n       <use x=\"63.378906\" xlink:href=\"#DejaVuSans-49\"/>\n       <use x=\"127.001953\" xlink:href=\"#DejaVuSans-95\"/>\n       <use x=\"177.001953\" xlink:href=\"#DejaVuSans-109\"/>\n       <use x=\"274.414062\" xlink:href=\"#DejaVuSans-98\"/>\n       <use x=\"337.890625\" xlink:href=\"#DejaVuSans-112\"/>\n       <use x=\"401.367188\" xlink:href=\"#DejaVuSans-95\"/>\n       <use x=\"451.367188\" xlink:href=\"#DejaVuSans-109\"/>\n       <use x=\"548.779297\" xlink:href=\"#DejaVuSans-97\"/>\n       <use x=\"610.058594\" xlink:href=\"#DejaVuSans-120\"/>\n      </g>\n     </g>\n    </g>\n    <g id=\"xtick_70\">\n     <g id=\"line2d_70\">\n      <g>\n       <use style=\"stroke:#000000;stroke-width:0.8;\" x=\"463.8475\" xlink:href=\"#mbb5199c8e6\" y=\"348.478125\"/>\n      </g>\n     </g>\n     <g id=\"text_70\">\n      <!-- h1_mbp_min -->\n      <g transform=\"translate(465.681719 400.27375)rotate(-90)scale(0.07 -0.07)\">\n       <use xlink:href=\"#DejaVuSans-104\"/>\n       <use x=\"63.378906\" xlink:href=\"#DejaVuSans-49\"/>\n       <use x=\"127.001953\" xlink:href=\"#DejaVuSans-95\"/>\n       <use x=\"177.001953\" xlink:href=\"#DejaVuSans-109\"/>\n       <use x=\"274.414062\" xlink:href=\"#DejaVuSans-98\"/>\n       <use x=\"337.890625\" xlink:href=\"#DejaVuSans-112\"/>\n       <use x=\"401.367188\" xlink:href=\"#DejaVuSans-95\"/>\n       <use x=\"451.367188\" xlink:href=\"#DejaVuSans-109\"/>\n       <use x=\"548.779297\" xlink:href=\"#DejaVuSans-105\"/>\n       <use x=\"576.5625\" xlink:href=\"#DejaVuSans-110\"/>\n      </g>\n     </g>\n    </g>\n    <g id=\"xtick_71\">\n     <g id=\"line2d_71\">\n      <g>\n       <use style=\"stroke:#000000;stroke-width:0.8;\" x=\"470.125\" xlink:href=\"#mbb5199c8e6\" y=\"348.478125\"/>\n      </g>\n     </g>\n     <g id=\"text_71\">\n      <!-- h1_mbp_noninvasive_max -->\n      <g transform=\"translate(471.959219 447.836562)rotate(-90)scale(0.07 -0.07)\">\n       <use xlink:href=\"#DejaVuSans-104\"/>\n       <use x=\"63.378906\" xlink:href=\"#DejaVuSans-49\"/>\n       <use x=\"127.001953\" xlink:href=\"#DejaVuSans-95\"/>\n       <use x=\"177.001953\" xlink:href=\"#DejaVuSans-109\"/>\n       <use x=\"274.414062\" xlink:href=\"#DejaVuSans-98\"/>\n       <use x=\"337.890625\" xlink:href=\"#DejaVuSans-112\"/>\n       <use x=\"401.367188\" xlink:href=\"#DejaVuSans-95\"/>\n       <use x=\"451.367188\" xlink:href=\"#DejaVuSans-110\"/>\n       <use x=\"514.746094\" xlink:href=\"#DejaVuSans-111\"/>\n       <use x=\"575.927734\" xlink:href=\"#DejaVuSans-110\"/>\n       <use x=\"639.306641\" xlink:href=\"#DejaVuSans-105\"/>\n       <use x=\"667.089844\" xlink:href=\"#DejaVuSans-110\"/>\n       <use x=\"730.46875\" xlink:href=\"#DejaVuSans-118\"/>\n       <use x=\"789.648438\" xlink:href=\"#DejaVuSans-97\"/>\n       <use x=\"850.927734\" xlink:href=\"#DejaVuSans-115\"/>\n       <use x=\"903.027344\" xlink:href=\"#DejaVuSans-105\"/>\n       <use x=\"930.810547\" xlink:href=\"#DejaVuSans-118\"/>\n       <use x=\"989.990234\" xlink:href=\"#DejaVuSans-101\"/>\n       <use x=\"1051.513672\" xlink:href=\"#DejaVuSans-95\"/>\n       <use x=\"1101.513672\" xlink:href=\"#DejaVuSans-109\"/>\n       <use x=\"1198.925781\" xlink:href=\"#DejaVuSans-97\"/>\n       <use x=\"1260.205078\" xlink:href=\"#DejaVuSans-120\"/>\n      </g>\n     </g>\n    </g>\n    <g id=\"xtick_72\">\n     <g id=\"line2d_72\">\n      <g>\n       <use style=\"stroke:#000000;stroke-width:0.8;\" x=\"476.4025\" xlink:href=\"#mbb5199c8e6\" y=\"348.478125\"/>\n      </g>\n     </g>\n     <g id=\"text_72\">\n      <!-- h1_mbp_noninvasive_min -->\n      <g transform=\"translate(478.236719 445.784687)rotate(-90)scale(0.07 -0.07)\">\n       <use xlink:href=\"#DejaVuSans-104\"/>\n       <use x=\"63.378906\" xlink:href=\"#DejaVuSans-49\"/>\n       <use x=\"127.001953\" xlink:href=\"#DejaVuSans-95\"/>\n       <use x=\"177.001953\" xlink:href=\"#DejaVuSans-109\"/>\n       <use x=\"274.414062\" xlink:href=\"#DejaVuSans-98\"/>\n       <use x=\"337.890625\" xlink:href=\"#DejaVuSans-112\"/>\n       <use x=\"401.367188\" xlink:href=\"#DejaVuSans-95\"/>\n       <use x=\"451.367188\" xlink:href=\"#DejaVuSans-110\"/>\n       <use x=\"514.746094\" xlink:href=\"#DejaVuSans-111\"/>\n       <use x=\"575.927734\" xlink:href=\"#DejaVuSans-110\"/>\n       <use x=\"639.306641\" xlink:href=\"#DejaVuSans-105\"/>\n       <use x=\"667.089844\" xlink:href=\"#DejaVuSans-110\"/>\n       <use x=\"730.46875\" xlink:href=\"#DejaVuSans-118\"/>\n       <use x=\"789.648438\" xlink:href=\"#DejaVuSans-97\"/>\n       <use x=\"850.927734\" xlink:href=\"#DejaVuSans-115\"/>\n       <use x=\"903.027344\" xlink:href=\"#DejaVuSans-105\"/>\n       <use x=\"930.810547\" xlink:href=\"#DejaVuSans-118\"/>\n       <use x=\"989.990234\" xlink:href=\"#DejaVuSans-101\"/>\n       <use x=\"1051.513672\" xlink:href=\"#DejaVuSans-95\"/>\n       <use x=\"1101.513672\" xlink:href=\"#DejaVuSans-109\"/>\n       <use x=\"1198.925781\" xlink:href=\"#DejaVuSans-105\"/>\n       <use x=\"1226.708984\" xlink:href=\"#DejaVuSans-110\"/>\n      </g>\n     </g>\n    </g>\n    <g id=\"xtick_73\">\n     <g id=\"line2d_73\">\n      <g>\n       <use style=\"stroke:#000000;stroke-width:0.8;\" x=\"482.68\" xlink:href=\"#mbb5199c8e6\" y=\"348.478125\"/>\n      </g>\n     </g>\n     <g id=\"text_73\">\n      <!-- h1_resprate_max -->\n      <g transform=\"translate(484.514219 415.955937)rotate(-90)scale(0.07 -0.07)\">\n       <use xlink:href=\"#DejaVuSans-104\"/>\n       <use x=\"63.378906\" xlink:href=\"#DejaVuSans-49\"/>\n       <use x=\"127.001953\" xlink:href=\"#DejaVuSans-95\"/>\n       <use x=\"177.001953\" xlink:href=\"#DejaVuSans-114\"/>\n       <use x=\"215.865234\" xlink:href=\"#DejaVuSans-101\"/>\n       <use x=\"277.388672\" xlink:href=\"#DejaVuSans-115\"/>\n       <use x=\"329.488281\" xlink:href=\"#DejaVuSans-112\"/>\n       <use x=\"392.964844\" xlink:href=\"#DejaVuSans-114\"/>\n       <use x=\"434.078125\" xlink:href=\"#DejaVuSans-97\"/>\n       <use x=\"495.357422\" xlink:href=\"#DejaVuSans-116\"/>\n       <use x=\"534.566406\" xlink:href=\"#DejaVuSans-101\"/>\n       <use x=\"596.089844\" xlink:href=\"#DejaVuSans-95\"/>\n       <use x=\"646.089844\" xlink:href=\"#DejaVuSans-109\"/>\n       <use x=\"743.501953\" xlink:href=\"#DejaVuSans-97\"/>\n       <use x=\"804.78125\" xlink:href=\"#DejaVuSans-120\"/>\n      </g>\n     </g>\n    </g>\n    <g id=\"xtick_74\">\n     <g id=\"line2d_74\">\n      <g>\n       <use style=\"stroke:#000000;stroke-width:0.8;\" x=\"488.9575\" xlink:href=\"#mbb5199c8e6\" y=\"348.478125\"/>\n      </g>\n     </g>\n     <g id=\"text_74\">\n      <!-- h1_resprate_min -->\n      <g transform=\"translate(490.791719 413.904062)rotate(-90)scale(0.07 -0.07)\">\n       <use xlink:href=\"#DejaVuSans-104\"/>\n       <use x=\"63.378906\" xlink:href=\"#DejaVuSans-49\"/>\n       <use x=\"127.001953\" xlink:href=\"#DejaVuSans-95\"/>\n       <use x=\"177.001953\" xlink:href=\"#DejaVuSans-114\"/>\n       <use x=\"215.865234\" xlink:href=\"#DejaVuSans-101\"/>\n       <use x=\"277.388672\" xlink:href=\"#DejaVuSans-115\"/>\n       <use x=\"329.488281\" xlink:href=\"#DejaVuSans-112\"/>\n       <use x=\"392.964844\" xlink:href=\"#DejaVuSans-114\"/>\n       <use x=\"434.078125\" xlink:href=\"#DejaVuSans-97\"/>\n       <use x=\"495.357422\" xlink:href=\"#DejaVuSans-116\"/>\n       <use x=\"534.566406\" xlink:href=\"#DejaVuSans-101\"/>\n       <use x=\"596.089844\" xlink:href=\"#DejaVuSans-95\"/>\n       <use x=\"646.089844\" xlink:href=\"#DejaVuSans-109\"/>\n       <use x=\"743.501953\" xlink:href=\"#DejaVuSans-105\"/>\n       <use x=\"771.285156\" xlink:href=\"#DejaVuSans-110\"/>\n      </g>\n     </g>\n    </g>\n    <g id=\"xtick_75\">\n     <g id=\"line2d_75\">\n      <g>\n       <use style=\"stroke:#000000;stroke-width:0.8;\" x=\"495.235\" xlink:href=\"#mbb5199c8e6\" y=\"348.478125\"/>\n      </g>\n     </g>\n     <g id=\"text_75\">\n      <!-- h1_spo2_max -->\n      <g transform=\"translate(497.069219 403.446719)rotate(-90)scale(0.07 -0.07)\">\n       <use xlink:href=\"#DejaVuSans-104\"/>\n       <use x=\"63.378906\" xlink:href=\"#DejaVuSans-49\"/>\n       <use x=\"127.001953\" xlink:href=\"#DejaVuSans-95\"/>\n       <use x=\"177.001953\" xlink:href=\"#DejaVuSans-115\"/>\n       <use x=\"229.101562\" xlink:href=\"#DejaVuSans-112\"/>\n       <use x=\"292.578125\" xlink:href=\"#DejaVuSans-111\"/>\n       <use x=\"353.759766\" xlink:href=\"#DejaVuSans-50\"/>\n       <use x=\"417.382812\" xlink:href=\"#DejaVuSans-95\"/>\n       <use x=\"467.382812\" xlink:href=\"#DejaVuSans-109\"/>\n       <use x=\"564.794922\" xlink:href=\"#DejaVuSans-97\"/>\n       <use x=\"626.074219\" xlink:href=\"#DejaVuSans-120\"/>\n      </g>\n     </g>\n    </g>\n    <g id=\"xtick_76\">\n     <g id=\"line2d_76\">\n      <g>\n       <use style=\"stroke:#000000;stroke-width:0.8;\" x=\"501.5125\" xlink:href=\"#mbb5199c8e6\" y=\"348.478125\"/>\n      </g>\n     </g>\n     <g id=\"text_76\">\n      <!-- h1_spo2_min -->\n      <g transform=\"translate(503.346719 401.394844)rotate(-90)scale(0.07 -0.07)\">\n       <use xlink:href=\"#DejaVuSans-104\"/>\n       <use x=\"63.378906\" xlink:href=\"#DejaVuSans-49\"/>\n       <use x=\"127.001953\" xlink:href=\"#DejaVuSans-95\"/>\n       <use x=\"177.001953\" xlink:href=\"#DejaVuSans-115\"/>\n       <use x=\"229.101562\" xlink:href=\"#DejaVuSans-112\"/>\n       <use x=\"292.578125\" xlink:href=\"#DejaVuSans-111\"/>\n       <use x=\"353.759766\" xlink:href=\"#DejaVuSans-50\"/>\n       <use x=\"417.382812\" xlink:href=\"#DejaVuSans-95\"/>\n       <use x=\"467.382812\" xlink:href=\"#DejaVuSans-109\"/>\n       <use x=\"564.794922\" xlink:href=\"#DejaVuSans-105\"/>\n       <use x=\"592.578125\" xlink:href=\"#DejaVuSans-110\"/>\n      </g>\n     </g>\n    </g>\n    <g id=\"xtick_77\">\n     <g id=\"line2d_77\">\n      <g>\n       <use style=\"stroke:#000000;stroke-width:0.8;\" x=\"507.79\" xlink:href=\"#mbb5199c8e6\" y=\"348.478125\"/>\n      </g>\n     </g>\n     <g id=\"text_77\">\n      <!-- h1_sysbp_invasive_max -->\n      <g transform=\"translate(509.624219 439.29875)rotate(-90)scale(0.07 -0.07)\">\n       <use xlink:href=\"#DejaVuSans-104\"/>\n       <use x=\"63.378906\" xlink:href=\"#DejaVuSans-49\"/>\n       <use x=\"127.001953\" xlink:href=\"#DejaVuSans-95\"/>\n       <use x=\"177.001953\" xlink:href=\"#DejaVuSans-115\"/>\n       <use x=\"229.101562\" xlink:href=\"#DejaVuSans-121\"/>\n       <use x=\"288.28125\" xlink:href=\"#DejaVuSans-115\"/>\n       <use x=\"340.380859\" xlink:href=\"#DejaVuSans-98\"/>\n       <use x=\"403.857422\" xlink:href=\"#DejaVuSans-112\"/>\n       <use x=\"467.333984\" xlink:href=\"#DejaVuSans-95\"/>\n       <use x=\"517.333984\" xlink:href=\"#DejaVuSans-105\"/>\n       <use x=\"545.117188\" xlink:href=\"#DejaVuSans-110\"/>\n       <use x=\"608.496094\" xlink:href=\"#DejaVuSans-118\"/>\n       <use x=\"667.675781\" xlink:href=\"#DejaVuSans-97\"/>\n       <use x=\"728.955078\" xlink:href=\"#DejaVuSans-115\"/>\n       <use x=\"781.054688\" xlink:href=\"#DejaVuSans-105\"/>\n       <use x=\"808.837891\" xlink:href=\"#DejaVuSans-118\"/>\n       <use x=\"868.017578\" xlink:href=\"#DejaVuSans-101\"/>\n       <use x=\"929.541016\" xlink:href=\"#DejaVuSans-95\"/>\n       <use x=\"979.541016\" xlink:href=\"#DejaVuSans-109\"/>\n       <use x=\"1076.953125\" xlink:href=\"#DejaVuSans-97\"/>\n       <use x=\"1138.232422\" xlink:href=\"#DejaVuSans-120\"/>\n      </g>\n     </g>\n    </g>\n    <g id=\"xtick_78\">\n     <g id=\"line2d_78\">\n      <g>\n       <use style=\"stroke:#000000;stroke-width:0.8;\" x=\"514.0675\" xlink:href=\"#mbb5199c8e6\" y=\"348.478125\"/>\n      </g>\n     </g>\n     <g id=\"text_78\">\n      <!-- h1_sysbp_invasive_min -->\n      <g transform=\"translate(515.901719 437.246875)rotate(-90)scale(0.07 -0.07)\">\n       <use xlink:href=\"#DejaVuSans-104\"/>\n       <use x=\"63.378906\" xlink:href=\"#DejaVuSans-49\"/>\n       <use x=\"127.001953\" xlink:href=\"#DejaVuSans-95\"/>\n       <use x=\"177.001953\" xlink:href=\"#DejaVuSans-115\"/>\n       <use x=\"229.101562\" xlink:href=\"#DejaVuSans-121\"/>\n       <use x=\"288.28125\" xlink:href=\"#DejaVuSans-115\"/>\n       <use x=\"340.380859\" xlink:href=\"#DejaVuSans-98\"/>\n       <use x=\"403.857422\" xlink:href=\"#DejaVuSans-112\"/>\n       <use x=\"467.333984\" xlink:href=\"#DejaVuSans-95\"/>\n       <use x=\"517.333984\" xlink:href=\"#DejaVuSans-105\"/>\n       <use x=\"545.117188\" xlink:href=\"#DejaVuSans-110\"/>\n       <use x=\"608.496094\" xlink:href=\"#DejaVuSans-118\"/>\n       <use x=\"667.675781\" xlink:href=\"#DejaVuSans-97\"/>\n       <use x=\"728.955078\" xlink:href=\"#DejaVuSans-115\"/>\n       <use x=\"781.054688\" xlink:href=\"#DejaVuSans-105\"/>\n       <use x=\"808.837891\" xlink:href=\"#DejaVuSans-118\"/>\n       <use x=\"868.017578\" xlink:href=\"#DejaVuSans-101\"/>\n       <use x=\"929.541016\" xlink:href=\"#DejaVuSans-95\"/>\n       <use x=\"979.541016\" xlink:href=\"#DejaVuSans-109\"/>\n       <use x=\"1076.953125\" xlink:href=\"#DejaVuSans-105\"/>\n       <use x=\"1104.736328\" xlink:href=\"#DejaVuSans-110\"/>\n      </g>\n     </g>\n    </g>\n    <g id=\"xtick_79\">\n     <g id=\"line2d_79\">\n      <g>\n       <use style=\"stroke:#000000;stroke-width:0.8;\" x=\"520.345\" xlink:href=\"#mbb5199c8e6\" y=\"348.478125\"/>\n      </g>\n     </g>\n     <g id=\"text_79\">\n      <!-- h1_sysbp_max -->\n      <g transform=\"translate(522.179219 406.943437)rotate(-90)scale(0.07 -0.07)\">\n       <use xlink:href=\"#DejaVuSans-104\"/>\n       <use x=\"63.378906\" xlink:href=\"#DejaVuSans-49\"/>\n       <use x=\"127.001953\" xlink:href=\"#DejaVuSans-95\"/>\n       <use x=\"177.001953\" xlink:href=\"#DejaVuSans-115\"/>\n       <use x=\"229.101562\" xlink:href=\"#DejaVuSans-121\"/>\n       <use x=\"288.28125\" xlink:href=\"#DejaVuSans-115\"/>\n       <use x=\"340.380859\" xlink:href=\"#DejaVuSans-98\"/>\n       <use x=\"403.857422\" xlink:href=\"#DejaVuSans-112\"/>\n       <use x=\"467.333984\" xlink:href=\"#DejaVuSans-95\"/>\n       <use x=\"517.333984\" xlink:href=\"#DejaVuSans-109\"/>\n       <use x=\"614.746094\" xlink:href=\"#DejaVuSans-97\"/>\n       <use x=\"676.025391\" xlink:href=\"#DejaVuSans-120\"/>\n      </g>\n     </g>\n    </g>\n    <g id=\"xtick_80\">\n     <g id=\"line2d_80\">\n      <g>\n       <use style=\"stroke:#000000;stroke-width:0.8;\" x=\"526.6225\" xlink:href=\"#mbb5199c8e6\" y=\"348.478125\"/>\n      </g>\n     </g>\n     <g id=\"text_80\">\n      <!-- h1_sysbp_min -->\n      <g transform=\"translate(528.456719 404.891562)rotate(-90)scale(0.07 -0.07)\">\n       <use xlink:href=\"#DejaVuSans-104\"/>\n       <use x=\"63.378906\" xlink:href=\"#DejaVuSans-49\"/>\n       <use x=\"127.001953\" xlink:href=\"#DejaVuSans-95\"/>\n       <use x=\"177.001953\" xlink:href=\"#DejaVuSans-115\"/>\n       <use x=\"229.101562\" xlink:href=\"#DejaVuSans-121\"/>\n       <use x=\"288.28125\" xlink:href=\"#DejaVuSans-115\"/>\n       <use x=\"340.380859\" xlink:href=\"#DejaVuSans-98\"/>\n       <use x=\"403.857422\" xlink:href=\"#DejaVuSans-112\"/>\n       <use x=\"467.333984\" xlink:href=\"#DejaVuSans-95\"/>\n       <use x=\"517.333984\" xlink:href=\"#DejaVuSans-109\"/>\n       <use x=\"614.746094\" xlink:href=\"#DejaVuSans-105\"/>\n       <use x=\"642.529297\" xlink:href=\"#DejaVuSans-110\"/>\n      </g>\n     </g>\n    </g>\n    <g id=\"xtick_81\">\n     <g id=\"line2d_81\">\n      <g>\n       <use style=\"stroke:#000000;stroke-width:0.8;\" x=\"532.9\" xlink:href=\"#mbb5199c8e6\" y=\"348.478125\"/>\n      </g>\n     </g>\n     <g id=\"text_81\">\n      <!-- h1_sysbp_noninvasive_max -->\n      <g transform=\"translate(534.734219 452.454375)rotate(-90)scale(0.07 -0.07)\">\n       <use xlink:href=\"#DejaVuSans-104\"/>\n       <use x=\"63.378906\" xlink:href=\"#DejaVuSans-49\"/>\n       <use x=\"127.001953\" xlink:href=\"#DejaVuSans-95\"/>\n       <use x=\"177.001953\" xlink:href=\"#DejaVuSans-115\"/>\n       <use x=\"229.101562\" xlink:href=\"#DejaVuSans-121\"/>\n       <use x=\"288.28125\" xlink:href=\"#DejaVuSans-115\"/>\n       <use x=\"340.380859\" xlink:href=\"#DejaVuSans-98\"/>\n       <use x=\"403.857422\" xlink:href=\"#DejaVuSans-112\"/>\n       <use x=\"467.333984\" xlink:href=\"#DejaVuSans-95\"/>\n       <use x=\"517.333984\" xlink:href=\"#DejaVuSans-110\"/>\n       <use x=\"580.712891\" xlink:href=\"#DejaVuSans-111\"/>\n       <use x=\"641.894531\" xlink:href=\"#DejaVuSans-110\"/>\n       <use x=\"705.273438\" xlink:href=\"#DejaVuSans-105\"/>\n       <use x=\"733.056641\" xlink:href=\"#DejaVuSans-110\"/>\n       <use x=\"796.435547\" xlink:href=\"#DejaVuSans-118\"/>\n       <use x=\"855.615234\" xlink:href=\"#DejaVuSans-97\"/>\n       <use x=\"916.894531\" xlink:href=\"#DejaVuSans-115\"/>\n       <use x=\"968.994141\" xlink:href=\"#DejaVuSans-105\"/>\n       <use x=\"996.777344\" xlink:href=\"#DejaVuSans-118\"/>\n       <use x=\"1055.957031\" xlink:href=\"#DejaVuSans-101\"/>\n       <use x=\"1117.480469\" xlink:href=\"#DejaVuSans-95\"/>\n       <use x=\"1167.480469\" xlink:href=\"#DejaVuSans-109\"/>\n       <use x=\"1264.892578\" xlink:href=\"#DejaVuSans-97\"/>\n       <use x=\"1326.171875\" xlink:href=\"#DejaVuSans-120\"/>\n      </g>\n     </g>\n    </g>\n    <g id=\"xtick_82\">\n     <g id=\"line2d_82\">\n      <g>\n       <use style=\"stroke:#000000;stroke-width:0.8;\" x=\"539.1775\" xlink:href=\"#mbb5199c8e6\" y=\"348.478125\"/>\n      </g>\n     </g>\n     <g id=\"text_82\">\n      <!-- h1_sysbp_noninvasive_min -->\n      <g transform=\"translate(541.011719 450.4025)rotate(-90)scale(0.07 -0.07)\">\n       <use xlink:href=\"#DejaVuSans-104\"/>\n       <use x=\"63.378906\" xlink:href=\"#DejaVuSans-49\"/>\n       <use x=\"127.001953\" xlink:href=\"#DejaVuSans-95\"/>\n       <use x=\"177.001953\" xlink:href=\"#DejaVuSans-115\"/>\n       <use x=\"229.101562\" xlink:href=\"#DejaVuSans-121\"/>\n       <use x=\"288.28125\" xlink:href=\"#DejaVuSans-115\"/>\n       <use x=\"340.380859\" xlink:href=\"#DejaVuSans-98\"/>\n       <use x=\"403.857422\" xlink:href=\"#DejaVuSans-112\"/>\n       <use x=\"467.333984\" xlink:href=\"#DejaVuSans-95\"/>\n       <use x=\"517.333984\" xlink:href=\"#DejaVuSans-110\"/>\n       <use x=\"580.712891\" xlink:href=\"#DejaVuSans-111\"/>\n       <use x=\"641.894531\" xlink:href=\"#DejaVuSans-110\"/>\n       <use x=\"705.273438\" xlink:href=\"#DejaVuSans-105\"/>\n       <use x=\"733.056641\" xlink:href=\"#DejaVuSans-110\"/>\n       <use x=\"796.435547\" xlink:href=\"#DejaVuSans-118\"/>\n       <use x=\"855.615234\" xlink:href=\"#DejaVuSans-97\"/>\n       <use x=\"916.894531\" xlink:href=\"#DejaVuSans-115\"/>\n       <use x=\"968.994141\" xlink:href=\"#DejaVuSans-105\"/>\n       <use x=\"996.777344\" xlink:href=\"#DejaVuSans-118\"/>\n       <use x=\"1055.957031\" xlink:href=\"#DejaVuSans-101\"/>\n       <use x=\"1117.480469\" xlink:href=\"#DejaVuSans-95\"/>\n       <use x=\"1167.480469\" xlink:href=\"#DejaVuSans-109\"/>\n       <use x=\"1264.892578\" xlink:href=\"#DejaVuSans-105\"/>\n       <use x=\"1292.675781\" xlink:href=\"#DejaVuSans-110\"/>\n      </g>\n     </g>\n    </g>\n    <g id=\"xtick_83\">\n     <g id=\"line2d_83\">\n      <g>\n       <use style=\"stroke:#000000;stroke-width:0.8;\" x=\"545.455\" xlink:href=\"#mbb5199c8e6\" y=\"348.478125\"/>\n      </g>\n     </g>\n     <g id=\"text_83\">\n      <!-- h1_temp_max -->\n      <g transform=\"translate(547.289219 404.933125)rotate(-90)scale(0.07 -0.07)\">\n       <use xlink:href=\"#DejaVuSans-104\"/>\n       <use x=\"63.378906\" xlink:href=\"#DejaVuSans-49\"/>\n       <use x=\"127.001953\" xlink:href=\"#DejaVuSans-95\"/>\n       <use x=\"177.001953\" xlink:href=\"#DejaVuSans-116\"/>\n       <use x=\"216.210938\" xlink:href=\"#DejaVuSans-101\"/>\n       <use x=\"277.734375\" xlink:href=\"#DejaVuSans-109\"/>\n       <use x=\"375.146484\" xlink:href=\"#DejaVuSans-112\"/>\n       <use x=\"438.623047\" xlink:href=\"#DejaVuSans-95\"/>\n       <use x=\"488.623047\" xlink:href=\"#DejaVuSans-109\"/>\n       <use x=\"586.035156\" xlink:href=\"#DejaVuSans-97\"/>\n       <use x=\"647.314453\" xlink:href=\"#DejaVuSans-120\"/>\n      </g>\n     </g>\n    </g>\n    <g id=\"xtick_84\">\n     <g id=\"line2d_84\">\n      <g>\n       <use style=\"stroke:#000000;stroke-width:0.8;\" x=\"551.7325\" xlink:href=\"#mbb5199c8e6\" y=\"348.478125\"/>\n      </g>\n     </g>\n     <g id=\"text_84\">\n      <!-- h1_temp_min -->\n      <g transform=\"translate(553.566719 402.88125)rotate(-90)scale(0.07 -0.07)\">\n       <use xlink:href=\"#DejaVuSans-104\"/>\n       <use x=\"63.378906\" xlink:href=\"#DejaVuSans-49\"/>\n       <use x=\"127.001953\" xlink:href=\"#DejaVuSans-95\"/>\n       <use x=\"177.001953\" xlink:href=\"#DejaVuSans-116\"/>\n       <use x=\"216.210938\" xlink:href=\"#DejaVuSans-101\"/>\n       <use x=\"277.734375\" xlink:href=\"#DejaVuSans-109\"/>\n       <use x=\"375.146484\" xlink:href=\"#DejaVuSans-112\"/>\n       <use x=\"438.623047\" xlink:href=\"#DejaVuSans-95\"/>\n       <use x=\"488.623047\" xlink:href=\"#DejaVuSans-109\"/>\n       <use x=\"586.035156\" xlink:href=\"#DejaVuSans-105\"/>\n       <use x=\"613.818359\" xlink:href=\"#DejaVuSans-110\"/>\n      </g>\n     </g>\n    </g>\n    <g id=\"xtick_85\">\n     <g id=\"line2d_85\">\n      <g>\n       <use style=\"stroke:#000000;stroke-width:0.8;\" x=\"558.01\" xlink:href=\"#mbb5199c8e6\" y=\"348.478125\"/>\n      </g>\n     </g>\n     <g id=\"text_85\">\n      <!-- d1_albumin_max -->\n      <g transform=\"translate(559.844219 414.940937)rotate(-90)scale(0.07 -0.07)\">\n       <use xlink:href=\"#DejaVuSans-100\"/>\n       <use x=\"63.476562\" xlink:href=\"#DejaVuSans-49\"/>\n       <use x=\"127.099609\" xlink:href=\"#DejaVuSans-95\"/>\n       <use x=\"177.099609\" xlink:href=\"#DejaVuSans-97\"/>\n       <use x=\"238.378906\" xlink:href=\"#DejaVuSans-108\"/>\n       <use x=\"266.162109\" xlink:href=\"#DejaVuSans-98\"/>\n       <use x=\"329.638672\" xlink:href=\"#DejaVuSans-117\"/>\n       <use x=\"393.017578\" xlink:href=\"#DejaVuSans-109\"/>\n       <use x=\"490.429688\" xlink:href=\"#DejaVuSans-105\"/>\n       <use x=\"518.212891\" xlink:href=\"#DejaVuSans-110\"/>\n       <use x=\"581.591797\" xlink:href=\"#DejaVuSans-95\"/>\n       <use x=\"631.591797\" xlink:href=\"#DejaVuSans-109\"/>\n       <use x=\"729.003906\" xlink:href=\"#DejaVuSans-97\"/>\n       <use x=\"790.283203\" xlink:href=\"#DejaVuSans-120\"/>\n      </g>\n     </g>\n    </g>\n    <g id=\"xtick_86\">\n     <g id=\"line2d_86\">\n      <g>\n       <use style=\"stroke:#000000;stroke-width:0.8;\" x=\"564.2875\" xlink:href=\"#mbb5199c8e6\" y=\"348.478125\"/>\n      </g>\n     </g>\n     <g id=\"text_86\">\n      <!-- d1_albumin_min -->\n      <g transform=\"translate(566.121719 412.889062)rotate(-90)scale(0.07 -0.07)\">\n       <use xlink:href=\"#DejaVuSans-100\"/>\n       <use x=\"63.476562\" xlink:href=\"#DejaVuSans-49\"/>\n       <use x=\"127.099609\" xlink:href=\"#DejaVuSans-95\"/>\n       <use x=\"177.099609\" xlink:href=\"#DejaVuSans-97\"/>\n       <use x=\"238.378906\" xlink:href=\"#DejaVuSans-108\"/>\n       <use x=\"266.162109\" xlink:href=\"#DejaVuSans-98\"/>\n       <use x=\"329.638672\" xlink:href=\"#DejaVuSans-117\"/>\n       <use x=\"393.017578\" xlink:href=\"#DejaVuSans-109\"/>\n       <use x=\"490.429688\" xlink:href=\"#DejaVuSans-105\"/>\n       <use x=\"518.212891\" xlink:href=\"#DejaVuSans-110\"/>\n       <use x=\"581.591797\" xlink:href=\"#DejaVuSans-95\"/>\n       <use x=\"631.591797\" xlink:href=\"#DejaVuSans-109\"/>\n       <use x=\"729.003906\" xlink:href=\"#DejaVuSans-105\"/>\n       <use x=\"756.787109\" xlink:href=\"#DejaVuSans-110\"/>\n      </g>\n     </g>\n    </g>\n    <g id=\"xtick_87\">\n     <g id=\"line2d_87\">\n      <g>\n       <use style=\"stroke:#000000;stroke-width:0.8;\" x=\"570.565\" xlink:href=\"#mbb5199c8e6\" y=\"348.478125\"/>\n      </g>\n     </g>\n     <g id=\"text_87\">\n      <!-- d1_bilirubin_max -->\n      <g transform=\"translate(572.399219 415.04375)rotate(-90)scale(0.07 -0.07)\">\n       <use xlink:href=\"#DejaVuSans-100\"/>\n       <use x=\"63.476562\" xlink:href=\"#DejaVuSans-49\"/>\n       <use x=\"127.099609\" xlink:href=\"#DejaVuSans-95\"/>\n       <use x=\"177.099609\" xlink:href=\"#DejaVuSans-98\"/>\n       <use x=\"240.576172\" xlink:href=\"#DejaVuSans-105\"/>\n       <use x=\"268.359375\" xlink:href=\"#DejaVuSans-108\"/>\n       <use x=\"296.142578\" xlink:href=\"#DejaVuSans-105\"/>\n       <use x=\"323.925781\" xlink:href=\"#DejaVuSans-114\"/>\n       <use x=\"365.039062\" xlink:href=\"#DejaVuSans-117\"/>\n       <use x=\"428.417969\" xlink:href=\"#DejaVuSans-98\"/>\n       <use x=\"491.894531\" xlink:href=\"#DejaVuSans-105\"/>\n       <use x=\"519.677734\" xlink:href=\"#DejaVuSans-110\"/>\n       <use x=\"583.056641\" xlink:href=\"#DejaVuSans-95\"/>\n       <use x=\"633.056641\" xlink:href=\"#DejaVuSans-109\"/>\n       <use x=\"730.46875\" xlink:href=\"#DejaVuSans-97\"/>\n       <use x=\"791.748047\" xlink:href=\"#DejaVuSans-120\"/>\n      </g>\n     </g>\n    </g>\n    <g id=\"xtick_88\">\n     <g id=\"line2d_88\">\n      <g>\n       <use style=\"stroke:#000000;stroke-width:0.8;\" x=\"576.8425\" xlink:href=\"#mbb5199c8e6\" y=\"348.478125\"/>\n      </g>\n     </g>\n     <g id=\"text_88\">\n      <!-- d1_bilirubin_min -->\n      <g transform=\"translate(578.676719 412.991875)rotate(-90)scale(0.07 -0.07)\">\n       <use xlink:href=\"#DejaVuSans-100\"/>\n       <use x=\"63.476562\" xlink:href=\"#DejaVuSans-49\"/>\n       <use x=\"127.099609\" xlink:href=\"#DejaVuSans-95\"/>\n       <use x=\"177.099609\" xlink:href=\"#DejaVuSans-98\"/>\n       <use x=\"240.576172\" xlink:href=\"#DejaVuSans-105\"/>\n       <use x=\"268.359375\" xlink:href=\"#DejaVuSans-108\"/>\n       <use x=\"296.142578\" xlink:href=\"#DejaVuSans-105\"/>\n       <use x=\"323.925781\" xlink:href=\"#DejaVuSans-114\"/>\n       <use x=\"365.039062\" xlink:href=\"#DejaVuSans-117\"/>\n       <use x=\"428.417969\" xlink:href=\"#DejaVuSans-98\"/>\n       <use x=\"491.894531\" xlink:href=\"#DejaVuSans-105\"/>\n       <use x=\"519.677734\" xlink:href=\"#DejaVuSans-110\"/>\n       <use x=\"583.056641\" xlink:href=\"#DejaVuSans-95\"/>\n       <use x=\"633.056641\" xlink:href=\"#DejaVuSans-109\"/>\n       <use x=\"730.46875\" xlink:href=\"#DejaVuSans-105\"/>\n       <use x=\"758.251953\" xlink:href=\"#DejaVuSans-110\"/>\n      </g>\n     </g>\n    </g>\n    <g id=\"xtick_89\">\n     <g id=\"line2d_89\">\n      <g>\n       <use style=\"stroke:#000000;stroke-width:0.8;\" x=\"583.12\" xlink:href=\"#mbb5199c8e6\" y=\"348.478125\"/>\n      </g>\n     </g>\n     <g id=\"text_89\">\n      <!-- d1_bun_max -->\n      <g transform=\"translate(584.954219 399.943437)rotate(-90)scale(0.07 -0.07)\">\n       <use xlink:href=\"#DejaVuSans-100\"/>\n       <use x=\"63.476562\" xlink:href=\"#DejaVuSans-49\"/>\n       <use x=\"127.099609\" xlink:href=\"#DejaVuSans-95\"/>\n       <use x=\"177.099609\" xlink:href=\"#DejaVuSans-98\"/>\n       <use x=\"240.576172\" xlink:href=\"#DejaVuSans-117\"/>\n       <use x=\"303.955078\" xlink:href=\"#DejaVuSans-110\"/>\n       <use x=\"367.333984\" xlink:href=\"#DejaVuSans-95\"/>\n       <use x=\"417.333984\" xlink:href=\"#DejaVuSans-109\"/>\n       <use x=\"514.746094\" xlink:href=\"#DejaVuSans-97\"/>\n       <use x=\"576.025391\" xlink:href=\"#DejaVuSans-120\"/>\n      </g>\n     </g>\n    </g>\n    <g id=\"xtick_90\">\n     <g id=\"line2d_90\">\n      <g>\n       <use style=\"stroke:#000000;stroke-width:0.8;\" x=\"589.3975\" xlink:href=\"#mbb5199c8e6\" y=\"348.478125\"/>\n      </g>\n     </g>\n     <g id=\"text_90\">\n      <!-- d1_bun_min -->\n      <g transform=\"translate(591.231719 397.891562)rotate(-90)scale(0.07 -0.07)\">\n       <use xlink:href=\"#DejaVuSans-100\"/>\n       <use x=\"63.476562\" xlink:href=\"#DejaVuSans-49\"/>\n       <use x=\"127.099609\" xlink:href=\"#DejaVuSans-95\"/>\n       <use x=\"177.099609\" xlink:href=\"#DejaVuSans-98\"/>\n       <use x=\"240.576172\" xlink:href=\"#DejaVuSans-117\"/>\n       <use x=\"303.955078\" xlink:href=\"#DejaVuSans-110\"/>\n       <use x=\"367.333984\" xlink:href=\"#DejaVuSans-95\"/>\n       <use x=\"417.333984\" xlink:href=\"#DejaVuSans-109\"/>\n       <use x=\"514.746094\" xlink:href=\"#DejaVuSans-105\"/>\n       <use x=\"542.529297\" xlink:href=\"#DejaVuSans-110\"/>\n      </g>\n     </g>\n    </g>\n    <g id=\"xtick_91\">\n     <g id=\"line2d_91\">\n      <g>\n       <use style=\"stroke:#000000;stroke-width:0.8;\" x=\"595.675\" xlink:href=\"#mbb5199c8e6\" y=\"348.478125\"/>\n      </g>\n     </g>\n     <g id=\"text_91\">\n      <!-- d1_calcium_max -->\n      <g transform=\"translate(597.509219 413.758594)rotate(-90)scale(0.07 -0.07)\">\n       <use xlink:href=\"#DejaVuSans-100\"/>\n       <use x=\"63.476562\" xlink:href=\"#DejaVuSans-49\"/>\n       <use x=\"127.099609\" xlink:href=\"#DejaVuSans-95\"/>\n       <use x=\"177.099609\" xlink:href=\"#DejaVuSans-99\"/>\n       <use x=\"232.080078\" xlink:href=\"#DejaVuSans-97\"/>\n       <use x=\"293.359375\" xlink:href=\"#DejaVuSans-108\"/>\n       <use x=\"321.142578\" xlink:href=\"#DejaVuSans-99\"/>\n       <use x=\"376.123047\" xlink:href=\"#DejaVuSans-105\"/>\n       <use x=\"403.90625\" xlink:href=\"#DejaVuSans-117\"/>\n       <use x=\"467.285156\" xlink:href=\"#DejaVuSans-109\"/>\n       <use x=\"564.697266\" xlink:href=\"#DejaVuSans-95\"/>\n       <use x=\"614.697266\" xlink:href=\"#DejaVuSans-109\"/>\n       <use x=\"712.109375\" xlink:href=\"#DejaVuSans-97\"/>\n       <use x=\"773.388672\" xlink:href=\"#DejaVuSans-120\"/>\n      </g>\n     </g>\n    </g>\n    <g id=\"xtick_92\">\n     <g id=\"line2d_92\">\n      <g>\n       <use style=\"stroke:#000000;stroke-width:0.8;\" x=\"601.9525\" xlink:href=\"#mbb5199c8e6\" y=\"348.478125\"/>\n      </g>\n     </g>\n     <g id=\"text_92\">\n      <!-- d1_calcium_min -->\n      <g transform=\"translate(603.786719 411.706719)rotate(-90)scale(0.07 -0.07)\">\n       <use xlink:href=\"#DejaVuSans-100\"/>\n       <use x=\"63.476562\" xlink:href=\"#DejaVuSans-49\"/>\n       <use x=\"127.099609\" xlink:href=\"#DejaVuSans-95\"/>\n       <use x=\"177.099609\" xlink:href=\"#DejaVuSans-99\"/>\n       <use x=\"232.080078\" xlink:href=\"#DejaVuSans-97\"/>\n       <use x=\"293.359375\" xlink:href=\"#DejaVuSans-108\"/>\n       <use x=\"321.142578\" xlink:href=\"#DejaVuSans-99\"/>\n       <use x=\"376.123047\" xlink:href=\"#DejaVuSans-105\"/>\n       <use x=\"403.90625\" xlink:href=\"#DejaVuSans-117\"/>\n       <use x=\"467.285156\" xlink:href=\"#DejaVuSans-109\"/>\n       <use x=\"564.697266\" xlink:href=\"#DejaVuSans-95\"/>\n       <use x=\"614.697266\" xlink:href=\"#DejaVuSans-109\"/>\n       <use x=\"712.109375\" xlink:href=\"#DejaVuSans-105\"/>\n       <use x=\"739.892578\" xlink:href=\"#DejaVuSans-110\"/>\n      </g>\n     </g>\n    </g>\n    <g id=\"xtick_93\">\n     <g id=\"line2d_93\">\n      <g>\n       <use style=\"stroke:#000000;stroke-width:0.8;\" x=\"608.23\" xlink:href=\"#mbb5199c8e6\" y=\"348.478125\"/>\n      </g>\n     </g>\n     <g id=\"text_93\">\n      <!-- d1_creatinine_max -->\n      <g transform=\"translate(610.064219 421.60625)rotate(-90)scale(0.07 -0.07)\">\n       <use xlink:href=\"#DejaVuSans-100\"/>\n       <use x=\"63.476562\" xlink:href=\"#DejaVuSans-49\"/>\n       <use x=\"127.099609\" xlink:href=\"#DejaVuSans-95\"/>\n       <use x=\"177.099609\" xlink:href=\"#DejaVuSans-99\"/>\n       <use x=\"232.080078\" xlink:href=\"#DejaVuSans-114\"/>\n       <use x=\"270.943359\" xlink:href=\"#DejaVuSans-101\"/>\n       <use x=\"332.466797\" xlink:href=\"#DejaVuSans-97\"/>\n       <use x=\"393.746094\" xlink:href=\"#DejaVuSans-116\"/>\n       <use x=\"432.955078\" xlink:href=\"#DejaVuSans-105\"/>\n       <use x=\"460.738281\" xlink:href=\"#DejaVuSans-110\"/>\n       <use x=\"524.117188\" xlink:href=\"#DejaVuSans-105\"/>\n       <use x=\"551.900391\" xlink:href=\"#DejaVuSans-110\"/>\n       <use x=\"615.279297\" xlink:href=\"#DejaVuSans-101\"/>\n       <use x=\"676.802734\" xlink:href=\"#DejaVuSans-95\"/>\n       <use x=\"726.802734\" xlink:href=\"#DejaVuSans-109\"/>\n       <use x=\"824.214844\" xlink:href=\"#DejaVuSans-97\"/>\n       <use x=\"885.494141\" xlink:href=\"#DejaVuSans-120\"/>\n      </g>\n     </g>\n    </g>\n    <g id=\"xtick_94\">\n     <g id=\"line2d_94\">\n      <g>\n       <use style=\"stroke:#000000;stroke-width:0.8;\" x=\"614.5075\" xlink:href=\"#mbb5199c8e6\" y=\"348.478125\"/>\n      </g>\n     </g>\n     <g id=\"text_94\">\n      <!-- d1_creatinine_min -->\n      <g transform=\"translate(616.341719 419.554375)rotate(-90)scale(0.07 -0.07)\">\n       <use xlink:href=\"#DejaVuSans-100\"/>\n       <use x=\"63.476562\" xlink:href=\"#DejaVuSans-49\"/>\n       <use x=\"127.099609\" xlink:href=\"#DejaVuSans-95\"/>\n       <use x=\"177.099609\" xlink:href=\"#DejaVuSans-99\"/>\n       <use x=\"232.080078\" xlink:href=\"#DejaVuSans-114\"/>\n       <use x=\"270.943359\" xlink:href=\"#DejaVuSans-101\"/>\n       <use x=\"332.466797\" xlink:href=\"#DejaVuSans-97\"/>\n       <use x=\"393.746094\" xlink:href=\"#DejaVuSans-116\"/>\n       <use x=\"432.955078\" xlink:href=\"#DejaVuSans-105\"/>\n       <use x=\"460.738281\" xlink:href=\"#DejaVuSans-110\"/>\n       <use x=\"524.117188\" xlink:href=\"#DejaVuSans-105\"/>\n       <use x=\"551.900391\" xlink:href=\"#DejaVuSans-110\"/>\n       <use x=\"615.279297\" xlink:href=\"#DejaVuSans-101\"/>\n       <use x=\"676.802734\" xlink:href=\"#DejaVuSans-95\"/>\n       <use x=\"726.802734\" xlink:href=\"#DejaVuSans-109\"/>\n       <use x=\"824.214844\" xlink:href=\"#DejaVuSans-105\"/>\n       <use x=\"851.998047\" xlink:href=\"#DejaVuSans-110\"/>\n      </g>\n     </g>\n    </g>\n    <g id=\"xtick_95\">\n     <g id=\"line2d_95\">\n      <g>\n       <use style=\"stroke:#000000;stroke-width:0.8;\" x=\"620.785\" xlink:href=\"#mbb5199c8e6\" y=\"348.478125\"/>\n      </g>\n     </g>\n     <g id=\"text_95\">\n      <!-- d1_glucose_max -->\n      <g transform=\"translate(622.619219 413.537656)rotate(-90)scale(0.07 -0.07)\">\n       <use xlink:href=\"#DejaVuSans-100\"/>\n       <use x=\"63.476562\" xlink:href=\"#DejaVuSans-49\"/>\n       <use x=\"127.099609\" xlink:href=\"#DejaVuSans-95\"/>\n       <use x=\"177.099609\" xlink:href=\"#DejaVuSans-103\"/>\n       <use x=\"240.576172\" xlink:href=\"#DejaVuSans-108\"/>\n       <use x=\"268.359375\" xlink:href=\"#DejaVuSans-117\"/>\n       <use x=\"331.738281\" xlink:href=\"#DejaVuSans-99\"/>\n       <use x=\"386.71875\" xlink:href=\"#DejaVuSans-111\"/>\n       <use x=\"447.900391\" xlink:href=\"#DejaVuSans-115\"/>\n       <use x=\"500\" xlink:href=\"#DejaVuSans-101\"/>\n       <use x=\"561.523438\" xlink:href=\"#DejaVuSans-95\"/>\n       <use x=\"611.523438\" xlink:href=\"#DejaVuSans-109\"/>\n       <use x=\"708.935547\" xlink:href=\"#DejaVuSans-97\"/>\n       <use x=\"770.214844\" xlink:href=\"#DejaVuSans-120\"/>\n      </g>\n     </g>\n    </g>\n    <g id=\"xtick_96\">\n     <g id=\"line2d_96\">\n      <g>\n       <use style=\"stroke:#000000;stroke-width:0.8;\" x=\"627.0625\" xlink:href=\"#mbb5199c8e6\" y=\"348.478125\"/>\n      </g>\n     </g>\n     <g id=\"text_96\">\n      <!-- d1_glucose_min -->\n      <g transform=\"translate(628.896719 411.485781)rotate(-90)scale(0.07 -0.07)\">\n       <use xlink:href=\"#DejaVuSans-100\"/>\n       <use x=\"63.476562\" xlink:href=\"#DejaVuSans-49\"/>\n       <use x=\"127.099609\" xlink:href=\"#DejaVuSans-95\"/>\n       <use x=\"177.099609\" xlink:href=\"#DejaVuSans-103\"/>\n       <use x=\"240.576172\" xlink:href=\"#DejaVuSans-108\"/>\n       <use x=\"268.359375\" xlink:href=\"#DejaVuSans-117\"/>\n       <use x=\"331.738281\" xlink:href=\"#DejaVuSans-99\"/>\n       <use x=\"386.71875\" xlink:href=\"#DejaVuSans-111\"/>\n       <use x=\"447.900391\" xlink:href=\"#DejaVuSans-115\"/>\n       <use x=\"500\" xlink:href=\"#DejaVuSans-101\"/>\n       <use x=\"561.523438\" xlink:href=\"#DejaVuSans-95\"/>\n       <use x=\"611.523438\" xlink:href=\"#DejaVuSans-109\"/>\n       <use x=\"708.935547\" xlink:href=\"#DejaVuSans-105\"/>\n       <use x=\"736.71875\" xlink:href=\"#DejaVuSans-110\"/>\n      </g>\n     </g>\n    </g>\n    <g id=\"xtick_97\">\n     <g id=\"line2d_97\">\n      <g>\n       <use style=\"stroke:#000000;stroke-width:0.8;\" x=\"633.34\" xlink:href=\"#mbb5199c8e6\" y=\"348.478125\"/>\n      </g>\n     </g>\n     <g id=\"text_97\">\n      <!-- d1_hco3_max -->\n      <g transform=\"translate(635.174219 403.649062)rotate(-90)scale(0.07 -0.07)\">\n       <use xlink:href=\"#DejaVuSans-100\"/>\n       <use x=\"63.476562\" xlink:href=\"#DejaVuSans-49\"/>\n       <use x=\"127.099609\" xlink:href=\"#DejaVuSans-95\"/>\n       <use x=\"177.099609\" xlink:href=\"#DejaVuSans-104\"/>\n       <use x=\"240.478516\" xlink:href=\"#DejaVuSans-99\"/>\n       <use x=\"295.458984\" xlink:href=\"#DejaVuSans-111\"/>\n       <use x=\"356.640625\" xlink:href=\"#DejaVuSans-51\"/>\n       <use x=\"420.263672\" xlink:href=\"#DejaVuSans-95\"/>\n       <use x=\"470.263672\" xlink:href=\"#DejaVuSans-109\"/>\n       <use x=\"567.675781\" xlink:href=\"#DejaVuSans-97\"/>\n       <use x=\"628.955078\" xlink:href=\"#DejaVuSans-120\"/>\n      </g>\n     </g>\n    </g>\n    <g id=\"xtick_98\">\n     <g id=\"line2d_98\">\n      <g>\n       <use style=\"stroke:#000000;stroke-width:0.8;\" x=\"639.6175\" xlink:href=\"#mbb5199c8e6\" y=\"348.478125\"/>\n      </g>\n     </g>\n     <g id=\"text_98\">\n      <!-- d1_hco3_min -->\n      <g transform=\"translate(641.451719 401.597187)rotate(-90)scale(0.07 -0.07)\">\n       <use xlink:href=\"#DejaVuSans-100\"/>\n       <use x=\"63.476562\" xlink:href=\"#DejaVuSans-49\"/>\n       <use x=\"127.099609\" xlink:href=\"#DejaVuSans-95\"/>\n       <use x=\"177.099609\" xlink:href=\"#DejaVuSans-104\"/>\n       <use x=\"240.478516\" xlink:href=\"#DejaVuSans-99\"/>\n       <use x=\"295.458984\" xlink:href=\"#DejaVuSans-111\"/>\n       <use x=\"356.640625\" xlink:href=\"#DejaVuSans-51\"/>\n       <use x=\"420.263672\" xlink:href=\"#DejaVuSans-95\"/>\n       <use x=\"470.263672\" xlink:href=\"#DejaVuSans-109\"/>\n       <use x=\"567.675781\" xlink:href=\"#DejaVuSans-105\"/>\n       <use x=\"595.458984\" xlink:href=\"#DejaVuSans-110\"/>\n      </g>\n     </g>\n    </g>\n    <g id=\"xtick_99\">\n     <g id=\"line2d_99\">\n      <g>\n       <use style=\"stroke:#000000;stroke-width:0.8;\" x=\"645.895\" xlink:href=\"#mbb5199c8e6\" y=\"348.478125\"/>\n      </g>\n     </g>\n     <g id=\"text_99\">\n      <!-- d1_hemaglobin_max -->\n      <g transform=\"translate(647.729219 427.975156)rotate(-90)scale(0.07 -0.07)\">\n       <use xlink:href=\"#DejaVuSans-100\"/>\n       <use x=\"63.476562\" xlink:href=\"#DejaVuSans-49\"/>\n       <use x=\"127.099609\" xlink:href=\"#DejaVuSans-95\"/>\n       <use x=\"177.099609\" xlink:href=\"#DejaVuSans-104\"/>\n       <use x=\"240.478516\" xlink:href=\"#DejaVuSans-101\"/>\n       <use x=\"302.001953\" xlink:href=\"#DejaVuSans-109\"/>\n       <use x=\"399.414062\" xlink:href=\"#DejaVuSans-97\"/>\n       <use x=\"460.693359\" xlink:href=\"#DejaVuSans-103\"/>\n       <use x=\"524.169922\" xlink:href=\"#DejaVuSans-108\"/>\n       <use x=\"551.953125\" xlink:href=\"#DejaVuSans-111\"/>\n       <use x=\"613.134766\" xlink:href=\"#DejaVuSans-98\"/>\n       <use x=\"676.611328\" xlink:href=\"#DejaVuSans-105\"/>\n       <use x=\"704.394531\" xlink:href=\"#DejaVuSans-110\"/>\n       <use x=\"767.773438\" xlink:href=\"#DejaVuSans-95\"/>\n       <use x=\"817.773438\" xlink:href=\"#DejaVuSans-109\"/>\n       <use x=\"915.185547\" xlink:href=\"#DejaVuSans-97\"/>\n       <use x=\"976.464844\" xlink:href=\"#DejaVuSans-120\"/>\n      </g>\n     </g>\n    </g>\n    <g id=\"xtick_100\">\n     <g id=\"line2d_100\">\n      <g>\n       <use style=\"stroke:#000000;stroke-width:0.8;\" x=\"652.1725\" xlink:href=\"#mbb5199c8e6\" y=\"348.478125\"/>\n      </g>\n     </g>\n     <g id=\"text_100\">\n      <!-- d1_hemaglobin_min -->\n      <g transform=\"translate(654.006719 425.923281)rotate(-90)scale(0.07 -0.07)\">\n       <use xlink:href=\"#DejaVuSans-100\"/>\n       <use x=\"63.476562\" xlink:href=\"#DejaVuSans-49\"/>\n       <use x=\"127.099609\" xlink:href=\"#DejaVuSans-95\"/>\n       <use x=\"177.099609\" xlink:href=\"#DejaVuSans-104\"/>\n       <use x=\"240.478516\" xlink:href=\"#DejaVuSans-101\"/>\n       <use x=\"302.001953\" xlink:href=\"#DejaVuSans-109\"/>\n       <use x=\"399.414062\" xlink:href=\"#DejaVuSans-97\"/>\n       <use x=\"460.693359\" xlink:href=\"#DejaVuSans-103\"/>\n       <use x=\"524.169922\" xlink:href=\"#DejaVuSans-108\"/>\n       <use x=\"551.953125\" xlink:href=\"#DejaVuSans-111\"/>\n       <use x=\"613.134766\" xlink:href=\"#DejaVuSans-98\"/>\n       <use x=\"676.611328\" xlink:href=\"#DejaVuSans-105\"/>\n       <use x=\"704.394531\" xlink:href=\"#DejaVuSans-110\"/>\n       <use x=\"767.773438\" xlink:href=\"#DejaVuSans-95\"/>\n       <use x=\"817.773438\" xlink:href=\"#DejaVuSans-109\"/>\n       <use x=\"915.185547\" xlink:href=\"#DejaVuSans-105\"/>\n       <use x=\"942.96875\" xlink:href=\"#DejaVuSans-110\"/>\n      </g>\n     </g>\n    </g>\n    <g id=\"xtick_101\">\n     <g id=\"line2d_101\">\n      <g>\n       <use style=\"stroke:#000000;stroke-width:0.8;\" x=\"658.45\" xlink:href=\"#mbb5199c8e6\" y=\"348.478125\"/>\n      </g>\n     </g>\n     <g id=\"text_101\">\n      <!-- d1_hematocrit_max -->\n      <g transform=\"translate(660.284219 424.921406)rotate(-90)scale(0.07 -0.07)\">\n       <use xlink:href=\"#DejaVuSans-100\"/>\n       <use x=\"63.476562\" xlink:href=\"#DejaVuSans-49\"/>\n       <use x=\"127.099609\" xlink:href=\"#DejaVuSans-95\"/>\n       <use x=\"177.099609\" xlink:href=\"#DejaVuSans-104\"/>\n       <use x=\"240.478516\" xlink:href=\"#DejaVuSans-101\"/>\n       <use x=\"302.001953\" xlink:href=\"#DejaVuSans-109\"/>\n       <use x=\"399.414062\" xlink:href=\"#DejaVuSans-97\"/>\n       <use x=\"460.693359\" xlink:href=\"#DejaVuSans-116\"/>\n       <use x=\"499.902344\" xlink:href=\"#DejaVuSans-111\"/>\n       <use x=\"561.083984\" xlink:href=\"#DejaVuSans-99\"/>\n       <use x=\"616.064453\" xlink:href=\"#DejaVuSans-114\"/>\n       <use x=\"657.177734\" xlink:href=\"#DejaVuSans-105\"/>\n       <use x=\"684.960938\" xlink:href=\"#DejaVuSans-116\"/>\n       <use x=\"724.169922\" xlink:href=\"#DejaVuSans-95\"/>\n       <use x=\"774.169922\" xlink:href=\"#DejaVuSans-109\"/>\n       <use x=\"871.582031\" xlink:href=\"#DejaVuSans-97\"/>\n       <use x=\"932.861328\" xlink:href=\"#DejaVuSans-120\"/>\n      </g>\n     </g>\n    </g>\n    <g id=\"xtick_102\">\n     <g id=\"line2d_102\">\n      <g>\n       <use style=\"stroke:#000000;stroke-width:0.8;\" x=\"664.7275\" xlink:href=\"#mbb5199c8e6\" y=\"348.478125\"/>\n      </g>\n     </g>\n     <g id=\"text_102\">\n      <!-- d1_hematocrit_min -->\n      <g transform=\"translate(666.561719 422.869531)rotate(-90)scale(0.07 -0.07)\">\n       <use xlink:href=\"#DejaVuSans-100\"/>\n       <use x=\"63.476562\" xlink:href=\"#DejaVuSans-49\"/>\n       <use x=\"127.099609\" xlink:href=\"#DejaVuSans-95\"/>\n       <use x=\"177.099609\" xlink:href=\"#DejaVuSans-104\"/>\n       <use x=\"240.478516\" xlink:href=\"#DejaVuSans-101\"/>\n       <use x=\"302.001953\" xlink:href=\"#DejaVuSans-109\"/>\n       <use x=\"399.414062\" xlink:href=\"#DejaVuSans-97\"/>\n       <use x=\"460.693359\" xlink:href=\"#DejaVuSans-116\"/>\n       <use x=\"499.902344\" xlink:href=\"#DejaVuSans-111\"/>\n       <use x=\"561.083984\" xlink:href=\"#DejaVuSans-99\"/>\n       <use x=\"616.064453\" xlink:href=\"#DejaVuSans-114\"/>\n       <use x=\"657.177734\" xlink:href=\"#DejaVuSans-105\"/>\n       <use x=\"684.960938\" xlink:href=\"#DejaVuSans-116\"/>\n       <use x=\"724.169922\" xlink:href=\"#DejaVuSans-95\"/>\n       <use x=\"774.169922\" xlink:href=\"#DejaVuSans-109\"/>\n       <use x=\"871.582031\" xlink:href=\"#DejaVuSans-105\"/>\n       <use x=\"899.365234\" xlink:href=\"#DejaVuSans-110\"/>\n      </g>\n     </g>\n    </g>\n    <g id=\"xtick_103\">\n     <g id=\"line2d_103\">\n      <g>\n       <use style=\"stroke:#000000;stroke-width:0.8;\" x=\"671.005\" xlink:href=\"#mbb5199c8e6\" y=\"348.478125\"/>\n      </g>\n     </g>\n     <g id=\"text_103\">\n      <!-- d1_inr_max -->\n      <g transform=\"translate(672.839219 395.885625)rotate(-90)scale(0.07 -0.07)\">\n       <use xlink:href=\"#DejaVuSans-100\"/>\n       <use x=\"63.476562\" xlink:href=\"#DejaVuSans-49\"/>\n       <use x=\"127.099609\" xlink:href=\"#DejaVuSans-95\"/>\n       <use x=\"177.099609\" xlink:href=\"#DejaVuSans-105\"/>\n       <use x=\"204.882812\" xlink:href=\"#DejaVuSans-110\"/>\n       <use x=\"268.261719\" xlink:href=\"#DejaVuSans-114\"/>\n       <use x=\"309.375\" xlink:href=\"#DejaVuSans-95\"/>\n       <use x=\"359.375\" xlink:href=\"#DejaVuSans-109\"/>\n       <use x=\"456.787109\" xlink:href=\"#DejaVuSans-97\"/>\n       <use x=\"518.066406\" xlink:href=\"#DejaVuSans-120\"/>\n      </g>\n     </g>\n    </g>\n    <g id=\"xtick_104\">\n     <g id=\"line2d_104\">\n      <g>\n       <use style=\"stroke:#000000;stroke-width:0.8;\" x=\"677.2825\" xlink:href=\"#mbb5199c8e6\" y=\"348.478125\"/>\n      </g>\n     </g>\n     <g id=\"text_104\">\n      <!-- d1_inr_min -->\n      <g transform=\"translate(679.116719 393.83375)rotate(-90)scale(0.07 -0.07)\">\n       <use xlink:href=\"#DejaVuSans-100\"/>\n       <use x=\"63.476562\" xlink:href=\"#DejaVuSans-49\"/>\n       <use x=\"127.099609\" xlink:href=\"#DejaVuSans-95\"/>\n       <use x=\"177.099609\" xlink:href=\"#DejaVuSans-105\"/>\n       <use x=\"204.882812\" xlink:href=\"#DejaVuSans-110\"/>\n       <use x=\"268.261719\" xlink:href=\"#DejaVuSans-114\"/>\n       <use x=\"309.375\" xlink:href=\"#DejaVuSans-95\"/>\n       <use x=\"359.375\" xlink:href=\"#DejaVuSans-109\"/>\n       <use x=\"456.787109\" xlink:href=\"#DejaVuSans-105\"/>\n       <use x=\"484.570312\" xlink:href=\"#DejaVuSans-110\"/>\n      </g>\n     </g>\n    </g>\n    <g id=\"xtick_105\">\n     <g id=\"line2d_105\">\n      <g>\n       <use style=\"stroke:#000000;stroke-width:0.8;\" x=\"683.56\" xlink:href=\"#mbb5199c8e6\" y=\"348.478125\"/>\n      </g>\n     </g>\n     <g id=\"text_105\">\n      <!-- d1_lactate_max -->\n      <g transform=\"translate(685.394219 410.795625)rotate(-90)scale(0.07 -0.07)\">\n       <use xlink:href=\"#DejaVuSans-100\"/>\n       <use x=\"63.476562\" xlink:href=\"#DejaVuSans-49\"/>\n       <use x=\"127.099609\" xlink:href=\"#DejaVuSans-95\"/>\n       <use x=\"177.099609\" xlink:href=\"#DejaVuSans-108\"/>\n       <use x=\"204.882812\" xlink:href=\"#DejaVuSans-97\"/>\n       <use x=\"266.162109\" xlink:href=\"#DejaVuSans-99\"/>\n       <use x=\"321.142578\" xlink:href=\"#DejaVuSans-116\"/>\n       <use x=\"360.351562\" xlink:href=\"#DejaVuSans-97\"/>\n       <use x=\"421.630859\" xlink:href=\"#DejaVuSans-116\"/>\n       <use x=\"460.839844\" xlink:href=\"#DejaVuSans-101\"/>\n       <use x=\"522.363281\" xlink:href=\"#DejaVuSans-95\"/>\n       <use x=\"572.363281\" xlink:href=\"#DejaVuSans-109\"/>\n       <use x=\"669.775391\" xlink:href=\"#DejaVuSans-97\"/>\n       <use x=\"731.054688\" xlink:href=\"#DejaVuSans-120\"/>\n      </g>\n     </g>\n    </g>\n    <g id=\"xtick_106\">\n     <g id=\"line2d_106\">\n      <g>\n       <use style=\"stroke:#000000;stroke-width:0.8;\" x=\"689.8375\" xlink:href=\"#mbb5199c8e6\" y=\"348.478125\"/>\n      </g>\n     </g>\n     <g id=\"text_106\">\n      <!-- d1_lactate_min -->\n      <g transform=\"translate(691.671719 408.74375)rotate(-90)scale(0.07 -0.07)\">\n       <use xlink:href=\"#DejaVuSans-100\"/>\n       <use x=\"63.476562\" xlink:href=\"#DejaVuSans-49\"/>\n       <use x=\"127.099609\" xlink:href=\"#DejaVuSans-95\"/>\n       <use x=\"177.099609\" xlink:href=\"#DejaVuSans-108\"/>\n       <use x=\"204.882812\" xlink:href=\"#DejaVuSans-97\"/>\n       <use x=\"266.162109\" xlink:href=\"#DejaVuSans-99\"/>\n       <use x=\"321.142578\" xlink:href=\"#DejaVuSans-116\"/>\n       <use x=\"360.351562\" xlink:href=\"#DejaVuSans-97\"/>\n       <use x=\"421.630859\" xlink:href=\"#DejaVuSans-116\"/>\n       <use x=\"460.839844\" xlink:href=\"#DejaVuSans-101\"/>\n       <use x=\"522.363281\" xlink:href=\"#DejaVuSans-95\"/>\n       <use x=\"572.363281\" xlink:href=\"#DejaVuSans-109\"/>\n       <use x=\"669.775391\" xlink:href=\"#DejaVuSans-105\"/>\n       <use x=\"697.558594\" xlink:href=\"#DejaVuSans-110\"/>\n      </g>\n     </g>\n    </g>\n    <g id=\"xtick_107\">\n     <g id=\"line2d_107\">\n      <g>\n       <use style=\"stroke:#000000;stroke-width:0.8;\" x=\"696.115\" xlink:href=\"#mbb5199c8e6\" y=\"348.478125\"/>\n      </g>\n     </g>\n     <g id=\"text_107\">\n      <!-- d1_platelets_max -->\n      <g transform=\"translate(697.949219 416.999375)rotate(-90)scale(0.07 -0.07)\">\n       <use xlink:href=\"#DejaVuSans-100\"/>\n       <use x=\"63.476562\" xlink:href=\"#DejaVuSans-49\"/>\n       <use x=\"127.099609\" xlink:href=\"#DejaVuSans-95\"/>\n       <use x=\"177.099609\" xlink:href=\"#DejaVuSans-112\"/>\n       <use x=\"240.576172\" xlink:href=\"#DejaVuSans-108\"/>\n       <use x=\"268.359375\" xlink:href=\"#DejaVuSans-97\"/>\n       <use x=\"329.638672\" xlink:href=\"#DejaVuSans-116\"/>\n       <use x=\"368.847656\" xlink:href=\"#DejaVuSans-101\"/>\n       <use x=\"430.371094\" xlink:href=\"#DejaVuSans-108\"/>\n       <use x=\"458.154297\" xlink:href=\"#DejaVuSans-101\"/>\n       <use x=\"519.677734\" xlink:href=\"#DejaVuSans-116\"/>\n       <use x=\"558.886719\" xlink:href=\"#DejaVuSans-115\"/>\n       <use x=\"610.986328\" xlink:href=\"#DejaVuSans-95\"/>\n       <use x=\"660.986328\" xlink:href=\"#DejaVuSans-109\"/>\n       <use x=\"758.398438\" xlink:href=\"#DejaVuSans-97\"/>\n       <use x=\"819.677734\" xlink:href=\"#DejaVuSans-120\"/>\n      </g>\n     </g>\n    </g>\n    <g id=\"xtick_108\">\n     <g id=\"line2d_108\">\n      <g>\n       <use style=\"stroke:#000000;stroke-width:0.8;\" x=\"702.3925\" xlink:href=\"#mbb5199c8e6\" y=\"348.478125\"/>\n      </g>\n     </g>\n     <g id=\"text_108\">\n      <!-- d1_platelets_min -->\n      <g transform=\"translate(704.226719 414.9475)rotate(-90)scale(0.07 -0.07)\">\n       <use xlink:href=\"#DejaVuSans-100\"/>\n       <use x=\"63.476562\" xlink:href=\"#DejaVuSans-49\"/>\n       <use x=\"127.099609\" xlink:href=\"#DejaVuSans-95\"/>\n       <use x=\"177.099609\" xlink:href=\"#DejaVuSans-112\"/>\n       <use x=\"240.576172\" xlink:href=\"#DejaVuSans-108\"/>\n       <use x=\"268.359375\" xlink:href=\"#DejaVuSans-97\"/>\n       <use x=\"329.638672\" xlink:href=\"#DejaVuSans-116\"/>\n       <use x=\"368.847656\" xlink:href=\"#DejaVuSans-101\"/>\n       <use x=\"430.371094\" xlink:href=\"#DejaVuSans-108\"/>\n       <use x=\"458.154297\" xlink:href=\"#DejaVuSans-101\"/>\n       <use x=\"519.677734\" xlink:href=\"#DejaVuSans-116\"/>\n       <use x=\"558.886719\" xlink:href=\"#DejaVuSans-115\"/>\n       <use x=\"610.986328\" xlink:href=\"#DejaVuSans-95\"/>\n       <use x=\"660.986328\" xlink:href=\"#DejaVuSans-109\"/>\n       <use x=\"758.398438\" xlink:href=\"#DejaVuSans-105\"/>\n       <use x=\"786.181641\" xlink:href=\"#DejaVuSans-110\"/>\n      </g>\n     </g>\n    </g>\n    <g id=\"xtick_109\">\n     <g id=\"line2d_109\">\n      <g>\n       <use style=\"stroke:#000000;stroke-width:0.8;\" x=\"708.67\" xlink:href=\"#mbb5199c8e6\" y=\"348.478125\"/>\n      </g>\n     </g>\n     <g id=\"text_109\">\n      <!-- d1_potassium_max -->\n      <g transform=\"translate(710.504219 422.880469)rotate(-90)scale(0.07 -0.07)\">\n       <use xlink:href=\"#DejaVuSans-100\"/>\n       <use x=\"63.476562\" xlink:href=\"#DejaVuSans-49\"/>\n       <use x=\"127.099609\" xlink:href=\"#DejaVuSans-95\"/>\n       <use x=\"177.099609\" xlink:href=\"#DejaVuSans-112\"/>\n       <use x=\"240.576172\" xlink:href=\"#DejaVuSans-111\"/>\n       <use x=\"301.757812\" xlink:href=\"#DejaVuSans-116\"/>\n       <use x=\"340.966797\" xlink:href=\"#DejaVuSans-97\"/>\n       <use x=\"402.246094\" xlink:href=\"#DejaVuSans-115\"/>\n       <use x=\"454.345703\" xlink:href=\"#DejaVuSans-115\"/>\n       <use x=\"506.445312\" xlink:href=\"#DejaVuSans-105\"/>\n       <use x=\"534.228516\" xlink:href=\"#DejaVuSans-117\"/>\n       <use x=\"597.607422\" xlink:href=\"#DejaVuSans-109\"/>\n       <use x=\"695.019531\" xlink:href=\"#DejaVuSans-95\"/>\n       <use x=\"745.019531\" xlink:href=\"#DejaVuSans-109\"/>\n       <use x=\"842.431641\" xlink:href=\"#DejaVuSans-97\"/>\n       <use x=\"903.710938\" xlink:href=\"#DejaVuSans-120\"/>\n      </g>\n     </g>\n    </g>\n    <g id=\"xtick_110\">\n     <g id=\"line2d_110\">\n      <g>\n       <use style=\"stroke:#000000;stroke-width:0.8;\" x=\"714.9475\" xlink:href=\"#mbb5199c8e6\" y=\"348.478125\"/>\n      </g>\n     </g>\n     <g id=\"text_110\">\n      <!-- d1_potassium_min -->\n      <g transform=\"translate(716.781719 420.828594)rotate(-90)scale(0.07 -0.07)\">\n       <use xlink:href=\"#DejaVuSans-100\"/>\n       <use x=\"63.476562\" xlink:href=\"#DejaVuSans-49\"/>\n       <use x=\"127.099609\" xlink:href=\"#DejaVuSans-95\"/>\n       <use x=\"177.099609\" xlink:href=\"#DejaVuSans-112\"/>\n       <use x=\"240.576172\" xlink:href=\"#DejaVuSans-111\"/>\n       <use x=\"301.757812\" xlink:href=\"#DejaVuSans-116\"/>\n       <use x=\"340.966797\" xlink:href=\"#DejaVuSans-97\"/>\n       <use x=\"402.246094\" xlink:href=\"#DejaVuSans-115\"/>\n       <use x=\"454.345703\" xlink:href=\"#DejaVuSans-115\"/>\n       <use x=\"506.445312\" xlink:href=\"#DejaVuSans-105\"/>\n       <use x=\"534.228516\" xlink:href=\"#DejaVuSans-117\"/>\n       <use x=\"597.607422\" xlink:href=\"#DejaVuSans-109\"/>\n       <use x=\"695.019531\" xlink:href=\"#DejaVuSans-95\"/>\n       <use x=\"745.019531\" xlink:href=\"#DejaVuSans-109\"/>\n       <use x=\"842.431641\" xlink:href=\"#DejaVuSans-105\"/>\n       <use x=\"870.214844\" xlink:href=\"#DejaVuSans-110\"/>\n      </g>\n     </g>\n    </g>\n    <g id=\"xtick_111\">\n     <g id=\"line2d_111\">\n      <g>\n       <use style=\"stroke:#000000;stroke-width:0.8;\" x=\"721.225\" xlink:href=\"#mbb5199c8e6\" y=\"348.478125\"/>\n      </g>\n     </g>\n     <g id=\"text_111\">\n      <!-- d1_sodium_max -->\n      <g transform=\"translate(723.059219 412.2)rotate(-90)scale(0.07 -0.07)\">\n       <use xlink:href=\"#DejaVuSans-100\"/>\n       <use x=\"63.476562\" xlink:href=\"#DejaVuSans-49\"/>\n       <use x=\"127.099609\" xlink:href=\"#DejaVuSans-95\"/>\n       <use x=\"177.099609\" xlink:href=\"#DejaVuSans-115\"/>\n       <use x=\"229.199219\" xlink:href=\"#DejaVuSans-111\"/>\n       <use x=\"290.380859\" xlink:href=\"#DejaVuSans-100\"/>\n       <use x=\"353.857422\" xlink:href=\"#DejaVuSans-105\"/>\n       <use x=\"381.640625\" xlink:href=\"#DejaVuSans-117\"/>\n       <use x=\"445.019531\" xlink:href=\"#DejaVuSans-109\"/>\n       <use x=\"542.431641\" xlink:href=\"#DejaVuSans-95\"/>\n       <use x=\"592.431641\" xlink:href=\"#DejaVuSans-109\"/>\n       <use x=\"689.84375\" xlink:href=\"#DejaVuSans-97\"/>\n       <use x=\"751.123047\" xlink:href=\"#DejaVuSans-120\"/>\n      </g>\n     </g>\n    </g>\n    <g id=\"xtick_112\">\n     <g id=\"line2d_112\">\n      <g>\n       <use style=\"stroke:#000000;stroke-width:0.8;\" x=\"727.5025\" xlink:href=\"#mbb5199c8e6\" y=\"348.478125\"/>\n      </g>\n     </g>\n     <g id=\"text_112\">\n      <!-- d1_sodium_min -->\n      <g transform=\"translate(729.336719 410.148125)rotate(-90)scale(0.07 -0.07)\">\n       <use xlink:href=\"#DejaVuSans-100\"/>\n       <use x=\"63.476562\" xlink:href=\"#DejaVuSans-49\"/>\n       <use x=\"127.099609\" xlink:href=\"#DejaVuSans-95\"/>\n       <use x=\"177.099609\" xlink:href=\"#DejaVuSans-115\"/>\n       <use x=\"229.199219\" xlink:href=\"#DejaVuSans-111\"/>\n       <use x=\"290.380859\" xlink:href=\"#DejaVuSans-100\"/>\n       <use x=\"353.857422\" xlink:href=\"#DejaVuSans-105\"/>\n       <use x=\"381.640625\" xlink:href=\"#DejaVuSans-117\"/>\n       <use x=\"445.019531\" xlink:href=\"#DejaVuSans-109\"/>\n       <use x=\"542.431641\" xlink:href=\"#DejaVuSans-95\"/>\n       <use x=\"592.431641\" xlink:href=\"#DejaVuSans-109\"/>\n       <use x=\"689.84375\" xlink:href=\"#DejaVuSans-105\"/>\n       <use x=\"717.626953\" xlink:href=\"#DejaVuSans-110\"/>\n      </g>\n     </g>\n    </g>\n    <g id=\"xtick_113\">\n     <g id=\"line2d_113\">\n      <g>\n       <use style=\"stroke:#000000;stroke-width:0.8;\" x=\"733.78\" xlink:href=\"#mbb5199c8e6\" y=\"348.478125\"/>\n      </g>\n     </g>\n     <g id=\"text_113\">\n      <!-- d1_wbc_max -->\n      <g transform=\"translate(735.614219 400.644531)rotate(-90)scale(0.07 -0.07)\">\n       <use xlink:href=\"#DejaVuSans-100\"/>\n       <use x=\"63.476562\" xlink:href=\"#DejaVuSans-49\"/>\n       <use x=\"127.099609\" xlink:href=\"#DejaVuSans-95\"/>\n       <use x=\"177.099609\" xlink:href=\"#DejaVuSans-119\"/>\n       <use x=\"258.886719\" xlink:href=\"#DejaVuSans-98\"/>\n       <use x=\"322.363281\" xlink:href=\"#DejaVuSans-99\"/>\n       <use x=\"377.34375\" xlink:href=\"#DejaVuSans-95\"/>\n       <use x=\"427.34375\" xlink:href=\"#DejaVuSans-109\"/>\n       <use x=\"524.755859\" xlink:href=\"#DejaVuSans-97\"/>\n       <use x=\"586.035156\" xlink:href=\"#DejaVuSans-120\"/>\n      </g>\n     </g>\n    </g>\n    <g id=\"xtick_114\">\n     <g id=\"line2d_114\">\n      <g>\n       <use style=\"stroke:#000000;stroke-width:0.8;\" x=\"740.0575\" xlink:href=\"#mbb5199c8e6\" y=\"348.478125\"/>\n      </g>\n     </g>\n     <g id=\"text_114\">\n      <!-- d1_wbc_min -->\n      <g transform=\"translate(741.891719 398.592656)rotate(-90)scale(0.07 -0.07)\">\n       <use xlink:href=\"#DejaVuSans-100\"/>\n       <use x=\"63.476562\" xlink:href=\"#DejaVuSans-49\"/>\n       <use x=\"127.099609\" xlink:href=\"#DejaVuSans-95\"/>\n       <use x=\"177.099609\" xlink:href=\"#DejaVuSans-119\"/>\n       <use x=\"258.886719\" xlink:href=\"#DejaVuSans-98\"/>\n       <use x=\"322.363281\" xlink:href=\"#DejaVuSans-99\"/>\n       <use x=\"377.34375\" xlink:href=\"#DejaVuSans-95\"/>\n       <use x=\"427.34375\" xlink:href=\"#DejaVuSans-109\"/>\n       <use x=\"524.755859\" xlink:href=\"#DejaVuSans-105\"/>\n       <use x=\"552.539062\" xlink:href=\"#DejaVuSans-110\"/>\n      </g>\n     </g>\n    </g>\n    <g id=\"xtick_115\">\n     <g id=\"line2d_115\">\n      <g>\n       <use style=\"stroke:#000000;stroke-width:0.8;\" x=\"746.335\" xlink:href=\"#mbb5199c8e6\" y=\"348.478125\"/>\n      </g>\n     </g>\n     <g id=\"text_115\">\n      <!-- h1_albumin_max -->\n      <g transform=\"translate(748.169219 414.933281)rotate(-90)scale(0.07 -0.07)\">\n       <use xlink:href=\"#DejaVuSans-104\"/>\n       <use x=\"63.378906\" xlink:href=\"#DejaVuSans-49\"/>\n       <use x=\"127.001953\" xlink:href=\"#DejaVuSans-95\"/>\n       <use x=\"177.001953\" xlink:href=\"#DejaVuSans-97\"/>\n       <use x=\"238.28125\" xlink:href=\"#DejaVuSans-108\"/>\n       <use x=\"266.064453\" xlink:href=\"#DejaVuSans-98\"/>\n       <use x=\"329.541016\" xlink:href=\"#DejaVuSans-117\"/>\n       <use x=\"392.919922\" xlink:href=\"#DejaVuSans-109\"/>\n       <use x=\"490.332031\" xlink:href=\"#DejaVuSans-105\"/>\n       <use x=\"518.115234\" xlink:href=\"#DejaVuSans-110\"/>\n       <use x=\"581.494141\" xlink:href=\"#DejaVuSans-95\"/>\n       <use x=\"631.494141\" xlink:href=\"#DejaVuSans-109\"/>\n       <use x=\"728.90625\" xlink:href=\"#DejaVuSans-97\"/>\n       <use x=\"790.185547\" xlink:href=\"#DejaVuSans-120\"/>\n      </g>\n     </g>\n    </g>\n    <g id=\"xtick_116\">\n     <g id=\"line2d_116\">\n      <g>\n       <use style=\"stroke:#000000;stroke-width:0.8;\" x=\"752.6125\" xlink:href=\"#mbb5199c8e6\" y=\"348.478125\"/>\n      </g>\n     </g>\n     <g id=\"text_116\">\n      <!-- h1_albumin_min -->\n      <g transform=\"translate(754.446719 412.881406)rotate(-90)scale(0.07 -0.07)\">\n       <use xlink:href=\"#DejaVuSans-104\"/>\n       <use x=\"63.378906\" xlink:href=\"#DejaVuSans-49\"/>\n       <use x=\"127.001953\" xlink:href=\"#DejaVuSans-95\"/>\n       <use x=\"177.001953\" xlink:href=\"#DejaVuSans-97\"/>\n       <use x=\"238.28125\" xlink:href=\"#DejaVuSans-108\"/>\n       <use x=\"266.064453\" xlink:href=\"#DejaVuSans-98\"/>\n       <use x=\"329.541016\" xlink:href=\"#DejaVuSans-117\"/>\n       <use x=\"392.919922\" xlink:href=\"#DejaVuSans-109\"/>\n       <use x=\"490.332031\" xlink:href=\"#DejaVuSans-105\"/>\n       <use x=\"518.115234\" xlink:href=\"#DejaVuSans-110\"/>\n       <use x=\"581.494141\" xlink:href=\"#DejaVuSans-95\"/>\n       <use x=\"631.494141\" xlink:href=\"#DejaVuSans-109\"/>\n       <use x=\"728.90625\" xlink:href=\"#DejaVuSans-105\"/>\n       <use x=\"756.689453\" xlink:href=\"#DejaVuSans-110\"/>\n      </g>\n     </g>\n    </g>\n    <g id=\"xtick_117\">\n     <g id=\"line2d_117\">\n      <g>\n       <use style=\"stroke:#000000;stroke-width:0.8;\" x=\"758.89\" xlink:href=\"#mbb5199c8e6\" y=\"348.478125\"/>\n      </g>\n     </g>\n     <g id=\"text_117\">\n      <!-- h1_bilirubin_max -->\n      <g transform=\"translate(760.724219 415.036094)rotate(-90)scale(0.07 -0.07)\">\n       <use xlink:href=\"#DejaVuSans-104\"/>\n       <use x=\"63.378906\" xlink:href=\"#DejaVuSans-49\"/>\n       <use x=\"127.001953\" xlink:href=\"#DejaVuSans-95\"/>\n       <use x=\"177.001953\" xlink:href=\"#DejaVuSans-98\"/>\n       <use x=\"240.478516\" xlink:href=\"#DejaVuSans-105\"/>\n       <use x=\"268.261719\" xlink:href=\"#DejaVuSans-108\"/>\n       <use x=\"296.044922\" xlink:href=\"#DejaVuSans-105\"/>\n       <use x=\"323.828125\" xlink:href=\"#DejaVuSans-114\"/>\n       <use x=\"364.941406\" xlink:href=\"#DejaVuSans-117\"/>\n       <use x=\"428.320312\" xlink:href=\"#DejaVuSans-98\"/>\n       <use x=\"491.796875\" xlink:href=\"#DejaVuSans-105\"/>\n       <use x=\"519.580078\" xlink:href=\"#DejaVuSans-110\"/>\n       <use x=\"582.958984\" xlink:href=\"#DejaVuSans-95\"/>\n       <use x=\"632.958984\" xlink:href=\"#DejaVuSans-109\"/>\n       <use x=\"730.371094\" xlink:href=\"#DejaVuSans-97\"/>\n       <use x=\"791.650391\" xlink:href=\"#DejaVuSans-120\"/>\n      </g>\n     </g>\n    </g>\n    <g id=\"xtick_118\">\n     <g id=\"line2d_118\">\n      <g>\n       <use style=\"stroke:#000000;stroke-width:0.8;\" x=\"765.1675\" xlink:href=\"#mbb5199c8e6\" y=\"348.478125\"/>\n      </g>\n     </g>\n     <g id=\"text_118\">\n      <!-- h1_bilirubin_min -->\n      <g transform=\"translate(767.001719 412.984219)rotate(-90)scale(0.07 -0.07)\">\n       <use xlink:href=\"#DejaVuSans-104\"/>\n       <use x=\"63.378906\" xlink:href=\"#DejaVuSans-49\"/>\n       <use x=\"127.001953\" xlink:href=\"#DejaVuSans-95\"/>\n       <use x=\"177.001953\" xlink:href=\"#DejaVuSans-98\"/>\n       <use x=\"240.478516\" xlink:href=\"#DejaVuSans-105\"/>\n       <use x=\"268.261719\" xlink:href=\"#DejaVuSans-108\"/>\n       <use x=\"296.044922\" xlink:href=\"#DejaVuSans-105\"/>\n       <use x=\"323.828125\" xlink:href=\"#DejaVuSans-114\"/>\n       <use x=\"364.941406\" xlink:href=\"#DejaVuSans-117\"/>\n       <use x=\"428.320312\" xlink:href=\"#DejaVuSans-98\"/>\n       <use x=\"491.796875\" xlink:href=\"#DejaVuSans-105\"/>\n       <use x=\"519.580078\" xlink:href=\"#DejaVuSans-110\"/>\n       <use x=\"582.958984\" xlink:href=\"#DejaVuSans-95\"/>\n       <use x=\"632.958984\" xlink:href=\"#DejaVuSans-109\"/>\n       <use x=\"730.371094\" xlink:href=\"#DejaVuSans-105\"/>\n       <use x=\"758.154297\" xlink:href=\"#DejaVuSans-110\"/>\n      </g>\n     </g>\n    </g>\n    <g id=\"xtick_119\">\n     <g id=\"line2d_119\">\n      <g>\n       <use style=\"stroke:#000000;stroke-width:0.8;\" x=\"771.445\" xlink:href=\"#mbb5199c8e6\" y=\"348.478125\"/>\n      </g>\n     </g>\n     <g id=\"text_119\">\n      <!-- h1_bun_max -->\n      <g transform=\"translate(773.279219 399.935781)rotate(-90)scale(0.07 -0.07)\">\n       <use xlink:href=\"#DejaVuSans-104\"/>\n       <use x=\"63.378906\" xlink:href=\"#DejaVuSans-49\"/>\n       <use x=\"127.001953\" xlink:href=\"#DejaVuSans-95\"/>\n       <use x=\"177.001953\" xlink:href=\"#DejaVuSans-98\"/>\n       <use x=\"240.478516\" xlink:href=\"#DejaVuSans-117\"/>\n       <use x=\"303.857422\" xlink:href=\"#DejaVuSans-110\"/>\n       <use x=\"367.236328\" xlink:href=\"#DejaVuSans-95\"/>\n       <use x=\"417.236328\" xlink:href=\"#DejaVuSans-109\"/>\n       <use x=\"514.648438\" xlink:href=\"#DejaVuSans-97\"/>\n       <use x=\"575.927734\" xlink:href=\"#DejaVuSans-120\"/>\n      </g>\n     </g>\n    </g>\n    <g id=\"xtick_120\">\n     <g id=\"line2d_120\">\n      <g>\n       <use style=\"stroke:#000000;stroke-width:0.8;\" x=\"777.7225\" xlink:href=\"#mbb5199c8e6\" y=\"348.478125\"/>\n      </g>\n     </g>\n     <g id=\"text_120\">\n      <!-- h1_bun_min -->\n      <g transform=\"translate(779.556719 397.883906)rotate(-90)scale(0.07 -0.07)\">\n       <use xlink:href=\"#DejaVuSans-104\"/>\n       <use x=\"63.378906\" xlink:href=\"#DejaVuSans-49\"/>\n       <use x=\"127.001953\" xlink:href=\"#DejaVuSans-95\"/>\n       <use x=\"177.001953\" xlink:href=\"#DejaVuSans-98\"/>\n       <use x=\"240.478516\" xlink:href=\"#DejaVuSans-117\"/>\n       <use x=\"303.857422\" xlink:href=\"#DejaVuSans-110\"/>\n       <use x=\"367.236328\" xlink:href=\"#DejaVuSans-95\"/>\n       <use x=\"417.236328\" xlink:href=\"#DejaVuSans-109\"/>\n       <use x=\"514.648438\" xlink:href=\"#DejaVuSans-105\"/>\n       <use x=\"542.431641\" xlink:href=\"#DejaVuSans-110\"/>\n      </g>\n     </g>\n    </g>\n    <g id=\"xtick_121\">\n     <g id=\"line2d_121\">\n      <g>\n       <use style=\"stroke:#000000;stroke-width:0.8;\" x=\"784\" xlink:href=\"#mbb5199c8e6\" y=\"348.478125\"/>\n      </g>\n     </g>\n     <g id=\"text_121\">\n      <!-- h1_calcium_max -->\n      <g transform=\"translate(785.834219 413.750937)rotate(-90)scale(0.07 -0.07)\">\n       <use xlink:href=\"#DejaVuSans-104\"/>\n       <use x=\"63.378906\" xlink:href=\"#DejaVuSans-49\"/>\n       <use x=\"127.001953\" xlink:href=\"#DejaVuSans-95\"/>\n       <use x=\"177.001953\" xlink:href=\"#DejaVuSans-99\"/>\n       <use x=\"231.982422\" xlink:href=\"#DejaVuSans-97\"/>\n       <use x=\"293.261719\" xlink:href=\"#DejaVuSans-108\"/>\n       <use x=\"321.044922\" xlink:href=\"#DejaVuSans-99\"/>\n       <use x=\"376.025391\" xlink:href=\"#DejaVuSans-105\"/>\n       <use x=\"403.808594\" xlink:href=\"#DejaVuSans-117\"/>\n       <use x=\"467.1875\" xlink:href=\"#DejaVuSans-109\"/>\n       <use x=\"564.599609\" xlink:href=\"#DejaVuSans-95\"/>\n       <use x=\"614.599609\" xlink:href=\"#DejaVuSans-109\"/>\n       <use x=\"712.011719\" xlink:href=\"#DejaVuSans-97\"/>\n       <use x=\"773.291016\" xlink:href=\"#DejaVuSans-120\"/>\n      </g>\n     </g>\n    </g>\n    <g id=\"xtick_122\">\n     <g id=\"line2d_122\">\n      <g>\n       <use style=\"stroke:#000000;stroke-width:0.8;\" x=\"790.2775\" xlink:href=\"#mbb5199c8e6\" y=\"348.478125\"/>\n      </g>\n     </g>\n     <g id=\"text_122\">\n      <!-- h1_calcium_min -->\n      <g transform=\"translate(792.111719 411.699062)rotate(-90)scale(0.07 -0.07)\">\n       <use xlink:href=\"#DejaVuSans-104\"/>\n       <use x=\"63.378906\" xlink:href=\"#DejaVuSans-49\"/>\n       <use x=\"127.001953\" xlink:href=\"#DejaVuSans-95\"/>\n       <use x=\"177.001953\" xlink:href=\"#DejaVuSans-99\"/>\n       <use x=\"231.982422\" xlink:href=\"#DejaVuSans-97\"/>\n       <use x=\"293.261719\" xlink:href=\"#DejaVuSans-108\"/>\n       <use x=\"321.044922\" xlink:href=\"#DejaVuSans-99\"/>\n       <use x=\"376.025391\" xlink:href=\"#DejaVuSans-105\"/>\n       <use x=\"403.808594\" xlink:href=\"#DejaVuSans-117\"/>\n       <use x=\"467.1875\" xlink:href=\"#DejaVuSans-109\"/>\n       <use x=\"564.599609\" xlink:href=\"#DejaVuSans-95\"/>\n       <use x=\"614.599609\" xlink:href=\"#DejaVuSans-109\"/>\n       <use x=\"712.011719\" xlink:href=\"#DejaVuSans-105\"/>\n       <use x=\"739.794922\" xlink:href=\"#DejaVuSans-110\"/>\n      </g>\n     </g>\n    </g>\n    <g id=\"xtick_123\">\n     <g id=\"line2d_123\">\n      <g>\n       <use style=\"stroke:#000000;stroke-width:0.8;\" x=\"796.555\" xlink:href=\"#mbb5199c8e6\" y=\"348.478125\"/>\n      </g>\n     </g>\n     <g id=\"text_123\">\n      <!-- h1_creatinine_max -->\n      <g transform=\"translate(798.389219 421.598594)rotate(-90)scale(0.07 -0.07)\">\n       <use xlink:href=\"#DejaVuSans-104\"/>\n       <use x=\"63.378906\" xlink:href=\"#DejaVuSans-49\"/>\n       <use x=\"127.001953\" xlink:href=\"#DejaVuSans-95\"/>\n       <use x=\"177.001953\" xlink:href=\"#DejaVuSans-99\"/>\n       <use x=\"231.982422\" xlink:href=\"#DejaVuSans-114\"/>\n       <use x=\"270.845703\" xlink:href=\"#DejaVuSans-101\"/>\n       <use x=\"332.369141\" xlink:href=\"#DejaVuSans-97\"/>\n       <use x=\"393.648438\" xlink:href=\"#DejaVuSans-116\"/>\n       <use x=\"432.857422\" xlink:href=\"#DejaVuSans-105\"/>\n       <use x=\"460.640625\" xlink:href=\"#DejaVuSans-110\"/>\n       <use x=\"524.019531\" xlink:href=\"#DejaVuSans-105\"/>\n       <use x=\"551.802734\" xlink:href=\"#DejaVuSans-110\"/>\n       <use x=\"615.181641\" xlink:href=\"#DejaVuSans-101\"/>\n       <use x=\"676.705078\" xlink:href=\"#DejaVuSans-95\"/>\n       <use x=\"726.705078\" xlink:href=\"#DejaVuSans-109\"/>\n       <use x=\"824.117188\" xlink:href=\"#DejaVuSans-97\"/>\n       <use x=\"885.396484\" xlink:href=\"#DejaVuSans-120\"/>\n      </g>\n     </g>\n    </g>\n    <g id=\"xtick_124\">\n     <g id=\"line2d_124\">\n      <g>\n       <use style=\"stroke:#000000;stroke-width:0.8;\" x=\"802.8325\" xlink:href=\"#mbb5199c8e6\" y=\"348.478125\"/>\n      </g>\n     </g>\n     <g id=\"text_124\">\n      <!-- h1_creatinine_min -->\n      <g transform=\"translate(804.666719 419.546719)rotate(-90)scale(0.07 -0.07)\">\n       <use xlink:href=\"#DejaVuSans-104\"/>\n       <use x=\"63.378906\" xlink:href=\"#DejaVuSans-49\"/>\n       <use x=\"127.001953\" xlink:href=\"#DejaVuSans-95\"/>\n       <use x=\"177.001953\" xlink:href=\"#DejaVuSans-99\"/>\n       <use x=\"231.982422\" xlink:href=\"#DejaVuSans-114\"/>\n       <use x=\"270.845703\" xlink:href=\"#DejaVuSans-101\"/>\n       <use x=\"332.369141\" xlink:href=\"#DejaVuSans-97\"/>\n       <use x=\"393.648438\" xlink:href=\"#DejaVuSans-116\"/>\n       <use x=\"432.857422\" xlink:href=\"#DejaVuSans-105\"/>\n       <use x=\"460.640625\" xlink:href=\"#DejaVuSans-110\"/>\n       <use x=\"524.019531\" xlink:href=\"#DejaVuSans-105\"/>\n       <use x=\"551.802734\" xlink:href=\"#DejaVuSans-110\"/>\n       <use x=\"615.181641\" xlink:href=\"#DejaVuSans-101\"/>\n       <use x=\"676.705078\" xlink:href=\"#DejaVuSans-95\"/>\n       <use x=\"726.705078\" xlink:href=\"#DejaVuSans-109\"/>\n       <use x=\"824.117188\" xlink:href=\"#DejaVuSans-105\"/>\n       <use x=\"851.900391\" xlink:href=\"#DejaVuSans-110\"/>\n      </g>\n     </g>\n    </g>\n    <g id=\"xtick_125\">\n     <g id=\"line2d_125\">\n      <g>\n       <use style=\"stroke:#000000;stroke-width:0.8;\" x=\"809.11\" xlink:href=\"#mbb5199c8e6\" y=\"348.478125\"/>\n      </g>\n     </g>\n     <g id=\"text_125\">\n      <!-- h1_glucose_max -->\n      <g transform=\"translate(810.944219 413.53)rotate(-90)scale(0.07 -0.07)\">\n       <use xlink:href=\"#DejaVuSans-104\"/>\n       <use x=\"63.378906\" xlink:href=\"#DejaVuSans-49\"/>\n       <use x=\"127.001953\" xlink:href=\"#DejaVuSans-95\"/>\n       <use x=\"177.001953\" xlink:href=\"#DejaVuSans-103\"/>\n       <use x=\"240.478516\" xlink:href=\"#DejaVuSans-108\"/>\n       <use x=\"268.261719\" xlink:href=\"#DejaVuSans-117\"/>\n       <use x=\"331.640625\" xlink:href=\"#DejaVuSans-99\"/>\n       <use x=\"386.621094\" xlink:href=\"#DejaVuSans-111\"/>\n       <use x=\"447.802734\" xlink:href=\"#DejaVuSans-115\"/>\n       <use x=\"499.902344\" xlink:href=\"#DejaVuSans-101\"/>\n       <use x=\"561.425781\" xlink:href=\"#DejaVuSans-95\"/>\n       <use x=\"611.425781\" xlink:href=\"#DejaVuSans-109\"/>\n       <use x=\"708.837891\" xlink:href=\"#DejaVuSans-97\"/>\n       <use x=\"770.117188\" xlink:href=\"#DejaVuSans-120\"/>\n      </g>\n     </g>\n    </g>\n    <g id=\"xtick_126\">\n     <g id=\"line2d_126\">\n      <g>\n       <use style=\"stroke:#000000;stroke-width:0.8;\" x=\"815.3875\" xlink:href=\"#mbb5199c8e6\" y=\"348.478125\"/>\n      </g>\n     </g>\n     <g id=\"text_126\">\n      <!-- h1_glucose_min -->\n      <g transform=\"translate(817.221719 411.478125)rotate(-90)scale(0.07 -0.07)\">\n       <use xlink:href=\"#DejaVuSans-104\"/>\n       <use x=\"63.378906\" xlink:href=\"#DejaVuSans-49\"/>\n       <use x=\"127.001953\" xlink:href=\"#DejaVuSans-95\"/>\n       <use x=\"177.001953\" xlink:href=\"#DejaVuSans-103\"/>\n       <use x=\"240.478516\" xlink:href=\"#DejaVuSans-108\"/>\n       <use x=\"268.261719\" xlink:href=\"#DejaVuSans-117\"/>\n       <use x=\"331.640625\" xlink:href=\"#DejaVuSans-99\"/>\n       <use x=\"386.621094\" xlink:href=\"#DejaVuSans-111\"/>\n       <use x=\"447.802734\" xlink:href=\"#DejaVuSans-115\"/>\n       <use x=\"499.902344\" xlink:href=\"#DejaVuSans-101\"/>\n       <use x=\"561.425781\" xlink:href=\"#DejaVuSans-95\"/>\n       <use x=\"611.425781\" xlink:href=\"#DejaVuSans-109\"/>\n       <use x=\"708.837891\" xlink:href=\"#DejaVuSans-105\"/>\n       <use x=\"736.621094\" xlink:href=\"#DejaVuSans-110\"/>\n      </g>\n     </g>\n    </g>\n    <g id=\"xtick_127\">\n     <g id=\"line2d_127\">\n      <g>\n       <use style=\"stroke:#000000;stroke-width:0.8;\" x=\"821.665\" xlink:href=\"#mbb5199c8e6\" y=\"348.478125\"/>\n      </g>\n     </g>\n     <g id=\"text_127\">\n      <!-- h1_hco3_max -->\n      <g transform=\"translate(823.499219 403.641406)rotate(-90)scale(0.07 -0.07)\">\n       <use xlink:href=\"#DejaVuSans-104\"/>\n       <use x=\"63.378906\" xlink:href=\"#DejaVuSans-49\"/>\n       <use x=\"127.001953\" xlink:href=\"#DejaVuSans-95\"/>\n       <use x=\"177.001953\" xlink:href=\"#DejaVuSans-104\"/>\n       <use x=\"240.380859\" xlink:href=\"#DejaVuSans-99\"/>\n       <use x=\"295.361328\" xlink:href=\"#DejaVuSans-111\"/>\n       <use x=\"356.542969\" xlink:href=\"#DejaVuSans-51\"/>\n       <use x=\"420.166016\" xlink:href=\"#DejaVuSans-95\"/>\n       <use x=\"470.166016\" xlink:href=\"#DejaVuSans-109\"/>\n       <use x=\"567.578125\" xlink:href=\"#DejaVuSans-97\"/>\n       <use x=\"628.857422\" xlink:href=\"#DejaVuSans-120\"/>\n      </g>\n     </g>\n    </g>\n    <g id=\"xtick_128\">\n     <g id=\"line2d_128\">\n      <g>\n       <use style=\"stroke:#000000;stroke-width:0.8;\" x=\"827.9425\" xlink:href=\"#mbb5199c8e6\" y=\"348.478125\"/>\n      </g>\n     </g>\n     <g id=\"text_128\">\n      <!-- h1_hco3_min -->\n      <g transform=\"translate(829.776719 401.589531)rotate(-90)scale(0.07 -0.07)\">\n       <use xlink:href=\"#DejaVuSans-104\"/>\n       <use x=\"63.378906\" xlink:href=\"#DejaVuSans-49\"/>\n       <use x=\"127.001953\" xlink:href=\"#DejaVuSans-95\"/>\n       <use x=\"177.001953\" xlink:href=\"#DejaVuSans-104\"/>\n       <use x=\"240.380859\" xlink:href=\"#DejaVuSans-99\"/>\n       <use x=\"295.361328\" xlink:href=\"#DejaVuSans-111\"/>\n       <use x=\"356.542969\" xlink:href=\"#DejaVuSans-51\"/>\n       <use x=\"420.166016\" xlink:href=\"#DejaVuSans-95\"/>\n       <use x=\"470.166016\" xlink:href=\"#DejaVuSans-109\"/>\n       <use x=\"567.578125\" xlink:href=\"#DejaVuSans-105\"/>\n       <use x=\"595.361328\" xlink:href=\"#DejaVuSans-110\"/>\n      </g>\n     </g>\n    </g>\n    <g id=\"xtick_129\">\n     <g id=\"line2d_129\">\n      <g>\n       <use style=\"stroke:#000000;stroke-width:0.8;\" x=\"834.22\" xlink:href=\"#mbb5199c8e6\" y=\"348.478125\"/>\n      </g>\n     </g>\n     <g id=\"text_129\">\n      <!-- h1_hemaglobin_max -->\n      <g transform=\"translate(836.054219 427.9675)rotate(-90)scale(0.07 -0.07)\">\n       <use xlink:href=\"#DejaVuSans-104\"/>\n       <use x=\"63.378906\" xlink:href=\"#DejaVuSans-49\"/>\n       <use x=\"127.001953\" xlink:href=\"#DejaVuSans-95\"/>\n       <use x=\"177.001953\" xlink:href=\"#DejaVuSans-104\"/>\n       <use x=\"240.380859\" xlink:href=\"#DejaVuSans-101\"/>\n       <use x=\"301.904297\" xlink:href=\"#DejaVuSans-109\"/>\n       <use x=\"399.316406\" xlink:href=\"#DejaVuSans-97\"/>\n       <use x=\"460.595703\" xlink:href=\"#DejaVuSans-103\"/>\n       <use x=\"524.072266\" xlink:href=\"#DejaVuSans-108\"/>\n       <use x=\"551.855469\" xlink:href=\"#DejaVuSans-111\"/>\n       <use x=\"613.037109\" xlink:href=\"#DejaVuSans-98\"/>\n       <use x=\"676.513672\" xlink:href=\"#DejaVuSans-105\"/>\n       <use x=\"704.296875\" xlink:href=\"#DejaVuSans-110\"/>\n       <use x=\"767.675781\" xlink:href=\"#DejaVuSans-95\"/>\n       <use x=\"817.675781\" xlink:href=\"#DejaVuSans-109\"/>\n       <use x=\"915.087891\" xlink:href=\"#DejaVuSans-97\"/>\n       <use x=\"976.367188\" xlink:href=\"#DejaVuSans-120\"/>\n      </g>\n     </g>\n    </g>\n    <g id=\"xtick_130\">\n     <g id=\"line2d_130\">\n      <g>\n       <use style=\"stroke:#000000;stroke-width:0.8;\" x=\"840.4975\" xlink:href=\"#mbb5199c8e6\" y=\"348.478125\"/>\n      </g>\n     </g>\n     <g id=\"text_130\">\n      <!-- h1_hemaglobin_min -->\n      <g transform=\"translate(842.331719 425.915625)rotate(-90)scale(0.07 -0.07)\">\n       <use xlink:href=\"#DejaVuSans-104\"/>\n       <use x=\"63.378906\" xlink:href=\"#DejaVuSans-49\"/>\n       <use x=\"127.001953\" xlink:href=\"#DejaVuSans-95\"/>\n       <use x=\"177.001953\" xlink:href=\"#DejaVuSans-104\"/>\n       <use x=\"240.380859\" xlink:href=\"#DejaVuSans-101\"/>\n       <use x=\"301.904297\" xlink:href=\"#DejaVuSans-109\"/>\n       <use x=\"399.316406\" xlink:href=\"#DejaVuSans-97\"/>\n       <use x=\"460.595703\" xlink:href=\"#DejaVuSans-103\"/>\n       <use x=\"524.072266\" xlink:href=\"#DejaVuSans-108\"/>\n       <use x=\"551.855469\" xlink:href=\"#DejaVuSans-111\"/>\n       <use x=\"613.037109\" xlink:href=\"#DejaVuSans-98\"/>\n       <use x=\"676.513672\" xlink:href=\"#DejaVuSans-105\"/>\n       <use x=\"704.296875\" xlink:href=\"#DejaVuSans-110\"/>\n       <use x=\"767.675781\" xlink:href=\"#DejaVuSans-95\"/>\n       <use x=\"817.675781\" xlink:href=\"#DejaVuSans-109\"/>\n       <use x=\"915.087891\" xlink:href=\"#DejaVuSans-105\"/>\n       <use x=\"942.871094\" xlink:href=\"#DejaVuSans-110\"/>\n      </g>\n     </g>\n    </g>\n    <g id=\"xtick_131\">\n     <g id=\"line2d_131\">\n      <g>\n       <use style=\"stroke:#000000;stroke-width:0.8;\" x=\"846.775\" xlink:href=\"#mbb5199c8e6\" y=\"348.478125\"/>\n      </g>\n     </g>\n     <g id=\"text_131\">\n      <!-- h1_hematocrit_max -->\n      <g transform=\"translate(848.609219 424.91375)rotate(-90)scale(0.07 -0.07)\">\n       <use xlink:href=\"#DejaVuSans-104\"/>\n       <use x=\"63.378906\" xlink:href=\"#DejaVuSans-49\"/>\n       <use x=\"127.001953\" xlink:href=\"#DejaVuSans-95\"/>\n       <use x=\"177.001953\" xlink:href=\"#DejaVuSans-104\"/>\n       <use x=\"240.380859\" xlink:href=\"#DejaVuSans-101\"/>\n       <use x=\"301.904297\" xlink:href=\"#DejaVuSans-109\"/>\n       <use x=\"399.316406\" xlink:href=\"#DejaVuSans-97\"/>\n       <use x=\"460.595703\" xlink:href=\"#DejaVuSans-116\"/>\n       <use x=\"499.804688\" xlink:href=\"#DejaVuSans-111\"/>\n       <use x=\"560.986328\" xlink:href=\"#DejaVuSans-99\"/>\n       <use x=\"615.966797\" xlink:href=\"#DejaVuSans-114\"/>\n       <use x=\"657.080078\" xlink:href=\"#DejaVuSans-105\"/>\n       <use x=\"684.863281\" xlink:href=\"#DejaVuSans-116\"/>\n       <use x=\"724.072266\" xlink:href=\"#DejaVuSans-95\"/>\n       <use x=\"774.072266\" xlink:href=\"#DejaVuSans-109\"/>\n       <use x=\"871.484375\" xlink:href=\"#DejaVuSans-97\"/>\n       <use x=\"932.763672\" xlink:href=\"#DejaVuSans-120\"/>\n      </g>\n     </g>\n    </g>\n    <g id=\"xtick_132\">\n     <g id=\"line2d_132\">\n      <g>\n       <use style=\"stroke:#000000;stroke-width:0.8;\" x=\"853.0525\" xlink:href=\"#mbb5199c8e6\" y=\"348.478125\"/>\n      </g>\n     </g>\n     <g id=\"text_132\">\n      <!-- h1_hematocrit_min -->\n      <g transform=\"translate(854.886719 422.861875)rotate(-90)scale(0.07 -0.07)\">\n       <use xlink:href=\"#DejaVuSans-104\"/>\n       <use x=\"63.378906\" xlink:href=\"#DejaVuSans-49\"/>\n       <use x=\"127.001953\" xlink:href=\"#DejaVuSans-95\"/>\n       <use x=\"177.001953\" xlink:href=\"#DejaVuSans-104\"/>\n       <use x=\"240.380859\" xlink:href=\"#DejaVuSans-101\"/>\n       <use x=\"301.904297\" xlink:href=\"#DejaVuSans-109\"/>\n       <use x=\"399.316406\" xlink:href=\"#DejaVuSans-97\"/>\n       <use x=\"460.595703\" xlink:href=\"#DejaVuSans-116\"/>\n       <use x=\"499.804688\" xlink:href=\"#DejaVuSans-111\"/>\n       <use x=\"560.986328\" xlink:href=\"#DejaVuSans-99\"/>\n       <use x=\"615.966797\" xlink:href=\"#DejaVuSans-114\"/>\n       <use x=\"657.080078\" xlink:href=\"#DejaVuSans-105\"/>\n       <use x=\"684.863281\" xlink:href=\"#DejaVuSans-116\"/>\n       <use x=\"724.072266\" xlink:href=\"#DejaVuSans-95\"/>\n       <use x=\"774.072266\" xlink:href=\"#DejaVuSans-109\"/>\n       <use x=\"871.484375\" xlink:href=\"#DejaVuSans-105\"/>\n       <use x=\"899.267578\" xlink:href=\"#DejaVuSans-110\"/>\n      </g>\n     </g>\n    </g>\n    <g id=\"xtick_133\">\n     <g id=\"line2d_133\">\n      <g>\n       <use style=\"stroke:#000000;stroke-width:0.8;\" x=\"859.33\" xlink:href=\"#mbb5199c8e6\" y=\"348.478125\"/>\n      </g>\n     </g>\n     <g id=\"text_133\">\n      <!-- h1_inr_max -->\n      <g transform=\"translate(861.164219 395.877969)rotate(-90)scale(0.07 -0.07)\">\n       <use xlink:href=\"#DejaVuSans-104\"/>\n       <use x=\"63.378906\" xlink:href=\"#DejaVuSans-49\"/>\n       <use x=\"127.001953\" xlink:href=\"#DejaVuSans-95\"/>\n       <use x=\"177.001953\" xlink:href=\"#DejaVuSans-105\"/>\n       <use x=\"204.785156\" xlink:href=\"#DejaVuSans-110\"/>\n       <use x=\"268.164062\" xlink:href=\"#DejaVuSans-114\"/>\n       <use x=\"309.277344\" xlink:href=\"#DejaVuSans-95\"/>\n       <use x=\"359.277344\" xlink:href=\"#DejaVuSans-109\"/>\n       <use x=\"456.689453\" xlink:href=\"#DejaVuSans-97\"/>\n       <use x=\"517.96875\" xlink:href=\"#DejaVuSans-120\"/>\n      </g>\n     </g>\n    </g>\n    <g id=\"xtick_134\">\n     <g id=\"line2d_134\">\n      <g>\n       <use style=\"stroke:#000000;stroke-width:0.8;\" x=\"865.6075\" xlink:href=\"#mbb5199c8e6\" y=\"348.478125\"/>\n      </g>\n     </g>\n     <g id=\"text_134\">\n      <!-- h1_inr_min -->\n      <g transform=\"translate(867.441719 393.826094)rotate(-90)scale(0.07 -0.07)\">\n       <use xlink:href=\"#DejaVuSans-104\"/>\n       <use x=\"63.378906\" xlink:href=\"#DejaVuSans-49\"/>\n       <use x=\"127.001953\" xlink:href=\"#DejaVuSans-95\"/>\n       <use x=\"177.001953\" xlink:href=\"#DejaVuSans-105\"/>\n       <use x=\"204.785156\" xlink:href=\"#DejaVuSans-110\"/>\n       <use x=\"268.164062\" xlink:href=\"#DejaVuSans-114\"/>\n       <use x=\"309.277344\" xlink:href=\"#DejaVuSans-95\"/>\n       <use x=\"359.277344\" xlink:href=\"#DejaVuSans-109\"/>\n       <use x=\"456.689453\" xlink:href=\"#DejaVuSans-105\"/>\n       <use x=\"484.472656\" xlink:href=\"#DejaVuSans-110\"/>\n      </g>\n     </g>\n    </g>\n    <g id=\"xtick_135\">\n     <g id=\"line2d_135\">\n      <g>\n       <use style=\"stroke:#000000;stroke-width:0.8;\" x=\"871.885\" xlink:href=\"#mbb5199c8e6\" y=\"348.478125\"/>\n      </g>\n     </g>\n     <g id=\"text_135\">\n      <!-- h1_lactate_max -->\n      <g transform=\"translate(873.719219 410.787969)rotate(-90)scale(0.07 -0.07)\">\n       <use xlink:href=\"#DejaVuSans-104\"/>\n       <use x=\"63.378906\" xlink:href=\"#DejaVuSans-49\"/>\n       <use x=\"127.001953\" xlink:href=\"#DejaVuSans-95\"/>\n       <use x=\"177.001953\" xlink:href=\"#DejaVuSans-108\"/>\n       <use x=\"204.785156\" xlink:href=\"#DejaVuSans-97\"/>\n       <use x=\"266.064453\" xlink:href=\"#DejaVuSans-99\"/>\n       <use x=\"321.044922\" xlink:href=\"#DejaVuSans-116\"/>\n       <use x=\"360.253906\" xlink:href=\"#DejaVuSans-97\"/>\n       <use x=\"421.533203\" xlink:href=\"#DejaVuSans-116\"/>\n       <use x=\"460.742188\" xlink:href=\"#DejaVuSans-101\"/>\n       <use x=\"522.265625\" xlink:href=\"#DejaVuSans-95\"/>\n       <use x=\"572.265625\" xlink:href=\"#DejaVuSans-109\"/>\n       <use x=\"669.677734\" xlink:href=\"#DejaVuSans-97\"/>\n       <use x=\"730.957031\" xlink:href=\"#DejaVuSans-120\"/>\n      </g>\n     </g>\n    </g>\n    <g id=\"xtick_136\">\n     <g id=\"line2d_136\">\n      <g>\n       <use style=\"stroke:#000000;stroke-width:0.8;\" x=\"878.1625\" xlink:href=\"#mbb5199c8e6\" y=\"348.478125\"/>\n      </g>\n     </g>\n     <g id=\"text_136\">\n      <!-- h1_lactate_min -->\n      <g transform=\"translate(879.996719 408.736094)rotate(-90)scale(0.07 -0.07)\">\n       <use xlink:href=\"#DejaVuSans-104\"/>\n       <use x=\"63.378906\" xlink:href=\"#DejaVuSans-49\"/>\n       <use x=\"127.001953\" xlink:href=\"#DejaVuSans-95\"/>\n       <use x=\"177.001953\" xlink:href=\"#DejaVuSans-108\"/>\n       <use x=\"204.785156\" xlink:href=\"#DejaVuSans-97\"/>\n       <use x=\"266.064453\" xlink:href=\"#DejaVuSans-99\"/>\n       <use x=\"321.044922\" xlink:href=\"#DejaVuSans-116\"/>\n       <use x=\"360.253906\" xlink:href=\"#DejaVuSans-97\"/>\n       <use x=\"421.533203\" xlink:href=\"#DejaVuSans-116\"/>\n       <use x=\"460.742188\" xlink:href=\"#DejaVuSans-101\"/>\n       <use x=\"522.265625\" xlink:href=\"#DejaVuSans-95\"/>\n       <use x=\"572.265625\" xlink:href=\"#DejaVuSans-109\"/>\n       <use x=\"669.677734\" xlink:href=\"#DejaVuSans-105\"/>\n       <use x=\"697.460938\" xlink:href=\"#DejaVuSans-110\"/>\n      </g>\n     </g>\n    </g>\n    <g id=\"xtick_137\">\n     <g id=\"line2d_137\">\n      <g>\n       <use style=\"stroke:#000000;stroke-width:0.8;\" x=\"884.44\" xlink:href=\"#mbb5199c8e6\" y=\"348.478125\"/>\n      </g>\n     </g>\n     <g id=\"text_137\">\n      <!-- h1_platelets_max -->\n      <g transform=\"translate(886.274219 416.991719)rotate(-90)scale(0.07 -0.07)\">\n       <use xlink:href=\"#DejaVuSans-104\"/>\n       <use x=\"63.378906\" xlink:href=\"#DejaVuSans-49\"/>\n       <use x=\"127.001953\" xlink:href=\"#DejaVuSans-95\"/>\n       <use x=\"177.001953\" xlink:href=\"#DejaVuSans-112\"/>\n       <use x=\"240.478516\" xlink:href=\"#DejaVuSans-108\"/>\n       <use x=\"268.261719\" xlink:href=\"#DejaVuSans-97\"/>\n       <use x=\"329.541016\" xlink:href=\"#DejaVuSans-116\"/>\n       <use x=\"368.75\" xlink:href=\"#DejaVuSans-101\"/>\n       <use x=\"430.273438\" xlink:href=\"#DejaVuSans-108\"/>\n       <use x=\"458.056641\" xlink:href=\"#DejaVuSans-101\"/>\n       <use x=\"519.580078\" xlink:href=\"#DejaVuSans-116\"/>\n       <use x=\"558.789062\" xlink:href=\"#DejaVuSans-115\"/>\n       <use x=\"610.888672\" xlink:href=\"#DejaVuSans-95\"/>\n       <use x=\"660.888672\" xlink:href=\"#DejaVuSans-109\"/>\n       <use x=\"758.300781\" xlink:href=\"#DejaVuSans-97\"/>\n       <use x=\"819.580078\" xlink:href=\"#DejaVuSans-120\"/>\n      </g>\n     </g>\n    </g>\n    <g id=\"xtick_138\">\n     <g id=\"line2d_138\">\n      <g>\n       <use style=\"stroke:#000000;stroke-width:0.8;\" x=\"890.7175\" xlink:href=\"#mbb5199c8e6\" y=\"348.478125\"/>\n      </g>\n     </g>\n     <g id=\"text_138\">\n      <!-- h1_platelets_min -->\n      <g transform=\"translate(892.551719 414.939844)rotate(-90)scale(0.07 -0.07)\">\n       <use xlink:href=\"#DejaVuSans-104\"/>\n       <use x=\"63.378906\" xlink:href=\"#DejaVuSans-49\"/>\n       <use x=\"127.001953\" xlink:href=\"#DejaVuSans-95\"/>\n       <use x=\"177.001953\" xlink:href=\"#DejaVuSans-112\"/>\n       <use x=\"240.478516\" xlink:href=\"#DejaVuSans-108\"/>\n       <use x=\"268.261719\" xlink:href=\"#DejaVuSans-97\"/>\n       <use x=\"329.541016\" xlink:href=\"#DejaVuSans-116\"/>\n       <use x=\"368.75\" xlink:href=\"#DejaVuSans-101\"/>\n       <use x=\"430.273438\" xlink:href=\"#DejaVuSans-108\"/>\n       <use x=\"458.056641\" xlink:href=\"#DejaVuSans-101\"/>\n       <use x=\"519.580078\" xlink:href=\"#DejaVuSans-116\"/>\n       <use x=\"558.789062\" xlink:href=\"#DejaVuSans-115\"/>\n       <use x=\"610.888672\" xlink:href=\"#DejaVuSans-95\"/>\n       <use x=\"660.888672\" xlink:href=\"#DejaVuSans-109\"/>\n       <use x=\"758.300781\" xlink:href=\"#DejaVuSans-105\"/>\n       <use x=\"786.083984\" xlink:href=\"#DejaVuSans-110\"/>\n      </g>\n     </g>\n    </g>\n    <g id=\"xtick_139\">\n     <g id=\"line2d_139\">\n      <g>\n       <use style=\"stroke:#000000;stroke-width:0.8;\" x=\"896.995\" xlink:href=\"#mbb5199c8e6\" y=\"348.478125\"/>\n      </g>\n     </g>\n     <g id=\"text_139\">\n      <!-- h1_potassium_max -->\n      <g transform=\"translate(898.829219 422.872812)rotate(-90)scale(0.07 -0.07)\">\n       <use xlink:href=\"#DejaVuSans-104\"/>\n       <use x=\"63.378906\" xlink:href=\"#DejaVuSans-49\"/>\n       <use x=\"127.001953\" xlink:href=\"#DejaVuSans-95\"/>\n       <use x=\"177.001953\" xlink:href=\"#DejaVuSans-112\"/>\n       <use x=\"240.478516\" xlink:href=\"#DejaVuSans-111\"/>\n       <use x=\"301.660156\" xlink:href=\"#DejaVuSans-116\"/>\n       <use x=\"340.869141\" xlink:href=\"#DejaVuSans-97\"/>\n       <use x=\"402.148438\" xlink:href=\"#DejaVuSans-115\"/>\n       <use x=\"454.248047\" xlink:href=\"#DejaVuSans-115\"/>\n       <use x=\"506.347656\" xlink:href=\"#DejaVuSans-105\"/>\n       <use x=\"534.130859\" xlink:href=\"#DejaVuSans-117\"/>\n       <use x=\"597.509766\" xlink:href=\"#DejaVuSans-109\"/>\n       <use x=\"694.921875\" xlink:href=\"#DejaVuSans-95\"/>\n       <use x=\"744.921875\" xlink:href=\"#DejaVuSans-109\"/>\n       <use x=\"842.333984\" xlink:href=\"#DejaVuSans-97\"/>\n       <use x=\"903.613281\" xlink:href=\"#DejaVuSans-120\"/>\n      </g>\n     </g>\n    </g>\n    <g id=\"xtick_140\">\n     <g id=\"line2d_140\">\n      <g>\n       <use style=\"stroke:#000000;stroke-width:0.8;\" x=\"903.2725\" xlink:href=\"#mbb5199c8e6\" y=\"348.478125\"/>\n      </g>\n     </g>\n     <g id=\"text_140\">\n      <!-- h1_potassium_min -->\n      <g transform=\"translate(905.106719 420.820937)rotate(-90)scale(0.07 -0.07)\">\n       <use xlink:href=\"#DejaVuSans-104\"/>\n       <use x=\"63.378906\" xlink:href=\"#DejaVuSans-49\"/>\n       <use x=\"127.001953\" xlink:href=\"#DejaVuSans-95\"/>\n       <use x=\"177.001953\" xlink:href=\"#DejaVuSans-112\"/>\n       <use x=\"240.478516\" xlink:href=\"#DejaVuSans-111\"/>\n       <use x=\"301.660156\" xlink:href=\"#DejaVuSans-116\"/>\n       <use x=\"340.869141\" xlink:href=\"#DejaVuSans-97\"/>\n       <use x=\"402.148438\" xlink:href=\"#DejaVuSans-115\"/>\n       <use x=\"454.248047\" xlink:href=\"#DejaVuSans-115\"/>\n       <use x=\"506.347656\" xlink:href=\"#DejaVuSans-105\"/>\n       <use x=\"534.130859\" xlink:href=\"#DejaVuSans-117\"/>\n       <use x=\"597.509766\" xlink:href=\"#DejaVuSans-109\"/>\n       <use x=\"694.921875\" xlink:href=\"#DejaVuSans-95\"/>\n       <use x=\"744.921875\" xlink:href=\"#DejaVuSans-109\"/>\n       <use x=\"842.333984\" xlink:href=\"#DejaVuSans-105\"/>\n       <use x=\"870.117188\" xlink:href=\"#DejaVuSans-110\"/>\n      </g>\n     </g>\n    </g>\n    <g id=\"xtick_141\">\n     <g id=\"line2d_141\">\n      <g>\n       <use style=\"stroke:#000000;stroke-width:0.8;\" x=\"909.55\" xlink:href=\"#mbb5199c8e6\" y=\"348.478125\"/>\n      </g>\n     </g>\n     <g id=\"text_141\">\n      <!-- h1_sodium_max -->\n      <g transform=\"translate(911.384219 412.192344)rotate(-90)scale(0.07 -0.07)\">\n       <use xlink:href=\"#DejaVuSans-104\"/>\n       <use x=\"63.378906\" xlink:href=\"#DejaVuSans-49\"/>\n       <use x=\"127.001953\" xlink:href=\"#DejaVuSans-95\"/>\n       <use x=\"177.001953\" xlink:href=\"#DejaVuSans-115\"/>\n       <use x=\"229.101562\" xlink:href=\"#DejaVuSans-111\"/>\n       <use x=\"290.283203\" xlink:href=\"#DejaVuSans-100\"/>\n       <use x=\"353.759766\" xlink:href=\"#DejaVuSans-105\"/>\n       <use x=\"381.542969\" xlink:href=\"#DejaVuSans-117\"/>\n       <use x=\"444.921875\" xlink:href=\"#DejaVuSans-109\"/>\n       <use x=\"542.333984\" xlink:href=\"#DejaVuSans-95\"/>\n       <use x=\"592.333984\" xlink:href=\"#DejaVuSans-109\"/>\n       <use x=\"689.746094\" xlink:href=\"#DejaVuSans-97\"/>\n       <use x=\"751.025391\" xlink:href=\"#DejaVuSans-120\"/>\n      </g>\n     </g>\n    </g>\n    <g id=\"xtick_142\">\n     <g id=\"line2d_142\">\n      <g>\n       <use style=\"stroke:#000000;stroke-width:0.8;\" x=\"915.8275\" xlink:href=\"#mbb5199c8e6\" y=\"348.478125\"/>\n      </g>\n     </g>\n     <g id=\"text_142\">\n      <!-- h1_sodium_min -->\n      <g transform=\"translate(917.661719 410.140469)rotate(-90)scale(0.07 -0.07)\">\n       <use xlink:href=\"#DejaVuSans-104\"/>\n       <use x=\"63.378906\" xlink:href=\"#DejaVuSans-49\"/>\n       <use x=\"127.001953\" xlink:href=\"#DejaVuSans-95\"/>\n       <use x=\"177.001953\" xlink:href=\"#DejaVuSans-115\"/>\n       <use x=\"229.101562\" xlink:href=\"#DejaVuSans-111\"/>\n       <use x=\"290.283203\" xlink:href=\"#DejaVuSans-100\"/>\n       <use x=\"353.759766\" xlink:href=\"#DejaVuSans-105\"/>\n       <use x=\"381.542969\" xlink:href=\"#DejaVuSans-117\"/>\n       <use x=\"444.921875\" xlink:href=\"#DejaVuSans-109\"/>\n       <use x=\"542.333984\" xlink:href=\"#DejaVuSans-95\"/>\n       <use x=\"592.333984\" xlink:href=\"#DejaVuSans-109\"/>\n       <use x=\"689.746094\" xlink:href=\"#DejaVuSans-105\"/>\n       <use x=\"717.529297\" xlink:href=\"#DejaVuSans-110\"/>\n      </g>\n     </g>\n    </g>\n    <g id=\"xtick_143\">\n     <g id=\"line2d_143\">\n      <g>\n       <use style=\"stroke:#000000;stroke-width:0.8;\" x=\"922.105\" xlink:href=\"#mbb5199c8e6\" y=\"348.478125\"/>\n      </g>\n     </g>\n     <g id=\"text_143\">\n      <!-- h1_wbc_max -->\n      <g transform=\"translate(923.939219 400.636875)rotate(-90)scale(0.07 -0.07)\">\n       <use xlink:href=\"#DejaVuSans-104\"/>\n       <use x=\"63.378906\" xlink:href=\"#DejaVuSans-49\"/>\n       <use x=\"127.001953\" xlink:href=\"#DejaVuSans-95\"/>\n       <use x=\"177.001953\" xlink:href=\"#DejaVuSans-119\"/>\n       <use x=\"258.789062\" xlink:href=\"#DejaVuSans-98\"/>\n       <use x=\"322.265625\" xlink:href=\"#DejaVuSans-99\"/>\n       <use x=\"377.246094\" xlink:href=\"#DejaVuSans-95\"/>\n       <use x=\"427.246094\" xlink:href=\"#DejaVuSans-109\"/>\n       <use x=\"524.658203\" xlink:href=\"#DejaVuSans-97\"/>\n       <use x=\"585.9375\" xlink:href=\"#DejaVuSans-120\"/>\n      </g>\n     </g>\n    </g>\n    <g id=\"xtick_144\">\n     <g id=\"line2d_144\">\n      <g>\n       <use style=\"stroke:#000000;stroke-width:0.8;\" x=\"928.3825\" xlink:href=\"#mbb5199c8e6\" y=\"348.478125\"/>\n      </g>\n     </g>\n     <g id=\"text_144\">\n      <!-- h1_wbc_min -->\n      <g transform=\"translate(930.216719 398.585)rotate(-90)scale(0.07 -0.07)\">\n       <use xlink:href=\"#DejaVuSans-104\"/>\n       <use x=\"63.378906\" xlink:href=\"#DejaVuSans-49\"/>\n       <use x=\"127.001953\" xlink:href=\"#DejaVuSans-95\"/>\n       <use x=\"177.001953\" xlink:href=\"#DejaVuSans-119\"/>\n       <use x=\"258.789062\" xlink:href=\"#DejaVuSans-98\"/>\n       <use x=\"322.265625\" xlink:href=\"#DejaVuSans-99\"/>\n       <use x=\"377.246094\" xlink:href=\"#DejaVuSans-95\"/>\n       <use x=\"427.246094\" xlink:href=\"#DejaVuSans-109\"/>\n       <use x=\"524.658203\" xlink:href=\"#DejaVuSans-105\"/>\n       <use x=\"552.441406\" xlink:href=\"#DejaVuSans-110\"/>\n      </g>\n     </g>\n    </g>\n    <g id=\"xtick_145\">\n     <g id=\"line2d_145\">\n      <g>\n       <use style=\"stroke:#000000;stroke-width:0.8;\" x=\"934.66\" xlink:href=\"#mbb5199c8e6\" y=\"348.478125\"/>\n      </g>\n     </g>\n     <g id=\"text_145\">\n      <!-- d1_arterial_pco2_max -->\n      <g transform=\"translate(936.494219 432.432187)rotate(-90)scale(0.07 -0.07)\">\n       <use xlink:href=\"#DejaVuSans-100\"/>\n       <use x=\"63.476562\" xlink:href=\"#DejaVuSans-49\"/>\n       <use x=\"127.099609\" xlink:href=\"#DejaVuSans-95\"/>\n       <use x=\"177.099609\" xlink:href=\"#DejaVuSans-97\"/>\n       <use x=\"238.378906\" xlink:href=\"#DejaVuSans-114\"/>\n       <use x=\"279.492188\" xlink:href=\"#DejaVuSans-116\"/>\n       <use x=\"318.701172\" xlink:href=\"#DejaVuSans-101\"/>\n       <use x=\"380.224609\" xlink:href=\"#DejaVuSans-114\"/>\n       <use x=\"421.337891\" xlink:href=\"#DejaVuSans-105\"/>\n       <use x=\"449.121094\" xlink:href=\"#DejaVuSans-97\"/>\n       <use x=\"510.400391\" xlink:href=\"#DejaVuSans-108\"/>\n       <use x=\"538.183594\" xlink:href=\"#DejaVuSans-95\"/>\n       <use x=\"588.183594\" xlink:href=\"#DejaVuSans-112\"/>\n       <use x=\"651.660156\" xlink:href=\"#DejaVuSans-99\"/>\n       <use x=\"706.640625\" xlink:href=\"#DejaVuSans-111\"/>\n       <use x=\"767.822266\" xlink:href=\"#DejaVuSans-50\"/>\n       <use x=\"831.445312\" xlink:href=\"#DejaVuSans-95\"/>\n       <use x=\"881.445312\" xlink:href=\"#DejaVuSans-109\"/>\n       <use x=\"978.857422\" xlink:href=\"#DejaVuSans-97\"/>\n       <use x=\"1040.136719\" xlink:href=\"#DejaVuSans-120\"/>\n      </g>\n     </g>\n    </g>\n    <g id=\"xtick_146\">\n     <g id=\"line2d_146\">\n      <g>\n       <use style=\"stroke:#000000;stroke-width:0.8;\" x=\"940.9375\" xlink:href=\"#mbb5199c8e6\" y=\"348.478125\"/>\n      </g>\n     </g>\n     <g id=\"text_146\">\n      <!-- d1_arterial_pco2_min -->\n      <g transform=\"translate(942.771719 430.380312)rotate(-90)scale(0.07 -0.07)\">\n       <use xlink:href=\"#DejaVuSans-100\"/>\n       <use x=\"63.476562\" xlink:href=\"#DejaVuSans-49\"/>\n       <use x=\"127.099609\" xlink:href=\"#DejaVuSans-95\"/>\n       <use x=\"177.099609\" xlink:href=\"#DejaVuSans-97\"/>\n       <use x=\"238.378906\" xlink:href=\"#DejaVuSans-114\"/>\n       <use x=\"279.492188\" xlink:href=\"#DejaVuSans-116\"/>\n       <use x=\"318.701172\" xlink:href=\"#DejaVuSans-101\"/>\n       <use x=\"380.224609\" xlink:href=\"#DejaVuSans-114\"/>\n       <use x=\"421.337891\" xlink:href=\"#DejaVuSans-105\"/>\n       <use x=\"449.121094\" xlink:href=\"#DejaVuSans-97\"/>\n       <use x=\"510.400391\" xlink:href=\"#DejaVuSans-108\"/>\n       <use x=\"538.183594\" xlink:href=\"#DejaVuSans-95\"/>\n       <use x=\"588.183594\" xlink:href=\"#DejaVuSans-112\"/>\n       <use x=\"651.660156\" xlink:href=\"#DejaVuSans-99\"/>\n       <use x=\"706.640625\" xlink:href=\"#DejaVuSans-111\"/>\n       <use x=\"767.822266\" xlink:href=\"#DejaVuSans-50\"/>\n       <use x=\"831.445312\" xlink:href=\"#DejaVuSans-95\"/>\n       <use x=\"881.445312\" xlink:href=\"#DejaVuSans-109\"/>\n       <use x=\"978.857422\" xlink:href=\"#DejaVuSans-105\"/>\n       <use x=\"1006.640625\" xlink:href=\"#DejaVuSans-110\"/>\n      </g>\n     </g>\n    </g>\n    <g id=\"xtick_147\">\n     <g id=\"line2d_147\">\n      <g>\n       <use style=\"stroke:#000000;stroke-width:0.8;\" x=\"947.215\" xlink:href=\"#mbb5199c8e6\" y=\"348.478125\"/>\n      </g>\n     </g>\n     <g id=\"text_147\">\n      <!-- d1_arterial_ph_max -->\n      <g transform=\"translate(949.049219 424.282656)rotate(-90)scale(0.07 -0.07)\">\n       <use xlink:href=\"#DejaVuSans-100\"/>\n       <use x=\"63.476562\" xlink:href=\"#DejaVuSans-49\"/>\n       <use x=\"127.099609\" xlink:href=\"#DejaVuSans-95\"/>\n       <use x=\"177.099609\" xlink:href=\"#DejaVuSans-97\"/>\n       <use x=\"238.378906\" xlink:href=\"#DejaVuSans-114\"/>\n       <use x=\"279.492188\" xlink:href=\"#DejaVuSans-116\"/>\n       <use x=\"318.701172\" xlink:href=\"#DejaVuSans-101\"/>\n       <use x=\"380.224609\" xlink:href=\"#DejaVuSans-114\"/>\n       <use x=\"421.337891\" xlink:href=\"#DejaVuSans-105\"/>\n       <use x=\"449.121094\" xlink:href=\"#DejaVuSans-97\"/>\n       <use x=\"510.400391\" xlink:href=\"#DejaVuSans-108\"/>\n       <use x=\"538.183594\" xlink:href=\"#DejaVuSans-95\"/>\n       <use x=\"588.183594\" xlink:href=\"#DejaVuSans-112\"/>\n       <use x=\"651.660156\" xlink:href=\"#DejaVuSans-104\"/>\n       <use x=\"715.039062\" xlink:href=\"#DejaVuSans-95\"/>\n       <use x=\"765.039062\" xlink:href=\"#DejaVuSans-109\"/>\n       <use x=\"862.451172\" xlink:href=\"#DejaVuSans-97\"/>\n       <use x=\"923.730469\" xlink:href=\"#DejaVuSans-120\"/>\n      </g>\n     </g>\n    </g>\n    <g id=\"xtick_148\">\n     <g id=\"line2d_148\">\n      <g>\n       <use style=\"stroke:#000000;stroke-width:0.8;\" x=\"953.4925\" xlink:href=\"#mbb5199c8e6\" y=\"348.478125\"/>\n      </g>\n     </g>\n     <g id=\"text_148\">\n      <!-- d1_arterial_ph_min -->\n      <g transform=\"translate(955.326719 422.230781)rotate(-90)scale(0.07 -0.07)\">\n       <use xlink:href=\"#DejaVuSans-100\"/>\n       <use x=\"63.476562\" xlink:href=\"#DejaVuSans-49\"/>\n       <use x=\"127.099609\" xlink:href=\"#DejaVuSans-95\"/>\n       <use x=\"177.099609\" xlink:href=\"#DejaVuSans-97\"/>\n       <use x=\"238.378906\" xlink:href=\"#DejaVuSans-114\"/>\n       <use x=\"279.492188\" xlink:href=\"#DejaVuSans-116\"/>\n       <use x=\"318.701172\" xlink:href=\"#DejaVuSans-101\"/>\n       <use x=\"380.224609\" xlink:href=\"#DejaVuSans-114\"/>\n       <use x=\"421.337891\" xlink:href=\"#DejaVuSans-105\"/>\n       <use x=\"449.121094\" xlink:href=\"#DejaVuSans-97\"/>\n       <use x=\"510.400391\" xlink:href=\"#DejaVuSans-108\"/>\n       <use x=\"538.183594\" xlink:href=\"#DejaVuSans-95\"/>\n       <use x=\"588.183594\" xlink:href=\"#DejaVuSans-112\"/>\n       <use x=\"651.660156\" xlink:href=\"#DejaVuSans-104\"/>\n       <use x=\"715.039062\" xlink:href=\"#DejaVuSans-95\"/>\n       <use x=\"765.039062\" xlink:href=\"#DejaVuSans-109\"/>\n       <use x=\"862.451172\" xlink:href=\"#DejaVuSans-105\"/>\n       <use x=\"890.234375\" xlink:href=\"#DejaVuSans-110\"/>\n      </g>\n     </g>\n    </g>\n    <g id=\"xtick_149\">\n     <g id=\"line2d_149\">\n      <g>\n       <use style=\"stroke:#000000;stroke-width:0.8;\" x=\"959.77\" xlink:href=\"#mbb5199c8e6\" y=\"348.478125\"/>\n      </g>\n     </g>\n     <g id=\"text_149\">\n      <!-- d1_arterial_po2_max -->\n      <g transform=\"translate(961.604219 428.583281)rotate(-90)scale(0.07 -0.07)\">\n       <use xlink:href=\"#DejaVuSans-100\"/>\n       <use x=\"63.476562\" xlink:href=\"#DejaVuSans-49\"/>\n       <use x=\"127.099609\" xlink:href=\"#DejaVuSans-95\"/>\n       <use x=\"177.099609\" xlink:href=\"#DejaVuSans-97\"/>\n       <use x=\"238.378906\" xlink:href=\"#DejaVuSans-114\"/>\n       <use x=\"279.492188\" xlink:href=\"#DejaVuSans-116\"/>\n       <use x=\"318.701172\" xlink:href=\"#DejaVuSans-101\"/>\n       <use x=\"380.224609\" xlink:href=\"#DejaVuSans-114\"/>\n       <use x=\"421.337891\" xlink:href=\"#DejaVuSans-105\"/>\n       <use x=\"449.121094\" xlink:href=\"#DejaVuSans-97\"/>\n       <use x=\"510.400391\" xlink:href=\"#DejaVuSans-108\"/>\n       <use x=\"538.183594\" xlink:href=\"#DejaVuSans-95\"/>\n       <use x=\"588.183594\" xlink:href=\"#DejaVuSans-112\"/>\n       <use x=\"651.660156\" xlink:href=\"#DejaVuSans-111\"/>\n       <use x=\"712.841797\" xlink:href=\"#DejaVuSans-50\"/>\n       <use x=\"776.464844\" xlink:href=\"#DejaVuSans-95\"/>\n       <use x=\"826.464844\" xlink:href=\"#DejaVuSans-109\"/>\n       <use x=\"923.876953\" xlink:href=\"#DejaVuSans-97\"/>\n       <use x=\"985.15625\" xlink:href=\"#DejaVuSans-120\"/>\n      </g>\n     </g>\n    </g>\n    <g id=\"xtick_150\">\n     <g id=\"line2d_150\">\n      <g>\n       <use style=\"stroke:#000000;stroke-width:0.8;\" x=\"966.0475\" xlink:href=\"#mbb5199c8e6\" y=\"348.478125\"/>\n      </g>\n     </g>\n     <g id=\"text_150\">\n      <!-- d1_arterial_po2_min -->\n      <g transform=\"translate(967.881719 426.531406)rotate(-90)scale(0.07 -0.07)\">\n       <use xlink:href=\"#DejaVuSans-100\"/>\n       <use x=\"63.476562\" xlink:href=\"#DejaVuSans-49\"/>\n       <use x=\"127.099609\" xlink:href=\"#DejaVuSans-95\"/>\n       <use x=\"177.099609\" xlink:href=\"#DejaVuSans-97\"/>\n       <use x=\"238.378906\" xlink:href=\"#DejaVuSans-114\"/>\n       <use x=\"279.492188\" xlink:href=\"#DejaVuSans-116\"/>\n       <use x=\"318.701172\" xlink:href=\"#DejaVuSans-101\"/>\n       <use x=\"380.224609\" xlink:href=\"#DejaVuSans-114\"/>\n       <use x=\"421.337891\" xlink:href=\"#DejaVuSans-105\"/>\n       <use x=\"449.121094\" xlink:href=\"#DejaVuSans-97\"/>\n       <use x=\"510.400391\" xlink:href=\"#DejaVuSans-108\"/>\n       <use x=\"538.183594\" xlink:href=\"#DejaVuSans-95\"/>\n       <use x=\"588.183594\" xlink:href=\"#DejaVuSans-112\"/>\n       <use x=\"651.660156\" xlink:href=\"#DejaVuSans-111\"/>\n       <use x=\"712.841797\" xlink:href=\"#DejaVuSans-50\"/>\n       <use x=\"776.464844\" xlink:href=\"#DejaVuSans-95\"/>\n       <use x=\"826.464844\" xlink:href=\"#DejaVuSans-109\"/>\n       <use x=\"923.876953\" xlink:href=\"#DejaVuSans-105\"/>\n       <use x=\"951.660156\" xlink:href=\"#DejaVuSans-110\"/>\n      </g>\n     </g>\n    </g>\n    <g id=\"xtick_151\">\n     <g id=\"line2d_151\">\n      <g>\n       <use style=\"stroke:#000000;stroke-width:0.8;\" x=\"972.325\" xlink:href=\"#mbb5199c8e6\" y=\"348.478125\"/>\n      </g>\n     </g>\n     <g id=\"text_151\">\n      <!-- d1_pao2fio2ratio_max -->\n      <g transform=\"translate(974.159219 433.382656)rotate(-90)scale(0.07 -0.07)\">\n       <use xlink:href=\"#DejaVuSans-100\"/>\n       <use x=\"63.476562\" xlink:href=\"#DejaVuSans-49\"/>\n       <use x=\"127.099609\" xlink:href=\"#DejaVuSans-95\"/>\n       <use x=\"177.099609\" xlink:href=\"#DejaVuSans-112\"/>\n       <use x=\"240.576172\" xlink:href=\"#DejaVuSans-97\"/>\n       <use x=\"301.855469\" xlink:href=\"#DejaVuSans-111\"/>\n       <use x=\"363.037109\" xlink:href=\"#DejaVuSans-50\"/>\n       <use x=\"426.660156\" xlink:href=\"#DejaVuSans-102\"/>\n       <use x=\"461.865234\" xlink:href=\"#DejaVuSans-105\"/>\n       <use x=\"489.648438\" xlink:href=\"#DejaVuSans-111\"/>\n       <use x=\"550.830078\" xlink:href=\"#DejaVuSans-50\"/>\n       <use x=\"614.453125\" xlink:href=\"#DejaVuSans-114\"/>\n       <use x=\"655.566406\" xlink:href=\"#DejaVuSans-97\"/>\n       <use x=\"716.845703\" xlink:href=\"#DejaVuSans-116\"/>\n       <use x=\"756.054688\" xlink:href=\"#DejaVuSans-105\"/>\n       <use x=\"783.837891\" xlink:href=\"#DejaVuSans-111\"/>\n       <use x=\"845.019531\" xlink:href=\"#DejaVuSans-95\"/>\n       <use x=\"895.019531\" xlink:href=\"#DejaVuSans-109\"/>\n       <use x=\"992.431641\" xlink:href=\"#DejaVuSans-97\"/>\n       <use x=\"1053.710938\" xlink:href=\"#DejaVuSans-120\"/>\n      </g>\n     </g>\n    </g>\n    <g id=\"xtick_152\">\n     <g id=\"line2d_152\">\n      <g>\n       <use style=\"stroke:#000000;stroke-width:0.8;\" x=\"978.6025\" xlink:href=\"#mbb5199c8e6\" y=\"348.478125\"/>\n      </g>\n     </g>\n     <g id=\"text_152\">\n      <!-- d1_pao2fio2ratio_min -->\n      <g transform=\"translate(980.436719 431.330781)rotate(-90)scale(0.07 -0.07)\">\n       <use xlink:href=\"#DejaVuSans-100\"/>\n       <use x=\"63.476562\" xlink:href=\"#DejaVuSans-49\"/>\n       <use x=\"127.099609\" xlink:href=\"#DejaVuSans-95\"/>\n       <use x=\"177.099609\" xlink:href=\"#DejaVuSans-112\"/>\n       <use x=\"240.576172\" xlink:href=\"#DejaVuSans-97\"/>\n       <use x=\"301.855469\" xlink:href=\"#DejaVuSans-111\"/>\n       <use x=\"363.037109\" xlink:href=\"#DejaVuSans-50\"/>\n       <use x=\"426.660156\" xlink:href=\"#DejaVuSans-102\"/>\n       <use x=\"461.865234\" xlink:href=\"#DejaVuSans-105\"/>\n       <use x=\"489.648438\" xlink:href=\"#DejaVuSans-111\"/>\n       <use x=\"550.830078\" xlink:href=\"#DejaVuSans-50\"/>\n       <use x=\"614.453125\" xlink:href=\"#DejaVuSans-114\"/>\n       <use x=\"655.566406\" xlink:href=\"#DejaVuSans-97\"/>\n       <use x=\"716.845703\" xlink:href=\"#DejaVuSans-116\"/>\n       <use x=\"756.054688\" xlink:href=\"#DejaVuSans-105\"/>\n       <use x=\"783.837891\" xlink:href=\"#DejaVuSans-111\"/>\n       <use x=\"845.019531\" xlink:href=\"#DejaVuSans-95\"/>\n       <use x=\"895.019531\" xlink:href=\"#DejaVuSans-109\"/>\n       <use x=\"992.431641\" xlink:href=\"#DejaVuSans-105\"/>\n       <use x=\"1020.214844\" xlink:href=\"#DejaVuSans-110\"/>\n      </g>\n     </g>\n    </g>\n    <g id=\"xtick_153\">\n     <g id=\"line2d_153\">\n      <g>\n       <use style=\"stroke:#000000;stroke-width:0.8;\" x=\"984.88\" xlink:href=\"#mbb5199c8e6\" y=\"348.478125\"/>\n      </g>\n     </g>\n     <g id=\"text_153\">\n      <!-- h1_arterial_pco2_max -->\n      <g transform=\"translate(986.714219 432.424531)rotate(-90)scale(0.07 -0.07)\">\n       <use xlink:href=\"#DejaVuSans-104\"/>\n       <use x=\"63.378906\" xlink:href=\"#DejaVuSans-49\"/>\n       <use x=\"127.001953\" xlink:href=\"#DejaVuSans-95\"/>\n       <use x=\"177.001953\" xlink:href=\"#DejaVuSans-97\"/>\n       <use x=\"238.28125\" xlink:href=\"#DejaVuSans-114\"/>\n       <use x=\"279.394531\" xlink:href=\"#DejaVuSans-116\"/>\n       <use x=\"318.603516\" xlink:href=\"#DejaVuSans-101\"/>\n       <use x=\"380.126953\" xlink:href=\"#DejaVuSans-114\"/>\n       <use x=\"421.240234\" xlink:href=\"#DejaVuSans-105\"/>\n       <use x=\"449.023438\" xlink:href=\"#DejaVuSans-97\"/>\n       <use x=\"510.302734\" xlink:href=\"#DejaVuSans-108\"/>\n       <use x=\"538.085938\" xlink:href=\"#DejaVuSans-95\"/>\n       <use x=\"588.085938\" xlink:href=\"#DejaVuSans-112\"/>\n       <use x=\"651.5625\" xlink:href=\"#DejaVuSans-99\"/>\n       <use x=\"706.542969\" xlink:href=\"#DejaVuSans-111\"/>\n       <use x=\"767.724609\" xlink:href=\"#DejaVuSans-50\"/>\n       <use x=\"831.347656\" xlink:href=\"#DejaVuSans-95\"/>\n       <use x=\"881.347656\" xlink:href=\"#DejaVuSans-109\"/>\n       <use x=\"978.759766\" xlink:href=\"#DejaVuSans-97\"/>\n       <use x=\"1040.039062\" xlink:href=\"#DejaVuSans-120\"/>\n      </g>\n     </g>\n    </g>\n    <g id=\"xtick_154\">\n     <g id=\"line2d_154\">\n      <g>\n       <use style=\"stroke:#000000;stroke-width:0.8;\" x=\"991.1575\" xlink:href=\"#mbb5199c8e6\" y=\"348.478125\"/>\n      </g>\n     </g>\n     <g id=\"text_154\">\n      <!-- h1_arterial_pco2_min -->\n      <g transform=\"translate(992.991719 430.372656)rotate(-90)scale(0.07 -0.07)\">\n       <use xlink:href=\"#DejaVuSans-104\"/>\n       <use x=\"63.378906\" xlink:href=\"#DejaVuSans-49\"/>\n       <use x=\"127.001953\" xlink:href=\"#DejaVuSans-95\"/>\n       <use x=\"177.001953\" xlink:href=\"#DejaVuSans-97\"/>\n       <use x=\"238.28125\" xlink:href=\"#DejaVuSans-114\"/>\n       <use x=\"279.394531\" xlink:href=\"#DejaVuSans-116\"/>\n       <use x=\"318.603516\" xlink:href=\"#DejaVuSans-101\"/>\n       <use x=\"380.126953\" xlink:href=\"#DejaVuSans-114\"/>\n       <use x=\"421.240234\" xlink:href=\"#DejaVuSans-105\"/>\n       <use x=\"449.023438\" xlink:href=\"#DejaVuSans-97\"/>\n       <use x=\"510.302734\" xlink:href=\"#DejaVuSans-108\"/>\n       <use x=\"538.085938\" xlink:href=\"#DejaVuSans-95\"/>\n       <use x=\"588.085938\" xlink:href=\"#DejaVuSans-112\"/>\n       <use x=\"651.5625\" xlink:href=\"#DejaVuSans-99\"/>\n       <use x=\"706.542969\" xlink:href=\"#DejaVuSans-111\"/>\n       <use x=\"767.724609\" xlink:href=\"#DejaVuSans-50\"/>\n       <use x=\"831.347656\" xlink:href=\"#DejaVuSans-95\"/>\n       <use x=\"881.347656\" xlink:href=\"#DejaVuSans-109\"/>\n       <use x=\"978.759766\" xlink:href=\"#DejaVuSans-105\"/>\n       <use x=\"1006.542969\" xlink:href=\"#DejaVuSans-110\"/>\n      </g>\n     </g>\n    </g>\n    <g id=\"xtick_155\">\n     <g id=\"line2d_155\">\n      <g>\n       <use style=\"stroke:#000000;stroke-width:0.8;\" x=\"997.435\" xlink:href=\"#mbb5199c8e6\" y=\"348.478125\"/>\n      </g>\n     </g>\n     <g id=\"text_155\">\n      <!-- h1_arterial_ph_max -->\n      <g transform=\"translate(999.269219 424.275)rotate(-90)scale(0.07 -0.07)\">\n       <use xlink:href=\"#DejaVuSans-104\"/>\n       <use x=\"63.378906\" xlink:href=\"#DejaVuSans-49\"/>\n       <use x=\"127.001953\" xlink:href=\"#DejaVuSans-95\"/>\n       <use x=\"177.001953\" xlink:href=\"#DejaVuSans-97\"/>\n       <use x=\"238.28125\" xlink:href=\"#DejaVuSans-114\"/>\n       <use x=\"279.394531\" xlink:href=\"#DejaVuSans-116\"/>\n       <use x=\"318.603516\" xlink:href=\"#DejaVuSans-101\"/>\n       <use x=\"380.126953\" xlink:href=\"#DejaVuSans-114\"/>\n       <use x=\"421.240234\" xlink:href=\"#DejaVuSans-105\"/>\n       <use x=\"449.023438\" xlink:href=\"#DejaVuSans-97\"/>\n       <use x=\"510.302734\" xlink:href=\"#DejaVuSans-108\"/>\n       <use x=\"538.085938\" xlink:href=\"#DejaVuSans-95\"/>\n       <use x=\"588.085938\" xlink:href=\"#DejaVuSans-112\"/>\n       <use x=\"651.5625\" xlink:href=\"#DejaVuSans-104\"/>\n       <use x=\"714.941406\" xlink:href=\"#DejaVuSans-95\"/>\n       <use x=\"764.941406\" xlink:href=\"#DejaVuSans-109\"/>\n       <use x=\"862.353516\" xlink:href=\"#DejaVuSans-97\"/>\n       <use x=\"923.632812\" xlink:href=\"#DejaVuSans-120\"/>\n      </g>\n     </g>\n    </g>\n    <g id=\"xtick_156\">\n     <g id=\"line2d_156\">\n      <g>\n       <use style=\"stroke:#000000;stroke-width:0.8;\" x=\"1003.7125\" xlink:href=\"#mbb5199c8e6\" y=\"348.478125\"/>\n      </g>\n     </g>\n     <g id=\"text_156\">\n      <!-- h1_arterial_ph_min -->\n      <g transform=\"translate(1005.546719 422.223125)rotate(-90)scale(0.07 -0.07)\">\n       <use xlink:href=\"#DejaVuSans-104\"/>\n       <use x=\"63.378906\" xlink:href=\"#DejaVuSans-49\"/>\n       <use x=\"127.001953\" xlink:href=\"#DejaVuSans-95\"/>\n       <use x=\"177.001953\" xlink:href=\"#DejaVuSans-97\"/>\n       <use x=\"238.28125\" xlink:href=\"#DejaVuSans-114\"/>\n       <use x=\"279.394531\" xlink:href=\"#DejaVuSans-116\"/>\n       <use x=\"318.603516\" xlink:href=\"#DejaVuSans-101\"/>\n       <use x=\"380.126953\" xlink:href=\"#DejaVuSans-114\"/>\n       <use x=\"421.240234\" xlink:href=\"#DejaVuSans-105\"/>\n       <use x=\"449.023438\" xlink:href=\"#DejaVuSans-97\"/>\n       <use x=\"510.302734\" xlink:href=\"#DejaVuSans-108\"/>\n       <use x=\"538.085938\" xlink:href=\"#DejaVuSans-95\"/>\n       <use x=\"588.085938\" xlink:href=\"#DejaVuSans-112\"/>\n       <use x=\"651.5625\" xlink:href=\"#DejaVuSans-104\"/>\n       <use x=\"714.941406\" xlink:href=\"#DejaVuSans-95\"/>\n       <use x=\"764.941406\" xlink:href=\"#DejaVuSans-109\"/>\n       <use x=\"862.353516\" xlink:href=\"#DejaVuSans-105\"/>\n       <use x=\"890.136719\" xlink:href=\"#DejaVuSans-110\"/>\n      </g>\n     </g>\n    </g>\n    <g id=\"xtick_157\">\n     <g id=\"line2d_157\">\n      <g>\n       <use style=\"stroke:#000000;stroke-width:0.8;\" x=\"1009.99\" xlink:href=\"#mbb5199c8e6\" y=\"348.478125\"/>\n      </g>\n     </g>\n     <g id=\"text_157\">\n      <!-- h1_arterial_po2_max -->\n      <g transform=\"translate(1011.824219 428.575625)rotate(-90)scale(0.07 -0.07)\">\n       <use xlink:href=\"#DejaVuSans-104\"/>\n       <use x=\"63.378906\" xlink:href=\"#DejaVuSans-49\"/>\n       <use x=\"127.001953\" xlink:href=\"#DejaVuSans-95\"/>\n       <use x=\"177.001953\" xlink:href=\"#DejaVuSans-97\"/>\n       <use x=\"238.28125\" xlink:href=\"#DejaVuSans-114\"/>\n       <use x=\"279.394531\" xlink:href=\"#DejaVuSans-116\"/>\n       <use x=\"318.603516\" xlink:href=\"#DejaVuSans-101\"/>\n       <use x=\"380.126953\" xlink:href=\"#DejaVuSans-114\"/>\n       <use x=\"421.240234\" xlink:href=\"#DejaVuSans-105\"/>\n       <use x=\"449.023438\" xlink:href=\"#DejaVuSans-97\"/>\n       <use x=\"510.302734\" xlink:href=\"#DejaVuSans-108\"/>\n       <use x=\"538.085938\" xlink:href=\"#DejaVuSans-95\"/>\n       <use x=\"588.085938\" xlink:href=\"#DejaVuSans-112\"/>\n       <use x=\"651.5625\" xlink:href=\"#DejaVuSans-111\"/>\n       <use x=\"712.744141\" xlink:href=\"#DejaVuSans-50\"/>\n       <use x=\"776.367188\" xlink:href=\"#DejaVuSans-95\"/>\n       <use x=\"826.367188\" xlink:href=\"#DejaVuSans-109\"/>\n       <use x=\"923.779297\" xlink:href=\"#DejaVuSans-97\"/>\n       <use x=\"985.058594\" xlink:href=\"#DejaVuSans-120\"/>\n      </g>\n     </g>\n    </g>\n    <g id=\"xtick_158\">\n     <g id=\"line2d_158\">\n      <g>\n       <use style=\"stroke:#000000;stroke-width:0.8;\" x=\"1016.2675\" xlink:href=\"#mbb5199c8e6\" y=\"348.478125\"/>\n      </g>\n     </g>\n     <g id=\"text_158\">\n      <!-- h1_arterial_po2_min -->\n      <g transform=\"translate(1018.101719 426.52375)rotate(-90)scale(0.07 -0.07)\">\n       <use xlink:href=\"#DejaVuSans-104\"/>\n       <use x=\"63.378906\" xlink:href=\"#DejaVuSans-49\"/>\n       <use x=\"127.001953\" xlink:href=\"#DejaVuSans-95\"/>\n       <use x=\"177.001953\" xlink:href=\"#DejaVuSans-97\"/>\n       <use x=\"238.28125\" xlink:href=\"#DejaVuSans-114\"/>\n       <use x=\"279.394531\" xlink:href=\"#DejaVuSans-116\"/>\n       <use x=\"318.603516\" xlink:href=\"#DejaVuSans-101\"/>\n       <use x=\"380.126953\" xlink:href=\"#DejaVuSans-114\"/>\n       <use x=\"421.240234\" xlink:href=\"#DejaVuSans-105\"/>\n       <use x=\"449.023438\" xlink:href=\"#DejaVuSans-97\"/>\n       <use x=\"510.302734\" xlink:href=\"#DejaVuSans-108\"/>\n       <use x=\"538.085938\" xlink:href=\"#DejaVuSans-95\"/>\n       <use x=\"588.085938\" xlink:href=\"#DejaVuSans-112\"/>\n       <use x=\"651.5625\" xlink:href=\"#DejaVuSans-111\"/>\n       <use x=\"712.744141\" xlink:href=\"#DejaVuSans-50\"/>\n       <use x=\"776.367188\" xlink:href=\"#DejaVuSans-95\"/>\n       <use x=\"826.367188\" xlink:href=\"#DejaVuSans-109\"/>\n       <use x=\"923.779297\" xlink:href=\"#DejaVuSans-105\"/>\n       <use x=\"951.5625\" xlink:href=\"#DejaVuSans-110\"/>\n      </g>\n     </g>\n    </g>\n    <g id=\"xtick_159\">\n     <g id=\"line2d_159\">\n      <g>\n       <use style=\"stroke:#000000;stroke-width:0.8;\" x=\"1022.545\" xlink:href=\"#mbb5199c8e6\" y=\"348.478125\"/>\n      </g>\n     </g>\n     <g id=\"text_159\">\n      <!-- h1_pao2fio2ratio_max -->\n      <g transform=\"translate(1024.379219 433.375)rotate(-90)scale(0.07 -0.07)\">\n       <use xlink:href=\"#DejaVuSans-104\"/>\n       <use x=\"63.378906\" xlink:href=\"#DejaVuSans-49\"/>\n       <use x=\"127.001953\" xlink:href=\"#DejaVuSans-95\"/>\n       <use x=\"177.001953\" xlink:href=\"#DejaVuSans-112\"/>\n       <use x=\"240.478516\" xlink:href=\"#DejaVuSans-97\"/>\n       <use x=\"301.757812\" xlink:href=\"#DejaVuSans-111\"/>\n       <use x=\"362.939453\" xlink:href=\"#DejaVuSans-50\"/>\n       <use x=\"426.5625\" xlink:href=\"#DejaVuSans-102\"/>\n       <use x=\"461.767578\" xlink:href=\"#DejaVuSans-105\"/>\n       <use x=\"489.550781\" xlink:href=\"#DejaVuSans-111\"/>\n       <use x=\"550.732422\" xlink:href=\"#DejaVuSans-50\"/>\n       <use x=\"614.355469\" xlink:href=\"#DejaVuSans-114\"/>\n       <use x=\"655.46875\" xlink:href=\"#DejaVuSans-97\"/>\n       <use x=\"716.748047\" xlink:href=\"#DejaVuSans-116\"/>\n       <use x=\"755.957031\" xlink:href=\"#DejaVuSans-105\"/>\n       <use x=\"783.740234\" xlink:href=\"#DejaVuSans-111\"/>\n       <use x=\"844.921875\" xlink:href=\"#DejaVuSans-95\"/>\n       <use x=\"894.921875\" xlink:href=\"#DejaVuSans-109\"/>\n       <use x=\"992.333984\" xlink:href=\"#DejaVuSans-97\"/>\n       <use x=\"1053.613281\" xlink:href=\"#DejaVuSans-120\"/>\n      </g>\n     </g>\n    </g>\n    <g id=\"xtick_160\">\n     <g id=\"line2d_160\">\n      <g>\n       <use style=\"stroke:#000000;stroke-width:0.8;\" x=\"1028.8225\" xlink:href=\"#mbb5199c8e6\" y=\"348.478125\"/>\n      </g>\n     </g>\n     <g id=\"text_160\">\n      <!-- h1_pao2fio2ratio_min -->\n      <g transform=\"translate(1030.656719 431.323125)rotate(-90)scale(0.07 -0.07)\">\n       <use xlink:href=\"#DejaVuSans-104\"/>\n       <use x=\"63.378906\" xlink:href=\"#DejaVuSans-49\"/>\n       <use x=\"127.001953\" xlink:href=\"#DejaVuSans-95\"/>\n       <use x=\"177.001953\" xlink:href=\"#DejaVuSans-112\"/>\n       <use x=\"240.478516\" xlink:href=\"#DejaVuSans-97\"/>\n       <use x=\"301.757812\" xlink:href=\"#DejaVuSans-111\"/>\n       <use x=\"362.939453\" xlink:href=\"#DejaVuSans-50\"/>\n       <use x=\"426.5625\" xlink:href=\"#DejaVuSans-102\"/>\n       <use x=\"461.767578\" xlink:href=\"#DejaVuSans-105\"/>\n       <use x=\"489.550781\" xlink:href=\"#DejaVuSans-111\"/>\n       <use x=\"550.732422\" xlink:href=\"#DejaVuSans-50\"/>\n       <use x=\"614.355469\" xlink:href=\"#DejaVuSans-114\"/>\n       <use x=\"655.46875\" xlink:href=\"#DejaVuSans-97\"/>\n       <use x=\"716.748047\" xlink:href=\"#DejaVuSans-116\"/>\n       <use x=\"755.957031\" xlink:href=\"#DejaVuSans-105\"/>\n       <use x=\"783.740234\" xlink:href=\"#DejaVuSans-111\"/>\n       <use x=\"844.921875\" xlink:href=\"#DejaVuSans-95\"/>\n       <use x=\"894.921875\" xlink:href=\"#DejaVuSans-109\"/>\n       <use x=\"992.333984\" xlink:href=\"#DejaVuSans-105\"/>\n       <use x=\"1020.117188\" xlink:href=\"#DejaVuSans-110\"/>\n      </g>\n     </g>\n    </g>\n    <g id=\"text_161\">\n     <!-- Feature -->\n     <g transform=\"translate(510.871406 466.949062)scale(0.1 -0.1)\">\n      <defs>\n       <path d=\"M 9.8125 72.90625 \nL 51.703125 72.90625 \nL 51.703125 64.59375 \nL 19.671875 64.59375 \nL 19.671875 43.109375 \nL 48.578125 43.109375 \nL 48.578125 34.8125 \nL 19.671875 34.8125 \nL 19.671875 0 \nL 9.8125 0 \nz\n\" id=\"DejaVuSans-70\"/>\n      </defs>\n      <use xlink:href=\"#DejaVuSans-70\"/>\n      <use x=\"52.019531\" xlink:href=\"#DejaVuSans-101\"/>\n      <use x=\"113.542969\" xlink:href=\"#DejaVuSans-97\"/>\n      <use x=\"174.822266\" xlink:href=\"#DejaVuSans-116\"/>\n      <use x=\"214.03125\" xlink:href=\"#DejaVuSans-117\"/>\n      <use x=\"277.410156\" xlink:href=\"#DejaVuSans-114\"/>\n      <use x=\"316.273438\" xlink:href=\"#DejaVuSans-101\"/>\n     </g>\n    </g>\n   </g>\n   <g id=\"matplotlib.axis_2\">\n    <g id=\"ytick_1\">\n     <g id=\"line2d_161\">\n      <defs>\n       <path d=\"M 0 0 \nL -3.5 0 \n\" id=\"m38c0fb4558\" style=\"stroke:#000000;stroke-width:0.8;\"/>\n      </defs>\n      <g>\n       <use style=\"stroke:#000000;stroke-width:0.8;\" x=\"27.56125\" xlink:href=\"#m38c0fb4558\" y=\"348.478125\"/>\n      </g>\n     </g>\n     <g id=\"text_162\">\n      <!-- 0 -->\n      <g transform=\"translate(16.1075 351.137578)scale(0.07 -0.07)\">\n       <defs>\n        <path d=\"M 31.78125 66.40625 \nQ 24.171875 66.40625 20.328125 58.90625 \nQ 16.5 51.421875 16.5 36.375 \nQ 16.5 21.390625 20.328125 13.890625 \nQ 24.171875 6.390625 31.78125 6.390625 \nQ 39.453125 6.390625 43.28125 13.890625 \nQ 47.125 21.390625 47.125 36.375 \nQ 47.125 51.421875 43.28125 58.90625 \nQ 39.453125 66.40625 31.78125 66.40625 \nz\nM 31.78125 74.21875 \nQ 44.046875 74.21875 50.515625 64.515625 \nQ 56.984375 54.828125 56.984375 36.375 \nQ 56.984375 17.96875 50.515625 8.265625 \nQ 44.046875 -1.421875 31.78125 -1.421875 \nQ 19.53125 -1.421875 13.0625 8.265625 \nQ 6.59375 17.96875 6.59375 36.375 \nQ 6.59375 54.828125 13.0625 64.515625 \nQ 19.53125 74.21875 31.78125 74.21875 \nz\n\" id=\"DejaVuSans-48\"/>\n       </defs>\n       <use xlink:href=\"#DejaVuSans-48\"/>\n      </g>\n     </g>\n    </g>\n    <g id=\"ytick_2\">\n     <g id=\"line2d_162\">\n      <g>\n       <use style=\"stroke:#000000;stroke-width:0.8;\" x=\"27.56125\" xlink:href=\"#m38c0fb4558\" y=\"286.320892\"/>\n      </g>\n     </g>\n     <g id=\"text_163\">\n      <!-- 20 -->\n      <g transform=\"translate(11.65375 288.980345)scale(0.07 -0.07)\">\n       <use xlink:href=\"#DejaVuSans-50\"/>\n       <use x=\"63.623047\" xlink:href=\"#DejaVuSans-48\"/>\n      </g>\n     </g>\n    </g>\n    <g id=\"ytick_3\">\n     <g id=\"line2d_163\">\n      <g>\n       <use style=\"stroke:#000000;stroke-width:0.8;\" x=\"27.56125\" xlink:href=\"#m38c0fb4558\" y=\"224.163659\"/>\n      </g>\n     </g>\n     <g id=\"text_164\">\n      <!-- 40 -->\n      <g transform=\"translate(11.65375 226.823112)scale(0.07 -0.07)\">\n       <defs>\n        <path d=\"M 37.796875 64.3125 \nL 12.890625 25.390625 \nL 37.796875 25.390625 \nz\nM 35.203125 72.90625 \nL 47.609375 72.90625 \nL 47.609375 25.390625 \nL 58.015625 25.390625 \nL 58.015625 17.1875 \nL 47.609375 17.1875 \nL 47.609375 0 \nL 37.796875 0 \nL 37.796875 17.1875 \nL 4.890625 17.1875 \nL 4.890625 26.703125 \nz\n\" id=\"DejaVuSans-52\"/>\n       </defs>\n       <use xlink:href=\"#DejaVuSans-52\"/>\n       <use x=\"63.623047\" xlink:href=\"#DejaVuSans-48\"/>\n      </g>\n     </g>\n    </g>\n    <g id=\"ytick_4\">\n     <g id=\"line2d_164\">\n      <g>\n       <use style=\"stroke:#000000;stroke-width:0.8;\" x=\"27.56125\" xlink:href=\"#m38c0fb4558\" y=\"162.006426\"/>\n      </g>\n     </g>\n     <g id=\"text_165\">\n      <!-- 60 -->\n      <g transform=\"translate(11.65375 164.665879)scale(0.07 -0.07)\">\n       <defs>\n        <path d=\"M 33.015625 40.375 \nQ 26.375 40.375 22.484375 35.828125 \nQ 18.609375 31.296875 18.609375 23.390625 \nQ 18.609375 15.53125 22.484375 10.953125 \nQ 26.375 6.390625 33.015625 6.390625 \nQ 39.65625 6.390625 43.53125 10.953125 \nQ 47.40625 15.53125 47.40625 23.390625 \nQ 47.40625 31.296875 43.53125 35.828125 \nQ 39.65625 40.375 33.015625 40.375 \nz\nM 52.59375 71.296875 \nL 52.59375 62.3125 \nQ 48.875 64.0625 45.09375 64.984375 \nQ 41.3125 65.921875 37.59375 65.921875 \nQ 27.828125 65.921875 22.671875 59.328125 \nQ 17.53125 52.734375 16.796875 39.40625 \nQ 19.671875 43.65625 24.015625 45.921875 \nQ 28.375 48.1875 33.59375 48.1875 \nQ 44.578125 48.1875 50.953125 41.515625 \nQ 57.328125 34.859375 57.328125 23.390625 \nQ 57.328125 12.15625 50.6875 5.359375 \nQ 44.046875 -1.421875 33.015625 -1.421875 \nQ 20.359375 -1.421875 13.671875 8.265625 \nQ 6.984375 17.96875 6.984375 36.375 \nQ 6.984375 53.65625 15.1875 63.9375 \nQ 23.390625 74.21875 37.203125 74.21875 \nQ 40.921875 74.21875 44.703125 73.484375 \nQ 48.484375 72.75 52.59375 71.296875 \nz\n\" id=\"DejaVuSans-54\"/>\n       </defs>\n       <use xlink:href=\"#DejaVuSans-54\"/>\n       <use x=\"63.623047\" xlink:href=\"#DejaVuSans-48\"/>\n      </g>\n     </g>\n    </g>\n    <g id=\"ytick_5\">\n     <g id=\"line2d_165\">\n      <g>\n       <use style=\"stroke:#000000;stroke-width:0.8;\" x=\"27.56125\" xlink:href=\"#m38c0fb4558\" y=\"99.849193\"/>\n      </g>\n     </g>\n     <g id=\"text_166\">\n      <!-- 80 -->\n      <g transform=\"translate(11.65375 102.508646)scale(0.07 -0.07)\">\n       <defs>\n        <path d=\"M 31.78125 34.625 \nQ 24.75 34.625 20.71875 30.859375 \nQ 16.703125 27.09375 16.703125 20.515625 \nQ 16.703125 13.921875 20.71875 10.15625 \nQ 24.75 6.390625 31.78125 6.390625 \nQ 38.8125 6.390625 42.859375 10.171875 \nQ 46.921875 13.96875 46.921875 20.515625 \nQ 46.921875 27.09375 42.890625 30.859375 \nQ 38.875 34.625 31.78125 34.625 \nz\nM 21.921875 38.8125 \nQ 15.578125 40.375 12.03125 44.71875 \nQ 8.5 49.078125 8.5 55.328125 \nQ 8.5 64.0625 14.71875 69.140625 \nQ 20.953125 74.21875 31.78125 74.21875 \nQ 42.671875 74.21875 48.875 69.140625 \nQ 55.078125 64.0625 55.078125 55.328125 \nQ 55.078125 49.078125 51.53125 44.71875 \nQ 48 40.375 41.703125 38.8125 \nQ 48.828125 37.15625 52.796875 32.3125 \nQ 56.78125 27.484375 56.78125 20.515625 \nQ 56.78125 9.90625 50.3125 4.234375 \nQ 43.84375 -1.421875 31.78125 -1.421875 \nQ 19.734375 -1.421875 13.25 4.234375 \nQ 6.78125 9.90625 6.78125 20.515625 \nQ 6.78125 27.484375 10.78125 32.3125 \nQ 14.796875 37.15625 21.921875 38.8125 \nz\nM 18.3125 54.390625 \nQ 18.3125 48.734375 21.84375 45.5625 \nQ 25.390625 42.390625 31.78125 42.390625 \nQ 38.140625 42.390625 41.71875 45.5625 \nQ 45.3125 48.734375 45.3125 54.390625 \nQ 45.3125 60.0625 41.71875 63.234375 \nQ 38.140625 66.40625 31.78125 66.40625 \nQ 25.390625 66.40625 21.84375 63.234375 \nQ 18.3125 60.0625 18.3125 54.390625 \nz\n\" id=\"DejaVuSans-56\"/>\n       </defs>\n       <use xlink:href=\"#DejaVuSans-56\"/>\n       <use x=\"63.623047\" xlink:href=\"#DejaVuSans-48\"/>\n      </g>\n     </g>\n    </g>\n    <g id=\"ytick_6\">\n     <g id=\"line2d_166\">\n      <g>\n       <use style=\"stroke:#000000;stroke-width:0.8;\" x=\"27.56125\" xlink:href=\"#m38c0fb4558\" y=\"37.69196\"/>\n      </g>\n     </g>\n     <g id=\"text_167\">\n      <!-- 100 -->\n      <g transform=\"translate(7.2 40.351413)scale(0.07 -0.07)\">\n       <use xlink:href=\"#DejaVuSans-49\"/>\n       <use x=\"63.623047\" xlink:href=\"#DejaVuSans-48\"/>\n       <use x=\"127.246094\" xlink:href=\"#DejaVuSans-48\"/>\n      </g>\n     </g>\n    </g>\n   </g>\n   <g id=\"patch_163\">\n    <path d=\"M 27.56125 348.478125 \nL 27.56125 22.318125 \n\" style=\"fill:none;stroke:#000000;stroke-linecap:square;stroke-linejoin:miter;stroke-width:0.8;\"/>\n   </g>\n   <g id=\"patch_164\">\n    <path d=\"M 1031.96125 348.478125 \nL 1031.96125 22.318125 \n\" style=\"fill:none;stroke:#000000;stroke-linecap:square;stroke-linejoin:miter;stroke-width:0.8;\"/>\n   </g>\n   <g id=\"patch_165\">\n    <path d=\"M 27.56125 348.478125 \nL 1031.96125 348.478125 \n\" style=\"fill:none;stroke:#000000;stroke-linecap:square;stroke-linejoin:miter;stroke-width:0.8;\"/>\n   </g>\n   <g id=\"patch_166\">\n    <path d=\"M 27.56125 22.318125 \nL 1031.96125 22.318125 \n\" style=\"fill:none;stroke:#000000;stroke-linecap:square;stroke-linejoin:miter;stroke-width:0.8;\"/>\n   </g>\n   <g id=\"text_168\">\n    <!-- Filled data -->\n    <g transform=\"translate(498.821875 16.318125)scale(0.12 -0.12)\">\n     <defs>\n      <path id=\"DejaVuSans-32\"/>\n     </defs>\n     <use xlink:href=\"#DejaVuSans-70\"/>\n     <use x=\"50.269531\" xlink:href=\"#DejaVuSans-105\"/>\n     <use x=\"78.052734\" xlink:href=\"#DejaVuSans-108\"/>\n     <use x=\"105.835938\" xlink:href=\"#DejaVuSans-108\"/>\n     <use x=\"133.619141\" xlink:href=\"#DejaVuSans-101\"/>\n     <use x=\"195.142578\" xlink:href=\"#DejaVuSans-100\"/>\n     <use x=\"258.619141\" xlink:href=\"#DejaVuSans-32\"/>\n     <use x=\"290.40625\" xlink:href=\"#DejaVuSans-100\"/>\n     <use x=\"353.882812\" xlink:href=\"#DejaVuSans-97\"/>\n     <use x=\"415.162109\" xlink:href=\"#DejaVuSans-116\"/>\n     <use x=\"454.371094\" xlink:href=\"#DejaVuSans-97\"/>\n    </g>\n   </g>\n   <g id=\"legend_1\">\n    <g id=\"patch_167\">\n     <path d=\"M 938.251875 44.99625 \nL 1024.96125 44.99625 \nQ 1026.96125 44.99625 1026.96125 42.99625 \nL 1026.96125 29.318125 \nQ 1026.96125 27.318125 1024.96125 27.318125 \nL 938.251875 27.318125 \nQ 936.251875 27.318125 936.251875 29.318125 \nL 936.251875 42.99625 \nQ 936.251875 44.99625 938.251875 44.99625 \nz\n\" style=\"fill:#ffffff;opacity:0.8;stroke:#cccccc;stroke-linejoin:miter;\"/>\n    </g>\n    <g id=\"patch_168\">\n     <path d=\"M 940.251875 38.916562 \nL 960.251875 38.916562 \nL 960.251875 31.916562 \nL 940.251875 31.916562 \nz\n\" style=\"fill:#812878;\"/>\n    </g>\n    <g id=\"text_169\">\n     <!-- Filled Ratio -->\n     <g transform=\"translate(968.251875 38.916562)scale(0.1 -0.1)\">\n      <defs>\n       <path d=\"M 44.390625 34.1875 \nQ 47.5625 33.109375 50.5625 29.59375 \nQ 53.5625 26.078125 56.59375 19.921875 \nL 66.609375 0 \nL 56 0 \nL 46.6875 18.703125 \nQ 43.0625 26.03125 39.671875 28.421875 \nQ 36.28125 30.8125 30.421875 30.8125 \nL 19.671875 30.8125 \nL 19.671875 0 \nL 9.8125 0 \nL 9.8125 72.90625 \nL 32.078125 72.90625 \nQ 44.578125 72.90625 50.734375 67.671875 \nQ 56.890625 62.453125 56.890625 51.90625 \nQ 56.890625 45.015625 53.6875 40.46875 \nQ 50.484375 35.9375 44.390625 34.1875 \nz\nM 19.671875 64.796875 \nL 19.671875 38.921875 \nL 32.078125 38.921875 \nQ 39.203125 38.921875 42.84375 42.21875 \nQ 46.484375 45.515625 46.484375 51.90625 \nQ 46.484375 58.296875 42.84375 61.546875 \nQ 39.203125 64.796875 32.078125 64.796875 \nz\n\" id=\"DejaVuSans-82\"/>\n      </defs>\n      <use xlink:href=\"#DejaVuSans-70\"/>\n      <use x=\"50.269531\" xlink:href=\"#DejaVuSans-105\"/>\n      <use x=\"78.052734\" xlink:href=\"#DejaVuSans-108\"/>\n      <use x=\"105.835938\" xlink:href=\"#DejaVuSans-108\"/>\n      <use x=\"133.619141\" xlink:href=\"#DejaVuSans-101\"/>\n      <use x=\"195.142578\" xlink:href=\"#DejaVuSans-100\"/>\n      <use x=\"258.619141\" xlink:href=\"#DejaVuSans-32\"/>\n      <use x=\"290.40625\" xlink:href=\"#DejaVuSans-82\"/>\n      <use x=\"357.638672\" xlink:href=\"#DejaVuSans-97\"/>\n      <use x=\"418.917969\" xlink:href=\"#DejaVuSans-116\"/>\n      <use x=\"458.126953\" xlink:href=\"#DejaVuSans-105\"/>\n      <use x=\"485.910156\" xlink:href=\"#DejaVuSans-111\"/>\n     </g>\n    </g>\n   </g>\n  </g>\n </g>\n <defs>\n  <clipPath id=\"p5e318613c6\">\n   <rect height=\"326.16\" width=\"1004.4\" x=\"27.56125\" y=\"22.318125\"/>\n  </clipPath>\n </defs>\n</svg>\n",
      "image/png": "[encoded data removed]"
     },
     "metadata": {
      "needs_background": "light"
     }
    }
   ],
   "source": [
    "'''missing_cnt = df.isna().sum() #column wise sum of missing values\n",
    "\n",
    "#display only the columns with missing values with count and proportion of missing values by column \n",
    "missing_df = pd.concat([missing_cnt.rename('Missing Count'), \n",
    "                        missing_cnt.div(len(df)/100).rename('Missing Ratio')], axis=1).loc[missing_cnt.ne(0)]\n",
    "missing_df'''\n",
    "missing_df = missingData(df)"
   ]
  },
  {
   "cell_type": "markdown",
   "metadata": {
    "papermill": {
     "duration": 0.044122,
     "end_time": "2021-01-16T14:43:04.631781",
     "exception": false,
     "start_time": "2021-01-16T14:43:04.587659",
     "status": "completed"
    },
    "tags": []
   },
   "source": [
    "Out of 181 columns, 160 have missing values. The proportion of missing values in some columns is more than 80%. Clearly, missing values is a major issue with this data which needs to be fixed."
   ],
   "execution_count": null,
   "outputs": []
  },
  {
   "cell_type": "markdown",
   "metadata": {
    "papermill": {
     "duration": 0.309697,
     "end_time": "2021-01-16T14:46:03.579373",
     "exception": false,
     "start_time": "2021-01-16T14:46:03.269676",
     "status": "completed"
    },
    "tags": []
   },
   "source": [
    "# Addressing null values\n",
    "\n",
    "The data has 160 columns with null values in varying proportions. However, it is important to retain as many features as possible for building a good predictive model. In order to minimize loss of data or introduction of arbitrary values, I will use sklearn's iterative imputer to impute missing values based on existing non-null features. I will do this in a phased manner as mentioned below.\n",
    "* Start with only non-null features, train model on these features, evaluate roc-auc score on test data\n",
    "* Add features with less than 5% missing values to initial non-null data, impute missing values using iterative imputer, train model and evaluate roc-auc score on test data\n",
    "* Add features with missing values between 5% - 10% to latest data (result of previous step), impute missing values, train model and evaluate\n",
    "* Add features with additional 5% missing data to existing data at each stage, impute, train and evaluate. Repeat these steps until there is no further improvement in roc-auc score of test data. At this point it is probable that a lot of data has been added through imputation and adding further data doesn't help the model learn relationships between the independent variables and the dependent variable"
   ],
   "execution_count": null,
   "outputs": []
  },
  {
   "cell_type": "markdown",
   "metadata": {},
   "source": [
    "All features are required to be of int or float datatype for the purpose of imputing or modeling. Hence, convert icu_stay_type and icu_type from string to int dytpe. LabelEncoder is a useful method for this purpose, however in this case there are some new labels in test set which are not present in train set. So if we try to fit the encoder on train set and use it to transform the test set using sklearn's LabelEncoder class, we will see a value error. To overcome this issue, I'm defining a new label encoder class that will append a new label 'Unknown' to the existing labels at the time of fitting. When the encoder encounters a previously unseen value, it simply assigns the Unknown label to it."
   ],
   "execution_count": null,
   "outputs": []
  },
  {
   "cell_type": "markdown",
   "metadata": {},
   "source": [
    "## df_non_null: only non-null features"
   ],
   "execution_count": null,
   "outputs": []
  },
  {
   "cell_type": "code",
   "execution_count": 13,
   "metadata": {},
   "outputs": [],
   "source": [
    "df_non_null = df.dropna(axis=1) #drop all columns with missing values\n",
    "df_non_null.drop('diabetes_mellitus', axis=1, inplace=True)"
   ]
  },
  {
   "cell_type": "code",
   "execution_count": 14,
   "metadata": {},
   "outputs": [
    {
     "output_type": "stream",
     "name": "stdout",
     "text": "(130157, 15) 0 Index(['icu_stay_type', 'icu_type'], dtype='object')\n"
    }
   ],
   "source": [
    "printDFDetails(df_non_null)"
   ]
  },
  {
   "cell_type": "code",
   "execution_count": 16,
   "metadata": {},
   "outputs": [
    {
     "output_type": "execute_result",
     "data": {
      "text/plain": "\"\\nle = LabelEncoderExt()  \\nle.fit(df_non_null['icu_stay_type']) #fit on train set column \\ndf_non_null['icu_stay_type'] = le.transform(df_non_null['icu_stay_type']) #transform train set column \\ntest['icu_stay_type'] = le.transform(test['icu_stay_type']) #transform test set column\\n\\nle.fit(df_non_null['icu_type'])\\ndf_non_null['icu_type'] = le.transform(df_non_null['icu_type'])\\ntest['icu_type'] = le.transform(test['icu_type'])\\n\""
     },
     "metadata": {},
     "execution_count": 16
    }
   ],
   "source": [
    "'''\n",
    "le = LabelEncoderExt()  \n",
    "le.fit(df_non_null['icu_stay_type']) #fit on train set column \n",
    "df_non_null['icu_stay_type'] = le.transform(df_non_null['icu_stay_type']) #transform train set column \n",
    "test['icu_stay_type'] = le.transform(test['icu_stay_type']) #transform test set column\n",
    "\n",
    "le.fit(df_non_null['icu_type'])\n",
    "df_non_null['icu_type'] = le.transform(df_non_null['icu_type'])\n",
    "test['icu_type'] = le.transform(test['icu_type'])\n",
    "'''"
   ]
  },
  {
   "cell_type": "code",
   "execution_count": 17,
   "metadata": {},
   "outputs": [
    {
     "output_type": "execute_result",
     "data": {
      "text/plain": "                count\nicu_stay_type        \nadmit          124741\nreadmit           615\ntransfer         4801",
      "text/html": "<div>\n<style scoped>\n    .dataframe tbody tr th:only-of-type {\n        vertical-align: middle;\n    }\n\n    .dataframe tbody tr th {\n        vertical-align: top;\n    }\n\n    .dataframe thead th {\n        text-align: right;\n    }\n</style>\n<table border=\"1\" class=\"dataframe\">\n  <thead>\n    <tr style=\"text-align: right;\">\n      <th></th>\n      <th>count</th>\n    </tr>\n    <tr>\n      <th>icu_stay_type</th>\n      <th></th>\n    </tr>\n  </thead>\n  <tbody>\n    <tr>\n      <th>admit</th>\n      <td>124741</td>\n    </tr>\n    <tr>\n      <th>readmit</th>\n      <td>615</td>\n    </tr>\n    <tr>\n      <th>transfer</th>\n      <td>4801</td>\n    </tr>\n  </tbody>\n</table>\n</div>"
     },
     "metadata": {},
     "execution_count": 17
    }
   ],
   "source": [
    "df_non_null.groupby(by='icu_stay_type')['icu_stay_type'].agg(['count'])"
   ]
  },
  {
   "cell_type": "code",
   "execution_count": 18,
   "metadata": {},
   "outputs": [],
   "source": [
    "df_non_null = pd.get_dummies(df_non_null, prefix = ['icu_stay_type','icu_type'], drop_first=True)"
   ]
  },
  {
   "cell_type": "code",
   "execution_count": 19,
   "metadata": {},
   "outputs": [
    {
     "output_type": "execute_result",
     "data": {
      "text/plain": "Index(['elective_surgery', 'pre_icu_los_days', 'apache_post_operative',\n       'arf_apache', 'intubated_apache', 'ventilated_apache', 'aids',\n       'cirrhosis', 'hepatic_failure', 'immunosuppression', 'leukemia',\n       'lymphoma', 'solid_tumor_with_metastasis', 'icu_stay_type_readmit',\n       'icu_stay_type_transfer', 'icu_type_CSICU', 'icu_type_CTICU',\n       'icu_type_Cardiac ICU', 'icu_type_MICU', 'icu_type_Med-Surg ICU',\n       'icu_type_Neuro ICU', 'icu_type_SICU'],\n      dtype='object')"
     },
     "metadata": {},
     "execution_count": 19
    }
   ],
   "source": [
    "df_non_null.columns"
   ]
  },
  {
   "cell_type": "code",
   "execution_count": 20,
   "metadata": {},
   "outputs": [
    {
     "output_type": "stream",
     "name": "stdout",
     "text": "(130157, 22) 0 Index([], dtype='object')\n"
    }
   ],
   "source": [
    "print(df_non_null.shape, pd.DataFrame(df_non_null).isna().sum().sum(), df_non_null.select_dtypes('object').columns) # columns with object"
   ]
  },
  {
   "cell_type": "code",
   "execution_count": 21,
   "metadata": {},
   "outputs": [
    {
     "output_type": "stream",
     "name": "stdout",
     "text": "[17:42:51] WARNING: /Users/travis/build/dmlc/xgboost/src/learner.cc:1061: Starting in XGBoost 1.3.0, the default evaluation metric used with the objective 'binary:logistic' was changed from 'error' to 'logloss'. Explicitly set eval_metric if you'd like to restore the old behavior.\ntrain auc 0.5158736169254257\ntest auc 0.5099616865829137\nTime taken: 0:00:10.658987\n"
    }
   ],
   "source": [
    "compute_roc_auc(train_test_split, df_non_null, target)"
   ]
  },
  {
   "cell_type": "markdown",
   "metadata": {},
   "source": [
    "## df_5: Select columns which have missing data <= 5% \n",
    "**Imputation strategy:**\n",
    "- Categorical variables: Simple Imputer (most-frequent)\n",
    "- Continuous variables: Iterative Imputer"
   ],
   "execution_count": null,
   "outputs": []
  },
  {
   "cell_type": "code",
   "execution_count": 22,
   "metadata": {},
   "outputs": [
    {
     "output_type": "stream",
     "name": "stdout",
     "text": "(130157, 68) 108575 Index(['ethnicity', 'gender', 'icu_admit_source'], dtype='object')\n"
    }
   ],
   "source": [
    "cols_5 = missing_df[missing_df['Missing Ratio']<5]['Feature'] # get names of columns with less than 5% missing values\n",
    "#cols_5.extend(['hospital_id', 'icu_id', 'readmission_status']) # get id and constant value colums\n",
    "df_5 = pd.concat([df_non_null, df[cols_5]], axis=1) # concatenate new table with existing non-null values table\n",
    "printDFDetails(df_5)"
   ]
  },
  {
   "cell_type": "code",
   "execution_count": 24,
   "metadata": {},
   "outputs": [
    {
     "output_type": "stream",
     "name": "stdout",
     "text": "Column unique values:  ethnicity ['Caucasian' nan 'Hispanic' 'African American' 'Asian' 'Native American'\n 'Other/Unknown'] gender ['M' 'F' nan] icu_admit_source ['Floor' 'Accident & Emergency' 'Operating Room / Recovery'\n 'Other Hospital' 'Other ICU' nan] \nle.classes_: ['African American' 'Asian' 'Caucasian' 'Hispanic' 'Native American'\n 'Other/Unknown' 'Unknown' 'nan']\nle.classes_: ['F' 'M' 'Unknown' 'nan']\nle.classes_: ['Accident & Emergency' 'Floor' 'Operating Room / Recovery'\n 'Other Hospital' 'Other ICU' 'Unknown' 'nan']\n[2 3 0 1 4 5] [1 0] [1 0 2 3 4] \n"
    }
   ],
   "source": [
    "df_5, test = imputeSimple(df_5, test, ['ethnicity','gender','icu_admit_source'])"
   ]
  },
  {
   "cell_type": "code",
   "execution_count": 25,
   "metadata": {},
   "outputs": [
    {
     "output_type": "stream",
     "name": "stdout",
     "text": "dict_keys(['ethnicity', 'gender', 'icu_admit_source'])\n['African American' 'Asian' 'Caucasian' 'Hispanic' 'Native American'\n 'Other/Unknown' 'Unknown' 'nan']\n68 Index(['elective_surgery', 'pre_icu_los_days', 'apache_post_operative',\n       'arf_apache', 'intubated_apache', 'ventilated_apache', 'aids',\n       'cirrhosis', 'hepatic_failure', 'immunosuppression', 'leukemia',\n       'lymphoma', 'solid_tumor_with_metastasis', 'icu_stay_type_readmit',\n       'icu_stay_type_transfer', 'icu_type_CSICU', 'icu_type_CTICU',\n       'icu_type_Cardiac ICU', 'icu_type_MICU', 'icu_type_Med-Surg ICU',\n       'icu_type_Neuro ICU', 'icu_type_SICU', 'age', 'bmi', 'ethnicity',\n       'gender', 'height', 'icu_admit_source', 'weight', 'apache_2_diagnosis',\n       'apache_3j_diagnosis', 'gcs_eyes_apache', 'gcs_motor_apache',\n       'gcs_unable_apache', 'gcs_verbal_apache', 'heart_rate_apache',\n       'map_apache', 'resprate_apache', 'd1_diasbp_max', 'd1_diasbp_min',\n       'd1_diasbp_noninvasive_max', 'd1_diasbp_noninvasive_min',\n       'd1_heartrate_max', 'd1_heartrate_min', 'd1_mbp_max', 'd1_mbp_min',\n       'd1_mbp_noninvasive_max', 'd1_mbp_noninvasive_min', 'd1_resprate_max',\n       'd1_resprate_min', 'd1_spo2_max', 'd1_spo2_min', 'd1_sysbp_max',\n       'd1_sysbp_min', 'd1_sysbp_noninvasive_max', 'd1_sysbp_noninvasive_min',\n       'd1_temp_max', 'd1_temp_min', 'h1_diasbp_max', 'h1_diasbp_min',\n       'h1_heartrate_max', 'h1_heartrate_min', 'h1_resprate_max',\n       'h1_resprate_min', 'h1_spo2_max', 'h1_spo2_min', 'h1_sysbp_max',\n       'h1_sysbp_min'],\n      dtype='object')\n            count\nethnicity        \n0           13911\n1            2198\n2          101823\n3            5049\n4             915\n5            6261\n['Caucasian' 'Hispanic' 'African American' 'Asian' 'Native American'\n 'Other/Unknown']\n                   count\nethnicity               \nAfrican American   13911\nAsian               2198\nCaucasian         101823\nHispanic            5049\nNative American      915\nOther/Unknown       6261\n['M' 'F']\n        count\ngender       \nF       59573\nM       70584\n['Floor' 'Accident & Emergency' 'Operating Room / Recovery'\n 'Other Hospital' 'Other ICU']\n                           count\nicu_admit_source                \nAccident & Emergency       77086\nFloor                      21459\nOperating Room / Recovery  27436\nOther Hospital              3464\nOther ICU                    712\n"
    }
   ],
   "source": [
    "print(encoders.keys())\n",
    "print(encoders['ethnicity'].classes_)\n",
    "print(len(df_5.columns), df_5.columns)\n",
    "print(df_5[['ethnicity']].groupby(by='ethnicity')['ethnicity'].agg(['count']))\n",
    "for col in ['ethnicity','gender','icu_admit_source']:\n",
    "    df_5[[col]] = encoders[col].inverse_transform(df_5[[col]])\n",
    "    print(df_5[col].unique())\n",
    "    print(df_5[[col]].groupby(by=col)[col].agg(['count']))\n"
   ]
  },
  {
   "cell_type": "code",
   "execution_count": 26,
   "metadata": {},
   "outputs": [
    {
     "output_type": "execute_result",
     "data": {
      "text/plain": "elective_surgery            0\npre_icu_los_days            0\napache_post_operative       0\narf_apache                  0\nintubated_apache            0\n                         ... \nh1_resprate_min          6454\nh1_spo2_max              6242\nh1_spo2_min              6242\nh1_sysbp_max             5519\nh1_sysbp_min             5519\nLength: 68, dtype: int64"
     },
     "metadata": {},
     "execution_count": 26
    }
   ],
   "source": [
    "df_5.isna().sum()"
   ]
  },
  {
   "cell_type": "code",
   "execution_count": 27,
   "metadata": {},
   "outputs": [
    {
     "output_type": "execute_result",
     "data": {
      "text/plain": "Index(['elective_surgery', 'pre_icu_los_days', 'apache_post_operative',\n       'arf_apache', 'intubated_apache', 'ventilated_apache', 'aids',\n       'cirrhosis', 'hepatic_failure', 'immunosuppression', 'leukemia',\n       'lymphoma', 'solid_tumor_with_metastasis', 'icu_stay_type_readmit',\n       'icu_stay_type_transfer', 'icu_type_CSICU', 'icu_type_CTICU',\n       'icu_type_Cardiac ICU', 'icu_type_MICU', 'icu_type_Med-Surg ICU',\n       'icu_type_Neuro ICU', 'icu_type_SICU', 'age', 'bmi', 'ethnicity',\n       'gender', 'height', 'icu_admit_source', 'weight', 'apache_2_diagnosis',\n       'apache_3j_diagnosis', 'gcs_eyes_apache', 'gcs_motor_apache',\n       'gcs_unable_apache', 'gcs_verbal_apache', 'heart_rate_apache',\n       'map_apache', 'resprate_apache', 'd1_diasbp_max', 'd1_diasbp_min',\n       'd1_diasbp_noninvasive_max', 'd1_diasbp_noninvasive_min',\n       'd1_heartrate_max', 'd1_heartrate_min', 'd1_mbp_max', 'd1_mbp_min',\n       'd1_mbp_noninvasive_max', 'd1_mbp_noninvasive_min', 'd1_resprate_max',\n       'd1_resprate_min', 'd1_spo2_max', 'd1_spo2_min', 'd1_sysbp_max',\n       'd1_sysbp_min', 'd1_sysbp_noninvasive_max', 'd1_sysbp_noninvasive_min',\n       'd1_temp_max', 'd1_temp_min', 'h1_diasbp_max', 'h1_diasbp_min',\n       'h1_heartrate_max', 'h1_heartrate_min', 'h1_resprate_max',\n       'h1_resprate_min', 'h1_spo2_max', 'h1_spo2_min', 'h1_sysbp_max',\n       'h1_sysbp_min'],\n      dtype='object')"
     },
     "metadata": {},
     "execution_count": 27
    }
   ],
   "source": [
    "df_5.columns"
   ]
  },
  {
   "cell_type": "code",
   "execution_count": 28,
   "metadata": {},
   "outputs": [],
   "source": [
    "df_5 = pd.get_dummies(df_5, prefix = ['ethnicity','gender','icu_admit_source'], drop_first=True)"
   ]
  },
  {
   "cell_type": "code",
   "execution_count": 29,
   "metadata": {},
   "outputs": [
    {
     "output_type": "execute_result",
     "data": {
      "text/plain": "Index(['elective_surgery', 'pre_icu_los_days', 'apache_post_operative',\n       'arf_apache', 'intubated_apache', 'ventilated_apache', 'aids',\n       'cirrhosis', 'hepatic_failure', 'immunosuppression', 'leukemia',\n       'lymphoma', 'solid_tumor_with_metastasis', 'icu_stay_type_readmit',\n       'icu_stay_type_transfer', 'icu_type_CSICU', 'icu_type_CTICU',\n       'icu_type_Cardiac ICU', 'icu_type_MICU', 'icu_type_Med-Surg ICU',\n       'icu_type_Neuro ICU', 'icu_type_SICU', 'age', 'bmi', 'height', 'weight',\n       'apache_2_diagnosis', 'apache_3j_diagnosis', 'gcs_eyes_apache',\n       'gcs_motor_apache', 'gcs_unable_apache', 'gcs_verbal_apache',\n       'heart_rate_apache', 'map_apache', 'resprate_apache', 'd1_diasbp_max',\n       'd1_diasbp_min', 'd1_diasbp_noninvasive_max',\n       'd1_diasbp_noninvasive_min', 'd1_heartrate_max', 'd1_heartrate_min',\n       'd1_mbp_max', 'd1_mbp_min', 'd1_mbp_noninvasive_max',\n       'd1_mbp_noninvasive_min', 'd1_resprate_max', 'd1_resprate_min',\n       'd1_spo2_max', 'd1_spo2_min', 'd1_sysbp_max', 'd1_sysbp_min',\n       'd1_sysbp_noninvasive_max', 'd1_sysbp_noninvasive_min', 'd1_temp_max',\n       'd1_temp_min', 'h1_diasbp_max', 'h1_diasbp_min', 'h1_heartrate_max',\n       'h1_heartrate_min', 'h1_resprate_max', 'h1_resprate_min', 'h1_spo2_max',\n       'h1_spo2_min', 'h1_sysbp_max', 'h1_sysbp_min', 'ethnicity_Asian',\n       'ethnicity_Caucasian', 'ethnicity_Hispanic',\n       'ethnicity_Native American', 'ethnicity_Other/Unknown', 'gender_M',\n       'icu_admit_source_Floor', 'icu_admit_source_Operating Room / Recovery',\n       'icu_admit_source_Other Hospital', 'icu_admit_source_Other ICU'],\n      dtype='object')"
     },
     "metadata": {},
     "execution_count": 29
    }
   ],
   "source": [
    "df_5.columns"
   ]
  },
  {
   "cell_type": "code",
   "execution_count": 30,
   "metadata": {},
   "outputs": [
    {
     "output_type": "stream",
     "name": "stdout",
     "text": "[17:43:04] WARNING: /Users/travis/build/dmlc/xgboost/src/learner.cc:1061: Starting in XGBoost 1.3.0, the default evaluation metric used with the objective 'binary:logistic' was changed from 'error' to 'logloss'. Explicitly set eval_metric if you'd like to restore the old behavior.\ntrain auc 0.7100539691440749\ntest auc 0.5866983496774899\nTime taken: 0:00:44.004065\n"
    }
   ],
   "source": [
    "compute_roc_auc(train_test_split, df_5, target)"
   ]
  },
  {
   "cell_type": "markdown",
   "metadata": {},
   "source": [
    "## df_5_knn: Select columns which have missing data <= 5% \n",
    "**Imputation strategy:**\n",
    "- Categorical variables: KNN Imputer\n",
    "- Continuous variables: Iterative Imputer"
   ],
   "execution_count": null,
   "outputs": []
  },
  {
   "cell_type": "code",
   "execution_count": 31,
   "metadata": {},
   "outputs": [
    {
     "output_type": "stream",
     "name": "stdout",
     "text": "df_non_null.columns 22 Index(['elective_surgery', 'pre_icu_los_days', 'apache_post_operative',\n       'arf_apache', 'intubated_apache', 'ventilated_apache', 'aids',\n       'cirrhosis', 'hepatic_failure', 'immunosuppression', 'leukemia',\n       'lymphoma', 'solid_tumor_with_metastasis', 'icu_stay_type_readmit',\n       'icu_stay_type_transfer', 'icu_type_CSICU', 'icu_type_CTICU',\n       'icu_type_Cardiac ICU', 'icu_type_MICU', 'icu_type_Med-Surg ICU',\n       'icu_type_Neuro ICU', 'icu_type_SICU'],\n      dtype='object')\ndf[cols_5].columns 46 Index(['age', 'bmi', 'ethnicity', 'gender', 'height', 'icu_admit_source',\n       'weight', 'apache_2_diagnosis', 'apache_3j_diagnosis',\n       'gcs_eyes_apache', 'gcs_motor_apache', 'gcs_unable_apache',\n       'gcs_verbal_apache', 'heart_rate_apache', 'map_apache',\n       'resprate_apache', 'd1_diasbp_max', 'd1_diasbp_min',\n       'd1_diasbp_noninvasive_max', 'd1_diasbp_noninvasive_min',\n       'd1_heartrate_max', 'd1_heartrate_min', 'd1_mbp_max', 'd1_mbp_min',\n       'd1_mbp_noninvasive_max', 'd1_mbp_noninvasive_min', 'd1_resprate_max',\n       'd1_resprate_min', 'd1_spo2_max', 'd1_spo2_min', 'd1_sysbp_max',\n       'd1_sysbp_min', 'd1_sysbp_noninvasive_max', 'd1_sysbp_noninvasive_min',\n       'd1_temp_max', 'd1_temp_min', 'h1_diasbp_max', 'h1_diasbp_min',\n       'h1_heartrate_max', 'h1_heartrate_min', 'h1_resprate_max',\n       'h1_resprate_min', 'h1_spo2_max', 'h1_spo2_min', 'h1_sysbp_max',\n       'h1_sysbp_min'],\n      dtype='object')\n(130157, 68) 108575 Index(['ethnicity', 'gender', 'icu_admit_source'], dtype='object')\nBefore impute: ['Caucasian' nan 'Hispanic' 'African American' 'Asian' 'Native American'\n 'Other/Unknown']\nAfter LE: <class 'pandas.core.frame.DataFrame'> [2 nan 3 0 1 4 5]\n\nBefore impute: ['M' 'F' nan]\nAfter LE: <class 'pandas.core.frame.DataFrame'> [1 0 nan]\n\nBefore impute: ['Floor' 'Accident & Emergency' 'Operating Room / Recovery'\n 'Other Hospital' 'Other ICU' nan]\nAfter LE: <class 'pandas.core.frame.DataFrame'> [1 0 2 3 4 nan]\n\n"
    }
   ],
   "source": [
    "cols_5 = missing_df[missing_df['Missing Ratio']<5]['Feature'] # get names of columns with less than 5% missing values\n",
    "print(\"df_non_null.columns\", len(df_non_null.columns), df_non_null.columns)\n",
    "print(\"df[cols_5].columns\", len(df[cols_5].columns), df[cols_5].columns)\n",
    "df_5_knn = pd.concat([df_non_null, df[cols_5]], axis=1) # concatenate new table with existing non-null values table\n",
    "print(df_5_knn.shape, pd.DataFrame(df_5_knn).isna().sum().sum(), df_5_knn.select_dtypes('object').columns)\n",
    "\n",
    "encoders_knn = {}\n",
    "for col in ['ethnicity', 'gender', 'icu_admit_source']:\n",
    "    print(\"Before LE:\", df_5_knn[col].unique())\n",
    "    \n",
    "    df_5_knn, le = labelEncode(df_5_knn, col)\n",
    "    encoders_knn[col] = le\n",
    "    print(\"After LE:\", type(df_5_knn), df_5_knn[col].unique())\n",
    "    \n",
    "    #df_5_knn[col] = imputer.fit_transform(df_5_knn[col].values.reshape(-1,1))\n",
    "    #print(\"After impute:\", df_5_knn[col].unique())\n",
    "    print()\n",
    "\n",
    "data = df_5_knn.values\n",
    "ix = [i for i in range(data.shape[1])]\n",
    "X = data[:, ix]"
   ]
  },
  {
   "cell_type": "code",
   "execution_count": 32,
   "metadata": {},
   "outputs": [
    {
     "output_type": "execute_result",
     "data": {
      "text/plain": "(130157, 68)"
     },
     "metadata": {},
     "execution_count": 32
    }
   ],
   "source": [
    "X.shape"
   ]
  },
  {
   "cell_type": "code",
   "execution_count": 33,
   "metadata": {},
   "outputs": [
    {
     "output_type": "stream",
     "name": "stdout",
     "text": "KNN Imputer 14:43:44.831193 sec\n"
    }
   ],
   "source": [
    "from sklearn.impute import KNNImputer\n",
    "knn_imputer = KNNImputer(n_neighbors=2, weights=\"uniform\")\n",
    "tic = datetime.now()\n",
    "np_5_knn = knn_imputer.fit_transform(X)\n",
    "toc = datetime.now()\n",
    "print(f\"KNN Imputer {toc-tic} sec\")"
   ]
  },
  {
   "cell_type": "code",
   "execution_count": 34,
   "metadata": {},
   "outputs": [
    {
     "output_type": "stream",
     "name": "stdout",
     "text": "<class 'list'> ['elective_surgery', 'pre_icu_los_days', 'apache_post_operative', 'arf_apache', 'intubated_apache', 'ventilated_apache', 'aids', 'cirrhosis', 'hepatic_failure', 'immunosuppression', 'leukemia', 'lymphoma', 'solid_tumor_with_metastasis', 'icu_stay_type_readmit', 'icu_stay_type_transfer', 'icu_type_CSICU', 'icu_type_CTICU', 'icu_type_Cardiac ICU', 'icu_type_MICU', 'icu_type_Med-Surg ICU', 'icu_type_Neuro ICU', 'icu_type_SICU']\n(130157, 68) 0 Index([], dtype='object') Index(['elective_surgery', 'pre_icu_los_days', 'apache_post_operative',\n       'arf_apache', 'intubated_apache', 'ventilated_apache', 'aids',\n       'cirrhosis', 'hepatic_failure', 'immunosuppression', 'leukemia',\n       'lymphoma', 'solid_tumor_with_metastasis', 'icu_stay_type_readmit',\n       'icu_stay_type_transfer', 'icu_type_CSICU', 'icu_type_CTICU',\n       'icu_type_Cardiac ICU', 'icu_type_MICU', 'icu_type_Med-Surg ICU',\n       'icu_type_Neuro ICU', 'icu_type_SICU', 'age', 'bmi', 'ethnicity',\n       'gender', 'height', 'icu_admit_source', 'weight', 'apache_2_diagnosis',\n       'apache_3j_diagnosis', 'gcs_eyes_apache', 'gcs_motor_apache',\n       'gcs_unable_apache', 'gcs_verbal_apache', 'heart_rate_apache',\n       'map_apache', 'resprate_apache', 'd1_diasbp_max', 'd1_diasbp_min',\n       'd1_diasbp_noninvasive_max', 'd1_diasbp_noninvasive_min',\n       'd1_heartrate_max', 'd1_heartrate_min', 'd1_mbp_max', 'd1_mbp_min',\n       'd1_mbp_noninvasive_max', 'd1_mbp_noninvasive_min', 'd1_resprate_max',\n       'd1_resprate_min', 'd1_spo2_max', 'd1_spo2_min', 'd1_sysbp_max',\n       'd1_sysbp_min', 'd1_sysbp_noninvasive_max', 'd1_sysbp_noninvasive_min',\n       'd1_temp_max', 'd1_temp_min', 'h1_diasbp_max', 'h1_diasbp_min',\n       'h1_heartrate_max', 'h1_heartrate_min', 'h1_resprate_max',\n       'h1_resprate_min', 'h1_spo2_max', 'h1_spo2_min', 'h1_sysbp_max',\n       'h1_sysbp_min'],\n      dtype='object')\n"
    }
   ],
   "source": [
    "#df_5_knn[col] = pd.DataFrame(df_5_knn, columns=df_5.columns)\n",
    "cols = df_non_null.columns.tolist()\n",
    "print(type(cols), cols)\n",
    "cols.extend(cols_5)\n",
    "df_5_knn = pd.DataFrame(np_5_knn, columns = cols)\n",
    "print(df_5_knn.shape, df_5_knn.isna().sum().sum(), df_5_knn.select_dtypes('object').columns, df_5_knn.columns)"
   ]
  },
  {
   "cell_type": "code",
   "execution_count": 50,
   "metadata": {},
   "outputs": [],
   "source": [
    "for col in ['ethnicity', 'gender', 'icu_admit_source']:\n",
    "    df_5_knn[col] = df_5_knn[col].astype(int)"
   ]
  },
  {
   "cell_type": "code",
   "execution_count": 53,
   "metadata": {},
   "outputs": [
    {
     "output_type": "execute_result",
     "data": {
      "text/plain": "   gender  ethnicity  icu_admit_source\n0       1          2                 1\n1       0          2                 1\n2       0          2                 0\n3       0          2                 2\n4       1          2                 0\n5       1          2                 0\n6       0          2                 0\n7       1          2                 0\n8       1          2                 3\n9       1          2                 0",
      "text/html": "<div>\n<style scoped>\n    .dataframe tbody tr th:only-of-type {\n        vertical-align: middle;\n    }\n\n    .dataframe tbody tr th {\n        vertical-align: top;\n    }\n\n    .dataframe thead th {\n        text-align: right;\n    }\n</style>\n<table border=\"1\" class=\"dataframe\">\n  <thead>\n    <tr style=\"text-align: right;\">\n      <th></th>\n      <th>gender</th>\n      <th>ethnicity</th>\n      <th>icu_admit_source</th>\n    </tr>\n  </thead>\n  <tbody>\n    <tr>\n      <th>0</th>\n      <td>1</td>\n      <td>2</td>\n      <td>1</td>\n    </tr>\n    <tr>\n      <th>1</th>\n      <td>0</td>\n      <td>2</td>\n      <td>1</td>\n    </tr>\n    <tr>\n      <th>2</th>\n      <td>0</td>\n      <td>2</td>\n      <td>0</td>\n    </tr>\n    <tr>\n      <th>3</th>\n      <td>0</td>\n      <td>2</td>\n      <td>2</td>\n    </tr>\n    <tr>\n      <th>4</th>\n      <td>1</td>\n      <td>2</td>\n      <td>0</td>\n    </tr>\n    <tr>\n      <th>5</th>\n      <td>1</td>\n      <td>2</td>\n      <td>0</td>\n    </tr>\n    <tr>\n      <th>6</th>\n      <td>0</td>\n      <td>2</td>\n      <td>0</td>\n    </tr>\n    <tr>\n      <th>7</th>\n      <td>1</td>\n      <td>2</td>\n      <td>0</td>\n    </tr>\n    <tr>\n      <th>8</th>\n      <td>1</td>\n      <td>2</td>\n      <td>3</td>\n    </tr>\n    <tr>\n      <th>9</th>\n      <td>1</td>\n      <td>2</td>\n      <td>0</td>\n    </tr>\n  </tbody>\n</table>\n</div>"
     },
     "metadata": {},
     "execution_count": 53
    }
   ],
   "source": [
    "df_5_knn[['gender', 'ethnicity', 'icu_admit_source']][0:10]"
   ]
  },
  {
   "cell_type": "code",
   "execution_count": 54,
   "metadata": {},
   "outputs": [
    {
     "output_type": "execute_result",
     "data": {
      "text/plain": "pandas.core.frame.DataFrame"
     },
     "metadata": {},
     "execution_count": 54
    }
   ],
   "source": [
    "type(df_5_knn)"
   ]
  },
  {
   "cell_type": "code",
   "execution_count": 68,
   "metadata": {},
   "outputs": [
    {
     "output_type": "execute_result",
     "data": {
      "text/plain": "                   count\nethnicity               \nAfrican American   14162\nAsian               3244\nCaucasian         100475\nHispanic            5049\nNative American      966\nOther/Unknown       6261",
      "text/html": "<div>\n<style scoped>\n    .dataframe tbody tr th:only-of-type {\n        vertical-align: middle;\n    }\n\n    .dataframe tbody tr th {\n        vertical-align: top;\n    }\n\n    .dataframe thead th {\n        text-align: right;\n    }\n</style>\n<table border=\"1\" class=\"dataframe\">\n  <thead>\n    <tr style=\"text-align: right;\">\n      <th></th>\n      <th>count</th>\n    </tr>\n    <tr>\n      <th>ethnicity</th>\n      <th></th>\n    </tr>\n  </thead>\n  <tbody>\n    <tr>\n      <th>African American</th>\n      <td>14162</td>\n    </tr>\n    <tr>\n      <th>Asian</th>\n      <td>3244</td>\n    </tr>\n    <tr>\n      <th>Caucasian</th>\n      <td>100475</td>\n    </tr>\n    <tr>\n      <th>Hispanic</th>\n      <td>5049</td>\n    </tr>\n    <tr>\n      <th>Native American</th>\n      <td>966</td>\n    </tr>\n    <tr>\n      <th>Other/Unknown</th>\n      <td>6261</td>\n    </tr>\n  </tbody>\n</table>\n</div>"
     },
     "metadata": {},
     "execution_count": 68
    }
   ],
   "source": [
    "df_5_knn.groupby(by='ethnicity')['ethnicity'].agg(['count'])"
   ]
  },
  {
   "cell_type": "code",
   "execution_count": 55,
   "metadata": {},
   "outputs": [
    {
     "output_type": "stream",
     "name": "stdout",
     "text": "<class 'sklearn.preprocessing._label.LabelEncoder'>\n<class 'sklearn.preprocessing._label.LabelEncoder'>\n<class 'sklearn.preprocessing._label.LabelEncoder'>\n"
    }
   ],
   "source": [
    "for col in ['ethnicity', 'gender', 'icu_admit_source']:\n",
    "    print(type(encoders_knn[col]))\n",
    "    df_5_knn[[col]] = encoders_knn[col].inverse_transform(df_5_knn[[col]])"
   ]
  },
  {
   "cell_type": "code",
   "execution_count": 63,
   "metadata": {},
   "outputs": [
    {
     "output_type": "execute_result",
     "data": {
      "text/plain": "   ethnicity gender           icu_admit_source\n0  Caucasian      M                      Floor\n1  Caucasian      F                      Floor\n2  Caucasian      F       Accident & Emergency\n3  Caucasian      F  Operating Room / Recovery\n4  Caucasian      M       Accident & Emergency\n5  Caucasian      M       Accident & Emergency\n6  Caucasian      F       Accident & Emergency\n7  Caucasian      M       Accident & Emergency\n8  Caucasian      M             Other Hospital\n9  Caucasian      M       Accident & Emergency",
      "text/html": "<div>\n<style scoped>\n    .dataframe tbody tr th:only-of-type {\n        vertical-align: middle;\n    }\n\n    .dataframe tbody tr th {\n        vertical-align: top;\n    }\n\n    .dataframe thead th {\n        text-align: right;\n    }\n</style>\n<table border=\"1\" class=\"dataframe\">\n  <thead>\n    <tr style=\"text-align: right;\">\n      <th></th>\n      <th>ethnicity</th>\n      <th>gender</th>\n      <th>icu_admit_source</th>\n    </tr>\n  </thead>\n  <tbody>\n    <tr>\n      <th>0</th>\n      <td>Caucasian</td>\n      <td>M</td>\n      <td>Floor</td>\n    </tr>\n    <tr>\n      <th>1</th>\n      <td>Caucasian</td>\n      <td>F</td>\n      <td>Floor</td>\n    </tr>\n    <tr>\n      <th>2</th>\n      <td>Caucasian</td>\n      <td>F</td>\n      <td>Accident &amp; Emergency</td>\n    </tr>\n    <tr>\n      <th>3</th>\n      <td>Caucasian</td>\n      <td>F</td>\n      <td>Operating Room / Recovery</td>\n    </tr>\n    <tr>\n      <th>4</th>\n      <td>Caucasian</td>\n      <td>M</td>\n      <td>Accident &amp; Emergency</td>\n    </tr>\n    <tr>\n      <th>5</th>\n      <td>Caucasian</td>\n      <td>M</td>\n      <td>Accident &amp; Emergency</td>\n    </tr>\n    <tr>\n      <th>6</th>\n      <td>Caucasian</td>\n      <td>F</td>\n      <td>Accident &amp; Emergency</td>\n    </tr>\n    <tr>\n      <th>7</th>\n      <td>Caucasian</td>\n      <td>M</td>\n      <td>Accident &amp; Emergency</td>\n    </tr>\n    <tr>\n      <th>8</th>\n      <td>Caucasian</td>\n      <td>M</td>\n      <td>Other Hospital</td>\n    </tr>\n    <tr>\n      <th>9</th>\n      <td>Caucasian</td>\n      <td>M</td>\n      <td>Accident &amp; Emergency</td>\n    </tr>\n  </tbody>\n</table>\n</div>"
     },
     "metadata": {},
     "execution_count": 63
    }
   ],
   "source": [
    "df_5_knn[['ethnicity', 'gender', 'icu_admit_source']][0:10]"
   ]
  },
  {
   "cell_type": "code",
   "execution_count": 64,
   "metadata": {},
   "outputs": [],
   "source": [
    "df_5_knn_new = pd.get_dummies(df_5_knn, prefix = ['ethnicity', 'gender', 'icu_admit_source'], drop_first=True)"
   ]
  },
  {
   "cell_type": "code",
   "execution_count": 69,
   "metadata": {},
   "outputs": [
    {
     "output_type": "stream",
     "name": "stdout",
     "text": "75 Index(['elective_surgery', 'pre_icu_los_days', 'apache_post_operative',\n       'arf_apache', 'intubated_apache', 'ventilated_apache', 'aids',\n       'cirrhosis', 'hepatic_failure', 'immunosuppression', 'leukemia',\n       'lymphoma', 'solid_tumor_with_metastasis', 'icu_stay_type_readmit',\n       'icu_stay_type_transfer', 'icu_type_CSICU', 'icu_type_CTICU',\n       'icu_type_Cardiac ICU', 'icu_type_MICU', 'icu_type_Med-Surg ICU',\n       'icu_type_Neuro ICU', 'icu_type_SICU', 'age', 'bmi', 'height', 'weight',\n       'apache_2_diagnosis', 'apache_3j_diagnosis', 'gcs_eyes_apache',\n       'gcs_motor_apache', 'gcs_unable_apache', 'gcs_verbal_apache',\n       'heart_rate_apache', 'map_apache', 'resprate_apache', 'd1_diasbp_max',\n       'd1_diasbp_min', 'd1_diasbp_noninvasive_max',\n       'd1_diasbp_noninvasive_min', 'd1_heartrate_max', 'd1_heartrate_min',\n       'd1_mbp_max', 'd1_mbp_min', 'd1_mbp_noninvasive_max',\n       'd1_mbp_noninvasive_min', 'd1_resprate_max', 'd1_resprate_min',\n       'd1_spo2_max', 'd1_spo2_min', 'd1_sysbp_max', 'd1_sysbp_min',\n       'd1_sysbp_noninvasive_max', 'd1_sysbp_noninvasive_min', 'd1_temp_max',\n       'd1_temp_min', 'h1_diasbp_max', 'h1_diasbp_min', 'h1_heartrate_max',\n       'h1_heartrate_min', 'h1_resprate_max', 'h1_resprate_min', 'h1_spo2_max',\n       'h1_spo2_min', 'h1_sysbp_max', 'h1_sysbp_min', 'ethnicity_Asian',\n       'ethnicity_Caucasian', 'ethnicity_Hispanic',\n       'ethnicity_Native American', 'ethnicity_Other/Unknown', 'gender_M',\n       'icu_admit_source_Floor', 'icu_admit_source_Operating Room / Recovery',\n       'icu_admit_source_Other Hospital', 'icu_admit_source_Other ICU'],\n      dtype='object')\n"
    }
   ],
   "source": [
    "print(len(df_5_knn_new.columns), df_5_knn_new.columns)"
   ]
  },
  {
   "cell_type": "code",
   "execution_count": 66,
   "metadata": {},
   "outputs": [
    {
     "output_type": "execute_result",
     "data": {
      "text/plain": "   elective_surgery  pre_icu_los_days  apache_post_operative  arf_apache  \\\n0               0.0               1.0                    0.0         0.0   \n1               0.0               1.0                    0.0         0.0   \n2               0.0               0.0                    0.0         0.0   \n3               1.0               0.0                    1.0         0.0   \n4               0.0               0.0                    0.0         0.0   \n5               0.0               0.0                    0.0         0.0   \n6               0.0               0.0                    0.0         0.0   \n7               0.0               0.0                    0.0         0.0   \n8               0.0               0.0                    0.0         0.0   \n9               0.0               0.0                    0.0         0.0   \n\n   intubated_apache  ventilated_apache  aids  cirrhosis  hepatic_failure  \\\n0               0.0                0.0   0.0        0.0              0.0   \n1               0.0                1.0   0.0        0.0              0.0   \n2               0.0                0.0   0.0        0.0              0.0   \n3               1.0                1.0   0.0        0.0              0.0   \n4               0.0                0.0   0.0        0.0              0.0   \n5               0.0                0.0   0.0        0.0              0.0   \n6               1.0                1.0   0.0        0.0              0.0   \n7               0.0                1.0   0.0        0.0              0.0   \n8               0.0                1.0   0.0        0.0              0.0   \n9               0.0                0.0   0.0        0.0              0.0   \n\n   immunosuppression  ...  ethnicity_Asian  ethnicity_Caucasian  \\\n0                0.0  ...                0                    1   \n1                0.0  ...                0                    1   \n2                0.0  ...                0                    1   \n3                0.0  ...                0                    1   \n4                0.0  ...                0                    1   \n5                0.0  ...                0                    1   \n6                0.0  ...                0                    1   \n7                1.0  ...                0                    1   \n8                0.0  ...                0                    1   \n9                0.0  ...                0                    1   \n\n   ethnicity_Hispanic  ethnicity_Native American  ethnicity_Other/Unknown  \\\n0                   0                          0                        0   \n1                   0                          0                        0   \n2                   0                          0                        0   \n3                   0                          0                        0   \n4                   0                          0                        0   \n5                   0                          0                        0   \n6                   0                          0                        0   \n7                   0                          0                        0   \n8                   0                          0                        0   \n9                   0                          0                        0   \n\n   gender_M  icu_admit_source_Floor  \\\n0         1                       1   \n1         0                       1   \n2         0                       0   \n3         0                       0   \n4         1                       0   \n5         1                       0   \n6         0                       0   \n7         1                       0   \n8         1                       0   \n9         1                       0   \n\n   icu_admit_source_Operating Room / Recovery  \\\n0                                           0   \n1                                           0   \n2                                           0   \n3                                           1   \n4                                           0   \n5                                           0   \n6                                           0   \n7                                           0   \n8                                           0   \n9                                           0   \n\n   icu_admit_source_Other Hospital  icu_admit_source_Other ICU  \n0                                0                           0  \n1                                0                           0  \n2                                0                           0  \n3                                0                           0  \n4                                0                           0  \n5                                0                           0  \n6                                0                           0  \n7                                0                           0  \n8                                1                           0  \n9                                0                           0  \n\n[10 rows x 75 columns]",
      "text/html": "<div>\n<style scoped>\n    .dataframe tbody tr th:only-of-type {\n        vertical-align: middle;\n    }\n\n    .dataframe tbody tr th {\n        vertical-align: top;\n    }\n\n    .dataframe thead th {\n        text-align: right;\n    }\n</style>\n<table border=\"1\" class=\"dataframe\">\n  <thead>\n    <tr style=\"text-align: right;\">\n      <th></th>\n      <th>elective_surgery</th>\n      <th>pre_icu_los_days</th>\n      <th>apache_post_operative</th>\n      <th>arf_apache</th>\n      <th>intubated_apache</th>\n      <th>ventilated_apache</th>\n      <th>aids</th>\n      <th>cirrhosis</th>\n      <th>hepatic_failure</th>\n      <th>immunosuppression</th>\n      <th>...</th>\n      <th>ethnicity_Asian</th>\n      <th>ethnicity_Caucasian</th>\n      <th>ethnicity_Hispanic</th>\n      <th>ethnicity_Native American</th>\n      <th>ethnicity_Other/Unknown</th>\n      <th>gender_M</th>\n      <th>icu_admit_source_Floor</th>\n      <th>icu_admit_source_Operating Room / Recovery</th>\n      <th>icu_admit_source_Other Hospital</th>\n      <th>icu_admit_source_Other ICU</th>\n    </tr>\n  </thead>\n  <tbody>\n    <tr>\n      <th>0</th>\n      <td>0.0</td>\n      <td>1.0</td>\n      <td>0.0</td>\n      <td>0.0</td>\n      <td>0.0</td>\n      <td>0.0</td>\n      <td>0.0</td>\n      <td>0.0</td>\n      <td>0.0</td>\n      <td>0.0</td>\n      <td>...</td>\n      <td>0</td>\n      <td>1</td>\n      <td>0</td>\n      <td>0</td>\n      <td>0</td>\n      <td>1</td>\n      <td>1</td>\n      <td>0</td>\n      <td>0</td>\n      <td>0</td>\n    </tr>\n    <tr>\n      <th>1</th>\n      <td>0.0</td>\n      <td>1.0</td>\n      <td>0.0</td>\n      <td>0.0</td>\n      <td>0.0</td>\n      <td>1.0</td>\n      <td>0.0</td>\n      <td>0.0</td>\n      <td>0.0</td>\n      <td>0.0</td>\n      <td>...</td>\n      <td>0</td>\n      <td>1</td>\n      <td>0</td>\n      <td>0</td>\n      <td>0</td>\n      <td>0</td>\n      <td>1</td>\n      <td>0</td>\n      <td>0</td>\n      <td>0</td>\n    </tr>\n    <tr>\n      <th>2</th>\n      <td>0.0</td>\n      <td>0.0</td>\n      <td>0.0</td>\n      <td>0.0</td>\n      <td>0.0</td>\n      <td>0.0</td>\n      <td>0.0</td>\n      <td>0.0</td>\n      <td>0.0</td>\n      <td>0.0</td>\n      <td>...</td>\n      <td>0</td>\n      <td>1</td>\n      <td>0</td>\n      <td>0</td>\n      <td>0</td>\n      <td>0</td>\n      <td>0</td>\n      <td>0</td>\n      <td>0</td>\n      <td>0</td>\n    </tr>\n    <tr>\n      <th>3</th>\n      <td>1.0</td>\n      <td>0.0</td>\n      <td>1.0</td>\n      <td>0.0</td>\n      <td>1.0</td>\n      <td>1.0</td>\n      <td>0.0</td>\n      <td>0.0</td>\n      <td>0.0</td>\n      <td>0.0</td>\n      <td>...</td>\n      <td>0</td>\n      <td>1</td>\n      <td>0</td>\n      <td>0</td>\n      <td>0</td>\n      <td>0</td>\n      <td>0</td>\n      <td>1</td>\n      <td>0</td>\n      <td>0</td>\n    </tr>\n    <tr>\n      <th>4</th>\n      <td>0.0</td>\n      <td>0.0</td>\n      <td>0.0</td>\n      <td>0.0</td>\n      <td>0.0</td>\n      <td>0.0</td>\n      <td>0.0</td>\n      <td>0.0</td>\n      <td>0.0</td>\n      <td>0.0</td>\n      <td>...</td>\n      <td>0</td>\n      <td>1</td>\n      <td>0</td>\n      <td>0</td>\n      <td>0</td>\n      <td>1</td>\n      <td>0</td>\n      <td>0</td>\n      <td>0</td>\n      <td>0</td>\n    </tr>\n    <tr>\n      <th>5</th>\n      <td>0.0</td>\n      <td>0.0</td>\n      <td>0.0</td>\n      <td>0.0</td>\n      <td>0.0</td>\n      <td>0.0</td>\n      <td>0.0</td>\n      <td>0.0</td>\n      <td>0.0</td>\n      <td>0.0</td>\n      <td>...</td>\n      <td>0</td>\n      <td>1</td>\n      <td>0</td>\n      <td>0</td>\n      <td>0</td>\n      <td>1</td>\n      <td>0</td>\n      <td>0</td>\n      <td>0</td>\n      <td>0</td>\n    </tr>\n    <tr>\n      <th>6</th>\n      <td>0.0</td>\n      <td>0.0</td>\n      <td>0.0</td>\n      <td>0.0</td>\n      <td>1.0</td>\n      <td>1.0</td>\n      <td>0.0</td>\n      <td>0.0</td>\n      <td>0.0</td>\n      <td>0.0</td>\n      <td>...</td>\n      <td>0</td>\n      <td>1</td>\n      <td>0</td>\n      <td>0</td>\n      <td>0</td>\n      <td>0</td>\n      <td>0</td>\n      <td>0</td>\n      <td>0</td>\n      <td>0</td>\n    </tr>\n    <tr>\n      <th>7</th>\n      <td>0.0</td>\n      <td>0.0</td>\n      <td>0.0</td>\n      <td>0.0</td>\n      <td>0.0</td>\n      <td>1.0</td>\n      <td>0.0</td>\n      <td>0.0</td>\n      <td>0.0</td>\n      <td>1.0</td>\n      <td>...</td>\n      <td>0</td>\n      <td>1</td>\n      <td>0</td>\n      <td>0</td>\n      <td>0</td>\n      <td>1</td>\n      <td>0</td>\n      <td>0</td>\n      <td>0</td>\n      <td>0</td>\n    </tr>\n    <tr>\n      <th>8</th>\n      <td>0.0</td>\n      <td>0.0</td>\n      <td>0.0</td>\n      <td>0.0</td>\n      <td>0.0</td>\n      <td>1.0</td>\n      <td>0.0</td>\n      <td>0.0</td>\n      <td>0.0</td>\n      <td>0.0</td>\n      <td>...</td>\n      <td>0</td>\n      <td>1</td>\n      <td>0</td>\n      <td>0</td>\n      <td>0</td>\n      <td>1</td>\n      <td>0</td>\n      <td>0</td>\n      <td>1</td>\n      <td>0</td>\n    </tr>\n    <tr>\n      <th>9</th>\n      <td>0.0</td>\n      <td>0.0</td>\n      <td>0.0</td>\n      <td>0.0</td>\n      <td>0.0</td>\n      <td>0.0</td>\n      <td>0.0</td>\n      <td>0.0</td>\n      <td>0.0</td>\n      <td>0.0</td>\n      <td>...</td>\n      <td>0</td>\n      <td>1</td>\n      <td>0</td>\n      <td>0</td>\n      <td>0</td>\n      <td>1</td>\n      <td>0</td>\n      <td>0</td>\n      <td>0</td>\n      <td>0</td>\n    </tr>\n  </tbody>\n</table>\n<p>10 rows × 75 columns</p>\n</div>"
     },
     "metadata": {},
     "execution_count": 66
    }
   ],
   "source": [
    "df_5_knn_new[0:10]"
   ]
  },
  {
   "cell_type": "code",
   "execution_count": 67,
   "metadata": {},
   "outputs": [
    {
     "output_type": "stream",
     "name": "stdout",
     "text": "[09:29:42] WARNING: /Users/travis/build/dmlc/xgboost/src/learner.cc:1061: Starting in XGBoost 1.3.0, the default evaluation metric used with the objective 'binary:logistic' was changed from 'error' to 'logloss'. Explicitly set eval_metric if you'd like to restore the old behavior.\ntrain auc 0.6919664559683606\ntest auc 0.5817057830741308\nTime taken: 0:00:28.358269\n"
    }
   ],
   "source": [
    "compute_roc_auc(train_test_split, df_5_knn_new, target)"
   ]
  },
  {
   "cell_type": "markdown",
   "metadata": {},
   "source": [
    "## df_10: Select columns which have missing data <= 10% \n",
    "- Categorical variables: Simple impute\n",
    "- Numerical variables: Itertive impute"
   ],
   "execution_count": null,
   "outputs": []
  },
  {
   "cell_type": "code",
   "execution_count": null,
   "metadata": {},
   "outputs": [],
   "source": [
    "lower_limit = 5; upper_limit=10"
   ]
  },
  {
   "cell_type": "code",
   "execution_count": null,
   "metadata": {},
   "outputs": [],
   "source": [
    "df_ = df[missing_df[(missing_df['Missing Ratio']>=lower_limit) & (missing_df['Missing Ratio']<upper_limit)]['Feature']]\n",
    "df_10 = pd.concat([pd.DataFrame(df_5), df_], axis=1) # concatenate new table with existing table\n",
    "df_10 = df_10.select_dtypes(include=['int', 'float']) # exclude columns with string datatype, if any"
   ]
  },
  {
   "cell_type": "code",
   "execution_count": null,
   "metadata": {},
   "outputs": [],
   "source": [
    "print(type(df_10), df_10.shape, df_10.columns)"
   ]
  },
  {
   "cell_type": "code",
   "execution_count": null,
   "metadata": {},
   "outputs": [],
   "source": [
    "df_10, _ = imputeIterative(df_10, pd.DataFrame()) #iter_imp.fit_transform(df_new)\n",
    ""
   ]
  },
  {
   "cell_type": "code",
   "execution_count": null,
   "metadata": {},
   "outputs": [],
   "source": [
    "print(type(df_10))"
   ]
  },
  {
   "cell_type": "code",
   "execution_count": null,
   "metadata": {},
   "outputs": [],
   "source": [
    "df_10 = pd.DataFrame(df_10, columns=df_10.columns) # return table with column names intact"
   ]
  },
  {
   "cell_type": "code",
   "execution_count": null,
   "metadata": {},
   "outputs": [],
   "source": [
    "compute_roc_auc(train_test_split, df_10, target)\n",
    ""
   ]
  },
  {
   "cell_type": "code",
   "execution_count": null,
   "metadata": {
    "execution": {
     "iopub.execute_input": "2021-01-16T15:24:19.813974Z",
     "iopub.status.busy": "2021-01-16T15:24:19.812940Z",
     "iopub.status.idle": "2021-01-16T15:26:13.622946Z",
     "shell.execute_reply": "2021-01-16T15:26:13.623653Z"
    },
    "papermill": {
     "duration": 114.121844,
     "end_time": "2021-01-16T15:26:13.623868",
     "exception": false,
     "start_time": "2021-01-16T15:24:19.502024",
     "status": "completed"
    },
    "tags": []
   },
   "outputs": [],
   "source": [
    "test_pred = xgb.predict(test_df)\n",
    "test_pred"
   ]
  },
  {
   "cell_type": "markdown",
   "metadata": {
    "papermill": {
     "duration": 0.309212,
     "end_time": "2021-01-16T15:26:14.283751",
     "exception": false,
     "start_time": "2021-01-16T15:26:13.974539",
     "status": "completed"
    },
    "tags": []
   },
   "source": [
    "# Submission"
   ],
   "execution_count": null,
   "outputs": []
  },
  {
   "cell_type": "code",
   "execution_count": null,
   "metadata": {
    "execution": {
     "iopub.execute_input": "2021-01-16T15:26:14.902269Z",
     "iopub.status.busy": "2021-01-16T15:26:14.901591Z",
     "iopub.status.idle": "2021-01-16T15:26:15.199037Z",
     "shell.execute_reply": "2021-01-16T15:26:15.198450Z"
    },
    "papermill": {
     "duration": 0.611628,
     "end_time": "2021-01-16T15:26:15.199211",
     "exception": false,
     "start_time": "2021-01-16T15:26:14.587583",
     "status": "completed"
    },
    "tags": []
   },
   "outputs": [],
   "source": [
    "my_submission = pd.DataFrame()\n",
    "my_submission['encounter_id'] = test_ids\n",
    "my_submission['diabetes_mellitus'] = test_pred\n",
    "my_submission.to_csv('My_submission.csv', index=False)"
   ]
  },
  {
   "cell_type": "markdown",
   "metadata": {
    "papermill": {
     "duration": 0.304772,
     "end_time": "2021-01-16T15:26:15.808970",
     "exception": false,
     "start_time": "2021-01-16T15:26:15.504198",
     "status": "completed"
    },
    "tags": []
   },
   "source": [
    "First submission yielded auc score of 0.7048 on Kaggle Public Leaderbard which is quite close to the auc score on my internal test set."
   ],
   "execution_count": null,
   "outputs": []
  }
 ],
 "metadata": {
  "kernelspec": {
   "display_name": "Python 3.9.1 64-bit ('venv': venv)",
   "language": "python",
   "name": "python39164bitvenvvenv42d9530a45f24e7fb408333c496c5650"
  },
  "language_info": {
   "codemirror_mode": {
    "name": "ipython",
    "version": 3
   },
   "file_extension": ".py",
   "mimetype": "text/x-python",
   "name": "python",
   "nbconvert_exporter": "python",
   "pygments_lexer": "ipython3",
   "version": "3.9.1-final"
  },
  "papermill": {
   "duration": 2620.655416,
   "end_time": "2021-01-16T15:26:16.228359",
   "environment_variables": {},
   "exception": null,
   "input_path": "__notebook__.ipynb",
   "output_path": "__notebook__.ipynb",
   "parameters": {},
   "start_time": "2021-01-16T14:42:35.572943",
   "version": "2.1.0"
  },
  "widgets": {
   "application/vnd.jupyter.widget-state+json": {
    "state": {
     "00f30afa18fb45d589140b4876124a25": {
      "model_module": "@jupyter-widgets/controls",
      "model_module_version": "1.5.0",
      "model_name": "HTMLModel",
      "state": {
       "_dom_classes": [],
       "_model_module": "@jupyter-widgets/controls",
       "_model_module_version": "1.5.0",
       "_model_name": "HTMLModel",
       "_view_count": null,
       "_view_module": "@jupyter-widgets/controls",
       "_view_module_version": "1.5.0",
       "_view_name": "HTMLView",
       "description": "",
       "description_tooltip": null,
       "layout": "IPY_MODEL_6dbbfc66a1db4f988de72bf41b1220fc",
       "placeholder": "​",
       "style": "IPY_MODEL_e8e8de6d5e9043a3a0ad1d448b943434",
       "value": " 3/3 [00:00&lt;00:00, 14.67it/s]"
      }
     },
     "042ac27372394aadb7ace5cc94c1e03a": {
      "model_module": "@jupyter-widgets/controls",
      "model_module_version": "1.5.0",
      "model_name": "HBoxModel",
      "state": {
       "_dom_classes": [],
       "_model_module": "@jupyter-widgets/controls",
       "_model_module_version": "1.5.0",
       "_model_name": "HBoxModel",
       "_view_count": null,
       "_view_module": "@jupyter-widgets/controls",
       "_view_module_version": "1.5.0",
       "_view_name": "HBoxView",
       "box_style": "",
       "children": [
        "IPY_MODEL_2f9a4a75f17048bdb574a3e800bf5eb6",
        "IPY_MODEL_96047745b2e24d2ba2164debe6e3fc64"
       ],
       "layout": "IPY_MODEL_70394cb0b3294b3497c1a4070aeb52af"
      }
     },
     "077ffa51a80d4cbca2cd21fd41c7d139": {
      "model_module": "@jupyter-widgets/controls",
      "model_module_version": "1.5.0",
      "model_name": "ProgressStyleModel",
      "state": {
       "_model_module": "@jupyter-widgets/controls",
       "_model_module_version": "1.5.0",
       "_model_name": "ProgressStyleModel",
       "_view_count": null,
       "_view_module": "@jupyter-widgets/base",
       "_view_module_version": "1.2.0",
       "_view_name": "StyleView",
       "bar_color": null,
       "description_width": "initial"
      }
     },
     "10843b467ce5410aa255d06b83191e42": {
      "model_module": "@jupyter-widgets/base",
      "model_module_version": "1.2.0",
      "model_name": "LayoutModel",
      "state": {
       "_model_module": "@jupyter-widgets/base",
       "_model_module_version": "1.2.0",
       "_model_name": "LayoutModel",
       "_view_count": null,
       "_view_module": "@jupyter-widgets/base",
       "_view_module_version": "1.2.0",
       "_view_name": "LayoutView",
       "align_content": null,
       "align_items": null,
       "align_self": null,
       "border": null,
       "bottom": null,
       "display": null,
       "flex": null,
       "flex_flow": null,
       "grid_area": null,
       "grid_auto_columns": null,
       "grid_auto_flow": null,
       "grid_auto_rows": null,
       "grid_column": null,
       "grid_gap": null,
       "grid_row": null,
       "grid_template_areas": null,
       "grid_template_columns": null,
       "grid_template_rows": null,
       "height": null,
       "justify_content": null,
       "justify_items": null,
       "left": null,
       "margin": null,
       "max_height": null,
       "max_width": null,
       "min_height": null,
       "min_width": null,
       "object_fit": null,
       "object_position": null,
       "order": null,
       "overflow": null,
       "overflow_x": null,
       "overflow_y": null,
       "padding": null,
       "right": null,
       "top": null,
       "visibility": null,
       "width": null
      }
     },
     "1516e36f7a334500b8f454c013ee21a7": {
      "model_module": "@jupyter-widgets/controls",
      "model_module_version": "1.5.0",
      "model_name": "FloatProgressModel",
      "state": {
       "_dom_classes": [],
       "_model_module": "@jupyter-widgets/controls",
       "_model_module_version": "1.5.0",
       "_model_name": "FloatProgressModel",
       "_view_count": null,
       "_view_module": "@jupyter-widgets/controls",
       "_view_module_version": "1.5.0",
       "_view_name": "ProgressView",
       "bar_style": "success",
       "description": "warnings [correlations]: 100%",
       "description_tooltip": null,
       "layout": "IPY_MODEL_a7298a1aac8e427a96164392ab52d7bd",
       "max": 3,
       "min": 0,
       "orientation": "horizontal",
       "style": "IPY_MODEL_18c099e993bd4964bf87bceb793ab0b1",
       "value": 3
      }
     },
     "18c099e993bd4964bf87bceb793ab0b1": {
      "model_module": "@jupyter-widgets/controls",
      "model_module_version": "1.5.0",
      "model_name": "ProgressStyleModel",
      "state": {
       "_model_module": "@jupyter-widgets/controls",
       "_model_module_version": "1.5.0",
       "_model_name": "ProgressStyleModel",
       "_view_count": null,
       "_view_module": "@jupyter-widgets/base",
       "_view_module_version": "1.2.0",
       "_view_name": "StyleView",
       "bar_color": null,
       "description_width": "initial"
      }
     },
     "20778f0d62474f10a6c91376ccaeb048": {
      "model_module": "@jupyter-widgets/controls",
      "model_module_version": "1.5.0",
      "model_name": "HBoxModel",
      "state": {
       "_dom_classes": [],
       "_model_module": "@jupyter-widgets/controls",
       "_model_module_version": "1.5.0",
       "_model_name": "HBoxModel",
       "_view_count": null,
       "_view_module": "@jupyter-widgets/controls",
       "_view_module_version": "1.5.0",
       "_view_name": "HBoxView",
       "box_style": "",
       "children": [
        "IPY_MODEL_1516e36f7a334500b8f454c013ee21a7",
        "IPY_MODEL_00f30afa18fb45d589140b4876124a25"
       ],
       "layout": "IPY_MODEL_ac90f4172071466b911e21735e904daf"
      }
     },
     "212f2995bd6d47878ebeed35a0aa85b1": {
      "model_module": "@jupyter-widgets/controls",
      "model_module_version": "1.5.0",
      "model_name": "HTMLModel",
      "state": {
       "_dom_classes": [],
       "_model_module": "@jupyter-widgets/controls",
       "_model_module_version": "1.5.0",
       "_model_name": "HTMLModel",
       "_view_count": null,
       "_view_module": "@jupyter-widgets/controls",
       "_view_module_version": "1.5.0",
       "_view_name": "HTMLView",
       "description": "",
       "description_tooltip": null,
       "layout": "IPY_MODEL_e8cccc0d36e049e78f551d8c90d9af94",
       "placeholder": "​",
       "style": "IPY_MODEL_836874800e934f41a4e55a85527a0107",
       "value": " 181/181 [00:22&lt;00:00,  7.94it/s]"
      }
     },
     "2efb2f1f6eab47a8b1fb830941b3e7bb": {
      "model_module": "@jupyter-widgets/controls",
      "model_module_version": "1.5.0",
      "model_name": "ProgressStyleModel",
      "state": {
       "_model_module": "@jupyter-widgets/controls",
       "_model_module_version": "1.5.0",
       "_model_name": "ProgressStyleModel",
       "_view_count": null,
       "_view_module": "@jupyter-widgets/base",
       "_view_module_version": "1.2.0",
       "_view_name": "StyleView",
       "bar_color": null,
       "description_width": "initial"
      }
     },
     "2f9a4a75f17048bdb574a3e800bf5eb6": {
      "model_module": "@jupyter-widgets/controls",
      "model_module_version": "1.5.0",
      "model_name": "FloatProgressModel",
      "state": {
       "_dom_classes": [],
       "_model_module": "@jupyter-widgets/controls",
       "_model_module_version": "1.5.0",
       "_model_name": "FloatProgressModel",
       "_view_count": null,
       "_view_module": "@jupyter-widgets/controls",
       "_view_module_version": "1.5.0",
       "_view_name": "ProgressView",
       "bar_style": "success",
       "description": "build report structure: 100%",
       "description_tooltip": null,
       "layout": "IPY_MODEL_7912733675744438a647490c9773f083",
       "max": 1,
       "min": 0,
       "orientation": "horizontal",
       "style": "IPY_MODEL_e9427d4a76c3449789e68c776476a261",
       "value": 1
      }
     },
     "3d8913b34836491689f0cd62517fad73": {
      "model_module": "@jupyter-widgets/base",
      "model_module_version": "1.2.0",
      "model_name": "LayoutModel",
      "state": {
       "_model_module": "@jupyter-widgets/base",
       "_model_module_version": "1.2.0",
       "_model_name": "LayoutModel",
       "_view_count": null,
       "_view_module": "@jupyter-widgets/base",
       "_view_module_version": "1.2.0",
       "_view_name": "LayoutView",
       "align_content": null,
       "align_items": null,
       "align_self": null,
       "border": null,
       "bottom": null,
       "display": null,
       "flex": null,
       "flex_flow": null,
       "grid_area": null,
       "grid_auto_columns": null,
       "grid_auto_flow": null,
       "grid_auto_rows": null,
       "grid_column": null,
       "grid_gap": null,
       "grid_row": null,
       "grid_template_areas": null,
       "grid_template_columns": null,
       "grid_template_rows": null,
       "height": null,
       "justify_content": null,
       "justify_items": null,
       "left": null,
       "margin": null,
       "max_height": null,
       "max_width": null,
       "min_height": null,
       "min_width": null,
       "object_fit": null,
       "object_position": null,
       "order": null,
       "overflow": null,
       "overflow_x": null,
       "overflow_y": null,
       "padding": null,
       "right": null,
       "top": null,
       "visibility": null,
       "width": null
      }
     },
     "40e1adf81e9a43edad37748205be047f": {
      "model_module": "@jupyter-widgets/controls",
      "model_module_version": "1.5.0",
      "model_name": "HTMLModel",
      "state": {
       "_dom_classes": [],
       "_model_module": "@jupyter-widgets/controls",
       "_model_module_version": "1.5.0",
       "_model_name": "HTMLModel",
       "_view_count": null,
       "_view_module": "@jupyter-widgets/controls",
       "_view_module_version": "1.5.0",
       "_view_name": "HTMLView",
       "description": "",
       "description_tooltip": null,
       "layout": "IPY_MODEL_3d8913b34836491689f0cd62517fad73",
       "placeholder": "​",
       "style": "IPY_MODEL_907d02392e0146b686d3486295c00321",
       "value": " 1/1 [00:00&lt;00:00,  6.47it/s]"
      }
     },
     "4b4f8250710d4e9db0f30c41e8c8b904": {
      "model_module": "@jupyter-widgets/base",
      "model_module_version": "1.2.0",
      "model_name": "LayoutModel",
      "state": {
       "_model_module": "@jupyter-widgets/base",
       "_model_module_version": "1.2.0",
       "_model_name": "LayoutModel",
       "_view_count": null,
       "_view_module": "@jupyter-widgets/base",
       "_view_module_version": "1.2.0",
       "_view_name": "LayoutView",
       "align_content": null,
       "align_items": null,
       "align_self": null,
       "border": null,
       "bottom": null,
       "display": null,
       "flex": null,
       "flex_flow": null,
       "grid_area": null,
       "grid_auto_columns": null,
       "grid_auto_flow": null,
       "grid_auto_rows": null,
       "grid_column": null,
       "grid_gap": null,
       "grid_row": null,
       "grid_template_areas": null,
       "grid_template_columns": null,
       "grid_template_rows": null,
       "height": null,
       "justify_content": null,
       "justify_items": null,
       "left": null,
       "margin": null,
       "max_height": null,
       "max_width": null,
       "min_height": null,
       "min_width": null,
       "object_fit": null,
       "object_position": null,
       "order": null,
       "overflow": null,
       "overflow_x": null,
       "overflow_y": null,
       "padding": null,
       "right": null,
       "top": null,
       "visibility": null,
       "width": null
      }
     },
     "64efd28cdf214fbea15438f40485504b": {
      "model_module": "@jupyter-widgets/base",
      "model_module_version": "1.2.0",
      "model_name": "LayoutModel",
      "state": {
       "_model_module": "@jupyter-widgets/base",
       "_model_module_version": "1.2.0",
       "_model_name": "LayoutModel",
       "_view_count": null,
       "_view_module": "@jupyter-widgets/base",
       "_view_module_version": "1.2.0",
       "_view_name": "LayoutView",
       "align_content": null,
       "align_items": null,
       "align_self": null,
       "border": null,
       "bottom": null,
       "display": null,
       "flex": null,
       "flex_flow": null,
       "grid_area": null,
       "grid_auto_columns": null,
       "grid_auto_flow": null,
       "grid_auto_rows": null,
       "grid_column": null,
       "grid_gap": null,
       "grid_row": null,
       "grid_template_areas": null,
       "grid_template_columns": null,
       "grid_template_rows": null,
       "height": null,
       "justify_content": null,
       "justify_items": null,
       "left": null,
       "margin": null,
       "max_height": null,
       "max_width": null,
       "min_height": null,
       "min_width": null,
       "object_fit": null,
       "object_position": null,
       "order": null,
       "overflow": null,
       "overflow_x": null,
       "overflow_y": null,
       "padding": null,
       "right": null,
       "top": null,
       "visibility": null,
       "width": null
      }
     },
     "6dbbfc66a1db4f988de72bf41b1220fc": {
      "model_module": "@jupyter-widgets/base",
      "model_module_version": "1.2.0",
      "model_name": "LayoutModel",
      "state": {
       "_model_module": "@jupyter-widgets/base",
       "_model_module_version": "1.2.0",
       "_model_name": "LayoutModel",
       "_view_count": null,
       "_view_module": "@jupyter-widgets/base",
       "_view_module_version": "1.2.0",
       "_view_name": "LayoutView",
       "align_content": null,
       "align_items": null,
       "align_self": null,
       "border": null,
       "bottom": null,
       "display": null,
       "flex": null,
       "flex_flow": null,
       "grid_area": null,
       "grid_auto_columns": null,
       "grid_auto_flow": null,
       "grid_auto_rows": null,
       "grid_column": null,
       "grid_gap": null,
       "grid_row": null,
       "grid_template_areas": null,
       "grid_template_columns": null,
       "grid_template_rows": null,
       "height": null,
       "justify_content": null,
       "justify_items": null,
       "left": null,
       "margin": null,
       "max_height": null,
       "max_width": null,
       "min_height": null,
       "min_width": null,
       "object_fit": null,
       "object_position": null,
       "order": null,
       "overflow": null,
       "overflow_x": null,
       "overflow_y": null,
       "padding": null,
       "right": null,
       "top": null,
       "visibility": null,
       "width": null
      }
     },
     "70394cb0b3294b3497c1a4070aeb52af": {
      "model_module": "@jupyter-widgets/base",
      "model_module_version": "1.2.0",
      "model_name": "LayoutModel",
      "state": {
       "_model_module": "@jupyter-widgets/base",
       "_model_module_version": "1.2.0",
       "_model_name": "LayoutModel",
       "_view_count": null,
       "_view_module": "@jupyter-widgets/base",
       "_view_module_version": "1.2.0",
       "_view_name": "LayoutView",
       "align_content": null,
       "align_items": null,
       "align_self": null,
       "border": null,
       "bottom": null,
       "display": null,
       "flex": null,
       "flex_flow": null,
       "grid_area": null,
       "grid_auto_columns": null,
       "grid_auto_flow": null,
       "grid_auto_rows": null,
       "grid_column": null,
       "grid_gap": null,
       "grid_row": null,
       "grid_template_areas": null,
       "grid_template_columns": null,
       "grid_template_rows": null,
       "height": null,
       "justify_content": null,
       "justify_items": null,
       "left": null,
       "margin": null,
       "max_height": null,
       "max_width": null,
       "min_height": null,
       "min_width": null,
       "object_fit": null,
       "object_position": null,
       "order": null,
       "overflow": null,
       "overflow_x": null,
       "overflow_y": null,
       "padding": null,
       "right": null,
       "top": null,
       "visibility": null,
       "width": null
      }
     },
     "74ec23b5a3ad4a4a9015bc3466a3258b": {
      "model_module": "@jupyter-widgets/base",
      "model_module_version": "1.2.0",
      "model_name": "LayoutModel",
      "state": {
       "_model_module": "@jupyter-widgets/base",
       "_model_module_version": "1.2.0",
       "_model_name": "LayoutModel",
       "_view_count": null,
       "_view_module": "@jupyter-widgets/base",
       "_view_module_version": "1.2.0",
       "_view_name": "LayoutView",
       "align_content": null,
       "align_items": null,
       "align_self": null,
       "border": null,
       "bottom": null,
       "display": null,
       "flex": null,
       "flex_flow": null,
       "grid_area": null,
       "grid_auto_columns": null,
       "grid_auto_flow": null,
       "grid_auto_rows": null,
       "grid_column": null,
       "grid_gap": null,
       "grid_row": null,
       "grid_template_areas": null,
       "grid_template_columns": null,
       "grid_template_rows": null,
       "height": null,
       "justify_content": null,
       "justify_items": null,
       "left": null,
       "margin": null,
       "max_height": null,
       "max_width": null,
       "min_height": null,
       "min_width": null,
       "object_fit": null,
       "object_position": null,
       "order": null,
       "overflow": null,
       "overflow_x": null,
       "overflow_y": null,
       "padding": null,
       "right": null,
       "top": null,
       "visibility": null,
       "width": null
      }
     },
     "7912733675744438a647490c9773f083": {
      "model_module": "@jupyter-widgets/base",
      "model_module_version": "1.2.0",
      "model_name": "LayoutModel",
      "state": {
       "_model_module": "@jupyter-widgets/base",
       "_model_module_version": "1.2.0",
       "_model_name": "LayoutModel",
       "_view_count": null,
       "_view_module": "@jupyter-widgets/base",
       "_view_module_version": "1.2.0",
       "_view_name": "LayoutView",
       "align_content": null,
       "align_items": null,
       "align_self": null,
       "border": null,
       "bottom": null,
       "display": null,
       "flex": null,
       "flex_flow": null,
       "grid_area": null,
       "grid_auto_columns": null,
       "grid_auto_flow": null,
       "grid_auto_rows": null,
       "grid_column": null,
       "grid_gap": null,
       "grid_row": null,
       "grid_template_areas": null,
       "grid_template_columns": null,
       "grid_template_rows": null,
       "height": null,
       "justify_content": null,
       "justify_items": null,
       "left": null,
       "margin": null,
       "max_height": null,
       "max_width": null,
       "min_height": null,
       "min_width": null,
       "object_fit": null,
       "object_position": null,
       "order": null,
       "overflow": null,
       "overflow_x": null,
       "overflow_y": null,
       "padding": null,
       "right": null,
       "top": null,
       "visibility": null,
       "width": null
      }
     },
     "7f1b1b039d3e44bbae17d20eef597b50": {
      "model_module": "@jupyter-widgets/controls",
      "model_module_version": "1.5.0",
      "model_name": "FloatProgressModel",
      "state": {
       "_dom_classes": [],
       "_model_module": "@jupyter-widgets/controls",
       "_model_module_version": "1.5.0",
       "_model_name": "FloatProgressModel",
       "_view_count": null,
       "_view_module": "@jupyter-widgets/controls",
       "_view_module_version": "1.5.0",
       "_view_name": "ProgressView",
       "bar_style": "success",
       "description": "package: 100%",
       "description_tooltip": null,
       "layout": "IPY_MODEL_c5d3be2c64ab4f3cbc718f9b304dd6bb",
       "max": 1,
       "min": 0,
       "orientation": "horizontal",
       "style": "IPY_MODEL_2efb2f1f6eab47a8b1fb830941b3e7bb",
       "value": 1
      }
     },
     "836874800e934f41a4e55a85527a0107": {
      "model_module": "@jupyter-widgets/controls",
      "model_module_version": "1.5.0",
      "model_name": "DescriptionStyleModel",
      "state": {
       "_model_module": "@jupyter-widgets/controls",
       "_model_module_version": "1.5.0",
       "_model_name": "DescriptionStyleModel",
       "_view_count": null,
       "_view_module": "@jupyter-widgets/base",
       "_view_module_version": "1.2.0",
       "_view_name": "StyleView",
       "description_width": ""
      }
     },
     "87bb128ff6ff46048695805810f25b4e": {
      "model_module": "@jupyter-widgets/controls",
      "model_module_version": "1.5.0",
      "model_name": "DescriptionStyleModel",
      "state": {
       "_model_module": "@jupyter-widgets/controls",
       "_model_module_version": "1.5.0",
       "_model_name": "DescriptionStyleModel",
       "_view_count": null,
       "_view_module": "@jupyter-widgets/base",
       "_view_module_version": "1.2.0",
       "_view_name": "StyleView",
       "description_width": ""
      }
     },
     "907d02392e0146b686d3486295c00321": {
      "model_module": "@jupyter-widgets/controls",
      "model_module_version": "1.5.0",
      "model_name": "DescriptionStyleModel",
      "state": {
       "_model_module": "@jupyter-widgets/controls",
       "_model_module_version": "1.5.0",
       "_model_name": "DescriptionStyleModel",
       "_view_count": null,
       "_view_module": "@jupyter-widgets/base",
       "_view_module_version": "1.2.0",
       "_view_name": "StyleView",
       "description_width": ""
      }
     },
     "96047745b2e24d2ba2164debe6e3fc64": {
      "model_module": "@jupyter-widgets/controls",
      "model_module_version": "1.5.0",
      "model_name": "HTMLModel",
      "state": {
       "_dom_classes": [],
       "_model_module": "@jupyter-widgets/controls",
       "_model_module_version": "1.5.0",
       "_model_name": "HTMLModel",
       "_view_count": null,
       "_view_module": "@jupyter-widgets/controls",
       "_view_module_version": "1.5.0",
       "_view_name": "HTMLView",
       "description": "",
       "description_tooltip": null,
       "layout": "IPY_MODEL_4b4f8250710d4e9db0f30c41e8c8b904",
       "placeholder": "​",
       "style": "IPY_MODEL_c9969a9c6e4a441faf201b12a1dc2e44",
       "value": " 1/1 [01:03&lt;00:00, 63.26s/it]"
      }
     },
     "99350c70d4b547af8fbcca95a85646f8": {
      "model_module": "@jupyter-widgets/controls",
      "model_module_version": "1.5.0",
      "model_name": "FloatProgressModel",
      "state": {
       "_dom_classes": [],
       "_model_module": "@jupyter-widgets/controls",
       "_model_module_version": "1.5.0",
       "_model_name": "FloatProgressModel",
       "_view_count": null,
       "_view_module": "@jupyter-widgets/controls",
       "_view_module_version": "1.5.0",
       "_view_name": "ProgressView",
       "bar_style": "success",
       "description": "table: 100%",
       "description_tooltip": null,
       "layout": "IPY_MODEL_f176197151ee448aacec0620a0504063",
       "max": 1,
       "min": 0,
       "orientation": "horizontal",
       "style": "IPY_MODEL_077ffa51a80d4cbca2cd21fd41c7d139",
       "value": 1
      }
     },
     "a7298a1aac8e427a96164392ab52d7bd": {
      "model_module": "@jupyter-widgets/base",
      "model_module_version": "1.2.0",
      "model_name": "LayoutModel",
      "state": {
       "_model_module": "@jupyter-widgets/base",
       "_model_module_version": "1.2.0",
       "_model_name": "LayoutModel",
       "_view_count": null,
       "_view_module": "@jupyter-widgets/base",
       "_view_module_version": "1.2.0",
       "_view_name": "LayoutView",
       "align_content": null,
       "align_items": null,
       "align_self": null,
       "border": null,
       "bottom": null,
       "display": null,
       "flex": null,
       "flex_flow": null,
       "grid_area": null,
       "grid_auto_columns": null,
       "grid_auto_flow": null,
       "grid_auto_rows": null,
       "grid_column": null,
       "grid_gap": null,
       "grid_row": null,
       "grid_template_areas": null,
       "grid_template_columns": null,
       "grid_template_rows": null,
       "height": null,
       "justify_content": null,
       "justify_items": null,
       "left": null,
       "margin": null,
       "max_height": null,
       "max_width": null,
       "min_height": null,
       "min_width": null,
       "object_fit": null,
       "object_position": null,
       "order": null,
       "overflow": null,
       "overflow_x": null,
       "overflow_y": null,
       "padding": null,
       "right": null,
       "top": null,
       "visibility": null,
       "width": null
      }
     },
     "a881dedf8042477293af5dd296709544": {
      "model_module": "@jupyter-widgets/controls",
      "model_module_version": "1.5.0",
      "model_name": "HBoxModel",
      "state": {
       "_dom_classes": [],
       "_model_module": "@jupyter-widgets/controls",
       "_model_module_version": "1.5.0",
       "_model_name": "HBoxModel",
       "_view_count": null,
       "_view_module": "@jupyter-widgets/controls",
       "_view_module_version": "1.5.0",
       "_view_name": "HBoxView",
       "box_style": "",
       "children": [
        "IPY_MODEL_99350c70d4b547af8fbcca95a85646f8",
        "IPY_MODEL_c42b22fb29a6471eb1f4b1c3175989d4"
       ],
       "layout": "IPY_MODEL_64efd28cdf214fbea15438f40485504b"
      }
     },
     "aabd3934fcdb4dea948b3628a10adcd7": {
      "model_module": "@jupyter-widgets/controls",
      "model_module_version": "1.5.0",
      "model_name": "FloatProgressModel",
      "state": {
       "_dom_classes": [],
       "_model_module": "@jupyter-widgets/controls",
       "_model_module_version": "1.5.0",
       "_model_name": "FloatProgressModel",
       "_view_count": null,
       "_view_module": "@jupyter-widgets/controls",
       "_view_module_version": "1.5.0",
       "_view_name": "ProgressView",
       "bar_style": "success",
       "description": "variables: 100%",
       "description_tooltip": null,
       "layout": "IPY_MODEL_ee0afbe24194408bb073f15828a5e652",
       "max": 181,
       "min": 0,
       "orientation": "horizontal",
       "style": "IPY_MODEL_dba7b3381623470fb17e7ef7ebbe1a44",
       "value": 181
      }
     },
     "ac90f4172071466b911e21735e904daf": {
      "model_module": "@jupyter-widgets/base",
      "model_module_version": "1.2.0",
      "model_name": "LayoutModel",
      "state": {
       "_model_module": "@jupyter-widgets/base",
       "_model_module_version": "1.2.0",
       "_model_name": "LayoutModel",
       "_view_count": null,
       "_view_module": "@jupyter-widgets/base",
       "_view_module_version": "1.2.0",
       "_view_name": "LayoutView",
       "align_content": null,
       "align_items": null,
       "align_self": null,
       "border": null,
       "bottom": null,
       "display": null,
       "flex": null,
       "flex_flow": null,
       "grid_area": null,
       "grid_auto_columns": null,
       "grid_auto_flow": null,
       "grid_auto_rows": null,
       "grid_column": null,
       "grid_gap": null,
       "grid_row": null,
       "grid_template_areas": null,
       "grid_template_columns": null,
       "grid_template_rows": null,
       "height": null,
       "justify_content": null,
       "justify_items": null,
       "left": null,
       "margin": null,
       "max_height": null,
       "max_width": null,
       "min_height": null,
       "min_width": null,
       "object_fit": null,
       "object_position": null,
       "order": null,
       "overflow": null,
       "overflow_x": null,
       "overflow_y": null,
       "padding": null,
       "right": null,
       "top": null,
       "visibility": null,
       "width": null
      }
     },
     "b5acde7d3de4404a915a74614242ba89": {
      "model_module": "@jupyter-widgets/controls",
      "model_module_version": "1.5.0",
      "model_name": "HBoxModel",
      "state": {
       "_dom_classes": [],
       "_model_module": "@jupyter-widgets/controls",
       "_model_module_version": "1.5.0",
       "_model_name": "HBoxModel",
       "_view_count": null,
       "_view_module": "@jupyter-widgets/controls",
       "_view_module_version": "1.5.0",
       "_view_name": "HBoxView",
       "box_style": "",
       "children": [
        "IPY_MODEL_aabd3934fcdb4dea948b3628a10adcd7",
        "IPY_MODEL_212f2995bd6d47878ebeed35a0aa85b1"
       ],
       "layout": "IPY_MODEL_10843b467ce5410aa255d06b83191e42"
      }
     },
     "c42b22fb29a6471eb1f4b1c3175989d4": {
      "model_module": "@jupyter-widgets/controls",
      "model_module_version": "1.5.0",
      "model_name": "HTMLModel",
      "state": {
       "_dom_classes": [],
       "_model_module": "@jupyter-widgets/controls",
       "_model_module_version": "1.5.0",
       "_model_name": "HTMLModel",
       "_view_count": null,
       "_view_module": "@jupyter-widgets/controls",
       "_view_module_version": "1.5.0",
       "_view_name": "HTMLView",
       "description": "",
       "description_tooltip": null,
       "layout": "IPY_MODEL_74ec23b5a3ad4a4a9015bc3466a3258b",
       "placeholder": "​",
       "style": "IPY_MODEL_87bb128ff6ff46048695805810f25b4e",
       "value": " 1/1 [00:01&lt;00:00,  1.36s/it]"
      }
     },
     "c5d3be2c64ab4f3cbc718f9b304dd6bb": {
      "model_module": "@jupyter-widgets/base",
      "model_module_version": "1.2.0",
      "model_name": "LayoutModel",
      "state": {
       "_model_module": "@jupyter-widgets/base",
       "_model_module_version": "1.2.0",
       "_model_name": "LayoutModel",
       "_view_count": null,
       "_view_module": "@jupyter-widgets/base",
       "_view_module_version": "1.2.0",
       "_view_name": "LayoutView",
       "align_content": null,
       "align_items": null,
       "align_self": null,
       "border": null,
       "bottom": null,
       "display": null,
       "flex": null,
       "flex_flow": null,
       "grid_area": null,
       "grid_auto_columns": null,
       "grid_auto_flow": null,
       "grid_auto_rows": null,
       "grid_column": null,
       "grid_gap": null,
       "grid_row": null,
       "grid_template_areas": null,
       "grid_template_columns": null,
       "grid_template_rows": null,
       "height": null,
       "justify_content": null,
       "justify_items": null,
       "left": null,
       "margin": null,
       "max_height": null,
       "max_width": null,
       "min_height": null,
       "min_width": null,
       "object_fit": null,
       "object_position": null,
       "order": null,
       "overflow": null,
       "overflow_x": null,
       "overflow_y": null,
       "padding": null,
       "right": null,
       "top": null,
       "visibility": null,
       "width": null
      }
     },
     "c81bb1849a884e3fa11c44e318d0e5e2": {
      "model_module": "@jupyter-widgets/controls",
      "model_module_version": "1.5.0",
      "model_name": "HBoxModel",
      "state": {
       "_dom_classes": [],
       "_model_module": "@jupyter-widgets/controls",
       "_model_module_version": "1.5.0",
       "_model_name": "HBoxModel",
       "_view_count": null,
       "_view_module": "@jupyter-widgets/controls",
       "_view_module_version": "1.5.0",
       "_view_name": "HBoxView",
       "box_style": "",
       "children": [
        "IPY_MODEL_7f1b1b039d3e44bbae17d20eef597b50",
        "IPY_MODEL_40e1adf81e9a43edad37748205be047f"
       ],
       "layout": "IPY_MODEL_fb3bd1358e49469f9359768e923b4425"
      }
     },
     "c9969a9c6e4a441faf201b12a1dc2e44": {
      "model_module": "@jupyter-widgets/controls",
      "model_module_version": "1.5.0",
      "model_name": "DescriptionStyleModel",
      "state": {
       "_model_module": "@jupyter-widgets/controls",
       "_model_module_version": "1.5.0",
       "_model_name": "DescriptionStyleModel",
       "_view_count": null,
       "_view_module": "@jupyter-widgets/base",
       "_view_module_version": "1.2.0",
       "_view_name": "StyleView",
       "description_width": ""
      }
     },
     "dba7b3381623470fb17e7ef7ebbe1a44": {
      "model_module": "@jupyter-widgets/controls",
      "model_module_version": "1.5.0",
      "model_name": "ProgressStyleModel",
      "state": {
       "_model_module": "@jupyter-widgets/controls",
       "_model_module_version": "1.5.0",
       "_model_name": "ProgressStyleModel",
       "_view_count": null,
       "_view_module": "@jupyter-widgets/base",
       "_view_module_version": "1.2.0",
       "_view_name": "StyleView",
       "bar_color": null,
       "description_width": "initial"
      }
     },
     "e8cccc0d36e049e78f551d8c90d9af94": {
      "model_module": "@jupyter-widgets/base",
      "model_module_version": "1.2.0",
      "model_name": "LayoutModel",
      "state": {
       "_model_module": "@jupyter-widgets/base",
       "_model_module_version": "1.2.0",
       "_model_name": "LayoutModel",
       "_view_count": null,
       "_view_module": "@jupyter-widgets/base",
       "_view_module_version": "1.2.0",
       "_view_name": "LayoutView",
       "align_content": null,
       "align_items": null,
       "align_self": null,
       "border": null,
       "bottom": null,
       "display": null,
       "flex": null,
       "flex_flow": null,
       "grid_area": null,
       "grid_auto_columns": null,
       "grid_auto_flow": null,
       "grid_auto_rows": null,
       "grid_column": null,
       "grid_gap": null,
       "grid_row": null,
       "grid_template_areas": null,
       "grid_template_columns": null,
       "grid_template_rows": null,
       "height": null,
       "justify_content": null,
       "justify_items": null,
       "left": null,
       "margin": null,
       "max_height": null,
       "max_width": null,
       "min_height": null,
       "min_width": null,
       "object_fit": null,
       "object_position": null,
       "order": null,
       "overflow": null,
       "overflow_x": null,
       "overflow_y": null,
       "padding": null,
       "right": null,
       "top": null,
       "visibility": null,
       "width": null
      }
     },
     "e8e8de6d5e9043a3a0ad1d448b943434": {
      "model_module": "@jupyter-widgets/controls",
      "model_module_version": "1.5.0",
      "model_name": "DescriptionStyleModel",
      "state": {
       "_model_module": "@jupyter-widgets/controls",
       "_model_module_version": "1.5.0",
       "_model_name": "DescriptionStyleModel",
       "_view_count": null,
       "_view_module": "@jupyter-widgets/base",
       "_view_module_version": "1.2.0",
       "_view_name": "StyleView",
       "description_width": ""
      }
     },
     "e9427d4a76c3449789e68c776476a261": {
      "model_module": "@jupyter-widgets/controls",
      "model_module_version": "1.5.0",
      "model_name": "ProgressStyleModel",
      "state": {
       "_model_module": "@jupyter-widgets/controls",
       "_model_module_version": "1.5.0",
       "_model_name": "ProgressStyleModel",
       "_view_count": null,
       "_view_module": "@jupyter-widgets/base",
       "_view_module_version": "1.2.0",
       "_view_name": "StyleView",
       "bar_color": null,
       "description_width": "initial"
      }
     },
     "ee0afbe24194408bb073f15828a5e652": {
      "model_module": "@jupyter-widgets/base",
      "model_module_version": "1.2.0",
      "model_name": "LayoutModel",
      "state": {
       "_model_module": "@jupyter-widgets/base",
       "_model_module_version": "1.2.0",
       "_model_name": "LayoutModel",
       "_view_count": null,
       "_view_module": "@jupyter-widgets/base",
       "_view_module_version": "1.2.0",
       "_view_name": "LayoutView",
       "align_content": null,
       "align_items": null,
       "align_self": null,
       "border": null,
       "bottom": null,
       "display": null,
       "flex": null,
       "flex_flow": null,
       "grid_area": null,
       "grid_auto_columns": null,
       "grid_auto_flow": null,
       "grid_auto_rows": null,
       "grid_column": null,
       "grid_gap": null,
       "grid_row": null,
       "grid_template_areas": null,
       "grid_template_columns": null,
       "grid_template_rows": null,
       "height": null,
       "justify_content": null,
       "justify_items": null,
       "left": null,
       "margin": null,
       "max_height": null,
       "max_width": null,
       "min_height": null,
       "min_width": null,
       "object_fit": null,
       "object_position": null,
       "order": null,
       "overflow": null,
       "overflow_x": null,
       "overflow_y": null,
       "padding": null,
       "right": null,
       "top": null,
       "visibility": null,
       "width": null
      }
     },
     "f176197151ee448aacec0620a0504063": {
      "model_module": "@jupyter-widgets/base",
      "model_module_version": "1.2.0",
      "model_name": "LayoutModel",
      "state": {
       "_model_module": "@jupyter-widgets/base",
       "_model_module_version": "1.2.0",
       "_model_name": "LayoutModel",
       "_view_count": null,
       "_view_module": "@jupyter-widgets/base",
       "_view_module_version": "1.2.0",
       "_view_name": "LayoutView",
       "align_content": null,
       "align_items": null,
       "align_self": null,
       "border": null,
       "bottom": null,
       "display": null,
       "flex": null,
       "flex_flow": null,
       "grid_area": null,
       "grid_auto_columns": null,
       "grid_auto_flow": null,
       "grid_auto_rows": null,
       "grid_column": null,
       "grid_gap": null,
       "grid_row": null,
       "grid_template_areas": null,
       "grid_template_columns": null,
       "grid_template_rows": null,
       "height": null,
       "justify_content": null,
       "justify_items": null,
       "left": null,
       "margin": null,
       "max_height": null,
       "max_width": null,
       "min_height": null,
       "min_width": null,
       "object_fit": null,
       "object_position": null,
       "order": null,
       "overflow": null,
       "overflow_x": null,
       "overflow_y": null,
       "padding": null,
       "right": null,
       "top": null,
       "visibility": null,
       "width": null
      }
     },
     "fb3bd1358e49469f9359768e923b4425": {
      "model_module": "@jupyter-widgets/base",
      "model_module_version": "1.2.0",
      "model_name": "LayoutModel",
      "state": {
       "_model_module": "@jupyter-widgets/base",
       "_model_module_version": "1.2.0",
       "_model_name": "LayoutModel",
       "_view_count": null,
       "_view_module": "@jupyter-widgets/base",
       "_view_module_version": "1.2.0",
       "_view_name": "LayoutView",
       "align_content": null,
       "align_items": null,
       "align_self": null,
       "border": null,
       "bottom": null,
       "display": null,
       "flex": null,
       "flex_flow": null,
       "grid_area": null,
       "grid_auto_columns": null,
       "grid_auto_flow": null,
       "grid_auto_rows": null,
       "grid_column": null,
       "grid_gap": null,
       "grid_row": null,
       "grid_template_areas": null,
       "grid_template_columns": null,
       "grid_template_rows": null,
       "height": null,
       "justify_content": null,
       "justify_items": null,
       "left": null,
       "margin": null,
       "max_height": null,
       "max_width": null,
       "min_height": null,
       "min_width": null,
       "object_fit": null,
       "object_position": null,
       "order": null,
       "overflow": null,
       "overflow_x": null,
       "overflow_y": null,
       "padding": null,
       "right": null,
       "top": null,
       "visibility": null,
       "width": null
      }
     }
    },
    "version_major": 2,
    "version_minor": 0
   }
  }
 },
 "nbformat": 4,
 "nbformat_minor": 4
}