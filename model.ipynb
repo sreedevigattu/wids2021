{
 "cells": [
  {
   "cell_type": "markdown",
   "metadata": {
    "papermill": {
     "duration": 0.037376,
     "end_time": "2021-02-09T06:59:52.738741",
     "exception": false,
     "start_time": "2021-02-09T06:59:52.701365",
     "status": "completed"
    },
    "tags": []
   },
   "source": [
    "Used https://www.kaggle.com/praveenmaripeti/wids-datathon-2021-challenge-eda-model-submission as the starting notebook\n",
    "\n",
    "# Problem Overview\n",
    "\n",
    "This challenge is hosted by WiDS Datathon Committee. It focuses on patient health, with an emphasis on the chronic condition of diabetes, through data from MIT’s GOSSIS (Global Open Source Severity of Illness Score) initiative.\n",
    "\n",
    "**Background**\n",
    "\n",
    "Getting a rapid understanding of the context of a patient’s overall health has been particularly important during the COVID-19 pandemic as healthcare workers around the world struggle with hospitals overloaded by patients in critical condition. Intensive Care Units (ICUs) often lack verified medical histories for incoming patients. A patient in distress or a patient who is brought in confused or unresponsive may not be able to provide information about chronic conditions such as heart disease, injuries, or diabetes. Medical records may take days to transfer, especially for a patient from another medical provider or system. Knowledge about chronic conditions such as diabetes can inform clinical decisions about patient care and ultimately improve patient outcomes.\n",
    "\n",
    "**Overview**\n",
    "\n",
    "In this challenge, participants are required to build a model to determine whether a patient admitted to an ICU has been diagnosed with a particular type of diabetes, Diabetes Mellitus."
   ]
  },
  {
   "cell_type": "markdown",
   "metadata": {
    "papermill": {
     "duration": 0.033334,
     "end_time": "2021-02-09T06:59:52.805906",
     "exception": false,
     "start_time": "2021-02-09T06:59:52.772572",
     "status": "completed"
    },
    "tags": []
   },
   "source": [
    "**Install dabl which stands for Data Analysis Baseline library. Dabl can be used to automate many of the tasks related to data exploration and analysis**"
   ]
  },
  {
   "cell_type": "markdown",
   "metadata": {
    "papermill": {
     "duration": 0.033713,
     "end_time": "2021-02-09T06:59:52.874153",
     "exception": false,
     "start_time": "2021-02-09T06:59:52.840440",
     "status": "completed"
    },
    "tags": []
   },
   "source": [
    "# Import Libraries"
   ]
  },
  {
   "cell_type": "code",
   "execution_count": 1,
   "metadata": {
    "_cell_guid": "79c7e3d0-c299-4dcb-8224-4455121ee9b0",
    "_uuid": "d629ff2d2480ee46fbb7e2d37f6b5fab8052498a",
    "execution": {
     "iopub.execute_input": "2021-02-09T06:59:52.950163Z",
     "iopub.status.busy": "2021-02-09T06:59:52.949483Z",
     "iopub.status.idle": "2021-02-09T06:59:54.643080Z",
     "shell.execute_reply": "2021-02-09T06:59:54.642302Z"
    },
    "papermill": {
     "duration": 1.735201,
     "end_time": "2021-02-09T06:59:54.643272",
     "exception": false,
     "start_time": "2021-02-09T06:59:52.908071",
     "status": "completed"
    },
    "tags": []
   },
   "outputs": [],
   "source": [
    "from datetime import datetime\n",
    "\n",
    "import numpy as np\n",
    "import pandas as pd\n",
    "\n",
    "#import dabl\n",
    "#from pandas_profiling import ProfileReport #For generating profile reports\n",
    "\n",
    "import matplotlib.pyplot as plt  #data visualization\n",
    "import seaborn as sns\n",
    "import plotly.graph_objects as go\n",
    "\n",
    "from sklearn.preprocessing import LabelEncoder\n",
    "\n",
    "from sklearn.model_selection import train_test_split, KFold, RandomizedSearchCV\n",
    "\n",
    "from sklearn.experimental import enable_iterative_imputer   # For imputing missing values\n",
    "from sklearn.impute import IterativeImputer, SimpleImputer\n",
    "\n",
    "from sklearn.metrics import roc_auc_score, classification_report, confusion_matrix  #metrics\n",
    "from scipy import stats\n",
    "\n",
    "from sklearn.ensemble import RandomForestClassifier\n",
    "from sklearn.linear_model import LogisticRegression\n",
    "from catboost import CatBoostClassifier\n",
    "from xgboost import XGBClassifier\n",
    "\n",
    "import warnings\n",
    "warnings.filterwarnings('ignore')  #silence warnings"
   ]
  },
  {
   "cell_type": "markdown",
   "metadata": {
    "papermill": {
     "duration": 0.033396,
     "end_time": "2021-02-09T06:59:54.710564",
     "exception": false,
     "start_time": "2021-02-09T06:59:54.677168",
     "status": "completed"
    },
    "tags": []
   },
   "source": [
    "### CONSTANTS"
   ]
  },
  {
   "cell_type": "code",
   "execution_count": 2,
   "metadata": {
    "execution": {
     "iopub.execute_input": "2021-02-09T06:59:54.794831Z",
     "iopub.status.busy": "2021-02-09T06:59:54.788396Z",
     "iopub.status.idle": "2021-02-09T06:59:54.796831Z",
     "shell.execute_reply": "2021-02-09T06:59:54.797392Z"
    },
    "papermill": {
     "duration": 0.051953,
     "end_time": "2021-02-09T06:59:54.797566",
     "exception": false,
     "start_time": "2021-02-09T06:59:54.745613",
     "status": "completed"
    },
    "tags": []
   },
   "outputs": [],
   "source": [
    "DATA_FOLDER = \"data\" #\"../input/widsdatathon2021\"\n",
    "\n",
    "CAT_COLUMNS = {\n",
    "    \"demographic1\" : ['age', 'gender', 'ethnicity', 'weight', 'height', 'bmi'], \n",
    "    \"demographic2\" : ['elective_surgery', 'hospital_admit_source', 'icu_admit_source', 'icu_stay_type','icu_type',           \n",
    "    'pre_icu_los_days'], \n",
    "    \"apache_covariate\" : ['albumin_apache', 'apache_2_diagnosis', 'apache_3j_diagnosis',\n",
    "       'apache_post_operative', 'arf_apache', 'bilirubin_apache', 'bun_apache',\n",
    "       'creatinine_apache', 'fio2_apache', 'gcs_eyes_apache',\n",
    "       'gcs_motor_apache', 'gcs_unable_apache', 'gcs_verbal_apache',\n",
    "       'glucose_apache', 'heart_rate_apache', 'hematocrit_apache',\n",
    "       'intubated_apache', 'map_apache', 'paco2_apache', 'paco2_for_ph_apache',\n",
    "       'pao2_apache', 'ph_apache', 'resprate_apache', 'sodium_apache',\n",
    "       'temp_apache', 'urineoutput_apache', 'ventilated_apache', 'wbc_apache'],\n",
    "    \"apache_comorbidity\" : ['aids', 'cirrhosis', 'hepatic_failure', 'immunosuppression', 'leukemia',\n",
    "       'lymphoma', 'solid_tumor_with_metastasis', 'diabetes_mellitus'\n",
    "       ],\n",
    "    \"vitals_d1\" : ['d1_diasbp_invasive_max', 'd1_diasbp_invasive_min', 'd1_diasbp_max',\n",
    "       'd1_diasbp_min', 'd1_diasbp_noninvasive_max',\n",
    "       'd1_diasbp_noninvasive_min', 'd1_heartrate_max', 'd1_heartrate_min',\n",
    "       'd1_mbp_invasive_max', 'd1_mbp_invasive_min', 'd1_mbp_max',\n",
    "       'd1_mbp_min', 'd1_mbp_noninvasive_max', 'd1_mbp_noninvasive_min',\n",
    "       'd1_resprate_max', 'd1_resprate_min', 'd1_spo2_max', 'd1_spo2_min',\n",
    "       'd1_sysbp_invasive_max', 'd1_sysbp_invasive_min', 'd1_sysbp_max',\n",
    "       'd1_sysbp_min', 'd1_sysbp_noninvasive_max', 'd1_sysbp_noninvasive_min',\n",
    "       'd1_temp_max', 'd1_temp_min'],\n",
    "    \"vitals_h1\" : ['h1_diasbp_invasive_max', 'h1_diasbp_invasive_min', 'h1_diasbp_max',\n",
    "       'h1_diasbp_min', 'h1_diasbp_noninvasive_max',\n",
    "       'h1_diasbp_noninvasive_min', 'h1_heartrate_max', 'h1_heartrate_min',\n",
    "       'h1_mbp_invasive_max', 'h1_mbp_invasive_min', 'h1_mbp_max',\n",
    "       'h1_mbp_min', 'h1_mbp_noninvasive_max', 'h1_mbp_noninvasive_min',\n",
    "       'h1_resprate_max', 'h1_resprate_min', 'h1_spo2_max', 'h1_spo2_min',\n",
    "       'h1_sysbp_invasive_max', 'h1_sysbp_invasive_min', 'h1_sysbp_max',\n",
    "       'h1_sysbp_min', 'h1_sysbp_noninvasive_max', 'h1_sysbp_noninvasive_min',\n",
    "       'h1_temp_max', 'h1_temp_min'],\n",
    "    \"labs_d1\" :['d1_albumin_max', 'd1_albumin_min', 'd1_bilirubin_max',\n",
    "       'd1_bilirubin_min', 'd1_bun_max', 'd1_bun_min', 'd1_calcium_max',\n",
    "       'd1_calcium_min', 'd1_creatinine_max', 'd1_creatinine_min',\n",
    "       'd1_glucose_max', 'd1_glucose_min', 'd1_hco3_max', 'd1_hco3_min',\n",
    "       'd1_hemaglobin_max', 'd1_hemaglobin_min', 'd1_hematocrit_max',\n",
    "       'd1_hematocrit_min', 'd1_inr_max', 'd1_inr_min', 'd1_lactate_max',\n",
    "       'd1_lactate_min', 'd1_platelets_max', 'd1_platelets_min',\n",
    "       'd1_potassium_max', 'd1_potassium_min', 'd1_sodium_max',\n",
    "       'd1_sodium_min', 'd1_wbc_max', 'd1_wbc_min'],\n",
    "    \"labs_h1\" : ['h1_albumin_max', 'h1_albumin_min', 'h1_bilirubin_max',\n",
    "       'h1_bilirubin_min', 'h1_bun_max', 'h1_bun_min', 'h1_calcium_max',\n",
    "       'h1_calcium_min', 'h1_creatinine_max', 'h1_creatinine_min',\n",
    "       'h1_glucose_max', 'h1_glucose_min', 'h1_hco3_max', 'h1_hco3_min',\n",
    "       'h1_hemaglobin_max', 'h1_hemaglobin_min', 'h1_hematocrit_max',\n",
    "       'h1_hematocrit_min', 'h1_inr_max', 'h1_inr_min', 'h1_lactate_max',\n",
    "       'h1_lactate_min', 'h1_platelets_max', 'h1_platelets_min',\n",
    "       'h1_potassium_max', 'h1_potassium_min', 'h1_sodium_max',\n",
    "       'h1_sodium_min', 'h1_wbc_max', 'h1_wbc_min'], \n",
    "    \"labs_blood_gas\" : ['d1_arterial_pco2_max',\n",
    "       'd1_arterial_pco2_min', 'd1_arterial_ph_max', 'd1_arterial_ph_min',\n",
    "       'd1_arterial_po2_max', 'd1_arterial_po2_min', 'd1_pao2fio2ratio_max',\n",
    "       'd1_pao2fio2ratio_min', 'h1_arterial_pco2_max', 'h1_arterial_pco2_min',\n",
    "       'h1_arterial_ph_max', 'h1_arterial_ph_min', 'h1_arterial_po2_max',\n",
    "       'h1_arterial_po2_min', 'h1_pao2fio2ratio_max', 'h1_pao2fio2ratio_min']\n",
    "}\n",
    "\n",
    "CAT_COLORS = {  'demographic1':  '#812878',                             \n",
    "                'demographic2':  '#B0B3D6',\n",
    "                'apache_covariate': '#2C2255',\n",
    "                'apache_comorbidity': '#4B8BBE',\n",
    "                'vitals_d1':  '#CC2336', \n",
    "                'vitals_h1': '#FFE873',\n",
    "                'labs_d1': '#E4682A', \n",
    "                'labs_h1': '#FFD43B', \n",
    "                'labs_blood_gas': '#F69824'\n",
    "                }"
   ]
  },
  {
   "cell_type": "markdown",
   "metadata": {
    "papermill": {
     "duration": 0.033531,
     "end_time": "2021-02-09T06:59:54.864741",
     "exception": false,
     "start_time": "2021-02-09T06:59:54.831210",
     "status": "completed"
    },
    "tags": []
   },
   "source": [
    "### COMMON FUNCTIONS"
   ]
  },
  {
   "cell_type": "code",
   "execution_count": 3,
   "metadata": {
    "execution": {
     "iopub.execute_input": "2021-02-09T06:59:54.936790Z",
     "iopub.status.busy": "2021-02-09T06:59:54.935830Z",
     "iopub.status.idle": "2021-02-09T06:59:54.945869Z",
     "shell.execute_reply": "2021-02-09T06:59:54.945307Z"
    },
    "papermill": {
     "duration": 0.047579,
     "end_time": "2021-02-09T06:59:54.946010",
     "exception": false,
     "start_time": "2021-02-09T06:59:54.898431",
     "status": "completed"
    },
    "tags": []
   },
   "outputs": [],
   "source": [
    "def getColor(col):\n",
    "    for cat in CAT_COLUMNS.keys():\n",
    "        if col in CAT_COLUMNS[cat]: \n",
    "            return CAT_COLORS.get(cat, '#333333')\n",
    "\n",
    "def missingData(df):\n",
    "    print(df.shape)\n",
    "    missing_cnt = df.isna().sum() #column wise sum of missing values\n",
    "\n",
    "    #display only the columns with missing values with count and proportion of missing values by column \n",
    "    missing_df = pd.concat([missing_cnt.rename('Missing Count'), \n",
    "                            missing_cnt.div(len(df)/100).rename('Missing Ratio')], axis=1).loc[missing_cnt.ne(0)]\n",
    "    missing_df = missing_df.reset_index().rename(columns={'index': 'Feature'})\n",
    "    missing_df['Filled Ratio'] = missing_df['Missing Ratio'].apply(lambda x: 100-x)\n",
    "    print(missing_df)\n",
    "    COLORS=[getColor(col) for col in missing_df['Feature'].values]\n",
    "    print(missing_df.columns)\n",
    "    #print(COLORS)\n",
    "    missing_df.plot.bar(x='Feature', y='Filled Ratio', title=\"Filled data\", figsize=(18,6), fontsize=7, color=COLORS)\n",
    "    return missing_df\n",
    "\n",
    "def printDFDetails(df):\n",
    "    print(f\"Shape: {df.shape}; Null values: {pd.DataFrame(df).isna().sum().sum()}\\nColumns: {df.columns} \\nColumns of object type: {df.select_dtypes('object').columns}\")\n",
    "    \n",
    "def printDFGroups(df, cols):\n",
    "    for col in cols:\n",
    "        print(df.groupby(by=col)[col].agg(['count']))\n"
   ]
  },
  {
   "cell_type": "code",
   "execution_count": 4,
   "metadata": {
    "execution": {
     "iopub.execute_input": "2021-02-09T06:59:55.023237Z",
     "iopub.status.busy": "2021-02-09T06:59:55.022407Z",
     "iopub.status.idle": "2021-02-09T06:59:55.025335Z",
     "shell.execute_reply": "2021-02-09T06:59:55.024846Z"
    },
    "papermill": {
     "duration": 0.042983,
     "end_time": "2021-02-09T06:59:55.025476",
     "exception": false,
     "start_time": "2021-02-09T06:59:54.982493",
     "status": "completed"
    },
    "tags": []
   },
   "outputs": [],
   "source": []
  },
  {
   "cell_type": "code",
   "execution_count": 5,
   "metadata": {
    "execution": {
     "iopub.execute_input": "2021-02-09T06:59:55.105201Z",
     "iopub.status.busy": "2021-02-09T06:59:55.101735Z",
     "iopub.status.idle": "2021-02-09T06:59:55.108819Z",
     "shell.execute_reply": "2021-02-09T06:59:55.108137Z"
    },
    "papermill": {
     "duration": 0.049541,
     "end_time": "2021-02-09T06:59:55.108966",
     "exception": false,
     "start_time": "2021-02-09T06:59:55.059425",
     "status": "completed"
    },
    "tags": []
   },
   "outputs": [],
   "source": [
    "class LabelEncoderExt(object):\n",
    "    def __init__(self):\n",
    "        \"\"\"\n",
    "        It differs from LabelEncoder by handling new classes and providing a value for it [Unknown]\n",
    "        Unknown will be added in fit and transform will take care of new item. It gives unknown class id\n",
    "        \"\"\"\n",
    "        self.label_encoder = LabelEncoder()\n",
    "        # self.classes_ = self.label_encoder.classes_\n",
    "\n",
    "    def fit(self, data_list):\n",
    "        \"\"\"\n",
    "        This will fit the encoder for all the unique values and introduce unknown value\n",
    "        :param data_list: A list of string\n",
    "        :return: self\n",
    "        \"\"\"\n",
    "        self.label_encoder = self.label_encoder.fit(list(data_list) + ['Unknown'])\n",
    "        self.classes_ = self.label_encoder.classes_\n",
    "\n",
    "        return self\n",
    "\n",
    "    def transform(self, data_list):\n",
    "        \"\"\"\n",
    "        This will transform the data_list to id list where the new values get assigned to Unknown class\n",
    "        :param data_list:\n",
    "        :return:\n",
    "        \"\"\"\n",
    "        new_data_list = list(data_list)\n",
    "        for unique_item in np.unique(data_list):\n",
    "            if unique_item not in self.label_encoder.classes_:\n",
    "                new_data_list = ['Unknown' if x==unique_item else x for x in new_data_list]\n",
    "\n",
    "        return self.label_encoder.transform(new_data_list)\n",
    "\n",
    "    def inverse_transform(self, data_list):\n",
    "        return self.label_encoder.inverse_transform(data_list)\n",
    "\n",
    "def labelEncode(df, col):\n",
    "    df[col] = df[col].astype('str')\n",
    "    \n",
    "    print(f\"{col} Before LE: {df_5_knn[col].unique()}\")\n",
    "    \n",
    "    df[col] = df[col].fillna(np.nan) \n",
    "    df_original = df[col]\n",
    "    df_mask = df[col].isnull()\n",
    "\n",
    "    #df[col] = df[[col]].apply(LabelEncoder().fit_transform)\n",
    "    le = LabelEncoder()\n",
    "    le.fit(df[col])\n",
    "    df[col] = le.transform(df[col])\n",
    "\n",
    "    df[col] = df[col].where(~df_mask, df_original)\n",
    "    #print(df[col])\n",
    "    return df, le"
   ]
  },
  {
   "cell_type": "code",
   "execution_count": 7,
   "metadata": {
    "execution": {
     "iopub.execute_input": "2021-02-09T06:59:56.013158Z",
     "iopub.status.busy": "2021-02-09T06:59:56.007542Z",
     "iopub.status.idle": "2021-02-09T06:59:56.029314Z",
     "shell.execute_reply": "2021-02-09T06:59:56.028496Z"
    },
    "papermill": {
     "duration": 0.08283,
     "end_time": "2021-02-09T06:59:56.029524",
     "exception": false,
     "start_time": "2021-02-09T06:59:55.946694",
     "status": "completed"
    },
    "tags": []
   },
   "outputs": [],
   "source": [
    "simple_encoders = {}\n",
    "\n",
    "# impute string values using SimpleImputer with 'most_frequent' strategy\n",
    "def imputeSimple(df_train, df_unlabeled, cols):\n",
    "    simple_imp = SimpleImputer(strategy='most_frequent')\n",
    "\n",
    "    print(f\"Unique values: \", end=\" \")\n",
    "    [print(f\"{col} {df_train[col].unique()}\", end=\" \") for col in cols]; print()\n",
    "    for col in cols:\n",
    "        #le1 = LabelEncoder()\n",
    "        #le = LabelEncoderExt()\n",
    "        \n",
    "        #le.fit(df_train[col])\n",
    "        #print(f'{col} le.classes_: {le.classes_}')\n",
    "        #simple_encoders[col] = le\n",
    "\n",
    "        # fill missing values with np.nan\n",
    "        df_train[col] = df_train[col].fillna(np.nan) \n",
    "        df_unlabeled[col] = df_unlabeled[col].fillna(np.nan) \n",
    "       \n",
    "        simple_imp.fit(df_train[col].values.reshape(-1,1))\n",
    "\n",
    "        df_train[col] = simple_imp.transform(df_train[col].values.reshape(-1,1))\n",
    "        df_train[col] = df_train[col].astype('str') # convert data to string type\n",
    "        #df_train[col] = le.transform(df_train[col])\n",
    "\n",
    "        df_unlabeled[col] = simple_imp.transform(df_unlabeled[col].values.reshape(-1,1))\n",
    "        df_unlabeled[col] = df_unlabeled[col].astype('str')\n",
    "        #df_unlabeled[col] = le.transform(df_unlabeled[col])\n",
    "    [print(f\"{col} {df_train[col].unique()}\", end=\" \") for col in cols]; print()\n",
    "    return df_train, df_unlabeled\n",
    "\n",
    "# Impute numerical values\n",
    "def imputeIterative(df_train, df_unlabeled, unlabeled=False):\n",
    "    tic = datetime.now()\n",
    "    iter_imp = IterativeImputer(random_state=0) # instantiate IterativeImputer\n",
    "\n",
    "    iter_imp.fit(df_train) # fit and transform the data\n",
    "    \n",
    "    df_train_new = iter_imp.fit_transform(df_train) # fit and transform the data\n",
    "    df_train_new = pd.DataFrame(df_train_new, columns=df_train.columns)\n",
    "\n",
    "    df_unlabeled_new = pd.DataFrame()\n",
    "    if unlabeled == True:\n",
    "        df_unlabeled_new = iter_imp.fit_transform(df_unlabeled) # fit and transform the data\n",
    "        df_unlabeled_new = pd.DataFrame(df_unlabeled_new, columns=df_unlabeled.columns)\n",
    "\n",
    "    toc = datetime.now()\n",
    "    print(f\"IterativeImputer took {toc-tic}sec\")\n",
    "    return df_train_new, df_unlabeled_new\n",
    "\n",
    "xgb = XGBClassifier(n_estimators=400, colsample_bytree=0.7, reg_lambda=120, subsample=0.75) #parameters \n",
    "\n",
    "'''\n",
    "Computes roc auc score as the score will computed for several datasets. \n",
    "- It will split the training set into a sub training set (80%) and test set(20%). \n",
    "- A simple XGBClassifier will be trained on the sub training set, evaluated on test set.\n",
    "- Finally the function prints roc auc score on full training set and the original test set.\n",
    "'''\n",
    "def compute_roc_auc(train_test_split, train_set, target):\n",
    "    tic = datetime.now()\n",
    "    X_train, X_test, y_train, y_test = train_test_split(train_set, target, test_size=0.2, random_state=42)\n",
    "    xgb.fit(X_train, y_train)\n",
    "    y_test_pred = xgb.predict(X_test)\n",
    "    y_train_pred = xgb.predict(X_train)\n",
    "    print('train auc',roc_auc_score(y_train, y_train_pred))\n",
    "    print('test auc',roc_auc_score(y_test, y_test_pred)) \n",
    "    toc = datetime.now()\n",
    "    print(\"Time taken:\", toc-tic)  \n",
    "\n",
    "def add_features(lower_limit, upper_limit, df, missing_df, df_to_merge):\n",
    "    df_ = df[missing_df[(missing_df['Missing Ratio']>=lower_limit) & (missing_df['Missing Ratio']<upper_limit)].index]\n",
    "    df_new = pd.concat([pd.DataFrame(df_to_merge), df_], axis=1) # concatenate new table with existing table\n",
    "    df_new = df_new.select_dtypes(include=['int', 'float']) # exclude columns with string datatype, if any\n",
    "    df_new_ = imputeIterative(df_new,pd.DataFrame()) #iter_imp.fit_transform(df_new)\n",
    "    df_new_ = pd.DataFrame(df_new_, columns=df_new.columns) # return table with column names intact\n",
    "    return df_new_"
   ]
  },
  {
   "cell_type": "markdown",
   "metadata": {
    "papermill": {
     "duration": 0.041167,
     "end_time": "2021-02-09T06:59:56.116708",
     "exception": false,
     "start_time": "2021-02-09T06:59:56.075541",
     "status": "completed"
    },
    "tags": []
   },
   "source": [
    "# Load data"
   ]
  },
  {
   "cell_type": "code",
   "execution_count": 8,
   "metadata": {
    "execution": {
     "iopub.execute_input": "2021-02-09T06:59:56.194648Z",
     "iopub.status.busy": "2021-02-09T06:59:56.194010Z",
     "iopub.status.idle": "2021-02-09T07:00:00.270237Z",
     "shell.execute_reply": "2021-02-09T07:00:00.268768Z"
    },
    "papermill": {
     "duration": 4.117064,
     "end_time": "2021-02-09T07:00:00.270406",
     "exception": false,
     "start_time": "2021-02-09T06:59:56.153342",
     "status": "completed"
    },
    "tags": []
   },
   "outputs": [],
   "source": [
    "df = pd.read_csv(f\"{DATA_FODLER}/TrainingWiDS2021.csv\")\n",
    "test = pd.read_csv(f\"{DATA_FODLER}/UnlabeledWiDS2021.csv\")"
   ]
  },
  {
   "cell_type": "markdown",
   "metadata": {
    "papermill": {
     "duration": 0.034788,
     "end_time": "2021-02-09T07:00:00.340661",
     "exception": false,
     "start_time": "2021-02-09T07:00:00.305873",
     "status": "completed"
    },
    "tags": []
   },
   "source": [
    "# Exploratory Data Analysis"
   ]
  },
  {
   "cell_type": "code",
   "execution_count": 9,
   "metadata": {
    "execution": {
     "iopub.execute_input": "2021-02-09T07:00:00.435064Z",
     "iopub.status.busy": "2021-02-09T07:00:00.433807Z",
     "iopub.status.idle": "2021-02-09T07:00:00.463918Z",
     "shell.execute_reply": "2021-02-09T07:00:00.463369Z"
    },
    "papermill": {
     "duration": 0.08814,
     "end_time": "2021-02-09T07:00:00.464068",
     "exception": false,
     "start_time": "2021-02-09T07:00:00.375928",
     "status": "completed"
    },
    "tags": []
   },
   "outputs": [
    {
     "data": {
      "text/html": [
       "<div>\n",
       "<style scoped>\n",
       "    .dataframe tbody tr th:only-of-type {\n",
       "        vertical-align: middle;\n",
       "    }\n",
       "\n",
       "    .dataframe tbody tr th {\n",
       "        vertical-align: top;\n",
       "    }\n",
       "\n",
       "    .dataframe thead th {\n",
       "        text-align: right;\n",
       "    }\n",
       "</style>\n",
       "<table border=\"1\" class=\"dataframe\">\n",
       "  <thead>\n",
       "    <tr style=\"text-align: right;\">\n",
       "      <th></th>\n",
       "      <th>Unnamed: 0</th>\n",
       "      <th>encounter_id</th>\n",
       "      <th>hospital_id</th>\n",
       "      <th>age</th>\n",
       "      <th>bmi</th>\n",
       "      <th>elective_surgery</th>\n",
       "      <th>ethnicity</th>\n",
       "      <th>gender</th>\n",
       "      <th>height</th>\n",
       "      <th>hospital_admit_source</th>\n",
       "      <th>...</th>\n",
       "      <th>h1_pao2fio2ratio_max</th>\n",
       "      <th>h1_pao2fio2ratio_min</th>\n",
       "      <th>aids</th>\n",
       "      <th>cirrhosis</th>\n",
       "      <th>hepatic_failure</th>\n",
       "      <th>immunosuppression</th>\n",
       "      <th>leukemia</th>\n",
       "      <th>lymphoma</th>\n",
       "      <th>solid_tumor_with_metastasis</th>\n",
       "      <th>diabetes_mellitus</th>\n",
       "    </tr>\n",
       "  </thead>\n",
       "  <tbody>\n",
       "    <tr>\n",
       "      <th>0</th>\n",
       "      <td>1</td>\n",
       "      <td>214826</td>\n",
       "      <td>118</td>\n",
       "      <td>68.0</td>\n",
       "      <td>22.732803</td>\n",
       "      <td>0</td>\n",
       "      <td>Caucasian</td>\n",
       "      <td>M</td>\n",
       "      <td>180.3</td>\n",
       "      <td>Floor</td>\n",
       "      <td>...</td>\n",
       "      <td>NaN</td>\n",
       "      <td>NaN</td>\n",
       "      <td>0</td>\n",
       "      <td>0</td>\n",
       "      <td>0</td>\n",
       "      <td>0</td>\n",
       "      <td>0</td>\n",
       "      <td>0</td>\n",
       "      <td>0</td>\n",
       "      <td>1</td>\n",
       "    </tr>\n",
       "    <tr>\n",
       "      <th>1</th>\n",
       "      <td>2</td>\n",
       "      <td>246060</td>\n",
       "      <td>81</td>\n",
       "      <td>77.0</td>\n",
       "      <td>27.421875</td>\n",
       "      <td>0</td>\n",
       "      <td>Caucasian</td>\n",
       "      <td>F</td>\n",
       "      <td>160.0</td>\n",
       "      <td>Floor</td>\n",
       "      <td>...</td>\n",
       "      <td>51.0</td>\n",
       "      <td>51.0</td>\n",
       "      <td>0</td>\n",
       "      <td>0</td>\n",
       "      <td>0</td>\n",
       "      <td>0</td>\n",
       "      <td>0</td>\n",
       "      <td>0</td>\n",
       "      <td>0</td>\n",
       "      <td>1</td>\n",
       "    </tr>\n",
       "    <tr>\n",
       "      <th>2</th>\n",
       "      <td>3</td>\n",
       "      <td>276985</td>\n",
       "      <td>118</td>\n",
       "      <td>25.0</td>\n",
       "      <td>31.952749</td>\n",
       "      <td>0</td>\n",
       "      <td>Caucasian</td>\n",
       "      <td>F</td>\n",
       "      <td>172.7</td>\n",
       "      <td>Emergency Department</td>\n",
       "      <td>...</td>\n",
       "      <td>NaN</td>\n",
       "      <td>NaN</td>\n",
       "      <td>0</td>\n",
       "      <td>0</td>\n",
       "      <td>0</td>\n",
       "      <td>0</td>\n",
       "      <td>0</td>\n",
       "      <td>0</td>\n",
       "      <td>0</td>\n",
       "      <td>0</td>\n",
       "    </tr>\n",
       "    <tr>\n",
       "      <th>3</th>\n",
       "      <td>4</td>\n",
       "      <td>262220</td>\n",
       "      <td>118</td>\n",
       "      <td>81.0</td>\n",
       "      <td>22.635548</td>\n",
       "      <td>1</td>\n",
       "      <td>Caucasian</td>\n",
       "      <td>F</td>\n",
       "      <td>165.1</td>\n",
       "      <td>Operating Room</td>\n",
       "      <td>...</td>\n",
       "      <td>337.0</td>\n",
       "      <td>337.0</td>\n",
       "      <td>0</td>\n",
       "      <td>0</td>\n",
       "      <td>0</td>\n",
       "      <td>0</td>\n",
       "      <td>0</td>\n",
       "      <td>0</td>\n",
       "      <td>0</td>\n",
       "      <td>0</td>\n",
       "    </tr>\n",
       "    <tr>\n",
       "      <th>4</th>\n",
       "      <td>5</td>\n",
       "      <td>201746</td>\n",
       "      <td>33</td>\n",
       "      <td>19.0</td>\n",
       "      <td>NaN</td>\n",
       "      <td>0</td>\n",
       "      <td>Caucasian</td>\n",
       "      <td>M</td>\n",
       "      <td>188.0</td>\n",
       "      <td>NaN</td>\n",
       "      <td>...</td>\n",
       "      <td>NaN</td>\n",
       "      <td>NaN</td>\n",
       "      <td>0</td>\n",
       "      <td>0</td>\n",
       "      <td>0</td>\n",
       "      <td>0</td>\n",
       "      <td>0</td>\n",
       "      <td>0</td>\n",
       "      <td>0</td>\n",
       "      <td>0</td>\n",
       "    </tr>\n",
       "  </tbody>\n",
       "</table>\n",
       "<p>5 rows × 181 columns</p>\n",
       "</div>"
      ],
      "text/plain": [
       "   Unnamed: 0  encounter_id  hospital_id   age        bmi  elective_surgery  \\\n",
       "0           1        214826          118  68.0  22.732803                 0   \n",
       "1           2        246060           81  77.0  27.421875                 0   \n",
       "2           3        276985          118  25.0  31.952749                 0   \n",
       "3           4        262220          118  81.0  22.635548                 1   \n",
       "4           5        201746           33  19.0        NaN                 0   \n",
       "\n",
       "   ethnicity gender  height hospital_admit_source  ... h1_pao2fio2ratio_max  \\\n",
       "0  Caucasian      M   180.3                 Floor  ...                  NaN   \n",
       "1  Caucasian      F   160.0                 Floor  ...                 51.0   \n",
       "2  Caucasian      F   172.7  Emergency Department  ...                  NaN   \n",
       "3  Caucasian      F   165.1        Operating Room  ...                337.0   \n",
       "4  Caucasian      M   188.0                   NaN  ...                  NaN   \n",
       "\n",
       "   h1_pao2fio2ratio_min aids cirrhosis  hepatic_failure  immunosuppression  \\\n",
       "0                   NaN    0         0                0                  0   \n",
       "1                  51.0    0         0                0                  0   \n",
       "2                   NaN    0         0                0                  0   \n",
       "3                 337.0    0         0                0                  0   \n",
       "4                   NaN    0         0                0                  0   \n",
       "\n",
       "   leukemia  lymphoma  solid_tumor_with_metastasis  diabetes_mellitus  \n",
       "0         0         0                            0                  1  \n",
       "1         0         0                            0                  1  \n",
       "2         0         0                            0                  0  \n",
       "3         0         0                            0                  0  \n",
       "4         0         0                            0                  0  \n",
       "\n",
       "[5 rows x 181 columns]"
      ]
     },
     "execution_count": 9,
     "metadata": {},
     "output_type": "execute_result"
    }
   ],
   "source": [
    "df.head()"
   ]
  },
  {
   "cell_type": "code",
   "execution_count": 10,
   "metadata": {
    "execution": {
     "iopub.execute_input": "2021-02-09T07:00:00.550224Z",
     "iopub.status.busy": "2021-02-09T07:00:00.544044Z",
     "iopub.status.idle": "2021-02-09T07:00:00.567232Z",
     "shell.execute_reply": "2021-02-09T07:00:00.566639Z"
    },
    "papermill": {
     "duration": 0.067596,
     "end_time": "2021-02-09T07:00:00.567380",
     "exception": false,
     "start_time": "2021-02-09T07:00:00.499784",
     "status": "completed"
    },
    "tags": []
   },
   "outputs": [
    {
     "data": {
      "text/html": [
       "<div>\n",
       "<style scoped>\n",
       "    .dataframe tbody tr th:only-of-type {\n",
       "        vertical-align: middle;\n",
       "    }\n",
       "\n",
       "    .dataframe tbody tr th {\n",
       "        vertical-align: top;\n",
       "    }\n",
       "\n",
       "    .dataframe thead th {\n",
       "        text-align: right;\n",
       "    }\n",
       "</style>\n",
       "<table border=\"1\" class=\"dataframe\">\n",
       "  <thead>\n",
       "    <tr style=\"text-align: right;\">\n",
       "      <th></th>\n",
       "      <th>Unnamed: 0</th>\n",
       "      <th>encounter_id</th>\n",
       "      <th>hospital_id</th>\n",
       "      <th>age</th>\n",
       "      <th>bmi</th>\n",
       "      <th>elective_surgery</th>\n",
       "      <th>ethnicity</th>\n",
       "      <th>gender</th>\n",
       "      <th>height</th>\n",
       "      <th>hospital_admit_source</th>\n",
       "      <th>...</th>\n",
       "      <th>h1_arterial_po2_min</th>\n",
       "      <th>h1_pao2fio2ratio_max</th>\n",
       "      <th>h1_pao2fio2ratio_min</th>\n",
       "      <th>aids</th>\n",
       "      <th>cirrhosis</th>\n",
       "      <th>hepatic_failure</th>\n",
       "      <th>immunosuppression</th>\n",
       "      <th>leukemia</th>\n",
       "      <th>lymphoma</th>\n",
       "      <th>solid_tumor_with_metastasis</th>\n",
       "    </tr>\n",
       "  </thead>\n",
       "  <tbody>\n",
       "    <tr>\n",
       "      <th>0</th>\n",
       "      <td>1</td>\n",
       "      <td>144740</td>\n",
       "      <td>10141</td>\n",
       "      <td>72</td>\n",
       "      <td>NaN</td>\n",
       "      <td>0</td>\n",
       "      <td>Caucasian</td>\n",
       "      <td>F</td>\n",
       "      <td>152.4</td>\n",
       "      <td>Floor</td>\n",
       "      <td>...</td>\n",
       "      <td>NaN</td>\n",
       "      <td>NaN</td>\n",
       "      <td>NaN</td>\n",
       "      <td>0</td>\n",
       "      <td>0</td>\n",
       "      <td>0</td>\n",
       "      <td>0</td>\n",
       "      <td>0</td>\n",
       "      <td>0</td>\n",
       "      <td>0</td>\n",
       "    </tr>\n",
       "    <tr>\n",
       "      <th>1</th>\n",
       "      <td>2</td>\n",
       "      <td>141990</td>\n",
       "      <td>10141</td>\n",
       "      <td>86</td>\n",
       "      <td>NaN</td>\n",
       "      <td>0</td>\n",
       "      <td>Caucasian</td>\n",
       "      <td>F</td>\n",
       "      <td>175.3</td>\n",
       "      <td>Emergency Department</td>\n",
       "      <td>...</td>\n",
       "      <td>NaN</td>\n",
       "      <td>NaN</td>\n",
       "      <td>NaN</td>\n",
       "      <td>0</td>\n",
       "      <td>0</td>\n",
       "      <td>0</td>\n",
       "      <td>0</td>\n",
       "      <td>0</td>\n",
       "      <td>0</td>\n",
       "      <td>0</td>\n",
       "    </tr>\n",
       "    <tr>\n",
       "      <th>2</th>\n",
       "      <td>3</td>\n",
       "      <td>142038</td>\n",
       "      <td>10141</td>\n",
       "      <td>72</td>\n",
       "      <td>NaN</td>\n",
       "      <td>0</td>\n",
       "      <td>Caucasian</td>\n",
       "      <td>F</td>\n",
       "      <td>162.6</td>\n",
       "      <td>Floor</td>\n",
       "      <td>...</td>\n",
       "      <td>NaN</td>\n",
       "      <td>NaN</td>\n",
       "      <td>NaN</td>\n",
       "      <td>0</td>\n",
       "      <td>0</td>\n",
       "      <td>0</td>\n",
       "      <td>0</td>\n",
       "      <td>0</td>\n",
       "      <td>0</td>\n",
       "      <td>0</td>\n",
       "    </tr>\n",
       "    <tr>\n",
       "      <th>3</th>\n",
       "      <td>4</td>\n",
       "      <td>138628</td>\n",
       "      <td>10141</td>\n",
       "      <td>66</td>\n",
       "      <td>NaN</td>\n",
       "      <td>0</td>\n",
       "      <td>Caucasian</td>\n",
       "      <td>M</td>\n",
       "      <td>177.8</td>\n",
       "      <td>Floor</td>\n",
       "      <td>...</td>\n",
       "      <td>NaN</td>\n",
       "      <td>NaN</td>\n",
       "      <td>NaN</td>\n",
       "      <td>0</td>\n",
       "      <td>0</td>\n",
       "      <td>0</td>\n",
       "      <td>0</td>\n",
       "      <td>0</td>\n",
       "      <td>0</td>\n",
       "      <td>0</td>\n",
       "    </tr>\n",
       "    <tr>\n",
       "      <th>4</th>\n",
       "      <td>5</td>\n",
       "      <td>141682</td>\n",
       "      <td>10141</td>\n",
       "      <td>89</td>\n",
       "      <td>NaN</td>\n",
       "      <td>0</td>\n",
       "      <td>Caucasian</td>\n",
       "      <td>M</td>\n",
       "      <td>170.2</td>\n",
       "      <td>Direct Admit</td>\n",
       "      <td>...</td>\n",
       "      <td>NaN</td>\n",
       "      <td>NaN</td>\n",
       "      <td>NaN</td>\n",
       "      <td>0</td>\n",
       "      <td>0</td>\n",
       "      <td>0</td>\n",
       "      <td>0</td>\n",
       "      <td>0</td>\n",
       "      <td>0</td>\n",
       "      <td>0</td>\n",
       "    </tr>\n",
       "  </tbody>\n",
       "</table>\n",
       "<p>5 rows × 180 columns</p>\n",
       "</div>"
      ],
      "text/plain": [
       "   Unnamed: 0  encounter_id  hospital_id  age  bmi  elective_surgery  \\\n",
       "0           1        144740        10141   72  NaN                 0   \n",
       "1           2        141990        10141   86  NaN                 0   \n",
       "2           3        142038        10141   72  NaN                 0   \n",
       "3           4        138628        10141   66  NaN                 0   \n",
       "4           5        141682        10141   89  NaN                 0   \n",
       "\n",
       "   ethnicity gender  height hospital_admit_source  ... h1_arterial_po2_min  \\\n",
       "0  Caucasian      F   152.4                 Floor  ...                 NaN   \n",
       "1  Caucasian      F   175.3  Emergency Department  ...                 NaN   \n",
       "2  Caucasian      F   162.6                 Floor  ...                 NaN   \n",
       "3  Caucasian      M   177.8                 Floor  ...                 NaN   \n",
       "4  Caucasian      M   170.2          Direct Admit  ...                 NaN   \n",
       "\n",
       "   h1_pao2fio2ratio_max h1_pao2fio2ratio_min aids  cirrhosis  hepatic_failure  \\\n",
       "0                   NaN                  NaN    0          0                0   \n",
       "1                   NaN                  NaN    0          0                0   \n",
       "2                   NaN                  NaN    0          0                0   \n",
       "3                   NaN                  NaN    0          0                0   \n",
       "4                   NaN                  NaN    0          0                0   \n",
       "\n",
       "   immunosuppression  leukemia  lymphoma  solid_tumor_with_metastasis  \n",
       "0                  0         0         0                            0  \n",
       "1                  0         0         0                            0  \n",
       "2                  0         0         0                            0  \n",
       "3                  0         0         0                            0  \n",
       "4                  0         0         0                            0  \n",
       "\n",
       "[5 rows x 180 columns]"
      ]
     },
     "execution_count": 10,
     "metadata": {},
     "output_type": "execute_result"
    }
   ],
   "source": [
    "test.head()"
   ]
  },
  {
   "cell_type": "code",
   "execution_count": 11,
   "metadata": {
    "execution": {
     "iopub.execute_input": "2021-02-09T07:00:00.646597Z",
     "iopub.status.busy": "2021-02-09T07:00:00.645619Z",
     "iopub.status.idle": "2021-02-09T07:00:00.649208Z",
     "shell.execute_reply": "2021-02-09T07:00:00.649725Z"
    },
    "papermill": {
     "duration": 0.046022,
     "end_time": "2021-02-09T07:00:00.649950",
     "exception": false,
     "start_time": "2021-02-09T07:00:00.603928",
     "status": "completed"
    },
    "tags": []
   },
   "outputs": [
    {
     "name": "stdout",
     "output_type": "stream",
     "text": [
      "(130157, 181)\n",
      "(10234, 180)\n"
     ]
    }
   ],
   "source": [
    "print(df.shape)\n",
    "print(test.shape)"
   ]
  },
  {
   "cell_type": "code",
   "execution_count": 12,
   "metadata": {
    "execution": {
     "iopub.execute_input": "2021-02-09T07:00:00.799407Z",
     "iopub.status.busy": "2021-02-09T07:00:00.798707Z",
     "iopub.status.idle": "2021-02-09T07:00:01.935268Z",
     "shell.execute_reply": "2021-02-09T07:00:01.934722Z"
    },
    "papermill": {
     "duration": 1.248421,
     "end_time": "2021-02-09T07:00:01.935431",
     "exception": false,
     "start_time": "2021-02-09T07:00:00.687010",
     "status": "completed"
    },
    "tags": []
   },
   "outputs": [
    {
     "data": {
      "text/html": [
       "<div>\n",
       "<style scoped>\n",
       "    .dataframe tbody tr th:only-of-type {\n",
       "        vertical-align: middle;\n",
       "    }\n",
       "\n",
       "    .dataframe tbody tr th {\n",
       "        vertical-align: top;\n",
       "    }\n",
       "\n",
       "    .dataframe thead th {\n",
       "        text-align: right;\n",
       "    }\n",
       "</style>\n",
       "<table border=\"1\" class=\"dataframe\">\n",
       "  <thead>\n",
       "    <tr style=\"text-align: right;\">\n",
       "      <th></th>\n",
       "      <th>Unnamed: 0</th>\n",
       "      <th>encounter_id</th>\n",
       "      <th>hospital_id</th>\n",
       "      <th>age</th>\n",
       "      <th>bmi</th>\n",
       "      <th>elective_surgery</th>\n",
       "      <th>height</th>\n",
       "      <th>icu_id</th>\n",
       "      <th>pre_icu_los_days</th>\n",
       "      <th>readmission_status</th>\n",
       "      <th>...</th>\n",
       "      <th>h1_pao2fio2ratio_max</th>\n",
       "      <th>h1_pao2fio2ratio_min</th>\n",
       "      <th>aids</th>\n",
       "      <th>cirrhosis</th>\n",
       "      <th>hepatic_failure</th>\n",
       "      <th>immunosuppression</th>\n",
       "      <th>leukemia</th>\n",
       "      <th>lymphoma</th>\n",
       "      <th>solid_tumor_with_metastasis</th>\n",
       "      <th>diabetes_mellitus</th>\n",
       "    </tr>\n",
       "  </thead>\n",
       "  <tbody>\n",
       "    <tr>\n",
       "      <th>count</th>\n",
       "      <td>130157.000000</td>\n",
       "      <td>130157.000000</td>\n",
       "      <td>130157.000000</td>\n",
       "      <td>125169.000000</td>\n",
       "      <td>125667.000000</td>\n",
       "      <td>130157.000000</td>\n",
       "      <td>128080.000000</td>\n",
       "      <td>130157.000000</td>\n",
       "      <td>130157.000000</td>\n",
       "      <td>130157.0</td>\n",
       "      <td>...</td>\n",
       "      <td>16760.000000</td>\n",
       "      <td>16760.000000</td>\n",
       "      <td>130157.00000</td>\n",
       "      <td>130157.000000</td>\n",
       "      <td>130157.000000</td>\n",
       "      <td>130157.000000</td>\n",
       "      <td>130157.000000</td>\n",
       "      <td>130157.000000</td>\n",
       "      <td>130157.000000</td>\n",
       "      <td>130157.000000</td>\n",
       "    </tr>\n",
       "    <tr>\n",
       "      <th>mean</th>\n",
       "      <td>65079.000000</td>\n",
       "      <td>213000.856519</td>\n",
       "      <td>106.102131</td>\n",
       "      <td>61.995103</td>\n",
       "      <td>29.110260</td>\n",
       "      <td>0.189840</td>\n",
       "      <td>169.607219</td>\n",
       "      <td>662.428344</td>\n",
       "      <td>0.839933</td>\n",
       "      <td>0.0</td>\n",
       "      <td>...</td>\n",
       "      <td>247.525419</td>\n",
       "      <td>239.617358</td>\n",
       "      <td>0.00103</td>\n",
       "      <td>0.016081</td>\n",
       "      <td>0.013599</td>\n",
       "      <td>0.025669</td>\n",
       "      <td>0.007307</td>\n",
       "      <td>0.004187</td>\n",
       "      <td>0.020852</td>\n",
       "      <td>0.216285</td>\n",
       "    </tr>\n",
       "    <tr>\n",
       "      <th>std</th>\n",
       "      <td>37573.233831</td>\n",
       "      <td>38109.828146</td>\n",
       "      <td>63.482277</td>\n",
       "      <td>16.822880</td>\n",
       "      <td>8.262776</td>\n",
       "      <td>0.392176</td>\n",
       "      <td>10.833085</td>\n",
       "      <td>304.259843</td>\n",
       "      <td>2.485337</td>\n",
       "      <td>0.0</td>\n",
       "      <td>...</td>\n",
       "      <td>131.440167</td>\n",
       "      <td>128.562211</td>\n",
       "      <td>0.03207</td>\n",
       "      <td>0.125786</td>\n",
       "      <td>0.115819</td>\n",
       "      <td>0.158146</td>\n",
       "      <td>0.085166</td>\n",
       "      <td>0.064574</td>\n",
       "      <td>0.142888</td>\n",
       "      <td>0.411712</td>\n",
       "    </tr>\n",
       "    <tr>\n",
       "      <th>min</th>\n",
       "      <td>1.000000</td>\n",
       "      <td>147000.000000</td>\n",
       "      <td>1.000000</td>\n",
       "      <td>0.000000</td>\n",
       "      <td>14.844926</td>\n",
       "      <td>0.000000</td>\n",
       "      <td>137.200000</td>\n",
       "      <td>82.000000</td>\n",
       "      <td>-0.250000</td>\n",
       "      <td>0.0</td>\n",
       "      <td>...</td>\n",
       "      <td>42.000000</td>\n",
       "      <td>38.000000</td>\n",
       "      <td>0.00000</td>\n",
       "      <td>0.000000</td>\n",
       "      <td>0.000000</td>\n",
       "      <td>0.000000</td>\n",
       "      <td>0.000000</td>\n",
       "      <td>0.000000</td>\n",
       "      <td>0.000000</td>\n",
       "      <td>0.000000</td>\n",
       "    </tr>\n",
       "    <tr>\n",
       "      <th>25%</th>\n",
       "      <td>32540.000000</td>\n",
       "      <td>180001.000000</td>\n",
       "      <td>49.000000</td>\n",
       "      <td>52.000000</td>\n",
       "      <td>23.598006</td>\n",
       "      <td>0.000000</td>\n",
       "      <td>162.500000</td>\n",
       "      <td>427.000000</td>\n",
       "      <td>0.045833</td>\n",
       "      <td>0.0</td>\n",
       "      <td>...</td>\n",
       "      <td>144.000000</td>\n",
       "      <td>138.000000</td>\n",
       "      <td>0.00000</td>\n",
       "      <td>0.000000</td>\n",
       "      <td>0.000000</td>\n",
       "      <td>0.000000</td>\n",
       "      <td>0.000000</td>\n",
       "      <td>0.000000</td>\n",
       "      <td>0.000000</td>\n",
       "      <td>0.000000</td>\n",
       "    </tr>\n",
       "    <tr>\n",
       "      <th>50%</th>\n",
       "      <td>65079.000000</td>\n",
       "      <td>213014.000000</td>\n",
       "      <td>112.000000</td>\n",
       "      <td>64.000000</td>\n",
       "      <td>27.564749</td>\n",
       "      <td>0.000000</td>\n",
       "      <td>170.100000</td>\n",
       "      <td>653.000000</td>\n",
       "      <td>0.155556</td>\n",
       "      <td>0.0</td>\n",
       "      <td>...</td>\n",
       "      <td>228.125000</td>\n",
       "      <td>218.750000</td>\n",
       "      <td>0.00000</td>\n",
       "      <td>0.000000</td>\n",
       "      <td>0.000000</td>\n",
       "      <td>0.000000</td>\n",
       "      <td>0.000000</td>\n",
       "      <td>0.000000</td>\n",
       "      <td>0.000000</td>\n",
       "      <td>0.000000</td>\n",
       "    </tr>\n",
       "    <tr>\n",
       "      <th>75%</th>\n",
       "      <td>97618.000000</td>\n",
       "      <td>246002.000000</td>\n",
       "      <td>165.000000</td>\n",
       "      <td>75.000000</td>\n",
       "      <td>32.803127</td>\n",
       "      <td>0.000000</td>\n",
       "      <td>177.800000</td>\n",
       "      <td>969.000000</td>\n",
       "      <td>0.423611</td>\n",
       "      <td>0.0</td>\n",
       "      <td>...</td>\n",
       "      <td>333.000000</td>\n",
       "      <td>324.000000</td>\n",
       "      <td>0.00000</td>\n",
       "      <td>0.000000</td>\n",
       "      <td>0.000000</td>\n",
       "      <td>0.000000</td>\n",
       "      <td>0.000000</td>\n",
       "      <td>0.000000</td>\n",
       "      <td>0.000000</td>\n",
       "      <td>0.000000</td>\n",
       "    </tr>\n",
       "    <tr>\n",
       "      <th>max</th>\n",
       "      <td>130157.000000</td>\n",
       "      <td>279000.000000</td>\n",
       "      <td>204.000000</td>\n",
       "      <td>89.000000</td>\n",
       "      <td>67.814990</td>\n",
       "      <td>1.000000</td>\n",
       "      <td>195.590000</td>\n",
       "      <td>1111.000000</td>\n",
       "      <td>175.627778</td>\n",
       "      <td>0.0</td>\n",
       "      <td>...</td>\n",
       "      <td>720.000000</td>\n",
       "      <td>654.813793</td>\n",
       "      <td>1.00000</td>\n",
       "      <td>1.000000</td>\n",
       "      <td>1.000000</td>\n",
       "      <td>1.000000</td>\n",
       "      <td>1.000000</td>\n",
       "      <td>1.000000</td>\n",
       "      <td>1.000000</td>\n",
       "      <td>1.000000</td>\n",
       "    </tr>\n",
       "  </tbody>\n",
       "</table>\n",
       "<p>8 rows × 175 columns</p>\n",
       "</div>"
      ],
      "text/plain": [
       "          Unnamed: 0   encounter_id    hospital_id            age  \\\n",
       "count  130157.000000  130157.000000  130157.000000  125169.000000   \n",
       "mean    65079.000000  213000.856519     106.102131      61.995103   \n",
       "std     37573.233831   38109.828146      63.482277      16.822880   \n",
       "min         1.000000  147000.000000       1.000000       0.000000   \n",
       "25%     32540.000000  180001.000000      49.000000      52.000000   \n",
       "50%     65079.000000  213014.000000     112.000000      64.000000   \n",
       "75%     97618.000000  246002.000000     165.000000      75.000000   \n",
       "max    130157.000000  279000.000000     204.000000      89.000000   \n",
       "\n",
       "                 bmi  elective_surgery         height         icu_id  \\\n",
       "count  125667.000000     130157.000000  128080.000000  130157.000000   \n",
       "mean       29.110260          0.189840     169.607219     662.428344   \n",
       "std         8.262776          0.392176      10.833085     304.259843   \n",
       "min        14.844926          0.000000     137.200000      82.000000   \n",
       "25%        23.598006          0.000000     162.500000     427.000000   \n",
       "50%        27.564749          0.000000     170.100000     653.000000   \n",
       "75%        32.803127          0.000000     177.800000     969.000000   \n",
       "max        67.814990          1.000000     195.590000    1111.000000   \n",
       "\n",
       "       pre_icu_los_days  readmission_status  ...  h1_pao2fio2ratio_max  \\\n",
       "count     130157.000000            130157.0  ...          16760.000000   \n",
       "mean           0.839933                 0.0  ...            247.525419   \n",
       "std            2.485337                 0.0  ...            131.440167   \n",
       "min           -0.250000                 0.0  ...             42.000000   \n",
       "25%            0.045833                 0.0  ...            144.000000   \n",
       "50%            0.155556                 0.0  ...            228.125000   \n",
       "75%            0.423611                 0.0  ...            333.000000   \n",
       "max          175.627778                 0.0  ...            720.000000   \n",
       "\n",
       "       h1_pao2fio2ratio_min          aids      cirrhosis  hepatic_failure  \\\n",
       "count          16760.000000  130157.00000  130157.000000    130157.000000   \n",
       "mean             239.617358       0.00103       0.016081         0.013599   \n",
       "std              128.562211       0.03207       0.125786         0.115819   \n",
       "min               38.000000       0.00000       0.000000         0.000000   \n",
       "25%              138.000000       0.00000       0.000000         0.000000   \n",
       "50%              218.750000       0.00000       0.000000         0.000000   \n",
       "75%              324.000000       0.00000       0.000000         0.000000   \n",
       "max              654.813793       1.00000       1.000000         1.000000   \n",
       "\n",
       "       immunosuppression       leukemia       lymphoma  \\\n",
       "count      130157.000000  130157.000000  130157.000000   \n",
       "mean            0.025669       0.007307       0.004187   \n",
       "std             0.158146       0.085166       0.064574   \n",
       "min             0.000000       0.000000       0.000000   \n",
       "25%             0.000000       0.000000       0.000000   \n",
       "50%             0.000000       0.000000       0.000000   \n",
       "75%             0.000000       0.000000       0.000000   \n",
       "max             1.000000       1.000000       1.000000   \n",
       "\n",
       "       solid_tumor_with_metastasis  diabetes_mellitus  \n",
       "count                130157.000000      130157.000000  \n",
       "mean                      0.020852           0.216285  \n",
       "std                       0.142888           0.411712  \n",
       "min                       0.000000           0.000000  \n",
       "25%                       0.000000           0.000000  \n",
       "50%                       0.000000           0.000000  \n",
       "75%                       0.000000           0.000000  \n",
       "max                       1.000000           1.000000  \n",
       "\n",
       "[8 rows x 175 columns]"
      ]
     },
     "execution_count": 12,
     "metadata": {},
     "output_type": "execute_result"
    }
   ],
   "source": [
    "df.describe() # summary statistics for numeric features"
   ]
  },
  {
   "cell_type": "markdown",
   "metadata": {
    "papermill": {
     "duration": 0.037104,
     "end_time": "2021-02-09T07:00:02.010509",
     "exception": false,
     "start_time": "2021-02-09T07:00:01.973405",
     "status": "completed"
    },
    "tags": []
   },
   "source": [
    "#### Drop columns with all unique values or same value"
   ]
  },
  {
   "cell_type": "code",
   "execution_count": 13,
   "metadata": {
    "execution": {
     "iopub.execute_input": "2021-02-09T07:00:02.144741Z",
     "iopub.status.busy": "2021-02-09T07:00:02.144054Z",
     "iopub.status.idle": "2021-02-09T07:00:02.158194Z",
     "shell.execute_reply": "2021-02-09T07:00:02.157459Z"
    },
    "papermill": {
     "duration": 0.110527,
     "end_time": "2021-02-09T07:00:02.158429",
     "exception": false,
     "start_time": "2021-02-09T07:00:02.047902",
     "status": "completed"
    },
    "tags": []
   },
   "outputs": [],
   "source": [
    "df.drop(['Unnamed: 0', 'encounter_id', 'hospital_id', 'icu_id', 'readmission_status'], axis=1, inplace=True) #drop columns with all unique values\n",
    "test_ids = test.pop('encounter_id')  # ids required for submission\n",
    "test.drop(['Unnamed: 0'], axis=1, inplace=True) \n",
    "\n",
    "target = df['diabetes_mellitus']"
   ]
  },
  {
   "cell_type": "markdown",
   "metadata": {
    "papermill": {
     "duration": 0.037246,
     "end_time": "2021-02-09T07:00:02.233254",
     "exception": false,
     "start_time": "2021-02-09T07:00:02.196008",
     "status": "completed"
    },
    "tags": []
   },
   "source": [
    "# Missing values\n",
    "\n",
    "The data size is quite large, it has 130157 X 181 values. Let's see how many columns have missing values in terms of percentage."
   ]
  },
  {
   "cell_type": "code",
   "execution_count": 14,
   "metadata": {
    "execution": {
     "iopub.execute_input": "2021-02-09T07:00:02.313703Z",
     "iopub.status.busy": "2021-02-09T07:00:02.312547Z",
     "iopub.status.idle": "2021-02-09T07:00:05.687784Z",
     "shell.execute_reply": "2021-02-09T07:00:05.686923Z"
    },
    "papermill": {
     "duration": 3.417614,
     "end_time": "2021-02-09T07:00:05.688060",
     "exception": false,
     "start_time": "2021-02-09T07:00:02.270446",
     "status": "completed"
    },
    "tags": []
   },
   "outputs": [
    {
     "name": "stdout",
     "output_type": "stream",
     "text": [
      "(130157, 176)\n",
      "                  Feature  Missing Count  Missing Ratio  Filled Ratio\n",
      "0                     age           4988       3.832295     96.167705\n",
      "1                     bmi           4490       3.449680     96.550320\n",
      "2               ethnicity           1587       1.219297     98.780703\n",
      "3                  gender             66       0.050708     99.949292\n",
      "4                  height           2077       1.595765     98.404235\n",
      "..                    ...            ...            ...           ...\n",
      "155    h1_arterial_ph_min         107849      82.860699     17.139301\n",
      "156   h1_arterial_po2_max         107445      82.550305     17.449695\n",
      "157   h1_arterial_po2_min         107445      82.550305     17.449695\n",
      "158  h1_pao2fio2ratio_max         113397      87.123243     12.876757\n",
      "159  h1_pao2fio2ratio_min         113397      87.123243     12.876757\n",
      "\n",
      "[160 rows x 4 columns]\n",
      "Index(['Feature', 'Missing Count', 'Missing Ratio', 'Filled Ratio'], dtype='object')\n"
     ]
    },
    {
     "data": {
      "image/png": "[encoded data removed]",
      "text/plain": [
       "<Figure size 1296x432 with 1 Axes>"
      ]
     },
     "metadata": {
      "needs_background": "light"
     },
     "output_type": "display_data"
    }
   ],
   "source": [
    "missing_df = missingData(df)"
   ]
  },
  {
   "cell_type": "markdown",
   "metadata": {
    "papermill": {
     "duration": 0.04203,
     "end_time": "2021-02-09T07:00:05.771211",
     "exception": false,
     "start_time": "2021-02-09T07:00:05.729181",
     "status": "completed"
    },
    "tags": []
   },
   "source": [
    "Out of 181 columns, 160 have missing values. The proportion of missing values in some columns is more than 80%. Clearly, missing values is a major issue with this data which needs to be fixed."
   ]
  },
  {
   "cell_type": "markdown",
   "metadata": {
    "papermill": {
     "duration": 0.039451,
     "end_time": "2021-02-09T07:00:05.850458",
     "exception": false,
     "start_time": "2021-02-09T07:00:05.811007",
     "status": "completed"
    },
    "tags": []
   },
   "source": [
    "# Addressing null values\n",
    "\n",
    "The data has 160 columns with null values in varying proportions. However, it is important to retain as many features as possible for building a good predictive model. In order to minimize loss of data or introduction of arbitrary values, I will use sklearn's iterative imputer to impute missing values based on existing non-null features. I will do this in a phased manner as mentioned below.\n",
    "* Start with only non-null features, train model on these features, evaluate roc-auc score on test data\n",
    "* Add features with less than 5% missing values to initial non-null data, impute missing values using iterative imputer, train model and evaluate roc-auc score on test data\n",
    "* Add features with missing values between 5% - 10% to latest data (result of previous step), impute missing values, train model and evaluate\n",
    "* Add features with additional 5% missing data to existing data at each stage, impute, train and evaluate. Repeat these steps until there is no further improvement in roc-auc score of test data. At this point it is probable that a lot of data has been added through imputation and adding further data doesn't help the model learn relationships between the independent variables and the dependent variable"
   ]
  },
  {
   "cell_type": "markdown",
   "metadata": {
    "papermill": {
     "duration": 0.040157,
     "end_time": "2021-02-09T07:00:05.931181",
     "exception": false,
     "start_time": "2021-02-09T07:00:05.891024",
     "status": "completed"
    },
    "tags": []
   },
   "source": [
    "## **df_non_null**: only non-null features"
   ]
  },
  {
   "cell_type": "code",
   "execution_count": 15,
   "metadata": {
    "execution": {
     "iopub.execute_input": "2021-02-09T07:00:06.016593Z",
     "iopub.status.busy": "2021-02-09T07:00:06.015895Z",
     "iopub.status.idle": "2021-02-09T07:00:06.196250Z",
     "shell.execute_reply": "2021-02-09T07:00:06.196706Z"
    },
    "papermill": {
     "duration": 0.22382,
     "end_time": "2021-02-09T07:00:06.196916",
     "exception": false,
     "start_time": "2021-02-09T07:00:05.973096",
     "status": "completed"
    },
    "tags": []
   },
   "outputs": [
    {
     "name": "stdout",
     "output_type": "stream",
     "text": [
      "Shape: (130157, 15); Null values: 0\n",
      "Columns: Index(['elective_surgery', 'icu_stay_type', 'icu_type', 'pre_icu_los_days',\n",
      "       'apache_post_operative', 'arf_apache', 'intubated_apache',\n",
      "       'ventilated_apache', 'aids', 'cirrhosis', 'hepatic_failure',\n",
      "       'immunosuppression', 'leukemia', 'lymphoma',\n",
      "       'solid_tumor_with_metastasis'],\n",
      "      dtype='object') \n",
      "Columns of object type: Index(['icu_stay_type', 'icu_type'], dtype='object')\n"
     ]
    }
   ],
   "source": [
    "df_non_null = df.dropna(axis=1) #drop all columns with missing values\n",
    "df_non_null.drop('diabetes_mellitus', axis=1, inplace=True)\n",
    "printDFDetails(df_non_null)"
   ]
  },
  {
   "cell_type": "code",
   "execution_count": 16,
   "metadata": {
    "execution": {
     "iopub.execute_input": "2021-02-09T07:00:06.289168Z",
     "iopub.status.busy": "2021-02-09T07:00:06.288421Z",
     "iopub.status.idle": "2021-02-09T07:00:06.348547Z",
     "shell.execute_reply": "2021-02-09T07:00:06.347879Z"
    },
    "papermill": {
     "duration": 0.111345,
     "end_time": "2021-02-09T07:00:06.348690",
     "exception": false,
     "start_time": "2021-02-09T07:00:06.237345",
     "status": "completed"
    },
    "tags": []
   },
   "outputs": [
    {
     "name": "stdout",
     "output_type": "stream",
     "text": [
      "                count\n",
      "icu_stay_type        \n",
      "admit          124741\n",
      "readmit           615\n",
      "transfer         4801\n",
      "              count\n",
      "icu_type           \n",
      "CCU-CTICU     11220\n",
      "CSICU          4981\n",
      "CTICU          4477\n",
      "Cardiac ICU    8276\n",
      "MICU          10944\n",
      "Med-Surg ICU  71468\n",
      "Neuro ICU     10533\n",
      "SICU           8258\n"
     ]
    }
   ],
   "source": [
    "printDFGroups(df_non_null, ['icu_stay_type', 'icu_type'])"
   ]
  },
  {
   "cell_type": "markdown",
   "metadata": {
    "papermill": {
     "duration": 0.041527,
     "end_time": "2021-02-09T07:00:06.431497",
     "exception": false,
     "start_time": "2021-02-09T07:00:06.389970",
     "status": "completed"
    },
    "tags": []
   },
   "source": [
    "All features are required to be of int or float datatype for the purpose of imputing or modeling. Hence, convert icu_stay_type and icu_type from string to int dytpe. LabelEncoder is a useful method for this purpose, however in this case there are some new labels in test set which are not present in train set. So if we try to fit the encoder on train set and use it to transform the test set using sklearn's LabelEncoder class, we will see a value error. To overcome this issue, I'm defining a new label encoder class that will append a new label 'Unknown' to the existing labels at the time of fitting. When the encoder encounters a previously unseen value, it simply assigns the Unknown label to it."
   ]
  },
  {
   "cell_type": "code",
   "execution_count": 17,
   "metadata": {
    "execution": {
     "iopub.execute_input": "2021-02-09T07:00:06.520169Z",
     "iopub.status.busy": "2021-02-09T07:00:06.519489Z",
     "iopub.status.idle": "2021-02-09T07:00:06.575911Z",
     "shell.execute_reply": "2021-02-09T07:00:06.576411Z"
    },
    "papermill": {
     "duration": 0.104126,
     "end_time": "2021-02-09T07:00:06.576611",
     "exception": false,
     "start_time": "2021-02-09T07:00:06.472485",
     "status": "completed"
    },
    "tags": []
   },
   "outputs": [
    {
     "name": "stdout",
     "output_type": "stream",
     "text": [
      "Shape: (130157, 22); Null values: 0\n",
      "Columns: Index(['elective_surgery', 'pre_icu_los_days', 'apache_post_operative',\n",
      "       'arf_apache', 'intubated_apache', 'ventilated_apache', 'aids',\n",
      "       'cirrhosis', 'hepatic_failure', 'immunosuppression', 'leukemia',\n",
      "       'lymphoma', 'solid_tumor_with_metastasis', 'icu_stay_type_readmit',\n",
      "       'icu_stay_type_transfer', 'icu_type_CSICU', 'icu_type_CTICU',\n",
      "       'icu_type_Cardiac ICU', 'icu_type_MICU', 'icu_type_Med-Surg ICU',\n",
      "       'icu_type_Neuro ICU', 'icu_type_SICU'],\n",
      "      dtype='object') \n",
      "Columns of object type: Index([], dtype='object')\n"
     ]
    }
   ],
   "source": [
    "df_non_null_m = pd.get_dummies(df_non_null, prefix = ['icu_stay_type','icu_type'], drop_first=True)\n",
    "printDFDetails(df_non_null_m)"
   ]
  },
  {
   "cell_type": "code",
   "execution_count": 18,
   "metadata": {
    "execution": {
     "iopub.execute_input": "2021-02-09T07:00:06.666469Z",
     "iopub.status.busy": "2021-02-09T07:00:06.665763Z",
     "iopub.status.idle": "2021-02-09T07:00:27.067627Z",
     "shell.execute_reply": "2021-02-09T07:00:27.067107Z"
    },
    "papermill": {
     "duration": 20.449048,
     "end_time": "2021-02-09T07:00:27.067775",
     "exception": false,
     "start_time": "2021-02-09T07:00:06.618727",
     "status": "completed"
    },
    "tags": []
   },
   "outputs": [
    {
     "name": "stdout",
     "output_type": "stream",
     "text": [
      "[07:00:06] WARNING: ../src/learner.cc:1061: Starting in XGBoost 1.3.0, the default evaluation metric used with the objective 'binary:logistic' was changed from 'error' to 'logloss'. Explicitly set eval_metric if you'd like to restore the old behavior.\n",
      "train auc 0.5159501603723988\n",
      "test auc 0.5108215467555226\n",
      "Time taken: 0:00:20.396606\n"
     ]
    }
   ],
   "source": [
    "compute_roc_auc(train_test_split, df_non_null_m, target)"
   ]
  },
  {
   "cell_type": "markdown",
   "metadata": {
    "papermill": {
     "duration": 0.041676,
     "end_time": "2021-02-09T07:00:27.151516",
     "exception": false,
     "start_time": "2021-02-09T07:00:27.109840",
     "status": "completed"
    },
    "tags": []
   },
   "source": [
    "## df_5: Select columns which have missing data <= 5% - Iterative Imputer\n",
    "**Imputation strategy:**\n",
    "- Categorical variables: Simple Imputer (most-frequent)\n",
    "- Continuous variables: Iterative Imputer"
   ]
  },
  {
   "cell_type": "code",
   "execution_count": 19,
   "metadata": {
    "execution": {
     "iopub.execute_input": "2021-02-09T07:00:27.263165Z",
     "iopub.status.busy": "2021-02-09T07:00:27.262153Z",
     "iopub.status.idle": "2021-02-09T07:00:27.437006Z",
     "shell.execute_reply": "2021-02-09T07:00:27.436295Z"
    },
    "papermill": {
     "duration": 0.243419,
     "end_time": "2021-02-09T07:00:27.437152",
     "exception": false,
     "start_time": "2021-02-09T07:00:27.193733",
     "status": "completed"
    },
    "tags": []
   },
   "outputs": [
    {
     "name": "stdout",
     "output_type": "stream",
     "text": [
      "Features with missing data <= 5% 46\n",
      "Shape: (130157, 61); Null values: 108575\n",
      "Columns: Index(['elective_surgery', 'icu_stay_type', 'icu_type', 'pre_icu_los_days',\n",
      "       'apache_post_operative', 'arf_apache', 'intubated_apache',\n",
      "       'ventilated_apache', 'aids', 'cirrhosis', 'hepatic_failure',\n",
      "       'immunosuppression', 'leukemia', 'lymphoma',\n",
      "       'solid_tumor_with_metastasis', 'age', 'bmi', 'ethnicity', 'gender',\n",
      "       'height', 'icu_admit_source', 'weight', 'apache_2_diagnosis',\n",
      "       'apache_3j_diagnosis', 'gcs_eyes_apache', 'gcs_motor_apache',\n",
      "       'gcs_unable_apache', 'gcs_verbal_apache', 'heart_rate_apache',\n",
      "       'map_apache', 'resprate_apache', 'd1_diasbp_max', 'd1_diasbp_min',\n",
      "       'd1_diasbp_noninvasive_max', 'd1_diasbp_noninvasive_min',\n",
      "       'd1_heartrate_max', 'd1_heartrate_min', 'd1_mbp_max', 'd1_mbp_min',\n",
      "       'd1_mbp_noninvasive_max', 'd1_mbp_noninvasive_min', 'd1_resprate_max',\n",
      "       'd1_resprate_min', 'd1_spo2_max', 'd1_spo2_min', 'd1_sysbp_max',\n",
      "       'd1_sysbp_min', 'd1_sysbp_noninvasive_max', 'd1_sysbp_noninvasive_min',\n",
      "       'd1_temp_max', 'd1_temp_min', 'h1_diasbp_max', 'h1_diasbp_min',\n",
      "       'h1_heartrate_max', 'h1_heartrate_min', 'h1_resprate_max',\n",
      "       'h1_resprate_min', 'h1_spo2_max', 'h1_spo2_min', 'h1_sysbp_max',\n",
      "       'h1_sysbp_min'],\n",
      "      dtype='object') \n",
      "Columns of object type: Index(['icu_stay_type', 'icu_type', 'ethnicity', 'gender', 'icu_admit_source'], dtype='object')\n"
     ]
    }
   ],
   "source": [
    "cols_5 = missing_df[missing_df['Missing Ratio']<5]['Feature'] # get names of columns with less than 5% missing values\n",
    "print(\"Features with missing data <= 5%\", len(cols_5))\n",
    "df_5 = pd.concat([df_non_null, df[cols_5]], axis=1) # concatenate new table with existing non-null values table\n",
    "printDFDetails(df_5)"
   ]
  },
  {
   "cell_type": "code",
   "execution_count": 20,
   "metadata": {
    "execution": {
     "iopub.execute_input": "2021-02-09T07:00:27.583755Z",
     "iopub.status.busy": "2021-02-09T07:00:27.582293Z",
     "iopub.status.idle": "2021-02-09T07:00:43.678040Z",
     "shell.execute_reply": "2021-02-09T07:00:43.677495Z"
    },
    "papermill": {
     "duration": 16.197787,
     "end_time": "2021-02-09T07:00:43.678193",
     "exception": false,
     "start_time": "2021-02-09T07:00:27.480406",
     "status": "completed"
    },
    "tags": []
   },
   "outputs": [
    {
     "name": "stdout",
     "output_type": "stream",
     "text": [
      "Unique values:  ethnicity ['Caucasian' nan 'Hispanic' 'African American' 'Asian' 'Native American'\n",
      " 'Other/Unknown'] gender ['M' 'F' nan] icu_admit_source ['Floor' 'Accident & Emergency' 'Operating Room / Recovery'\n",
      " 'Other Hospital' 'Other ICU' nan] \n",
      "ethnicity ['Caucasian' 'Hispanic' 'African American' 'Asian' 'Native American'\n",
      " 'Other/Unknown'] gender ['M' 'F'] icu_admit_source ['Floor' 'Accident & Emergency' 'Operating Room / Recovery'\n",
      " 'Other Hospital' 'Other ICU'] \n"
     ]
    }
   ],
   "source": [
    "obj_cols_missing_5 = ['ethnicity','gender','icu_admit_source']\n",
    "obj_cols_5 = obj_cols_missing_5 + ['icu_stay_type', 'icu_type']\n",
    "df_5, test = imputeSimple(df_5, test, obj_cols_missing_5)"
   ]
  },
  {
   "cell_type": "code",
   "execution_count": 21,
   "metadata": {
    "execution": {
     "iopub.execute_input": "2021-02-09T07:00:43.773157Z",
     "iopub.status.busy": "2021-02-09T07:00:43.772174Z",
     "iopub.status.idle": "2021-02-09T07:00:43.823774Z",
     "shell.execute_reply": "2021-02-09T07:00:43.824295Z"
    },
    "papermill": {
     "duration": 0.102725,
     "end_time": "2021-02-09T07:00:43.824512",
     "exception": false,
     "start_time": "2021-02-09T07:00:43.721787",
     "status": "completed"
    },
    "tags": []
   },
   "outputs": [
    {
     "name": "stdout",
     "output_type": "stream",
     "text": [
      "Shape: (130157, 3); Null values: 0\n",
      "Columns: Index(['ethnicity', 'gender', 'icu_admit_source'], dtype='object') \n",
      "Columns of object type: Index(['ethnicity', 'gender', 'icu_admit_source'], dtype='object')\n"
     ]
    }
   ],
   "source": [
    "printDFDetails(df_5[obj_cols_missing_5])"
   ]
  },
  {
   "cell_type": "code",
   "execution_count": 22,
   "metadata": {
    "execution": {
     "iopub.execute_input": "2021-02-09T07:00:43.925971Z",
     "iopub.status.busy": "2021-02-09T07:00:43.925236Z",
     "iopub.status.idle": "2021-02-09T07:00:44.012087Z",
     "shell.execute_reply": "2021-02-09T07:00:44.011531Z"
    },
    "papermill": {
     "duration": 0.14338,
     "end_time": "2021-02-09T07:00:44.012245",
     "exception": false,
     "start_time": "2021-02-09T07:00:43.868865",
     "status": "completed"
    },
    "tags": []
   },
   "outputs": [
    {
     "name": "stdout",
     "output_type": "stream",
     "text": [
      "                   count\n",
      "ethnicity               \n",
      "African American   13911\n",
      "Asian               2198\n",
      "Caucasian         101823\n",
      "Hispanic            5049\n",
      "Native American      915\n",
      "Other/Unknown       6261\n",
      "        count\n",
      "gender       \n",
      "F       59573\n",
      "M       70584\n",
      "                           count\n",
      "icu_admit_source                \n",
      "Accident & Emergency       77086\n",
      "Floor                      21459\n",
      "Operating Room / Recovery  27436\n",
      "Other Hospital              3464\n",
      "Other ICU                    712\n"
     ]
    }
   ],
   "source": [
    "printDFGroups(df_5, obj_cols_missing_5)"
   ]
  },
  {
   "cell_type": "code",
   "execution_count": 23,
   "metadata": {
    "execution": {
     "iopub.execute_input": "2021-02-09T07:00:44.110038Z",
     "iopub.status.busy": "2021-02-09T07:00:44.109292Z",
     "iopub.status.idle": "2021-02-09T07:00:44.112051Z",
     "shell.execute_reply": "2021-02-09T07:00:44.112507Z"
    },
    "papermill": {
     "duration": 0.056052,
     "end_time": "2021-02-09T07:00:44.112682",
     "exception": false,
     "start_time": "2021-02-09T07:00:44.056630",
     "status": "completed"
    },
    "tags": []
   },
   "outputs": [],
   "source": [
    "label_encoders = {}\n",
    "\n",
    "# Convert categories/labels to numeric values.\n",
    "# Note: This should be used only for iterative imputation\n",
    "def encodeCategories(df, cols):\n",
    "    for col in cols:\n",
    "        le = LabelEncoderExt()\n",
    "        le.fit(df[col])\n",
    "        print(le.classes_)\n",
    "        label_encoders[col] = le\n",
    "        df[col] = le.transform(df[col])\n",
    "\n",
    "    return df\n",
    "\n",
    "# Convert numeric values to categories/labels\n",
    "def decodeCategories(df, cols):\n",
    "    for col in cols:\n",
    "        print(type(label_encoders[col]))\n",
    "        df[col] = df[col].astype(int)\n",
    "        df[[col]] = label_encoders[col].inverse_transform(df[[col]])\n",
    "        \n",
    "    return df"
   ]
  },
  {
   "cell_type": "code",
   "execution_count": 24,
   "metadata": {
    "execution": {
     "iopub.execute_input": "2021-02-09T07:00:44.240306Z",
     "iopub.status.busy": "2021-02-09T07:00:44.239557Z",
     "iopub.status.idle": "2021-02-09T07:00:45.810789Z",
     "shell.execute_reply": "2021-02-09T07:00:45.811316Z"
    },
    "papermill": {
     "duration": 1.654027,
     "end_time": "2021-02-09T07:00:45.811505",
     "exception": false,
     "start_time": "2021-02-09T07:00:44.157478",
     "status": "completed"
    },
    "tags": []
   },
   "outputs": [
    {
     "name": "stdout",
     "output_type": "stream",
     "text": [
      "['African American' 'Asian' 'Caucasian' 'Hispanic' 'Native American'\n",
      " 'Other/Unknown' 'Unknown']\n",
      "['F' 'M' 'Unknown']\n",
      "['Accident & Emergency' 'Floor' 'Operating Room / Recovery'\n",
      " 'Other Hospital' 'Other ICU' 'Unknown']\n",
      "['Unknown' 'admit' 'readmit' 'transfer']\n",
      "['CCU-CTICU' 'CSICU' 'CTICU' 'Cardiac ICU' 'MICU' 'Med-Surg ICU'\n",
      " 'Neuro ICU' 'SICU' 'Unknown']\n"
     ]
    }
   ],
   "source": [
    "df_5 = encodeCategories(df_5, obj_cols_5)"
   ]
  },
  {
   "cell_type": "code",
   "execution_count": 25,
   "metadata": {
    "execution": {
     "iopub.execute_input": "2021-02-09T07:00:45.910069Z",
     "iopub.status.busy": "2021-02-09T07:00:45.909315Z",
     "iopub.status.idle": "2021-02-09T07:00:45.945464Z",
     "shell.execute_reply": "2021-02-09T07:00:45.944668Z"
    },
    "papermill": {
     "duration": 0.087032,
     "end_time": "2021-02-09T07:00:45.945657",
     "exception": false,
     "start_time": "2021-02-09T07:00:45.858625",
     "status": "completed"
    },
    "tags": []
   },
   "outputs": [
    {
     "name": "stdout",
     "output_type": "stream",
     "text": [
      "Shape: (130157, 61); Null values: 106682\n",
      "Columns: Index(['elective_surgery', 'icu_stay_type', 'icu_type', 'pre_icu_los_days',\n",
      "       'apache_post_operative', 'arf_apache', 'intubated_apache',\n",
      "       'ventilated_apache', 'aids', 'cirrhosis', 'hepatic_failure',\n",
      "       'immunosuppression', 'leukemia', 'lymphoma',\n",
      "       'solid_tumor_with_metastasis', 'age', 'bmi', 'ethnicity', 'gender',\n",
      "       'height', 'icu_admit_source', 'weight', 'apache_2_diagnosis',\n",
      "       'apache_3j_diagnosis', 'gcs_eyes_apache', 'gcs_motor_apache',\n",
      "       'gcs_unable_apache', 'gcs_verbal_apache', 'heart_rate_apache',\n",
      "       'map_apache', 'resprate_apache', 'd1_diasbp_max', 'd1_diasbp_min',\n",
      "       'd1_diasbp_noninvasive_max', 'd1_diasbp_noninvasive_min',\n",
      "       'd1_heartrate_max', 'd1_heartrate_min', 'd1_mbp_max', 'd1_mbp_min',\n",
      "       'd1_mbp_noninvasive_max', 'd1_mbp_noninvasive_min', 'd1_resprate_max',\n",
      "       'd1_resprate_min', 'd1_spo2_max', 'd1_spo2_min', 'd1_sysbp_max',\n",
      "       'd1_sysbp_min', 'd1_sysbp_noninvasive_max', 'd1_sysbp_noninvasive_min',\n",
      "       'd1_temp_max', 'd1_temp_min', 'h1_diasbp_max', 'h1_diasbp_min',\n",
      "       'h1_heartrate_max', 'h1_heartrate_min', 'h1_resprate_max',\n",
      "       'h1_resprate_min', 'h1_spo2_max', 'h1_spo2_min', 'h1_sysbp_max',\n",
      "       'h1_sysbp_min'],\n",
      "      dtype='object') \n",
      "Columns of object type: Index([], dtype='object')\n"
     ]
    }
   ],
   "source": [
    "printDFDetails(df_5)"
   ]
  },
  {
   "cell_type": "code",
   "execution_count": 26,
   "metadata": {
    "execution": {
     "iopub.execute_input": "2021-02-09T07:00:46.050749Z",
     "iopub.status.busy": "2021-02-09T07:00:46.049200Z",
     "iopub.status.idle": "2021-02-09T07:07:41.711547Z",
     "shell.execute_reply": "2021-02-09T07:07:41.712065Z"
    },
    "papermill": {
     "duration": 415.71923,
     "end_time": "2021-02-09T07:07:41.712250",
     "exception": false,
     "start_time": "2021-02-09T07:00:45.993020",
     "status": "completed"
    },
    "tags": []
   },
   "outputs": [
    {
     "name": "stdout",
     "output_type": "stream",
     "text": [
      "IterativeImputer took 0:06:55.615753sec\n"
     ]
    }
   ],
   "source": [
    "tic = datetime.now()\n",
    "iter_imp = IterativeImputer(random_state=0) # instantiate IterativeImputer\n",
    "np_df_5 = iter_imp.fit_transform(df_5) # fit and transform the data\n",
    "df_5 = pd.DataFrame(np_df_5, columns=df_5.columns)\n",
    "toc = datetime.now()\n",
    "print(f\"IterativeImputer took {toc-tic}sec\")"
   ]
  },
  {
   "cell_type": "code",
   "execution_count": 27,
   "metadata": {
    "execution": {
     "iopub.execute_input": "2021-02-09T07:07:41.827994Z",
     "iopub.status.busy": "2021-02-09T07:07:41.827338Z",
     "iopub.status.idle": "2021-02-09T07:07:41.832307Z",
     "shell.execute_reply": "2021-02-09T07:07:41.831815Z"
    },
    "papermill": {
     "duration": 0.07292,
     "end_time": "2021-02-09T07:07:41.832445",
     "exception": false,
     "start_time": "2021-02-09T07:07:41.759525",
     "status": "completed"
    },
    "tags": []
   },
   "outputs": [
    {
     "data": {
      "text/html": [
       "<div>\n",
       "<style scoped>\n",
       "    .dataframe tbody tr th:only-of-type {\n",
       "        vertical-align: middle;\n",
       "    }\n",
       "\n",
       "    .dataframe tbody tr th {\n",
       "        vertical-align: top;\n",
       "    }\n",
       "\n",
       "    .dataframe thead th {\n",
       "        text-align: right;\n",
       "    }\n",
       "</style>\n",
       "<table border=\"1\" class=\"dataframe\">\n",
       "  <thead>\n",
       "    <tr style=\"text-align: right;\">\n",
       "      <th></th>\n",
       "      <th>ethnicity</th>\n",
       "      <th>gender</th>\n",
       "      <th>icu_admit_source</th>\n",
       "      <th>icu_stay_type</th>\n",
       "      <th>icu_type</th>\n",
       "    </tr>\n",
       "  </thead>\n",
       "  <tbody>\n",
       "    <tr>\n",
       "      <th>0</th>\n",
       "      <td>2.0</td>\n",
       "      <td>1.0</td>\n",
       "      <td>1.0</td>\n",
       "      <td>1.0</td>\n",
       "      <td>2.0</td>\n",
       "    </tr>\n",
       "    <tr>\n",
       "      <th>1</th>\n",
       "      <td>2.0</td>\n",
       "      <td>0.0</td>\n",
       "      <td>1.0</td>\n",
       "      <td>1.0</td>\n",
       "      <td>5.0</td>\n",
       "    </tr>\n",
       "    <tr>\n",
       "      <th>2</th>\n",
       "      <td>2.0</td>\n",
       "      <td>0.0</td>\n",
       "      <td>0.0</td>\n",
       "      <td>1.0</td>\n",
       "      <td>5.0</td>\n",
       "    </tr>\n",
       "    <tr>\n",
       "      <th>3</th>\n",
       "      <td>2.0</td>\n",
       "      <td>0.0</td>\n",
       "      <td>2.0</td>\n",
       "      <td>1.0</td>\n",
       "      <td>2.0</td>\n",
       "    </tr>\n",
       "    <tr>\n",
       "      <th>4</th>\n",
       "      <td>2.0</td>\n",
       "      <td>1.0</td>\n",
       "      <td>0.0</td>\n",
       "      <td>1.0</td>\n",
       "      <td>5.0</td>\n",
       "    </tr>\n",
       "    <tr>\n",
       "      <th>...</th>\n",
       "      <td>...</td>\n",
       "      <td>...</td>\n",
       "      <td>...</td>\n",
       "      <td>...</td>\n",
       "      <td>...</td>\n",
       "    </tr>\n",
       "    <tr>\n",
       "      <th>130152</th>\n",
       "      <td>2.0</td>\n",
       "      <td>1.0</td>\n",
       "      <td>0.0</td>\n",
       "      <td>1.0</td>\n",
       "      <td>3.0</td>\n",
       "    </tr>\n",
       "    <tr>\n",
       "      <th>130153</th>\n",
       "      <td>2.0</td>\n",
       "      <td>0.0</td>\n",
       "      <td>0.0</td>\n",
       "      <td>1.0</td>\n",
       "      <td>4.0</td>\n",
       "    </tr>\n",
       "    <tr>\n",
       "      <th>130154</th>\n",
       "      <td>0.0</td>\n",
       "      <td>1.0</td>\n",
       "      <td>0.0</td>\n",
       "      <td>1.0</td>\n",
       "      <td>3.0</td>\n",
       "    </tr>\n",
       "    <tr>\n",
       "      <th>130155</th>\n",
       "      <td>2.0</td>\n",
       "      <td>1.0</td>\n",
       "      <td>0.0</td>\n",
       "      <td>1.0</td>\n",
       "      <td>5.0</td>\n",
       "    </tr>\n",
       "    <tr>\n",
       "      <th>130156</th>\n",
       "      <td>0.0</td>\n",
       "      <td>1.0</td>\n",
       "      <td>0.0</td>\n",
       "      <td>1.0</td>\n",
       "      <td>4.0</td>\n",
       "    </tr>\n",
       "  </tbody>\n",
       "</table>\n",
       "<p>130157 rows × 5 columns</p>\n",
       "</div>"
      ],
      "text/plain": [
       "        ethnicity  gender  icu_admit_source  icu_stay_type  icu_type\n",
       "0             2.0     1.0               1.0            1.0       2.0\n",
       "1             2.0     0.0               1.0            1.0       5.0\n",
       "2             2.0     0.0               0.0            1.0       5.0\n",
       "3             2.0     0.0               2.0            1.0       2.0\n",
       "4             2.0     1.0               0.0            1.0       5.0\n",
       "...           ...     ...               ...            ...       ...\n",
       "130152        2.0     1.0               0.0            1.0       3.0\n",
       "130153        2.0     0.0               0.0            1.0       4.0\n",
       "130154        0.0     1.0               0.0            1.0       3.0\n",
       "130155        2.0     1.0               0.0            1.0       5.0\n",
       "130156        0.0     1.0               0.0            1.0       4.0\n",
       "\n",
       "[130157 rows x 5 columns]"
      ]
     },
     "execution_count": 27,
     "metadata": {},
     "output_type": "execute_result"
    }
   ],
   "source": [
    "df_5[obj_cols_5]"
   ]
  },
  {
   "cell_type": "code",
   "execution_count": 28,
   "metadata": {
    "execution": {
     "iopub.execute_input": "2021-02-09T07:07:41.932469Z",
     "iopub.status.busy": "2021-02-09T07:07:41.931876Z",
     "iopub.status.idle": "2021-02-09T07:07:42.181064Z",
     "shell.execute_reply": "2021-02-09T07:07:42.180512Z"
    },
    "papermill": {
     "duration": 0.300611,
     "end_time": "2021-02-09T07:07:42.181212",
     "exception": false,
     "start_time": "2021-02-09T07:07:41.880601",
     "status": "completed"
    },
    "tags": []
   },
   "outputs": [
    {
     "name": "stdout",
     "output_type": "stream",
     "text": [
      "<class '__main__.LabelEncoderExt'>\n",
      "<class '__main__.LabelEncoderExt'>\n",
      "<class '__main__.LabelEncoderExt'>\n",
      "<class '__main__.LabelEncoderExt'>\n",
      "<class '__main__.LabelEncoderExt'>\n"
     ]
    }
   ],
   "source": [
    "df_5 = decodeCategories(df_5, obj_cols_5)"
   ]
  },
  {
   "cell_type": "code",
   "execution_count": 29,
   "metadata": {
    "execution": {
     "iopub.execute_input": "2021-02-09T07:07:42.285971Z",
     "iopub.status.busy": "2021-02-09T07:07:42.284780Z",
     "iopub.status.idle": "2021-02-09T07:07:42.375361Z",
     "shell.execute_reply": "2021-02-09T07:07:42.374849Z"
    },
    "papermill": {
     "duration": 0.145822,
     "end_time": "2021-02-09T07:07:42.375506",
     "exception": false,
     "start_time": "2021-02-09T07:07:42.229684",
     "status": "completed"
    },
    "tags": []
   },
   "outputs": [
    {
     "data": {
      "text/html": [
       "<div>\n",
       "<style scoped>\n",
       "    .dataframe tbody tr th:only-of-type {\n",
       "        vertical-align: middle;\n",
       "    }\n",
       "\n",
       "    .dataframe tbody tr th {\n",
       "        vertical-align: top;\n",
       "    }\n",
       "\n",
       "    .dataframe thead th {\n",
       "        text-align: right;\n",
       "    }\n",
       "</style>\n",
       "<table border=\"1\" class=\"dataframe\">\n",
       "  <thead>\n",
       "    <tr style=\"text-align: right;\">\n",
       "      <th></th>\n",
       "      <th>elective_surgery</th>\n",
       "      <th>icu_stay_type</th>\n",
       "      <th>icu_type</th>\n",
       "      <th>pre_icu_los_days</th>\n",
       "      <th>apache_post_operative</th>\n",
       "      <th>arf_apache</th>\n",
       "      <th>intubated_apache</th>\n",
       "      <th>ventilated_apache</th>\n",
       "      <th>aids</th>\n",
       "      <th>cirrhosis</th>\n",
       "      <th>...</th>\n",
       "      <th>h1_diasbp_max</th>\n",
       "      <th>h1_diasbp_min</th>\n",
       "      <th>h1_heartrate_max</th>\n",
       "      <th>h1_heartrate_min</th>\n",
       "      <th>h1_resprate_max</th>\n",
       "      <th>h1_resprate_min</th>\n",
       "      <th>h1_spo2_max</th>\n",
       "      <th>h1_spo2_min</th>\n",
       "      <th>h1_sysbp_max</th>\n",
       "      <th>h1_sysbp_min</th>\n",
       "    </tr>\n",
       "  </thead>\n",
       "  <tbody>\n",
       "    <tr>\n",
       "      <th>0</th>\n",
       "      <td>0.0</td>\n",
       "      <td>admit</td>\n",
       "      <td>CTICU</td>\n",
       "      <td>0.541667</td>\n",
       "      <td>0.0</td>\n",
       "      <td>0.0</td>\n",
       "      <td>0.0</td>\n",
       "      <td>0.0</td>\n",
       "      <td>0.0</td>\n",
       "      <td>0.0</td>\n",
       "      <td>...</td>\n",
       "      <td>68.0</td>\n",
       "      <td>63.0</td>\n",
       "      <td>119.0</td>\n",
       "      <td>108.0</td>\n",
       "      <td>26.000000</td>\n",
       "      <td>18.000000</td>\n",
       "      <td>100.0</td>\n",
       "      <td>74.0</td>\n",
       "      <td>131.0</td>\n",
       "      <td>115.0</td>\n",
       "    </tr>\n",
       "    <tr>\n",
       "      <th>1</th>\n",
       "      <td>0.0</td>\n",
       "      <td>admit</td>\n",
       "      <td>Med-Surg ICU</td>\n",
       "      <td>0.927778</td>\n",
       "      <td>0.0</td>\n",
       "      <td>0.0</td>\n",
       "      <td>0.0</td>\n",
       "      <td>1.0</td>\n",
       "      <td>0.0</td>\n",
       "      <td>0.0</td>\n",
       "      <td>...</td>\n",
       "      <td>61.0</td>\n",
       "      <td>48.0</td>\n",
       "      <td>114.0</td>\n",
       "      <td>100.0</td>\n",
       "      <td>31.000000</td>\n",
       "      <td>28.000000</td>\n",
       "      <td>95.0</td>\n",
       "      <td>70.0</td>\n",
       "      <td>95.0</td>\n",
       "      <td>71.0</td>\n",
       "    </tr>\n",
       "    <tr>\n",
       "      <th>2</th>\n",
       "      <td>0.0</td>\n",
       "      <td>admit</td>\n",
       "      <td>Med-Surg ICU</td>\n",
       "      <td>0.000694</td>\n",
       "      <td>0.0</td>\n",
       "      <td>0.0</td>\n",
       "      <td>0.0</td>\n",
       "      <td>0.0</td>\n",
       "      <td>0.0</td>\n",
       "      <td>0.0</td>\n",
       "      <td>...</td>\n",
       "      <td>88.0</td>\n",
       "      <td>58.0</td>\n",
       "      <td>96.0</td>\n",
       "      <td>78.0</td>\n",
       "      <td>20.000000</td>\n",
       "      <td>16.000000</td>\n",
       "      <td>98.0</td>\n",
       "      <td>91.0</td>\n",
       "      <td>148.0</td>\n",
       "      <td>124.0</td>\n",
       "    </tr>\n",
       "    <tr>\n",
       "      <th>3</th>\n",
       "      <td>1.0</td>\n",
       "      <td>admit</td>\n",
       "      <td>CTICU</td>\n",
       "      <td>0.000694</td>\n",
       "      <td>1.0</td>\n",
       "      <td>0.0</td>\n",
       "      <td>1.0</td>\n",
       "      <td>1.0</td>\n",
       "      <td>0.0</td>\n",
       "      <td>0.0</td>\n",
       "      <td>...</td>\n",
       "      <td>62.0</td>\n",
       "      <td>44.0</td>\n",
       "      <td>100.0</td>\n",
       "      <td>96.0</td>\n",
       "      <td>12.000000</td>\n",
       "      <td>11.000000</td>\n",
       "      <td>100.0</td>\n",
       "      <td>99.0</td>\n",
       "      <td>136.0</td>\n",
       "      <td>106.0</td>\n",
       "    </tr>\n",
       "    <tr>\n",
       "      <th>4</th>\n",
       "      <td>0.0</td>\n",
       "      <td>admit</td>\n",
       "      <td>Med-Surg ICU</td>\n",
       "      <td>0.073611</td>\n",
       "      <td>0.0</td>\n",
       "      <td>0.0</td>\n",
       "      <td>0.0</td>\n",
       "      <td>0.0</td>\n",
       "      <td>0.0</td>\n",
       "      <td>0.0</td>\n",
       "      <td>...</td>\n",
       "      <td>99.0</td>\n",
       "      <td>68.0</td>\n",
       "      <td>89.0</td>\n",
       "      <td>76.0</td>\n",
       "      <td>19.811236</td>\n",
       "      <td>16.341879</td>\n",
       "      <td>100.0</td>\n",
       "      <td>100.0</td>\n",
       "      <td>130.0</td>\n",
       "      <td>120.0</td>\n",
       "    </tr>\n",
       "    <tr>\n",
       "      <th>...</th>\n",
       "      <td>...</td>\n",
       "      <td>...</td>\n",
       "      <td>...</td>\n",
       "      <td>...</td>\n",
       "      <td>...</td>\n",
       "      <td>...</td>\n",
       "      <td>...</td>\n",
       "      <td>...</td>\n",
       "      <td>...</td>\n",
       "      <td>...</td>\n",
       "      <td>...</td>\n",
       "      <td>...</td>\n",
       "      <td>...</td>\n",
       "      <td>...</td>\n",
       "      <td>...</td>\n",
       "      <td>...</td>\n",
       "      <td>...</td>\n",
       "      <td>...</td>\n",
       "      <td>...</td>\n",
       "      <td>...</td>\n",
       "      <td>...</td>\n",
       "    </tr>\n",
       "    <tr>\n",
       "      <th>130152</th>\n",
       "      <td>0.0</td>\n",
       "      <td>admit</td>\n",
       "      <td>Cardiac ICU</td>\n",
       "      <td>0.023611</td>\n",
       "      <td>0.0</td>\n",
       "      <td>0.0</td>\n",
       "      <td>0.0</td>\n",
       "      <td>0.0</td>\n",
       "      <td>0.0</td>\n",
       "      <td>0.0</td>\n",
       "      <td>...</td>\n",
       "      <td>102.0</td>\n",
       "      <td>82.0</td>\n",
       "      <td>101.0</td>\n",
       "      <td>89.0</td>\n",
       "      <td>40.000000</td>\n",
       "      <td>22.000000</td>\n",
       "      <td>97.0</td>\n",
       "      <td>88.0</td>\n",
       "      <td>161.0</td>\n",
       "      <td>134.0</td>\n",
       "    </tr>\n",
       "    <tr>\n",
       "      <th>130153</th>\n",
       "      <td>0.0</td>\n",
       "      <td>admit</td>\n",
       "      <td>MICU</td>\n",
       "      <td>0.009722</td>\n",
       "      <td>0.0</td>\n",
       "      <td>0.0</td>\n",
       "      <td>0.0</td>\n",
       "      <td>0.0</td>\n",
       "      <td>0.0</td>\n",
       "      <td>0.0</td>\n",
       "      <td>...</td>\n",
       "      <td>83.0</td>\n",
       "      <td>81.0</td>\n",
       "      <td>96.0</td>\n",
       "      <td>94.0</td>\n",
       "      <td>28.000000</td>\n",
       "      <td>25.000000</td>\n",
       "      <td>97.0</td>\n",
       "      <td>92.0</td>\n",
       "      <td>147.0</td>\n",
       "      <td>139.0</td>\n",
       "    </tr>\n",
       "    <tr>\n",
       "      <th>130154</th>\n",
       "      <td>0.0</td>\n",
       "      <td>admit</td>\n",
       "      <td>Cardiac ICU</td>\n",
       "      <td>0.143056</td>\n",
       "      <td>0.0</td>\n",
       "      <td>0.0</td>\n",
       "      <td>1.0</td>\n",
       "      <td>1.0</td>\n",
       "      <td>0.0</td>\n",
       "      <td>0.0</td>\n",
       "      <td>...</td>\n",
       "      <td>70.0</td>\n",
       "      <td>70.0</td>\n",
       "      <td>101.0</td>\n",
       "      <td>92.0</td>\n",
       "      <td>24.000000</td>\n",
       "      <td>24.000000</td>\n",
       "      <td>100.0</td>\n",
       "      <td>100.0</td>\n",
       "      <td>134.0</td>\n",
       "      <td>134.0</td>\n",
       "    </tr>\n",
       "    <tr>\n",
       "      <th>130155</th>\n",
       "      <td>0.0</td>\n",
       "      <td>admit</td>\n",
       "      <td>Med-Surg ICU</td>\n",
       "      <td>0.188194</td>\n",
       "      <td>0.0</td>\n",
       "      <td>0.0</td>\n",
       "      <td>0.0</td>\n",
       "      <td>0.0</td>\n",
       "      <td>0.0</td>\n",
       "      <td>0.0</td>\n",
       "      <td>...</td>\n",
       "      <td>65.0</td>\n",
       "      <td>47.0</td>\n",
       "      <td>85.0</td>\n",
       "      <td>70.0</td>\n",
       "      <td>28.000000</td>\n",
       "      <td>8.000000</td>\n",
       "      <td>98.0</td>\n",
       "      <td>97.0</td>\n",
       "      <td>128.0</td>\n",
       "      <td>70.0</td>\n",
       "    </tr>\n",
       "    <tr>\n",
       "      <th>130156</th>\n",
       "      <td>0.0</td>\n",
       "      <td>admit</td>\n",
       "      <td>MICU</td>\n",
       "      <td>0.075000</td>\n",
       "      <td>0.0</td>\n",
       "      <td>0.0</td>\n",
       "      <td>0.0</td>\n",
       "      <td>0.0</td>\n",
       "      <td>0.0</td>\n",
       "      <td>0.0</td>\n",
       "      <td>...</td>\n",
       "      <td>86.0</td>\n",
       "      <td>83.0</td>\n",
       "      <td>97.0</td>\n",
       "      <td>89.0</td>\n",
       "      <td>35.000000</td>\n",
       "      <td>25.000000</td>\n",
       "      <td>100.0</td>\n",
       "      <td>99.0</td>\n",
       "      <td>143.0</td>\n",
       "      <td>127.0</td>\n",
       "    </tr>\n",
       "  </tbody>\n",
       "</table>\n",
       "<p>130157 rows × 61 columns</p>\n",
       "</div>"
      ],
      "text/plain": [
       "        elective_surgery icu_stay_type      icu_type  pre_icu_los_days  \\\n",
       "0                    0.0         admit         CTICU          0.541667   \n",
       "1                    0.0         admit  Med-Surg ICU          0.927778   \n",
       "2                    0.0         admit  Med-Surg ICU          0.000694   \n",
       "3                    1.0         admit         CTICU          0.000694   \n",
       "4                    0.0         admit  Med-Surg ICU          0.073611   \n",
       "...                  ...           ...           ...               ...   \n",
       "130152               0.0         admit   Cardiac ICU          0.023611   \n",
       "130153               0.0         admit          MICU          0.009722   \n",
       "130154               0.0         admit   Cardiac ICU          0.143056   \n",
       "130155               0.0         admit  Med-Surg ICU          0.188194   \n",
       "130156               0.0         admit          MICU          0.075000   \n",
       "\n",
       "        apache_post_operative  arf_apache  intubated_apache  \\\n",
       "0                         0.0         0.0               0.0   \n",
       "1                         0.0         0.0               0.0   \n",
       "2                         0.0         0.0               0.0   \n",
       "3                         1.0         0.0               1.0   \n",
       "4                         0.0         0.0               0.0   \n",
       "...                       ...         ...               ...   \n",
       "130152                    0.0         0.0               0.0   \n",
       "130153                    0.0         0.0               0.0   \n",
       "130154                    0.0         0.0               1.0   \n",
       "130155                    0.0         0.0               0.0   \n",
       "130156                    0.0         0.0               0.0   \n",
       "\n",
       "        ventilated_apache  aids  cirrhosis  ...  h1_diasbp_max  h1_diasbp_min  \\\n",
       "0                     0.0   0.0        0.0  ...           68.0           63.0   \n",
       "1                     1.0   0.0        0.0  ...           61.0           48.0   \n",
       "2                     0.0   0.0        0.0  ...           88.0           58.0   \n",
       "3                     1.0   0.0        0.0  ...           62.0           44.0   \n",
       "4                     0.0   0.0        0.0  ...           99.0           68.0   \n",
       "...                   ...   ...        ...  ...            ...            ...   \n",
       "130152                0.0   0.0        0.0  ...          102.0           82.0   \n",
       "130153                0.0   0.0        0.0  ...           83.0           81.0   \n",
       "130154                1.0   0.0        0.0  ...           70.0           70.0   \n",
       "130155                0.0   0.0        0.0  ...           65.0           47.0   \n",
       "130156                0.0   0.0        0.0  ...           86.0           83.0   \n",
       "\n",
       "        h1_heartrate_max  h1_heartrate_min  h1_resprate_max  h1_resprate_min  \\\n",
       "0                  119.0             108.0        26.000000        18.000000   \n",
       "1                  114.0             100.0        31.000000        28.000000   \n",
       "2                   96.0              78.0        20.000000        16.000000   \n",
       "3                  100.0              96.0        12.000000        11.000000   \n",
       "4                   89.0              76.0        19.811236        16.341879   \n",
       "...                  ...               ...              ...              ...   \n",
       "130152             101.0              89.0        40.000000        22.000000   \n",
       "130153              96.0              94.0        28.000000        25.000000   \n",
       "130154             101.0              92.0        24.000000        24.000000   \n",
       "130155              85.0              70.0        28.000000         8.000000   \n",
       "130156              97.0              89.0        35.000000        25.000000   \n",
       "\n",
       "        h1_spo2_max h1_spo2_min h1_sysbp_max  h1_sysbp_min  \n",
       "0             100.0        74.0        131.0         115.0  \n",
       "1              95.0        70.0         95.0          71.0  \n",
       "2              98.0        91.0        148.0         124.0  \n",
       "3             100.0        99.0        136.0         106.0  \n",
       "4             100.0       100.0        130.0         120.0  \n",
       "...             ...         ...          ...           ...  \n",
       "130152         97.0        88.0        161.0         134.0  \n",
       "130153         97.0        92.0        147.0         139.0  \n",
       "130154        100.0       100.0        134.0         134.0  \n",
       "130155         98.0        97.0        128.0          70.0  \n",
       "130156        100.0        99.0        143.0         127.0  \n",
       "\n",
       "[130157 rows x 61 columns]"
      ]
     },
     "execution_count": 29,
     "metadata": {},
     "output_type": "execute_result"
    }
   ],
   "source": [
    "df_5"
   ]
  },
  {
   "cell_type": "code",
   "execution_count": 30,
   "metadata": {
    "execution": {
     "iopub.execute_input": "2021-02-09T07:07:42.487779Z",
     "iopub.status.busy": "2021-02-09T07:07:42.486815Z",
     "iopub.status.idle": "2021-02-09T07:07:42.630483Z",
     "shell.execute_reply": "2021-02-09T07:07:42.631008Z"
    },
    "papermill": {
     "duration": 0.206411,
     "end_time": "2021-02-09T07:07:42.631193",
     "exception": false,
     "start_time": "2021-02-09T07:07:42.424782",
     "status": "completed"
    },
    "tags": []
   },
   "outputs": [
    {
     "name": "stdout",
     "output_type": "stream",
     "text": [
      "                   count\n",
      "ethnicity               \n",
      "African American   13911\n",
      "Asian               2198\n",
      "Caucasian         101823\n",
      "Hispanic            5049\n",
      "Native American      915\n",
      "Other/Unknown       6261\n",
      "        count\n",
      "gender       \n",
      "F       59573\n",
      "M       70584\n",
      "                           count\n",
      "icu_admit_source                \n",
      "Accident & Emergency       77086\n",
      "Floor                      21459\n",
      "Operating Room / Recovery  27436\n",
      "Other Hospital              3464\n",
      "Other ICU                    712\n",
      "                count\n",
      "icu_stay_type        \n",
      "admit          124741\n",
      "readmit           615\n",
      "transfer         4801\n",
      "              count\n",
      "icu_type           \n",
      "CCU-CTICU     11220\n",
      "CSICU          4981\n",
      "CTICU          4477\n",
      "Cardiac ICU    8276\n",
      "MICU          10944\n",
      "Med-Surg ICU  71468\n",
      "Neuro ICU     10533\n",
      "SICU           8258\n"
     ]
    }
   ],
   "source": [
    "printDFGroups(df_5, obj_cols_5)"
   ]
  },
  {
   "cell_type": "code",
   "execution_count": 31,
   "metadata": {
    "execution": {
     "iopub.execute_input": "2021-02-09T07:07:42.739594Z",
     "iopub.status.busy": "2021-02-09T07:07:42.738284Z",
     "iopub.status.idle": "2021-02-09T07:07:42.904487Z",
     "shell.execute_reply": "2021-02-09T07:07:42.905016Z"
    },
    "papermill": {
     "duration": 0.223628,
     "end_time": "2021-02-09T07:07:42.905211",
     "exception": false,
     "start_time": "2021-02-09T07:07:42.681583",
     "status": "completed"
    },
    "tags": []
   },
   "outputs": [
    {
     "name": "stdout",
     "output_type": "stream",
     "text": [
      "Shape: (130157, 75); Null values: 0\n",
      "Columns: Index(['elective_surgery', 'pre_icu_los_days', 'apache_post_operative',\n",
      "       'arf_apache', 'intubated_apache', 'ventilated_apache', 'aids',\n",
      "       'cirrhosis', 'hepatic_failure', 'immunosuppression', 'leukemia',\n",
      "       'lymphoma', 'solid_tumor_with_metastasis', 'age', 'bmi', 'height',\n",
      "       'weight', 'apache_2_diagnosis', 'apache_3j_diagnosis',\n",
      "       'gcs_eyes_apache', 'gcs_motor_apache', 'gcs_unable_apache',\n",
      "       'gcs_verbal_apache', 'heart_rate_apache', 'map_apache',\n",
      "       'resprate_apache', 'd1_diasbp_max', 'd1_diasbp_min',\n",
      "       'd1_diasbp_noninvasive_max', 'd1_diasbp_noninvasive_min',\n",
      "       'd1_heartrate_max', 'd1_heartrate_min', 'd1_mbp_max', 'd1_mbp_min',\n",
      "       'd1_mbp_noninvasive_max', 'd1_mbp_noninvasive_min', 'd1_resprate_max',\n",
      "       'd1_resprate_min', 'd1_spo2_max', 'd1_spo2_min', 'd1_sysbp_max',\n",
      "       'd1_sysbp_min', 'd1_sysbp_noninvasive_max', 'd1_sysbp_noninvasive_min',\n",
      "       'd1_temp_max', 'd1_temp_min', 'h1_diasbp_max', 'h1_diasbp_min',\n",
      "       'h1_heartrate_max', 'h1_heartrate_min', 'h1_resprate_max',\n",
      "       'h1_resprate_min', 'h1_spo2_max', 'h1_spo2_min', 'h1_sysbp_max',\n",
      "       'h1_sysbp_min', 'ethnicity_readmit', 'ethnicity_transfer',\n",
      "       'gender_CSICU', 'gender_CTICU', 'gender_Cardiac ICU', 'gender_MICU',\n",
      "       'gender_Med-Surg ICU', 'gender_Neuro ICU', 'gender_SICU',\n",
      "       'icu_admit_source_Asian', 'icu_admit_source_Caucasian',\n",
      "       'icu_admit_source_Hispanic', 'icu_admit_source_Native American',\n",
      "       'icu_admit_source_Other/Unknown', 'icu_stay_type_M', 'icu_type_Floor',\n",
      "       'icu_type_Operating Room / Recovery', 'icu_type_Other Hospital',\n",
      "       'icu_type_Other ICU'],\n",
      "      dtype='object') \n",
      "Columns of object type: Index([], dtype='object')\n"
     ]
    }
   ],
   "source": [
    "df_5_m = pd.get_dummies(df_5, prefix = obj_cols_5, drop_first=True)\n",
    "printDFDetails(df_5_m)"
   ]
  },
  {
   "cell_type": "code",
   "execution_count": 32,
   "metadata": {
    "execution": {
     "iopub.execute_input": "2021-02-09T07:07:43.015215Z",
     "iopub.status.busy": "2021-02-09T07:07:43.011668Z",
     "iopub.status.idle": "2021-02-09T07:08:46.891955Z",
     "shell.execute_reply": "2021-02-09T07:08:46.892456Z"
    },
    "papermill": {
     "duration": 63.937356,
     "end_time": "2021-02-09T07:08:46.892651",
     "exception": false,
     "start_time": "2021-02-09T07:07:42.955295",
     "status": "completed"
    },
    "tags": []
   },
   "outputs": [
    {
     "name": "stdout",
     "output_type": "stream",
     "text": [
      "[07:07:43] WARNING: ../src/learner.cc:1061: Starting in XGBoost 1.3.0, the default evaluation metric used with the objective 'binary:logistic' was changed from 'error' to 'logloss'. Explicitly set eval_metric if you'd like to restore the old behavior.\n",
      "train auc 0.7040192098262239\n",
      "test auc 0.583945048622284\n",
      "Time taken: 0:01:03.826285\n"
     ]
    }
   ],
   "source": [
    "compute_roc_auc(train_test_split, df_5_m, target)"
   ]
  },
  {
   "cell_type": "markdown",
   "metadata": {
    "papermill": {
     "duration": 0.051511,
     "end_time": "2021-02-09T07:08:46.996107",
     "exception": false,
     "start_time": "2021-02-09T07:08:46.944596",
     "status": "completed"
    },
    "tags": []
   },
   "source": [
    "## df_5: Select columns which have missing data <= 5% - KNN Imputer\n",
    "**Imputation strategy:**\n",
    "- Categorical variables: Encode Labels, KNN Imputer, Decode Labels, Convert to Dummy\n",
    "- Continuous variables: KNN Imputer\n",
    "Train the model"
   ]
  },
  {
   "cell_type": "code",
   "execution_count": 33,
   "metadata": {
    "execution": {
     "iopub.execute_input": "2021-02-09T07:08:47.104291Z",
     "iopub.status.busy": "2021-02-09T07:08:47.103404Z",
     "iopub.status.idle": "2021-02-09T07:08:47.106663Z",
     "shell.execute_reply": "2021-02-09T07:08:47.106117Z"
    },
    "papermill": {
     "duration": 0.059281,
     "end_time": "2021-02-09T07:08:47.106814",
     "exception": false,
     "start_time": "2021-02-09T07:08:47.047533",
     "status": "completed"
    },
    "tags": []
   },
   "outputs": [],
   "source": [
    "obj_cols_missing_5 = ['ethnicity','gender','icu_admit_source']\n",
    "obj_cols_5 = obj_cols_missing_5 + ['icu_stay_type', 'icu_type']"
   ]
  },
  {
   "cell_type": "code",
   "execution_count": 34,
   "metadata": {
    "execution": {
     "iopub.execute_input": "2021-02-09T07:08:47.212391Z",
     "iopub.status.busy": "2021-02-09T07:08:47.211753Z",
     "iopub.status.idle": "2021-02-09T07:08:48.140007Z",
     "shell.execute_reply": "2021-02-09T07:08:48.139456Z"
    },
    "papermill": {
     "duration": 0.982134,
     "end_time": "2021-02-09T07:08:48.140168",
     "exception": false,
     "start_time": "2021-02-09T07:08:47.158034",
     "status": "completed"
    },
    "tags": []
   },
   "outputs": [
    {
     "name": "stdout",
     "output_type": "stream",
     "text": [
      "Features with missing data <= 5% 46\n",
      "Shape: (130157, 61); Null values: 108575\n",
      "Columns: Index(['elective_surgery', 'icu_stay_type', 'icu_type', 'pre_icu_los_days',\n",
      "       'apache_post_operative', 'arf_apache', 'intubated_apache',\n",
      "       'ventilated_apache', 'aids', 'cirrhosis', 'hepatic_failure',\n",
      "       'immunosuppression', 'leukemia', 'lymphoma',\n",
      "       'solid_tumor_with_metastasis', 'age', 'bmi', 'ethnicity', 'gender',\n",
      "       'height', 'icu_admit_source', 'weight', 'apache_2_diagnosis',\n",
      "       'apache_3j_diagnosis', 'gcs_eyes_apache', 'gcs_motor_apache',\n",
      "       'gcs_unable_apache', 'gcs_verbal_apache', 'heart_rate_apache',\n",
      "       'map_apache', 'resprate_apache', 'd1_diasbp_max', 'd1_diasbp_min',\n",
      "       'd1_diasbp_noninvasive_max', 'd1_diasbp_noninvasive_min',\n",
      "       'd1_heartrate_max', 'd1_heartrate_min', 'd1_mbp_max', 'd1_mbp_min',\n",
      "       'd1_mbp_noninvasive_max', 'd1_mbp_noninvasive_min', 'd1_resprate_max',\n",
      "       'd1_resprate_min', 'd1_spo2_max', 'd1_spo2_min', 'd1_sysbp_max',\n",
      "       'd1_sysbp_min', 'd1_sysbp_noninvasive_max', 'd1_sysbp_noninvasive_min',\n",
      "       'd1_temp_max', 'd1_temp_min', 'h1_diasbp_max', 'h1_diasbp_min',\n",
      "       'h1_heartrate_max', 'h1_heartrate_min', 'h1_resprate_max',\n",
      "       'h1_resprate_min', 'h1_spo2_max', 'h1_spo2_min', 'h1_sysbp_max',\n",
      "       'h1_sysbp_min'],\n",
      "      dtype='object') \n",
      "Columns of object type: Index(['icu_stay_type', 'icu_type', 'ethnicity', 'gender', 'icu_admit_source'], dtype='object')\n",
      "ethnicity Before LE: ['Caucasian' nan 'Hispanic' 'African American' 'Asian' 'Native American'\n",
      " 'Other/Unknown']\n",
      "1587 ['Caucasian' nan 'Hispanic' 'African American' 'Asian' 'Native American'\n",
      " 'Other/Unknown']\n",
      "ethnicity After LE: [ 2. nan  3.  0.  1.  4.  5.]\n",
      "\n",
      "gender Before LE: ['M' 'F' nan]\n",
      "66 ['M' 'F' nan]\n",
      "gender After LE: [ 1.  0. nan]\n",
      "\n",
      "icu_admit_source Before LE: ['Floor' 'Accident & Emergency' 'Operating Room / Recovery'\n",
      " 'Other Hospital' 'Other ICU' nan]\n",
      "240 ['Floor' 'Accident & Emergency' 'Operating Room / Recovery'\n",
      " 'Other Hospital' 'Other ICU' nan]\n",
      "icu_admit_source After LE: [ 1.  0.  2.  3.  4. nan]\n",
      "\n",
      "icu_stay_type Before LE: ['admit' 'readmit' 'transfer']\n",
      "0 ['admit' 'readmit' 'transfer']\n",
      "icu_stay_type After LE: [0 1 2]\n",
      "\n",
      "icu_type Before LE: ['CTICU' 'Med-Surg ICU' 'CCU-CTICU' 'Neuro ICU' 'MICU' 'SICU'\n",
      " 'Cardiac ICU' 'CSICU']\n",
      "0 ['CTICU' 'Med-Surg ICU' 'CCU-CTICU' 'Neuro ICU' 'MICU' 'SICU'\n",
      " 'Cardiac ICU' 'CSICU']\n",
      "icu_type After LE: [2 5 0 6 4 7 3 1]\n",
      "\n",
      "            count\n",
      "ethnicity        \n",
      "0.0         13911\n",
      "1.0          2198\n",
      "2.0        100236\n",
      "3.0          5049\n",
      "4.0           915\n",
      "5.0          6261\n",
      "        count\n",
      "gender       \n",
      "0.0     59573\n",
      "1.0     70518\n",
      "                  count\n",
      "icu_admit_source       \n",
      "0.0               76846\n",
      "1.0               21459\n",
      "2.0               27436\n",
      "3.0                3464\n",
      "4.0                 712\n",
      "                count\n",
      "icu_stay_type        \n",
      "0              124741\n",
      "1                 615\n",
      "2                4801\n",
      "          count\n",
      "icu_type       \n",
      "0         11220\n",
      "1          4981\n",
      "2          4477\n",
      "3          8276\n",
      "4         10944\n",
      "5         71468\n",
      "6         10533\n",
      "7          8258\n"
     ]
    }
   ],
   "source": [
    "cols_5 = missing_df[missing_df['Missing Ratio']<5]['Feature'] # get names of columns with less than 5% missing values\n",
    "print(\"Features with missing data <= 5%\", len(cols_5))\n",
    "df_5_knn = pd.concat([df_non_null, df[cols_5]], axis=1) # concatenate new table with existing non-null values table\n",
    "printDFDetails(df_5_knn)\n",
    "def labelEncode(df, col):\n",
    "    df[col] = df[col].fillna(np.nan) \n",
    "    print(df[col].isnull().sum(), f\"{df[col].unique()}\")\n",
    "    df_original = df[col]\n",
    "    df_mask = df[col].isnull()\n",
    "    #print(df_mask.sum())\n",
    "\n",
    "    #df[col] = df[[col]].apply(LabelEncoder().fit_transform)\n",
    "    df[col] = df[col].astype('str')\n",
    "    le = LabelEncoder()\n",
    "    le.fit(df[col])\n",
    "    df[col] = le.transform(df[col])\n",
    "\n",
    "    df[col] = df[col].where(~df_mask)#, df_original)\n",
    "    #df[col] = df[col].apply(lambda x: int(x) if not pd.isnull(x) else np.nan)\n",
    "    #df[col] = df[col].astype('int')\n",
    "    #print(df[col].isnull().sum(), f\"{df[col].unique()}\")\n",
    "    return df, le\n",
    "\n",
    "encoders_knn = {}\n",
    "for col in obj_cols_5:\n",
    "    print(f\"{col} Before LE: {df_5_knn[col].unique()}\")\n",
    "    \n",
    "    df_5_knn, le = labelEncode(df_5_knn, col)\n",
    "    encoders_knn[col] = le\n",
    "    print(f\"{col} After LE: {df_5_knn[col].unique()}\")\n",
    "    print()\n",
    "\n",
    "printDFGroups(df_5_knn, obj_cols_5)\n",
    "data = df_5_knn.values\n",
    "ix = [i for i in range(data.shape[1])]\n",
    "X = data[:, ix]"
   ]
  },
  {
   "cell_type": "code",
   "execution_count": 35,
   "metadata": {
    "execution": {
     "iopub.execute_input": "2021-02-09T07:08:48.250645Z",
     "iopub.status.busy": "2021-02-09T07:08:48.249995Z",
     "iopub.status.idle": "2021-02-09T07:08:48.253976Z",
     "shell.execute_reply": "2021-02-09T07:08:48.253374Z"
    },
    "papermill": {
     "duration": 0.061425,
     "end_time": "2021-02-09T07:08:48.254123",
     "exception": false,
     "start_time": "2021-02-09T07:08:48.192698",
     "status": "completed"
    },
    "tags": []
   },
   "outputs": [
    {
     "data": {
      "text/plain": [
       "(130157, 61)"
      ]
     },
     "execution_count": 35,
     "metadata": {},
     "output_type": "execute_result"
    }
   ],
   "source": [
    "X.shape"
   ]
  },
  {
   "cell_type": "code",
   "execution_count": 36,
   "metadata": {
    "execution": {
     "iopub.execute_input": "2021-02-09T07:08:48.366109Z",
     "iopub.status.busy": "2021-02-09T07:08:48.365440Z",
     "iopub.status.idle": "2021-02-09T07:45:28.685203Z",
     "shell.execute_reply": "2021-02-09T07:45:28.686141Z"
    },
    "papermill": {
     "duration": 2200.379489,
     "end_time": "2021-02-09T07:45:28.686656",
     "exception": false,
     "start_time": "2021-02-09T07:08:48.307167",
     "status": "completed"
    },
    "tags": []
   },
   "outputs": [
    {
     "name": "stdout",
     "output_type": "stream",
     "text": [
      "KNN Imputer 0:36:40.254783 sec\n"
     ]
    }
   ],
   "source": [
    "from sklearn.impute import KNNImputer\n",
    "knn_imputer = KNNImputer(n_neighbors=2, weights=\"uniform\")\n",
    "tic = datetime.now()\n",
    "np_5_knn = knn_imputer.fit_transform(X)\n",
    "toc = datetime.now()\n",
    "print(f\"KNN Imputer {toc-tic} sec\")"
   ]
  },
  {
   "cell_type": "code",
   "execution_count": 37,
   "metadata": {
    "execution": {
     "iopub.execute_input": "2021-02-09T07:45:28.803229Z",
     "iopub.status.busy": "2021-02-09T07:45:28.802478Z",
     "iopub.status.idle": "2021-02-09T07:45:28.808091Z",
     "shell.execute_reply": "2021-02-09T07:45:28.808646Z"
    },
    "papermill": {
     "duration": 0.064608,
     "end_time": "2021-02-09T07:45:28.808843",
     "exception": false,
     "start_time": "2021-02-09T07:45:28.744235",
     "status": "completed"
    },
    "tags": []
   },
   "outputs": [
    {
     "data": {
      "text/plain": [
       "61"
      ]
     },
     "execution_count": 37,
     "metadata": {},
     "output_type": "execute_result"
    }
   ],
   "source": [
    "len(df_5.columns)"
   ]
  },
  {
   "cell_type": "code",
   "execution_count": 38,
   "metadata": {
    "execution": {
     "iopub.execute_input": "2021-02-09T07:45:28.923353Z",
     "iopub.status.busy": "2021-02-09T07:45:28.922598Z",
     "iopub.status.idle": "2021-02-09T07:45:28.953392Z",
     "shell.execute_reply": "2021-02-09T07:45:28.952621Z"
    },
    "papermill": {
     "duration": 0.089601,
     "end_time": "2021-02-09T07:45:28.953901",
     "exception": false,
     "start_time": "2021-02-09T07:45:28.864300",
     "status": "completed"
    },
    "tags": []
   },
   "outputs": [
    {
     "name": "stdout",
     "output_type": "stream",
     "text": [
      "(130157, 61) 0 Index([], dtype='object') Index(['elective_surgery', 'icu_stay_type', 'icu_type', 'pre_icu_los_days',\n",
      "       'apache_post_operative', 'arf_apache', 'intubated_apache',\n",
      "       'ventilated_apache', 'aids', 'cirrhosis', 'hepatic_failure',\n",
      "       'immunosuppression', 'leukemia', 'lymphoma',\n",
      "       'solid_tumor_with_metastasis', 'age', 'bmi', 'ethnicity', 'gender',\n",
      "       'height', 'icu_admit_source', 'weight', 'apache_2_diagnosis',\n",
      "       'apache_3j_diagnosis', 'gcs_eyes_apache', 'gcs_motor_apache',\n",
      "       'gcs_unable_apache', 'gcs_verbal_apache', 'heart_rate_apache',\n",
      "       'map_apache', 'resprate_apache', 'd1_diasbp_max', 'd1_diasbp_min',\n",
      "       'd1_diasbp_noninvasive_max', 'd1_diasbp_noninvasive_min',\n",
      "       'd1_heartrate_max', 'd1_heartrate_min', 'd1_mbp_max', 'd1_mbp_min',\n",
      "       'd1_mbp_noninvasive_max', 'd1_mbp_noninvasive_min', 'd1_resprate_max',\n",
      "       'd1_resprate_min', 'd1_spo2_max', 'd1_spo2_min', 'd1_sysbp_max',\n",
      "       'd1_sysbp_min', 'd1_sysbp_noninvasive_max', 'd1_sysbp_noninvasive_min',\n",
      "       'd1_temp_max', 'd1_temp_min', 'h1_diasbp_max', 'h1_diasbp_min',\n",
      "       'h1_heartrate_max', 'h1_heartrate_min', 'h1_resprate_max',\n",
      "       'h1_resprate_min', 'h1_spo2_max', 'h1_spo2_min', 'h1_sysbp_max',\n",
      "       'h1_sysbp_min'],\n",
      "      dtype='object')\n"
     ]
    }
   ],
   "source": [
    "df_5_knn = pd.DataFrame(np_5_knn, columns = df_5.columns)\n",
    "print(df_5_knn.shape, df_5_knn.isna().sum().sum(), df_5_knn.select_dtypes('object').columns, df_5_knn.columns)"
   ]
  },
  {
   "cell_type": "code",
   "execution_count": 39,
   "metadata": {
    "execution": {
     "iopub.execute_input": "2021-02-09T07:45:29.071785Z",
     "iopub.status.busy": "2021-02-09T07:45:29.071084Z",
     "iopub.status.idle": "2021-02-09T07:45:29.219537Z",
     "shell.execute_reply": "2021-02-09T07:45:29.218848Z"
    },
    "papermill": {
     "duration": 0.209619,
     "end_time": "2021-02-09T07:45:29.219682",
     "exception": false,
     "start_time": "2021-02-09T07:45:29.010063",
     "status": "completed"
    },
    "tags": []
   },
   "outputs": [
    {
     "name": "stdout",
     "output_type": "stream",
     "text": [
      "            count\n",
      "ethnicity        \n",
      "0           14148\n",
      "1            3248\n",
      "2          100482\n",
      "3            5103\n",
      "4             915\n",
      "5            6261\n",
      "        count\n",
      "gender       \n",
      "0       59627\n",
      "1       70530\n",
      "                  count\n",
      "icu_admit_source       \n",
      "0                 77003\n",
      "1                 21540\n",
      "2                 27438\n",
      "3                  3464\n",
      "4                   712\n",
      "                count\n",
      "icu_stay_type        \n",
      "0              124741\n",
      "1                 615\n",
      "2                4801\n",
      "          count\n",
      "icu_type       \n",
      "0         11220\n",
      "1          4981\n",
      "2          4477\n",
      "3          8276\n",
      "4         10944\n",
      "5         71468\n",
      "6         10533\n",
      "7          8258\n",
      "   ethnicity  gender  icu_admit_source  icu_stay_type  icu_type\n",
      "0          2       1                 1              0         2\n",
      "1          2       0                 1              0         5\n",
      "2          2       0                 0              0         5\n",
      "3          2       0                 2              0         2\n",
      "4          2       1                 0              0         5\n",
      "5          2       1                 0              0         5\n",
      "6          2       0                 0              0         5\n",
      "7          2       1                 0              0         5\n",
      "8          2       1                 3              0         0\n",
      "9          2       1                 0              0         0\n"
     ]
    }
   ],
   "source": [
    "for col in obj_cols_5:\n",
    "    df_5_knn[col] = df_5_knn[col].astype(int)\n",
    "    print(df_5_knn.groupby(by=col)[col].agg(['count']))\n",
    "    \n",
    "print(df_5_knn[obj_cols_5][0:10])"
   ]
  },
  {
   "cell_type": "code",
   "execution_count": 40,
   "metadata": {
    "execution": {
     "iopub.execute_input": "2021-02-09T07:45:29.340114Z",
     "iopub.status.busy": "2021-02-09T07:45:29.339170Z",
     "iopub.status.idle": "2021-02-09T07:45:29.391129Z",
     "shell.execute_reply": "2021-02-09T07:45:29.390572Z"
    },
    "papermill": {
     "duration": 0.11497,
     "end_time": "2021-02-09T07:45:29.391283",
     "exception": false,
     "start_time": "2021-02-09T07:45:29.276313",
     "status": "completed"
    },
    "tags": []
   },
   "outputs": [
    {
     "name": "stdout",
     "output_type": "stream",
     "text": [
      "<class 'sklearn.preprocessing._label.LabelEncoder'>\n",
      "<class 'sklearn.preprocessing._label.LabelEncoder'>\n",
      "<class 'sklearn.preprocessing._label.LabelEncoder'>\n",
      "<class 'sklearn.preprocessing._label.LabelEncoder'>\n",
      "<class 'sklearn.preprocessing._label.LabelEncoder'>\n"
     ]
    }
   ],
   "source": [
    "for col in obj_cols_5:\n",
    "    print(type(encoders_knn[col]))\n",
    "    df_5_knn[[col]] = encoders_knn[col].inverse_transform(df_5_knn[[col]])"
   ]
  },
  {
   "cell_type": "code",
   "execution_count": 41,
   "metadata": {
    "execution": {
     "iopub.execute_input": "2021-02-09T07:45:29.518536Z",
     "iopub.status.busy": "2021-02-09T07:45:29.517774Z",
     "iopub.status.idle": "2021-02-09T07:45:29.674759Z",
     "shell.execute_reply": "2021-02-09T07:45:29.673712Z"
    },
    "papermill": {
     "duration": 0.227163,
     "end_time": "2021-02-09T07:45:29.674996",
     "exception": false,
     "start_time": "2021-02-09T07:45:29.447833",
     "status": "completed"
    },
    "tags": []
   },
   "outputs": [
    {
     "name": "stdout",
     "output_type": "stream",
     "text": [
      "                   count\n",
      "ethnicity               \n",
      "African American   14148\n",
      "Asian               3248\n",
      "Caucasian         100482\n",
      "Hispanic            5103\n",
      "Native American      915\n",
      "Other/Unknown       6261\n",
      "        count\n",
      "gender       \n",
      "F       59627\n",
      "M       70530\n",
      "                           count\n",
      "icu_admit_source                \n",
      "Accident & Emergency       77003\n",
      "Floor                      21540\n",
      "Operating Room / Recovery  27438\n",
      "Other Hospital              3464\n",
      "Other ICU                    712\n",
      "                count\n",
      "icu_stay_type        \n",
      "admit          124741\n",
      "readmit           615\n",
      "transfer         4801\n",
      "              count\n",
      "icu_type           \n",
      "CCU-CTICU     11220\n",
      "CSICU          4981\n",
      "CTICU          4477\n",
      "Cardiac ICU    8276\n",
      "MICU          10944\n",
      "Med-Surg ICU  71468\n",
      "Neuro ICU     10533\n",
      "SICU           8258\n",
      "   ethnicity gender           icu_admit_source icu_stay_type      icu_type\n",
      "0  Caucasian      M                      Floor         admit         CTICU\n",
      "1  Caucasian      F                      Floor         admit  Med-Surg ICU\n",
      "2  Caucasian      F       Accident & Emergency         admit  Med-Surg ICU\n",
      "3  Caucasian      F  Operating Room / Recovery         admit         CTICU\n",
      "4  Caucasian      M       Accident & Emergency         admit  Med-Surg ICU\n",
      "5  Caucasian      M       Accident & Emergency         admit  Med-Surg ICU\n",
      "6  Caucasian      F       Accident & Emergency         admit  Med-Surg ICU\n",
      "7  Caucasian      M       Accident & Emergency         admit  Med-Surg ICU\n",
      "8  Caucasian      M             Other Hospital         admit     CCU-CTICU\n",
      "9  Caucasian      M       Accident & Emergency         admit     CCU-CTICU\n"
     ]
    }
   ],
   "source": [
    "for col in obj_cols_5:\n",
    "    print(df_5_knn.groupby(by=col)[col].agg(['count']))\n",
    "    \n",
    "print(df_5_knn[obj_cols_5][0:10])"
   ]
  },
  {
   "cell_type": "code",
   "execution_count": 42,
   "metadata": {
    "execution": {
     "iopub.execute_input": "2021-02-09T07:45:29.797978Z",
     "iopub.status.busy": "2021-02-09T07:45:29.797292Z",
     "iopub.status.idle": "2021-02-09T07:45:29.912865Z",
     "shell.execute_reply": "2021-02-09T07:45:29.912292Z"
    },
    "papermill": {
     "duration": 0.179543,
     "end_time": "2021-02-09T07:45:29.913038",
     "exception": false,
     "start_time": "2021-02-09T07:45:29.733495",
     "status": "completed"
    },
    "tags": []
   },
   "outputs": [],
   "source": [
    "df_5_knn_new = pd.get_dummies(df_5_knn, prefix = obj_cols_5, drop_first=True)"
   ]
  },
  {
   "cell_type": "code",
   "execution_count": 43,
   "metadata": {
    "execution": {
     "iopub.execute_input": "2021-02-09T07:45:30.031489Z",
     "iopub.status.busy": "2021-02-09T07:45:30.030788Z",
     "iopub.status.idle": "2021-02-09T07:45:30.058845Z",
     "shell.execute_reply": "2021-02-09T07:45:30.059598Z"
    },
    "papermill": {
     "duration": 0.089943,
     "end_time": "2021-02-09T07:45:30.059850",
     "exception": false,
     "start_time": "2021-02-09T07:45:29.969907",
     "status": "completed"
    },
    "tags": []
   },
   "outputs": [
    {
     "name": "stdout",
     "output_type": "stream",
     "text": [
      "Shape: (130157, 75); Null values: 0\n",
      "Columns: Index(['elective_surgery', 'pre_icu_los_days', 'apache_post_operative',\n",
      "       'arf_apache', 'intubated_apache', 'ventilated_apache', 'aids',\n",
      "       'cirrhosis', 'hepatic_failure', 'immunosuppression', 'leukemia',\n",
      "       'lymphoma', 'solid_tumor_with_metastasis', 'age', 'bmi', 'height',\n",
      "       'weight', 'apache_2_diagnosis', 'apache_3j_diagnosis',\n",
      "       'gcs_eyes_apache', 'gcs_motor_apache', 'gcs_unable_apache',\n",
      "       'gcs_verbal_apache', 'heart_rate_apache', 'map_apache',\n",
      "       'resprate_apache', 'd1_diasbp_max', 'd1_diasbp_min',\n",
      "       'd1_diasbp_noninvasive_max', 'd1_diasbp_noninvasive_min',\n",
      "       'd1_heartrate_max', 'd1_heartrate_min', 'd1_mbp_max', 'd1_mbp_min',\n",
      "       'd1_mbp_noninvasive_max', 'd1_mbp_noninvasive_min', 'd1_resprate_max',\n",
      "       'd1_resprate_min', 'd1_spo2_max', 'd1_spo2_min', 'd1_sysbp_max',\n",
      "       'd1_sysbp_min', 'd1_sysbp_noninvasive_max', 'd1_sysbp_noninvasive_min',\n",
      "       'd1_temp_max', 'd1_temp_min', 'h1_diasbp_max', 'h1_diasbp_min',\n",
      "       'h1_heartrate_max', 'h1_heartrate_min', 'h1_resprate_max',\n",
      "       'h1_resprate_min', 'h1_spo2_max', 'h1_spo2_min', 'h1_sysbp_max',\n",
      "       'h1_sysbp_min', 'ethnicity_readmit', 'ethnicity_transfer',\n",
      "       'gender_CSICU', 'gender_CTICU', 'gender_Cardiac ICU', 'gender_MICU',\n",
      "       'gender_Med-Surg ICU', 'gender_Neuro ICU', 'gender_SICU',\n",
      "       'icu_admit_source_Asian', 'icu_admit_source_Caucasian',\n",
      "       'icu_admit_source_Hispanic', 'icu_admit_source_Native American',\n",
      "       'icu_admit_source_Other/Unknown', 'icu_stay_type_M', 'icu_type_Floor',\n",
      "       'icu_type_Operating Room / Recovery', 'icu_type_Other Hospital',\n",
      "       'icu_type_Other ICU'],\n",
      "      dtype='object') \n",
      "Columns of object type: Index([], dtype='object')\n"
     ]
    }
   ],
   "source": [
    "printDFDetails(df_5_knn_new)"
   ]
  },
  {
   "cell_type": "code",
   "execution_count": 44,
   "metadata": {
    "execution": {
     "iopub.execute_input": "2021-02-09T07:45:30.180687Z",
     "iopub.status.busy": "2021-02-09T07:45:30.180026Z",
     "iopub.status.idle": "2021-02-09T07:46:32.682944Z",
     "shell.execute_reply": "2021-02-09T07:46:32.683459Z"
    },
    "papermill": {
     "duration": 62.565672,
     "end_time": "2021-02-09T07:46:32.683633",
     "exception": false,
     "start_time": "2021-02-09T07:45:30.117961",
     "status": "completed"
    },
    "tags": []
   },
   "outputs": [
    {
     "name": "stdout",
     "output_type": "stream",
     "text": [
      "[07:45:30] WARNING: ../src/learner.cc:1061: Starting in XGBoost 1.3.0, the default evaluation metric used with the objective 'binary:logistic' was changed from 'error' to 'logloss'. Explicitly set eval_metric if you'd like to restore the old behavior.\n",
      "train auc 0.7003637122539598\n",
      "test auc 0.58571284410571\n",
      "Time taken: 0:01:02.441190\n"
     ]
    }
   ],
   "source": [
    "compute_roc_auc(train_test_split, df_5_knn_new, target)"
   ]
  },
  {
   "cell_type": "markdown",
   "metadata": {
    "papermill": {
     "duration": 0.061306,
     "end_time": "2021-02-09T07:46:32.803527",
     "exception": false,
     "start_time": "2021-02-09T07:46:32.742221",
     "status": "completed"
    },
    "tags": []
   },
   "source": [
    "# Submission"
   ]
  },
  {
   "cell_type": "code",
   "execution_count": 45,
   "metadata": {
    "execution": {
     "iopub.execute_input": "2021-02-09T07:46:32.926125Z",
     "iopub.status.busy": "2021-02-09T07:46:32.925174Z",
     "iopub.status.idle": "2021-02-09T07:46:32.928830Z",
     "shell.execute_reply": "2021-02-09T07:46:32.929322Z"
    },
    "papermill": {
     "duration": 0.066342,
     "end_time": "2021-02-09T07:46:32.929491",
     "exception": false,
     "start_time": "2021-02-09T07:46:32.863149",
     "status": "completed"
    },
    "tags": []
   },
   "outputs": [
    {
     "data": {
      "text/plain": [
       "\"\\nmy_submission = pd.DataFrame()\\nmy_submission['encounter_id'] = test_ids\\nmy_submission['diabetes_mellitus'] = test_pred\\nmy_submission.to_csv('My_submission.csv', index=False)\\n\""
      ]
     },
     "execution_count": 45,
     "metadata": {},
     "output_type": "execute_result"
    }
   ],
   "source": [
    "'''\n",
    "my_submission = pd.DataFrame()\n",
    "my_submission['encounter_id'] = test_ids\n",
    "my_submission['diabetes_mellitus'] = test_pred\n",
    "my_submission.to_csv('My_submission.csv', index=False)\n",
    "'''"
   ]
  },
  {
   "cell_type": "markdown",
   "metadata": {
    "papermill": {
     "duration": 0.058141,
     "end_time": "2021-02-09T07:46:33.105105",
     "exception": false,
     "start_time": "2021-02-09T07:46:33.046964",
     "status": "completed"
    },
    "tags": []
   },
   "source": [
    "First submission yielded auc score of 0.7048 on Kaggle Public Leaderbard which is quite close to the auc score on my internal test set."
   ]
  }
 ],
 "metadata": {
  "kernelspec": {
   "display_name": "Python 3",
   "language": "python",
   "name": "python3"
  },
  "language_info": {
   "codemirror_mode": {
    "name": "ipython",
    "version": 3
   },
   "file_extension": ".py",
   "mimetype": "text/x-python",
   "name": "python",
   "nbconvert_exporter": "python",
   "pygments_lexer": "ipython3",
   "version": "3.7.9"
  },
  "papermill": {
   "default_parameters": {},
   "duration": 2807.142099,
   "end_time": "2021-02-09T07:46:33.974523",
   "environment_variables": {},
   "exception": null,
   "input_path": "__notebook__.ipynb",
   "output_path": "__notebook__.ipynb",
   "parameters": {},
   "start_time": "2021-02-09T06:59:46.832424",
   "version": "2.2.2"
  }
 },
 "nbformat": 4,
 "nbformat_minor": 4
}